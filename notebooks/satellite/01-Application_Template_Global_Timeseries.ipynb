{
 "cells": [
  {
   "cell_type": "code",
   "execution_count": null,
   "metadata": {},
   "outputs": [],
   "source": [
    "import warnings\n",
    "\n",
    "import pandas as pd\n",
    "from c3s_eqc_automatic_quality_control import diagnostics, download, plot\n",
    "\n",
    "warnings.filterwarnings(\"ignore\")"
   ]
  },
  {
   "cell_type": "code",
   "execution_count": null,
   "metadata": {},
   "outputs": [],
   "source": [
    "collection_id = \"satellite-aerosol-properties\"\n",
    "request = {\n",
    "    \"format\": \"zip\",\n",
    "    \"time_aggregation\": \"monthly_average\",\n",
    "    \"variable\": \"aerosol_optical_depth\",\n",
    "    \"sensor_on_satellite\": \"slstr_on_sentinel_3a\",\n",
    "    \"algorithm\": \"ens\",\n",
    "    \"year\": [str(year) for year in range(2018, 2019 + 1)],\n",
    "    \"month\": [f\"{month:02d}\" for month in range(1, 12 + 1)],\n",
    "    \"version\": \"v2.1\",\n",
    "}"
   ]
  },
  {
   "cell_type": "code",
   "execution_count": null,
   "metadata": {},
   "outputs": [],
   "source": [
    "def source_to_time(ds):\n",
    "    time = pd.to_datetime(ds[\"source\"].str.slice(None, 6), format=\"%Y%m\")\n",
    "    ds = ds.assign_coords(time=time)\n",
    "    return ds.swap_dims(source=\"time\")\n",
    "\n",
    "\n",
    "def source_to_time_and_spatial_weighted_mean(ds):\n",
    "    ds = source_to_time(ds)\n",
    "    return diagnostics.spatial_weighted_mean(ds)\n",
    "\n",
    "\n",
    "def source_to_time_and_spatial_weighted_std(ds):\n",
    "    ds = source_to_time(ds)\n",
    "    return diagnostics.spatial_weighted_std(ds)"
   ]
  },
  {
   "cell_type": "code",
   "execution_count": null,
   "metadata": {},
   "outputs": [],
   "source": [
    "ds_mean = download.download_and_transform(\n",
    "    collection_id,\n",
    "    request,\n",
    "    transform_func=source_to_time_and_spatial_weighted_mean,\n",
    "    chunks={\"year\": 1},\n",
    ")"
   ]
  },
  {
   "cell_type": "code",
   "execution_count": null,
   "metadata": {},
   "outputs": [],
   "source": [
    "ds_std = download.download_and_transform(\n",
    "    collection_id,\n",
    "    request,\n",
    "    transform_func=source_to_time_and_spatial_weighted_std,\n",
    "    chunks={\"year\": 1},\n",
    ")"
   ]
  },
  {
   "cell_type": "code",
   "execution_count": null,
   "metadata": {},
   "outputs": [],
   "source": [
    "filename = \"_\".join([\"global-timeseries\", collection_id])\n",
    "title = filename.replace(\"-\", \" \").replace(\"_\", \" \").title()\n",
    "fig = plot.shaded_std(\"AOD550\", ds_mean, ds_std, title=title)\n",
    "fig.show()\n",
    "fig.write_image(filename + \".png\")"
   ]
  }
 ],
 "metadata": {
  "kernelspec": {
   "display_name": "eqc",
   "language": "python",
   "name": "python3"
  },
  "language_info": {
   "codemirror_mode": {
    "name": "ipython",
    "version": 3
   },
   "file_extension": ".py",
   "mimetype": "text/x-python",
   "name": "python",
   "nbconvert_exporter": "python",
   "pygments_lexer": "ipython3",
   "version": "3.10.8"
  },
  "vscode": {
   "interpreter": {
    "hash": "39a16a1176456aec0710d6d8dd097fdfd8eece03838aebbaaddfca0f16ac2477"
   }
  }
 },
 "nbformat": 4,
 "nbformat_minor": 2
}
