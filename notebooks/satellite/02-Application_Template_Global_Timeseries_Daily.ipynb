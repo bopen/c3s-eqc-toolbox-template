{
 "cells": [
  {
   "attachments": {},
   "cell_type": "markdown",
   "metadata": {},
   "source": [
    "# Satellite Daily: Global timeseries"
   ]
  },
  {
   "attachments": {},
   "cell_type": "markdown",
   "metadata": {},
   "source": [
    "## Import libraries\n",
    "\n",
    "Switch warnings off for better readability."
   ]
  },
  {
   "cell_type": "code",
   "execution_count": null,
   "metadata": {},
   "outputs": [],
   "source": [
    "import warnings\n",
    "\n",
    "import pandas as pd\n",
    "from c3s_eqc_automatic_quality_control import diagnostics, download, plot\n",
    "\n",
    "warnings.filterwarnings(\"ignore\")"
   ]
  },
  {
   "attachments": {},
   "cell_type": "markdown",
   "metadata": {},
   "source": [
    "## Define request"
   ]
  },
  {
   "cell_type": "code",
   "execution_count": null,
   "metadata": {},
   "outputs": [],
   "source": [
    "collection_id = \"satellite-aerosol-properties\"\n",
    "request = {\n",
    "    \"format\": \"zip\",\n",
    "    \"time_aggregation\": \"daily_average\",\n",
    "    \"variable\": \"aerosol_optical_depth\",\n",
    "    \"sensor_on_satellite\": \"slstr_on_sentinel_3a\",\n",
    "    \"algorithm\": \"ens\",\n",
    "    \"version\": \"v2.1\",\n",
    "}\n",
    "start = \"2018-01\"\n",
    "stop = \"2018-03\""
   ]
  },
  {
   "attachments": {},
   "cell_type": "markdown",
   "metadata": {},
   "source": [
    "## Generate requests"
   ]
  },
  {
   "cell_type": "code",
   "execution_count": null,
   "metadata": {},
   "outputs": [],
   "source": [
    "requests = download.update_request_date(\n",
    "    request, start=start, stop=stop, pad_month_day=True\n",
    ")"
   ]
  },
  {
   "attachments": {},
   "cell_type": "markdown",
   "metadata": {},
   "source": [
    "## Define transform function:\n",
    "\n",
    "`source_to_time` is a temporary workaround.\n",
    "The harmonisation of satellite data has not been implemented in the toolbox yet.\n",
    "Therefore, the toolbox is not able to concatenate satellite data.\n",
    "\n",
    "In EQC we concatenate satellite data along the dimension `source`, which corresponds to the name of the source file.\n",
    "Then, we use the name of the source file to infer the `time` dimension.\n",
    "Unfortunately, there are several naming conventions and this step cannot be automatised."
   ]
  },
  {
   "cell_type": "code",
   "execution_count": null,
   "metadata": {},
   "outputs": [],
   "source": [
    "def source_to_time_daily(ds):\n",
    "    # Naming convention: YYYYMMDD-*.nc\n",
    "    ds[\"source\"] = pd.to_datetime(ds[\"source\"].str.slice(None, 8), format=\"%Y%m%d\")\n",
    "    return ds.rename(source=\"time\")\n",
    "\n",
    "\n",
    "def source_to_time_daily_and_spatial_weighted_mean(ds):\n",
    "    return diagnostics.spatial_weighted_mean(source_to_time_daily(ds))\n",
    "\n",
    "\n",
    "def source_to_time_daily_and_spatial_weighted_std(ds):\n",
    "    return diagnostics.spatial_weighted_std(source_to_time_daily(ds))"
   ]
  },
  {
   "attachments": {},
   "cell_type": "markdown",
   "metadata": {},
   "source": [
    "## Compute spatially-weighted global mean timeseries"
   ]
  },
  {
   "cell_type": "code",
   "execution_count": null,
   "metadata": {},
   "outputs": [],
   "source": [
    "ds_mean = download.download_and_transform(\n",
    "    collection_id,\n",
    "    requests,\n",
    "    transform_func=source_to_time_daily_and_spatial_weighted_std,\n",
    "    chunks={\"year\": 1, \"month\": 1},\n",
    ")"
   ]
  },
  {
   "attachments": {},
   "cell_type": "markdown",
   "metadata": {},
   "source": [
    "## Compute spatially-weighted global std timeseries"
   ]
  },
  {
   "cell_type": "code",
   "execution_count": null,
   "metadata": {},
   "outputs": [],
   "source": [
    "ds_std = download.download_and_transform(\n",
    "    collection_id,\n",
    "    requests,\n",
    "    transform_func=source_to_time_daily_and_spatial_weighted_std,\n",
    "    chunks={\"year\": 1, \"month\": 1},\n",
    ")"
   ]
  },
  {
   "attachments": {},
   "cell_type": "markdown",
   "metadata": {},
   "source": [
    "## Plot and save figure"
   ]
  },
  {
   "cell_type": "code",
   "execution_count": null,
   "metadata": {},
   "outputs": [],
   "source": [
    "filename = \"_\".join([\"global-timeseries\", collection_id, request[\"time_aggregation\"]])\n",
    "title = filename.replace(\"-\", \" \").replace(\"_\", \" \").title()\n",
    "fig = plot.shaded_std(\"AOD550\", ds_mean, ds_std, title=title)\n",
    "fig.show()\n",
    "fig.write_image(filename + \".png\")"
   ]
  },
  {
   "cell_type": "code",
   "execution_count": null,
   "metadata": {},
   "outputs": [],
   "source": []
  }
 ],
 "metadata": {
  "kernelspec": {
   "display_name": "eqc",
   "language": "python",
   "name": "python3"
  },
  "language_info": {
   "codemirror_mode": {
    "name": "ipython",
    "version": 3
   },
   "file_extension": ".py",
   "mimetype": "text/x-python",
   "name": "python",
   "nbconvert_exporter": "python",
   "pygments_lexer": "ipython3",
   "version": "3.10.8"
  },
  "vscode": {
   "interpreter": {
    "hash": "39a16a1176456aec0710d6d8dd097fdfd8eece03838aebbaaddfca0f16ac2477"
   }
  }
 },
 "nbformat": 4,
 "nbformat_minor": 2
}
