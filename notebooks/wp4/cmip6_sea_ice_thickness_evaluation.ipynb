{
 "cells": [
  {
   "cell_type": "markdown",
   "metadata": {},
   "source": [
    "# CMIP6 sea ice thickness evaluation"
   ]
  },
  {
   "cell_type": "markdown",
   "metadata": {},
   "source": [
    "## Import libraries"
   ]
  },
  {
   "cell_type": "code",
   "execution_count": null,
   "metadata": {},
   "outputs": [],
   "source": [
    "import warnings\n",
    "\n",
    "import matplotlib.pyplot as plt\n",
    "import pandas as pd\n",
    "import xarray as xr\n",
    "from c3s_eqc_automatic_quality_control import diagnostics, download\n",
    "\n",
    "plt.style.use(\"seaborn-v0_8-notebook\")\n",
    "warnings.filterwarnings(\"ignore\", module=\"cf_xarray\")"
   ]
  },
  {
   "cell_type": "markdown",
   "metadata": {},
   "source": [
    "## Set parameters"
   ]
  },
  {
   "cell_type": "code",
   "execution_count": null,
   "metadata": {},
   "outputs": [],
   "source": [
    "year_start = 2002\n",
    "year_stop = 2014\n",
    "assert year_start >= 2002 and year_stop <= 2014\n",
    "\n",
    "# Choose CMIP6 historical models\n",
    "models = [\n",
    "    \"access_cm2\",\n",
    "    \"access_esm1_5\",\n",
    "    \"canesm5\",\n",
    "    \"cmcc_cm2_sr5\",\n",
    "    \"cmcc_esm2\",\n",
    "    \"cnrm_cm6_1\",\n",
    "    \"cnrm_cm6_1_hr\",\n",
    "    \"cnrm_esm2_1\",\n",
    "    \"e3sm_1_0\",\n",
    "    \"e3sm_1_1\",\n",
    "    \"e3sm_1_1_eca\",\n",
    "    \"ec_earth3_aerchem\",\n",
    "    \"ec_earth3_cc\",\n",
    "    \"ec_earth3_veg_lr\",\n",
    "    \"hadgem3_gc31_ll\",\n",
    "    \"ipsl_cm5a2_inca\",\n",
    "    \"ipsl_cm6a_lr\",\n",
    "    \"miroc6\",\n",
    "    \"miroc_es2l\",\n",
    "    \"mpi_esm1_2_hr\",\n",
    "    \"mpi_esm1_2_lr\",\n",
    "    \"nesm3\",\n",
    "    \"norcpm1\",\n",
    "    \"taiesm1\",\n",
    "    \"ukesm1_0_ll\",\n",
    "]"
   ]
  },
  {
   "cell_type": "markdown",
   "metadata": {},
   "source": [
    "## Define request"
   ]
  },
  {
   "cell_type": "code",
   "execution_count": null,
   "metadata": {},
   "outputs": [],
   "source": [
    "months = [f\"{month:02d}\" for month in [1, 2, 3, 4, 10, 11, 12]]\n",
    "collection_id = \"projections-cmip6\"\n",
    "request = {\n",
    "    \"format\": \"zip\",\n",
    "    \"temporal_resolution\": \"monthly\",\n",
    "    \"experiment\": \"historical\",\n",
    "    \"variable\": \"sea_ice_thickness\",\n",
    "    \"year\": [str(year) for year in range(year_start, year_stop + 1)],\n",
    "    \"month\": months,\n",
    "}"
   ]
  },
  {
   "cell_type": "markdown",
   "metadata": {},
   "source": [
    "## Functions to cache"
   ]
  },
  {
   "cell_type": "code",
   "execution_count": null,
   "metadata": {},
   "outputs": [],
   "source": [
    "def get_satellite_data(time):\n",
    "    year_start = time.dt.year.min().values\n",
    "    year_stop = time.dt.year.max().values\n",
    "\n",
    "    year_ranges = {\n",
    "        \"envisat\": range(max(2002, year_start), min(2010, year_stop) + 1),\n",
    "        \"cryosat_2\": range(max(2010, year_start), min(2020, year_stop) + 1),\n",
    "    }\n",
    "\n",
    "    datasets = []\n",
    "    for satellite, year_range in year_ranges.items():\n",
    "        if not year_range:\n",
    "            continue\n",
    "        ds = download.download_and_transform(\n",
    "            \"satellite-sea-ice-thickness\",\n",
    "            {\n",
    "                \"satellite\": satellite,\n",
    "                \"version\": \"2_0\",\n",
    "                \"cdr_type\": \"cdr\",\n",
    "                \"variable\": \"all\",\n",
    "                \"year\": list(map(str, year_range)),\n",
    "                \"month\": [f\"{month:02d}\" for month in [1, 2, 3, 4, 10, 11, 12]],\n",
    "            },\n",
    "            chunks={\"year\": 1},\n",
    "        )\n",
    "        datasets.append(ds)\n",
    "    return xr.concat(datasets, \"time\")\n",
    "\n",
    "\n",
    "def regrid(obj, grid_out, **regrid_kwargs):\n",
    "    # Remove nan columns\n",
    "    for dim in [dim for dim in obj.dims if \"x\" in dim or \"lon\" in dim]:\n",
    "        for i in (0, -1):\n",
    "            if obj.isel({dim: i}).isnull().all():\n",
    "                obj = obj.drop_isel({dim: i})\n",
    "    return diagnostics.regrid(obj, grid_out, **regrid_kwargs)\n",
    "\n",
    "\n",
    "def compare_model_vs_satellite(ds, ds_satellite):\n",
    "    # Homogenize time\n",
    "    ds = ds.convert_calendar(\"standard\", align_on=\"date\")\n",
    "    ds[\"time\"] = pd.to_datetime(ds[\"time\"].dt.strftime(\"%Y-%m\"))\n",
    "    ds_satellite = ds_satellite.convert_calendar(\"standard\", align_on=\"date\")\n",
    "\n",
    "    # Get variables\n",
    "    dims = (\"xc\", \"yc\")\n",
    "    std_name = \"sea_ice_thickness\"\n",
    "    sit = ds.cf[std_name]\n",
    "    sit_obs = ds_satellite.cf[std_name]\n",
    "    sit_obs_err = ds_satellite.cf[f\"{std_name} standard_error\"]\n",
    "    sit_model = sit.sel(time=sit_obs[\"time\"])\n",
    "\n",
    "    # Compute useful variables\n",
    "    sit_diff = sit_model - sit_obs\n",
    "\n",
    "    # Compute output\n",
    "    dataarrays = {}\n",
    "    dataarrays[\"sithick_bias\"] = sit_diff.mean(dim=dims)\n",
    "    dataarrays[\"sithick_bias\"].attrs = {\n",
    "        \"standard_name\": \"sea_ice_thickness_bias\",\n",
    "        \"units\": \"m\",\n",
    "        \"long_name\": \"Sea ice thickness bias\",\n",
    "    }\n",
    "\n",
    "    dataarrays[\"sithick_rmse\"] = (sit_diff**2).mean(dim=dims) ** (1 / 2)\n",
    "    dataarrays[\"sithick_rmse\"].attrs = {\n",
    "        \"standard_name\": \"sea_ice_thickness_rmse\",\n",
    "        \"units\": \"m\",\n",
    "        \"long_name\": \"Sea ice thickness root mean square error\",\n",
    "    }\n",
    "\n",
    "    dataarrays[\"rms_sit_obs_error\"] = (sit_obs_err**2).mean(dim=dims) ** (1 / 2)\n",
    "    dataarrays[\"rms_sit_obs_error\"].attrs = {\n",
    "        \"standard_name\": \"root_mean_square_sea_ice_thickness_observation_error\",\n",
    "        \"units\": \"m\",\n",
    "        \"long_name\": \"Root mean square sea ice thickness observation error\",\n",
    "    }\n",
    "\n",
    "    return xr.Dataset(dataarrays)\n",
    "\n",
    "\n",
    "def compute_sea_ice_thickness_diagnostics(ds, **regrid_kwargs):\n",
    "    ds_satellite = get_satellite_data(ds[\"time\"])\n",
    "    ds = regrid(ds, ds_satellite[[\"latitude\", \"longitude\"]], **regrid_kwargs)\n",
    "    return compare_model_vs_satellite(ds, ds_satellite)"
   ]
  },
  {
   "cell_type": "markdown",
   "metadata": {},
   "source": [
    "## Download and transform"
   ]
  },
  {
   "cell_type": "code",
   "execution_count": null,
   "metadata": {},
   "outputs": [],
   "source": [
    "datasets = []\n",
    "for model in models:\n",
    "    print(f\"{model=}\")\n",
    "    ds = download.download_and_transform(\n",
    "        collection_id,\n",
    "        request | {\"model\": model},\n",
    "        chunks={\"year\": 1},\n",
    "        transform_func=compute_sea_ice_thickness_diagnostics,\n",
    "        transform_func_kwargs={\n",
    "            \"method\": \"nearest_s2d\",\n",
    "            \"periodic\": True,\n",
    "            \"ignore_degenerate\": True,\n",
    "        },\n",
    "    )\n",
    "    datasets.append(ds.expand_dims(model=[\"model\"]).compute())\n",
    "ds_cmip6 = xr.concat(datasets, \"model\")"
   ]
  },
  {
   "cell_type": "markdown",
   "metadata": {},
   "source": [
    "## Plot quantiles"
   ]
  },
  {
   "cell_type": "code",
   "execution_count": null,
   "metadata": {},
   "outputs": [],
   "source": [
    "ds_quantiles = ds_cmip6.quantile([1 / 4, 1 / 2, 3 / 4], dim=\"model\", keep_attrs=True)\n",
    "for var, da in ds_quantiles.data_vars.items():\n",
    "    da = da.resample(time=\"1MS\").mean()\n",
    "    da.sel(quantile=1 / 2).drop_vars(\"quantile\").plot(label=\"median\")\n",
    "    plt.fill_between(\n",
    "        da[\"time\"],\n",
    "        da.sel(quantile=1 / 4),\n",
    "        da.sel(quantile=3 / 4),\n",
    "        alpha=0.5,\n",
    "        label=\"IQL\",\n",
    "    )\n",
    "    plt.legend()\n",
    "    plt.grid()\n",
    "    plt.show()"
   ]
  }
 ],
 "metadata": {
  "kernelspec": {
   "display_name": "Python 3 (ipykernel)",
   "language": "python",
   "name": "python3"
  },
  "language_info": {
   "codemirror_mode": {
    "name": "ipython",
    "version": 3
   },
   "file_extension": ".py",
   "mimetype": "text/x-python",
   "name": "python",
   "nbconvert_exporter": "python",
   "pygments_lexer": "ipython3",
   "version": "3.11.8"
  }
 },
 "nbformat": 4,
 "nbformat_minor": 4
}
