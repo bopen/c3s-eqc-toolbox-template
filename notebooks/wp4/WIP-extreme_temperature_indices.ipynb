{
 "cells": [
  {
   "attachments": {},
   "cell_type": "markdown",
   "metadata": {},
   "source": [
    "## WIP: Extreme temperature indices"
   ]
  },
  {
   "attachments": {},
   "cell_type": "markdown",
   "metadata": {},
   "source": [
    "## Import packages"
   ]
  },
  {
   "cell_type": "code",
   "execution_count": null,
   "metadata": {},
   "outputs": [],
   "source": [
    "import tempfile\n",
    "\n",
    "import cartopy.crs as ccrs\n",
    "import icclim\n",
    "import matplotlib.pyplot as plt\n",
    "import xarray as xr\n",
    "from c3s_eqc_automatic_quality_control import diagnostics, download, plot\n",
    "from xarrayMannKendall import Mann_Kendall_test\n",
    "\n",
    "plt.style.use(\"seaborn-v0_8-notebook\")"
   ]
  },
  {
   "attachments": {},
   "cell_type": "markdown",
   "metadata": {},
   "source": [
    "## Define Parameters"
   ]
  },
  {
   "cell_type": "code",
   "execution_count": null,
   "metadata": {},
   "outputs": [],
   "source": [
    "# Time period\n",
    "year_start = 1971\n",
    "year_stop = 1975\n",
    "\n",
    "# Choose annual or seasonal timeseries\n",
    "timeseries = \"JJA\"\n",
    "assert timeseries in (\"annual\", \"DJF\", \"MAM\", \"JJA\", \"SON\")\n",
    "\n",
    "# Choose CORDEX or CMIP6\n",
    "collection_id = \"CMIP6\"\n",
    "assert collection_id in (\"CORDEX\", \"CMIP6\")\n",
    "\n",
    "# Define region for analysis\n",
    "area = [72, -22, 27, 45]\n",
    "\n",
    "# Define region for request\n",
    "cordex_domain = \"europe\"\n",
    "\n",
    "# Define index names\n",
    "index_names = (\"SU\", \"TX90p\")\n",
    "\n",
    "# Interpolation method\n",
    "interpolation_method = \"bilinear\"\n",
    "\n",
    "# Chunks for download\n",
    "chunks = {\"year\": 1}"
   ]
  },
  {
   "attachments": {},
   "cell_type": "markdown",
   "metadata": {},
   "source": [
    "## Define models"
   ]
  },
  {
   "cell_type": "code",
   "execution_count": null,
   "metadata": {},
   "outputs": [],
   "source": [
    "models_cordex = [\n",
    "    \"clmcom_eth_cosmo_crclim\",\n",
    "    \"dmi_hirham5\",\n",
    "    \"knmi_racmo22e\",\n",
    "    \"mpi_csc_remo2009\",\n",
    "    \"uhoh_wrf361h\",\n",
    "]\n",
    "\n",
    "models_cmip6 = [\n",
    "    \"EC-Earth3-CC\",\n",
    "    \"mpi_esm1_2_lr\",\n",
    "    \"access_cm2\",\n",
    "    \"awi_esm_1_1_lr\",\n",
    "    \"cnrm_cm6_1\",\n",
    "]"
   ]
  },
  {
   "attachments": {},
   "cell_type": "markdown",
   "metadata": {},
   "source": [
    "## Define ERA5 request"
   ]
  },
  {
   "cell_type": "code",
   "execution_count": null,
   "metadata": {},
   "outputs": [],
   "source": [
    "request_era = (\n",
    "    \"reanalysis-era5-single-levels\",\n",
    "    {\n",
    "        \"product_type\": \"reanalysis\",\n",
    "        \"format\": \"netcdf\",\n",
    "        \"time\": [f\"{hour:02d}:00\" for hour in range(24)],\n",
    "        \"variable\": \"2m_temperature\",\n",
    "        \"year\": [\n",
    "            str(year) for year in range(year_start - 1, year_stop + 1)\n",
    "        ],  # Include D(year-1)\n",
    "        \"month\": [f\"{month:02d}\" for month in range(1, 13)],\n",
    "        \"day\": [f\"{day:02d}\" for day in range(1, 32)],\n",
    "        \"area\": area,\n",
    "    },\n",
    ")\n",
    "\n",
    "\n",
    "request_lsm = (\n",
    "    request_era[0],\n",
    "    request_era[1] | {\"year\": \"1940\", \"month\": \"01\", \"variable\": \"land_sea_mask\"},\n",
    ")"
   ]
  },
  {
   "attachments": {},
   "cell_type": "markdown",
   "metadata": {},
   "source": [
    "## Define model requests"
   ]
  },
  {
   "cell_type": "code",
   "execution_count": null,
   "metadata": {},
   "outputs": [],
   "source": [
    "###################################################\n",
    "# TODO\n",
    "request_cordex = {\n",
    "    \"format\": \"zip\",\n",
    "    \"domain\": cordex_domain,\n",
    "    \"experiment\": \"historical\",\n",
    "    \"horizontal_resolution\": \"0_11_degree_x_0_11_degree\",\n",
    "    \"temporal_resolution\": \"monthly_mean\",\n",
    "    \"variable\": \"daily_maximum_near_surface_air_temperature\",\n",
    "    \"gcm_model\": \"mpi_m_mpi_esm_lr\",\n",
    "    \"ensemble_member\": \"r1i1p1\",\n",
    "    \"area\": area,\n",
    "}\n",
    "###################################################\n",
    "\n",
    "request_cmip6 = {\n",
    "    \"format\": \"zip\",\n",
    "    \"temporal_resolution\": \"daily\",\n",
    "    \"experiment\": \"historical\",\n",
    "    \"variable\": \"daily_maximum_near_surface_air_temperature\",\n",
    "    \"year\": [\n",
    "        str(year) for year in range(year_start - 1, year_stop + 1)\n",
    "    ],  # Include D(year-1)\n",
    "    \"month\": [f\"{month:02d}\" for month in range(1, 13)],\n",
    "    \"day\": [f\"{day:02d}\" for day in range(1, 32)],\n",
    "    \"area\": area,\n",
    "}\n",
    "\n",
    "\n",
    "def get_cordex_years(\n",
    "    year_start,\n",
    "    year_stop,\n",
    "    start_years=[1971, 1981, 1991, 2001],\n",
    "    end_years=[1980, 1990, 2000, 2005],\n",
    "):\n",
    "    start_year = []\n",
    "    end_year = []\n",
    "    years = set(range(year_start - 1, year_stop + 1))  # Include D(year-1)\n",
    "    for start, end in zip(start_years, end_years):\n",
    "        if years & set(range(start, end + 1)):\n",
    "            start_year.append(start)\n",
    "            end_year.append(end)\n",
    "    return start_year, end_year\n",
    "\n",
    "\n",
    "if collection_id == \"CORDEX\":\n",
    "    raise NotImplementedError(f\"{collection_id=}\")\n",
    "    models = models_cordex\n",
    "    model_key = \"rcm_model\"\n",
    "    request_sim = (\n",
    "        \"projections-cordex-domains-single-levels\",\n",
    "        [\n",
    "            {\n",
    "                **request_cordex,\n",
    "                \"start_year\": start_year,\n",
    "                \"end_year\": end_year,\n",
    "            }\n",
    "            for start_year, end_year in zip(*get_cordex_years(year_start, year_stop))\n",
    "        ],\n",
    "    )\n",
    "elif collection_id == \"CMIP6\":\n",
    "    models = models_cmip6\n",
    "    model_key = \"model\"\n",
    "    request_sim = (\n",
    "        \"projections-cmip6\",\n",
    "        download.split_request(request_cmip6, chunks=chunks),\n",
    "    )\n",
    "else:\n",
    "    raise ValueError(f\"{collection_id=}\")"
   ]
  },
  {
   "attachments": {},
   "cell_type": "markdown",
   "metadata": {},
   "source": [
    "## Functions to cache"
   ]
  },
  {
   "cell_type": "code",
   "execution_count": null,
   "metadata": {},
   "outputs": [],
   "source": [
    "def select_timeseries(ds, timeseries, year_start, year_stop):\n",
    "    if timeseries == \"annual\":\n",
    "        return ds.sel(time=slice(str(year_start), str(year_stop)))\n",
    "    ds = ds.sel(time=slice(f\"{year_start-1}-12\", f\"{year_stop}-11\"))\n",
    "    return ds.where(ds[\"time\"].dt.season == timeseries, drop=True)\n",
    "\n",
    "\n",
    "def compute_indexes(ds, index_names, timeseries, dir):\n",
    "    years, datasets = zip(*ds.groupby(\"time.year\"))\n",
    "    paths = [f\"{dir}/{year}.nc\" for year in years]\n",
    "    datasets = [ds.chunk(-1) for ds in datasets]\n",
    "    xr.save_mfdataset(datasets, paths)\n",
    "\n",
    "    datasets = [\n",
    "        icclim.index(\n",
    "            index_name=index_name,\n",
    "            in_files=paths,\n",
    "            out_file=f\"{dir}/{index_name}.nc\",\n",
    "            slice_mode=\"year\" if timeseries == \"annual\" else timeseries,\n",
    "        )\n",
    "        for index_name in index_names\n",
    "    ]\n",
    "    return xr.merge(datasets).drop_dims(\"bounds\")\n",
    "\n",
    "\n",
    "def compute_trends(ds):\n",
    "    datasets = []\n",
    "    coords_name = {\"time\": \"time\", \"y\": \"latitude\", \"x\": \"longitude\"}\n",
    "    for index, da in ds.data_vars.items():\n",
    "        ds = Mann_Kendall_test(\n",
    "            da - da.mean(\"time\"),\n",
    "            alpha=0.05,\n",
    "            method=\"theilslopes\",\n",
    "            coords_name=coords_name,\n",
    "        ).compute()\n",
    "        ds = ds.rename({k: v for k, v in coords_name.items() if k in ds.dims})\n",
    "        ds = ds.assign_coords({dim: da[dim] for dim in ds.dims})\n",
    "        datasets.append(ds.expand_dims(index=[index]))\n",
    "    return xr.concat(datasets, \"index\")\n",
    "\n",
    "\n",
    "def compute_index_trends(\n",
    "    ds, index_names, timeseries, year_start, year_stop, resample, **interp_kwargs\n",
    "):\n",
    "    ds = select_timeseries(ds, timeseries, year_start, year_stop)\n",
    "    if resample:\n",
    "        ds = ds.resample(time=\"1D\").max(keep_attrs=True)\n",
    "    if interp_kwargs:\n",
    "        ds = diagnostics.regrid(ds, **interp_kwargs)\n",
    "    tmpdir = tempfile.TemporaryDirectory()\n",
    "    ds = compute_indexes(ds, index_names, timeseries, tmpdir.name).persist()\n",
    "    ds = ds.merge(compute_trends(ds))\n",
    "    return ds"
   ]
  },
  {
   "cell_type": "markdown",
   "metadata": {},
   "source": [
    "## Download and transform ERA5"
   ]
  },
  {
   "cell_type": "code",
   "execution_count": null,
   "metadata": {},
   "outputs": [],
   "source": [
    "transform_func_kwargs = {\n",
    "    \"index_names\": sorted(index_names),\n",
    "    \"timeseries\": timeseries,\n",
    "    \"year_start\": year_start,\n",
    "    \"year_stop\": year_stop,\n",
    "}\n",
    "ds_era5 = download.download_and_transform(\n",
    "    *request_era,\n",
    "    chunks=chunks,\n",
    "    transform_chunks=False,\n",
    "    transform_func=compute_index_trends,\n",
    "    transform_func_kwargs=transform_func_kwargs | {\"resample\": True},\n",
    ")"
   ]
  },
  {
   "cell_type": "markdown",
   "metadata": {},
   "source": [
    "## Download and transform model"
   ]
  },
  {
   "cell_type": "code",
   "execution_count": null,
   "metadata": {},
   "outputs": [],
   "source": [
    "grid_out = ds_era5[[\"latitude\", \"longitude\"]].reset_coords(drop=True)\n",
    "grid_out.attrs = {}\n",
    "\n",
    "datasets = []\n",
    "for model in models:\n",
    "    print(f\"{model=}\")\n",
    "    collection_id = request_sim[0]\n",
    "    requests = request_sim[1]\n",
    "    ds = download.download_and_transform(\n",
    "        collection_id,\n",
    "        [request | {model_key: model} for request in requests],\n",
    "        chunks=chunks,\n",
    "        transform_chunks=False,\n",
    "        transform_func=compute_index_trends,\n",
    "        transform_func_kwargs=transform_func_kwargs\n",
    "        | {\n",
    "            \"resample\": False,\n",
    "            \"grid_out\": grid_out,\n",
    "            \"method\": interpolation_method,\n",
    "        },\n",
    "    )\n",
    "    datasets.append(ds.expand_dims(model=[model]))\n",
    "ds_models = xr.concat(datasets, \"model\")"
   ]
  },
  {
   "cell_type": "code",
   "execution_count": null,
   "metadata": {},
   "outputs": [],
   "source": [
    "for index in index_names:\n",
    "    da_era5 = ds_era5[index].mean(\"time\", keep_attrs=True)\n",
    "    da_models = ds_models[index].mean(\"time\", keep_attrs=True)\n",
    "    median = da_models.median(\"model\", keep_attrs=True)\n",
    "    with xr.set_options(keep_attrs=True):\n",
    "        bias = median - da_era5\n",
    "    std = da_models.std(\"model\", keep_attrs=True)\n",
    "    title_da = {\n",
    "        \"ERA5\": da_era5,\n",
    "        \"Ensemble Median\": median,\n",
    "        \"Ensemble Median Bias\": bias,\n",
    "        \"Ensemble Standard Deviation\": std,\n",
    "    }\n",
    "    fig, axes = plt.subplots(\n",
    "        2,\n",
    "        len(title_da) // 2,\n",
    "        subplot_kw={\"projection\": ccrs.PlateCarree()},\n",
    "        figsize=(15, 15),\n",
    "    )\n",
    "    for ax, (title, da) in zip(axes.flatten(), title_da.items()):\n",
    "        da = da.isel(\n",
    "            latitude=slice(5, -5), longitude=slice(5, -5)\n",
    "        )  # TODO: Hide boundaries\n",
    "        plot.projected_map(da, show_stats=False, ax=ax)\n",
    "        ax.set_title(title)\n",
    "    fig.suptitle(index)"
   ]
  }
 ],
 "metadata": {
  "kernelspec": {
   "display_name": "Python 3 (ipykernel)",
   "language": "python",
   "name": "python3"
  },
  "language_info": {
   "codemirror_mode": {
    "name": "ipython",
    "version": 3
   },
   "file_extension": ".py",
   "mimetype": "text/x-python",
   "name": "python",
   "nbconvert_exporter": "python",
   "pygments_lexer": "ipython3",
   "version": "3.11.7"
  }
 },
 "nbformat": 4,
 "nbformat_minor": 4
}
