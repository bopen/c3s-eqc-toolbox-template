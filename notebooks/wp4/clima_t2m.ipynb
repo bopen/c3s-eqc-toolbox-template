{
 "cells": [
  {
   "attachments": {},
   "cell_type": "markdown",
   "metadata": {},
   "source": [
    "# WP4: Climatology and Bias - Near Surface Air Temperature"
   ]
  },
  {
   "attachments": {},
   "cell_type": "markdown",
   "metadata": {},
   "source": [
    "## Import libraries\n",
    "\n",
    "Switch warnings off for better readability.\\\n",
    "Set matplotlib default settings."
   ]
  },
  {
   "cell_type": "code",
   "execution_count": null,
   "metadata": {},
   "outputs": [],
   "source": [
    "import warnings\n",
    "\n",
    "import matplotlib.pyplot as plt\n",
    "import xarray as xr\n",
    "from c3s_eqc_automatic_quality_control import diagnostics, download, plot\n",
    "\n",
    "plt.style.use(\"seaborn-v0_8-talk\")\n",
    "\n",
    "warnings.filterwarnings(\"ignore\")"
   ]
  },
  {
   "attachments": {},
   "cell_type": "markdown",
   "metadata": {},
   "source": [
    "## Define time period"
   ]
  },
  {
   "cell_type": "code",
   "execution_count": null,
   "metadata": {},
   "outputs": [],
   "source": [
    "year_start = 1985\n",
    "year_stop = 2014\n",
    "\n",
    "common_request = {\n",
    "    \"year\": [str(year) for year in range(year_start, year_stop + 1)],\n",
    "    \"month\": [f\"{month:02d}\" for month in range(1, 12 + 1)],\n",
    "}"
   ]
  },
  {
   "attachments": {},
   "cell_type": "markdown",
   "metadata": {},
   "source": [
    "## Define requests"
   ]
  },
  {
   "cell_type": "code",
   "execution_count": null,
   "metadata": {},
   "outputs": [],
   "source": [
    "request_era = (\n",
    "    \"reanalysis-era5-single-levels-monthly-means\",\n",
    "    {\n",
    "        \"product_type\": \"monthly_averaged_reanalysis\",\n",
    "        \"format\": \"netcdf\",\n",
    "        \"time\": \"00:00\",\n",
    "        \"variable\": \"2m_temperature\",\n",
    "        **common_request,\n",
    "    },\n",
    ")\n",
    "\n",
    "request_sim = (\n",
    "    \"projections-cmip6\",\n",
    "    {\n",
    "        \"format\": \"zip\",\n",
    "        \"temporal_resolution\": \"monthly\",\n",
    "        \"experiment\": \"historical\",\n",
    "        \"variable\": \"near_surface_air_temperature\",\n",
    "        \"model\": \"cmcc_cm2_sr5\",\n",
    "        **common_request,\n",
    "    },\n",
    ")"
   ]
  },
  {
   "attachments": {},
   "cell_type": "markdown",
   "metadata": {},
   "source": [
    "## Download data and interpolate"
   ]
  },
  {
   "cell_type": "code",
   "execution_count": null,
   "metadata": {},
   "outputs": [],
   "source": [
    "ds_era = download.download_and_transform(\n",
    "    *request_era,\n",
    "    chunks={\"year\": 1},\n",
    ")\n",
    "\n",
    "ds_sim = download.download_and_transform(\n",
    "    *request_sim,\n",
    "    transform_func=diagnostics.regrid,\n",
    "    transform_func_kwargs={\n",
    "        \"grid_out\": ds_era[[\"longitude\", \"latitude\"]],\n",
    "        \"method\": \"bilinear\",\n",
    "        \"periodic\": True,\n",
    "    },\n",
    "    chunks={\"year\": 1},\n",
    ")"
   ]
  },
  {
   "attachments": {},
   "cell_type": "markdown",
   "metadata": {},
   "source": [
    "## Postprocessing"
   ]
  },
  {
   "cell_type": "code",
   "execution_count": null,
   "metadata": {},
   "outputs": [],
   "source": [
    "# Compute seasonality and bias\n",
    "ds_era_seasonal = diagnostics.seasonal_weighted_mean(ds_era)\n",
    "ds_sim_seasonal = diagnostics.seasonal_weighted_mean(ds_sim)\n",
    "\n",
    "\n",
    "# Convert kelvin to celsius\n",
    "def kelvin_to_celsius(da):\n",
    "    \"\"\"Convert from kelvin to celsius.\"\"\"\n",
    "    with xr.set_options(keep_attrs=True):\n",
    "        da -= 273.15\n",
    "    da.attrs[\"units\"] = \"°C\"\n",
    "    return da\n",
    "\n",
    "\n",
    "da_era = kelvin_to_celsius(ds_era_seasonal[\"t2m\"])\n",
    "da_sim = kelvin_to_celsius(ds_sim_seasonal[\"tas\"])\n",
    "\n",
    "# Compute bias\n",
    "with xr.set_options(keep_attrs=True):\n",
    "    da_bias = da_sim - da_era\n",
    "da_bias.attrs[\"long_name\"] += \" Bias\""
   ]
  },
  {
   "attachments": {},
   "cell_type": "markdown",
   "metadata": {},
   "source": [
    "## Define plot settings"
   ]
  },
  {
   "cell_type": "code",
   "execution_count": null,
   "metadata": {},
   "outputs": [],
   "source": [
    "# Plot settings\n",
    "sim_kwargs = {\"levels\": range(-30, 31, 5), \"cmap\": \"YlOrRd\"}\n",
    "bias_kwargs = {\"levels\": range(-6, 7), \"cmap\": \"RdBu_r\"}\n",
    "facet_kwargs = {\"col\": \"season\", \"col_wrap\": 2}\n",
    "savefig_kwargs = {\"bbox_inches\": \"tight\"}\n",
    "suptitle_kwargs = {\"x\": 0.5, \"y\": 1, \"ha\": \"center\", \"va\": \"bottom\"}\n",
    "\n",
    "# Labels\n",
    "info = {key: request_sim[1][key] for key in (\"model\", \"experiment\", \"variable\")}\n",
    "info[\"period\"] = f\"{request_sim[1]['year'][0]}-{request_sim[1]['year'][-1]}\"\n",
    "fig_prefix = \"_\".join(list(info.values()))\n",
    "suptitle = \"; \".join([f\"{k.title()}: {v}\" for k, v in info.items()])"
   ]
  },
  {
   "attachments": {},
   "cell_type": "markdown",
   "metadata": {},
   "source": [
    "## Plots"
   ]
  },
  {
   "cell_type": "code",
   "execution_count": null,
   "metadata": {},
   "outputs": [],
   "source": [
    "# DJF\n",
    "p1 = plot.global_map(da_sim.sel(season=[\"DJF\"]), **sim_kwargs)\n",
    "p1.figure.suptitle(suptitle, **suptitle_kwargs)\n",
    "p1.figure.savefig(f\"{fig_prefix}_DJF.png\", **savefig_kwargs)"
   ]
  },
  {
   "cell_type": "code",
   "execution_count": null,
   "metadata": {},
   "outputs": [],
   "source": [
    "# DJF bias\n",
    "p2 = plot.global_map(da_bias.sel(season=[\"DJF\"]), **bias_kwargs)\n",
    "p2.figure.suptitle(suptitle, **suptitle_kwargs)\n",
    "p2.figure.savefig(f\"{fig_prefix}_bias_DJF.png\", **savefig_kwargs)"
   ]
  },
  {
   "cell_type": "code",
   "execution_count": null,
   "metadata": {},
   "outputs": [],
   "source": [
    "# All seasons\n",
    "p3 = plot.global_map(da_sim, **sim_kwargs, **facet_kwargs)\n",
    "p3.fig.suptitle(suptitle, **suptitle_kwargs)\n",
    "p3.fig.savefig(f\"{fig_prefix}_seasonal.png\", **savefig_kwargs)"
   ]
  },
  {
   "cell_type": "code",
   "execution_count": null,
   "metadata": {},
   "outputs": [],
   "source": [
    "# All seasons bias\n",
    "p4 = plot.global_map(da_bias, **bias_kwargs, **facet_kwargs)\n",
    "p4.fig.suptitle(suptitle, **suptitle_kwargs)\n",
    "p4.fig.savefig(f\"{fig_prefix}_seasonal_bias.png\", **savefig_kwargs)"
   ]
  }
 ],
 "metadata": {
  "kernelspec": {
   "display_name": "Python 3 (ipykernel)",
   "language": "python",
   "name": "python3"
  },
  "language_info": {
   "codemirror_mode": {
    "name": "ipython",
    "version": 3
   },
   "file_extension": ".py",
   "mimetype": "text/x-python",
   "name": "python",
   "nbconvert_exporter": "python",
   "pygments_lexer": "ipython3",
   "version": "3.10.9"
  },
  "vscode": {
   "interpreter": {
    "hash": "39a16a1176456aec0710d6d8dd097fdfd8eece03838aebbaaddfca0f16ac2477"
   }
  }
 },
 "nbformat": 4,
 "nbformat_minor": 4
}
