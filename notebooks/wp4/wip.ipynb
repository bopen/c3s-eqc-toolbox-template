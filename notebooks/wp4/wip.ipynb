{
 "cells": [
  {
   "attachments": {},
   "cell_type": "markdown",
   "metadata": {},
   "source": [
    "## Import libraries"
   ]
  },
  {
   "cell_type": "code",
   "execution_count": null,
   "metadata": {},
   "outputs": [],
   "source": [
    "import warnings\n",
    "\n",
    "import matplotlib.pyplot as plt\n",
    "import numpy as np\n",
    "import pandas as pd\n",
    "import xarray as xr\n",
    "from c3s_eqc_automatic_quality_control import diagnostics, download, plot\n",
    "\n",
    "warnings.filterwarnings(\"ignore\")\n",
    "\n",
    "plt.style.use(\"seaborn-v0_8-notebook\")"
   ]
  },
  {
   "attachments": {},
   "cell_type": "markdown",
   "metadata": {},
   "source": [
    "## Define time period and models"
   ]
  },
  {
   "cell_type": "code",
   "execution_count": null,
   "metadata": {},
   "outputs": [],
   "source": [
    "year_start = 1985\n",
    "year_stop = 1987\n",
    "\n",
    "models = [\n",
    "    \"access_cm2\",\n",
    "    \"awi_esm_1_1_lr\",\n",
    "    \"bcc_esm1\",\n",
    "    \"cesm2_fv2\",\n",
    "    \"cnrm_cm6_1\",\n",
    "    \"fgoals_g3\",\n",
    "]"
   ]
  },
  {
   "cell_type": "markdown",
   "metadata": {},
   "source": [
    "## Define requests"
   ]
  },
  {
   "cell_type": "code",
   "execution_count": null,
   "metadata": {},
   "outputs": [],
   "source": [
    "common_request = {\n",
    "    \"year\": [str(year) for year in range(year_start, year_stop + 1)],\n",
    "    \"month\": [f\"{month:02d}\" for month in range(1, 12 + 1)],\n",
    "}\n",
    "\n",
    "request_era = (\n",
    "    \"reanalysis-era5-single-levels-monthly-means\",\n",
    "    {\n",
    "        \"product_type\": \"monthly_averaged_reanalysis\",\n",
    "        \"format\": \"netcdf\",\n",
    "        \"time\": \"00:00\",\n",
    "        \"variable\": \"mean_total_precipitation_rate\",\n",
    "        **common_request,\n",
    "    },\n",
    ")\n",
    "\n",
    "request_sim = (\n",
    "    \"projections-cmip6\",\n",
    "    {\n",
    "        \"format\": \"zip\",\n",
    "        \"temporal_resolution\": \"monthly\",\n",
    "        \"experiment\": \"historical\",\n",
    "        \"variable\": \"precipitation\",\n",
    "        **common_request,\n",
    "    },\n",
    ")"
   ]
  },
  {
   "cell_type": "code",
   "execution_count": null,
   "metadata": {},
   "outputs": [],
   "source": [
    "def resample_and_regrid_and_rescale(ds, model, grid_out=None, **kwargs):\n",
    "    ds = diagnostics.annual_weighted_mean(ds)\n",
    "    if grid_out is not None:\n",
    "        ds = diagnostics.regrid(ds, grid_out, **kwargs)\n",
    "\n",
    "    # Change unit\n",
    "    varname = \"mtpr\" if model == \"ERA5\" else \"pr\"\n",
    "    with xr.set_options(keep_attrs=True):\n",
    "        ds[varname] = ds[varname] * 3600 * 24\n",
    "    ds[varname].attrs[\"units\"] = \"mm/day\"\n",
    "\n",
    "    return ds.rename({varname: \"precipitation\"}).expand_dims(model=[model])"
   ]
  },
  {
   "cell_type": "markdown",
   "metadata": {},
   "source": [
    "## Download data"
   ]
  },
  {
   "cell_type": "code",
   "execution_count": null,
   "metadata": {},
   "outputs": [],
   "source": [
    "chunks = {\"year\": 1}\n",
    "\n",
    "print(\"Downloading and processing ERA5\")\n",
    "ds_era = download.download_and_transform(\n",
    "    *request_era,\n",
    "    chunks=chunks,\n",
    "    transform_func=resample_and_regrid_and_rescale,\n",
    "    transform_func_kwargs={\"model\": \"ERA5\"},\n",
    "    transform_chunks=False,\n",
    ")\n",
    "\n",
    "datasets = []\n",
    "for model in models:\n",
    "    print(f\"Downloading and processing {model}\")\n",
    "    request_model = request_sim\n",
    "    request_model[1][\"model\"] = model\n",
    "    ds = download.download_and_transform(\n",
    "        *request_model,\n",
    "        chunks=chunks,\n",
    "        transform_func=resample_and_regrid_and_rescale,\n",
    "        transform_func_kwargs={\n",
    "            \"grid_out\": ds_era[[\"longitude\", \"latitude\"]],\n",
    "            \"model\": model,\n",
    "            \"method\": \"bilinear\",\n",
    "            \"periodic\": True,\n",
    "        },\n",
    "        transform_chunks=False,\n",
    "    )\n",
    "    datasets.append(ds)\n",
    "ds_sim = xr.merge(datasets)"
   ]
  },
  {
   "attachments": {},
   "cell_type": "markdown",
   "metadata": {},
   "source": [
    "## Create a single dataset and compute bias"
   ]
  },
  {
   "cell_type": "code",
   "execution_count": null,
   "metadata": {},
   "outputs": [],
   "source": [
    "ds = xr.merge([ds_sim, ds_sim.mean(\"model\").expand_dims(model=[\"ensemble\"]), ds_era])\n",
    "\n",
    "# TODO: speed up development\n",
    "# Substitute with regionalization option\n",
    "ds = ds.coarsen(longitude=10, latitude=10, boundary=\"trim\").mean()\n",
    "\n",
    "with xr.set_options(keep_attrs=True):\n",
    "    ds_bias = ds.drop_sel(model=\"ERA5\") - ds.sel(model=\"ERA5\")\n",
    "for da in ds_bias.data_vars.values():\n",
    "    da.attrs[\"long_name\"] += \" Bias\""
   ]
  },
  {
   "attachments": {},
   "cell_type": "markdown",
   "metadata": {},
   "source": [
    "## Plots"
   ]
  },
  {
   "cell_type": "code",
   "execution_count": null,
   "metadata": {},
   "outputs": [],
   "source": [
    "plot_kwargs = {\"levels\": range(0, 10, 1), \"cmap\": \"Blues\"}\n",
    "\n",
    "for model in [\"ensemble\", \"ERA5\"]:\n",
    "    plot.global_map(ds[\"precipitation\"].sel(model=[model]), **plot_kwargs)\n",
    "    plt.show()"
   ]
  },
  {
   "cell_type": "code",
   "execution_count": null,
   "metadata": {},
   "outputs": [],
   "source": [
    "plot_kwargs = {\"levels\": np.linspace(-2, 2, 11), \"cmap\": \"RdBu_r\"}\n",
    "plot.global_map(ds_bias[\"precipitation\"].sel(model=[\"ensemble\"]), **plot_kwargs)\n",
    "plt.show()\n",
    "plot.global_map(\n",
    "    ds_bias[\"precipitation\"].drop_sel(model=\"ensemble\"),\n",
    "    col=\"model\",\n",
    "    col_wrap=3,\n",
    "    **plot_kwargs,\n",
    ")"
   ]
  },
  {
   "attachments": {},
   "cell_type": "markdown",
   "metadata": {},
   "source": [
    "## Plot KDE and statistics\n",
    "\n",
    "TODO: The plot is unweighted, the statistics are weighted."
   ]
  },
  {
   "cell_type": "code",
   "execution_count": null,
   "metadata": {},
   "outputs": [],
   "source": [
    "# Create dataframes\n",
    "da = ds_bias[\"precipitation\"]\n",
    "da_dict = {k: v.values.flatten() for k, v in da.groupby(\"model\")}\n",
    "df_ensemble = pd.DataFrame({\"ensemble\": da_dict.pop(\"ensemble\")})\n",
    "df_models = pd.DataFrame(da_dict)\n",
    "df_stats = diagnostics.spatial_weighted_statistics(da).to_pandas()\n",
    "\n",
    "# Plot\n",
    "plot_kwargs = {\n",
    "    \"xlim\": (\n",
    "        df_stats[\"ensemble\"][\"mean\"] - 3 * df_stats[\"ensemble\"][\"std\"],\n",
    "        df_stats[\"ensemble\"][\"mean\"] + 3 * df_stats[\"ensemble\"][\"std\"],\n",
    "    ),\n",
    "    \"grid\": True,\n",
    "}\n",
    "ax = df_models.plot.kde(**plot_kwargs)\n",
    "ax = df_ensemble.plot.kde(color=\"k\", ls=\"--\", **plot_kwargs, ax=ax)\n",
    "ax.set_xlabel(f\"{da.attrs['long_name']} [{da.attrs['units']}]\")\n",
    "\n",
    "# Add stats\n",
    "table = plt.table(\n",
    "    cellText=df_stats.round(5).T.values.tolist(),\n",
    "    colLabels=df_stats.T.columns.values.tolist(),\n",
    "    rowLabels=df_stats.T.index.values.tolist(),\n",
    "    loc=\"top\",\n",
    ")"
   ]
  }
 ],
 "metadata": {
  "kernelspec": {
   "display_name": "Python 3 (ipykernel)",
   "language": "python",
   "name": "python3"
  },
  "language_info": {
   "codemirror_mode": {
    "name": "ipython",
    "version": 3
   },
   "file_extension": ".py",
   "mimetype": "text/x-python",
   "name": "python",
   "nbconvert_exporter": "python",
   "pygments_lexer": "ipython3",
   "version": "3.10.9"
  },
  "vscode": {
   "interpreter": {
    "hash": "39a16a1176456aec0710d6d8dd097fdfd8eece03838aebbaaddfca0f16ac2477"
   }
  }
 },
 "nbformat": 4,
 "nbformat_minor": 4
}
