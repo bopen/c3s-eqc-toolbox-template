{
 "cells": [
  {
   "attachments": {},
   "cell_type": "markdown",
   "metadata": {},
   "source": [
    "## Import libraries"
   ]
  },
  {
   "cell_type": "code",
   "execution_count": null,
   "metadata": {},
   "outputs": [],
   "source": [
    "import warnings\n",
    "\n",
    "import matplotlib.pyplot as plt\n",
    "import xarray as xr\n",
    "from c3s_eqc_automatic_quality_control import diagnostics, download, plot\n",
    "\n",
    "warnings.filterwarnings(\"ignore\")"
   ]
  },
  {
   "attachments": {},
   "cell_type": "markdown",
   "metadata": {},
   "source": [
    "## Define time period and models"
   ]
  },
  {
   "cell_type": "code",
   "execution_count": null,
   "metadata": {},
   "outputs": [],
   "source": [
    "year_start = 1985\n",
    "year_stop = 1987\n",
    "\n",
    "models = [\n",
    "    \"access_cm2\",\n",
    "    \"awi_esm_1_1_lr\",\n",
    "    \"bcc_esm1\",\n",
    "    \"cesm2_fv2\",\n",
    "    \"cnrm_cm6_1\",\n",
    "    \"fgoals_g3\",\n",
    "]"
   ]
  },
  {
   "cell_type": "markdown",
   "metadata": {},
   "source": [
    "## Define requests"
   ]
  },
  {
   "cell_type": "code",
   "execution_count": null,
   "metadata": {},
   "outputs": [],
   "source": [
    "common_request = {\n",
    "    \"year\": [str(year) for year in range(year_start, year_stop + 1)],\n",
    "    \"month\": [f\"{month:02d}\" for month in range(1, 12 + 1)],\n",
    "}\n",
    "\n",
    "request_era = (\n",
    "    \"reanalysis-era5-single-levels-monthly-means\",\n",
    "    {\n",
    "        \"product_type\": \"monthly_averaged_reanalysis\",\n",
    "        \"format\": \"netcdf\",\n",
    "        \"time\": \"00:00\",\n",
    "        \"variable\": \"mean_total_precipitation_rate\",\n",
    "        **common_request,\n",
    "    },\n",
    ")\n",
    "\n",
    "request_sim = (\n",
    "    \"projections-cmip6\",\n",
    "    {\n",
    "        \"format\": \"zip\",\n",
    "        \"temporal_resolution\": \"monthly\",\n",
    "        \"experiment\": \"historical\",\n",
    "        \"variable\": \"precipitation\",\n",
    "        **common_request,\n",
    "    },\n",
    ")"
   ]
  },
  {
   "cell_type": "code",
   "execution_count": null,
   "metadata": {},
   "outputs": [],
   "source": [
    "def resample_and_regrid_and_rescale(ds, model, grid_out=None, **kwargs):\n",
    "    ds = diagnostics.annual_weighted_mean(ds)\n",
    "    if grid_out:\n",
    "        ds = diagnostics.regrid(ds, grid_out, **kwargs)\n",
    "\n",
    "    # Change unit\n",
    "    varname = \"mtpr\" if model == \"ERA5\" else \"pr\"\n",
    "    with xr.set_options(keep_attrs=True):\n",
    "        ds[varname] *= 3600 * 24\n",
    "    ds[varname].attrs[\"units\"] = \"mm/day\"\n",
    "\n",
    "    return ds.rename({\"varname\": \"precipitation\"}).expand_dims(model=[model])"
   ]
  },
  {
   "cell_type": "markdown",
   "metadata": {},
   "source": [
    "## Download data"
   ]
  },
  {
   "cell_type": "code",
   "execution_count": null,
   "metadata": {},
   "outputs": [],
   "source": [
    "chunks = {\"year\": 1}\n",
    "\n",
    "\n",
    "ds_era = download.download_and_transform(\n",
    "    *request_era,\n",
    "    chunks=chunks,\n",
    "    transform_func=resample_and_regrid_and_rescale,\n",
    "    transform_chunks=False,\n",
    ")"
   ]
  },
  {
   "cell_type": "code",
   "execution_count": null,
   "metadata": {},
   "outputs": [],
   "source": [
    "def resample_and_regrid(ds, grid_out, model, **kwargs):\n",
    "    ds = diagnostics.annual_weighted_mean(ds)\n",
    "    ds = diagnostics.regrid(ds, grid_out, **kwargs)\n",
    "    return ds.expand_dims(model=[model])\n",
    "\n",
    "\n",
    "datasets = []\n",
    "for model in models:\n",
    "    request_model = request_sim\n",
    "    request_model[1][\"model\"] = model\n",
    "    ds = download.download_and_transform(\n",
    "        *request_model,\n",
    "        chunks=chunks,\n",
    "        transform_func=resample_and_regrid,\n",
    "        transform_func_kwargs={\n",
    "            \"grid_out\": ds_era[[\"longitude\", \"latitude\"]],\n",
    "            \"model\": model,\n",
    "            \"method\": \"bilinear\",\n",
    "            \"periodic\": True,\n",
    "        },\n",
    "        transform_chunks=False,\n",
    "    )\n",
    "    datasets.append(ds)\n",
    "ds_sim = xr.merge(datasets)\n",
    "\n",
    "# Add ensamble\n",
    "ds_sim = ds_sim.merge(ds_sim.mean(\"model\").expand_dims(model=[\"ensamble\"]))"
   ]
  },
  {
   "cell_type": "code",
   "execution_count": null,
   "metadata": {},
   "outputs": [],
   "source": [
    "plot_kwargs = {\"levels\": range(0, 10, 1), \"cmap\": \"Blues\"}\n",
    "\n",
    "for da in (ds_sim[\"pr\"].sel(model=[\"ensamble\"]), ds_era[\"mtpr\"]):\n",
    "    plot.global_map(da * 3600 * 24, **plot_kwargs)\n",
    "    plt.show()"
   ]
  },
  {
   "cell_type": "code",
   "execution_count": null,
   "metadata": {},
   "outputs": [],
   "source": []
  }
 ],
 "metadata": {
  "kernelspec": {
   "display_name": "Python 3 (ipykernel)",
   "language": "python",
   "name": "python3"
  },
  "language_info": {
   "codemirror_mode": {
    "name": "ipython",
    "version": 3
   },
   "file_extension": ".py",
   "mimetype": "text/x-python",
   "name": "python",
   "nbconvert_exporter": "python",
   "pygments_lexer": "ipython3",
   "version": "3.10.9"
  },
  "vscode": {
   "interpreter": {
    "hash": "39a16a1176456aec0710d6d8dd097fdfd8eece03838aebbaaddfca0f16ac2477"
   }
  }
 },
 "nbformat": 4,
 "nbformat_minor": 4
}
