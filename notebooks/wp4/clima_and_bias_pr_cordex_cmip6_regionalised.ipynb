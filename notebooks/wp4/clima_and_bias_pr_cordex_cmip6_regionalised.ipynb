{
 "cells": [
  {
   "cell_type": "markdown",
   "metadata": {},
   "source": [
    "# WP4: Climatology and Bias - Precipitation"
   ]
  },
  {
   "cell_type": "markdown",
   "metadata": {},
   "source": [
    "## Import libraries"
   ]
  },
  {
   "cell_type": "code",
   "execution_count": null,
   "metadata": {},
   "outputs": [],
   "source": [
    "import cartopy.crs as ccrs\n",
    "import matplotlib.pyplot as plt\n",
    "import numpy as np\n",
    "import pandas as pd\n",
    "import skill_metrics\n",
    "import xarray as xr\n",
    "from c3s_eqc_automatic_quality_control import diagnostics, download, plot, utils\n",
    "\n",
    "plt.style.use(\"seaborn-v0_8-notebook\")"
   ]
  },
  {
   "cell_type": "markdown",
   "metadata": {},
   "source": [
    "## Define Parameters"
   ]
  },
  {
   "cell_type": "code",
   "execution_count": null,
   "metadata": {},
   "outputs": [],
   "source": [
    "# Time\n",
    "year_start = 1985\n",
    "year_stop = 1987\n",
    "\n",
    "# Choose CORDEX or CMIP6\n",
    "collection_id = \"projections-cordex-domains-single-levels\"  # \"projections-cmip6\"\n",
    "\n",
    "# Define region for analysis\n",
    "lon_slice = slice(-4, 20)\n",
    "lat_slice = slice(35, 50)\n",
    "\n",
    "# Define region for request\n",
    "cordex_domain = \"europe\"\n",
    "era5_area = [73, -45, 20, 65]  # Use None for global\n",
    "\n",
    "# Chunks for download\n",
    "chunks = {\"year\": 1}\n",
    "assert \"month\" not in chunks, \"Do not use chunks smaller than 1y\""
   ]
  },
  {
   "cell_type": "markdown",
   "metadata": {},
   "source": [
    "## Define models"
   ]
  },
  {
   "cell_type": "code",
   "execution_count": null,
   "metadata": {},
   "outputs": [],
   "source": [
    "models_cordex = [\n",
    "    \"clmcom_clm_cclm4_8_17\",\n",
    "    \"clmcom_eth_cosmo_crclim\",\n",
    "    \"cnrm_aladin63\",\n",
    "    \"dmi_hirham5\",\n",
    "    \"knmi_racmo22e\",\n",
    "    \"mohc_hadrem3_ga7_05\",\n",
    "    \"mpi_csc_remo2009\",\n",
    "    \"smhi_rca4\",\n",
    "    \"uhoh_wrf361h\",\n",
    "]\n",
    "\n",
    "models_cmip6 = [\n",
    "    \"access_cm2\",\n",
    "    \"awi_esm_1_1_lr\",\n",
    "    \"bcc_esm1\",\n",
    "    \"cesm2_fv2\",\n",
    "    \"cnrm_cm6_1\",\n",
    "    \"fgoals_g3\",\n",
    "]"
   ]
  },
  {
   "cell_type": "markdown",
   "metadata": {},
   "source": [
    "## Define ERA5 request"
   ]
  },
  {
   "cell_type": "code",
   "execution_count": null,
   "metadata": {},
   "outputs": [],
   "source": [
    "request_era = (\n",
    "    \"reanalysis-era5-single-levels-monthly-means\",\n",
    "    {\n",
    "        \"product_type\": \"monthly_averaged_reanalysis\",\n",
    "        \"format\": \"netcdf\",\n",
    "        \"time\": \"00:00\",\n",
    "        \"variable\": \"mean_total_precipitation_rate\",\n",
    "        \"year\": [str(year) for year in range(year_start, year_stop + 1)],\n",
    "        \"month\": [f\"{month:02d}\" for month in range(1, 12 + 1)],\n",
    "    },\n",
    ")\n",
    "if era5_area:\n",
    "    request_era[1][\"area\"] = era5_area"
   ]
  },
  {
   "cell_type": "markdown",
   "metadata": {},
   "source": [
    "## Define model requests"
   ]
  },
  {
   "cell_type": "code",
   "execution_count": null,
   "metadata": {},
   "outputs": [],
   "source": [
    "request_cordex = {\n",
    "    \"format\": \"zip\",\n",
    "    \"domain\": cordex_domain,\n",
    "    \"experiment\": \"historical\",\n",
    "    \"horizontal_resolution\": \"0_11_degree_x_0_11_degree\",\n",
    "    \"temporal_resolution\": \"monthly_mean\",\n",
    "    \"variable\": \"mean_precipitation_flux\",\n",
    "    \"gcm_model\": \"mpi_m_mpi_esm_lr\",\n",
    "    \"ensemble_member\": \"r1i1p1\",\n",
    "}\n",
    "\n",
    "request_cmip6 = {\n",
    "    \"format\": \"zip\",\n",
    "    \"temporal_resolution\": \"monthly\",\n",
    "    \"experiment\": \"historical\",\n",
    "    \"variable\": \"precipitation\",\n",
    "    \"year\": [str(year) for year in range(year_start, year_stop + 1)],\n",
    "    \"month\": [f\"{month:02d}\" for month in range(1, 12 + 1)],\n",
    "}\n",
    "\n",
    "\n",
    "def get_cordex_years(\n",
    "    year_start,\n",
    "    year_stop,\n",
    "    start_years=[1971, 1981, 1991, 2001],\n",
    "    end_years=[1980, 1990, 2000, 2005],\n",
    "):\n",
    "    start_year = []\n",
    "    end_year = []\n",
    "    years = set(range(year_start, year_stop + 1))\n",
    "    for start, end in zip(start_years, end_years):\n",
    "        if years & set(range(start, end + 1)):\n",
    "            start_year.append(start)\n",
    "            end_year.append(end)\n",
    "    return start_year, end_year\n",
    "\n",
    "\n",
    "if collection_id == \"projections-cordex-domains-single-levels\":\n",
    "    weights = False  # Do not weight spatial statistics/errors\n",
    "    periodic = False\n",
    "    models = models_cordex\n",
    "    model_key = \"rcm_model\"\n",
    "    request_sim = (\n",
    "        collection_id,\n",
    "        [\n",
    "            {\n",
    "                **request_cordex,\n",
    "                \"start_year\": start_year,\n",
    "                \"end_year\": end_year,\n",
    "            }\n",
    "            for start_year, end_year in zip(*get_cordex_years(year_start, year_stop))\n",
    "        ],\n",
    "    )\n",
    "elif collection_id == \"projections-cmip6\":\n",
    "    weights = True  # Weight spatial statistics/errors\n",
    "    periodic = True\n",
    "    models = models_cmip6\n",
    "    model_key = \"model\"\n",
    "    request_sim = (\n",
    "        \"projections-cmip6\",\n",
    "        download.split_request(request_cmip6, chunks=chunks),\n",
    "    )\n",
    "else:\n",
    "    raise ValueError(f\"{collection_id=} is not supported for this notebook.\")"
   ]
  },
  {
   "cell_type": "markdown",
   "metadata": {},
   "source": [
    "## Define transform function"
   ]
  },
  {
   "cell_type": "code",
   "execution_count": null,
   "metadata": {},
   "outputs": [],
   "source": [
    "def compute_annual_regridded_precipitation(\n",
    "    ds, model, year_start, year_stop, grid_out=None, **kwargs\n",
    "):\n",
    "    varname = \"mtpr\" if model == \"ERA5\" else \"pr\"\n",
    "    mask = ds[\"time\"].dt.year.isin(range(year_start, year_stop + 1))\n",
    "    ds = ds[[varname]].where(mask.compute(), drop=True)\n",
    "\n",
    "    ds = diagnostics.annual_weighted_mean(ds)\n",
    "    if grid_out is not None:\n",
    "        ds = diagnostics.regrid(ds, grid_out, **kwargs)\n",
    "\n",
    "    # Change units\n",
    "    varname = \"mtpr\" if model == \"ERA5\" else \"pr\"\n",
    "    with xr.set_options(keep_attrs=True):\n",
    "        ds[varname] = ds[varname] * 3600 * 24\n",
    "    ds[varname].attrs[\"units\"] = \"mm/day\"\n",
    "\n",
    "    return ds.rename({varname: \"precipitation\"}).expand_dims(model=[model])"
   ]
  },
  {
   "cell_type": "markdown",
   "metadata": {},
   "source": [
    "## Download data"
   ]
  },
  {
   "cell_type": "code",
   "execution_count": null,
   "metadata": {},
   "outputs": [],
   "source": [
    "print(\"Downloading and processing ERA5\")\n",
    "ds_era = download.download_and_transform(\n",
    "    *request_era,\n",
    "    chunks=chunks,\n",
    "    transform_func=compute_annual_regridded_precipitation,\n",
    "    transform_func_kwargs={\n",
    "        \"model\": \"ERA5\",\n",
    "        \"year_start\": year_start,\n",
    "        \"year_stop\": year_stop,\n",
    "    },\n",
    ")\n",
    "\n",
    "datasets = []\n",
    "for model in models:\n",
    "    print(f\"Downloading and processing {model}\")\n",
    "    request_model = request_sim\n",
    "    for request in request_model[1]:\n",
    "        request[model_key] = model\n",
    "    ds = download.download_and_transform(\n",
    "        *request_model,\n",
    "        transform_func=compute_annual_regridded_precipitation,\n",
    "        transform_func_kwargs={\n",
    "            \"grid_out\": ds_era[[\"longitude\", \"latitude\"]],\n",
    "            \"model\": model,\n",
    "            \"year_start\": year_start,\n",
    "            \"year_stop\": year_stop,\n",
    "            \"method\": \"bilinear\",\n",
    "            \"periodic\": periodic,\n",
    "        },\n",
    "    )\n",
    "    datasets.append(ds)\n",
    "ds_sim = xr.concat(datasets, \"model\")"
   ]
  },
  {
   "cell_type": "markdown",
   "metadata": {},
   "source": [
    "## Create a single dataset and compute bias"
   ]
  },
  {
   "cell_type": "code",
   "execution_count": null,
   "metadata": {},
   "outputs": [],
   "source": [
    "ds = xr.concat(\n",
    "    [ds_sim, ds_sim.mean(\"model\").expand_dims(model=[\"ensemble\"]), ds_era], \"model\"\n",
    ")\n",
    "ds = utils.regionalise(ds, lon_slice=lon_slice, lat_slice=lat_slice)\n",
    "ds = ds.mean(\"year\", keep_attrs=True)\n",
    "\n",
    "with xr.set_options(keep_attrs=True):\n",
    "    ds_bias = ds.drop_sel(model=\"ERA5\") - ds.sel(model=\"ERA5\")\n",
    "for da in ds_bias.data_vars.values():\n",
    "    da.attrs[\"long_name\"] += \" Bias\""
   ]
  },
  {
   "cell_type": "markdown",
   "metadata": {},
   "source": [
    "## Plot Maps"
   ]
  },
  {
   "cell_type": "code",
   "execution_count": null,
   "metadata": {},
   "outputs": [],
   "source": [
    "# Choose projection\n",
    "Projection = (\n",
    "    ccrs.Robinson\n",
    "    if abs(lon_slice.stop - lon_slice.start) == 360\n",
    "    and abs(lat_slice.stop - lat_slice.start) == 180\n",
    "    else ccrs.PlateCarree\n",
    ")\n",
    "projection = Projection(central_longitude=(lon_slice.stop + lon_slice.start) / 2)\n",
    "\n",
    "da_to_plot = ds[\"precipitation\"].sel(model=[\"ensemble\", \"ERA5\"])\n",
    "plot_kwargs = xr.plot.utils._determine_cmap_params(\n",
    "    da_to_plot.values, robust=True, levels=10, cmap=\"Blues\"\n",
    ")\n",
    "plot_kwargs[\"projection\"] = projection\n",
    "for _, da_to_plot in da_to_plot.groupby(\"model\"):\n",
    "    plot.projected_map(da_to_plot, **plot_kwargs)\n",
    "    plt.show()"
   ]
  },
  {
   "cell_type": "markdown",
   "metadata": {},
   "source": [
    "## Plot Bias"
   ]
  },
  {
   "cell_type": "code",
   "execution_count": null,
   "metadata": {},
   "outputs": [],
   "source": [
    "plot_kwargs = xr.plot.utils._determine_cmap_params(\n",
    "    ds_bias[\"precipitation\"].values, robust=True, levels=11, cmap=\"bwr_r\"\n",
    ")\n",
    "plot_kwargs[\"projection\"] = projection\n",
    "plot.projected_map(ds_bias[\"precipitation\"].sel(model=[\"ensemble\"]), **plot_kwargs)\n",
    "plt.show()\n",
    "facet = plot.projected_map(\n",
    "    ds_bias[\"precipitation\"].drop_sel(model=\"ensemble\"),\n",
    "    col=\"model\",\n",
    "    col_wrap=min(3, ds_bias.sizes[\"model\"] - 1),\n",
    "    **plot_kwargs,\n",
    ")"
   ]
  },
  {
   "cell_type": "markdown",
   "metadata": {},
   "source": [
    "## Plot KDE and Statistics of Bias\n",
    "\n",
    "TODO: The plot is unweighted even if the statistics are weighted."
   ]
  },
  {
   "cell_type": "code",
   "execution_count": null,
   "metadata": {},
   "outputs": [],
   "source": [
    "# Create dataframes\n",
    "da = ds_bias[\"precipitation\"]\n",
    "da_dict = {k: v.values.flatten() for k, v in da.groupby(\"model\")}\n",
    "df_ensemble = pd.DataFrame({\"ensemble\": da_dict.pop(\"ensemble\")})\n",
    "df_models = pd.DataFrame(da_dict)\n",
    "df_stats = diagnostics.spatial_weighted_statistics(da).to_pandas()\n",
    "\n",
    "# Plot\n",
    "plot_kwargs = {\n",
    "    \"xlim\": (\n",
    "        df_stats[\"ensemble\"][\"mean\"] - 3 * df_stats[\"ensemble\"][\"std\"],\n",
    "        df_stats[\"ensemble\"][\"mean\"] + 3 * df_stats[\"ensemble\"][\"std\"],\n",
    "    ),\n",
    "    \"grid\": True,\n",
    "}\n",
    "ax = df_models.plot.kde(**plot_kwargs)\n",
    "ax = df_ensemble.plot.kde(color=\"k\", ls=\"--\", ax=ax, **plot_kwargs)\n",
    "ax.set_xlabel(f\"{da.attrs['long_name']} [{da.attrs['units']}]\")\n",
    "\n",
    "# Add stats\n",
    "table = plt.table(\n",
    "    cellText=df_stats.round(5).T.values.tolist(),\n",
    "    colLabels=df_stats.T.columns.values.tolist(),\n",
    "    rowLabels=df_stats.T.index.values.tolist(),\n",
    "    loc=\"top\",\n",
    ")"
   ]
  },
  {
   "cell_type": "markdown",
   "metadata": {},
   "source": [
    "## Compute and Show Statistics"
   ]
  },
  {
   "cell_type": "code",
   "execution_count": null,
   "metadata": {},
   "outputs": [],
   "source": [
    "ds_stats = diagnostics.spatial_weighted_statistics(ds, weights=weights)\n",
    "ds_error = diagnostics.spatial_weighted_errors(\n",
    "    ds.drop_sel(model=\"ERA5\"), ds.sel(model=\"ERA5\"), weights=weights\n",
    ")\n",
    "df_stats_and_error = xr.merge([ds_stats, ds_error])[\"precipitation\"].to_pandas()\n",
    "df_stats_and_error"
   ]
  },
  {
   "cell_type": "markdown",
   "metadata": {},
   "source": [
    "## Taylor Dyagram"
   ]
  },
  {
   "cell_type": "code",
   "execution_count": null,
   "metadata": {},
   "outputs": [],
   "source": [
    "skill_metrics.taylor_diagram(\n",
    "    df_stats_and_error.loc[\"std\"].values,\n",
    "    df_stats_and_error.loc[\"crmse\"].values,\n",
    "    df_stats_and_error.loc[\"corr\"].values,\n",
    "    alpha=0.0,\n",
    "    axismax=4,\n",
    "    colCOR=\"k\",\n",
    "    colOBS=\"k\",\n",
    "    colRMS=\"m\",\n",
    "    colSTD=\"b\",\n",
    "    markerColor=\"r\" if len(df_stats_and_error.columns) >= 9 else None,  # TODO\n",
    "    markerLabel=list(df_stats_and_error.columns),\n",
    "    markerLegend=\"on\",\n",
    "    markerSize=10,\n",
    "    markerobs=\"o\",\n",
    "    styleCOR=\"--\",\n",
    "    styleOBS=\"--\",\n",
    "    styleRMS=\":\",\n",
    "    styleSTD=\"-.\",\n",
    "    tickRMS=np.linspace(0, 4, 5),\n",
    "    tickSTD=np.linspace(0, 4, 5),\n",
    "    titleCOR=\"on\",\n",
    "    titleOBS=\"ERA5\",\n",
    "    titleRMS=\"on\",\n",
    "    titleRMSDangle=40.0,\n",
    "    titleSTD=\"on\",\n",
    "    widthCOR=0.5,\n",
    "    widthOBS=2,\n",
    "    widthRMS=2,\n",
    "    widthSTD=1.0,\n",
    ")"
   ]
  },
  {
   "cell_type": "code",
   "execution_count": null,
   "metadata": {},
   "outputs": [],
   "source": []
  }
 ],
 "metadata": {
  "kernelspec": {
   "display_name": "Python 3 (ipykernel)",
   "language": "python",
   "name": "python3"
  },
  "language_info": {
   "codemirror_mode": {
    "name": "ipython",
    "version": 3
   },
   "file_extension": ".py",
   "mimetype": "text/x-python",
   "name": "python",
   "nbconvert_exporter": "python",
   "pygments_lexer": "ipython3",
   "version": "3.10.11"
  },
  "vscode": {
   "interpreter": {
    "hash": "39a16a1176456aec0710d6d8dd097fdfd8eece03838aebbaaddfca0f16ac2477"
   }
  }
 },
 "nbformat": 4,
 "nbformat_minor": 4
}
