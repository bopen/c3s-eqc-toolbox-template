{
 "cells": [
  {
   "attachments": {},
   "cell_type": "markdown",
   "metadata": {},
   "source": [
    "# Precipitation and temperature bias"
   ]
  },
  {
   "attachments": {},
   "cell_type": "markdown",
   "metadata": {},
   "source": [
    "## Import packages"
   ]
  },
  {
   "cell_type": "code",
   "execution_count": null,
   "metadata": {},
   "outputs": [],
   "source": [
    "import cartopy.crs as ccrs\n",
    "import matplotlib.pyplot as plt\n",
    "import numpy as np\n",
    "import scipy\n",
    "import skill_metrics\n",
    "import xarray as xr\n",
    "from c3s_eqc_automatic_quality_control import diagnostics, download, plot, utils\n",
    "\n",
    "plt.style.use(\"seaborn-v0_8-notebook\")"
   ]
  },
  {
   "attachments": {},
   "cell_type": "markdown",
   "metadata": {},
   "source": [
    "## Define Parameters"
   ]
  },
  {
   "cell_type": "code",
   "execution_count": null,
   "metadata": {},
   "outputs": [],
   "source": [
    "# Time period\n",
    "year_start = 1985\n",
    "year_stop = 1987\n",
    "\n",
    "# Choose annual or seasonal timeseries\n",
    "timeseries = \"annual\"\n",
    "assert timeseries in (\"annual\", \"DJF\", \"MAM\", \"JJA\", \"SON\")\n",
    "\n",
    "# Variable\n",
    "variable = \"temperature\"\n",
    "assert variable in (\"precipitation\", \"temperature\")\n",
    "\n",
    "# Choose CORDEX or CMIP6\n",
    "collection_id = \"cordex\"\n",
    "assert collection_id in (\"cordex\", \"cmip6\")\n",
    "\n",
    "# Define region for analysis\n",
    "lon_slice = slice(-4, 20)\n",
    "lat_slice = slice(35, 50)\n",
    "\n",
    "# Define region for request\n",
    "cordex_domain = \"europe\"\n",
    "\n",
    "# Chunks for download\n",
    "chunks = {\"year\": 1}\n",
    "assert \"month\" not in chunks, \"Do not use chunks smaller than 1y\""
   ]
  },
  {
   "attachments": {},
   "cell_type": "markdown",
   "metadata": {},
   "source": [
    "## Define models"
   ]
  },
  {
   "cell_type": "code",
   "execution_count": null,
   "metadata": {},
   "outputs": [],
   "source": [
    "models_cordex = [\n",
    "    \"clmcom_clm_cclm4_8_17\",\n",
    "    \"clmcom_eth_cosmo_crclim\",\n",
    "    \"cnrm_aladin63\",\n",
    "    \"dmi_hirham5\",\n",
    "    \"knmi_racmo22e\",\n",
    "    \"mohc_hadrem3_ga7_05\",\n",
    "    \"mpi_csc_remo2009\",\n",
    "    \"smhi_rca4\",\n",
    "    \"uhoh_wrf361h\",\n",
    "]\n",
    "\n",
    "models_cmip6 = [\n",
    "    \"access_cm2\",\n",
    "    \"awi_esm_1_1_lr\",\n",
    "    \"bcc_esm1\",\n",
    "    \"cesm2_fv2\",\n",
    "    \"cnrm_cm6_1\",\n",
    "    \"fgoals_g3\",\n",
    "]"
   ]
  },
  {
   "attachments": {},
   "cell_type": "markdown",
   "metadata": {},
   "source": [
    "## Define ERA5 request"
   ]
  },
  {
   "cell_type": "code",
   "execution_count": null,
   "metadata": {},
   "outputs": [],
   "source": [
    "era5_variables = {\n",
    "    \"precipitation\": \"mean_total_precipitation_rate\",\n",
    "    \"temperature\": \"2m_temperature\",\n",
    "}\n",
    "\n",
    "request_era = (\n",
    "    \"reanalysis-era5-single-levels-monthly-means\",\n",
    "    {\n",
    "        \"product_type\": \"monthly_averaged_reanalysis\",\n",
    "        \"format\": \"netcdf\",\n",
    "        \"time\": \"00:00\",\n",
    "        \"variable\": era5_variables[variable],\n",
    "        \"year\": [\n",
    "            str(year) for year in range(year_start - 1, year_stop + 1)\n",
    "        ],  # Include D(year-1)\n",
    "        \"month\": [f\"{month:02d}\" for month in range(1, 12 + 1)],\n",
    "    },\n",
    ")"
   ]
  },
  {
   "attachments": {},
   "cell_type": "markdown",
   "metadata": {},
   "source": [
    "## Define model requests"
   ]
  },
  {
   "cell_type": "code",
   "execution_count": null,
   "metadata": {},
   "outputs": [],
   "source": [
    "cordex_variables = {\n",
    "    \"precipitation\": \"mean_precipitation_flux\",\n",
    "    \"temperature\": \"2m_air_temperature\",\n",
    "}\n",
    "\n",
    "request_cordex = {\n",
    "    \"format\": \"zip\",\n",
    "    \"domain\": cordex_domain,\n",
    "    \"experiment\": \"historical\",\n",
    "    \"horizontal_resolution\": \"0_11_degree_x_0_11_degree\",\n",
    "    \"temporal_resolution\": \"monthly_mean\",\n",
    "    \"variable\": cordex_variables[variable],\n",
    "    \"gcm_model\": \"mpi_m_mpi_esm_lr\",\n",
    "    \"ensemble_member\": \"r1i1p1\",\n",
    "}\n",
    "\n",
    "cmip6_variables = {\n",
    "    \"precipitation\": \"precipitation\",\n",
    "    \"temperature\": \"near_surface_air_temperature\",\n",
    "}\n",
    "request_cmip6 = {\n",
    "    \"format\": \"zip\",\n",
    "    \"temporal_resolution\": \"monthly\",\n",
    "    \"experiment\": \"historical\",\n",
    "    \"variable\": cmip6_variables[variable],\n",
    "    \"year\": request_era[1][\"year\"],\n",
    "    \"month\": request_era[1][\"month\"],\n",
    "}\n",
    "\n",
    "\n",
    "def get_cordex_years(\n",
    "    year_start,\n",
    "    year_stop,\n",
    "    start_years=[1971, 1981, 1991, 2001],\n",
    "    end_years=[1980, 1990, 2000, 2005],\n",
    "):\n",
    "    start_year = []\n",
    "    end_year = []\n",
    "    years = set(range(year_start - 1, year_stop + 1))  # Include D(year-1)\n",
    "    for start, end in zip(start_years, end_years):\n",
    "        if years & set(range(start, end + 1)):\n",
    "            start_year.append(start)\n",
    "            end_year.append(end)\n",
    "    return start_year, end_year\n",
    "\n",
    "\n",
    "if collection_id == \"cordex\":\n",
    "    weights = False  # Do not weight spatial statistics/errors\n",
    "    periodic = False\n",
    "    models = models_cordex\n",
    "    model_key = \"rcm_model\"\n",
    "    request_sim = (\n",
    "        \"projections-cordex-domains-single-levels\",\n",
    "        [\n",
    "            {\n",
    "                **request_cordex,\n",
    "                \"start_year\": start_year,\n",
    "                \"end_year\": end_year,\n",
    "            }\n",
    "            for start_year, end_year in zip(*get_cordex_years(year_start, year_stop))\n",
    "        ],\n",
    "    )\n",
    "elif collection_id == \"cmip6\":\n",
    "    weights = True  # Weight spatial statistics/errors\n",
    "    periodic = True\n",
    "    models = models_cmip6\n",
    "    model_key = \"model\"\n",
    "    request_sim = (\n",
    "        \"projections-cmip6\",\n",
    "        download.split_request(request_cmip6, chunks=chunks),\n",
    "    )\n",
    "else:\n",
    "    raise ValueError"
   ]
  },
  {
   "attachments": {},
   "cell_type": "markdown",
   "metadata": {},
   "source": [
    "## Function to cache"
   ]
  },
  {
   "cell_type": "code",
   "execution_count": null,
   "metadata": {},
   "outputs": [],
   "source": [
    "def compute_regridded_timeseries(\n",
    "    ds, year_start, year_stop, annual, grid_out=None, **kwargs\n",
    "):\n",
    "    # Drop useless data\n",
    "    if annual:\n",
    "        mask = (ds[\"time\"].dt.year >= year_start) & (ds[\"time\"].dt.year <= year_stop)\n",
    "    else:\n",
    "        # Select years (shift -1 to get D(year-1)J(year)F(year))\n",
    "        ds = ds.assign_coords(year=ds[\"time\"].dt.year.shift(time=-1))\n",
    "        mask = (ds[\"year\"] >= year_start) & (ds[\"year\"] <= year_stop)\n",
    "    ds = ds.where(mask.compute(), drop=True)\n",
    "    if not ds.sizes[\"time\"]:\n",
    "        # Return empty dataset. Previous year needed for DJF only.\n",
    "        return xr.Dataset()\n",
    "\n",
    "    # Select variable\n",
    "    if var_names := set(ds.data_vars) & {\"mtpr\", \"pr\"}:\n",
    "        field = \"precipitation\"\n",
    "    elif var_names := set(ds.data_vars) & {\"tas\", \"t2m\"}:\n",
    "        field = \"temperature\"\n",
    "    else:\n",
    "        raise ValueError(\"Unable to find precipitation or temperature variable.\")\n",
    "    (var_name,) = var_names\n",
    "    da = ds[var_name].rename(field)\n",
    "\n",
    "    # Create timeseries\n",
    "    if annual:\n",
    "        da = diagnostics.annual_weighted_mean(da)\n",
    "    else:\n",
    "        da[\"year\"] = da[\"year\"].astype(int)\n",
    "        da = da.groupby(\"year\").map(diagnostics.seasonal_weighted_mean)\n",
    "\n",
    "    # Regid\n",
    "    if grid_out is not None:\n",
    "        da = diagnostics.regrid(da, grid_out, **kwargs)\n",
    "\n",
    "    # Convert units\n",
    "    with xr.set_options(keep_attrs=True):\n",
    "        if da.name == \"precipitation\":\n",
    "            da *= 3600 * 24\n",
    "            da.attrs[\"units\"] = \"mm/day\"\n",
    "        elif da.name == \"temperature\":\n",
    "            da -= 273.15\n",
    "            da.attrs[\"units\"] = \"°C\"\n",
    "            da = da.assign_coords(height=ds[\"height\"] if \"height\" in ds else None)\n",
    "        else:\n",
    "            raise ValueError\n",
    "    return da.to_dataset()"
   ]
  },
  {
   "attachments": {},
   "cell_type": "markdown",
   "metadata": {},
   "source": [
    "## Download data"
   ]
  },
  {
   "cell_type": "code",
   "execution_count": null,
   "metadata": {},
   "outputs": [],
   "source": [
    "annual = timeseries == \"annual\"\n",
    "transform_chunks = annual\n",
    "cached_open_mfdataset_kwargs = {\"chunks\": chunks}\n",
    "print(\"Downloading and processing ERA5\")\n",
    "ds_era = download.download_and_transform(\n",
    "    *request_era,\n",
    "    chunks=chunks,\n",
    "    transform_chunks=transform_chunks,\n",
    "    transform_func=compute_regridded_timeseries,\n",
    "    transform_func_kwargs={\n",
    "        \"year_start\": year_start,\n",
    "        \"year_stop\": year_stop,\n",
    "        \"annual\": annual,\n",
    "    },\n",
    "    cached_open_mfdataset_kwargs={\"chunks\": chunks},\n",
    ").expand_dims(model=[\"ERA5\"])\n",
    "\n",
    "datasets = []\n",
    "for model in models:\n",
    "    print(f\"Downloading and processing {model}\")\n",
    "    request_model = request_sim\n",
    "    for request in request_model[1]:\n",
    "        request[model_key] = model\n",
    "    ds = download.download_and_transform(\n",
    "        *request_model,\n",
    "        transform_chunks=transform_chunks,\n",
    "        transform_func=compute_regridded_timeseries,\n",
    "        transform_func_kwargs={\n",
    "            \"grid_out\": ds_era[[\"longitude\", \"latitude\"]],\n",
    "            \"year_start\": year_start,\n",
    "            \"year_stop\": year_stop,\n",
    "            \"annual\": annual,\n",
    "            \"method\": \"bilinear\",\n",
    "            \"periodic\": periodic,\n",
    "        },\n",
    "        cached_open_mfdataset_kwargs={\"chunks\": chunks},\n",
    "    )\n",
    "    datasets.append(ds.expand_dims(model=[model]))\n",
    "ds_sim = xr.concat(datasets, \"model\")"
   ]
  },
  {
   "attachments": {},
   "cell_type": "markdown",
   "metadata": {},
   "source": [
    "## Create a single dataset and compute bias"
   ]
  },
  {
   "cell_type": "code",
   "execution_count": null,
   "metadata": {},
   "outputs": [],
   "source": [
    "ds_timeseries = xr.concat(\n",
    "    [\n",
    "        ds_sim.drop_vars(\"height\", errors=\"ignore\"),\n",
    "        ds_sim.mean(\"model\").expand_dims(model=[\"ensemble\"]),\n",
    "        ds_era.drop_vars(\"height\", errors=\"ignore\"),\n",
    "    ],\n",
    "    \"model\",\n",
    ")\n",
    "if timeseries != \"annual\":\n",
    "    ds_timeseries = ds_timeseries.sel(season=timeseries)\n",
    "ds_timeseries = utils.regionalise(\n",
    "    ds_timeseries, lon_slice=lon_slice, lat_slice=lat_slice\n",
    ")\n",
    "\n",
    "with xr.set_options(keep_attrs=True):\n",
    "    ds = ds_timeseries.mean(\"year\").compute()\n",
    "    ds_bias = ds.drop_sel(model=\"ERA5\") - ds.sel(model=\"ERA5\")\n",
    "for da in ds_bias.data_vars.values():\n",
    "    da.attrs[\"long_name\"] += \" Bias\""
   ]
  },
  {
   "attachments": {},
   "cell_type": "markdown",
   "metadata": {},
   "source": [
    "## Plot Maps"
   ]
  },
  {
   "cell_type": "code",
   "execution_count": null,
   "metadata": {},
   "outputs": [],
   "source": [
    "# Choose projection\n",
    "Projection = (\n",
    "    ccrs.Robinson\n",
    "    if abs(lon_slice.stop - lon_slice.start) >= 360\n",
    "    and abs(lat_slice.stop - lat_slice.start) >= 180\n",
    "    else ccrs.PlateCarree\n",
    ")\n",
    "projection = Projection(central_longitude=(lon_slice.stop + lon_slice.start) / 2)\n",
    "\n",
    "da_to_plot = ds[variable].sel(model=[\"ensemble\", \"ERA5\"])\n",
    "plot_kwargs = xr.plot.utils._determine_cmap_params(\n",
    "    da_to_plot.values,\n",
    "    robust=True,\n",
    "    levels=10,\n",
    "    cmap=\"Blues\" if variable == \"precipitation\" else \"Reds\",\n",
    ")\n",
    "plot_kwargs[\"projection\"] = projection\n",
    "for _, da_to_plot in da_to_plot.groupby(\"model\"):\n",
    "    plot.projected_map(\n",
    "        da_to_plot,\n",
    "        stats_weights=True if da_to_plot[\"model\"] == \"ERA5\" else weights,\n",
    "        **plot_kwargs,\n",
    "    )\n",
    "    plt.show()"
   ]
  },
  {
   "attachments": {},
   "cell_type": "markdown",
   "metadata": {},
   "source": [
    "## Plot Bias"
   ]
  },
  {
   "cell_type": "code",
   "execution_count": null,
   "metadata": {},
   "outputs": [],
   "source": [
    "plot_kwargs = xr.plot.utils._determine_cmap_params(\n",
    "    ds_bias[variable].values,\n",
    "    robust=True,\n",
    "    levels=11,\n",
    "    cmap=\"bwr_r\" if variable == \"precipitation\" else \"bwr\",\n",
    ")\n",
    "plot_kwargs[\"projection\"] = projection\n",
    "plot.projected_map(\n",
    "    ds_bias[variable].sel(model=[\"ensemble\"]), stats_weights=weights, **plot_kwargs\n",
    ")\n",
    "plt.show()\n",
    "facet = plot.projected_map(\n",
    "    ds_bias[variable].drop_sel(model=\"ensemble\"),\n",
    "    col=\"model\",\n",
    "    col_wrap=min(3, ds_bias.sizes[\"model\"] - 1),\n",
    "    **plot_kwargs,\n",
    ")\n",
    "for ax in facet.axs.flatten():\n",
    "    ax.set_extent((lon_slice.start, lon_slice.stop, lat_slice.start, lat_slice.stop))"
   ]
  },
  {
   "attachments": {},
   "cell_type": "markdown",
   "metadata": {},
   "source": [
    "## Plot KDE and Statistics of Bias"
   ]
  },
  {
   "cell_type": "code",
   "execution_count": null,
   "metadata": {},
   "outputs": [],
   "source": [
    "# Create dataframe\n",
    "da = ds_bias[variable]\n",
    "df_stats = diagnostics.spatial_weighted_statistics(da, weights=weights).to_pandas()\n",
    "\n",
    "# Plot\n",
    "fig, ax = plt.subplots(1, 1)\n",
    "x = np.linspace(\n",
    "    df_stats[\"ensemble\"][\"mean\"] - 3 * df_stats[\"ensemble\"][\"std\"],\n",
    "    df_stats[\"ensemble\"][\"mean\"] + 3 * df_stats[\"ensemble\"][\"std\"],\n",
    "    1_000,\n",
    ")\n",
    "for model, values in da.groupby(\"model\"):\n",
    "    values = values.stack(dim=values.dims).dropna(\"dim\")\n",
    "    y = scipy.stats.gaussian_kde(\n",
    "        values,\n",
    "        weights=np.abs(np.cos(np.deg2rad(values[\"latitude\"]))) if weights else None,\n",
    "    ).evaluate(x)\n",
    "    plot_kwargs = {\"color\": \"k\", \"ls\": \"--\"} if model == \"ensemble\" else {}\n",
    "    ax.plot(x, y, label=model, **plot_kwargs)\n",
    "ax.grid()\n",
    "ax.set_xlim(x[[0, -1]])\n",
    "ax.set_xlabel(f\"{da.attrs['long_name']} [{da.attrs['units']}]\")\n",
    "ax.legend()\n",
    "\n",
    "# Add stats\n",
    "table = plt.table(\n",
    "    cellText=df_stats.round(5).T.values.tolist(),\n",
    "    colLabels=df_stats.T.columns.values.tolist(),\n",
    "    rowLabels=df_stats.T.index.values.tolist(),\n",
    "    loc=\"top\",\n",
    ")"
   ]
  },
  {
   "attachments": {},
   "cell_type": "markdown",
   "metadata": {},
   "source": [
    "## Compute and Show Statistics"
   ]
  },
  {
   "cell_type": "code",
   "execution_count": null,
   "metadata": {},
   "outputs": [],
   "source": [
    "ds_stats = xr.concat(\n",
    "    [\n",
    "        diagnostics.spatial_weighted_statistics(\n",
    "            ds.drop_sel(model=\"ERA5\"), weights=weights\n",
    "        ),\n",
    "        diagnostics.spatial_weighted_statistics(ds.sel(model=\"ERA5\"), weights=True),\n",
    "    ],\n",
    "    \"model\",\n",
    ")\n",
    "ds_error = diagnostics.spatial_weighted_errors(\n",
    "    ds.drop_sel(model=\"ERA5\"), ds.sel(model=\"ERA5\"), weights=weights\n",
    ")\n",
    "df_stats_and_error = xr.merge([ds_stats, ds_error])[variable].to_pandas()\n",
    "df_stats_and_error"
   ]
  },
  {
   "attachments": {},
   "cell_type": "markdown",
   "metadata": {},
   "source": [
    "## Taylor Dyagram"
   ]
  },
  {
   "cell_type": "code",
   "execution_count": null,
   "metadata": {},
   "outputs": [],
   "source": [
    "tickRMS = np.linspace(0, df_stats_and_error.loc[\"crmse\"].max(), 5, dtype=int)\n",
    "tickSTD = np.linspace(0, df_stats_and_error.loc[\"std\"].max(), 5, dtype=int)\n",
    "skill_metrics.taylor_diagram(\n",
    "    df_stats_and_error.loc[\"std\"].values,\n",
    "    df_stats_and_error.loc[\"crmse\"].values,\n",
    "    df_stats_and_error.loc[\"corr\"].values,\n",
    "    alpha=0.0,\n",
    "    colCOR=\"k\",\n",
    "    colOBS=\"k\",\n",
    "    colRMS=\"m\",\n",
    "    colSTD=\"b\",\n",
    "    markerColor=\"r\" if len(df_stats_and_error.columns) >= 9 else None,  # TODO\n",
    "    markerLabel=list(df_stats_and_error.columns),\n",
    "    markerLegend=\"on\",\n",
    "    markerSize=10,\n",
    "    markerobs=\"o\",\n",
    "    styleCOR=\"--\",\n",
    "    styleOBS=\"--\",\n",
    "    styleRMS=\":\",\n",
    "    styleSTD=\"-.\",\n",
    "    tickRMS=tickRMS,\n",
    "    tickSTD=tickSTD,\n",
    "    titleCOR=\"on\",\n",
    "    titleOBS=\"ERA5\",\n",
    "    titleRMS=\"on\",\n",
    "    titleRMSDangle=40.0,\n",
    "    titleSTD=\"on\",\n",
    "    widthCOR=0.5,\n",
    "    widthOBS=2,\n",
    "    widthRMS=2,\n",
    "    widthSTD=1.0,\n",
    ")"
   ]
  }
 ],
 "metadata": {
  "kernelspec": {
   "display_name": "Python 3 (ipykernel)",
   "language": "python",
   "name": "python3"
  },
  "language_info": {
   "codemirror_mode": {
    "name": "ipython",
    "version": 3
   },
   "file_extension": ".py",
   "mimetype": "text/x-python",
   "name": "python",
   "nbconvert_exporter": "python",
   "pygments_lexer": "ipython3",
   "version": "3.10.11"
  },
  "vscode": {
   "interpreter": {
    "hash": "39a16a1176456aec0710d6d8dd097fdfd8eece03838aebbaaddfca0f16ac2477"
   }
  }
 },
 "nbformat": 4,
 "nbformat_minor": 4
}
