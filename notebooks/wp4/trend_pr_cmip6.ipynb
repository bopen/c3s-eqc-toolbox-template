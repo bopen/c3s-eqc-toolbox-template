{
 "cells": [
  {
   "attachments": {},
   "cell_type": "markdown",
   "metadata": {},
   "source": [
    "## Import packages"
   ]
  },
  {
   "cell_type": "code",
   "execution_count": null,
   "metadata": {},
   "outputs": [],
   "source": [
    "import functools\n",
    "import warnings\n",
    "\n",
    "import cartopy.crs as ccrs\n",
    "import matplotlib.pyplot as plt\n",
    "import numpy as np\n",
    "import skill_metrics\n",
    "import xarray as xr\n",
    "from c3s_eqc_automatic_quality_control import diagnostics, download, plot\n",
    "from xarrayMannKendall import Mann_Kendall_test\n",
    "\n",
    "warnings.filterwarnings(\"ignore\")\n",
    "plt.style.use(\"seaborn-v0_8-notebook\")\n",
    "plt.rcParams[\"hatch.linewidth\"] = 0.5"
   ]
  },
  {
   "attachments": {},
   "cell_type": "markdown",
   "metadata": {},
   "source": [
    "## Settings"
   ]
  },
  {
   "cell_type": "code",
   "execution_count": null,
   "metadata": {},
   "outputs": [],
   "source": [
    "# Time\n",
    "year_start = 1959\n",
    "year_stop = 2014\n",
    "\n",
    "# Models\n",
    "models = [\n",
    "    \"access_cm2\",\n",
    "    \"awi_esm_1_1_lr\",\n",
    "    \"bcc_esm1\",\n",
    "    \"cnrm_cm6_1\",\n",
    "    \"fgoals_g3\",\n",
    "    \"hadgem3_gc31_ll\",\n",
    "]\n",
    "\n",
    "# Chunks for download\n",
    "chunks = {\"year\": 10}\n",
    "\n",
    "# Define climatology years\n",
    "clima_year_start = 1959\n",
    "clima_year_stop = 1979"
   ]
  },
  {
   "attachments": {},
   "cell_type": "markdown",
   "metadata": {},
   "source": [
    "## Define request"
   ]
  },
  {
   "cell_type": "code",
   "execution_count": null,
   "metadata": {},
   "outputs": [],
   "source": [
    "common_request = {\n",
    "    \"year\": [str(year) for year in range(year_start, year_stop + 1)],\n",
    "    \"month\": [f\"{month:02d}\" for month in range(1, 12 + 1)],\n",
    "}\n",
    "\n",
    "request_era = (\n",
    "    \"reanalysis-era5-single-levels-monthly-means\",\n",
    "    {\n",
    "        \"product_type\": \"monthly_averaged_reanalysis\",\n",
    "        \"format\": \"netcdf\",\n",
    "        \"time\": \"00:00\",\n",
    "        \"variable\": \"mean_total_precipitation_rate\",\n",
    "        **common_request,\n",
    "    },\n",
    ")\n",
    "\n",
    "request_sim = (\n",
    "    \"projections-cmip6\",\n",
    "    {\n",
    "        \"format\": \"zip\",\n",
    "        \"temporal_resolution\": \"monthly\",\n",
    "        \"experiment\": \"historical\",\n",
    "        \"variable\": \"precipitation\",\n",
    "        **common_request,\n",
    "    },\n",
    ")"
   ]
  },
  {
   "attachments": {},
   "cell_type": "markdown",
   "metadata": {},
   "source": [
    "## Functions to cache"
   ]
  },
  {
   "cell_type": "code",
   "execution_count": null,
   "metadata": {},
   "outputs": [],
   "source": [
    "original_test = functools.partial(Mann_Kendall_test, alpha=0.05, method=\"theilslopes\")\n",
    "\n",
    "\n",
    "def get_annual_precipitation(ds, model):\n",
    "    # Varname\n",
    "    varname = \"mtpr\" if model == \"ERA5\" else \"pr\"\n",
    "\n",
    "    # Annual weighted mean\n",
    "    da = diagnostics.annual_weighted_mean(ds[varname])\n",
    "\n",
    "    # Convert units\n",
    "    with xr.set_options(keep_attrs=True):\n",
    "        da = da * 3600 * 24\n",
    "    da.attrs[\"units\"] = \"mm/day\"\n",
    "\n",
    "    return da\n",
    "\n",
    "\n",
    "def compute_climatology(da, clima_year_start, clima_year_stop):\n",
    "    with xr.set_options(keep_attrs=True):\n",
    "        mask = (da[\"year\"] >= clima_year_start) & (da[\"year\"] <= clima_year_stop)\n",
    "        clima = da.where(mask).mean(\"year\")\n",
    "    return clima\n",
    "\n",
    "\n",
    "def compute_anomaly(da, clima_year_start, clima_year_stop):\n",
    "    clima = compute_climatology(da, clima_year_start, clima_year_stop)\n",
    "    anoma = (da - clima) * 100 / da\n",
    "    anoma.attrs.update({\"long_name\": \"precipitation anomaly\", \"units\": \"%\"})\n",
    "    return anoma\n",
    "\n",
    "\n",
    "def spatial_weighted_trends(ds, model, clima_year_start, clima_year_stop):\n",
    "    if \"precipitation\" in ds:\n",
    "        da = ds[\"precipitation\"]\n",
    "    else:\n",
    "        da = diagnostics.spatial_weighted_mean(get_annual_precipitation(ds, model))\n",
    "    anoma = compute_anomaly(da, clima_year_start, clima_year_stop)\n",
    "\n",
    "    # Compute anomaly trends\n",
    "    ds = (\n",
    "        original_test(\n",
    "            anoma.expand_dims(\"x\"),\n",
    "            coords_name={\"time\": \"year\", \"x\": \"x\"},\n",
    "        )\n",
    "        .compute()\n",
    "        .squeeze(\"x\", drop=True)\n",
    "    )\n",
    "\n",
    "    # Add precipitation and anomaly\n",
    "    ds[\"precipitation\"] = da\n",
    "    ds[\"precipitation_anomaly\"] = anoma\n",
    "\n",
    "    return ds.expand_dims(model=[model])\n",
    "\n",
    "\n",
    "def regridded_trends(\n",
    "    ds, model, clima_year_start, clima_year_stop, grid_out=None, **kwargs\n",
    "):\n",
    "    da = get_annual_precipitation(ds, model)\n",
    "\n",
    "    # Compute anomaly trends\n",
    "    coords_name = {\"time\": \"year\", \"x\": \"longitude\", \"y\": \"latitude\"}\n",
    "    ds = original_test(\n",
    "        da,\n",
    "        coords_name=coords_name,\n",
    "    ).compute()\n",
    "    ds = ds.rename({k: v for k, v in coords_name.items() if k != \"time\"})\n",
    "\n",
    "    # Add precipitation and climatology\n",
    "    clima = compute_climatology(da, clima_year_start, clima_year_stop)\n",
    "    ds[\"precipitation_climatology\"] = clima\n",
    "\n",
    "    if grid_out is not None:\n",
    "        ds = diagnostics.regrid(ds, grid_out, **kwargs)\n",
    "\n",
    "    return ds.expand_dims(model=[model])"
   ]
  },
  {
   "attachments": {},
   "cell_type": "markdown",
   "metadata": {},
   "source": [
    "## Compute spatial weighted trends"
   ]
  },
  {
   "cell_type": "code",
   "execution_count": null,
   "metadata": {},
   "outputs": [],
   "source": [
    "datasets = []\n",
    "transform_func_kwargs = {\n",
    "    \"clima_year_start\": clima_year_start,\n",
    "    \"clima_year_stop\": clima_year_stop,\n",
    "}\n",
    "for model in models + [\"ERA5\"]:\n",
    "    print(f\"Downloading and processing {model}\")\n",
    "    if model == \"ERA5\":\n",
    "        request_model = request_era\n",
    "    else:\n",
    "        request_model = request_sim\n",
    "        request_model[1][\"model\"] = model\n",
    "    datasets.append(\n",
    "        download.download_and_transform(\n",
    "            *request_model,\n",
    "            chunks=chunks,\n",
    "            transform_func=spatial_weighted_trends,\n",
    "            transform_func_kwargs={\"model\": model, **transform_func_kwargs},\n",
    "            transform_chunks=False,\n",
    "        )\n",
    "    )\n",
    "\n",
    "# Combine and add ensemble\n",
    "ds_spatial_weighted = xr.concat(datasets, \"model\")\n",
    "with xr.set_options(keep_attrs=True):\n",
    "    ds_ensemble = ds_spatial_weighted.drop_sel(model=\"ERA5\").mean(\"model\")\n",
    "ds_spatial_weighted = ds_spatial_weighted.merge(\n",
    "    spatial_weighted_trends(ds_ensemble, model=\"ensemble\", **transform_func_kwargs)\n",
    ")"
   ]
  },
  {
   "attachments": {},
   "cell_type": "markdown",
   "metadata": {},
   "source": [
    "## Plot spatial weighted precipitation and anomaly"
   ]
  },
  {
   "cell_type": "code",
   "execution_count": null,
   "metadata": {},
   "outputs": [],
   "source": [
    "for var in [\"precipitation\", \"precipitation_anomaly\"]:\n",
    "    da = ds_spatial_weighted[var]\n",
    "    da.drop_sel(model=[\"ensemble\", \"ERA5\"]).plot(\n",
    "        hue=\"model\", linewidth=0.5, color=\"grey\"\n",
    "    )\n",
    "    da.sel(model=[\"ensemble\", \"ERA5\"]).plot(hue=\"model\")\n",
    "    plt.show()"
   ]
  },
  {
   "attachments": {},
   "cell_type": "markdown",
   "metadata": {},
   "source": [
    "## Spatial weighted trends boxplot"
   ]
  },
  {
   "cell_type": "code",
   "execution_count": null,
   "metadata": {},
   "outputs": [],
   "source": [
    "df_slope = (ds_spatial_weighted[\"trend\"] * 10).to_dataframe()\n",
    "\n",
    "ax = df_slope.boxplot()\n",
    "ax.scatter(x=[1] * len(df_slope), y=df_slope, color=\"grey\", marker=\".\")\n",
    "for model in [\"ensemble\", \"ERA5\"]:\n",
    "    ax.scatter(x=1, y=df_slope[df_slope.index == model], label=model, marker=\"o\")\n",
    "ax.set_ylabel(\"% / decade\")\n",
    "plt.legend()"
   ]
  },
  {
   "attachments": {},
   "cell_type": "markdown",
   "metadata": {},
   "source": [
    "## Compute trend maps"
   ]
  },
  {
   "cell_type": "code",
   "execution_count": null,
   "metadata": {},
   "outputs": [],
   "source": [
    "print(\"Downloading and processing ERA5\")\n",
    "transform_func_kwargs = {\n",
    "    \"clima_year_start\": clima_year_start,\n",
    "    \"clima_year_stop\": clima_year_stop,\n",
    "    \"method\": \"conservative\",\n",
    "}\n",
    "\n",
    "ds_era = download.download_and_transform(\n",
    "    *request_era,\n",
    "    chunks=chunks,\n",
    "    transform_func=regridded_trends,\n",
    "    transform_func_kwargs={\"model\": \"ERA5\", **transform_func_kwargs},\n",
    "    transform_chunks=False,\n",
    ")\n",
    "\n",
    "datasets = []\n",
    "for model in models:\n",
    "    print(f\"Downloading and processing {model}\")\n",
    "    request_model = request_sim\n",
    "    request_model[1][\"model\"] = model\n",
    "    ds = download.download_and_transform(\n",
    "        *request_model,\n",
    "        chunks=chunks,\n",
    "        transform_func=regridded_trends,\n",
    "        transform_func_kwargs={\n",
    "            \"model\": model,\n",
    "            \"grid_out\": ds_era[[\"longitude\", \"latitude\"]],\n",
    "            **transform_func_kwargs,\n",
    "        },\n",
    "        transform_chunks=False,\n",
    "    )\n",
    "    datasets.append(ds)\n",
    "\n",
    "ds_sim_regr = xr.concat(datasets, \"model\")\n",
    "ds_ens = ds_sim_regr.mean(\"model\").expand_dims(model=[\"ensemble\"])\n",
    "ds_all_regr = xr.concat([ds_era, ds_ens, ds_sim_regr], \"model\")\n",
    "\n",
    "da_trend = ds_all_regr[\"trend\"] * 1.0e3 / ds_all_regr[\"precipitation_climatology\"]\n",
    "da_trend.name = \"\"\n",
    "da_trend.attrs.update({\"units\": \"%/decade\"})"
   ]
  },
  {
   "attachments": {},
   "cell_type": "markdown",
   "metadata": {},
   "source": [
    "## Define plotting kwargs"
   ]
  },
  {
   "cell_type": "code",
   "execution_count": null,
   "metadata": {},
   "outputs": [],
   "source": [
    "shading_kwargs = {\n",
    "    \"projection\": ccrs.Robinson(),\n",
    "    \"levels\": np.linspace(-10, 10, 9),\n",
    "    \"cmap\": \"bwr_r\",\n",
    "}\n",
    "hatches_kwargs = {\n",
    "    \"plot_func\": \"contourf\",\n",
    "    \"show_stats\": False,\n",
    "    \"cmap\": \"none\",\n",
    "    \"add_colorbar\": False,\n",
    "}"
   ]
  },
  {
   "attachments": {},
   "cell_type": "markdown",
   "metadata": {},
   "source": [
    "## Plot ERA5 trends"
   ]
  },
  {
   "cell_type": "code",
   "execution_count": null,
   "metadata": {},
   "outputs": [],
   "source": [
    "model = \"ERA5\"\n",
    "plot.projected_map(da_trend.sel(model=model), **shading_kwargs)\n",
    "plot.projected_map(\n",
    "    ds_all_regr[\"p\"].sel(model=model),\n",
    "    levels=[0, 0.05, 1],\n",
    "    hatches=[\"\", \"/\" * 4],\n",
    "    **hatches_kwargs,\n",
    ")\n",
    "plt.suptitle(f\"Precipitation trend ({year_start}-{year_stop})\")"
   ]
  },
  {
   "attachments": {},
   "cell_type": "markdown",
   "metadata": {},
   "source": [
    "## Plote esemble trends"
   ]
  },
  {
   "cell_type": "code",
   "execution_count": null,
   "metadata": {},
   "outputs": [],
   "source": [
    "model = \"ensemble\"\n",
    "is_signif = xr.where(\n",
    "    ds_sim_regr[\"p\"] <= 0.05,\n",
    "    ds_sim_regr[\"trend\"] / ds_ens[\"trend\"].squeeze() > 0,\n",
    "    False,\n",
    ")\n",
    "is_signif_ratio = is_signif.sum(\"model\") / is_signif.sizes[\"model\"]\n",
    "is_signif_ratio = is_signif_ratio.expand_dims(model=[model])\n",
    "plot.projected_map(da_trend.sel(model=model), **shading_kwargs)\n",
    "plot.projected_map(\n",
    "    is_signif_ratio.squeeze(),\n",
    "    levels=[0, 0.8, 1],\n",
    "    hatches=[\"/\" * 5, \"\"],\n",
    "    **hatches_kwargs,\n",
    ")\n",
    "plt.suptitle(f\"Precipitation trend ({year_start}-{year_stop})\")"
   ]
  },
  {
   "attachments": {},
   "cell_type": "markdown",
   "metadata": {},
   "source": [
    "## Plot precipitation trends for all models"
   ]
  },
  {
   "cell_type": "code",
   "execution_count": null,
   "metadata": {},
   "outputs": [],
   "source": [
    "facet = plot.projected_map(\n",
    "    da_trend.drop_sel(model=[\"ERA5\", \"ensemble\"]),\n",
    "    col=\"model\",\n",
    "    col_wrap=3,\n",
    "    cbar_kwargs={\"orientation\": \"horizontal\"},\n",
    "    **shading_kwargs,\n",
    ")\n",
    "for ax, sel in zip(facet.axs.flatten(), facet.name_dicts.flatten()):\n",
    "    if not sel:\n",
    "        continue\n",
    "    da = ds_all_regr[\"p\"].sel(**sel)\n",
    "    plot.projected_map(\n",
    "        da, ax=ax, levels=[0, 0.05, 1], hatches=[\"\", \"/\" * 5], **hatches_kwargs\n",
    "    )\n",
    "plt.suptitle(f\"Precipitation trend ({year_start}-{year_stop})\")"
   ]
  },
  {
   "attachments": {},
   "cell_type": "markdown",
   "metadata": {},
   "source": [
    "## Plot precipitation trend bias for all models"
   ]
  },
  {
   "cell_type": "code",
   "execution_count": null,
   "metadata": {},
   "outputs": [],
   "source": [
    "da_bias = (\n",
    "    (ds_all_regr[\"trend\"].drop_sel(model=\"ERA5\") - ds_era[\"trend\"].squeeze())\n",
    "    * 1_000\n",
    "    / ds_era[\"precipitation_climatology\"].squeeze()\n",
    ")\n",
    "da_bias.name = \"\"\n",
    "da_bias.attrs.update({\"units\": \"%/decade\"})\n",
    "plot.projected_map(\n",
    "    da_bias.drop_sel(model=\"ensemble\"),\n",
    "    col=\"model\",\n",
    "    col_wrap=3,\n",
    "    cbar_kwargs={\"orientation\": \"horizontal\"},\n",
    "    **shading_kwargs,\n",
    ")\n",
    "plt.suptitle(f\"Precipitation trend bias ({year_start}-{year_stop})\")"
   ]
  },
  {
   "attachments": {},
   "cell_type": "markdown",
   "metadata": {},
   "source": [
    "## Plot precipitation trend bias for ensamble"
   ]
  },
  {
   "cell_type": "code",
   "execution_count": null,
   "metadata": {},
   "outputs": [],
   "source": [
    "model = \"ensemble\"\n",
    "plot.projected_map(da_bias.sel(model=model), **shading_kwargs)\n",
    "plt.suptitle(f\"Precipitation trend bias ({year_start}-{year_stop})\")"
   ]
  },
  {
   "attachments": {},
   "cell_type": "markdown",
   "metadata": {},
   "source": [
    "## Compute statistics"
   ]
  },
  {
   "cell_type": "code",
   "execution_count": null,
   "metadata": {},
   "outputs": [],
   "source": [
    "ds_trend = da_trend.to_dataset(name=\"trend\")\n",
    "ds_stats = diagnostics.spatial_weighted_statistics(ds_trend)\n",
    "ds_error = diagnostics.spatial_weighted_errors(\n",
    "    ds_trend.drop_sel(model=\"ERA5\"), ds_trend.sel(model=\"ERA5\")\n",
    ")\n",
    "df_stats_and_error = xr.merge([ds_stats, ds_error])[\"trend\"].to_pandas()\n",
    "df_stats_and_error"
   ]
  },
  {
   "attachments": {},
   "cell_type": "markdown",
   "metadata": {},
   "source": [
    "## Taylor Diagram"
   ]
  },
  {
   "cell_type": "code",
   "execution_count": null,
   "metadata": {},
   "outputs": [],
   "source": [
    "# Bug in\n",
    "skill_metrics.taylor_diagram(\n",
    "    df_stats_and_error.loc[\"std\"].values,\n",
    "    df_stats_and_error.loc[\"crmse\"].values,\n",
    "    df_stats_and_error.loc[\"corr\"].values,\n",
    "    alpha=0.0,\n",
    "    axismax=4,\n",
    "    colCOR=\"k\",\n",
    "    colOBS=\"k\",\n",
    "    colRMS=\"m\",\n",
    "    colSTD=\"b\",\n",
    "    markerLabel=list(df_stats_and_error.columns),\n",
    "    markerLegend=\"on\",\n",
    "    markerSize=10,\n",
    "    markerobs=\"o\",\n",
    "    styleCOR=\"--\",\n",
    "    styleOBS=\"--\",\n",
    "    styleRMS=\":\",\n",
    "    styleSTD=\"-.\",\n",
    "    tickRMS=np.linspace(0, 4, 5),\n",
    "    tickSTD=np.linspace(0, 4, 5),\n",
    "    titleCOR=\"on\",\n",
    "    titleOBS=\"ERA5\",\n",
    "    titleRMS=\"on\",\n",
    "    titleRMSDangle=40.0,\n",
    "    titleSTD=\"on\",\n",
    "    widthCOR=0.5,\n",
    "    widthOBS=2,\n",
    "    widthRMS=2,\n",
    "    widthSTD=1.0,\n",
    ")"
   ]
  }
 ],
 "metadata": {
  "kernelspec": {
   "display_name": "eqc",
   "language": "python",
   "name": "python3"
  },
  "language_info": {
   "codemirror_mode": {
    "name": "ipython",
    "version": 3
   },
   "file_extension": ".py",
   "mimetype": "text/x-python",
   "name": "python",
   "nbconvert_exporter": "python",
   "pygments_lexer": "ipython3",
   "version": "3.10.11"
  }
 },
 "nbformat": 4,
 "nbformat_minor": 2
}
