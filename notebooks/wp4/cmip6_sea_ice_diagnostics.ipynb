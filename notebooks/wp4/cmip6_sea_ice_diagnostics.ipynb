{
 "cells": [
  {
   "attachments": {},
   "cell_type": "markdown",
   "metadata": {},
   "source": [
    "# Sea ice diagnostics for different CMIP6 experiments"
   ]
  },
  {
   "attachments": {},
   "cell_type": "markdown",
   "metadata": {},
   "source": [
    "## Import libraries"
   ]
  },
  {
   "cell_type": "code",
   "execution_count": null,
   "metadata": {},
   "outputs": [],
   "source": [
    "import matplotlib.pyplot as plt\n",
    "import pandas as pd\n",
    "import xarray as xr\n",
    "from c3s_eqc_automatic_quality_control import diagnostics, download\n",
    "\n",
    "plt.style.use(\"seaborn-v0_8-notebook\")"
   ]
  },
  {
   "attachments": {},
   "cell_type": "markdown",
   "metadata": {},
   "source": [
    "## Set parameters"
   ]
  },
  {
   "cell_type": "code",
   "execution_count": null,
   "metadata": {},
   "outputs": [],
   "source": [
    "# Time\n",
    "year_start = 1985\n",
    "year_stop = 1986\n",
    "\n",
    "# Sea Ice Concentration Threshold\n",
    "sic_threshold = 30  # %\n",
    "\n",
    "# Models\n",
    "models = [\n",
    "    \"access_cm2\",\n",
    "    \"access_esm1_5\",\n",
    "    \"cams_csm1_0\",\n",
    "    \"cmcc_cm2_hr4\",\n",
    "    \"cmcc_cm2_sr5\",\n",
    "    \"cmcc_esm2\",\n",
    "    \"cnrm_cm6_1\",\n",
    "    \"cnrm_cm6_1_hr\",\n",
    "    \"cnrm_esm2_1\",\n",
    "    \"canesm5\",\n",
    "    \"canesm5_canoe\",\n",
    "    \"e3sm_1_0\",\n",
    "    \"e3sm_1_1\",\n",
    "    \"e3sm_1_1_eca\",\n",
    "    \"ec_earth3_aerchem\",\n",
    "    \"ec_earth3_cc\",\n",
    "    \"ec_earth3_veg_lr\",\n",
    "    \"fgoals_f3_l\",\n",
    "    \"fio_esm_2_0\",\n",
    "    \"giss_e2_1_h\",\n",
    "    \"hadgem3_gc31_ll\",\n",
    "    \"hadgem3_gc31_mm\",\n",
    "    \"inm_cm4_8\",\n",
    "    \"inm_cm5_0\",\n",
    "    \"ipsl_cm5a2_inca\",\n",
    "    \"ipsl_cm6a_lr\",\n",
    "    \"kiost_esm\",\n",
    "    \"miroc_es2l\",\n",
    "    \"miroc6\",\n",
    "    \"mpi_esm1_2_hr\",\n",
    "    \"mpi_esm1_2_lr\",\n",
    "    \"mri_esm2_0\",\n",
    "    \"nesm3\",\n",
    "    \"norcpm1\",\n",
    "    \"noresm2_mm\",\n",
    "    \"taiesm1\",\n",
    "    \"ukesm1_0_ll\",\n",
    "]\n",
    "\n",
    "# Chunks for download\n",
    "chunks = {\"year\": 1}"
   ]
  },
  {
   "attachments": {},
   "cell_type": "markdown",
   "metadata": {},
   "source": [
    "## Define request"
   ]
  },
  {
   "cell_type": "code",
   "execution_count": null,
   "metadata": {},
   "outputs": [],
   "source": [
    "common_request = {\n",
    "    \"year\": [str(year) for year in range(year_start, year_stop + 1)],\n",
    "    \"month\": [f\"{month:02d}\" for month in range(1, 12 + 1)],\n",
    "}\n",
    "\n",
    "request_era = (\n",
    "    \"reanalysis-era5-single-levels-monthly-means\",\n",
    "    {\n",
    "        \"product_type\": \"monthly_averaged_reanalysis\",\n",
    "        \"format\": \"netcdf\",\n",
    "        \"time\": \"00:00\",\n",
    "        \"variable\": \"sea_ice_cover\",\n",
    "        **common_request,\n",
    "    },\n",
    ")\n",
    "\n",
    "request_sim = (\n",
    "    \"projections-cmip6\",\n",
    "    {\n",
    "        \"format\": \"zip\",\n",
    "        \"temporal_resolution\": \"monthly\",\n",
    "        \"experiment\": \"historical\",\n",
    "        \"variable\": \"sea_ice_area_percentage_on_ocean_grid\",\n",
    "        **common_request,\n",
    "    },\n",
    ")"
   ]
  },
  {
   "attachments": {},
   "cell_type": "markdown",
   "metadata": {},
   "source": [
    "## Define function to cache"
   ]
  },
  {
   "cell_type": "code",
   "execution_count": null,
   "metadata": {},
   "outputs": [],
   "source": [
    "def transform_grid(ds):\n",
    "    for coord in (\"longitude\", \"latitude\"):\n",
    "        if coord not in ds.cf.bounds:\n",
    "            ds = ds.cf.add_bounds(coord)\n",
    "    return ds.drop_dims(\"time\")\n",
    "\n",
    "\n",
    "def interpolate_and_get_sea_ice_diagnostics(ds, sic_threshold):\n",
    "    \"\"\"\n",
    "    Interpolate to 25x25km grid and return sea ice diagnostics.\n",
    "\n",
    "    Parameters\n",
    "    ----------\n",
    "    ds: xr.Dataset\n",
    "        Dataset to process\n",
    "    sic_threshol: float\n",
    "        Sea ice concentration threshold (%)\n",
    "\n",
    "    Returns\n",
    "    -------\n",
    "    xr.Dataset\n",
    "    \"\"\"\n",
    "    # Grid for interpolation\n",
    "    collection_id_grid = \"satellite-sea-ice-concentration\"\n",
    "    request_grid = {\n",
    "        \"version\": \"v2\",\n",
    "        \"variable\": \"all\",\n",
    "        \"format\": \"zip\",\n",
    "        \"origin\": \"esa_cci\",\n",
    "        \"cdr_type\": \"cdr\",\n",
    "        \"year\": \"2002\",\n",
    "        \"month\": \"06\",\n",
    "        \"day\": \"01\",\n",
    "    }\n",
    "    grid_cell_area = 25**2  # km2\n",
    "\n",
    "    # Same time for all datasets\n",
    "    ds[\"time\"] = pd.to_datetime(ds[\"time\"].dt.strftime(\"%Y-%m-01\"))\n",
    "    sic_is_normalized = ds[\"siconc\"].attrs.get(\"units\", \"\") == \"(0 - 1)\"\n",
    "    if sic_is_normalized:\n",
    "        sic_threshold /= 100\n",
    "\n",
    "    # Loop over north and south\n",
    "    datasets = []\n",
    "    for region in (\"northern_hemisphere\", \"southern_hemisphere\"):\n",
    "        request_grid[\"region\"] = region\n",
    "        grid_out = download.download_and_transform(\n",
    "            collection_id_grid, request_grid, transform_func=transform_grid\n",
    "        )\n",
    "\n",
    "        # Regrid\n",
    "        ds_region = diagnostics.regrid(ds, grid_out, method=\"conservative\")\n",
    "\n",
    "        # Compute sea ice diagnostics\n",
    "        siextent = xr.where(ds_region[\"siconc\"] > sic_threshold, grid_cell_area, 0)\n",
    "        siarea = ds_region[\"siconc\"] * (grid_cell_area / int(sic_is_normalized or 100))\n",
    "        ds_region = xr.merge([siextent.rename(\"siextent\"), siarea.rename(\"siarea\")])\n",
    "\n",
    "        # Sum and append\n",
    "        ds_region = ds_region.sum(set(ds_region.dims) - {\"time\"})\n",
    "        datasets.append(ds_region.expand_dims(region=[region]))\n",
    "    ds = xr.merge(datasets)\n",
    "\n",
    "    # Add attributes\n",
    "    for var, da in ds.data_vars.items():\n",
    "        ds[var].attrs = {\n",
    "            \"standard_name\": var.replace(\"si\", \"sea_ice_\", 1),\n",
    "            \"units\": \"km2\",\n",
    "            \"long_name\": var.replace(\"si\", \"Sea ice \", 1),\n",
    "        }\n",
    "    return ds"
   ]
  },
  {
   "attachments": {},
   "cell_type": "markdown",
   "metadata": {},
   "source": [
    "## Download and combine dataset"
   ]
  },
  {
   "cell_type": "code",
   "execution_count": null,
   "metadata": {},
   "outputs": [],
   "source": [
    "datasets = []\n",
    "for model in [\"ERA5\"] + models:\n",
    "    print(f\"Downloading and processing {model}\")\n",
    "    if model == \"ERA5\":\n",
    "        request_model = request_era\n",
    "    else:\n",
    "        request_model = request_sim\n",
    "        request_model[1][\"model\"] = model\n",
    "    ds = download.download_and_transform(\n",
    "        *request_model,\n",
    "        chunks=chunks,\n",
    "        transform_func=interpolate_and_get_sea_ice_diagnostics,\n",
    "        transform_func_kwargs={\n",
    "            \"sic_threshold\": sic_threshold,\n",
    "        },\n",
    "        drop_variables=(\"type\",),\n",
    "    )\n",
    "    datasets.append(ds.expand_dims(model=[model]))\n",
    "ds = xr.concat(datasets, \"model\")"
   ]
  },
  {
   "attachments": {},
   "cell_type": "markdown",
   "metadata": {},
   "source": [
    "## Plot variables"
   ]
  },
  {
   "cell_type": "code",
   "execution_count": null,
   "metadata": {},
   "outputs": [],
   "source": [
    "for da in ds.data_vars.values():\n",
    "    da.plot(col=\"region\", hue=\"model\")\n",
    "    plt.show()"
   ]
  },
  {
   "cell_type": "code",
   "execution_count": null,
   "metadata": {},
   "outputs": [],
   "source": []
  }
 ],
 "metadata": {
  "kernelspec": {
   "display_name": "eqc",
   "language": "python",
   "name": "python3"
  },
  "language_info": {
   "codemirror_mode": {
    "name": "ipython",
    "version": 3
   },
   "file_extension": ".py",
   "mimetype": "text/x-python",
   "name": "python",
   "nbconvert_exporter": "python",
   "pygments_lexer": "ipython3",
   "version": "3.10.10"
  }
 },
 "nbformat": 4,
 "nbformat_minor": 2
}
