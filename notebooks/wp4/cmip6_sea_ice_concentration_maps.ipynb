{
 "cells": [
  {
   "cell_type": "markdown",
   "metadata": {},
   "source": [
    "## CMIP6 sea ice concentration maps"
   ]
  },
  {
   "cell_type": "markdown",
   "metadata": {},
   "source": [
    "## Import libraries"
   ]
  },
  {
   "cell_type": "code",
   "execution_count": null,
   "metadata": {},
   "outputs": [],
   "source": [
    "import math\n",
    "import warnings\n",
    "\n",
    "import cartopy.crs as ccrs\n",
    "import cmocean\n",
    "import matplotlib.pyplot as plt\n",
    "import xarray as xr\n",
    "from c3s_eqc_automatic_quality_control import diagnostics, download, plot\n",
    "\n",
    "plt.style.use(\"seaborn-v0_8-notebook\")\n",
    "warnings.filterwarnings(\"ignore\", module=\"cf_xarray\")"
   ]
  },
  {
   "cell_type": "markdown",
   "metadata": {},
   "source": [
    "## Set parameters"
   ]
  },
  {
   "cell_type": "code",
   "execution_count": null,
   "metadata": {},
   "outputs": [],
   "source": [
    "# Time Periods\n",
    "periods = [\n",
    "    slice(\"1985\", \"1994\"),\n",
    "    slice(\"1995\", \"2004\"),\n",
    "    slice(\"2005\", \"2014\"),\n",
    "]\n",
    "\n",
    "# Regions\n",
    "regions = (\"northern_hemisphere\", \"southern_hemisphere\")\n",
    "assert set(regions) <= {\"northern_hemisphere\", \"southern_hemisphere\"}\n",
    "\n",
    "# Choose CMIP6 historical models\n",
    "models = [\n",
    "    \"access_cm2\",\n",
    "    \"access_esm1_5\",\n",
    "    \"cams_csm1_0\",\n",
    "    \"canesm5\",\n",
    "    \"canesm5_canoe\",\n",
    "    \"cmcc_cm2_hr4\",\n",
    "    \"cmcc_cm2_sr5\",\n",
    "    \"cmcc_esm2\",\n",
    "    \"cnrm_cm6_1\",\n",
    "    \"cnrm_cm6_1_hr\",\n",
    "    \"cnrm_esm2_1\",\n",
    "    \"e3sm_1_0\",\n",
    "    \"e3sm_1_1\",\n",
    "    \"e3sm_1_1_eca\",\n",
    "    \"ec_earth3_aerchem\",\n",
    "    \"ec_earth3_cc\",\n",
    "    \"ec_earth3_veg_lr\",\n",
    "    \"fgoals_f3_l\",\n",
    "    \"giss_e2_1_h\",\n",
    "    \"hadgem3_gc31_ll\",\n",
    "    \"hadgem3_gc31_mm\",\n",
    "    \"inm_cm4_8\",\n",
    "    \"inm_cm5_0\",\n",
    "    \"ipsl_cm5a2_inca\",\n",
    "    \"ipsl_cm6a_lr\",\n",
    "    \"miroc6\",\n",
    "    \"miroc_es2l\",\n",
    "    \"mpi_esm1_2_hr\",\n",
    "    \"mpi_esm1_2_lr\",\n",
    "    \"mri_esm2_0\",\n",
    "    \"nesm3\",\n",
    "    \"norcpm1\",\n",
    "    \"taiesm1\",\n",
    "    \"ukesm1_0_ll\",\n",
    "]"
   ]
  },
  {
   "cell_type": "markdown",
   "metadata": {},
   "source": [
    "## Define requests"
   ]
  },
  {
   "cell_type": "code",
   "execution_count": null,
   "metadata": {},
   "outputs": [],
   "source": [
    "request_cmip6_historical = (\n",
    "    \"projections-cmip6\",\n",
    "    {\n",
    "        \"format\": \"zip\",\n",
    "        \"temporal_resolution\": \"monthly\",\n",
    "        \"experiment\": \"historical\",\n",
    "        \"variable\": \"sea_ice_area_percentage_on_ocean_grid\",\n",
    "        \"month\": [f\"{month:02d}\" for month in range(1, 13)],\n",
    "    },\n",
    ")\n",
    "\n",
    "request_satellite = (\n",
    "    \"satellite-sea-ice-concentration\",\n",
    "    {\n",
    "        \"cdr_type\": \"cdr\",\n",
    "        \"variable\": \"all\",\n",
    "        \"version\": \"v2\",\n",
    "        \"origin\": \"eumetsat_osi_saf\",\n",
    "    },\n",
    ")"
   ]
  },
  {
   "cell_type": "markdown",
   "metadata": {},
   "source": [
    "## Functions to cache"
   ]
  },
  {
   "cell_type": "code",
   "execution_count": null,
   "metadata": {},
   "outputs": [],
   "source": [
    "def interpolate_to_satellite_grid(obj, region, **regrid_kwargs):\n",
    "    # Remove nan columns\n",
    "    for dim in [dim for dim in obj.dims if \"x\" in dim or \"lon\" in dim]:\n",
    "        for i in (0, -1):\n",
    "            if obj.isel({dim: i}).isnull().all():\n",
    "                obj = obj.drop_isel({dim: i})\n",
    "\n",
    "    collection_id = \"satellite-sea-ice-concentration\"\n",
    "    request = {\n",
    "        \"region\": region,\n",
    "        \"version\": \"v2\",\n",
    "        \"variable\": \"all\",\n",
    "        \"format\": \"zip\",\n",
    "        \"origin\": \"esa_cci\",\n",
    "        \"cdr_type\": \"cdr\",\n",
    "        \"year\": \"2002\",\n",
    "        \"month\": \"06\",\n",
    "        \"day\": \"01\",\n",
    "    }\n",
    "    grid_out = download.download_and_transform(collection_id, request).drop_dims(\"time\")\n",
    "    return diagnostics.regrid(obj, grid_out, **regrid_kwargs)\n",
    "\n",
    "\n",
    "def compute_interpolated_sic(ds, period, region=None, **regrid_kwargs):\n",
    "    # Get sic\n",
    "    sic = ds.cf[\"sea_ice_area_fraction\"]\n",
    "    sic = sic.assign_coords({coord: ds[coord] for coord in (\"longitude\", \"latitude\")})\n",
    "\n",
    "    # Deal with missing values\n",
    "    mask = (sic.notnull() & (sic != 0)).any(tuple(set(sic.dims) - {\"time\"}))\n",
    "    sic = sic.where(mask.compute(), drop=True)\n",
    "    sic = sic.groupby(\"time.month\").mean(keep_attrs=True)\n",
    "\n",
    "    # Period mean\n",
    "    sic = sic.mean(\"month\", keep_attrs=True)\n",
    "\n",
    "    # Regrid\n",
    "    if regrid_kwargs:\n",
    "        sic = interpolate_to_satellite_grid(sic, region=region, **regrid_kwargs)\n",
    "\n",
    "    # Units\n",
    "    if sic.attrs.get(\"units\", \"\") == \"(0 - 1)\":\n",
    "        sic *= 100\n",
    "    sic.attrs[\"units\"] = \"%\"\n",
    "\n",
    "    # Interpolation\n",
    "    return sic.to_dataset(name=\"sic\")"
   ]
  },
  {
   "cell_type": "markdown",
   "metadata": {},
   "source": [
    "## Download and transform CMIP6"
   ]
  },
  {
   "cell_type": "code",
   "execution_count": null,
   "metadata": {},
   "outputs": [],
   "source": [
    "cmip6_datasets = {}\n",
    "for region in regions:\n",
    "    period_datasets = []\n",
    "    for period in periods:\n",
    "        model_datasets = []\n",
    "        for model in models:\n",
    "            print(f\"{model=} {region=} {period=}\")\n",
    "            collection_id, request = request_cmip6_historical\n",
    "            year_start = math.floor(int(period.start) / 10) * 10\n",
    "            year_stop = min(2015, math.ceil(int(period.stop) / 10) * 10)\n",
    "            ds = download.download_and_transform(\n",
    "                collection_id,\n",
    "                request\n",
    "                | {\n",
    "                    \"model\": model,\n",
    "                    \"year\": [str(year) for year in range(year_start, year_stop)],\n",
    "                },\n",
    "                transform_func=compute_interpolated_sic,\n",
    "                transform_func_kwargs={\n",
    "                    \"period\": period,\n",
    "                    \"region\": region,\n",
    "                    \"method\": \"nearest_s2d\",\n",
    "                    \"periodic\": True,\n",
    "                    \"ignore_degenerate\": True,\n",
    "                },\n",
    "                transform_chunks=False,\n",
    "                chunks={\"year\": 10},\n",
    "            )\n",
    "            model_datasets.append(\n",
    "                ds.expand_dims(model=[model], period=[f\"{period.start}-{period.stop}\"])\n",
    "            )\n",
    "        period_datasets.append(xr.concat(model_datasets, \"model\"))\n",
    "    cmip6_datasets[region] = xr.concat(period_datasets, \"period\")"
   ]
  },
  {
   "cell_type": "markdown",
   "metadata": {},
   "source": [
    "## Download and transform satellite data"
   ]
  },
  {
   "cell_type": "code",
   "execution_count": null,
   "metadata": {},
   "outputs": [],
   "source": [
    "satellite_datasets = {}\n",
    "for region in regions:\n",
    "    period_datasets = []\n",
    "    for period in periods:\n",
    "        print(f\"{region=} {period=}\")\n",
    "        collection_id, request = request_satellite\n",
    "        request = request | {\"region\": region}\n",
    "        requests = download.update_request_date(\n",
    "            request,\n",
    "            start=f\"{period.start}-01\",\n",
    "            stop=f\"{period.stop}-12\",\n",
    "            stringify_dates=True,\n",
    "        )\n",
    "        ds = download.download_and_transform(\n",
    "            collection_id,\n",
    "            requests,\n",
    "            transform_func=compute_interpolated_sic,\n",
    "            transform_func_kwargs={\"period\": period},\n",
    "            transform_chunks=False,\n",
    "            chunks={\"year\": 1},\n",
    "            # Parameters to speed up IO\n",
    "            concat_dim=\"time\",\n",
    "            combine=\"nested\",\n",
    "            data_vars=\"minimal\",\n",
    "            coords=\"minimal\",\n",
    "            compat=\"override\",\n",
    "        )\n",
    "        period_datasets.append(ds.expand_dims(period=[f\"{period.start}-{period.stop}\"]))\n",
    "    satellite_datasets[region] = xr.concat(period_datasets, \"period\")"
   ]
  },
  {
   "cell_type": "markdown",
   "metadata": {},
   "source": [
    "## Plot maps"
   ]
  },
  {
   "cell_type": "code",
   "execution_count": null,
   "metadata": {},
   "outputs": [],
   "source": [
    "map_slices = {\n",
    "    \"northern_hemisphere\": {\"xc\": slice(50, -100), \"yc\": slice(50, -50)},\n",
    "    \"southern_hemisphere\": {\"xc\": slice(50, -50), \"yc\": slice(50, -50)},\n",
    "}\n",
    "\n",
    "for region in regions:\n",
    "    da_satellite = satellite_datasets[region][\"sic\"]\n",
    "    da_cmip6 = cmip6_datasets[region][\"sic\"].mean(\"model\", keep_attrs=True)\n",
    "    da_cmip6 = da_cmip6.where(da_satellite.notnull())\n",
    "\n",
    "    da_cmip6 = da_cmip6.expand_dims(product=[\"CMIP6\"])\n",
    "    da_satellite = da_satellite.expand_dims(\n",
    "        product=[request_satellite[1][\"origin\"].replace(\"_\", \"-\").upper()]\n",
    "    )\n",
    "    projection = ccrs.Stereographic(\n",
    "        central_latitude=90 if region.startswith(\"northern\") else -90\n",
    "    )\n",
    "    da = xr.concat([da_satellite, da_cmip6], \"product\").isel(map_slices[region])\n",
    "    da.attrs[\"long_name\"] = \"Sea ice concentration\"\n",
    "\n",
    "    plot.projected_map(\n",
    "        da, col=\"product\", row=\"period\", projection=projection, cmap=cmocean.cm.ice\n",
    "    )\n",
    "    plt.show()\n",
    "\n",
    "    with xr.set_options(keep_attrs=True):\n",
    "        da_bias = da.diff(\"product\")\n",
    "    da_bias.attrs[\"long_name\"] = \"Bias in \" + da_bias.attrs[\"long_name\"].lower()\n",
    "    plot.projected_map(\n",
    "        da_bias,\n",
    "        row=\"period\",\n",
    "        projection=projection,\n",
    "        robust=True,\n",
    "        cmap=cmocean.cm.balance,\n",
    "    )\n",
    "    plt.show()"
   ]
  }
 ],
 "metadata": {
  "kernelspec": {
   "display_name": "Python 3 (ipykernel)",
   "language": "python",
   "name": "python3"
  },
  "language_info": {
   "codemirror_mode": {
    "name": "ipython",
    "version": 3
   },
   "file_extension": ".py",
   "mimetype": "text/x-python",
   "name": "python",
   "nbconvert_exporter": "python",
   "pygments_lexer": "ipython3",
   "version": "3.11.7"
  }
 },
 "nbformat": 4,
 "nbformat_minor": 4
}
