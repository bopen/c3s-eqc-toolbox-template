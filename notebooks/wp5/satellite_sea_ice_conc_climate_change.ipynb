{
 "cells": [
  {
   "cell_type": "markdown",
   "id": "0",
   "metadata": {},
   "source": [
    "# Effect of climate change on sea ice concentration"
   ]
  },
  {
   "cell_type": "markdown",
   "id": "1",
   "metadata": {},
   "source": [
    "## Import libraries"
   ]
  },
  {
   "cell_type": "code",
   "execution_count": null,
   "id": "2",
   "metadata": {},
   "outputs": [],
   "source": [
    "import warnings\n",
    "\n",
    "import matplotlib.dates as mdates\n",
    "import matplotlib.pyplot as plt\n",
    "import numpy as np\n",
    "import pandas as pd\n",
    "import xarray as xr\n",
    "from c3s_eqc_automatic_quality_control import download\n",
    "\n",
    "plt.style.use(\"seaborn-v0_8-notebook\")\n",
    "warnings.filterwarnings(\"ignore\", module=\"cf_xarray\")"
   ]
  },
  {
   "cell_type": "markdown",
   "id": "3",
   "metadata": {},
   "source": [
    "## Set parameters"
   ]
  },
  {
   "cell_type": "code",
   "execution_count": null,
   "id": "4",
   "metadata": {},
   "outputs": [],
   "source": [
    "# Time\n",
    "year_start = 1979\n",
    "year_stop = 2023\n",
    "\n",
    "# Conc threshold for calculating extent\n",
    "sic_threshold = 15"
   ]
  },
  {
   "cell_type": "markdown",
   "id": "5",
   "metadata": {},
   "source": [
    "## Define request"
   ]
  },
  {
   "cell_type": "code",
   "execution_count": null,
   "id": "6",
   "metadata": {},
   "outputs": [],
   "source": [
    "collection_id = \"satellite-sea-ice-concentration\"\n",
    "\n",
    "conc_request = {\n",
    "    \"cdr_type\": \"cdr\",\n",
    "    \"variable\": \"all\",\n",
    "    \"version\": \"v2\",\n",
    "}\n",
    "\n",
    "request_dict = {\n",
    "    # CDR\n",
    "    \"EUMETSAT-OSI-SAF (CDR)\": download.update_request_date(\n",
    "        conc_request | {\"origin\": \"eumetsat_osi_saf\"},\n",
    "        start=f\"{max(year_start, 1979)}-01\",\n",
    "        stop=f\"{min(year_stop, 2015)}-12\",\n",
    "        stringify_dates=True,\n",
    "    ),\n",
    "    # interim CDR for later years\n",
    "    \"EUMETSAT-OSI-SAF (ICDR)\": download.update_request_date(\n",
    "        conc_request | {\"cdr_type\": \"icdr\", \"origin\": \"eumetsat_osi_saf\"},\n",
    "        start=f\"{max(year_start, 2016)}-01\",\n",
    "        stop=f\"{min(year_stop, 2023)}-12\",\n",
    "        stringify_dates=True,\n",
    "    ),\n",
    "    # only CDR available for ESA-CCI\n",
    "    \"ESA-CCI (CDR)\": download.update_request_date(\n",
    "        conc_request | {\"origin\": \"esa_cci\"},\n",
    "        start=f\"{max(year_start, 2002)}-01\",\n",
    "        stop=f\"{min(year_stop, 2017)}-12\",\n",
    "        stringify_dates=True,\n",
    "    ),\n",
    "}"
   ]
  },
  {
   "cell_type": "markdown",
   "id": "7",
   "metadata": {},
   "source": [
    "## Define function to cache"
   ]
  },
  {
   "cell_type": "code",
   "execution_count": null,
   "id": "8",
   "metadata": {},
   "outputs": [],
   "source": [
    "def compute_siconc_time_series(ds, sic_threshold):\n",
    "    ds = ds.convert_calendar(\"standard\", align_on=\"date\")\n",
    "\n",
    "    # grid cell area of sea ice edge grid\n",
    "    dims = (\"xc\", \"yc\")\n",
    "    dx = np.abs(np.diff(ds[dims[0]][:2].values))[0]\n",
    "    grid_cell_area = (dx**2) * 1.0e-6  # 10^6 km2\n",
    "\n",
    "    # get sea ice concentration and convert to ice/water classification\n",
    "    sic = ds.cf[\"sea_ice_area_fraction\"]\n",
    "    sic_error = ds.cf[\"sea_ice_area_fraction standard_error\"]\n",
    "    if sic.attrs.get(\"units\", \"\") == \"(0 - 1)\":\n",
    "        sic *= 100\n",
    "        sic_error *= 100\n",
    "\n",
    "    # compute extent\n",
    "    dataarrays = {}\n",
    "    sic_class = xr.where(sic >= sic_threshold, 2, 1)  # 1 = open water, 2 = ice\n",
    "    dataarrays[\"extent\"] = grid_cell_area * (sic_class - 1).sum(dim=dims)\n",
    "    dataarrays[\"extent\"].attrs = {\n",
    "        \"standard_name\": \"sea_ice_extent\",\n",
    "        \"units\": \"$10^6$km$^2$\",\n",
    "        \"long_name\": \"Sea ice extent\",\n",
    "    }\n",
    "\n",
    "    # compute area\n",
    "    dataarrays[\"area\"] = grid_cell_area * 0.01 * sic.sum(dim=dims)\n",
    "    dataarrays[\"area\"].attrs = {\n",
    "        \"standard_name\": \"sea_ice_area\",\n",
    "        \"units\": \"$10^6$km$^2$\",\n",
    "        \"long_name\": \"Sea ice area\",\n",
    "    }\n",
    "\n",
    "    # compute RMS error\n",
    "    dataarrays[\"rms_error\"] = np.sqrt((sic_error**2).mean(dim=dims))\n",
    "    dataarrays[\"rms_error\"].attrs = {\n",
    "        \"standard_name\": \"root_mean_square sea_ice_area_fraction standard_error\",\n",
    "        \"units\": \"%\",\n",
    "        \"long_name\": \"Root mean square sea ice area fraction standard error\",\n",
    "    }\n",
    "\n",
    "    return xr.Dataset(dataarrays)"
   ]
  },
  {
   "cell_type": "markdown",
   "id": "9",
   "metadata": {},
   "source": [
    "## Download and transform"
   ]
  },
  {
   "cell_type": "code",
   "execution_count": null,
   "id": "10",
   "metadata": {},
   "outputs": [],
   "source": [
    "datasets = []\n",
    "for product, requests in request_dict.items():\n",
    "    for region in [\n",
    "        \"northern_hemisphere\",\n",
    "        \"southern_hemisphere\",\n",
    "    ]:\n",
    "        print(f\"{product = }, {region = }\")\n",
    "        regional_requests = [request | {\"region\": region} for request in requests]\n",
    "        ds = download.download_and_transform(\n",
    "            collection_id,\n",
    "            regional_requests,\n",
    "            transform_func=compute_siconc_time_series,\n",
    "            transform_func_kwargs={\"sic_threshold\": sic_threshold},\n",
    "            chunks={\"year\": 1},\n",
    "            drop_variables=(\n",
    "                \"raw_ice_conc_values\",\n",
    "                \"smearing_standard_error\",\n",
    "                \"algorithm_standard_error\",\n",
    "                \"status_flag\",\n",
    "            ),\n",
    "        )\n",
    "        datasets.append(ds.expand_dims(region=[region], product=[product]))\n",
    "ds = xr.merge(datasets)"
   ]
  },
  {
   "cell_type": "markdown",
   "id": "11",
   "metadata": {},
   "source": [
    "### Plotting functions"
   ]
  },
  {
   "cell_type": "code",
   "execution_count": null,
   "id": "12",
   "metadata": {},
   "outputs": [],
   "source": [
    "def rearrange_year_vs_dayofyear(ds):\n",
    "    new_dims = (\"year\", \"dayofyear\")\n",
    "    ds = ds.convert_calendar(\"noleap\")\n",
    "    ds = ds.assign_coords(\n",
    "        {dim: (\"time\", getattr(ds[\"time\"].dt, dim).values) for dim in new_dims}\n",
    "    )\n",
    "    return ds.set_index(time=new_dims).unstack(\"time\")\n",
    "\n",
    "\n",
    "def compute_yearly_extremes(da, reduction, min_samples=150, remove_outliers=True):\n",
    "    grouped = da.groupby(\"time.year\")\n",
    "    mask = grouped.count() > min_samples\n",
    "    da = getattr(grouped, reduction)(keep_attrs=True)\n",
    "    if remove_outliers:\n",
    "        da = da.chunk(year=-1)\n",
    "        q1 = da.quantile(1 / 4, \"year\")\n",
    "        q3 = da.quantile(3 / 4, \"year\")\n",
    "        delta = 1.5 * (q3 - q1)\n",
    "        mask &= (da >= q1 - delta) & (da <= q3 + delta)\n",
    "    da = da.where(mask.compute(), drop=True)\n",
    "    da.attrs[\"long_name\"] = \" \".join([reduction.title(), da.attrs[\"long_name\"]])\n",
    "    return da\n",
    "\n",
    "\n",
    "def plot_against_dayofyear(\n",
    "    ds,\n",
    "    cmap=\"viridis\",\n",
    "    **kwargs,\n",
    "):\n",
    "    defaults = {\n",
    "        \"row\": \"variable\",\n",
    "        \"x\": \"time\",\n",
    "        \"hue\": \"year\",\n",
    "        \"add_legend\": False,\n",
    "        \"figsize\": (8, 8),\n",
    "    }\n",
    "    kwargs = defaults | kwargs\n",
    "\n",
    "    ds = rearrange_year_vs_dayofyear(ds)\n",
    "    ds = ds.dropna(\"year\", how=\"all\")\n",
    "\n",
    "    da = ds.to_array()\n",
    "    da = da.assign_coords(time=(\"dayofyear\", pd.date_range(\"2001-01-01\", \"2001-12-31\")))\n",
    "\n",
    "    colors = plt.get_cmap(cmap, da.sizes[\"year\"]).colors\n",
    "    with plt.rc_context({\"axes.prop_cycle\": plt.cycler(color=colors)}):\n",
    "        facet = da.plot(**kwargs)\n",
    "\n",
    "    for ax, sel_dict in zip(facet.axs.flatten(), facet.name_dicts.flatten()):\n",
    "        ax.set_ylabel(ds[sel_dict[\"variable\"]].attrs[\"units\"])\n",
    "        ax.grid()\n",
    "        ax.xaxis.set_major_formatter(mdates.DateFormatter(\"%d %b\"))\n",
    "        ax.xaxis.set_tick_params(rotation=45)\n",
    "\n",
    "    scalar_mappable = plt.cm.ScalarMappable(\n",
    "        cmap=cmap,\n",
    "        norm=plt.Normalize(vmin=da[\"year\"].min(), vmax=da[\"year\"].max()),\n",
    "    )\n",
    "    facet.fig.colorbar(scalar_mappable, ax=facet.axs, label=\"year\")\n",
    "    return facet"
   ]
  },
  {
   "cell_type": "markdown",
   "id": "13",
   "metadata": {},
   "source": [
    "## Plot yearly extremes"
   ]
  },
  {
   "cell_type": "code",
   "execution_count": null,
   "id": "14",
   "metadata": {},
   "outputs": [],
   "source": [
    "for region, da_region in ds[\"extent\"].groupby(\"region\"):\n",
    "    for reduction in (\"min\", \"max\"):\n",
    "        da = compute_yearly_extremes(da_region, reduction)\n",
    "        da.plot(hue=\"product\", marker=\"^\")\n",
    "        plt.grid()\n",
    "        plt.show()"
   ]
  },
  {
   "cell_type": "markdown",
   "id": "15",
   "metadata": {},
   "source": [
    "## Plot day of year"
   ]
  },
  {
   "cell_type": "code",
   "execution_count": null,
   "id": "16",
   "metadata": {},
   "outputs": [],
   "source": [
    "for product, ds_product in ds.drop(\"rms_error\").groupby(\"product\"):\n",
    "    for region, ds_region in ds_product.groupby(\"region\"):\n",
    "        facet = plot_against_dayofyear(ds_region)\n",
    "        facet.fig.suptitle(f\"{product=} {region=}\", y=1.01)\n",
    "        plt.show()"
   ]
  }
 ],
 "metadata": {
  "kernelspec": {
   "display_name": "Python 3 (ipykernel)",
   "language": "python",
   "name": "python3"
  },
  "language_info": {
   "codemirror_mode": {
    "name": "ipython",
    "version": 3
   },
   "file_extension": ".py",
   "mimetype": "text/x-python",
   "name": "python",
   "nbconvert_exporter": "python",
   "pygments_lexer": "ipython3",
   "version": "3.11.7"
  }
 },
 "nbformat": 4,
 "nbformat_minor": 5
}
