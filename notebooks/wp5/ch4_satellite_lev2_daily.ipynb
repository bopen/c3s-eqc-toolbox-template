{
 "cells": [
  {
   "cell_type": "markdown",
   "id": "0",
   "metadata": {},
   "source": [
    "# CH4 dataset satellite lev2 - daily"
   ]
  },
  {
   "cell_type": "markdown",
   "id": "1",
   "metadata": {},
   "source": [
    "## Import libraries"
   ]
  },
  {
   "cell_type": "code",
   "execution_count": null,
   "id": "2",
   "metadata": {},
   "outputs": [],
   "source": [
    "import flox.xarray\n",
    "import matplotlib.pyplot as plt\n",
    "import numpy as np\n",
    "import pandas as pd\n",
    "import xarray as xr\n",
    "from c3s_eqc_automatic_quality_control import diagnostics, download, plot, utils\n",
    "\n",
    "plt.style.use(\"seaborn-v0_8-notebook\")"
   ]
  },
  {
   "cell_type": "markdown",
   "id": "3",
   "metadata": {},
   "source": [
    "## Define parameters"
   ]
  },
  {
   "cell_type": "code",
   "execution_count": null,
   "id": "4",
   "metadata": {},
   "outputs": [],
   "source": [
    "# Sensors\n",
    "sensors = [\"iasi_metop_c_nlis\", \"iasi_metop_b_nlis\"]\n",
    "\n",
    "# Region to plot\n",
    "lat_slice = slice(45, 75)\n",
    "lon_slice = slice(-15, 20)\n",
    "\n",
    "# Variable to plot\n",
    "varname = \"ch4\"\n",
    "vertical_profile = \"ch4_averaging_kernel\"\n",
    "varname_cloud = \"cfc\""
   ]
  },
  {
   "cell_type": "markdown",
   "id": "5",
   "metadata": {},
   "source": [
    "## Define request"
   ]
  },
  {
   "cell_type": "code",
   "execution_count": null,
   "id": "6",
   "metadata": {},
   "outputs": [],
   "source": [
    "time_request = {\n",
    "    \"year\": [\"2022\"],\n",
    "    \"month\": [\"09\"],\n",
    "    \"day\": [f\"{day:02d}\" for day in range(1, 31)],\n",
    "}\n",
    "\n",
    "collection_id = \"satellite-methane\"\n",
    "request = time_request | {\n",
    "    \"processing_level\": [\"level_2\"],\n",
    "    \"variable\": \"ch4\",\n",
    "    \"version\": [\"10_2\"],\n",
    "}\n",
    "\n",
    "collection_id_cloud = \"satellite-cloud-properties\"\n",
    "request_cloud = time_request | {\n",
    "    \"product_family\": \"clara_a3\",\n",
    "    \"origin\": \"eumetsat\",\n",
    "    \"variable\": [\"cloud_fraction\"],\n",
    "    \"climate_data_record_type\": \"interim_climate_data_record\",\n",
    "    \"time_aggregation\": \"daily_mean\",\n",
    "}"
   ]
  },
  {
   "cell_type": "markdown",
   "id": "7",
   "metadata": {},
   "source": [
    "## Define function to cache"
   ]
  },
  {
   "cell_type": "code",
   "execution_count": null,
   "id": "8",
   "metadata": {},
   "outputs": [],
   "source": [
    "def arithmetic_unweighted_average(ds, d_lon, d_lat, lon1):\n",
    "    if lon1 not in (180, 360):\n",
    "        raise ValueError(f\"lon1 must be 180 or 360. {lon1=}\")\n",
    "    lon0 = -180 if lon1 == 180 else 0\n",
    "\n",
    "    coords = {}\n",
    "    expected_groups = ()\n",
    "    for name, start, stop, step in zip(\n",
    "        [\"latitude\", \"longitude\"], [-90, lon0], [90, lon1], [d_lat, d_lon]\n",
    "    ):\n",
    "        coords[name] = np.arange(start + step / 2, stop + step / 2, step)\n",
    "        groups = np.arange(start, stop + step, step)\n",
    "        groups[0] -= step\n",
    "        expected_groups += (pd.IntervalIndex.from_breaks(groups),)\n",
    "\n",
    "    ds = flox.xarray.xarray_reduce(\n",
    "        ds, *coords, func=\"mean\", expected_groups=expected_groups, keep_attrs=True\n",
    "    )\n",
    "    ds = ds.rename({f\"{coord}_bins\": coord for coord in coords}).assign_coords(coords)\n",
    "    for coord in ds.coords:\n",
    "        ds[coord].attrs[\"standard_name\"] = coord\n",
    "    return ds\n",
    "\n",
    "\n",
    "def regionalised_daily_regrid(ds, d_lon, d_lat, lon_slice, lat_slice, lon1=180):\n",
    "    for dim, var in zip(\n",
    "        [\"level_dim\", \"layer_dim\"], [\"pressure_levels\", \"pressure_weight\"]\n",
    "    ):\n",
    "        assert (ds[var] == ds[var].isel(time=0)).all()\n",
    "        ds[var] = ds[var].isel(time=0, drop=True)\n",
    "        ds = ds.swap_dims({dim: var})\n",
    "\n",
    "    ds = ds.set_coords([\"longitude\", \"latitude\", \"pressure_levels\"])\n",
    "    ds_out = ds.resample(time=\"1D\").map(\n",
    "        arithmetic_unweighted_average, d_lon=d_lon, d_lat=d_lat, lon1=lon1\n",
    "    )\n",
    "    return utils.regionalise(ds_out, lat_slice=lat_slice, lon_slice=lon_slice)"
   ]
  },
  {
   "cell_type": "markdown",
   "id": "9",
   "metadata": {},
   "source": [
    "## Download and transform data"
   ]
  },
  {
   "cell_type": "code",
   "execution_count": null,
   "id": "10",
   "metadata": {},
   "outputs": [],
   "source": [
    "chunks = {\"year\": 1, \"month\": 1}\n",
    "kwargs = {\"lon_slice\": lon_slice, \"lat_slice\": lat_slice}\n",
    "\n",
    "# Methane\n",
    "datasets = []\n",
    "for sensor in sensors:\n",
    "    print(f\"{sensor = }\")\n",
    "    ds = download.download_and_transform(\n",
    "        collection_id,\n",
    "        request | {\"sensor_and_algorithm\": sensor},\n",
    "        transform_func=regionalised_daily_regrid,\n",
    "        transform_func_kwargs=kwargs\n",
    "        | {\n",
    "            \"d_lon\": 1,\n",
    "            \"d_lat\": 1,\n",
    "            \"lon1\": 180,\n",
    "        },\n",
    "        chunks=chunks,\n",
    "    )\n",
    "    datasets.append(ds.expand_dims(sensor=[sensor]))\n",
    "ds = xr.concat(datasets, \"sensor\")\n",
    "\n",
    "# Cloud\n",
    "print(\"cloud cover\")\n",
    "ds_cloud = download.download_and_transform(\n",
    "    collection_id_cloud,\n",
    "    request_cloud,\n",
    "    transform_func=utils.regionalise,\n",
    "    transform_func_kwargs=kwargs,\n",
    "    chunks=chunks,\n",
    ")"
   ]
  },
  {
   "cell_type": "markdown",
   "id": "11",
   "metadata": {},
   "source": [
    "## Plot maps"
   ]
  },
  {
   "cell_type": "code",
   "execution_count": null,
   "id": "12",
   "metadata": {},
   "outputs": [],
   "source": [
    "plot_kwargs = {\"col\": \"time\", \"col_wrap\": 5}\n",
    "for sensor, ds_sensor in ds.groupby(\"sensor\"):\n",
    "    plot.projected_map(ds_sensor[varname], **plot_kwargs)\n",
    "    plt.suptitle(f\"{sensor = }\", y=1)\n",
    "    plt.show()\n",
    "\n",
    "plot.projected_map(ds_cloud[varname_cloud], **plot_kwargs)\n",
    "_ = plt.suptitle(\"Cloud cover\", y=1)"
   ]
  },
  {
   "cell_type": "markdown",
   "id": "13",
   "metadata": {},
   "source": [
    "## Boxplot"
   ]
  },
  {
   "cell_type": "code",
   "execution_count": null,
   "id": "14",
   "metadata": {},
   "outputs": [],
   "source": [
    "for sensor, ds_sensor in ds.groupby(\"sensor\"):\n",
    "    da_sensor = ds_sensor[varname].squeeze()\n",
    "    df_sensor = (\n",
    "        da_sensor.stack(location=(\"latitude\", \"longitude\"))\n",
    "        .drop_vars(\"location\")\n",
    "        .to_dataframe()\n",
    "    )\n",
    "    df_sensor = df_sensor.reset_index()[[\"time\", varname]]\n",
    "    df_sensor[\"day\"] = df_sensor[\"time\"].dt.day\n",
    "    ax = df_sensor[[\"day\", varname]].boxplot(by=\"day\")\n",
    "    ax.set_title(f\"{sensor = }\")\n",
    "    ax.set_xlabel(\"day\")\n",
    "    ax.set_ylabel(f\"{da_sensor.long_name} [{da_sensor.units}]\")\n",
    "    plt.show()"
   ]
  },
  {
   "cell_type": "markdown",
   "id": "15",
   "metadata": {},
   "source": [
    "## Plot vertical profiles"
   ]
  },
  {
   "cell_type": "code",
   "execution_count": null,
   "id": "16",
   "metadata": {},
   "outputs": [],
   "source": [
    "for sensor, da_sensor in ds[vertical_profile].groupby(\"sensor\"):\n",
    "    da_mean = diagnostics.spatial_weighted_mean(da_sensor)\n",
    "    da_std = diagnostics.spatial_weighted_std(da_sensor)\n",
    "    da = xr.concat(\n",
    "        [\n",
    "            da_mean.expand_dims(label=[\"mean\"]),\n",
    "            (da_mean + da_std).expand_dims(label=[\"mean $+$ std\"]),\n",
    "            (da_mean - da_std).expand_dims(label=[\"mean $-$ std\"]),\n",
    "        ],\n",
    "        \"label\",\n",
    "    )\n",
    "    facet = da.plot(\n",
    "        y=\"pressure_weight\",\n",
    "        hue=\"label\",\n",
    "        yscale=\"log\",\n",
    "        yincrease=False,\n",
    "        **plot_kwargs,\n",
    "    )\n",
    "    for ax in facet.axs.flatten():\n",
    "        ax.grid()\n",
    "    plt.suptitle(f\"{sensor = }\", y=1.01)\n",
    "    plt.show()"
   ]
  }
 ],
 "metadata": {
  "kernelspec": {
   "display_name": "Python 3 (ipykernel)",
   "language": "python",
   "name": "python3"
  },
  "language_info": {
   "codemirror_mode": {
    "name": "ipython",
    "version": 3
   },
   "file_extension": ".py",
   "mimetype": "text/x-python",
   "name": "python",
   "nbconvert_exporter": "python",
   "pygments_lexer": "ipython3",
   "version": "3.11.11"
  }
 },
 "nbformat": 4,
 "nbformat_minor": 5
}
