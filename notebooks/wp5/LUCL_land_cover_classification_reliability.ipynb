{
 "cells": [
  {
   "attachments": {},
   "cell_type": "markdown",
   "id": "0",
   "metadata": {},
   "source": [
    "# Reliabily of the Land Cover classification"
   ]
  },
  {
   "attachments": {},
   "cell_type": "markdown",
   "id": "1",
   "metadata": {},
   "source": [
    "## Import packages"
   ]
  },
  {
   "cell_type": "code",
   "execution_count": null,
   "id": "2",
   "metadata": {},
   "outputs": [],
   "source": [
    "import geopandas as gpd\n",
    "import matplotlib.pyplot as plt\n",
    "import numpy as np\n",
    "import regionmask\n",
    "import shapely.geometry\n",
    "import xarray as xr\n",
    "from c3s_eqc_automatic_quality_control import download, plot, utils\n",
    "\n",
    "plt.style.use(\"seaborn-v0_8-notebook\")"
   ]
  },
  {
   "attachments": {},
   "cell_type": "markdown",
   "id": "3",
   "metadata": {},
   "source": [
    "## Define parameters"
   ]
  },
  {
   "cell_type": "code",
   "execution_count": null,
   "id": "4",
   "metadata": {},
   "outputs": [],
   "source": [
    "years = [1992, 2020]\n",
    "\n",
    "# Region of interest\n",
    "lon_slice = slice(-10, 4)\n",
    "lat_slice = slice(45, 35)\n",
    "\n",
    "# Shapefile with regions\n",
    "shapefile_url = \"https://gisco-services.ec.europa.eu/distribution/v2/nuts/shp/NUTS_RG_20M_2021_4326.shp.zip\""
   ]
  },
  {
   "attachments": {},
   "cell_type": "markdown",
   "id": "5",
   "metadata": {},
   "source": [
    "## Define request"
   ]
  },
  {
   "cell_type": "code",
   "execution_count": null,
   "id": "6",
   "metadata": {},
   "outputs": [],
   "source": [
    "collection_id = \"satellite-land-cover\"\n",
    "requests = [\n",
    "    {\n",
    "        \"variable\": \"all\",\n",
    "        \"format\": \"zip\",\n",
    "        \"version\": \"v2.0.7cds\" if year < 2016 else \"v2.1.1\",\n",
    "        \"year\": year,\n",
    "    }\n",
    "    for year in years\n",
    "]"
   ]
  },
  {
   "attachments": {},
   "cell_type": "markdown",
   "id": "7",
   "metadata": {},
   "source": [
    "## Download and regionalise"
   ]
  },
  {
   "cell_type": "code",
   "execution_count": null,
   "id": "8",
   "metadata": {},
   "outputs": [],
   "source": [
    "# Download and regionalize\n",
    "ds = download.download_and_transform(\n",
    "    collection_id,\n",
    "    requests,\n",
    "    transform_func=utils.regionalise,\n",
    "    transform_func_kwargs={\"lon_slice\": lon_slice, \"lat_slice\": lat_slice},\n",
    ")\n",
    "ds = ds.assign_coords(year=ds[\"time\"].dt.year).swap_dims(time=\"year\").drop(\"time\")"
   ]
  },
  {
   "attachments": {},
   "cell_type": "markdown",
   "id": "9",
   "metadata": {},
   "source": [
    "## Define custom classification"
   ]
  },
  {
   "cell_type": "code",
   "execution_count": null,
   "id": "10",
   "metadata": {},
   "outputs": [],
   "source": [
    "# Define IPCC Labels dictionary\n",
    "ipcc_dict = {\n",
    "    \"No Data\": (\"#000000\", [0]),\n",
    "    \"Agriculture\": (\"#ffffcc\", [10, 11, 12, 20, 30, 40]),\n",
    "    \"Forest\": (\"#4c9900\", [50, 60, 61, 62, 70, 71, 72, 80, 81, 82, 90, 100, 160, 170]),\n",
    "    \"Grassland\": (\"#ccff99\", [110, 130]),\n",
    "    \"Settlement\": (\"#ff0000\", [190]),\n",
    "    \"Wetland\": (\"#99ffff\", [180]),\n",
    "    \"Other\": (\"#0000ff\", [120, 121, 122, 140, 150, 151, 152, 153, 200, 201, 202, 210]),\n",
    "}"
   ]
  },
  {
   "attachments": {},
   "cell_type": "markdown",
   "id": "11",
   "metadata": {},
   "source": [
    "## Plot maps"
   ]
  },
  {
   "cell_type": "code",
   "execution_count": null,
   "id": "12",
   "metadata": {},
   "outputs": [],
   "source": [
    "for legend_dict in [None, ipcc_dict]:\n",
    "    plot.lccs_map(\n",
    "        ds[\"lccs_class\"],\n",
    "        row=\"year\",\n",
    "        legend_dict=legend_dict,\n",
    "        interpolation=\"antialiased\",\n",
    "    )\n",
    "    plt.show()"
   ]
  },
  {
   "attachments": {},
   "cell_type": "markdown",
   "id": "13",
   "metadata": {},
   "source": [
    "## Mask regions"
   ]
  },
  {
   "cell_type": "code",
   "execution_count": null,
   "id": "14",
   "metadata": {},
   "outputs": [],
   "source": [
    "lon_bounds = [-10.18, 1]\n",
    "lat_bounds = [36.5, 43]\n",
    "crs = \"epsg:4326\"\n",
    "\n",
    "lon_bounds += sorted(lon_bounds, reverse=True)\n",
    "lat_bounds = [lat for lat in lat_bounds for _ in range(2)]\n",
    "bbox = shapely.Polygon(zip(lon_bounds, lat_bounds))\n",
    "\n",
    "gdf = gpd.read_file(shapefile_url)\n",
    "gdf = gdf[gdf[\"LEVL_CODE\"] == 2]\n",
    "gdf = gdf[gdf.intersects(bbox)]\n",
    "gdf = gdf[gdf[\"NUTS_ID\"].str.startswith((\"ES\", \"PT\"))]\n",
    "gdf = gdf.to_crs(crs)\n",
    "\n",
    "ds.rio.write_crs(crs, inplace=True)\n",
    "\n",
    "regions = regionmask.from_geopandas(gdf, names=\"NUTS_NAME\")\n",
    "mask = regions.mask(ds[\"longitude\"], ds[\"latitude\"])"
   ]
  },
  {
   "attachments": {},
   "cell_type": "markdown",
   "id": "15",
   "metadata": {},
   "source": [
    "## Compute cell area"
   ]
  },
  {
   "cell_type": "code",
   "execution_count": null,
   "id": "16",
   "metadata": {},
   "outputs": [],
   "source": [
    "scaling_factor = 0.002778\n",
    "resolution_km = scaling_factor * 111.195\n",
    "indexes = xr.DataArray(range(ds.sizes[\"latitude\"]), dims=\"latitude\")\n",
    "lats = ds[\"latitude\"].max() - indexes * scaling_factor\n",
    "grid_cell_area = resolution_km**2 * np.cos(np.radians(lats))\n",
    "grid_cell_area.attrs = {\n",
    "    \"standard_name\": \"cell_area\",\n",
    "    \"long_name\": \"Area\",\n",
    "    \"units\": \"km2\",\n",
    "}\n",
    "ds = ds.assign_coords(cell_area=grid_cell_area)"
   ]
  },
  {
   "attachments": {},
   "cell_type": "markdown",
   "id": "17",
   "metadata": {},
   "source": [
    "## Plot bars"
   ]
  },
  {
   "cell_type": "code",
   "execution_count": null,
   "id": "18",
   "metadata": {},
   "outputs": [],
   "source": [
    "for index, ds_region in ds.groupby(mask):\n",
    "    region = regions[int(index)].name\n",
    "    area = ds_region[\"cell_area\"]\n",
    "    total_area = float(area.sum().values)\n",
    "    area_perc = 100 * area / total_area\n",
    "    area_perc.attrs = {\n",
    "        \"long_name\": \"Area Coverage\",\n",
    "        \"units\": \"%\",\n",
    "    }\n",
    "    for labels_dict in [None, ipcc_dict]:\n",
    "        for year, ds_year_region in ds_region.groupby(\"year\"):\n",
    "            for da in [area, area_perc]:\n",
    "                plot.lccs_bar(\n",
    "                    da,\n",
    "                    ds_year_region[\"lccs_class\"],\n",
    "                    labels_dict,\n",
    "                    reduction=\"sum\",\n",
    "                    title=f\"{region=} {year=} {total_area=:f} {area.attrs['units']}\",\n",
    "                )\n",
    "                plt.show()"
   ]
  }
 ],
 "metadata": {
  "kernelspec": {
   "display_name": "eqc",
   "language": "python",
   "name": "python3"
  },
  "language_info": {
   "codemirror_mode": {
    "name": "ipython",
    "version": 3
   },
   "file_extension": ".py",
   "mimetype": "text/x-python",
   "name": "python",
   "nbconvert_exporter": "python",
   "pygments_lexer": "ipython3",
   "version": "3.10.11"
  }
 },
 "nbformat": 4,
 "nbformat_minor": 5
}
