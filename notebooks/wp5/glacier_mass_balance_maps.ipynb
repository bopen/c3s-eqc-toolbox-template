{
 "cells": [
  {
   "cell_type": "markdown",
   "id": "8d1591ee",
   "metadata": {},
   "source": [
    "# Mass balance of all glaciers: Maps"
   ]
  },
  {
   "cell_type": "markdown",
   "id": "d175a98f",
   "metadata": {},
   "source": [
    "## Import packages"
   ]
  },
  {
   "cell_type": "code",
   "execution_count": null,
   "id": "33a8b6be-2af9-49f7-ad8b-858d7a31f03d",
   "metadata": {},
   "outputs": [],
   "source": [
    "import fsspec\n",
    "import geopandas as gpd\n",
    "import matplotlib.pyplot as plt\n",
    "from c3s_eqc_automatic_quality_control import download\n",
    "\n",
    "plt.style.use(\"seaborn-v0_8-notebook\")"
   ]
  },
  {
   "cell_type": "markdown",
   "id": "df150af3",
   "metadata": {},
   "source": [
    "## Define Parameters"
   ]
  },
  {
   "cell_type": "code",
   "execution_count": null,
   "id": "2eb1d470-b943-4c13-b5c8-0160b2a83d73",
   "metadata": {},
   "outputs": [],
   "source": [
    "# Time period\n",
    "year_start = 1975\n",
    "year_stop = 2020"
   ]
  },
  {
   "cell_type": "markdown",
   "id": "ab0dcd64",
   "metadata": {},
   "source": [
    "## Define request"
   ]
  },
  {
   "cell_type": "code",
   "execution_count": null,
   "id": "f7e7847c-0896-43ab-8160-9757949fd33d",
   "metadata": {},
   "outputs": [],
   "source": [
    "collection_id = \"derived-gridded-glacier-mass-change\"\n",
    "request = {\n",
    "    \"variable\": \"glacier_mass_change\",\n",
    "    \"product_version\": \"wgms_fog_2022_09\",\n",
    "    \"format\": \"zip\",\n",
    "    \"hydrological_year\": [\n",
    "        f\"{year}_{str(year + 1)[-2:]}\" for year in range(year_start, year_stop + 1)\n",
    "    ],\n",
    "}"
   ]
  },
  {
   "cell_type": "markdown",
   "id": "6881dd91-485f-4db5-b64d-aed764598844",
   "metadata": {},
   "source": [
    "## Functions to cache"
   ]
  },
  {
   "cell_type": "code",
   "execution_count": null,
   "id": "18afec89-fbac-4f2b-9001-5aef447ffcf0",
   "metadata": {},
   "outputs": [],
   "source": [
    "def sum_and_add_trends(ds):\n",
    "    da = ds[\"Glacier\"]\n",
    "    cumsum = da.cumsum(\"time\", keep_attrs=True).drop(\"time\")\n",
    "\n",
    "    # Sum\n",
    "    ds = ds.sum(\"time\", keep_attrs=True)\n",
    "    for da in ds.data_vars.values():\n",
    "        da.attrs[\"long_name\"] = f\"Sum of {da.attrs['long_name']}\"\n",
    "\n",
    "    # Linear\n",
    "    ds[\"Slope\"] = cumsum.polyfit(\"time\", 1)[\"polyfit_coefficients\"].sel(degree=1)\n",
    "    ds[\"Slope\"].attrs = {\n",
    "        \"long_name\": f\"Trend of {da.attrs['long_name']}\",\n",
    "        \"units\": f\"{da.attrs['units']} yr$^{-1}$\",\n",
    "    }\n",
    "\n",
    "    # Quadratic\n",
    "    ds[\"Acceleration\"] = cumsum.polyfit(\"time\", 2)[\"polyfit_coefficients\"].sel(degree=2)\n",
    "    ds[\"Acceleration\"].attrs = {\n",
    "        \"long_name\": f\"Quadratic Trend of {da.attrs['long_name']}\",\n",
    "        \"units\": f\"{da.attrs['units']} yr$^{-2}$\",\n",
    "    }\n",
    "\n",
    "    return ds"
   ]
  },
  {
   "cell_type": "markdown",
   "id": "725d6e7c",
   "metadata": {},
   "source": [
    "## Download and transform data"
   ]
  },
  {
   "cell_type": "code",
   "execution_count": null,
   "id": "8ce761ab-4b95-4878-aff5-f71e5db10586",
   "metadata": {},
   "outputs": [],
   "source": [
    "ds = download.download_and_transform(\n",
    "    collection_id,\n",
    "    request,\n",
    "    chunks={\"hydrological_year\": 1},\n",
    "    transform_func=sum_and_add_trends,\n",
    "    transform_chunks=False,\n",
    ")\n",
    "# Customize some attributes\n",
    "for da in ds.data_vars.values():\n",
    "    da.attrs[\"long_name\"] = da.attrs[\"long_name\"].replace(\"_\", \" \").title()"
   ]
  },
  {
   "cell_type": "markdown",
   "id": "3354451d",
   "metadata": {},
   "source": [
    "## Create geodataframe"
   ]
  },
  {
   "cell_type": "code",
   "execution_count": null,
   "id": "c5c71945-b743-43da-a29a-04d1962a12af",
   "metadata": {},
   "outputs": [],
   "source": [
    "# Maps\n",
    "ds_stack = ds.stack(latlon=(\"latitude\", \"longitude\"))\n",
    "ds_stack = ds_stack.where((ds_stack[\"Glacier\"] != 0).compute(), drop=True)\n",
    "df = ds_stack.to_pandas()\n",
    "gdf = gpd.GeoDataFrame(\n",
    "    df,\n",
    "    geometry=gpd.points_from_xy(df[\"longitude\"], df[\"latitude\"]),\n",
    "    crs=\"EPSG:4326\",\n",
    ")"
   ]
  },
  {
   "cell_type": "markdown",
   "id": "89148309-e815-4bc9-a583-546878d1690c",
   "metadata": {},
   "source": [
    "## Plotting function"
   ]
  },
  {
   "cell_type": "code",
   "execution_count": null,
   "id": "e26e2e43-f944-4aa0-a105-422662525090",
   "metadata": {},
   "outputs": [],
   "source": [
    "def plot_map(gdf, var_name=None, label=None, title=None, **kwargs):\n",
    "    kwargs = {\"markersize\": 5, \"legend\": var_name is not None} | kwargs\n",
    "    if var_name:\n",
    "        kwargs = {\"c\": var_name, \"column\": var_name} | kwargs\n",
    "        kwargs.setdefault(\"legend_kwds\", {\"shrink\": 0.49, \"extend\": \"both\"})\n",
    "        if label is not None:\n",
    "            kwargs[\"legend_kwds\"].setdefault(\"label\", label)\n",
    "\n",
    "    shapefile_url = \"https://www.naturalearthdata.com/http//www.naturalearthdata.com/download/110m/cultural/ne_110m_admin_0_countries.zip\"\n",
    "    with fsspec.open(f\"simplecache::{shapefile_url}\") as f:\n",
    "        gdf_countries = gpd.read_file(f)\n",
    "\n",
    "    ax = gdf_countries.boundary.plot(\n",
    "        figsize=(20, 16), facecolor=\"none\", edgecolor=\"black\", linewidth=0.25\n",
    "    )\n",
    "    gdf.plot(ax=ax, **kwargs)\n",
    "    ax.axis(\"off\")\n",
    "    if title:\n",
    "        ax.set_title(title, fontsize=25)\n",
    "    return ax"
   ]
  },
  {
   "cell_type": "markdown",
   "id": "c8a49571",
   "metadata": {},
   "source": [
    "## Plot maps"
   ]
  },
  {
   "cell_type": "code",
   "execution_count": null,
   "id": "fe546ad1-46db-43a2-8029-6683697f07d7",
   "metadata": {},
   "outputs": [],
   "source": [
    "column_kwargs = {\n",
    "    \"Glacier\": {\n",
    "        \"cmap\": \"coolwarm_r\",\n",
    "        \"vmin\": -5,\n",
    "        \"vmax\": 5,\n",
    "        \"label\": \"Cumulative mass change (Gt)\",\n",
    "        \"title\": \"Cumulative glacier mass change\",\n",
    "    },\n",
    "    \"Uncertainty\": {\n",
    "        \"cmap\": \"coolwarm\",\n",
    "        \"vmin\": 0,\n",
    "        \"vmax\": 5,\n",
    "        \"label\": \"Total mass change error (Gt)\",\n",
    "        \"title\": \"Sum of glacier mass change error\",\n",
    "    },\n",
    "    \"Slope\": {\n",
    "        \"cmap\": \"coolwarm_r\",\n",
    "        \"vmin\": -0.1,\n",
    "        \"vmax\": +0.1,\n",
    "        \"label\": \"Mass change trend (Gt/yr)\",\n",
    "        \"title\": \"Linear trends (slopes) of the mass changes of the glaciers.\",\n",
    "    },\n",
    "    \"Acceleration\": {\n",
    "        \"cmap\": \"coolwarm_r\",\n",
    "        \"vmin\": -0.005,\n",
    "        \"vmax\": +0.005,\n",
    "        \"label\": \"Total mass change error (Gt)\",\n",
    "        \"title\": \"Quadratic trends (accelerations) of the mass changes of the glaciers.\",\n",
    "    },\n",
    "}\n",
    "\n",
    "for var_name, kwargs in column_kwargs.items():\n",
    "    ax = plot_map(gdf, var_name, **kwargs)\n",
    "    plt.show()"
   ]
  }
 ],
 "metadata": {
  "kernelspec": {
   "display_name": "Python 3 (ipykernel)",
   "language": "python",
   "name": "python3"
  },
  "language_info": {
   "codemirror_mode": {
    "name": "ipython",
    "version": 3
   },
   "file_extension": ".py",
   "mimetype": "text/x-python",
   "name": "python",
   "nbconvert_exporter": "python",
   "pygments_lexer": "ipython3",
   "version": "3.10.13"
  }
 },
 "nbformat": 4,
 "nbformat_minor": 5
}
