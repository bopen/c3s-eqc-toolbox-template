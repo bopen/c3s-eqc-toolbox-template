{
 "cells": [
  {
   "cell_type": "markdown",
   "id": "0",
   "metadata": {},
   "source": [
    "# Mass balance of all glaciers: Maps"
   ]
  },
  {
   "cell_type": "markdown",
   "id": "1",
   "metadata": {},
   "source": [
    "## Import packages"
   ]
  },
  {
   "cell_type": "code",
   "execution_count": null,
   "id": "2",
   "metadata": {},
   "outputs": [],
   "source": [
    "import fsspec\n",
    "import geopandas as gpd\n",
    "import matplotlib.pyplot as plt\n",
    "from c3s_eqc_automatic_quality_control import download\n",
    "\n",
    "plt.style.use(\"seaborn-v0_8-notebook\")"
   ]
  },
  {
   "cell_type": "markdown",
   "id": "3",
   "metadata": {},
   "source": [
    "## Define Parameters"
   ]
  },
  {
   "cell_type": "code",
   "execution_count": null,
   "id": "4",
   "metadata": {},
   "outputs": [],
   "source": [
    "period_start = \"1975_1976\"\n",
    "period_stop = \"2020_2021\"\n",
    "assert all(\"_\" in period and len(period) == 9 for period in (period_start, period_stop))"
   ]
  },
  {
   "cell_type": "markdown",
   "id": "5",
   "metadata": {},
   "source": [
    "## Define request"
   ]
  },
  {
   "cell_type": "code",
   "execution_count": null,
   "id": "6",
   "metadata": {},
   "outputs": [],
   "source": [
    "y0_start, y1_start = map(int, period_start.split(\"_\"))\n",
    "y0_stop, y1_stop = map(int, period_stop.split(\"_\"))\n",
    "collection_id = \"derived-gridded-glacier-mass-change\"\n",
    "request = {\n",
    "    \"variable\": \"glacier_mass_change\",\n",
    "    \"product_version\": \"wgms_fog_2022_09\",\n",
    "    \"format\": \"zip\",\n",
    "    \"hydrological_year\": [\n",
    "        f\"{y0}_{str(y1)[-2:]}\"\n",
    "        for y0, y1 in zip(range(y0_start, y0_stop + 1), range(y1_start, y1_stop + 1))\n",
    "    ],\n",
    "}"
   ]
  },
  {
   "cell_type": "markdown",
   "id": "7",
   "metadata": {},
   "source": [
    "## Functions to cache"
   ]
  },
  {
   "cell_type": "code",
   "execution_count": null,
   "id": "8",
   "metadata": {},
   "outputs": [],
   "source": [
    "def sum_and_add_trends(ds):\n",
    "    da = ds[\"Glacier\"]\n",
    "    cumsum = da.cumsum(\"time\", keep_attrs=True).drop(\"time\")\n",
    "\n",
    "    # Sum\n",
    "    ds = ds.sum(\"time\", keep_attrs=True)\n",
    "    for da in ds.data_vars.values():\n",
    "        da.attrs[\"long_name\"] = f\"Sum of {da.attrs['long_name']}\"\n",
    "\n",
    "    # Linear\n",
    "    ds[\"Slope\"] = cumsum.polyfit(\"time\", 1)[\"polyfit_coefficients\"].sel(degree=1)\n",
    "    ds[\"Slope\"].attrs = {\n",
    "        \"long_name\": f\"Trend of {da.attrs['long_name']}\",\n",
    "        \"units\": f\"{da.attrs['units']} yr$^{-1}$\",\n",
    "    }\n",
    "\n",
    "    # Quadratic\n",
    "    ds[\"Acceleration\"] = 2 * cumsum.polyfit(\"time\", 2)[\"polyfit_coefficients\"].sel(\n",
    "        degree=2\n",
    "    )\n",
    "    ds[\"Acceleration\"].attrs = {\n",
    "        \"long_name\": f\"Quadratic Trend of {da.attrs['long_name']}\",\n",
    "        \"units\": f\"{da.attrs['units']} yr$^{-2}$\",\n",
    "    }\n",
    "\n",
    "    return ds"
   ]
  },
  {
   "cell_type": "markdown",
   "id": "9",
   "metadata": {},
   "source": [
    "## Download and transform data"
   ]
  },
  {
   "cell_type": "code",
   "execution_count": null,
   "id": "10",
   "metadata": {},
   "outputs": [],
   "source": [
    "ds = download.download_and_transform(\n",
    "    collection_id,\n",
    "    request,\n",
    "    chunks={\"hydrological_year\": 1},\n",
    "    transform_func=sum_and_add_trends,\n",
    "    transform_chunks=False,\n",
    ")\n",
    "# Customize some attributes\n",
    "for da in ds.data_vars.values():\n",
    "    da.attrs[\"long_name\"] = da.attrs[\"long_name\"].replace(\"_\", \" \").title()"
   ]
  },
  {
   "cell_type": "markdown",
   "id": "11",
   "metadata": {},
   "source": [
    "## Create geodataframe"
   ]
  },
  {
   "cell_type": "code",
   "execution_count": null,
   "id": "12",
   "metadata": {},
   "outputs": [],
   "source": [
    "# Maps\n",
    "ds_stack = ds.stack(latlon=(\"latitude\", \"longitude\"))\n",
    "ds_stack = ds_stack.where((ds_stack[\"Glacier\"] != 0).compute(), drop=True)\n",
    "df = ds_stack.to_pandas()\n",
    "gdf = gpd.GeoDataFrame(\n",
    "    df,\n",
    "    geometry=gpd.points_from_xy(df[\"longitude\"], df[\"latitude\"]),\n",
    "    crs=\"EPSG:4326\",\n",
    ")"
   ]
  },
  {
   "cell_type": "markdown",
   "id": "13",
   "metadata": {},
   "source": [
    "## Plotting function"
   ]
  },
  {
   "cell_type": "code",
   "execution_count": null,
   "id": "14",
   "metadata": {},
   "outputs": [],
   "source": [
    "def plot_map(gdf, var_name=None, label=None, title=None, **kwargs):\n",
    "    kwargs = {\"markersize\": 5, \"legend\": var_name is not None} | kwargs\n",
    "    if var_name:\n",
    "        kwargs = {\"c\": var_name, \"column\": var_name} | kwargs\n",
    "        kwargs.setdefault(\"legend_kwds\", {\"shrink\": 0.49, \"extend\": \"both\"})\n",
    "        if label is not None:\n",
    "            kwargs[\"legend_kwds\"].setdefault(\"label\", label)\n",
    "\n",
    "    shapefile_url = \"https://www.naturalearthdata.com/http//www.naturalearthdata.com/download/110m/cultural/ne_110m_admin_0_countries.zip\"\n",
    "    with fsspec.open(f\"simplecache::{shapefile_url}\") as f:\n",
    "        gdf_countries = gpd.read_file(f)\n",
    "\n",
    "    ax = gdf_countries.boundary.plot(\n",
    "        figsize=(20, 16), facecolor=\"none\", edgecolor=\"black\", linewidth=0.25\n",
    "    )\n",
    "    gdf.plot(ax=ax, **kwargs)\n",
    "    ax.axis(\"off\")\n",
    "    if title:\n",
    "        ax.set_title(title, fontsize=25)\n",
    "    return ax"
   ]
  },
  {
   "cell_type": "markdown",
   "id": "15",
   "metadata": {},
   "source": [
    "## Plot maps"
   ]
  },
  {
   "cell_type": "code",
   "execution_count": null,
   "id": "16",
   "metadata": {},
   "outputs": [],
   "source": [
    "column_kwargs = {\n",
    "    \"Glacier\": {\n",
    "        \"cmap\": \"coolwarm_r\",\n",
    "        \"vmin\": -5,\n",
    "        \"vmax\": 5,\n",
    "        \"label\": \"Cumulative mass change (Gt)\",\n",
    "        \"title\": \"Cumulative glacier mass change\",\n",
    "    },\n",
    "    \"Uncertainty\": {\n",
    "        \"cmap\": \"coolwarm\",\n",
    "        \"vmin\": 0,\n",
    "        \"vmax\": 5,\n",
    "        \"label\": \"Total mass change error (Gt)\",\n",
    "        \"title\": \"Sum of glacier mass change error\",\n",
    "    },\n",
    "    \"Slope\": {\n",
    "        \"cmap\": \"coolwarm_r\",\n",
    "        \"vmin\": -0.1,\n",
    "        \"vmax\": +0.1,\n",
    "        \"label\": \"Mass change trend (Gt yr$^{-1}$)\",\n",
    "        \"title\": \"Linear trends (slopes) of the mass changes of the glaciers.\",\n",
    "    },\n",
    "    \"Acceleration\": {\n",
    "        \"cmap\": \"coolwarm_r\",\n",
    "        \"vmin\": -0.005,\n",
    "        \"vmax\": +0.005,\n",
    "        \"label\": \"Total mass change error (Gt yr$^{-2}$)\",\n",
    "        \"title\": \"Quadratic trends (accelerations) of the mass changes of the glaciers.\",\n",
    "    },\n",
    "}\n",
    "\n",
    "for var_name, kwargs in column_kwargs.items():\n",
    "    ax = plot_map(gdf, var_name, **kwargs)\n",
    "    plt.show()"
   ]
  }
 ],
 "metadata": {
  "kernelspec": {
   "display_name": "Python 3 (ipykernel)",
   "language": "python",
   "name": "python3"
  },
  "language_info": {
   "codemirror_mode": {
    "name": "ipython",
    "version": 3
   },
   "file_extension": ".py",
   "mimetype": "text/x-python",
   "name": "python",
   "nbconvert_exporter": "python",
   "pygments_lexer": "ipython3",
   "version": "3.10.13"
  }
 },
 "nbformat": 4,
 "nbformat_minor": 5
}
