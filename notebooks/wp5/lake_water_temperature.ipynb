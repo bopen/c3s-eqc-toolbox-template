{
 "cells": [
  {
   "attachments": {},
   "cell_type": "markdown",
   "id": "48a773cc",
   "metadata": {},
   "source": [
    "# Trend Analysis: Seasonality and trend in summer season temperature for Great African Lakes and test for significance"
   ]
  },
  {
   "attachments": {},
   "cell_type": "markdown",
   "id": "fa78226f",
   "metadata": {},
   "source": [
    "## Import packages"
   ]
  },
  {
   "cell_type": "code",
   "execution_count": null,
   "id": "03edb3b4",
   "metadata": {},
   "outputs": [],
   "source": [
    "import cartopy.crs as ccrs\n",
    "import matplotlib.pyplot as plt\n",
    "import pymannkendall as mk\n",
    "from c3s_eqc_automatic_quality_control import diagnostics, download, plot, utils\n",
    "\n",
    "plt.style.use(\"seaborn-v0_8-notebook\")"
   ]
  },
  {
   "attachments": {},
   "cell_type": "markdown",
   "id": "d1c09570",
   "metadata": {},
   "source": [
    "## Set varibales"
   ]
  },
  {
   "cell_type": "code",
   "execution_count": null,
   "id": "48ccc673",
   "metadata": {},
   "outputs": [],
   "source": [
    "# Time\n",
    "start = \"1997-01\"\n",
    "stop = \"1998-01\"\n",
    "\n",
    "# Region\n",
    "lon_slice = slice(28, 41)\n",
    "lat_slice = slice(-16, 4)\n",
    "\n",
    "# Variable\n",
    "varname = \"lake_surface_water_temperature\""
   ]
  },
  {
   "attachments": {},
   "cell_type": "markdown",
   "id": "d68487d5",
   "metadata": {},
   "source": [
    "## Set the data request"
   ]
  },
  {
   "cell_type": "code",
   "execution_count": null,
   "id": "94ce314c",
   "metadata": {},
   "outputs": [],
   "source": [
    "collection_id = \"satellite-lake-water-temperature\"\n",
    "request = {\n",
    "    \"version\": \"4.0\",\n",
    "    \"variable\": \"all\",\n",
    "    \"format\": \"zip\",\n",
    "}"
   ]
  },
  {
   "attachments": {},
   "cell_type": "markdown",
   "id": "66ec6d6f",
   "metadata": {},
   "source": [
    "## Define function to extract region and compute spatial weighted mean"
   ]
  },
  {
   "cell_type": "code",
   "execution_count": null,
   "id": "a8ce6bd0",
   "metadata": {},
   "outputs": [],
   "source": [
    "def spatial_weighted_mean_of_region(ds, lon_slice, lat_slice, varname):\n",
    "    ds = ds[[varname]]\n",
    "    ds = utils.regionalise(ds, lon_slice=lon_slice, lat_slice=lat_slice)\n",
    "    ds = diagnostics.spatial_weighted_mean(ds)\n",
    "    return ds"
   ]
  },
  {
   "attachments": {},
   "cell_type": "markdown",
   "id": "b23db65f",
   "metadata": {},
   "source": [
    "## Download data"
   ]
  },
  {
   "cell_type": "code",
   "execution_count": null,
   "id": "85db9f36",
   "metadata": {},
   "outputs": [],
   "source": [
    "chunks = {\"year\": 1, \"month\": 1}\n",
    "requests = download.update_request_date(\n",
    "    request, start=start, stop=stop, stringify_dates=True\n",
    ")\n",
    "ds = download.download_and_transform(\n",
    "    collection_id,\n",
    "    requests,\n",
    "    chunks=chunks,\n",
    "    transform_func=spatial_weighted_mean_of_region,\n",
    "    transform_func_kwargs={\n",
    "        \"lon_slice\": lon_slice,\n",
    "        \"lat_slice\": lat_slice,\n",
    "        \"varname\": varname,\n",
    "    },\n",
    ")\n",
    "da = ds[varname]"
   ]
  },
  {
   "attachments": {},
   "cell_type": "markdown",
   "id": "328f352f",
   "metadata": {},
   "source": [
    "## Extract lake id to plot a map of the region"
   ]
  },
  {
   "cell_type": "code",
   "execution_count": null,
   "id": "1b8b8817",
   "metadata": {},
   "outputs": [],
   "source": [
    "# We use one of the request previously cached\n",
    "single_request = requests[0]\n",
    "single_request[\"month\"] = single_request[\"month\"][0]\n",
    "ds_raw = download.download_and_transform(\n",
    "    collection_id,\n",
    "    single_request,\n",
    "    chunks=chunks,\n",
    ")\n",
    "\n",
    "da_lakeid = utils.regionalise(\n",
    "    ds_raw[\"lakeid\"].isel(time=0), lon_slice=lon_slice, lat_slice=lat_slice\n",
    ")"
   ]
  },
  {
   "attachments": {},
   "cell_type": "markdown",
   "id": "674c3e27",
   "metadata": {},
   "source": [
    "## Plot projected map"
   ]
  },
  {
   "cell_type": "code",
   "execution_count": null,
   "id": "6595ccc7",
   "metadata": {},
   "outputs": [],
   "source": [
    "plot.projected_map(da_lakeid, projection=ccrs.PlateCarree())"
   ]
  },
  {
   "attachments": {},
   "cell_type": "markdown",
   "id": "39d214a7",
   "metadata": {},
   "source": [
    "## Plot spatial weighted mean"
   ]
  },
  {
   "cell_type": "code",
   "execution_count": null,
   "id": "5e6f32f9",
   "metadata": {},
   "outputs": [],
   "source": [
    "da.plot()\n",
    "plt.title(\"Spatial weighted mean\")"
   ]
  },
  {
   "attachments": {},
   "cell_type": "markdown",
   "id": "47f22712",
   "metadata": {},
   "source": [
    "## Mothly resample and plot"
   ]
  },
  {
   "cell_type": "code",
   "execution_count": null,
   "id": "807a1816",
   "metadata": {},
   "outputs": [],
   "source": [
    "da.resample(time=\"1MS\").mean().plot()\n",
    "plt.title(\"Monthly mean\")"
   ]
  },
  {
   "attachments": {},
   "cell_type": "markdown",
   "id": "b4bcd67c",
   "metadata": {},
   "source": [
    "## Seasonal boxplot"
   ]
  },
  {
   "cell_type": "code",
   "execution_count": null,
   "id": "84509cd0",
   "metadata": {},
   "outputs": [],
   "source": [
    "plot.seasonal_boxplot(da)\n",
    "plt.suptitle(\"Seasonal boxplot\")"
   ]
  },
  {
   "attachments": {},
   "cell_type": "markdown",
   "id": "58639661",
   "metadata": {},
   "source": [
    "## Mann-Kendall trend test"
   ]
  },
  {
   "cell_type": "code",
   "execution_count": null,
   "id": "64fd8543",
   "metadata": {},
   "outputs": [],
   "source": [
    "trend, h, p, z, tau, s, var_s, slope, intercept = mk.original_test(da)\n",
    "print(\n",
    "    f\"The trend of {da.attrs.get('long_name', da.name)} {'is' if p<0.05 else 'is NOT'} significant.\"\n",
    ")\n",
    "print(f\"Trend: {slope}\")"
   ]
  }
 ],
 "metadata": {
  "kernelspec": {
   "display_name": "Python 3 (ipykernel)",
   "language": "python",
   "name": "python3"
  },
  "language_info": {
   "codemirror_mode": {
    "name": "ipython",
    "version": 3
   },
   "file_extension": ".py",
   "mimetype": "text/x-python",
   "name": "python",
   "nbconvert_exporter": "python",
   "pygments_lexer": "ipython3",
   "version": "3.10.9"
  }
 },
 "nbformat": 4,
 "nbformat_minor": 5
}
