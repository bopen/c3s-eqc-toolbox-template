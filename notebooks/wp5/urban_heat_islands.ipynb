{
 "cells": [
  {
   "cell_type": "markdown",
   "id": "53f70af7",
   "metadata": {},
   "source": [
    "# Urban Heat Islands: India"
   ]
  },
  {
   "cell_type": "markdown",
   "id": "63856657",
   "metadata": {},
   "source": [
    "## Import packages"
   ]
  },
  {
   "cell_type": "code",
   "execution_count": null,
   "id": "597824f7-a4c6-4887-b08c-746fd4907db4",
   "metadata": {},
   "outputs": [],
   "source": [
    "import matplotlib.colors as mcolors\n",
    "import matplotlib.pyplot as plt\n",
    "import xarray as xr\n",
    "from c3s_eqc_automatic_quality_control import diagnostics, download, plot, utils\n",
    "\n",
    "plt.style.use(\"seaborn-v0_8-notebook\")"
   ]
  },
  {
   "cell_type": "markdown",
   "id": "4872f1c6",
   "metadata": {},
   "source": [
    "## Define Parameters"
   ]
  },
  {
   "cell_type": "code",
   "execution_count": null,
   "id": "0fd03e38-cdff-421b-9826-a777ea2af5eb",
   "metadata": {},
   "outputs": [],
   "source": [
    "# Region\n",
    "area = [15, 75, 10, 80]\n",
    "\n",
    "# Zoom\n",
    "lon_slice = slice(77.4, 77.8)\n",
    "lat_slice = slice(12.8, 13.2)\n",
    "\n",
    "# Time Periods\n",
    "satelite_years = {\"spot\": [\"1999\", \"2000\"], \"proba\": [\"2014\", \"2015\"]}"
   ]
  },
  {
   "cell_type": "markdown",
   "id": "76fe9788",
   "metadata": {},
   "source": [
    "## Define Requests"
   ]
  },
  {
   "cell_type": "code",
   "execution_count": null,
   "id": "3d7df38d-86b5-49a2-aae8-e002c5cc7d9f",
   "metadata": {},
   "outputs": [],
   "source": [
    "collection_id_albedo = \"satellite-albedo\"\n",
    "common_albedo_request = {\n",
    "    \"format\": \"zip\",\n",
    "    \"variable\": \"albb_bh\",\n",
    "    \"sensor\": \"vgt\",\n",
    "    \"product_version\": \"v2\",\n",
    "    \"horizontal_resolution\": \"1km\",\n",
    "    \"month\": [f\"{month:02d}\" for month in range(1, 13)],\n",
    "    \"nominal_day\": \"10\",\n",
    "    \"area\": area,\n",
    "}\n",
    "albedo_requests = {\n",
    "    satellite: common_albedo_request | {\"satellite\": satellite, \"year\": years}\n",
    "    for satellite, years in satelite_years.items()\n",
    "}\n",
    "\n",
    "collection_id_temperature = \"reanalysis-era5-land-monthly-means\"\n",
    "common_temperature_request = {\n",
    "    \"format\": \"grib\",\n",
    "    \"product_type\": \"monthly_averaged_reanalysis\",\n",
    "    \"variable\": \"2m_temperature\",\n",
    "    \"time\": \"00:00\",\n",
    "    \"month\": [f\"{month:02d}\" for month in range(1, 13)],\n",
    "    \"area\": area,\n",
    "}\n",
    "temperature_requests = {\n",
    "    satellite: common_temperature_request | {\"year\": years}\n",
    "    for satellite, years in satelite_years.items()\n",
    "}"
   ]
  },
  {
   "cell_type": "markdown",
   "id": "ac65befb",
   "metadata": {},
   "source": [
    "## Functions to cache"
   ]
  },
  {
   "cell_type": "code",
   "execution_count": null,
   "id": "9881cf68-56d3-45ea-bfcf-3fed77e48ef9",
   "metadata": {},
   "outputs": [],
   "source": [
    "def regionalised_func(ds, lon_slice, lat_slice, func):\n",
    "    ds = utils.regionalise(ds, lon_slice=lon_slice, lat_slice=lat_slice)\n",
    "    return func(ds)"
   ]
  },
  {
   "cell_type": "markdown",
   "id": "5154880f",
   "metadata": {},
   "source": [
    "## Download and transform albedo"
   ]
  },
  {
   "cell_type": "code",
   "execution_count": null,
   "id": "3add6caf-4764-4de4-9fc6-4f1393e6e589",
   "metadata": {},
   "outputs": [],
   "source": [
    "albedo_kwargs = {\n",
    "    \"chunks\": {\"year\": 1, \"month\": 1},\n",
    "    \"drop_variables\": [\"crs\"],\n",
    "}\n",
    "\n",
    "datasets = []\n",
    "for satellite, request in albedo_requests.items():\n",
    "    ds = download.download_and_transform(\n",
    "        collection_id_albedo,\n",
    "        request | {\"area\": area},\n",
    "        transform_func=diagnostics.time_weighted_mean,\n",
    "        transform_chunks=False,\n",
    "        **albedo_kwargs,\n",
    "    )\n",
    "    datasets.append(ds.expand_dims(satellite=[satellite]))\n",
    "ds_albedo_maps = xr.concat(datasets, \"satellite\")\n",
    "ds_albedo_maps_zoom = utils.regionalise(\n",
    "    ds_albedo_maps, lon_slice=lon_slice, lat_slice=lat_slice\n",
    ")\n",
    "\n",
    "datasets = []\n",
    "for satellite, request in albedo_requests.items():\n",
    "    ds = download.download_and_transform(\n",
    "        collection_id_albedo,\n",
    "        request | {\"area\": area},\n",
    "        transform_func=diagnostics.seasonal_weighted_mean,\n",
    "        transform_chunks=False,\n",
    "        **albedo_kwargs,\n",
    "    )\n",
    "    datasets.append(ds.expand_dims(satellite=[satellite]))\n",
    "ds_albedo_season_maps = xr.concat(datasets, \"satellite\")\n",
    "ds_albedo_season_maps_zoom = utils.regionalise(\n",
    "    ds_albedo_season_maps, lon_slice=lon_slice, lat_slice=lat_slice\n",
    ")\n",
    "\n",
    "\n",
    "albedo_timeseries_zoom = {}\n",
    "for satellite, request in albedo_requests.items():\n",
    "    albedo_timeseries_zoom[satellite] = download.download_and_transform(\n",
    "        collection_id_albedo,\n",
    "        request,\n",
    "        transform_func=regionalised_func,\n",
    "        transform_func_kwargs={\n",
    "            \"lon_slice\": lon_slice,\n",
    "            \"lat_slice\": lat_slice,\n",
    "            \"func\": diagnostics.spatial_weighted_mean,\n",
    "        },\n",
    "        **albedo_kwargs,\n",
    "    )"
   ]
  },
  {
   "cell_type": "markdown",
   "id": "f24bcb47",
   "metadata": {},
   "source": [
    "## Download and transform temperature"
   ]
  },
  {
   "cell_type": "code",
   "execution_count": null,
   "id": "f008f7a5-632d-45c3-ae57-ae2ed1829f45",
   "metadata": {},
   "outputs": [],
   "source": [
    "temperature_kwargs = {\n",
    "    \"chunks\": {\"year\": 1},\n",
    "}\n",
    "\n",
    "temperature_timeseries_zoom = {}\n",
    "for satellite, request in temperature_requests.items():\n",
    "    temperature_timeseries_zoom[satellite] = download.download_and_transform(\n",
    "        collection_id_temperature,\n",
    "        request,\n",
    "        transform_func=regionalised_func,\n",
    "        transform_func_kwargs={\n",
    "            \"lon_slice\": lon_slice,\n",
    "            \"lat_slice\": lat_slice,\n",
    "            \"func\": diagnostics.spatial_weighted_mean,\n",
    "        },\n",
    "        **temperature_kwargs,\n",
    "    )"
   ]
  },
  {
   "cell_type": "markdown",
   "id": "0683ede6",
   "metadata": {},
   "source": [
    "## Plot albedo maps"
   ]
  },
  {
   "cell_type": "code",
   "execution_count": null,
   "id": "46aa1da6-6652-4752-9bc3-534bcfed2f7c",
   "metadata": {},
   "outputs": [],
   "source": [
    "custom_cmap_s = mcolors.LinearSegmentedColormap.from_list(\n",
    "    \"CustomColorMap\",\n",
    "    [\"blue\", \"skyblue\", \"cyan\", \"lightgreen\", \"yellow\", \"orange\", \"red\", \"maroon\"],\n",
    ")\n",
    "for ds in (ds_albedo_maps, ds_albedo_maps_zoom):\n",
    "    facet = plot.projected_map(ds[\"AL_BH_BB\"], cmap=custom_cmap_s, row=\"satellite\")\n",
    "    plt.show()"
   ]
  },
  {
   "cell_type": "markdown",
   "id": "344f31d8",
   "metadata": {},
   "source": [
    "## Plot albedo timeseries"
   ]
  },
  {
   "cell_type": "code",
   "execution_count": null,
   "id": "be8d9f9e-b979-4499-847d-4f4e16f5f004",
   "metadata": {},
   "outputs": [],
   "source": [
    "for satellite, ds in albedo_timeseries_zoom.items():\n",
    "    ds[\"AL_BH_BB\"].plot(marker=\"o\", linestyle=\"-\", color=\"b\")\n",
    "    plt.grid()\n",
    "    plt.title(f\"{satellite=}\")\n",
    "    plt.show()"
   ]
  },
  {
   "cell_type": "markdown",
   "id": "ae0543b8",
   "metadata": {},
   "source": [
    "## Define plotting function"
   ]
  },
  {
   "cell_type": "code",
   "execution_count": null,
   "id": "ef25e3e7-7646-4fb1-a377-5e76c082264a",
   "metadata": {},
   "outputs": [],
   "source": [
    "def compare_albedo_and_temperature(da_albedo, da_temperature, freq):\n",
    "    # Resample\n",
    "    da_albedo = da_albedo.resample(time=freq).mean()\n",
    "    da_temperature = da_temperature.resample(forecast_reference_time=freq).mean()\n",
    "    dt = da_temperature[\"forecast_reference_time\"].diff(\"forecast_reference_time\")\n",
    "\n",
    "    # Convert units\n",
    "    with xr.set_options(keep_attrs=True):\n",
    "        da_temperature = da_temperature - 273.15\n",
    "    da_temperature.attrs[\"units\"] = \"°C\"\n",
    "\n",
    "    fig, ax1 = plt.subplots()\n",
    "    # Plot albedo\n",
    "    color = \"blue\"\n",
    "    da_albedo.plot(ax=ax1, color=color)\n",
    "    ax1.set_ylabel(ax1.get_ylabel(), color=color)\n",
    "    ax1.tick_params(axis=\"y\", labelcolor=color)\n",
    "    ax1.grid()\n",
    "\n",
    "    # Plot temperature\n",
    "    ax2 = ax1.twinx()\n",
    "    color = \"red\"\n",
    "    ax2.bar(\n",
    "        da_temperature[\"forecast_reference_time\"],\n",
    "        da_temperature,\n",
    "        width=dt[0] / 2,\n",
    "        color=color,\n",
    "        alpha=0.6,\n",
    "    )\n",
    "    ax2.set_ylabel(\n",
    "        f\"{da_temperature.attrs['long_name']} [{da_temperature.attrs['units']}]\",\n",
    "        color=color,\n",
    "    )\n",
    "    ax2.tick_params(axis=\"y\", labelcolor=color)\n",
    "    return fig, (ax1, ax2)"
   ]
  },
  {
   "cell_type": "markdown",
   "id": "1cca255c",
   "metadata": {},
   "source": [
    "## Plot albedo vs temperature timeseries"
   ]
  },
  {
   "cell_type": "code",
   "execution_count": null,
   "id": "e0ac24bc-3f3a-4d46-9e64-507709727fe5",
   "metadata": {},
   "outputs": [],
   "source": [
    "for freq in (\"1MS\", \"QS-DEC\"):\n",
    "    for satellite, ds_albedo in albedo_timeseries_zoom.items():\n",
    "        da_albedo = ds_albedo[\"AL_BH_BB\"]\n",
    "        da_temperature = temperature_timeseries_zoom[satellite][\"t2m\"]\n",
    "        fig, (ax1, ax2) = compare_albedo_and_temperature(\n",
    "            da_albedo, da_temperature, freq\n",
    "        )\n",
    "        fig.suptitle(f\"{satellite=} {freq=}\")\n",
    "        plt.show()"
   ]
  },
  {
   "cell_type": "markdown",
   "id": "43dd31a4",
   "metadata": {},
   "source": [
    "## Plot albedo seasonality"
   ]
  },
  {
   "cell_type": "code",
   "execution_count": null,
   "id": "a0215421-5d91-43ec-a669-0285be1ad8db",
   "metadata": {},
   "outputs": [],
   "source": [
    "for ds in (ds_albedo_season_maps, ds_albedo_season_maps_zoom):\n",
    "    facet = plot.projected_map(\n",
    "        ds[\"AL_BH_BB\"], cmap=custom_cmap_s, row=\"satellite\", col=\"season\"\n",
    "    )\n",
    "    plt.show()"
   ]
  }
 ],
 "metadata": {
  "kernelspec": {
   "display_name": "Python 3 (ipykernel)",
   "language": "python",
   "name": "python3"
  },
  "language_info": {
   "codemirror_mode": {
    "name": "ipython",
    "version": 3
   },
   "file_extension": ".py",
   "mimetype": "text/x-python",
   "name": "python",
   "nbconvert_exporter": "python",
   "pygments_lexer": "ipython3",
   "version": "3.11.7"
  }
 },
 "nbformat": 4,
 "nbformat_minor": 5
}
