{
 "cells": [
  {
   "cell_type": "markdown",
   "id": "204c1ded",
   "metadata": {},
   "source": [
    "# Urban Heat Islands: India"
   ]
  },
  {
   "cell_type": "markdown",
   "id": "3b864678",
   "metadata": {},
   "source": [
    "## Import packages"
   ]
  },
  {
   "cell_type": "code",
   "execution_count": null,
   "id": "597824f7-a4c6-4887-b08c-746fd4907db4",
   "metadata": {},
   "outputs": [],
   "source": [
    "import matplotlib.colors as mcolors\n",
    "import matplotlib.dates as mdates\n",
    "import matplotlib.pyplot as plt\n",
    "import xarray as xr\n",
    "from c3s_eqc_automatic_quality_control import diagnostics, download, plot, utils\n",
    "\n",
    "plt.style.use(\"seaborn-v0_8-notebook\")"
   ]
  },
  {
   "cell_type": "markdown",
   "id": "f53108dd",
   "metadata": {},
   "source": [
    "## Define Parameters"
   ]
  },
  {
   "cell_type": "code",
   "execution_count": null,
   "id": "0fd03e38-cdff-421b-9826-a777ea2af5eb",
   "metadata": {},
   "outputs": [],
   "source": [
    "# Region\n",
    "area = [15, 75, 10, 80]\n",
    "\n",
    "# Zoom\n",
    "lon_slice = slice(77.4, 77.8)\n",
    "lat_slice = slice(12.8, 13.2)\n",
    "\n",
    "# Periods\n",
    "satelite_years = {\"spot\": [\"1999\", \"2000\"], \"proba\": [\"2014\", \"2015\"]}"
   ]
  },
  {
   "cell_type": "markdown",
   "id": "1bae4a99",
   "metadata": {},
   "source": [
    "## Define Requests"
   ]
  },
  {
   "cell_type": "code",
   "execution_count": null,
   "id": "3d7df38d-86b5-49a2-aae8-e002c5cc7d9f",
   "metadata": {},
   "outputs": [],
   "source": [
    "collection_id_albedo = \"satellite-albedo\"\n",
    "albedo_request = {\n",
    "    \"format\": \"zip\",\n",
    "    \"variable\": \"albb_bh\",\n",
    "    \"sensor\": \"vgt\",\n",
    "    \"product_version\": \"v2\",\n",
    "    \"horizontal_resolution\": \"1km\",\n",
    "    \"month\": [f\"{month:02d}\" for month in range(1, 13)],\n",
    "    \"nominal_day\": \"10\",\n",
    "    \"area\": area,\n",
    "}\n",
    "\n",
    "collection_id_temperature = \"reanalysis-era5-land-monthly-means\"\n",
    "temperature_request = {\n",
    "    \"format\": \"grib\",\n",
    "    \"product_type\": \"monthly_averaged_reanalysis\",\n",
    "    \"variable\": \"2m_temperature\",\n",
    "    \"time\": \"00:00\",\n",
    "    \"month\": [f\"{month:02d}\" for month in range(1, 13)],\n",
    "    \"area\": area,\n",
    "}"
   ]
  },
  {
   "cell_type": "markdown",
   "id": "8ffb0c89",
   "metadata": {},
   "source": [
    "## Functions to cache"
   ]
  },
  {
   "cell_type": "code",
   "execution_count": null,
   "id": "9881cf68-56d3-45ea-bfcf-3fed77e48ef9",
   "metadata": {},
   "outputs": [],
   "source": [
    "def regionalised_func(ds, lon_slice, lat_slice, func):\n",
    "    ds = utils.regionalise(ds, lon_slice=lon_slice, lat_slice=lat_slice)\n",
    "    return func(ds)"
   ]
  },
  {
   "cell_type": "markdown",
   "id": "3747ef0f",
   "metadata": {},
   "source": [
    "## Download and transform albedo"
   ]
  },
  {
   "cell_type": "code",
   "execution_count": null,
   "id": "3add6caf-4764-4de4-9fc6-4f1393e6e589",
   "metadata": {},
   "outputs": [],
   "source": [
    "albedo_kwargs = {\n",
    "    \"chunks\": {\"year\": 1, \"month\": 1},\n",
    "    \"drop_variables\": [\"crs\"],\n",
    "}\n",
    "\n",
    "datasets = []\n",
    "for satellite, years in satelite_years.items():\n",
    "    ds = download.download_and_transform(\n",
    "        collection_id_albedo,\n",
    "        albedo_request | {\"satellite\": satellite, \"year\": years},\n",
    "        transform_func=diagnostics.time_weighted_mean,\n",
    "        transform_chunks=False,\n",
    "        **albedo_kwargs,\n",
    "    )\n",
    "    datasets.append(ds.expand_dims(satellite=[satellite]))\n",
    "ds_albedo_maps = xr.concat(datasets, \"satellite\")\n",
    "\n",
    "datasets = []\n",
    "for satellite, years in satelite_years.items():\n",
    "    ds = download.download_and_transform(\n",
    "        collection_id_albedo,\n",
    "        albedo_request | {\"satellite\": satellite, \"year\": years},\n",
    "        transform_func=diagnostics.seasonal_weighted_mean,\n",
    "        transform_chunks=False,\n",
    "        **albedo_kwargs,\n",
    "    )\n",
    "    datasets.append(ds.expand_dims(satellite=[satellite]))\n",
    "ds_albedo_season_maps = xr.concat(datasets, \"satellite\")\n",
    "\n",
    "albedo_timeseries_zoom = {}\n",
    "for satellite, years in satelite_years.items():\n",
    "    albedo_timeseries_zoom[satellite] = download.download_and_transform(\n",
    "        collection_id_albedo,\n",
    "        albedo_request | {\"satellite\": satellite, \"year\": years},\n",
    "        transform_func=regionalised_func,\n",
    "        transform_func_kwargs={\n",
    "            \"lon_slice\": lon_slice,\n",
    "            \"lat_slice\": lat_slice,\n",
    "            \"func\": diagnostics.spatial_weighted_mean,\n",
    "        },\n",
    "        **albedo_kwargs,\n",
    "    )"
   ]
  },
  {
   "cell_type": "markdown",
   "id": "49f416ce",
   "metadata": {},
   "source": [
    "## Download and transform temperature"
   ]
  },
  {
   "cell_type": "code",
   "execution_count": null,
   "id": "f008f7a5-632d-45c3-ae57-ae2ed1829f45",
   "metadata": {},
   "outputs": [],
   "source": [
    "temperature_kwargs = {\n",
    "    \"chunks\": {\"year\": 1},\n",
    "}\n",
    "\n",
    "datasets = []\n",
    "for satellite, years in satelite_years.items():\n",
    "    ds = download.download_and_transform(\n",
    "        collection_id_temperature,\n",
    "        temperature_request | {\"year\": years},\n",
    "        transform_func=diagnostics.time_weighted_mean,\n",
    "        transform_chunks=False,\n",
    "        **temperature_kwargs,\n",
    "    )\n",
    "    datasets.append(ds.expand_dims(satellite=[satellite]))\n",
    "ds_temperature_maps = xr.concat(datasets, \"satellite\")\n",
    "\n",
    "datasets = []\n",
    "for satellite, years in satelite_years.items():\n",
    "    ds = download.download_and_transform(\n",
    "        collection_id_temperature,\n",
    "        temperature_request | {\"year\": years},\n",
    "        transform_func=diagnostics.seasonal_weighted_mean,\n",
    "        transform_chunks=False,\n",
    "        **temperature_kwargs,\n",
    "    )\n",
    "    datasets.append(ds.expand_dims(satellite=[satellite]))\n",
    "ds_temperature_season_maps = xr.concat(datasets, \"satellite\")\n",
    "\n",
    "temperature_timeseries_zoom = {}\n",
    "for satellite, years in satelite_years.items():\n",
    "    temperature_timeseries_zoom[satellite] = download.download_and_transform(\n",
    "        collection_id_temperature,\n",
    "        temperature_request | {\"year\": years},\n",
    "        transform_func=regionalised_func,\n",
    "        transform_func_kwargs={\n",
    "            \"lon_slice\": lon_slice,\n",
    "            \"lat_slice\": lat_slice,\n",
    "            \"func\": diagnostics.spatial_weighted_mean,\n",
    "        },\n",
    "        **temperature_kwargs,\n",
    "    )"
   ]
  },
  {
   "cell_type": "markdown",
   "id": "ed2a7951",
   "metadata": {},
   "source": [
    "## Define plotting functions"
   ]
  },
  {
   "cell_type": "code",
   "execution_count": null,
   "id": "01bb90d0-fbbc-4875-8000-5188dcbf8d0d",
   "metadata": {},
   "outputs": [],
   "source": [
    "def compare_albedo_and_temperature(da_albedo, da_temperature, freq):\n",
    "    # Resample\n",
    "    da_albedo = da_albedo.resample(time=freq).mean()\n",
    "    da_temperature = da_temperature.resample(forecast_reference_time=freq).mean()\n",
    "    dt = da_temperature[\"forecast_reference_time\"].diff(\"forecast_reference_time\")\n",
    "\n",
    "    # Convert units\n",
    "    with xr.set_options(keep_attrs=True):\n",
    "        da_temperature = da_temperature - 273.15\n",
    "    da_temperature.attrs[\"units\"] = \"°C\"\n",
    "\n",
    "    fig, ax1 = plt.subplots()\n",
    "    # Plot temperature\n",
    "    color = \"red\"\n",
    "    ax1.bar(\n",
    "        da_temperature[\"forecast_reference_time\"],\n",
    "        da_temperature,\n",
    "        width=dt[0] / 2,\n",
    "        color=color,\n",
    "        alpha=0.6,\n",
    "    )\n",
    "    ax1.set_ylabel(\n",
    "        f\"{da_temperature.attrs['long_name']} [{da_temperature.attrs['units']}]\",\n",
    "        color=color,\n",
    "    )\n",
    "    ax1.tick_params(axis=\"y\", labelcolor=color)\n",
    "\n",
    "    # Plot albedo\n",
    "    ax2 = ax1.twinx()\n",
    "    color = \"blue\"\n",
    "    da_albedo.plot(ax=ax2, marker=\"o\", color=color)\n",
    "    ax2.set_ylabel(ax2.get_ylabel(), color=color)\n",
    "    ax2.tick_params(axis=\"y\", labelcolor=color)\n",
    "    ax2.grid()\n",
    "\n",
    "    ax2.xaxis.set_major_formatter(mdates.DateFormatter(\"%Y-%b\"))\n",
    "    fig.autofmt_xdate(rotation=45)\n",
    "    return fig, (ax1, ax2)\n",
    "\n",
    "\n",
    "def plot_maps(da, lon_slice=None, lat_slice=None, area=area, **kwargs):\n",
    "    if lon_slice is None:\n",
    "        lon_slice = slice(*sorted([area[1], area[3]]))\n",
    "    if lat_slice is None:\n",
    "        lat_slice = slice(*sorted([area[0], area[2]]))\n",
    "\n",
    "    kwargs.setdefault(\"row\", \"satellite\" if \"satellite\" in da.dims else None)\n",
    "    kwargs.setdefault(\"col\", \"season\" if \"season\" in da.dims else None)\n",
    "    da[\"longitude\"] = da[\"longitude\"].astype(\"float32\")\n",
    "    da[\"latitude\"] = da[\"latitude\"].astype(\"float32\")\n",
    "    da = utils.regionalise(da, lon_slice=lon_slice, lat_slice=lat_slice)\n",
    "\n",
    "    if da.name == \"t2m\":\n",
    "        with xr.set_options(keep_attrs=True):\n",
    "            da = da - 273.15\n",
    "        da.attrs[\"units\"] = \"°C\"\n",
    "\n",
    "    facet = plot.projected_map(da, **kwargs)\n",
    "    for ax in facet.axs.flatten():\n",
    "        ax.set_extent(\n",
    "            [lon_slice.start, lon_slice.stop, lat_slice.start, lat_slice.stop]\n",
    "        )\n",
    "    return facet"
   ]
  },
  {
   "cell_type": "markdown",
   "id": "7024d5d6",
   "metadata": {},
   "source": [
    "## Plot albedo"
   ]
  },
  {
   "cell_type": "code",
   "execution_count": null,
   "id": "0b401d83-a496-4279-ad25-805c05554ce4",
   "metadata": {},
   "outputs": [],
   "source": [
    "custom_cmap_s = mcolors.LinearSegmentedColormap.from_list(\n",
    "    \"CustomColorMap\",\n",
    "    [\"blue\", \"skyblue\", \"cyan\", \"lightgreen\", \"yellow\", \"orange\", \"red\", \"maroon\"],\n",
    ")\n",
    "facet_albedo = plot_maps(ds_albedo_maps[\"AL_BH_BB\"], cmap=custom_cmap_s)\n",
    "facet_albedo_zoom = plot_maps(\n",
    "    ds_albedo_maps[\"AL_BH_BB\"],\n",
    "    lon_slice=lon_slice,\n",
    "    lat_slice=lat_slice,\n",
    "    cmap=custom_cmap_s,\n",
    ")"
   ]
  },
  {
   "cell_type": "markdown",
   "id": "cd360c86-f820-4895-b533-2b107973ebc5",
   "metadata": {},
   "source": [
    "## Plot temperature"
   ]
  },
  {
   "cell_type": "code",
   "execution_count": null,
   "id": "88f67d98-d137-40ad-9cf1-5ac8c3475844",
   "metadata": {},
   "outputs": [],
   "source": [
    "facet_albedo = plot_maps(ds_temperature_maps[\"t2m\"], cmap=\"YlOrRd\")\n",
    "facet_albedo_zoom = plot_maps(\n",
    "    ds_temperature_maps[\"t2m\"],\n",
    "    lon_slice=lon_slice,\n",
    "    lat_slice=lat_slice,\n",
    "    cmap=\"YlOrRd\",\n",
    ")"
   ]
  },
  {
   "cell_type": "markdown",
   "id": "d1b97a30",
   "metadata": {},
   "source": [
    "## Plot timeseries"
   ]
  },
  {
   "cell_type": "code",
   "execution_count": null,
   "id": "e0ac24bc-3f3a-4d46-9e64-507709727fe5",
   "metadata": {},
   "outputs": [],
   "source": [
    "for freq in (\"1MS\", \"QS-DEC\"):\n",
    "    for satellite, ds_albedo in albedo_timeseries_zoom.items():\n",
    "        da_albedo = ds_albedo[\"AL_BH_BB\"]\n",
    "        da_temperature = temperature_timeseries_zoom[satellite][\"t2m\"]\n",
    "        fig, (ax1, ax2) = compare_albedo_and_temperature(\n",
    "            da_albedo, da_temperature, freq\n",
    "        )\n",
    "        fig.suptitle(f\"{satellite=} {freq=}\")\n",
    "        plt.show()"
   ]
  },
  {
   "cell_type": "markdown",
   "id": "40611e98",
   "metadata": {},
   "source": [
    "## Plot seasonal albedo"
   ]
  },
  {
   "cell_type": "code",
   "execution_count": null,
   "id": "4506582e-4c11-4a0a-8338-c074817a9c0d",
   "metadata": {},
   "outputs": [],
   "source": [
    "facet_albedo = plot_maps(ds_albedo_season_maps[\"AL_BH_BB\"], cmap=custom_cmap_s)\n",
    "facet_albedo_zoom = plot_maps(\n",
    "    ds_albedo_season_maps[\"AL_BH_BB\"],\n",
    "    lon_slice=lon_slice,\n",
    "    lat_slice=lat_slice,\n",
    "    cmap=custom_cmap_s,\n",
    ")"
   ]
  },
  {
   "cell_type": "markdown",
   "id": "20246941-2cd1-4b95-86c8-67715f8b1174",
   "metadata": {},
   "source": [
    "## Plot seasonal temperature"
   ]
  },
  {
   "cell_type": "code",
   "execution_count": null,
   "id": "c261066a-f6bf-434c-a676-dd448a567bf8",
   "metadata": {},
   "outputs": [],
   "source": [
    "facet_albedo = plot_maps(ds_temperature_season_maps[\"t2m\"], cmap=\"YlOrRd\")\n",
    "facet_albedo_zoom = plot_maps(\n",
    "    ds_temperature_season_maps[\"t2m\"],\n",
    "    lon_slice=lon_slice,\n",
    "    lat_slice=lat_slice,\n",
    "    cmap=\"YlOrRd\",\n",
    ")"
   ]
  }
 ],
 "metadata": {
  "kernelspec": {
   "display_name": "Python 3 (ipykernel)",
   "language": "python",
   "name": "python3"
  },
  "language_info": {
   "codemirror_mode": {
    "name": "ipython",
    "version": 3
   },
   "file_extension": ".py",
   "mimetype": "text/x-python",
   "name": "python",
   "nbconvert_exporter": "python",
   "pygments_lexer": "ipython3",
   "version": "3.11.7"
  }
 },
 "nbformat": 4,
 "nbformat_minor": 5
}
