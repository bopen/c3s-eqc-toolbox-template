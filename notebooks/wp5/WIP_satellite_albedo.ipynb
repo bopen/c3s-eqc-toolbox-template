{
 "cells": [
  {
   "cell_type": "markdown",
   "id": "8c818bd0",
   "metadata": {},
   "source": [
    "# Satellite albedo"
   ]
  },
  {
   "cell_type": "markdown",
   "id": "5efc9651",
   "metadata": {},
   "source": [
    "## Import packages"
   ]
  },
  {
   "cell_type": "code",
   "execution_count": null,
   "id": "cdf8c7af-4656-4d5f-a179-e9acefed5920",
   "metadata": {},
   "outputs": [],
   "source": [
    "import matplotlib.colors as mcolors\n",
    "import matplotlib.pyplot as plt\n",
    "import xarray as xr\n",
    "from c3s_eqc_automatic_quality_control import diagnostics, download, plot, utils"
   ]
  },
  {
   "cell_type": "markdown",
   "id": "03541fb7",
   "metadata": {},
   "source": [
    "## Define Parameters"
   ]
  },
  {
   "cell_type": "code",
   "execution_count": null,
   "id": "932d4916-68c1-4976-b9db-32932edd46e1",
   "metadata": {},
   "outputs": [],
   "source": [
    "year_start = 2014\n",
    "year_stop = 2015\n",
    "\n",
    "area = [15, 75, 10, 80]\n",
    "subset = [13.2, 77.4, 12.8, 77.8]"
   ]
  },
  {
   "cell_type": "markdown",
   "id": "b0340193",
   "metadata": {},
   "source": [
    "## Define requests"
   ]
  },
  {
   "cell_type": "code",
   "execution_count": null,
   "id": "e55f5948-0030-49a1-9776-527ea8e32fd2",
   "metadata": {},
   "outputs": [],
   "source": [
    "# Albedo\n",
    "collection_id_albedo = \"satellite-albedo\"\n",
    "request_albedo = {\n",
    "    \"format\": \"zip\",\n",
    "    \"variable\": \"albb_bh\",\n",
    "    \"satellite\": \"proba\",\n",
    "    \"sensor\": \"vgt\",\n",
    "    \"product_version\": \"v2\",\n",
    "    \"horizontal_resolution\": \"1km\",\n",
    "    \"year\": [str(year) for year in range(year_start, year_stop + 1)],\n",
    "    \"month\": [f\"{month:02d}\" for month in range(1, 13)],\n",
    "    \"nominal_day\": \"10\",\n",
    "    \"area\": area,\n",
    "}\n",
    "\n",
    "# 2m temperature\n",
    "collection_id_t2m = \"reanalysis-era5-land-monthly-means\"\n",
    "request_t2m = {\n",
    "    \"format\": \"grib\",\n",
    "    \"product_type\": \"monthly_averaged_reanalysis\",\n",
    "    \"variable\": \"2m_temperature\",\n",
    "    \"time\": \"00:00\",\n",
    "    \"year\": [str(year) for year in range(year_start, year_stop + 1)],\n",
    "    \"month\": [f\"{month:02d}\" for month in range(1, 13)],\n",
    "    \"area\": subset,\n",
    "}"
   ]
  },
  {
   "cell_type": "markdown",
   "id": "4ff62b50",
   "metadata": {},
   "source": [
    "## Download and transform data"
   ]
  },
  {
   "cell_type": "code",
   "execution_count": null,
   "id": "4d694b3b-8485-48a2-9d14-dabeb51311cb",
   "metadata": {},
   "outputs": [],
   "source": [
    "# Albedo maps\n",
    "ds_albedo_maps = download.download_and_transform(\n",
    "    collection_id_albedo,\n",
    "    request_albedo,\n",
    "    transform_func=diagnostics.time_weighted_mean,\n",
    "    transform_chunks=False,\n",
    "    split_all=True,\n",
    "    drop_variables=[\"crs\"],\n",
    ")\n",
    "\n",
    "# Albedo timeseries\n",
    "ds_albedo_timeseries = download.download_and_transform(\n",
    "    collection_id_albedo,\n",
    "    request_albedo,\n",
    "    transform_func=diagnostics.spatial_weighted_std,\n",
    "    split_all=True,\n",
    "    drop_variables=[\"crs\"],\n",
    ")\n",
    "\n",
    "# 2m temperature maps\n",
    "ds_t2m_maps = download.download_and_transform(\n",
    "    collection_id_t2m,\n",
    "    request_t2m,\n",
    "    transform_func=diagnostics.time_weighted_mean,\n",
    "    transform_chunks=False,\n",
    "    chunks={\"year\": 1},\n",
    ")\n",
    "with xr.set_options(keep_attrs=True):\n",
    "    ds_t2m_maps[\"t2m\"] -= 273.15\n",
    "ds_t2m_maps[\"t2m\"].attrs[\"units\"] = \"°C\""
   ]
  },
  {
   "cell_type": "markdown",
   "id": "5e361413",
   "metadata": {},
   "source": [
    "## Plot albedo maps"
   ]
  },
  {
   "cell_type": "code",
   "execution_count": null,
   "id": "047019a8-728c-43f9-b29e-771940da9ffe",
   "metadata": {},
   "outputs": [],
   "source": [
    "da_albedo = ds_albedo_maps[\"AL_BH_BB\"]\n",
    "colors = [\"blue\", \"skyblue\", \"cyan\", \"lightgreen\", \"yellow\", \"orange\", \"red\", \"maroon\"]\n",
    "custom_cmap = mcolors.LinearSegmentedColormap.from_list(\"CustomColorMap\", colors)\n",
    "\n",
    "plot.projected_map(da_albedo, cmap=custom_cmap)\n",
    "plt.show()\n",
    "\n",
    "lon_slice = slice(subset[1], subset[3])\n",
    "lat_slice = slice(subset[2], subset[0])\n",
    "da_albedo_subset = utils.regionalise(\n",
    "    da_albedo, lon_slice=lon_slice, lat_slice=lat_slice\n",
    ")\n",
    "_ = plot.projected_map(da_albedo_subset, cmap=custom_cmap)"
   ]
  },
  {
   "cell_type": "markdown",
   "id": "32172319",
   "metadata": {},
   "source": [
    "## Plot albedo timeseries"
   ]
  },
  {
   "cell_type": "code",
   "execution_count": null,
   "id": "68e3c909-ca76-409e-a63c-e51564fe2386",
   "metadata": {},
   "outputs": [],
   "source": [
    "ds_albedo_timeseries[\"AL_BH_BB\"].plot(marker=\"o\", linestyle=\"-\", color=\"b\")\n",
    "plt.grid()"
   ]
  },
  {
   "cell_type": "markdown",
   "id": "bd509726",
   "metadata": {},
   "source": [
    "## Plot 2m temperature maps"
   ]
  },
  {
   "cell_type": "code",
   "execution_count": null,
   "id": "5e096e0f-1a4e-4529-8db6-6c0cf4a5fb00",
   "metadata": {},
   "outputs": [],
   "source": [
    "da_t2m = ds_t2m_maps[\"t2m\"]\n",
    "plot.projected_map(da_t2m, cmap=\"YlOrRd\")\n",
    "plt.title(\"original\")\n",
    "plt.show()\n",
    "\n",
    "da_t2m_regrid = diagnostics.regrid(\n",
    "    da_t2m, grid_out=da_albedo_subset, method=\"nearest_s2d\"\n",
    ")\n",
    "plot.projected_map(da_t2m_regrid, cmap=\"YlOrRd\")\n",
    "_ = plt.title(\"regridded\")"
   ]
  }
 ],
 "metadata": {
  "kernelspec": {
   "display_name": "Python 3 (ipykernel)",
   "language": "python",
   "name": "python3"
  },
  "language_info": {
   "codemirror_mode": {
    "name": "ipython",
    "version": 3
   },
   "file_extension": ".py",
   "mimetype": "text/x-python",
   "name": "python",
   "nbconvert_exporter": "python",
   "pygments_lexer": "ipython3",
   "version": "3.10.12"
  }
 },
 "nbformat": 4,
 "nbformat_minor": 5
}
