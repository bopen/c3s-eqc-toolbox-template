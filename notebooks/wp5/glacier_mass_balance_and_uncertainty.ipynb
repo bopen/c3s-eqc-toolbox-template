{
 "cells": [
  {
   "cell_type": "markdown",
   "id": "8d1591ee",
   "metadata": {},
   "source": [
    "# A study on the global cumulative mass balance of all glaciers and its uncertainty in the dataset."
   ]
  },
  {
   "cell_type": "markdown",
   "id": "d175a98f",
   "metadata": {},
   "source": [
    "## Import packages"
   ]
  },
  {
   "cell_type": "code",
   "execution_count": null,
   "id": "33a8b6be-2af9-49f7-ad8b-858d7a31f03d",
   "metadata": {},
   "outputs": [],
   "source": [
    "import fsspec\n",
    "import geopandas as gpd\n",
    "import matplotlib.pyplot as plt\n",
    "from c3s_eqc_automatic_quality_control import download\n",
    "\n",
    "plt.style.use(\"seaborn-v0_8-notebook\")"
   ]
  },
  {
   "cell_type": "markdown",
   "id": "df150af3",
   "metadata": {},
   "source": [
    "## Define Parameters"
   ]
  },
  {
   "cell_type": "code",
   "execution_count": null,
   "id": "2eb1d470-b943-4c13-b5c8-0160b2a83d73",
   "metadata": {},
   "outputs": [],
   "source": [
    "# Time period\n",
    "year_start = 1975\n",
    "year_stop = 2020\n",
    "\n",
    "# Shapefile with countries\n",
    "shapefile_url = \"https://www.naturalearthdata.com/http//www.naturalearthdata.com/download/110m/cultural/ne_110m_admin_0_countries.zip\""
   ]
  },
  {
   "cell_type": "markdown",
   "id": "ab0dcd64",
   "metadata": {},
   "source": [
    "## Define request"
   ]
  },
  {
   "cell_type": "code",
   "execution_count": null,
   "id": "f7e7847c-0896-43ab-8160-9757949fd33d",
   "metadata": {},
   "outputs": [],
   "source": [
    "collection_id = \"derived-gridded-glacier-mass-change\"\n",
    "request = {\n",
    "    \"variable\": \"glacier_mass_change\",\n",
    "    \"product_version\": \"wgms_fog_2022_09\",\n",
    "    \"format\": \"zip\",\n",
    "    \"hydrological_year\": [\n",
    "        f\"{year}_{str(year + 1)[-2:] if year + 1 != 2000 else str(year + 1)[:2]}\"\n",
    "        for year in range(year_start, year_stop + 1)\n",
    "    ],\n",
    "}"
   ]
  },
  {
   "cell_type": "markdown",
   "id": "725d6e7c",
   "metadata": {},
   "source": [
    "## Download data"
   ]
  },
  {
   "cell_type": "code",
   "execution_count": null,
   "id": "8ce761ab-4b95-4878-aff5-f71e5db10586",
   "metadata": {},
   "outputs": [],
   "source": [
    "ds = download.download_and_transform(\n",
    "    collection_id, request, chunks={\"hydrological_year\": 1}\n",
    ")\n",
    "# Customize some attributes\n",
    "ds[\"time\"].attrs |= {\"long_name\": \"Time\", \"units\": \"yr\"}\n",
    "ds[\"Glacier\"].attrs[\"long_name\"] = \"Mass change\"\n",
    "ds[\"Uncertainty\"].attrs[\"long_name\"] = \"Mass change error\""
   ]
  },
  {
   "cell_type": "markdown",
   "id": "3354451d",
   "metadata": {},
   "source": [
    "## Compute maps and timeseries"
   ]
  },
  {
   "cell_type": "code",
   "execution_count": null,
   "id": "c5c71945-b743-43da-a29a-04d1962a12af",
   "metadata": {},
   "outputs": [],
   "source": [
    "# Maps\n",
    "mask = ds.notnull().any(\"time\")\n",
    "ds_maps = ds.sum(\"time\").where(mask)\n",
    "df_maps = ds_maps.stack(latlon=(\"latitude\", \"longitude\")).dropna(\"latlon\").to_pandas()\n",
    "gdf_maps = gpd.GeoDataFrame(\n",
    "    df_maps,\n",
    "    geometry=gpd.points_from_xy(df_maps[\"longitude\"], df_maps[\"latitude\"]),\n",
    "    crs=\"EPSG:4326\",\n",
    ")\n",
    "\n",
    "# Timeseries\n",
    "ds_timeseries = ds.sum((\"latitude\", \"longitude\"), keep_attrs=True).compute()\n",
    "for da in ds_timeseries.values():\n",
    "    da.attrs[\"units\"] += \" yr$^{-1}$\""
   ]
  },
  {
   "cell_type": "markdown",
   "id": "c8a49571",
   "metadata": {},
   "source": [
    "## Plot maps"
   ]
  },
  {
   "cell_type": "code",
   "execution_count": null,
   "id": "fe546ad1-46db-43a2-8029-6683697f07d7",
   "metadata": {},
   "outputs": [],
   "source": [
    "legend_kwds = {\"shrink\": 0.49, \"extend\": \"both\"}\n",
    "column_kwargs = {\n",
    "    \"Glacier\": {\n",
    "        \"cmap\": \"coolwarm_r\",\n",
    "        \"vmin\": -5,\n",
    "        \"vmax\": 5,\n",
    "        \"legend_kwds\": legend_kwds\n",
    "        | {\n",
    "            \"label\": \"Cumulative mass change (Gt)\",\n",
    "        },\n",
    "    },\n",
    "    \"Uncertainty\": {\n",
    "        \"cmap\": \"coolwarm\",\n",
    "        \"vmin\": 0,\n",
    "        \"vmax\": 5,\n",
    "        \"legend_kwds\": legend_kwds\n",
    "        | {\n",
    "            \"label\": \"Total mass change error (Gt)\",\n",
    "        },\n",
    "    },\n",
    "}\n",
    "for var_name, kwargs in column_kwargs.items():\n",
    "    with fsspec.open(f\"simplecache::{shapefile_url}\") as f:\n",
    "        gdf_countries = gpd.read_file(f)\n",
    "    ax = gdf_countries.boundary.plot(\n",
    "        figsize=(20, 16), facecolor=\"none\", edgecolor=\"black\", linewidth=0.25\n",
    "    )\n",
    "    gdf_maps.plot(\n",
    "        ax=ax, c=var_name, markersize=5, column=var_name, legend=True, **kwargs\n",
    "    )\n",
    "    ax.axis(\"off\")\n",
    "    if var_name == \"Glacier\":\n",
    "        title = \"Figure 1. Cumulative glacier mass change\"\n",
    "    elif var_name == \"Uncertainty\":\n",
    "        title = \"Figure 2. Sum of glacier mass change error\"\n",
    "    ax.set_title(title, fontsize=25)\n",
    "    plt.show()"
   ]
  },
  {
   "cell_type": "markdown",
   "id": "710f67e4",
   "metadata": {},
   "source": [
    "## Plot timeseries"
   ]
  },
  {
   "cell_type": "code",
   "execution_count": null,
   "id": "96a4f1d2-ea4a-4cc2-be39-58a712810c9f",
   "metadata": {},
   "outputs": [],
   "source": [
    "fig, axs = plt.subplots(2, 1, layout=\"constrained\")\n",
    "for ax, da in zip(axs, ds_timeseries.values()):\n",
    "    da.plot(ax=ax)\n",
    "    ax.grid()\n",
    "    ax.set_title(\"Glacier \" + da.attrs[\"long_name\"])\n",
    "_ = fig.suptitle(\"Figure 3. Total annual glacier mass changes and its uncertainties.\")"
   ]
  },
  {
   "cell_type": "markdown",
   "id": "523ac7bf",
   "metadata": {},
   "source": [
    "## Plot timeseries on top of errors"
   ]
  },
  {
   "cell_type": "code",
   "execution_count": null,
   "id": "b8fc24b4-44ae-4943-953d-f6ed5d6234a2",
   "metadata": {},
   "outputs": [],
   "source": [
    "fig, ax = plt.subplots()\n",
    "line = ds_timeseries[\"Glacier\"]\n",
    "error = ds_timeseries[\"Uncertainty\"] / 2\n",
    "ax.fill_between(line[\"time\"], line - error, line + error, alpha=0.5)\n",
    "line.plot(ax=ax, color=\"k\")\n",
    "ax.grid()\n",
    "_ = ax.set_title(\"Glacier mass change and its uncertainty\")\n",
    "_ = fig.suptitle(\"Figure 4. Total annual glacier mass changes and its uncertainty.\")"
   ]
  }
 ],
 "metadata": {
  "kernelspec": {
   "display_name": "Python 3 (ipykernel)",
   "language": "python",
   "name": "python3"
  },
  "language_info": {
   "codemirror_mode": {
    "name": "ipython",
    "version": 3
   },
   "file_extension": ".py",
   "mimetype": "text/x-python",
   "name": "python",
   "nbconvert_exporter": "python",
   "pygments_lexer": "ipython3",
   "version": "3.10.13"
  }
 },
 "nbformat": 4,
 "nbformat_minor": 5
}
