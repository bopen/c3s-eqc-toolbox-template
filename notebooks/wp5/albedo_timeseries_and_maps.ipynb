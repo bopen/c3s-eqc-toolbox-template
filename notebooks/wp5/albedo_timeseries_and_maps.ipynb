{
 "cells": [
  {
   "cell_type": "markdown",
   "id": "0",
   "metadata": {},
   "source": [
    "# Albedo timeseries and maps"
   ]
  },
  {
   "cell_type": "markdown",
   "id": "1",
   "metadata": {},
   "source": [
    "## Import packages"
   ]
  },
  {
   "cell_type": "code",
   "execution_count": null,
   "id": "2",
   "metadata": {},
   "outputs": [],
   "source": [
    "import matplotlib.pyplot as plt\n",
    "import xarray as xr\n",
    "from c3s_eqc_automatic_quality_control import diagnostics, download\n",
    "\n",
    "plt.style.use(\"seaborn-v0_8-notebook\")"
   ]
  },
  {
   "cell_type": "markdown",
   "id": "3",
   "metadata": {},
   "source": [
    "## Define Request"
   ]
  },
  {
   "cell_type": "code",
   "execution_count": null,
   "id": "4",
   "metadata": {},
   "outputs": [],
   "source": [
    "collection_id = \"satellite-albedo\"\n",
    "chunks = {\"year\": 1}\n",
    "\n",
    "common_request = {\n",
    "    \"format\": \"zip\",\n",
    "    \"variable\": \"albb_bh\",\n",
    "    \"product_version\": \"v2\",\n",
    "    \"month\": [f\"{month:02d}\" for month in range(1, 13)],\n",
    "    \"nominal_day\": \"10\",\n",
    "    \"area\": [46.91, 50.75, 46.81, 50.85],\n",
    "}\n",
    "requests = {\n",
    "    \"noaa_11\": {\n",
    "        \"year\": [str(year) for year in range(1990, 1995)],\n",
    "        \"horizontal_resolution\": \"4km\",\n",
    "        \"sensor\": \"avhrr\",\n",
    "    },\n",
    "    \"noaa_14\": {\n",
    "        \"year\": [str(year) for year in range(1995, 2002)],\n",
    "        \"horizontal_resolution\": \"4km\",\n",
    "        \"sensor\": \"avhrr\",\n",
    "    },\n",
    "    \"noaa_17\": {\n",
    "        \"year\": [str(year) for year in range(2002, 2006)],\n",
    "        \"horizontal_resolution\": \"4km\",\n",
    "        \"sensor\": \"avhrr\",\n",
    "    },\n",
    "    \"spot\": {\n",
    "        \"year\": [str(year) for year in range(2006, 2014)],\n",
    "        \"horizontal_resolution\": \"1km\",\n",
    "        \"sensor\": \"vgt\",\n",
    "    },\n",
    "    \"proba\": {\n",
    "        \"year\": [str(year) for year in range(2014, 2021)],\n",
    "        \"horizontal_resolution\": \"1km\",\n",
    "        \"sensor\": \"vgt\",\n",
    "    },\n",
    "}"
   ]
  },
  {
   "cell_type": "markdown",
   "id": "5",
   "metadata": {},
   "source": [
    "## Download and transform"
   ]
  },
  {
   "cell_type": "code",
   "execution_count": null,
   "id": "6",
   "metadata": {},
   "outputs": [],
   "source": [
    "maps = {}\n",
    "timeseries = []\n",
    "for satellite, request in requests.items():\n",
    "    print(f\"{satellite=}\")\n",
    "\n",
    "    maps[satellite] = download.download_and_transform(\n",
    "        collection_id,\n",
    "        common_request | request | {\"satellite\": satellite},\n",
    "        chunks=chunks,\n",
    "        transform_chunks=False,\n",
    "        transform_func=diagnostics.time_weighted_mean,\n",
    "        drop_variables=[\"crs\"],\n",
    "    )\n",
    "\n",
    "    ds = download.download_and_transform(\n",
    "        collection_id,\n",
    "        common_request | request | {\"satellite\": satellite},\n",
    "        chunks=chunks,\n",
    "        transform_func=diagnostics.spatial_weighted_mean,\n",
    "        drop_variables=[\"crs\"],\n",
    "    )\n",
    "    timeseries.append(ds)\n",
    "\n",
    "ds_timeseries = xr.concat(timeseries, \"time\")"
   ]
  },
  {
   "cell_type": "markdown",
   "id": "7",
   "metadata": {},
   "source": [
    "## Plot timeseries"
   ]
  },
  {
   "cell_type": "code",
   "execution_count": null,
   "id": "8",
   "metadata": {},
   "outputs": [],
   "source": [
    "ds_timeseries[\"AL_BH_BB\"].plot()\n",
    "plt.grid()"
   ]
  }
 ],
 "metadata": {
  "kernelspec": {
   "display_name": "Python 3 (ipykernel)",
   "language": "python",
   "name": "python3"
  },
  "language_info": {
   "codemirror_mode": {
    "name": "ipython",
    "version": 3
   },
   "file_extension": ".py",
   "mimetype": "text/x-python",
   "name": "python",
   "nbconvert_exporter": "python",
   "pygments_lexer": "ipython3",
   "version": "3.11.7"
  }
 },
 "nbformat": 4,
 "nbformat_minor": 5
}
