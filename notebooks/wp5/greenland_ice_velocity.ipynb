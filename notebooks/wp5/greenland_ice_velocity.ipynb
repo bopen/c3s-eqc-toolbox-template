{
 "cells": [
  {
   "cell_type": "markdown",
   "id": "0",
   "metadata": {},
   "source": [
    "# A study on the spatial variability of the uncertainty and fitness-for-purpose of the GrIS ice velocity product."
   ]
  },
  {
   "cell_type": "markdown",
   "id": "1",
   "metadata": {},
   "source": [
    "## Import packages"
   ]
  },
  {
   "cell_type": "code",
   "execution_count": null,
   "id": "2",
   "metadata": {},
   "outputs": [],
   "source": [
    "import matplotlib.colors\n",
    "import matplotlib.pyplot as plt\n",
    "import xarray as xr\n",
    "from c3s_eqc_automatic_quality_control import download\n",
    "\n",
    "plt.style.use(\"seaborn-v0_8-notebook\")"
   ]
  },
  {
   "cell_type": "markdown",
   "id": "3",
   "metadata": {},
   "source": [
    "## Define Parameters"
   ]
  },
  {
   "cell_type": "code",
   "execution_count": null,
   "id": "4",
   "metadata": {},
   "outputs": [],
   "source": [
    "period_start = \"2017_2018\"\n",
    "period_stop = \"2019_2020\"\n",
    "assert all(\"_\" in period and len(period) == 9 for period in (period_start, period_stop))"
   ]
  },
  {
   "cell_type": "markdown",
   "id": "5",
   "metadata": {},
   "source": [
    "## Define request"
   ]
  },
  {
   "cell_type": "code",
   "execution_count": null,
   "id": "6",
   "metadata": {},
   "outputs": [],
   "source": [
    "y0_start, y1_start = map(int, period_start.split(\"_\"))\n",
    "y0_stop, y1_stop = map(int, period_stop.split(\"_\"))\n",
    "collection_id = \"satellite-greenland-ice-sheet-velocity\"\n",
    "request = {\n",
    "    \"variable\": \"all\",\n",
    "    \"format\": \"zip\",\n",
    "    \"version\": \"1.3\",\n",
    "    \"period\": [\n",
    "        f\"{y0}_{y1}\"\n",
    "        for y0, y1 in zip(range(y0_start, y0_stop + 1), range(y1_start, y1_stop + 1))\n",
    "    ],\n",
    "}"
   ]
  },
  {
   "cell_type": "markdown",
   "id": "7",
   "metadata": {},
   "source": [
    "## Function to cache"
   ]
  },
  {
   "cell_type": "code",
   "execution_count": null,
   "id": "8",
   "metadata": {},
   "outputs": [],
   "source": [
    "def mask_high_vel_and_compute_std(ds):\n",
    "    ds = ds.chunk(y=1351, x=748)\n",
    "\n",
    "    # Mask out velocities > 1.E3 m/day\n",
    "    name = \"land_ice_surface_velocity_magnitude\"\n",
    "    ds[name] = ds[name].where(ds[name] <= 1_000)\n",
    "\n",
    "    # Add std\n",
    "    std = (\n",
    "        ds[\"land_ice_surface_easting_stddev\"] ** 2\n",
    "        + ds[\"land_ice_surface_northing_stddev\"] ** 2\n",
    "    ) ** (1 / 2)\n",
    "    std.attrs = {\n",
    "        \"long_name\": \"Velocity standard deviation\",\n",
    "        \"units\": ds[name].attrs[\"units\"],\n",
    "    }\n",
    "    ds[\"land_ice_surface_stddev\"] = std\n",
    "\n",
    "    # Preserve chunksizes\n",
    "    ds = ds[\n",
    "        [\n",
    "            \"land_ice_surface_velocity_magnitude\",\n",
    "            \"land_ice_surface_measurement_count\",\n",
    "            \"land_ice_surface_stddev\",\n",
    "        ]\n",
    "    ]\n",
    "    for da in ds.data_vars.values():\n",
    "        da.encoding[\"chunksizes\"] = tuple(map(max, da.chunks))\n",
    "    return ds"
   ]
  },
  {
   "cell_type": "markdown",
   "id": "9",
   "metadata": {},
   "source": [
    "## Download and transform"
   ]
  },
  {
   "cell_type": "code",
   "execution_count": null,
   "id": "10",
   "metadata": {},
   "outputs": [],
   "source": [
    "datasets = []\n",
    "for period in request[\"period\"]:\n",
    "    ds = download.download_and_transform(\n",
    "        collection_id,\n",
    "        request | {\"period\": period},\n",
    "    )\n",
    "    datasets.append(\n",
    "        ds.squeeze(\"source\", drop=True).expand_dims(period=[period.replace(\"_\", \"-\")])\n",
    "    )\n",
    "ds = xr.concat(datasets, \"period\")\n",
    "ds = ds.chunk(y=1351, x=748)\n",
    "\n",
    "# Add attributes\n",
    "for name, da in ds.data_vars.items():\n",
    "    if name == \"land_ice_surface_measurement_count\":\n",
    "        da.attrs[\"units\"] = \"pixels\"\n",
    "    if \"long_name\" not in da.attrs:\n",
    "        da.attrs[\"long_name\"] = da.attrs.get(\"description\", name.replace(\"_\", \" \"))"
   ]
  },
  {
   "cell_type": "markdown",
   "id": "11",
   "metadata": {},
   "source": [
    "## Plotting function"
   ]
  },
  {
   "cell_type": "code",
   "execution_count": null,
   "id": "12",
   "metadata": {},
   "outputs": [],
   "source": [
    "def plot_maps_and_print_stats(da, suptitle=None, **kwargs):\n",
    "    print(f\"Mean {da.attrs['long_name']} [{da.attrs['units']}]\")\n",
    "    print(da.mean((\"x\", \"y\")).to_pandas())\n",
    "\n",
    "    kwargs.setdefault(\"cmap\", \"rainbow\")\n",
    "    kwargs.setdefault(\"col\", \"period\" if \"period\" in da.dims else None)\n",
    "    if kwargs[\"col\"]:\n",
    "        kwargs.setdefault(\"subplot_kws\", {})\n",
    "        kwargs[\"subplot_kws\"].setdefault(\"aspect\", \"equal\")\n",
    "    plot_obj = da.plot.imshow(**kwargs)\n",
    "    if kwargs[\"col\"]:\n",
    "        for ax in plot_obj.axs.flatten():\n",
    "            ax.axis(\"off\")\n",
    "    else:\n",
    "        plt.axis(\"equal\")\n",
    "        plt.axis(\"off\")\n",
    "    if suptitle:\n",
    "        plt.suptitle(suptitle, y=0, va=\"top\")\n",
    "    return plot_obj"
   ]
  },
  {
   "cell_type": "markdown",
   "id": "13",
   "metadata": {},
   "source": [
    "## Plot velocity"
   ]
  },
  {
   "cell_type": "code",
   "execution_count": null,
   "id": "14",
   "metadata": {},
   "outputs": [],
   "source": [
    "da = ds[\"land_ice_surface_velocity_magnitude\"]\n",
    "_ = plot_maps_and_print_stats(\n",
    "    da,\n",
    "    norm=matplotlib.colors.LogNorm(),\n",
    "    vmin=1e-3,\n",
    "    vmax=20,\n",
    "    suptitle=\"Annually averaged horizontal surface velocity magnitude of the Greenland Ice Sheet.\",\n",
    ")"
   ]
  },
  {
   "cell_type": "markdown",
   "id": "15",
   "metadata": {},
   "source": [
    "## Plot zoom"
   ]
  },
  {
   "cell_type": "code",
   "execution_count": null,
   "id": "16",
   "metadata": {},
   "outputs": [],
   "source": [
    "da = ds[\"land_ice_surface_velocity_magnitude\"].isel(\n",
    "    period=0, x=slice(1600, 3800), y=slice(2000, 3400)\n",
    ")\n",
    "_ = plot_maps_and_print_stats(\n",
    "    da,\n",
    "    norm=matplotlib.colors.LogNorm(),\n",
    "    vmin=1e-3,\n",
    "    vmax=1,\n",
    "    suptitle=f\"Zoom onto the velocity field of the interior of the ice sheet ({da['period'].values}).\",\n",
    ")"
   ]
  },
  {
   "cell_type": "markdown",
   "id": "17",
   "metadata": {},
   "source": [
    "## Plot pixel count"
   ]
  },
  {
   "cell_type": "code",
   "execution_count": null,
   "id": "18",
   "metadata": {},
   "outputs": [],
   "source": [
    "da = ds[\"land_ice_surface_measurement_count\"]\n",
    "_ = plot_maps_and_print_stats(\n",
    "    da,\n",
    "    suptitle=\"Valid pixel count maps for the ice velocity of the Greenland Ice Sheet.\",\n",
    ")"
   ]
  },
  {
   "cell_type": "markdown",
   "id": "19",
   "metadata": {},
   "source": [
    "## Plot velocity standard deviation"
   ]
  },
  {
   "cell_type": "code",
   "execution_count": null,
   "id": "20",
   "metadata": {},
   "outputs": [],
   "source": [
    "da = ds[\"land_ice_surface_stddev\"]\n",
    "_ = plot_maps_and_print_stats(\n",
    "    da,\n",
    "    norm=matplotlib.colors.LogNorm(),\n",
    "    vmin=1e-3,\n",
    "    vmax=1e-1,\n",
    "    suptitle=\"Horizontal velocity standard deviation of the Greenland Ice Sheet.\",\n",
    ")"
   ]
  },
  {
   "cell_type": "markdown",
   "id": "21",
   "metadata": {},
   "source": [
    "## Velocity standard deviation VS magnitude"
   ]
  },
  {
   "cell_type": "code",
   "execution_count": null,
   "id": "22",
   "metadata": {},
   "outputs": [],
   "source": [
    "ds_to_plot = ds.isel(period=-1)\n",
    "\n",
    "names = [\"land_ice_surface_stddev\", \"land_ice_surface_velocity_magnitude\"]\n",
    "ds_to_plot = ds_to_plot[names].stack(xy=(\"x\", \"y\"))\n",
    "mask = ds_to_plot[names[-1]].notnull()\n",
    "\n",
    "fig, ax = plt.subplots()\n",
    "ax.plot(\n",
    "    *ds_to_plot.where(mask.compute(), drop=True).data_vars.values(),\n",
    "    linestyle=\"none\",\n",
    "    marker=\"o\",\n",
    "    markersize=5,\n",
    ")\n",
    "for axis, name in zip((\"x\", \"y\"), names):\n",
    "    da = ds[name]\n",
    "    label = f\"{da.attrs['long_name']} [{da.attrs['units']}]\"\n",
    "    getattr(ax, f\"set_{axis}label\")(label)\n",
    "    getattr(ax, f\"set_{axis}scale\")(\"log\")\n",
    "ax.grid()\n",
    "ax.set_title(\"Velocity standard deviation vs. velocity magnitude\")\n",
    "_ = fig.suptitle(\n",
    "    f\"Scatter plot of the velocity standard deviation vs. magnitude ({ds_to_plot['period'].values}).\",\n",
    "    y=0,\n",
    "    va=\"top\",\n",
    ")"
   ]
  }
 ],
 "metadata": {
  "kernelspec": {
   "display_name": "Python 3",
   "language": "python",
   "name": "python3"
  },
  "language_info": {
   "codemirror_mode": {
    "name": "ipython",
    "version": 3
   },
   "file_extension": ".py",
   "mimetype": "text/x-python",
   "name": "python",
   "nbconvert_exporter": "python",
   "pygments_lexer": "ipython3",
   "version": "3.11.9"
  }
 },
 "nbformat": 4,
 "nbformat_minor": 5
}
