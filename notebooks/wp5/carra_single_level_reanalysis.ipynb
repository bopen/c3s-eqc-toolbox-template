{
 "cells": [
  {
   "cell_type": "markdown",
   "id": "99c44161",
   "metadata": {},
   "source": [
    "# CARRA Single Level Reanalysis"
   ]
  },
  {
   "cell_type": "markdown",
   "id": "ed6fd3a0",
   "metadata": {},
   "source": [
    "## Import packages"
   ]
  },
  {
   "cell_type": "code",
   "execution_count": null,
   "id": "3a8ceec0",
   "metadata": {},
   "outputs": [],
   "source": [
    "import tempfile\n",
    "\n",
    "import cartopy.crs as ccrs\n",
    "import matplotlib.pyplot as plt\n",
    "import xarray as xr\n",
    "from c3s_eqc_automatic_quality_control import diagnostics, download, plot\n",
    "\n",
    "plt.style.use(\"seaborn-v0_8-notebook\")"
   ]
  },
  {
   "cell_type": "markdown",
   "id": "57cfc588",
   "metadata": {},
   "source": [
    "## Define Parameters"
   ]
  },
  {
   "cell_type": "code",
   "execution_count": null,
   "id": "87b6a68d-1d37-4af2-8d4e-dbba0b56f2ee",
   "metadata": {},
   "outputs": [],
   "source": [
    "# Time\n",
    "start = \"2019-01\"\n",
    "stop = \"2020-12\"\n",
    "\n",
    "# Region\n",
    "domain = \"west_domain\"\n",
    "assert domain in (\"east_domain\", \"west_domain\")\n",
    "\n",
    "# Variable\n",
    "variable = \"2m_temperature\"\n",
    "assert variable in (\n",
    "    \"10m_u_component_of_wind\",\n",
    "    \"10m_v_component_of_wind\",\n",
    "    \"10m_wind_direction\",\n",
    "    \"10m_wind_speed\",\n",
    "    \"2m_relative_humidity\",\n",
    "    \"2m_specific_humidity\",\n",
    "    \"2m_temperature\",\n",
    "    \"albedo\",\n",
    "    \"cloud_base\",\n",
    "    \"cloud_top\",\n",
    "    \"fraction_of_snow_cover\",\n",
    "    \"high_cloud_cover\",\n",
    "    \"land_sea_mask\",\n",
    "    \"low_cloud_cover\",\n",
    "    \"mean_sea_level_pressure\",\n",
    "    \"medium_cloud_cover\",\n",
    "    \"orography\",\n",
    "    \"percolation\",\n",
    "    \"sea_ice_area_fraction\",\n",
    "    \"sea_ice_surface_temperature\",\n",
    "    \"sea_surface_temperature\",\n",
    "    \"skin_temperature\",\n",
    "    \"snow_albedo\",\n",
    "    \"snow_density\",\n",
    "    \"snow_depth_water_equivalent\",\n",
    "    \"snow_on_ice_total_depth\",\n",
    "    \"surface_pressure\",\n",
    "    \"surface_roughness\",\n",
    "    \"surface_roughness_length_for_heat\",\n",
    "    \"surface_runoff\",\n",
    "    \"total_cloud_cover\",\n",
    "    \"total_column_graupel\",\n",
    "    \"total_column_integrated_water_vapour\",\n",
    "    \"visibility\",\n",
    ")"
   ]
  },
  {
   "cell_type": "markdown",
   "id": "97c32c19",
   "metadata": {},
   "source": [
    "## Define Parameters"
   ]
  },
  {
   "cell_type": "code",
   "execution_count": null,
   "id": "ced4355c-e8ea-43a7-999a-b7a33f6d54b4",
   "metadata": {},
   "outputs": [],
   "source": [
    "collection_id = \"reanalysis-carra-single-levels\"\n",
    "request = {\n",
    "    \"domain\": domain,\n",
    "    \"level_type\": \"surface_or_atmosphere\",\n",
    "    \"variable\": variable,\n",
    "    \"product_type\": \"analysis\",\n",
    "    \"time\": \"12:00\",\n",
    "}\n",
    "requests = download.update_request_date(\n",
    "    request, start=start, stop=stop, stringify_dates=True\n",
    ")"
   ]
  },
  {
   "cell_type": "markdown",
   "id": "2828b43f",
   "metadata": {},
   "source": [
    "## Functions to cache"
   ]
  },
  {
   "cell_type": "code",
   "execution_count": null,
   "id": "2d8a89f9-bd3f-49c1-a76d-72cc28647dfd",
   "metadata": {},
   "outputs": [],
   "source": [
    "def get_da(ds):\n",
    "    (varname,) = ds.data_vars\n",
    "    return ds[varname]\n",
    "\n",
    "\n",
    "def rechunk(da, target_store):\n",
    "    da = da.chunk(\"auto\").unify_chunks()\n",
    "    da.to_zarr(target_store)\n",
    "    ds = xr.open_dataset(target_store, chunks=dict(da.chunksizes), engine=\"zarr\")\n",
    "    return ds.set_coords(da.coords)[da.name]\n",
    "\n",
    "\n",
    "def compute_time_mean_and_linear_trend(ds):\n",
    "    da = get_da(ds)\n",
    "    with tempfile.TemporaryDirectory() as tmpdir:\n",
    "        print(f\"{tmpdir=}\")\n",
    "        da = rechunk(da, f\"{tmpdir}/target.zarr\")\n",
    "        datarrays = []\n",
    "        for reduction in (\"mean\", \"linear_trend\"):\n",
    "            print(f\"{reduction=}\")\n",
    "            func = getattr(diagnostics, f\"time_weighted_{reduction}\")\n",
    "            datarrays.append(func(da, weights=False).rename(reduction))\n",
    "        return xr.merge(datarrays).compute()\n",
    "\n",
    "\n",
    "def compute_spatial_weighted_mean_and_std(ds):\n",
    "    da = get_da(ds)\n",
    "    datarrays = []\n",
    "    for reduction in (\"mean\", \"std\"):\n",
    "        func = getattr(diagnostics, f\"spatial_weighted_{reduction}\")\n",
    "        datarrays.append(func(da, weights=True).rename(reduction))\n",
    "    return xr.merge(datarrays)"
   ]
  },
  {
   "cell_type": "markdown",
   "id": "a79e5446",
   "metadata": {},
   "source": [
    "## Compute time reductions"
   ]
  },
  {
   "cell_type": "code",
   "execution_count": null,
   "id": "63c4b313-fc09-4d45-bba8-f7b7df6e7a53",
   "metadata": {},
   "outputs": [],
   "source": [
    "ds_maps = download.download_and_transform(\n",
    "    collection_id,\n",
    "    requests,\n",
    "    transform_func=compute_time_mean_and_linear_trend,\n",
    "    transform_chunks=False,\n",
    "    chunks={\"year\": 1, \"month\": 1},\n",
    ")"
   ]
  },
  {
   "cell_type": "markdown",
   "id": "1c24d40c",
   "metadata": {},
   "source": [
    "## Compute spatial weighted reductions"
   ]
  },
  {
   "cell_type": "code",
   "execution_count": null,
   "id": "a4b3a578-8bc4-4b0f-bf77-bc3c29d3263a",
   "metadata": {},
   "outputs": [],
   "source": [
    "ds_timeseries = download.download_and_transform(\n",
    "    collection_id,\n",
    "    requests,\n",
    "    transform_func=compute_spatial_weighted_mean_and_std,\n",
    "    chunks={\"year\": 1, \"month\": 1},\n",
    ")"
   ]
  },
  {
   "cell_type": "markdown",
   "id": "f6bdb460",
   "metadata": {},
   "source": [
    "## Plot maps"
   ]
  },
  {
   "cell_type": "code",
   "execution_count": null,
   "id": "32783d3f-cb40-4803-a1ca-1368a21dd63e",
   "metadata": {},
   "outputs": [],
   "source": [
    "projection = ccrs.LambertConformal(\n",
    "    central_longitude=ds_maps[\"longitude\"].mean().values,\n",
    "    central_latitude=ds_maps[\"latitude\"].mean().values,\n",
    ")\n",
    "for var, da in ds_maps.data_vars.items():\n",
    "    plot_obj = plot.projected_map(da, projection=projection)\n",
    "    for gl in plot_obj.axes._gridliners:\n",
    "        gl.x_inline = False\n",
    "        gl.xlabel_style = {\"rotation\": 0}\n",
    "    plt.title(f\"{collection_id.replace('-', ' ').title()}\\nFrom {start} to {stop}\")\n",
    "    plt.show()"
   ]
  },
  {
   "cell_type": "markdown",
   "id": "13ecf79d",
   "metadata": {},
   "source": [
    "## Plot timeseries"
   ]
  },
  {
   "cell_type": "code",
   "execution_count": null,
   "id": "a4d9d58f-e050-4dc4-a852-9dbf8bbc9ced",
   "metadata": {},
   "outputs": [],
   "source": [
    "fig, ax = plt.subplots()\n",
    "ds_timeseries[\"mean\"].plot(ax=ax, label=\"mean\")\n",
    "ax.fill_between(\n",
    "    ds_timeseries[\"time\"],\n",
    "    ds_timeseries[\"mean\"] - ds_timeseries[\"std\"],\n",
    "    ds_timeseries[\"mean\"] + ds_timeseries[\"std\"],\n",
    "    alpha=0.25,\n",
    "    label=\"mean ± std\",\n",
    ")\n",
    "ax.grid()\n",
    "ax.legend(loc=\"center left\", bbox_to_anchor=(1, 1))\n",
    "_ = ax.set_title(\n",
    "    f\"{collection_id}\\n{domain}\".replace(\"-\", \" \").replace(\"_\", \" \").title()\n",
    ")"
   ]
  }
 ],
 "metadata": {
  "kernelspec": {
   "display_name": "Python 3 (ipykernel)",
   "language": "python",
   "name": "python3"
  },
  "language_info": {
   "codemirror_mode": {
    "name": "ipython",
    "version": 3
   },
   "file_extension": ".py",
   "mimetype": "text/x-python",
   "name": "python",
   "nbconvert_exporter": "python",
   "pygments_lexer": "ipython3",
   "version": "3.10.12"
  }
 },
 "nbformat": 4,
 "nbformat_minor": 5
}
