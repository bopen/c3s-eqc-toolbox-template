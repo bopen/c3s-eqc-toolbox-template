{
 "cells": [
  {
   "cell_type": "markdown",
   "id": "0",
   "metadata": {},
   "source": [
    "# xch4 level 2 growth rates"
   ]
  },
  {
   "cell_type": "markdown",
   "id": "1",
   "metadata": {},
   "source": [
    "## Import libraries"
   ]
  },
  {
   "cell_type": "code",
   "execution_count": null,
   "id": "2",
   "metadata": {},
   "outputs": [],
   "source": [
    "import flox.xarray\n",
    "import matplotlib.pyplot as plt\n",
    "import numpy as np\n",
    "import pandas as pd\n",
    "from c3s_eqc_automatic_quality_control import diagnostics, download\n",
    "\n",
    "plt.style.use(\"seaborn-v0_8-notebook\")"
   ]
  },
  {
   "cell_type": "markdown",
   "id": "3",
   "metadata": {},
   "source": [
    "## Define parameters"
   ]
  },
  {
   "cell_type": "code",
   "execution_count": null,
   "id": "4",
   "metadata": {},
   "outputs": [],
   "source": [
    "year_start = 2004\n",
    "year_stop = 2022"
   ]
  },
  {
   "cell_type": "markdown",
   "id": "5",
   "metadata": {},
   "source": [
    "## Define request"
   ]
  },
  {
   "cell_type": "code",
   "execution_count": null,
   "id": "6",
   "metadata": {},
   "outputs": [],
   "source": [
    "collection_id = \"satellite-methane\"\n",
    "request = {\n",
    "    \"processing_level\": \"level_2\",\n",
    "    \"variable\": \"xch4\",\n",
    "    \"sensor_and_algorithm\": \"merged_emma\",\n",
    "    \"version\": \"4_5\",\n",
    "    \"year\": [str(year) for year in range(year_start, year_stop + 1)],\n",
    "    \"month\": [f\"{i:02d}\" for i in range(1, 13)],\n",
    "    \"day\": [f\"{i:02d}\" for i in range(1, 32)],\n",
    "}"
   ]
  },
  {
   "cell_type": "markdown",
   "id": "7",
   "metadata": {},
   "source": [
    "## Define functions to cache"
   ]
  },
  {
   "cell_type": "code",
   "execution_count": null,
   "id": "8",
   "metadata": {},
   "outputs": [],
   "source": [
    "def arithmetic_unweighted_average(ds, d_lon, d_lat, lon1):\n",
    "    if lon1 not in (180, 360):\n",
    "        raise ValueError(f\"lon1 must be 180 or 360. {lon1=}\")\n",
    "    lon0 = -180 if lon1 == 180 else 0\n",
    "\n",
    "    coords = {}\n",
    "    expected_groups = ()\n",
    "    for name, start, stop, step in zip(\n",
    "        [\"latitude\", \"longitude\"], [-90, lon0], [90, lon1], [d_lat, d_lon]\n",
    "    ):\n",
    "        coords[name] = np.arange(start + step / 2, stop + step / 2, step)\n",
    "        groups = np.arange(start, stop + step, step)\n",
    "        groups[0] -= step\n",
    "        expected_groups += (pd.IntervalIndex.from_breaks(groups),)\n",
    "\n",
    "    ds = flox.xarray.xarray_reduce(\n",
    "        ds, *coords, func=\"mean\", expected_groups=expected_groups, keep_attrs=True\n",
    "    )\n",
    "    ds = ds.rename({f\"{coord}_bins\": coord for coord in coords}).assign_coords(coords)\n",
    "    for coord in ds.coords:\n",
    "        ds[coord].attrs[\"standard_name\"] = coord\n",
    "    return ds\n",
    "\n",
    "\n",
    "def monthly_regrid(ds, d_lon, d_lat, lon1=180):\n",
    "    ds = ds.set_coords([\"longitude\", \"latitude\"])\n",
    "    ds_out = ds.resample(time=\"1MS\").map(\n",
    "        arithmetic_unweighted_average, d_lon=d_lon, d_lat=d_lat, lon1=lon1\n",
    "    )\n",
    "    return ds_out"
   ]
  },
  {
   "cell_type": "markdown",
   "id": "9",
   "metadata": {},
   "source": [
    "## Download and transform"
   ]
  },
  {
   "cell_type": "code",
   "execution_count": null,
   "id": "10",
   "metadata": {},
   "outputs": [],
   "source": [
    "ds = download.download_and_transform(\n",
    "    collection_id,\n",
    "    request,\n",
    "    chunks={\"year\": 1},\n",
    "    transform_func=monthly_regrid,\n",
    "    transform_func_kwargs={\"d_lon\": 1, \"d_lat\": 1, \"lon1\": 180},\n",
    ")"
   ]
  },
  {
   "cell_type": "markdown",
   "id": "11",
   "metadata": {},
   "source": [
    "## Compute growth rate"
   ]
  },
  {
   "cell_type": "code",
   "execution_count": null,
   "id": "12",
   "metadata": {},
   "outputs": [],
   "source": [
    "def compute_growth_rate(da):\n",
    "    da = da.groupby_bins(\n",
    "        \"latitude\",\n",
    "        bins=range(-90, 91, 20),\n",
    "    ).map(diagnostics.spatial_weighted_mean)\n",
    "    da = (\n",
    "        da.rolling(time=12, center=True)\n",
    "        .construct(\"window_dim\")\n",
    "        .isel(window_dim=[0, -1])\n",
    "        .diff(\"window_dim\")\n",
    "        .squeeze()\n",
    "    )\n",
    "    return da\n",
    "\n",
    "\n",
    "da = ds[\"xch4\"]\n",
    "da = compute_growth_rate(ds[\"xch4\"])\n",
    "da.attrs = {\"units\": \"ppm/year\", \"long_name\": \"Growth Rate\"}\n",
    "facet = da.plot(col=\"latitude_bins\", col_wrap=3)\n",
    "for ax in facet.axs.flatten():\n",
    "    ax.grid()\n",
    "    for label in ax.get_xticklabels():\n",
    "        label.set_rotation(90)"
   ]
  }
 ],
 "metadata": {
  "kernelspec": {
   "display_name": "Python 3 (ipykernel)",
   "language": "python",
   "name": "python3"
  },
  "language_info": {
   "codemirror_mode": {
    "name": "ipython",
    "version": 3
   },
   "file_extension": ".py",
   "mimetype": "text/x-python",
   "name": "python",
   "nbconvert_exporter": "python",
   "pygments_lexer": "ipython3",
   "version": "3.12.11"
  }
 },
 "nbformat": 4,
 "nbformat_minor": 5
}
