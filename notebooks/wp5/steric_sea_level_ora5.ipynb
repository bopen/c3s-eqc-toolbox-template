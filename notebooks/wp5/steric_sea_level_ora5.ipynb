{
 "cells": [
  {
   "cell_type": "markdown",
   "id": "0",
   "metadata": {},
   "source": [
    "# Steric Sea Level Contribution from ORAS5 Reanalysis to Global Sea Level Observed by Satellite Altimetry"
   ]
  },
  {
   "cell_type": "markdown",
   "id": "1",
   "metadata": {},
   "source": [
    "## Import libraries"
   ]
  },
  {
   "cell_type": "code",
   "execution_count": null,
   "id": "2",
   "metadata": {},
   "outputs": [],
   "source": [
    "import gsw_xarray as gsw\n",
    "import xarray as xr\n",
    "from c3s_eqc_automatic_quality_control import download"
   ]
  },
  {
   "cell_type": "markdown",
   "id": "3",
   "metadata": {},
   "source": [
    "## Define parameters"
   ]
  },
  {
   "cell_type": "code",
   "execution_count": null,
   "id": "4",
   "metadata": {},
   "outputs": [],
   "source": [
    "year_start = 2004\n",
    "year_stop = 2004  # 2023"
   ]
  },
  {
   "cell_type": "markdown",
   "id": "5",
   "metadata": {},
   "source": [
    "## Define Requests"
   ]
  },
  {
   "cell_type": "code",
   "execution_count": null,
   "id": "6",
   "metadata": {},
   "outputs": [],
   "source": [
    "time_request = {\n",
    "    \"year\": [str(year) for year in range(year_start, year_stop + 1)],\n",
    "    \"month\": [f\"{month:02d}\" for month in range(1, 13)],\n",
    "}\n",
    "\n",
    "request_reanalysis = (\n",
    "    \"reanalysis-oras5\",\n",
    "    {\n",
    "        \"product_type\": [\"consolidated\", \"operational\"],\n",
    "        \"vertical_resolution\": \"all_levels\",\n",
    "        \"variable\": [\"potential_temperature\", \"salinity\"],\n",
    "    }\n",
    "    | time_request,\n",
    ")\n",
    "request_satellite = (\n",
    "    \"satellite-sea-level-global\",\n",
    "    {\"variable\": [\"monthly_mean\"], \"version\": \"vdt2024\"} | time_request,\n",
    ")\n",
    "\n",
    "download_kwargs = {\n",
    "    \"chunks\": {\"year\": 1, \"month\": 1},\n",
    "    \"drop_variables\": [\"time_counter_bnds\"],\n",
    "}"
   ]
  },
  {
   "cell_type": "markdown",
   "id": "7",
   "metadata": {},
   "source": [
    "## Define functions to cache"
   ]
  },
  {
   "cell_type": "code",
   "execution_count": null,
   "id": "8",
   "metadata": {},
   "outputs": [],
   "source": [
    "def compute_insitu_density(ds):\n",
    "    p = gsw.p_from_z(-ds[\"deptht\"], ds[\"latitude\"])\n",
    "    SA = gsw.SA_from_SP(ds[\"vosaline\"], p, ds[\"longitude\"], ds[\"latitude\"])\n",
    "    CT = gsw.CT_from_pt(SA, ds[\"votemper\"])\n",
    "    rho = gsw.rho(SA, CT, p)\n",
    "    return xr.merge([p, SA, CT, rho])"
   ]
  },
  {
   "cell_type": "markdown",
   "id": "9",
   "metadata": {},
   "source": [
    "## Download and transform reanalysis"
   ]
  },
  {
   "cell_type": "code",
   "execution_count": null,
   "id": "10",
   "metadata": {},
   "outputs": [],
   "source": [
    "ds_reanalysis = download.download_and_transform(\n",
    "    *request_reanalysis,\n",
    "    transform_func=compute_insitu_density,\n",
    "    **download_kwargs,\n",
    ")"
   ]
  },
  {
   "cell_type": "markdown",
   "id": "11",
   "metadata": {},
   "source": [
    "## Download and transform satellite"
   ]
  },
  {
   "cell_type": "code",
   "execution_count": null,
   "id": "12",
   "metadata": {},
   "outputs": [],
   "source": [
    "ds_satellite = download.download_and_transform(*request_satellite, **download_kwargs)"
   ]
  }
 ],
 "metadata": {
  "kernelspec": {
   "display_name": "Python 3 (ipykernel)",
   "language": "python",
   "name": "python3"
  },
  "language_info": {
   "codemirror_mode": {
    "name": "ipython",
    "version": 3
   },
   "file_extension": ".py",
   "mimetype": "text/x-python",
   "name": "python",
   "nbconvert_exporter": "python",
   "pygments_lexer": "ipython3",
   "version": "3.12.11"
  }
 },
 "nbformat": 4,
 "nbformat_minor": 5
}
