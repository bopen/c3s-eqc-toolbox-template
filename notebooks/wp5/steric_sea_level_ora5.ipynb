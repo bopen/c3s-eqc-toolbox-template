{
 "cells": [
  {
   "cell_type": "markdown",
   "id": "0",
   "metadata": {},
   "source": [
    "# Steric Sea Level Contribution from ORAS5 Reanalysis to Global Sea Level Observed by Satellite Altimetry"
   ]
  },
  {
   "cell_type": "markdown",
   "id": "1",
   "metadata": {},
   "source": [
    "## Import libraries"
   ]
  },
  {
   "cell_type": "code",
   "execution_count": null,
   "id": "2",
   "metadata": {},
   "outputs": [],
   "source": [
    "import gsw_xarray as gsw\n",
    "import matplotlib.pyplot as plt\n",
    "import xarray as xr\n",
    "from c3s_eqc_automatic_quality_control import diagnostics, download"
   ]
  },
  {
   "cell_type": "markdown",
   "id": "3",
   "metadata": {},
   "source": [
    "## Define parameters"
   ]
  },
  {
   "cell_type": "code",
   "execution_count": null,
   "id": "4",
   "metadata": {},
   "outputs": [],
   "source": [
    "year_start = 2004\n",
    "year_stop = 2023"
   ]
  },
  {
   "cell_type": "markdown",
   "id": "5",
   "metadata": {},
   "source": [
    "## Define Requests"
   ]
  },
  {
   "cell_type": "code",
   "execution_count": null,
   "id": "6",
   "metadata": {},
   "outputs": [],
   "source": [
    "time_request = {\n",
    "    \"year\": [str(year) for year in range(year_start, year_stop + 1)],\n",
    "    \"month\": [f\"{month:02d}\" for month in range(1, 13)],\n",
    "}\n",
    "\n",
    "request_reanalysis = (\n",
    "    \"reanalysis-oras5\",\n",
    "    {\n",
    "        \"product_type\": [\"consolidated\", \"operational\"],\n",
    "        \"vertical_resolution\": \"all_levels\",\n",
    "        \"variable\": [\"potential_temperature\", \"salinity\"],\n",
    "    }\n",
    "    | time_request,\n",
    ")\n",
    "request_satellite = (\n",
    "    \"satellite-sea-level-global\",\n",
    "    {\"variable\": [\"monthly_mean\"], \"version\": \"vdt2024\"} | time_request,\n",
    ")\n",
    "\n",
    "download_kwargs = {\n",
    "    \"chunks\": {\"year\": 1, \"month\": 1},\n",
    "    \"drop_variables\": [\"time_counter_bnds\"],\n",
    "}"
   ]
  },
  {
   "cell_type": "markdown",
   "id": "7",
   "metadata": {},
   "source": [
    "## Define functions to cache"
   ]
  },
  {
   "cell_type": "code",
   "execution_count": null,
   "id": "8",
   "metadata": {},
   "outputs": [],
   "source": [
    "def compute_densities(ds):\n",
    "    p = gsw.p_from_z(-ds[\"deptht\"], ds[\"latitude\"])\n",
    "    SA = gsw.SA_from_SP(ds[\"vosaline\"], p, ds[\"longitude\"], ds[\"latitude\"])\n",
    "    CT = gsw.CT_from_pt(SA, ds[\"votemper\"])\n",
    "    rho = gsw.rho(SA, CT, p).rename(\"rho\")\n",
    "    trho = gsw.rho(SA.mean(\"time\"), CT, p).rename(\"trho\")\n",
    "    srho = gsw.rho(SA, CT.mean(\"time\"), p).rename(\"hrho\")\n",
    "    return diagnostics.spatial_weighted_mean(xr.merge([rho, trho, srho]))\n",
    "\n",
    "\n",
    "def compute_ssl(rho, rho0=1025):\n",
    "    grouped_rho = rho.groupby(\"time.month\")\n",
    "    delta_rho = grouped_rho - grouped_rho.mean()\n",
    "    ssl = -(delta_rho.fillna(0) / rho0).integrate(\"deptht\")\n",
    "    match rho.name:\n",
    "        case \"rho\":\n",
    "            prefix = \"\"\n",
    "        case \"trho\":\n",
    "            prefix = \"thermo\"\n",
    "        case \"hrho\":\n",
    "            prefix = \"halo\"\n",
    "        case _:\n",
    "            raise NotImplementedError(f\"{rho.name=}\")\n",
    "    ssl.attrs = {\"long_name\": f\"{prefix}steric sea level\".title(), \"units\": \"m\"}\n",
    "    return ssl.rename(rho.name.replace(\"rho\", \"ssl\"))"
   ]
  },
  {
   "cell_type": "markdown",
   "id": "9",
   "metadata": {},
   "source": [
    "## Download and transform reanalysis"
   ]
  },
  {
   "cell_type": "code",
   "execution_count": null,
   "id": "10",
   "metadata": {},
   "outputs": [],
   "source": [
    "ds_reanalysis = download.download_and_transform(\n",
    "    *request_reanalysis,\n",
    "    transform_func=compute_densities,\n",
    "    **download_kwargs,\n",
    ")"
   ]
  },
  {
   "cell_type": "markdown",
   "id": "11",
   "metadata": {},
   "source": [
    "## Quick and dirty plot"
   ]
  },
  {
   "cell_type": "code",
   "execution_count": null,
   "id": "12",
   "metadata": {},
   "outputs": [],
   "source": [
    "fig, ax = plt.subplots(1, 1, figsize=(12, 5))\n",
    "for rho in ds_reanalysis.values():\n",
    "    da = compute_ssl(rho, rho0=1025)\n",
    "    da.plot(label=da.long_name)\n",
    "ax.set_ylabel(\"[m]\")\n",
    "ax.legend()\n",
    "ax.grid()\n",
    "plt.show()"
   ]
  },
  {
   "cell_type": "markdown",
   "id": "13",
   "metadata": {},
   "source": [
    "## Download and transform satellite"
   ]
  },
  {
   "cell_type": "code",
   "execution_count": null,
   "id": "14",
   "metadata": {},
   "outputs": [],
   "source": [
    "ds_satellite = download.download_and_transform(*request_satellite, **download_kwargs)"
   ]
  }
 ],
 "metadata": {
  "kernelspec": {
   "display_name": "Python 3 (ipykernel)",
   "language": "python",
   "name": "python3"
  },
  "language_info": {
   "codemirror_mode": {
    "name": "ipython",
    "version": 3
   },
   "file_extension": ".py",
   "mimetype": "text/x-python",
   "name": "python",
   "nbconvert_exporter": "python",
   "pygments_lexer": "ipython3",
   "version": "3.12.11"
  }
 },
 "nbformat": 4,
 "nbformat_minor": 5
}
