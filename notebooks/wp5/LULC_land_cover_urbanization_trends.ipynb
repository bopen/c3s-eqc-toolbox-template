{
 "cells": [
  {
   "cell_type": "markdown",
   "id": "0",
   "metadata": {},
   "source": [
    "# Use Case: Using land cover products to quantify urbanization trends."
   ]
  },
  {
   "cell_type": "markdown",
   "id": "1",
   "metadata": {},
   "source": [
    "## Import packages"
   ]
  },
  {
   "cell_type": "code",
   "execution_count": null,
   "id": "2",
   "metadata": {},
   "outputs": [],
   "source": [
    "import geopandas as gpd\n",
    "import matplotlib.colors\n",
    "import matplotlib.pyplot as plt\n",
    "import numpy as np\n",
    "import pandas as pd\n",
    "import regionmask\n",
    "import scipy.stats\n",
    "import shapely.geometry\n",
    "import xarray as xr\n",
    "from c3s_eqc_automatic_quality_control import download, utils\n",
    "\n",
    "plt.style.use(\"seaborn-v0_8-notebook\")"
   ]
  },
  {
   "cell_type": "markdown",
   "id": "3",
   "metadata": {},
   "source": [
    "## Define Parameters"
   ]
  },
  {
   "cell_type": "code",
   "execution_count": null,
   "id": "4",
   "metadata": {},
   "outputs": [],
   "source": [
    "# Years to download\n",
    "years = range(1992, 2021, 2)\n",
    "\n",
    "# Region of interest (Iberian Peninsula)\n",
    "lon_slice = slice(-10, 4)\n",
    "lat_slice = slice(45, 35)\n",
    "\n",
    "# Shapefile with regions (NUTS2)\n",
    "shapefile_url = \"https://gisco-services.ec.europa.eu/distribution/v2/nuts/shp/NUTS_RG_20M_2021_4326.shp.zip\""
   ]
  },
  {
   "cell_type": "markdown",
   "id": "5",
   "metadata": {},
   "source": [
    "## Define request"
   ]
  },
  {
   "cell_type": "code",
   "execution_count": null,
   "id": "6",
   "metadata": {},
   "outputs": [],
   "source": [
    "# List of requests to retrieve data\n",
    "collection_id = \"satellite-land-cover\"\n",
    "requests = [\n",
    "    {\n",
    "        \"variable\": \"all\",\n",
    "        \"format\": \"zip\",\n",
    "        \"version\": \"v2.0.7cds\" if year < 2016 else \"v2.1.1\",\n",
    "        \"year\": year,\n",
    "    }\n",
    "    for year in years\n",
    "]"
   ]
  },
  {
   "cell_type": "markdown",
   "id": "7",
   "metadata": {},
   "source": [
    "## Define request"
   ]
  },
  {
   "cell_type": "code",
   "execution_count": null,
   "id": "8",
   "metadata": {},
   "outputs": [],
   "source": [
    "# Download and regionalize by AoI\n",
    "ds = download.download_and_transform(\n",
    "    collection_id,\n",
    "    requests,\n",
    "    transform_func=utils.regionalise,\n",
    "    transform_func_kwargs={\"lon_slice\": lon_slice, \"lat_slice\": lat_slice},\n",
    ")\n",
    "ds = ds.assign_coords(year=ds[\"time\"].dt.year).swap_dims(time=\"year\").drop(\"time\")"
   ]
  },
  {
   "cell_type": "markdown",
   "id": "9",
   "metadata": {},
   "source": [
    "## Mask regions"
   ]
  },
  {
   "cell_type": "code",
   "execution_count": null,
   "id": "10",
   "metadata": {},
   "outputs": [],
   "source": [
    "lon_bounds = [-10.18, 1]\n",
    "lat_bounds = [36.5, 43]\n",
    "crs = \"epsg:4326\"\n",
    "\n",
    "lon_bounds += sorted(lon_bounds, reverse=True)\n",
    "lat_bounds = [lat for lat in lat_bounds for _ in range(2)]\n",
    "bbox = shapely.Polygon(zip(lon_bounds, lat_bounds))\n",
    "\n",
    "gdf = gpd.read_file(shapefile_url)\n",
    "gdf = gdf[gdf[\"LEVL_CODE\"] == 2]\n",
    "gdf = gdf[gdf.intersects(bbox)]\n",
    "gdf = gdf[gdf[\"NUTS_ID\"].str.startswith((\"ES\", \"PT\"))]\n",
    "gdf = gdf.to_crs(crs)\n",
    "\n",
    "ds.rio.write_crs(crs, inplace=True)\n",
    "\n",
    "regions = regionmask.from_geopandas(gdf, names=\"NUTS_NAME\")\n",
    "mask = regions.mask(ds[\"longitude\"], ds[\"latitude\"])"
   ]
  },
  {
   "cell_type": "markdown",
   "id": "11",
   "metadata": {},
   "source": [
    "## Compute cell area"
   ]
  },
  {
   "cell_type": "code",
   "execution_count": null,
   "id": "12",
   "metadata": {},
   "outputs": [],
   "source": [
    "scaling_factor = 0.002778\n",
    "resolution_km = scaling_factor * 111.195\n",
    "indexes = xr.DataArray(range(ds.sizes[\"latitude\"]), dims=\"latitude\")\n",
    "lats = ds[\"latitude\"].max() - indexes * scaling_factor\n",
    "grid_cell_area = resolution_km**2 * np.cos(np.radians(lats))\n",
    "grid_cell_area.attrs = {\n",
    "    \"standard_name\": \"cell_area\",\n",
    "    \"long_name\": \"Area\",\n",
    "    \"units\": \"km2\",\n",
    "}"
   ]
  },
  {
   "cell_type": "markdown",
   "id": "13",
   "metadata": {},
   "source": [
    "## Compute urban area and trends"
   ]
  },
  {
   "cell_type": "code",
   "execution_count": null,
   "id": "14",
   "metadata": {},
   "outputs": [],
   "source": [
    "da_grouped = (\n",
    "    grid_cell_area.where(ds[\"lccs_class\"] == 190)\n",
    "    .groupby(mask.rename(\"region\"))\n",
    "    .sum((\"latitude\", \"longitude\"))\n",
    ")\n",
    "da_grouped.attrs = {\"long_name\": \"Urban Area\", \"units\": \"km$^2$\"}\n",
    "da_grouped = da_grouped.assign_coords(region=regions.names).compute()\n",
    "\n",
    "df_dict = {\"slope\": [], \"intercept\": [], \"tau\": [], \"p-value\": []}\n",
    "for region in gdf[\"NUTS_NAME\"]:\n",
    "    da_region = da_grouped.sel(region=region).squeeze()\n",
    "    slope, intercept, *_ = scipy.stats.theilslopes(da_region, da_region[\"year\"])\n",
    "    tau, p_value = scipy.stats.kendalltau(da_region[\"year\"], da_region)\n",
    "    df_dict[\"slope\"].append(slope)\n",
    "    df_dict[\"intercept\"].append(intercept)\n",
    "    df_dict[\"tau\"].append(tau)\n",
    "    df_dict[\"p-value\"].append(p_value)\n",
    "gdf[list(df_dict)] = pd.DataFrame(df_dict, index=gdf.index)"
   ]
  },
  {
   "cell_type": "markdown",
   "id": "15",
   "metadata": {},
   "source": [
    "## Define plotting functions"
   ]
  },
  {
   "cell_type": "code",
   "execution_count": null,
   "id": "16",
   "metadata": {},
   "outputs": [],
   "source": [
    "def plot_trend(da, df, **kwargs):\n",
    "    facet = da.plot(col=\"region\", marker=\"o\", sharex=False, **kwargs)\n",
    "    for ax, sel_dict in zip(facet.axs.flatten(), facet.name_dicts.flatten()):\n",
    "        if not sel_dict:\n",
    "            continue\n",
    "        da_sel = da.sel(sel_dict)\n",
    "        df_region = df[df[\"NUTS_NAME\"] == sel_dict[\"region\"]].squeeze()\n",
    "        ax.plot(\n",
    "            da_sel[\"year\"],\n",
    "            da_sel[\"year\"] * df_region[\"slope\"] + df_region[\"intercept\"],\n",
    "            label=\"\\n\".join(\n",
    "                [\n",
    "                    f\"slope = {df_region['slope']:.3f} km$^2$/year\",\n",
    "                    f\"p-value = {df_region['p-value']:.3f}\",\n",
    "                    f\"tau = {df_region['tau']:.3f}\",\n",
    "                    f\"intercept = {df_region['intercept']:.3f} km$^2$\",\n",
    "                ]\n",
    "            ),\n",
    "            color=\"k\",\n",
    "            ls=\"--\",\n",
    "        )\n",
    "        ax.set_xticks(da_sel[\"year\"][::2])\n",
    "        ax.set_title(sel_dict[\"region\"])\n",
    "        ax.legend()\n",
    "        ax.grid()\n",
    "    return facet\n",
    "\n",
    "\n",
    "def plot_maps(da, vmin=None, vmax=None, cmap=\"viridis\"):\n",
    "    if vmin is None:\n",
    "        vmin = da.min()\n",
    "    if vmax is None:\n",
    "        vmax = da.max()\n",
    "    norm = matplotlib.colors.Normalize(vmin=vmin, vmax=vmax)\n",
    "    cbar = plt.cm.ScalarMappable(norm=norm, cmap=cmap)\n",
    "\n",
    "    n_cols = min(3, da.sizes[\"year\"])\n",
    "    n_rows = int(np.ceil(da.sizes[\"year\"] / n_cols))\n",
    "    fig, axs = plt.subplots(\n",
    "        n_rows, n_cols, figsize=(n_cols * 6, n_rows * 3), squeeze=False\n",
    "    )\n",
    "    axs_iter = iter(axs.flatten())\n",
    "    for year, da in da.groupby(\"year\"):\n",
    "        ax = next(axs_iter)\n",
    "        gdf.plot(da.values, cmap=cmap, norm=norm, edgecolor=\"k\", ax=ax)\n",
    "        ax.axis(\"off\")\n",
    "        ax.set_title(f\"{year=}\")\n",
    "    for ax in axs_iter:\n",
    "        ax.axis(\"off\")\n",
    "\n",
    "    plt.tight_layout()\n",
    "    fig.subplots_adjust(right=0.85)\n",
    "    cbar_ax = fig.add_axes([0.87, 0.15, 0.03, 0.7])\n",
    "    fig.colorbar(\n",
    "        cbar, cax=cbar_ax, label=f\"{da.attrs['long_name']} [{da.attrs['units']}]\"\n",
    "    )\n",
    "    return fig, axs"
   ]
  },
  {
   "cell_type": "markdown",
   "id": "17",
   "metadata": {},
   "source": [
    "## Plot trends"
   ]
  },
  {
   "cell_type": "code",
   "execution_count": null,
   "id": "18",
   "metadata": {},
   "outputs": [],
   "source": [
    "_ = plot_trend(da_grouped, gdf, col_wrap=3, aspect=1.5)"
   ]
  },
  {
   "cell_type": "markdown",
   "id": "19",
   "metadata": {},
   "source": [
    "## Plot highest trends"
   ]
  },
  {
   "cell_type": "code",
   "execution_count": null,
   "id": "20",
   "metadata": {},
   "outputs": [],
   "source": [
    "regions_of_interest = gdf.sort_values(\"slope\", ascending=False)[\"NUTS_NAME\"][:3].values\n",
    "_ = plot_trend(da_grouped.sel(region=regions_of_interest), gdf, col_wrap=3, aspect=1.5)"
   ]
  },
  {
   "cell_type": "markdown",
   "id": "21",
   "metadata": {},
   "source": [
    "## Plot urban area per year"
   ]
  },
  {
   "cell_type": "code",
   "execution_count": null,
   "id": "22",
   "metadata": {},
   "outputs": [],
   "source": [
    "fig, axs = plot_maps(da_grouped)"
   ]
  },
  {
   "cell_type": "markdown",
   "id": "23",
   "metadata": {},
   "source": [
    "## Plot urban area change per year maps"
   ]
  },
  {
   "cell_type": "code",
   "execution_count": null,
   "id": "24",
   "metadata": {},
   "outputs": [],
   "source": [
    "with xr.set_options(keep_attrs=True):\n",
    "    da_grouped_diff = da_grouped.diff(\"year\")\n",
    "da_grouped_diff.attrs[\"long_name\"] += \" Change\"\n",
    "da_grouped_diff[\"year\"] = [\n",
    "    f\"{y1} - {y0}\"\n",
    "    for y1, y0 in zip(da_grouped[\"year\"][1:].values, da_grouped[\"year\"][:-1].values)\n",
    "]\n",
    "vmax = np.abs(da_grouped_diff).max()\n",
    "fig, axs = plot_maps(da_grouped_diff, vmax=vmax, vmin=-vmax, cmap=\"RdBu_r\")"
   ]
  },
  {
   "cell_type": "markdown",
   "id": "25",
   "metadata": {},
   "source": [
    "## Plot urban area change per region bars"
   ]
  },
  {
   "cell_type": "code",
   "execution_count": null,
   "id": "26",
   "metadata": {},
   "outputs": [],
   "source": [
    "n_cols = min(3, da_grouped_diff.sizes[\"region\"])\n",
    "n_rows = int(np.ceil(da_grouped_diff.sizes[\"region\"] / n_cols))\n",
    "axs = da_grouped_diff.to_pandas().plot(\n",
    "    kind=\"bar\",\n",
    "    subplots=True,\n",
    "    layout=(n_rows, n_cols),\n",
    "    figsize=(n_cols * 6, n_rows * 3),\n",
    "    legend=False,\n",
    "    ylabel=f\"{da_grouped_diff.attrs['long_name']} [{da_grouped_diff.attrs['units']}]\",\n",
    ")\n",
    "for ax in axs.flatten():\n",
    "    ax.grid()"
   ]
  },
  {
   "cell_type": "markdown",
   "id": "27",
   "metadata": {},
   "source": [
    "## Plot trend map"
   ]
  },
  {
   "cell_type": "code",
   "execution_count": null,
   "id": "28",
   "metadata": {},
   "outputs": [],
   "source": [
    "vmax = gdf[\"slope\"].abs().max()\n",
    "ax = gdf.plot(\n",
    "    gdf[\"slope\"],\n",
    "    cmap=\"viridis\",\n",
    "    edgecolor=\"k\",\n",
    "    legend=True,\n",
    "    legend_kwds={\"label\": \"Slope [km$^2$/year]\"},\n",
    ")\n",
    "_ = ax.axis(\"off\")"
   ]
  },
  {
   "cell_type": "markdown",
   "id": "29",
   "metadata": {},
   "source": [
    "## Compute and show percentage difference in urban area"
   ]
  },
  {
   "cell_type": "code",
   "execution_count": null,
   "id": "30",
   "metadata": {},
   "outputs": [],
   "source": [
    "da_grouped_perc = (\n",
    "    100 * da_grouped.isel(year=[0, -1]).diff(\"year\") / da_grouped.isel(year=0)\n",
    ").squeeze()\n",
    "da_grouped_perc.attrs = {\n",
    "    \"units\": \"%\",\n",
    "    \"long_name\": \"Percentage Difference of \" + da_grouped.attrs[\"long_name\"],\n",
    "}\n",
    "df_grouped_perc = da_grouped_perc.to_pandas()\n",
    "df_grouped_perc"
   ]
  },
  {
   "cell_type": "markdown",
   "id": "31",
   "metadata": {},
   "source": [
    "## Plot percentage difference in urban area"
   ]
  },
  {
   "cell_type": "code",
   "execution_count": null,
   "id": "32",
   "metadata": {},
   "outputs": [],
   "source": [
    "fig, axs = plot_maps(da_grouped.isel(year=[0, -1]))\n",
    "plt.show()\n",
    "\n",
    "ax = gdf.set_index(\"NUTS_NAME\").plot(\n",
    "    df_grouped_perc,\n",
    "    cmap=\"viridis\",\n",
    "    edgecolor=\"k\",\n",
    "    legend=True,\n",
    "    legend_kwds={\n",
    "        \"label\": f\"{da_grouped_perc.attrs['long_name']} [{da_grouped_perc.attrs['units']}]\"\n",
    "    },\n",
    ")\n",
    "ax.set_title(\n",
    "    f\"From {da_grouped['year'].isel(year=0).values} to {da_grouped['year'].isel(year=-1).values}\"\n",
    ")\n",
    "_ = ax.axis(\"off\")"
   ]
  }
 ],
 "metadata": {
  "kernelspec": {
   "display_name": "Python 3 (ipykernel)",
   "language": "python",
   "name": "python3"
  },
  "language_info": {
   "codemirror_mode": {
    "name": "ipython",
    "version": 3
   },
   "file_extension": ".py",
   "mimetype": "text/x-python",
   "name": "python",
   "nbconvert_exporter": "python",
   "pygments_lexer": "ipython3",
   "version": "3.10.13"
  }
 },
 "nbformat": 4,
 "nbformat_minor": 5
}
