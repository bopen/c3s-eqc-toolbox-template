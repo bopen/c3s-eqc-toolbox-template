{
 "cells": [
  {
   "cell_type": "markdown",
   "id": "0",
   "metadata": {},
   "source": [
    "# Variability of the surface elevation change: 3D data"
   ]
  },
  {
   "cell_type": "code",
   "execution_count": null,
   "id": "1",
   "metadata": {},
   "outputs": [],
   "source": [
    "import matplotlib.pyplot as plt\n",
    "import xarray as xr\n",
    "from c3s_eqc_automatic_quality_control import download\n",
    "\n",
    "plt.style.use(\"seaborn-v0_8-notebook\")"
   ]
  },
  {
   "cell_type": "markdown",
   "id": "2",
   "metadata": {},
   "source": [
    "## Define parameters"
   ]
  },
  {
   "cell_type": "code",
   "execution_count": null,
   "id": "3",
   "metadata": {},
   "outputs": [],
   "source": [
    "domains = [\"greenland\", \"antarctica\"]"
   ]
  },
  {
   "cell_type": "markdown",
   "id": "4",
   "metadata": {},
   "source": [
    "## Define request"
   ]
  },
  {
   "cell_type": "code",
   "execution_count": null,
   "id": "5",
   "metadata": {},
   "outputs": [],
   "source": [
    "collection_id = \"satellite-ice-sheet-elevation-change\"\n",
    "request = {\n",
    "    \"variable\": \"all\",\n",
    "    \"format\": \"zip\",\n",
    "    \"climate_data_record_type\": \"icdr\",\n",
    "    \"version\": \"3_0\",\n",
    "}"
   ]
  },
  {
   "cell_type": "markdown",
   "id": "6",
   "metadata": {},
   "source": [
    "## Processing function"
   ]
  },
  {
   "cell_type": "code",
   "execution_count": null,
   "id": "7",
   "metadata": {},
   "outputs": [],
   "source": [
    "def get_data(ds):\n",
    "    (sec_name,) = set(ds.data_vars) & {\"sec\", \"dhdt\"}\n",
    "    da = ds[sec_name]\n",
    "    da.attrs[\"long_name\"] = \"Surface elevation change\"\n",
    "\n",
    "    da_err = ds[f\"{sec_name}_uncert\"]\n",
    "    da_err.attrs[\"long_name\"] = \"Surface elevation change standard error\"\n",
    "\n",
    "    return xr.merge([da.rename(\"sec\"), da_err.rename(\"sec_err\"), ds[\"high_slope\"]])"
   ]
  },
  {
   "cell_type": "markdown",
   "id": "8",
   "metadata": {},
   "source": [
    "## Download and transform data"
   ]
  },
  {
   "cell_type": "code",
   "execution_count": null,
   "id": "9",
   "metadata": {},
   "outputs": [],
   "source": [
    "datasets = {}\n",
    "for domain in domains:\n",
    "    print(f\"{domain=}\")\n",
    "    ds = download.download_and_transform(collection_id, request | {\"domain\": domain})\n",
    "    datasets[domain] = get_data(ds)"
   ]
  },
  {
   "cell_type": "markdown",
   "id": "10",
   "metadata": {},
   "source": [
    "## Scatter plot"
   ]
  },
  {
   "cell_type": "code",
   "execution_count": null,
   "id": "11",
   "metadata": {},
   "outputs": [],
   "source": [
    "fig, axs = plt.subplots(1, 2, layout=\"constrained\")\n",
    "for ax, (domain, ds) in zip(axs, datasets.items()):\n",
    "    ds.plot.scatter(x=\"sec\", y=\"sec_err\", s=5, ax=ax, xscale=\"log\", yscale=\"log\")\n",
    "    ax.grid()\n",
    "    ax.set_title(f\"{domain} ice sheet\".title())\n",
    "_ = fig.suptitle(\n",
    "    \"Scatter plot of the surface elevation change magnitude vs. the surface elevation change standard error\"\n",
    ")"
   ]
  }
 ],
 "metadata": {
  "kernelspec": {
   "display_name": "Python 3 (ipykernel)",
   "language": "python",
   "name": "python3"
  },
  "language_info": {
   "codemirror_mode": {
    "name": "ipython",
    "version": 3
   },
   "file_extension": ".py",
   "mimetype": "text/x-python",
   "name": "python",
   "nbconvert_exporter": "python",
   "pygments_lexer": "ipython3",
   "version": "3.10.13"
  }
 },
 "nbformat": 4,
 "nbformat_minor": 5
}
