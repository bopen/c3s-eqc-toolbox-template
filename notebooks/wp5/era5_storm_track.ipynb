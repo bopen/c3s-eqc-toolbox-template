{
 "cells": [
  {
   "attachments": {},
   "cell_type": "markdown",
   "id": "fa88e2ed",
   "metadata": {},
   "source": [
    "# ERA5 geopotentials and storm track"
   ]
  },
  {
   "attachments": {},
   "cell_type": "markdown",
   "id": "cb015811",
   "metadata": {},
   "source": [
    "## Import packages"
   ]
  },
  {
   "cell_type": "code",
   "execution_count": null,
   "id": "8accd838-b916-4711-9eed-74fe2e21bf5e",
   "metadata": {},
   "outputs": [],
   "source": [
    "import cartopy.crs as ccrs\n",
    "import cartopy.feature as cfeature\n",
    "import matplotlib.path as mpath\n",
    "import matplotlib.pyplot as plt\n",
    "import numpy as np\n",
    "import xarray as xr\n",
    "from c3s_eqc_automatic_quality_control import diagnostics, download"
   ]
  },
  {
   "attachments": {},
   "cell_type": "markdown",
   "id": "20edb702",
   "metadata": {},
   "source": [
    "## Define Parameters"
   ]
  },
  {
   "cell_type": "code",
   "execution_count": null,
   "id": "790bdd0b-65d4-4b85-a264-6f2fd5c6de52",
   "metadata": {},
   "outputs": [],
   "source": [
    "# Time\n",
    "start = \"1991\"\n",
    "stop = \"2020\"  # None: present\n",
    "\n",
    "# Season to plot\n",
    "season = \"DJF\""
   ]
  },
  {
   "attachments": {},
   "cell_type": "markdown",
   "id": "6d60832a",
   "metadata": {},
   "source": [
    "## Define request"
   ]
  },
  {
   "cell_type": "code",
   "execution_count": null,
   "id": "d456e169-4703-4226-89cf-868ff12b25cc",
   "metadata": {},
   "outputs": [],
   "source": [
    "collection_id = \"reanalysis-era5-pressure-levels\"\n",
    "request = {\n",
    "    \"product_type\": \"reanalysis\",\n",
    "    \"format\": \"grib\",\n",
    "    \"variable\": \"geopotential\",\n",
    "    \"pressure_level\": \"500\",\n",
    "    \"area\": [90, -180, 30, 180],\n",
    "    \"time\": [\"00:00\", \"12:00\"],\n",
    "}\n",
    "requests = download.update_request_date(request, start=start, stop=stop)"
   ]
  },
  {
   "attachments": {},
   "cell_type": "markdown",
   "id": "734dce8e",
   "metadata": {},
   "source": [
    "## Functions to cache"
   ]
  },
  {
   "cell_type": "code",
   "execution_count": null,
   "id": "8490c7fc-2e47-40fb-9e10-a2dd08015f83",
   "metadata": {},
   "outputs": [],
   "source": [
    "def seasonal_bandpass(ds, weights_mapper, reductions):\n",
    "    if weights_mapper:\n",
    "        ds = diagnostics.rolling_weighted_filter(ds, weights_mapper)\n",
    "    datasets = []\n",
    "    for reduction in reductions:\n",
    "        func = getattr(diagnostics, f\"seasonal_weighted_{reduction}\")\n",
    "        datasets.append(func(ds, weights=False).expand_dims(reduction=[reduction]))\n",
    "    return xr.concat(datasets, \"reduction\")"
   ]
  },
  {
   "attachments": {},
   "cell_type": "markdown",
   "id": "bdd90094",
   "metadata": {},
   "source": [
    "## Define bandpass weights (Blackmon, JAS, 1976)"
   ]
  },
  {
   "cell_type": "code",
   "execution_count": null,
   "id": "03ca460d-c9b7-4872-8c7c-be3cdfa51d76",
   "metadata": {},
   "outputs": [],
   "source": [
    "blackmon_weights = [\n",
    "    -0.00304,\n",
    "    -0.00013,\n",
    "    -0.00967,\n",
    "    -0.01917,\n",
    "    -0.002,\n",
    "    0.03043,\n",
    "    0.03281,\n",
    "    0.00411,\n",
    "    0.00335,\n",
    "    0.04193,\n",
    "    0.0283,\n",
    "    -0.09233,\n",
    "    -0.19477,\n",
    "    -0.10201,\n",
    "    0.14335,\n",
    "    0.27769,\n",
    "]\n",
    "blackmon_weights.extend(blackmon_weights[:-1][::-1])"
   ]
  },
  {
   "attachments": {},
   "cell_type": "markdown",
   "id": "4c580f15",
   "metadata": {},
   "source": [
    "## Download and transform"
   ]
  },
  {
   "cell_type": "code",
   "execution_count": null,
   "id": "3e9d2f0d-50e6-4f61-980b-598585fc4991",
   "metadata": {},
   "outputs": [],
   "source": [
    "datasets = []\n",
    "for weights in (None, blackmon_weights):\n",
    "    ds = download.download_and_transform(\n",
    "        collection_id,\n",
    "        requests,\n",
    "        transform_func=seasonal_bandpass,\n",
    "        transform_func_kwargs={\n",
    "            \"weights_mapper\": {\"forecast_reference_time\": weights} if weights else {},\n",
    "            \"reductions\": (\"mean\", \"std\"),\n",
    "        },\n",
    "        chunks={\"year\": 1, \"time\": 1},\n",
    "        transform_chunks=False,\n",
    "        concat_dim=\"forecast_reference_time\",\n",
    "        combine=\"nested\",\n",
    "    )\n",
    "    datasets.append(ds.expand_dims(bandpass=[True if weights else False]))\n",
    "da = xr.concat(datasets, \"bandpass\")[\"z\"].sel(season=season)\n",
    "with xr.set_options(keep_attrs=True):\n",
    "    da /= 9.8"
   ]
  },
  {
   "attachments": {},
   "cell_type": "markdown",
   "id": "69770ce2",
   "metadata": {},
   "source": [
    "## Plot"
   ]
  },
  {
   "cell_type": "code",
   "execution_count": null,
   "id": "dd26dd5d-620e-49a8-8590-b4d796e650bf",
   "metadata": {},
   "outputs": [],
   "source": [
    "# Circle used to set the bounday\n",
    "theta = np.linspace(0, 2 * np.pi, 100)\n",
    "center, radius = [0.5, 0.5], 0.5\n",
    "verts = np.vstack([np.sin(theta), np.cos(theta)]).T\n",
    "circle = mpath.Path(verts * radius + center)\n",
    "\n",
    "fig, axes = plt.subplots(\n",
    "    *(1, 3),\n",
    "    figsize=(15, 7.5),\n",
    "    subplot_kw={\"projection\": ccrs.NorthPolarStereo(central_longitude=0)},\n",
    ")\n",
    "axes = iter(axes.flatten())\n",
    "for bandpass, da_bandpass in da.groupby(\"bandpass\"):\n",
    "    for reduction, da_reduction in da_bandpass.groupby(\"reduction\"):\n",
    "        if reduction == \"mean\" and not bandpass:\n",
    "            levels_list = [range(5000, 6000, 50), range(5000, 6000, 200)]\n",
    "        elif reduction == \"std\" and not bandpass:\n",
    "            levels_list = [range(0, 200, 10), range(0, 200, 40)]\n",
    "        elif reduction == \"std\" and bandpass:\n",
    "            levels_list = [range(0, 100, 4), [30, 60]]\n",
    "        else:\n",
    "            continue\n",
    "\n",
    "        ax = next(axes)\n",
    "        for levels in levels_list:\n",
    "            cs = ax.contour(\n",
    "                da_reduction[\"longitude\"],\n",
    "                da_reduction[\"latitude\"],\n",
    "                da_reduction,\n",
    "                levels=levels,\n",
    "                colors=\"k\",\n",
    "                linewidths=0.5,\n",
    "                linestyles=\"solid\",\n",
    "                transform=ccrs.PlateCarree(),\n",
    "            )\n",
    "        ax.clabel(cs)\n",
    "        ax.coastlines(color=\"darkgray\")\n",
    "        ax.add_feature(cfeature.LAND)\n",
    "        ax.set_boundary(circle, transform=ax.transAxes)\n",
    "        ax.set_title(\n",
    "            f\"{'Band-pass ' if bandpass else ''}{reduction.title()}\", fontsize=16\n",
    "        )"
   ]
  }
 ],
 "metadata": {
  "kernelspec": {
   "display_name": "Python 3 (ipykernel)",
   "language": "python",
   "name": "python3"
  },
  "language_info": {
   "codemirror_mode": {
    "name": "ipython",
    "version": 3
   },
   "file_extension": ".py",
   "mimetype": "text/x-python",
   "name": "python",
   "nbconvert_exporter": "python",
   "pygments_lexer": "ipython3",
   "version": "3.10.12"
  }
 },
 "nbformat": 4,
 "nbformat_minor": 5
}
