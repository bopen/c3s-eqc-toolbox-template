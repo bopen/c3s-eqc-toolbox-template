{
 "cells": [
  {
   "cell_type": "markdown",
   "id": "0",
   "metadata": {},
   "source": [
    "# Mass balance of all glaciers: Timeseries"
   ]
  },
  {
   "cell_type": "markdown",
   "id": "1",
   "metadata": {},
   "source": [
    "## Import packages"
   ]
  },
  {
   "cell_type": "code",
   "execution_count": null,
   "id": "2",
   "metadata": {},
   "outputs": [],
   "source": [
    "import matplotlib.pyplot as plt\n",
    "import scipy.stats\n",
    "import xarray as xr\n",
    "from c3s_eqc_automatic_quality_control import download\n",
    "\n",
    "plt.style.use(\"seaborn-v0_8-notebook\")"
   ]
  },
  {
   "cell_type": "markdown",
   "id": "3",
   "metadata": {},
   "source": [
    "## Define Parameters"
   ]
  },
  {
   "cell_type": "code",
   "execution_count": null,
   "id": "4",
   "metadata": {},
   "outputs": [],
   "source": [
    "period_start = \"1975_1976\"\n",
    "period_stop = \"2020_2021\"\n",
    "assert all(\"_\" in period and len(period) == 9 for period in (period_start, period_stop))"
   ]
  },
  {
   "cell_type": "markdown",
   "id": "5",
   "metadata": {},
   "source": [
    "## Define request"
   ]
  },
  {
   "cell_type": "code",
   "execution_count": null,
   "id": "6",
   "metadata": {},
   "outputs": [],
   "source": [
    "y0_start, y1_start = map(int, period_start.split(\"_\"))\n",
    "y0_stop, y1_stop = map(int, period_stop.split(\"_\"))\n",
    "collection_id = \"derived-gridded-glacier-mass-change\"\n",
    "request = {\n",
    "    \"variable\": \"glacier_mass_change\",\n",
    "    \"product_version\": \"wgms_fog_2022_09\",\n",
    "    \"format\": \"zip\",\n",
    "    \"hydrological_year\": [\n",
    "        f\"{y0}_{str(y1)[-2:]}\"\n",
    "        for y0, y1 in zip(range(y0_start, y0_stop + 1), range(y1_start, y1_stop + 1))\n",
    "    ],\n",
    "}"
   ]
  },
  {
   "cell_type": "markdown",
   "id": "7",
   "metadata": {},
   "source": [
    "## Function to cache"
   ]
  },
  {
   "cell_type": "code",
   "execution_count": null,
   "id": "8",
   "metadata": {},
   "outputs": [],
   "source": [
    "def spatial_sum(ds):\n",
    "    return ds.sum((\"latitude\", \"longitude\"), keep_attrs=True)"
   ]
  },
  {
   "cell_type": "markdown",
   "id": "9",
   "metadata": {},
   "source": [
    "## Download data"
   ]
  },
  {
   "cell_type": "code",
   "execution_count": null,
   "id": "10",
   "metadata": {},
   "outputs": [],
   "source": [
    "ds = download.download_and_transform(\n",
    "    collection_id,\n",
    "    request,\n",
    "    chunks={\"hydrological_year\": 1},\n",
    "    transform_func=spatial_sum,\n",
    ").compute()\n",
    "\n",
    "# Customize attributes\n",
    "ds[\"time\"] = ds[\"time\"].dt.year\n",
    "ds[\"time\"].attrs |= {\"long_name\": \"Time\", \"units\": \"yr\"}\n",
    "for da in ds.data_vars.values():\n",
    "    da.attrs[\"units\"] += \" $yr^{-1}$\"\n",
    "    da.attrs[\"long_name\"] = da.attrs[\"long_name\"].replace(\"_\", \" \").title()\n",
    "\n",
    "# Compute and add cumulative\n",
    "cumulative = ds[\"Glacier\"].cumsum(\"time\")\n",
    "cumulative.attrs = {\n",
    "    \"units\": ds[\"Glacier\"].attrs[\"units\"].split()[0],\n",
    "    \"long_name\": f\"Cumulative {ds['Glacier'].attrs['long_name']}\",\n",
    "}\n",
    "ds[\"Cumulative\"] = cumulative"
   ]
  },
  {
   "cell_type": "markdown",
   "id": "11",
   "metadata": {},
   "source": [
    "## Plot timeseries"
   ]
  },
  {
   "cell_type": "code",
   "execution_count": null,
   "id": "12",
   "metadata": {},
   "outputs": [],
   "source": [
    "for vars, title in zip(\n",
    "    ([\"Glacier\", \"Uncertainty\"], [\"Glacier\", \"Cumulative\"]),\n",
    "    (\n",
    "        \"Total annual glacier mass changes and its uncertainties.\",\n",
    "        \"The (cumulative) annual glacier mass changes at the global scale\",\n",
    "    ),\n",
    "):\n",
    "    fig, axs = plt.subplots(2, 1, layout=\"constrained\")\n",
    "    for ax, da in zip(axs, ds[vars].values()):\n",
    "        da.plot(ax=ax)\n",
    "        ax.grid()\n",
    "        ax.set_title(da.attrs[\"long_name\"])\n",
    "    fig.suptitle(title)"
   ]
  },
  {
   "cell_type": "markdown",
   "id": "13",
   "metadata": {},
   "source": [
    "## Plot timeseries on top of errors"
   ]
  },
  {
   "cell_type": "code",
   "execution_count": null,
   "id": "14",
   "metadata": {},
   "outputs": [],
   "source": [
    "fig, ax = plt.subplots()\n",
    "line = ds[\"Glacier\"]\n",
    "error = ds[\"Uncertainty\"] / 2\n",
    "ax.fill_between(line[\"time\"], line - error, line + error, alpha=0.5)\n",
    "line.plot(ax=ax, color=\"k\")\n",
    "ax.grid()\n",
    "_ = ax.set_title(\"Glacier mass change and its uncertainty\")\n",
    "_ = fig.suptitle(\"Total annual glacier mass changes and its uncertainty.\")"
   ]
  },
  {
   "cell_type": "markdown",
   "id": "15",
   "metadata": {},
   "source": [
    "## Compute and plot trends"
   ]
  },
  {
   "cell_type": "code",
   "execution_count": null,
   "id": "16",
   "metadata": {},
   "outputs": [],
   "source": [
    "da = ds[\"Cumulative\"]\n",
    "\n",
    "# Significance\n",
    "_, p_value = scipy.stats.kendalltau(da[\"time\"], da)\n",
    "significance_level = 0.05\n",
    "is_significant = p_value < significance_level\n",
    "print(\n",
    "    \" \".join(\n",
    "        [\n",
    "            \"The obtained linear trend of the mass changes of the glaciers over time\",\n",
    "            \"is significant\" if is_significant else \"is not significant\",\n",
    "            f\"at an alpha level of {significance_level}, i.e. a monotonic trend\",\n",
    "            \"is present\" if is_significant else \"is not present\",\n",
    "            \".\",\n",
    "        ]\n",
    "    )\n",
    ")\n",
    "\n",
    "# Plot\n",
    "fig, ax = plt.subplots()\n",
    "for label, degree in zip(\n",
    "    (\n",
    "        \"Linear\",\n",
    "        \"Quadratic\",\n",
    "    ),\n",
    "    (1, 2),\n",
    "):\n",
    "    coeffs = da.polyfit(\"time\", degree)[\"polyfit_coefficients\"]\n",
    "    equation = []\n",
    "    for deg, coeff in coeffs.groupby(\"degree\"):\n",
    "        equation.append(\n",
    "            f\"{float(coeff):+.3f}{'x' if deg else ''}{f'$^{deg}$' if deg>1 else ''}\"\n",
    "        )\n",
    "    label = f\"{label}: {' '.join(equation[::-1])}\"\n",
    "    if degree == 1:\n",
    "        label += f\"\\np-value = {p_value:.3f}\"\n",
    "    fit = xr.polyval(da[\"time\"], coeffs)\n",
    "    fit.plot(label=label, ax=ax)\n",
    "da.plot(label=\"Cumulative\", ax=ax)\n",
    "ax.set_title(\"Cumulative glacier mass change\")\n",
    "ax.grid()\n",
    "ax.legend(bbox_to_anchor=(1, 1), loc=\"upper left\")\n",
    "_ = fig.suptitle(\n",
    "    \"The (cumulative) annual glacier mass changes at the global scale and its linear/quadratic trend.\"\n",
    ")"
   ]
  }
 ],
 "metadata": {
  "kernelspec": {
   "display_name": "Python 3 (ipykernel)",
   "language": "python",
   "name": "python3"
  },
  "language_info": {
   "codemirror_mode": {
    "name": "ipython",
    "version": 3
   },
   "file_extension": ".py",
   "mimetype": "text/x-python",
   "name": "python",
   "nbconvert_exporter": "python",
   "pygments_lexer": "ipython3",
   "version": "3.10.13"
  }
 },
 "nbformat": 4,
 "nbformat_minor": 5
}
