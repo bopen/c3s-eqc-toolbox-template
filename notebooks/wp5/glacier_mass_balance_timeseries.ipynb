{
 "cells": [
  {
   "cell_type": "markdown",
   "id": "8d1591ee",
   "metadata": {},
   "source": [
    "# Mass balance of all glaciers: Timeseries"
   ]
  },
  {
   "cell_type": "markdown",
   "id": "d175a98f",
   "metadata": {},
   "source": [
    "## Import packages"
   ]
  },
  {
   "cell_type": "code",
   "execution_count": null,
   "id": "33a8b6be-2af9-49f7-ad8b-858d7a31f03d",
   "metadata": {},
   "outputs": [],
   "source": [
    "import matplotlib.pyplot as plt\n",
    "import scipy.stats\n",
    "import xarray as xr\n",
    "from c3s_eqc_automatic_quality_control import download\n",
    "\n",
    "plt.style.use(\"seaborn-v0_8-notebook\")"
   ]
  },
  {
   "cell_type": "markdown",
   "id": "df150af3",
   "metadata": {},
   "source": [
    "## Define Parameters"
   ]
  },
  {
   "cell_type": "code",
   "execution_count": null,
   "id": "2eb1d470-b943-4c13-b5c8-0160b2a83d73",
   "metadata": {},
   "outputs": [],
   "source": [
    "# Time period\n",
    "year_start = 1975\n",
    "year_stop = 2020"
   ]
  },
  {
   "cell_type": "markdown",
   "id": "ab0dcd64",
   "metadata": {},
   "source": [
    "## Define request"
   ]
  },
  {
   "cell_type": "code",
   "execution_count": null,
   "id": "f7e7847c-0896-43ab-8160-9757949fd33d",
   "metadata": {},
   "outputs": [],
   "source": [
    "collection_id = \"derived-gridded-glacier-mass-change\"\n",
    "request = {\n",
    "    \"variable\": \"glacier_mass_change\",\n",
    "    \"product_version\": \"wgms_fog_2022_09\",\n",
    "    \"format\": \"zip\",\n",
    "    \"hydrological_year\": [\n",
    "        f\"{year}_{str(year + 1)[-2:]}\" for year in range(year_start, year_stop + 1)\n",
    "    ],\n",
    "}"
   ]
  },
  {
   "cell_type": "markdown",
   "id": "972e3bb1-1db8-4fe1-8aaf-443214255e93",
   "metadata": {},
   "source": [
    "## Function to cache"
   ]
  },
  {
   "cell_type": "code",
   "execution_count": null,
   "id": "707fd7ec-04da-4171-b26e-6e4fcf618f4d",
   "metadata": {},
   "outputs": [],
   "source": [
    "def spatial_sum(ds):\n",
    "    return ds.sum((\"latitude\", \"longitude\"), keep_attrs=True)"
   ]
  },
  {
   "cell_type": "markdown",
   "id": "725d6e7c",
   "metadata": {},
   "source": [
    "## Download data"
   ]
  },
  {
   "cell_type": "code",
   "execution_count": null,
   "id": "8ce761ab-4b95-4878-aff5-f71e5db10586",
   "metadata": {},
   "outputs": [],
   "source": [
    "ds = download.download_and_transform(\n",
    "    collection_id,\n",
    "    request,\n",
    "    chunks={\"hydrological_year\": 1},\n",
    "    transform_func=spatial_sum,\n",
    ").compute()\n",
    "\n",
    "# Customize attributes\n",
    "ds[\"time\"] = ds[\"time\"].dt.year\n",
    "ds[\"time\"].attrs |= {\"long_name\": \"Time\", \"units\": \"yr\"}\n",
    "for da in ds.data_vars.values():\n",
    "    da.attrs[\"long_name\"] = da.attrs[\"long_name\"].replace(\"_\", \" \").title()\n",
    "\n",
    "# Compute and add cumulative\n",
    "cumulative = ds[\"Glacier\"].cumsum(\"time\")\n",
    "cumulative.attrs = {\n",
    "    \"units\": ds[\"Glacier\"].attrs[\"units\"],\n",
    "    \"long_name\": f\"Cumulative {ds['Glacier'].attrs['long_name']}\",\n",
    "}\n",
    "ds[\"Cumulative\"] = cumulative"
   ]
  },
  {
   "cell_type": "markdown",
   "id": "710f67e4",
   "metadata": {},
   "source": [
    "## Plot timeseries"
   ]
  },
  {
   "cell_type": "code",
   "execution_count": null,
   "id": "96a4f1d2-ea4a-4cc2-be39-58a712810c9f",
   "metadata": {},
   "outputs": [],
   "source": [
    "for vars, title in zip(\n",
    "    ([\"Glacier\", \"Uncertainty\"], [\"Glacier\", \"Cumulative\"]),\n",
    "    (\n",
    "        \"Total annual glacier mass changes and its uncertainties.\",\n",
    "        \"The (cumulative) annual glacier mass changes at the global scale\",\n",
    "    ),\n",
    "):\n",
    "    fig, axs = plt.subplots(2, 1, layout=\"constrained\")\n",
    "    for ax, da in zip(axs, ds[vars].values()):\n",
    "        da.plot(ax=ax)\n",
    "        ax.grid()\n",
    "        ax.set_title(da.attrs[\"long_name\"])\n",
    "    fig.suptitle(title)"
   ]
  },
  {
   "cell_type": "markdown",
   "id": "523ac7bf",
   "metadata": {},
   "source": [
    "## Plot timeseries on top of errors"
   ]
  },
  {
   "cell_type": "code",
   "execution_count": null,
   "id": "b8fc24b4-44ae-4943-953d-f6ed5d6234a2",
   "metadata": {},
   "outputs": [],
   "source": [
    "fig, ax = plt.subplots()\n",
    "line = ds[\"Glacier\"]\n",
    "error = ds[\"Uncertainty\"] / 2\n",
    "ax.fill_between(line[\"time\"], line - error, line + error, alpha=0.5)\n",
    "line.plot(ax=ax, color=\"k\")\n",
    "ax.grid()\n",
    "_ = ax.set_title(\"Glacier mass change and its uncertainty\")\n",
    "_ = fig.suptitle(\"Total annual glacier mass changes and its uncertainty.\")"
   ]
  },
  {
   "cell_type": "markdown",
   "id": "901b7842-1b5e-49a2-a43f-e69793c8db89",
   "metadata": {},
   "source": [
    "## Compute and plot trends"
   ]
  },
  {
   "cell_type": "code",
   "execution_count": null,
   "id": "be9ff11d-ce82-46a2-87ef-aefcbb04a45c",
   "metadata": {},
   "outputs": [],
   "source": [
    "da = ds[\"Cumulative\"]\n",
    "\n",
    "# Significance\n",
    "_, p_value = scipy.stats.kendalltau(da[\"time\"], da)\n",
    "significance_level = 0.05\n",
    "is_significant = p_value < significance_level\n",
    "print(\n",
    "    \" \".join(\n",
    "        [\n",
    "            \"The obtained linear trend of the mass changes of the glaciers over time\",\n",
    "            \"is significant\" if is_significant else \"is not significant\",\n",
    "            f\"at an alpha level of {significance_level}, i.e. a monotonic trend\",\n",
    "            \"is present\" if is_significant else \"is not present\",\n",
    "            \".\",\n",
    "        ]\n",
    "    )\n",
    ")\n",
    "\n",
    "# Plot\n",
    "fig, ax = plt.subplots()\n",
    "for label, degree in zip(\n",
    "    (\n",
    "        \"Linear\",\n",
    "        \"Quadratic\",\n",
    "    ),\n",
    "    (1, 2),\n",
    "):\n",
    "    coeffs = da.polyfit(\"time\", degree)[\"polyfit_coefficients\"]\n",
    "    equation = []\n",
    "    for deg, coeff in coeffs.groupby(\"degree\"):\n",
    "        equation.append(\n",
    "            f\"{float(coeff):+.3f}{'x' if deg else ''}{f'$^{deg}$' if deg>1 else ''}\"\n",
    "        )\n",
    "    label = f\"{label}: {' '.join(equation[::-1])}\"\n",
    "    if degree == 1:\n",
    "        label += f\"\\np-value = {p_value:.3f}\"\n",
    "    fit = xr.polyval(da[\"time\"], coeffs)\n",
    "    fit.plot(label=label, ax=ax)\n",
    "da.plot(label=\"Cumulative\", ax=ax)\n",
    "ax.set_title(\"Cumulative glacier mass change\")\n",
    "ax.grid()\n",
    "ax.legend(bbox_to_anchor=(1, 1), loc=\"upper left\")\n",
    "_ = fig.suptitle(\n",
    "    \"The (cumulative) annual glacier mass changes at the global scale and its linear/quadratic trend.\"\n",
    ")"
   ]
  }
 ],
 "metadata": {
  "kernelspec": {
   "display_name": "Python 3 (ipykernel)",
   "language": "python",
   "name": "python3"
  },
  "language_info": {
   "codemirror_mode": {
    "name": "ipython",
    "version": 3
   },
   "file_extension": ".py",
   "mimetype": "text/x-python",
   "name": "python",
   "nbconvert_exporter": "python",
   "pygments_lexer": "ipython3",
   "version": "3.10.13"
  }
 },
 "nbformat": 4,
 "nbformat_minor": 5
}
