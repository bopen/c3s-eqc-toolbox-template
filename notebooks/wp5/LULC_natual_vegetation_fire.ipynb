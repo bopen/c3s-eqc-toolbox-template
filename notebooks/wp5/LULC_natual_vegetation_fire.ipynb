{
 "cells": [
  {
   "cell_type": "markdown",
   "metadata": {},
   "source": [
    "# Impact Indicators: the probability of fire in natural vegetation Land Use Land Cover (LULC) classes"
   ]
  },
  {
   "cell_type": "markdown",
   "metadata": {},
   "source": [
    "## Import libraries"
   ]
  },
  {
   "cell_type": "code",
   "execution_count": null,
   "metadata": {},
   "outputs": [],
   "source": [
    "import cartopy.crs as ccrs\n",
    "import geopandas as gpd\n",
    "import matplotlib.pyplot as plt\n",
    "import numpy as np\n",
    "import pandas as pd\n",
    "import regionmask\n",
    "import xarray as xr\n",
    "from c3s_eqc_automatic_quality_control import download, plot, utils\n",
    "\n",
    "plt.style.use(\"seaborn-v0_8-notebook\")"
   ]
  },
  {
   "cell_type": "markdown",
   "metadata": {},
   "source": [
    "## Set paremeters"
   ]
  },
  {
   "cell_type": "code",
   "execution_count": null,
   "metadata": {},
   "outputs": [],
   "source": [
    "# Region of interest\n",
    "lon_slice = slice(-10, -6)\n",
    "lat_slice = slice(43, 36)\n",
    "\n",
    "# Shapefile with regions\n",
    "shapefile_url = \"https://gisco-services.ec.europa.eu/distribution/v2/nuts/shp/NUTS_RG_20M_2021_4326.shp.zip\"\n",
    "\n",
    "# Define forest codes\n",
    "forest_codes = [50, 60, 61, 62, 70, 71, 72, 80, 81, 82, 90, 100, 160, 170]"
   ]
  },
  {
   "cell_type": "markdown",
   "metadata": {},
   "source": [
    "## Define request"
   ]
  },
  {
   "cell_type": "code",
   "execution_count": null,
   "metadata": {},
   "outputs": [],
   "source": [
    "# Define request\n",
    "request = (\n",
    "    \"satellite-fire-burned-area\",\n",
    "    {\n",
    "        \"format\": \"zip\",\n",
    "        \"origin\": \"esa_cci\",\n",
    "        \"sensor\": \"modis\",\n",
    "        \"version\": \"5_1_1cds\",\n",
    "        \"region\": \"europe\",\n",
    "        \"year\": [\"2016\", \"2017\", \"2018\", \"2019\"],\n",
    "        \"variable\": \"pixel_variables\",\n",
    "        \"month\": \"06\",\n",
    "        \"nominal_day\": \"01\",\n",
    "    },\n",
    ")"
   ]
  },
  {
   "cell_type": "markdown",
   "metadata": {},
   "source": [
    "## Download and transform"
   ]
  },
  {
   "cell_type": "code",
   "execution_count": null,
   "metadata": {},
   "outputs": [],
   "source": [
    "# Download and regionalize\n",
    "ds = download.download_and_transform(\n",
    "    *request,\n",
    "    transform_func=utils.regionalise,\n",
    "    transform_func_kwargs={\"lon_slice\": lon_slice, \"lat_slice\": lat_slice},\n",
    "    chunks={\"year\": 1},\n",
    ")\n",
    "ds = ds.rio.write_crs(4326)\n",
    "ds[\"time\"] = (ds[\"time\"] + pd.Timedelta(\"1D\")).dt.strftime(\"%Y-%m\")"
   ]
  },
  {
   "cell_type": "markdown",
   "metadata": {},
   "source": [
    "## Compute cell area"
   ]
  },
  {
   "cell_type": "code",
   "execution_count": null,
   "metadata": {},
   "outputs": [],
   "source": [
    "scaling_factor = 0.002778\n",
    "resolution_km = scaling_factor * 111.195\n",
    "indexes = xr.DataArray(range(ds.sizes[\"latitude\"]), dims=\"latitude\")\n",
    "lats = ds[\"latitude\"].max() - indexes * scaling_factor\n",
    "grid_cell_area = resolution_km**2 * np.cos(np.radians(lats))\n",
    "grid_cell_area.attrs = {\n",
    "    \"standard_name\": \"cell_area\",\n",
    "    \"long_name\": \"Area\",\n",
    "    \"units\": \"km2\",\n",
    "}\n",
    "ds = ds.assign_coords(cell_area=grid_cell_area)"
   ]
  },
  {
   "cell_type": "markdown",
   "metadata": {},
   "source": [
    "## Mask regions"
   ]
  },
  {
   "cell_type": "code",
   "execution_count": null,
   "metadata": {},
   "outputs": [],
   "source": [
    "gdf = gpd.read_file(shapefile_url)\n",
    "gdf = gdf[(gdf[\"CNTR_CODE\"] == \"PT\") & (gdf[\"LEVL_CODE\"] == 2)]\n",
    "gdf = gdf[:-2]\n",
    "gdf = gdf.to_crs(epsg=4326)\n",
    "\n",
    "regions = regionmask.from_geopandas(gdf, names=\"NUTS_NAME\")\n",
    "mask = regions.mask_3D(ds)\n",
    "ds_region = ds.where(mask)\n",
    "ds_region = (\n",
    "    ds_region.assign_coords(region=ds_region[\"names\"])\n",
    "    .drop_vars(\"names\")\n",
    "    .sortby(\"region\")\n",
    ")"
   ]
  },
  {
   "cell_type": "markdown",
   "metadata": {},
   "source": [
    "## Show burned area statistics"
   ]
  },
  {
   "cell_type": "code",
   "execution_count": null,
   "metadata": {},
   "outputs": [],
   "source": [
    "burned_pixels = (\n",
    "    ds_region[\"cell_area\"].where(ds_region[\"JD\"] > 0).sum([\"latitude\", \"longitude\"])\n",
    ")\n",
    "burned_pixels.to_pandas()"
   ]
  },
  {
   "cell_type": "markdown",
   "metadata": {},
   "source": [
    "## Plot maps"
   ]
  },
  {
   "cell_type": "code",
   "execution_count": null,
   "metadata": {},
   "outputs": [],
   "source": [
    "for time, ds_time in ds.groupby(\"time\"):\n",
    "    ds_time = ds_time.squeeze()\n",
    "    fig, axs = plt.subplots(\n",
    "        nrows=1,\n",
    "        ncols=2,\n",
    "        figsize=(15, 8),\n",
    "        subplot_kw={\"projection\": ccrs.PlateCarree()},\n",
    "    )\n",
    "\n",
    "    da = ds_time[\"JD\"] > 0\n",
    "    da.attrs = {\"long_name\": \"Burned Pixels\", \"units\": \"1 = Burned, 0 = Not Burned\"}\n",
    "    plot.projected_map(da, ax=axs[0], cmap=\"Reds\", show_stats=False)\n",
    "    plot.projected_map(ds_time[\"CL\"], ax=axs[1], cmap=\"Blues\", show_stats=False)\n",
    "\n",
    "    for ax in axs:\n",
    "        ax.set_title(time)\n",
    "        gdf.boundary.plot(ax=ax, color=\"k\", transform=ccrs.PlateCarree())\n",
    "    plt.show()"
   ]
  },
  {
   "cell_type": "markdown",
   "metadata": {},
   "source": [
    "## Plot bars"
   ]
  },
  {
   "cell_type": "code",
   "execution_count": null,
   "metadata": {},
   "outputs": [],
   "source": [
    "forest_pixels = (\n",
    "    ds_region[\"cell_area\"]\n",
    "    .where(ds_region[\"LC\"].isin(forest_codes))\n",
    "    .sum([\"latitude\", \"longitude\"])\n",
    ")\n",
    "da = xr.merge(\n",
    "    [\n",
    "        burned_pixels.rename(\"Total Burned Area\"),\n",
    "        forest_pixels.rename(\"Forest Burned Area\"),\n",
    "    ]\n",
    ")\n",
    "df = da.to_dataframe()[[\"Total Burned Area\", \"Forest Burned Area\"]]\n",
    "\n",
    "\n",
    "ylim = [0, 100 * (np.ceil(df.max().max() / 100))]\n",
    "for region, df_region in df.reset_index().groupby(\"region\"):\n",
    "    df_region.plot.bar(\n",
    "        x=\"time\",\n",
    "        grid=True,\n",
    "        ylim=ylim,\n",
    "        title=region,\n",
    "        color=[\"orange\", \"green\"],\n",
    "        ylabel=\"Burned Area (km²)\",\n",
    "        xlabel=\"Time\",\n",
    "    )"
   ]
  }
 ],
 "metadata": {
  "kernelspec": {
   "display_name": "Python 3 (ipykernel)",
   "language": "python",
   "name": "python3"
  },
  "language_info": {
   "codemirror_mode": {
    "name": "ipython",
    "version": 3
   },
   "file_extension": ".py",
   "mimetype": "text/x-python",
   "name": "python",
   "nbconvert_exporter": "python",
   "pygments_lexer": "ipython3",
   "version": "3.11.10"
  }
 },
 "nbformat": 4,
 "nbformat_minor": 4
}
