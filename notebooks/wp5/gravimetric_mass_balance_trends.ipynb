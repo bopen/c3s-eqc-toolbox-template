{
 "cells": [
  {
   "cell_type": "markdown",
   "id": "0",
   "metadata": {},
   "source": [
    "# A study on the monthly and annual variability of the Greenland (GrIS) and Antarctic Ice Sheet (AIS) gravimetric mass balance (GMB) and its trend over time."
   ]
  },
  {
   "cell_type": "markdown",
   "id": "1",
   "metadata": {},
   "source": [
    "## Import packages"
   ]
  },
  {
   "cell_type": "code",
   "execution_count": null,
   "id": "2",
   "metadata": {},
   "outputs": [],
   "source": [
    "import calendar\n",
    "\n",
    "import matplotlib.pyplot as plt\n",
    "import pandas as pd\n",
    "import pwlf\n",
    "import scipy.stats\n",
    "import xarray as xr\n",
    "from c3s_eqc_automatic_quality_control import download\n",
    "\n",
    "plt.style.use(\"seaborn-v0_8-notebook\")"
   ]
  },
  {
   "cell_type": "markdown",
   "id": "3",
   "metadata": {},
   "source": [
    "## Define Parameters"
   ]
  },
  {
   "cell_type": "code",
   "execution_count": null,
   "id": "4",
   "metadata": {},
   "outputs": [],
   "source": [
    "variables = [\"GrIS_total\", \"AntIS_total\"]"
   ]
  },
  {
   "cell_type": "markdown",
   "id": "5",
   "metadata": {},
   "source": [
    "## Define request"
   ]
  },
  {
   "cell_type": "code",
   "execution_count": null,
   "id": "6",
   "metadata": {},
   "outputs": [],
   "source": [
    "collection_id = \"satellite-ice-sheet-mass-balance\"\n",
    "request = {\n",
    "    \"variable\": \"all\",\n",
    "    \"format\": \"zip\",\n",
    "}"
   ]
  },
  {
   "cell_type": "markdown",
   "id": "7",
   "metadata": {},
   "source": [
    "## Download data"
   ]
  },
  {
   "cell_type": "code",
   "execution_count": null,
   "id": "8",
   "metadata": {},
   "outputs": [],
   "source": [
    "ds = download.download_and_transform(collection_id, request)\n",
    "ds_err = ds[[f\"{var}_er\" for var in variables]].compute()\n",
    "ds = ds[variables].compute()"
   ]
  },
  {
   "cell_type": "markdown",
   "id": "9",
   "metadata": {},
   "source": [
    "## Compute cumulative and non-cumulative mass change"
   ]
  },
  {
   "cell_type": "code",
   "execution_count": null,
   "id": "10",
   "metadata": {},
   "outputs": [],
   "source": [
    "year_to_ns = 1.0e9 * 60 * 60 * 24 * 365\n",
    "with xr.set_options(keep_attrs=True):\n",
    "    ds = ds - ds.isel(time=0)\n",
    "for var, da in ds.data_vars.items():\n",
    "    da.attrs[\"region\"] = da.attrs[\"long_name\"].split(\"_\", 1)[0].title()\n",
    "    da.attrs[\"long_name\"] = \"Ice Mass Change\"\n",
    "for var, da in ds_err.data_vars.items():\n",
    "    da.attrs[\"units\"] += \"/month\"\n",
    "    da.attrs[\"region\"] = da.attrs[\"long_name\"].split(\"_\", 1)[0].title()\n",
    "    da.attrs[\"long_name\"] = \"Ice Mass Error\"\n",
    "\n",
    "with xr.set_options(keep_attrs=True):\n",
    "    ds_diff = ds.diff(\"time\") / ds[\"time\"].diff(\"time\").astype(int)\n",
    "    ds_diff *= year_to_ns / 12\n",
    "for da in ds_diff.data_vars.values():\n",
    "    da.attrs[\"long_name\"] = da.attrs[\"long_name\"].replace(\"Ice \", \"\")\n",
    "    da.attrs[\"units\"] += \"/month\""
   ]
  },
  {
   "cell_type": "markdown",
   "id": "11",
   "metadata": {},
   "source": [
    "## Find missing months"
   ]
  },
  {
   "cell_type": "code",
   "execution_count": null,
   "id": "12",
   "metadata": {},
   "outputs": [],
   "source": [
    "start, end = ds[\"time\"].isel(time=[0, -1]).dt.strftime(\"%d/%m/%Y\").values.tolist()\n",
    "\n",
    "for string, date in zip((\"start\", \"end\"), (start, end)):\n",
    "    print(f\"The {string:^5} date of the time series is\", date)\n",
    "\n",
    "expected = len(pd.date_range(start, end, freq=\"M\", inclusive=\"both\"))\n",
    "actual = len(set(ds[\"time\"].dt.strftime(\"%Y%m\").values))\n",
    "for string, date in zip((\"expected\", \"present\"), (expected, actual)):\n",
    "    print(f\"The amount of months that is {string} between these two dates is\", date)\n",
    "\n",
    "missing = 100 * abs(expected - actual) / expected\n",
    "print(f\"The amount of missing months is {missing:.2f}%\")\n",
    "\n",
    "(12 * ds[\"time\"].diff(\"time\").astype(int) / year_to_ns).plot()\n",
    "plt.ylabel(\"Time gap [month]\")\n",
    "plt.grid()"
   ]
  },
  {
   "cell_type": "markdown",
   "id": "13",
   "metadata": {},
   "source": [
    "## Define plotting function"
   ]
  },
  {
   "cell_type": "code",
   "execution_count": null,
   "id": "14",
   "metadata": {},
   "outputs": [],
   "source": [
    "def plot_timeseries(ds):\n",
    "    fig, axs = plt.subplots(len(variables), 1, layout=\"constrained\")\n",
    "    for ax, da in zip(axs, ds.data_vars.values()):\n",
    "        da.plot(ax=ax, marker=\".\")\n",
    "        ax.set_title(f\"{da.attrs['region']} Ice Sheet\")\n",
    "        ax.grid()\n",
    "    return fig, axs"
   ]
  },
  {
   "cell_type": "markdown",
   "id": "15",
   "metadata": {},
   "source": [
    "## Plot cumulative timeseries"
   ]
  },
  {
   "cell_type": "code",
   "execution_count": null,
   "id": "16",
   "metadata": {},
   "outputs": [],
   "source": [
    "fig, axs = plot_timeseries(ds)\n",
    "_ = fig.suptitle(\"Cumulative mass change of the ice sheets from GRACE(-FO).\")"
   ]
  },
  {
   "cell_type": "markdown",
   "id": "17",
   "metadata": {},
   "source": [
    "## Plot non-cumulative timeseries"
   ]
  },
  {
   "cell_type": "code",
   "execution_count": null,
   "id": "18",
   "metadata": {},
   "outputs": [],
   "source": [
    "fig, axs = plot_timeseries(ds_diff)\n",
    "_ = fig.suptitle(\"Non-cumulative monthly ice mass changes of the ice sheets.\")"
   ]
  },
  {
   "cell_type": "markdown",
   "id": "19",
   "metadata": {},
   "source": [
    "## Plot error"
   ]
  },
  {
   "cell_type": "code",
   "execution_count": null,
   "id": "20",
   "metadata": {},
   "outputs": [],
   "source": [
    "fig, axs = plot_timeseries(ds_err)\n",
    "_ = fig.suptitle(\"Error estimate of the mass change of the ice sheets from GRACE(-FO).\")"
   ]
  },
  {
   "cell_type": "markdown",
   "id": "21",
   "metadata": {},
   "source": [
    "## Plot errorbar"
   ]
  },
  {
   "cell_type": "code",
   "execution_count": null,
   "id": "22",
   "metadata": {},
   "outputs": [],
   "source": [
    "fig, axs = plt.subplots(len(variables), 1, layout=\"constrained\")\n",
    "for ax, da in zip(axs, ds.data_vars.values()):\n",
    "    yerr = ds_err[f\"{da.name}_er\"]\n",
    "    total_err = (yerr**2).sum() ** (1 / 2)\n",
    "    print(f\"{da.attrs['region']}:\")\n",
    "    print(\n",
    "        \"\\tThe average mass change error of the Ice Sheet is \"\n",
    "        f\"{yerr.mean().values:.2f} {yerr.attrs['units']}.\"\n",
    "    )\n",
    "    print(\n",
    "        \"\\tThe cumulative mass change of the Ice Sheet is \"\n",
    "        f\"{da.dropna('time')[-1].values:.2f} ± {total_err.values:.2f} {da.attrs['units']}.\"\n",
    "    )\n",
    "    da.to_pandas().plot(\n",
    "        ax=ax,\n",
    "        yerr=yerr,\n",
    "        ecolor=\"k\",\n",
    "        elinewidth=0.25,\n",
    "        capsize=2,\n",
    "        capthick=1,\n",
    "        grid=True,\n",
    "        title=f\"{da.attrs['region']} Ice Sheet\",\n",
    "    )\n",
    "    ax.set_ylabel(f\"{da.attrs['long_name']} [{da.attrs['units']}]\")\n",
    "_ = fig.suptitle(\"Cumulative mass change of the ice sheets from GRACE(-FO).\")"
   ]
  },
  {
   "cell_type": "markdown",
   "id": "23",
   "metadata": {},
   "source": [
    "## Plot montly boxplots"
   ]
  },
  {
   "cell_type": "code",
   "execution_count": null,
   "id": "24",
   "metadata": {},
   "outputs": [],
   "source": [
    "fig, axs = plt.subplots(len(variables), 1, layout=\"constrained\")\n",
    "for ax, da in zip(axs, ds_diff.data_vars.values()):\n",
    "    df = da.to_dataframe()\n",
    "    df[\"month\"] = df.index.month\n",
    "    df.boxplot(\n",
    "        by=\"month\",\n",
    "        ax=ax,\n",
    "        ylabel=f\"{da.attrs['long_name']} [{da.attrs['units']}]\",\n",
    "        xlabel=\"Month\",\n",
    "    )\n",
    "    ax.set_title(f\"{da.attrs['region']} Ice Sheet\")\n",
    "    ax.set_xticklabels([calendar.month_abbr[m] for m in ax.get_xticks()])\n",
    "_ = fig.suptitle(\"Monthly ice mass changes of the ice sheets from GRACE(-FO).\")"
   ]
  },
  {
   "cell_type": "markdown",
   "id": "25",
   "metadata": {},
   "source": [
    "## Compute and plot piecewise trends"
   ]
  },
  {
   "cell_type": "code",
   "execution_count": null,
   "id": "26",
   "metadata": {},
   "outputs": [],
   "source": [
    "fig, axs = plt.subplots(len(variables), 1, layout=\"constrained\")\n",
    "for ax, da, n_segments in zip(axs, ds.data_vars.values(), (4, 2)):\n",
    "    da = da.dropna(\"time\")\n",
    "    x_hat = pd.date_range(\n",
    "        *da[\"time\"].isel(time=[0, -1]).values.tolist(), inclusive=\"both\"\n",
    "    )\n",
    "    my_pwlf = pwlf.PiecewiseLinFit(da[\"time\"].values.astype(int), da)\n",
    "    breaks = my_pwlf.fit(n_segments)\n",
    "    y_hat = my_pwlf.predict(x_hat.values.astype(int))\n",
    "    da.plot(ax=ax, label=\"Data\")\n",
    "    ax.plot(x_hat, y_hat, label=\"Trend\")\n",
    "    ax.set_title(f\"{da.attrs['region']} Ice Sheet\")\n",
    "    ax.grid()\n",
    "    ax.legend()\n",
    "_ = fig.suptitle(\n",
    "    \"Cumulative mass change of the ice sheets from GRACE(-FO) and its trends.\"\n",
    ")"
   ]
  },
  {
   "cell_type": "markdown",
   "id": "27",
   "metadata": {},
   "source": [
    "## Compute and plot trends"
   ]
  },
  {
   "cell_type": "code",
   "execution_count": null,
   "id": "28",
   "metadata": {},
   "outputs": [],
   "source": [
    "fig, axs = plt.subplots(len(variables), 1, layout=\"constrained\")\n",
    "for ax, da in zip(axs, ds.data_vars.values()):\n",
    "    da = da.dropna(\"time\")\n",
    "    print(da.attrs[\"region\"] + \":\")\n",
    "    for label, degree in zip(\n",
    "        (\n",
    "            \"Linear\",\n",
    "            \"Quadratic\",\n",
    "        ),\n",
    "        (1, 2),\n",
    "    ):\n",
    "        # Compute coefficients\n",
    "        coeffs = da.polyfit(\"time\", degree)[\"polyfit_coefficients\"]\n",
    "\n",
    "        # Plot trends and print stats\n",
    "        equation = []\n",
    "        for deg, coeff in coeffs.groupby(\"degree\"):\n",
    "            coeff = coeff.squeeze() * (year_to_ns**deg)\n",
    "            if deg == degree:\n",
    "                if deg == 1:\n",
    "                    quantity = \"slope\"\n",
    "                    units = \"Gt/yr\"\n",
    "                elif deg == 2:\n",
    "                    quantity = \"acceleration\"\n",
    "                    units = \"Gt/yr^2\"\n",
    "                else:\n",
    "                    raise ValueError(f\"{deg=}\")\n",
    "                print(\n",
    "                    f\"\\tThe {quantity} of the Ice Sheet mass change is {degree*coeff:.3f} {units}.\"\n",
    "                )\n",
    "                if deg == 1:\n",
    "                    _, p_value = scipy.stats.kendalltau(da[\"time\"], da)\n",
    "                    significance_level = 0.05\n",
    "                    is_significant = p_value < significance_level\n",
    "                    print(\n",
    "                        \" \".join(\n",
    "                            [\n",
    "                                \"\\tThe trend\",\n",
    "                                \"is significant\"\n",
    "                                if is_significant\n",
    "                                else \"is not significant\",\n",
    "                                f\"at an alpha level of {significance_level}, i.e. a monotonic trend\",\n",
    "                                \"is present.\" if is_significant else \"is not present.\",\n",
    "                            ]\n",
    "                        )\n",
    "                    )\n",
    "            equation.append(\n",
    "                f\"{float(coeff):+.3f}{'x' if deg else ''}{f'$^{deg}$' if deg>1 else ''}\"\n",
    "            )\n",
    "        label = f\"{label}: {' '.join(equation[::-1])}\"\n",
    "        fit = xr.polyval(da[\"time\"], coeffs)\n",
    "        fit.plot(label=label, ax=ax)\n",
    "    da.plot(label=\"Data\", ax=ax)\n",
    "    ax.set_title(f\"{da.attrs['region']} Ice Sheet\")\n",
    "    ax.grid()\n",
    "    ax.legend()\n",
    "_ = fig.suptitle(\n",
    "    \"Cumulative mass change of the Greenland and Antarctic Ice Sheet and their trends.\"\n",
    ")"
   ]
  }
 ],
 "metadata": {
  "kernelspec": {
   "display_name": "Python 3 (ipykernel)",
   "language": "python",
   "name": "python3"
  },
  "language_info": {
   "codemirror_mode": {
    "name": "ipython",
    "version": 3
   },
   "file_extension": ".py",
   "mimetype": "text/x-python",
   "name": "python",
   "nbconvert_exporter": "python",
   "pygments_lexer": "ipython3",
   "version": "3.10.13"
  }
 },
 "nbformat": 4,
 "nbformat_minor": 5
}
