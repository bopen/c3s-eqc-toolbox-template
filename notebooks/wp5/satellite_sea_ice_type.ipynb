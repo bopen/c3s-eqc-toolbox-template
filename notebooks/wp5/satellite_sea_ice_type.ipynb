{
 "cells": [
  {
   "cell_type": "markdown",
   "id": "0",
   "metadata": {},
   "source": [
    "## Import libraries"
   ]
  },
  {
   "cell_type": "code",
   "execution_count": null,
   "id": "1",
   "metadata": {},
   "outputs": [],
   "source": [
    "import matplotlib.dates as mdates\n",
    "import matplotlib.pyplot as plt\n",
    "import pandas as pd\n",
    "import xarray as xr\n",
    "from c3s_eqc_automatic_quality_control import download\n",
    "\n",
    "plt.style.use(\"seaborn-v0_8-notebook\")"
   ]
  },
  {
   "cell_type": "markdown",
   "id": "2",
   "metadata": {},
   "source": [
    "## Set Parameters"
   ]
  },
  {
   "cell_type": "code",
   "execution_count": null,
   "id": "3",
   "metadata": {},
   "outputs": [],
   "source": [
    "start_year = 1991\n",
    "stop_year = 2020\n",
    "\n",
    "NERSC_PATH = \"/data/wp5/mangini_fabio/nersc_ice_age_v2p1\""
   ]
  },
  {
   "cell_type": "markdown",
   "id": "4",
   "metadata": {},
   "source": [
    "## Define requests"
   ]
  },
  {
   "cell_type": "code",
   "execution_count": null,
   "id": "5",
   "metadata": {},
   "outputs": [],
   "source": [
    "collection_id = \"satellite-sea-ice-edge-type\"\n",
    "\n",
    "request = {\n",
    "    \"cdr_type\": \"cdr\",\n",
    "    \"variable\": \"sea_ice_type\",\n",
    "    \"region\": \"northern_hemisphere\",\n",
    "    \"version\": \"3_0\",\n",
    "    \"day\": [f\"{day:02d}\" for day in range(1, 32)],\n",
    "}\n",
    "\n",
    "requests = [\n",
    "    request\n",
    "    | {\n",
    "        \"year\": [str(year) for year in range(start_year, stop_year)],\n",
    "        \"month\": [f\"{month:02d}\" for month in range(10, 13)],\n",
    "    },\n",
    "    request\n",
    "    | {\n",
    "        \"year\": [str(year + 1) for year in range(start_year, stop_year)],\n",
    "        \"month\": [f\"{month:02d}\" for month in range(1, 5)],\n",
    "    },\n",
    "]"
   ]
  },
  {
   "cell_type": "markdown",
   "id": "6",
   "metadata": {},
   "source": [
    "## Define functions to cache"
   ]
  },
  {
   "cell_type": "code",
   "execution_count": null,
   "id": "7",
   "metadata": {},
   "outputs": [],
   "source": [
    "def get_nersc_multiyear_ice(\n",
    "    time,\n",
    "    use_fyi,\n",
    "    age_threshold,\n",
    "    conc_threshold,\n",
    "    nersc_ice_age_path,\n",
    "):\n",
    "    paths = set(\n",
    "        time.dt.strftime(\n",
    "            f\"{nersc_ice_age_path}/%Y/arctic25km_sea_ice_age_v2p1_%Y%m%d.nc\"\n",
    "        ).values\n",
    "    )\n",
    "    ds_age = xr.open_mfdataset(paths).rename(x=\"xc\", y=\"yc\")\n",
    "\n",
    "    if age_threshold is not None:\n",
    "        assert use_fyi is False\n",
    "        assert conc_threshold is None\n",
    "        return ds_age[\"sia\"] > age_threshold\n",
    "\n",
    "    conc_myi = ds_age[\"conc_2yi\"]\n",
    "    n = 3\n",
    "    while (varname := f\"conc_{n}yi\") in ds_age.variables:\n",
    "        conc_myi += ds_age[varname]\n",
    "        n += 1\n",
    "\n",
    "    if not use_fyi:\n",
    "        return conc_myi > conc_threshold\n",
    "\n",
    "    conc_fyi = ds_age[\"conc_1yi\"]\n",
    "    if use_fyi:\n",
    "        assert conc_threshold is not None\n",
    "        return ((conc_myi + conc_fyi) > conc_threshold) & (conc_myi > conc_fyi)\n",
    "\n",
    "\n",
    "def compute_spatial_sum(da, grid_cell_area, dim=(\"xc\", \"yc\")):\n",
    "    return grid_cell_area * da.sum(dim=dim)\n",
    "\n",
    "\n",
    "def compute_sea_ice_evaluation_diagnostics(\n",
    "    ds,\n",
    "    use_ambiguous,\n",
    "    use_fyi,\n",
    "    age_threshold,\n",
    "    conc_threshold,\n",
    "):\n",
    "    # grid cell area of sea ice edge grid\n",
    "    (dx,) = set(ds[\"xc\"].diff(\"xc\").values)\n",
    "    grid_cell_area = (dx**2) * 1.0e-6  # 10^6 km2\n",
    "\n",
    "    # Masks\n",
    "    da_cds = ds.cf[\"sea_ice_classification\"]\n",
    "    da_cds = (da_cds >= 3) if use_ambiguous else (da_cds == 3)\n",
    "    da_nersc = get_nersc_multiyear_ice(\n",
    "        ds[\"time\"],\n",
    "        use_fyi=use_fyi,\n",
    "        age_threshold=age_threshold,\n",
    "        conc_threshold=conc_threshold,\n",
    "        nersc_ice_age_path=NERSC_PATH,\n",
    "    ).assign_coords(da_cds.coords)\n",
    "\n",
    "    # Fill variables\n",
    "    dataarrays = {}\n",
    "    dataarrays[\"mysi_extent\"] = compute_spatial_sum(da_cds, grid_cell_area)\n",
    "    dataarrays[\"mysi_extent\"].attrs = {\n",
    "        \"standard_name\": \"multi_year_sea_ice_extent\",\n",
    "        \"units\": \"$10^6$km$^2$\",\n",
    "        \"long_name\": \"Multi-year sea ice extent\",\n",
    "    }\n",
    "\n",
    "    dataarrays[\"mysi_extent_age\"] = compute_spatial_sum(da_nersc, grid_cell_area)\n",
    "    dataarrays[\"mysi_extent_age\"].attrs = {\n",
    "        \"standard_name\": \"multi_year_sea_ice_extent_age\",\n",
    "        \"units\": \"$10^6$km$^2$\",\n",
    "        \"long_name\": \"Multi-year sea ice extent from NERSC sea ice age product\",\n",
    "    }\n",
    "\n",
    "    over = compute_spatial_sum(da_cds & ~da_nersc, grid_cell_area)\n",
    "    under = compute_spatial_sum(~da_cds & da_nersc, grid_cell_area)\n",
    "    dataarrays[\"mysi_extent_bias\"] = over - under\n",
    "    dataarrays[\"mysi_extent_bias\"].attrs = {\n",
    "        \"standard_name\": \"multi_year_sea_ice_extent_bias\",\n",
    "        \"units\": \"$10^6$km$^2$\",\n",
    "        \"long_name\": \"Multi-year sea ice extent bias\",\n",
    "    }\n",
    "\n",
    "    dataarrays[\"iite\"] = over + under\n",
    "    dataarrays[\"iite\"].attrs = {\n",
    "        \"standard_name\": \"integrated_ice_type_error\",\n",
    "        \"units\": \"$10^6$km$^2$\",\n",
    "        \"long_name\": \"Integrated ice type error\",\n",
    "    }\n",
    "    return xr.Dataset(dataarrays)"
   ]
  },
  {
   "cell_type": "markdown",
   "id": "8",
   "metadata": {},
   "source": [
    "## Download and transform"
   ]
  },
  {
   "cell_type": "code",
   "execution_count": null,
   "id": "9",
   "metadata": {},
   "outputs": [],
   "source": [
    "datasets = []\n",
    "for use_ambiguous in (True, False):\n",
    "    print(f\"{use_ambiguous=}\")\n",
    "    ds = download.download_and_transform(\n",
    "        collection_id,\n",
    "        requests,\n",
    "        transform_func=compute_sea_ice_evaluation_diagnostics,\n",
    "        transform_func_kwargs={\n",
    "            \"use_ambiguous\": use_ambiguous,\n",
    "            \"use_fyi\": True,\n",
    "            \"age_threshold\": None,\n",
    "            \"conc_threshold\": 0.15,\n",
    "        },\n",
    "        chunks={\"year\": 1},\n",
    "    )\n",
    "    datasets.append(ds.expand_dims(use_ambiguous=[use_ambiguous]).compute())\n",
    "ds_timeseries = xr.concat(datasets, \"use_ambiguous\")"
   ]
  },
  {
   "cell_type": "markdown",
   "id": "10",
   "metadata": {},
   "source": [
    "## Plotting functions"
   ]
  },
  {
   "cell_type": "code",
   "execution_count": null,
   "id": "11",
   "metadata": {},
   "outputs": [],
   "source": [
    "def rearrange_year_vs_monthday(ds):\n",
    "    ds = ds.convert_calendar(\"noleap\")\n",
    "    coords = {\n",
    "        \"year\": (\"time\", ds[\"time\"].dt.year.values),\n",
    "        \"monthday\": (\"time\", ds[\"time\"].dt.strftime(\"%m-%d\").values),\n",
    "    }\n",
    "    ds = ds.assign_coords(coords)\n",
    "    return ds.set_index(time=tuple(coords)).unstack(\"time\")\n",
    "\n",
    "\n",
    "def plot_against_monthday(\n",
    "    ds,\n",
    "    cmap=\"viridis\",\n",
    "    **kwargs,\n",
    "):\n",
    "    defaults = {\n",
    "        \"row\": \"variable\",\n",
    "        \"x\": \"time\",\n",
    "        \"hue\": \"year\",\n",
    "        \"add_legend\": False,\n",
    "        \"figsize\": (8, 8),\n",
    "    }\n",
    "    kwargs = defaults | kwargs\n",
    "\n",
    "    ds = rearrange_year_vs_monthday(ds)\n",
    "\n",
    "    da = ds.to_array()\n",
    "    time = pd.to_datetime(\n",
    "        [\n",
    "            f\"200{'1' if int(monthday[:2]) >= 10 else '2'}-{monthday}\"\n",
    "            for monthday in da[\"monthday\"].values\n",
    "        ]\n",
    "    )\n",
    "    da = da.assign_coords(time=(\"monthday\", time))\n",
    "\n",
    "    colors = plt.get_cmap(cmap, da.sizes[\"year\"]).colors\n",
    "    with plt.rc_context({\"axes.prop_cycle\": plt.cycler(color=colors)}):\n",
    "        facet = da.plot(**kwargs)\n",
    "\n",
    "    for ax, sel_dict in zip(facet.axs.flatten(), facet.name_dicts.flatten()):\n",
    "        ax.set_ylabel(ds[sel_dict[\"variable\"]].attrs[\"units\"])\n",
    "        ax.grid()\n",
    "        ax.xaxis.set_major_formatter(mdates.DateFormatter(\"%d %b\"))\n",
    "        ax.xaxis.set_tick_params(rotation=45)\n",
    "\n",
    "    scalar_mappable = plt.cm.ScalarMappable(\n",
    "        cmap=cmap,\n",
    "        norm=plt.Normalize(vmin=da[\"year\"].min(), vmax=da[\"year\"].max()),\n",
    "    )\n",
    "    facet.fig.colorbar(scalar_mappable, ax=facet.axs, label=\"year\")\n",
    "    return facet"
   ]
  },
  {
   "cell_type": "markdown",
   "id": "12",
   "metadata": {},
   "source": [
    "## Plot timeseries"
   ]
  },
  {
   "cell_type": "code",
   "execution_count": null,
   "id": "13",
   "metadata": {},
   "outputs": [],
   "source": [
    "for use_ambiguous, ds in ds_timeseries.groupby(\"use_ambiguous\"):\n",
    "    facet = plot_against_monthday(ds, sharey=False)\n",
    "    facet.fig.suptitle(f\"{use_ambiguous=}\", y=1.01)\n",
    "    plt.show()"
   ]
  }
 ],
 "metadata": {
  "kernelspec": {
   "display_name": "Python 3 (ipykernel)",
   "language": "python",
   "name": "python3"
  },
  "language_info": {
   "codemirror_mode": {
    "name": "ipython",
    "version": 3
   },
   "file_extension": ".py",
   "mimetype": "text/x-python",
   "name": "python",
   "nbconvert_exporter": "python",
   "pygments_lexer": "ipython3",
   "version": "3.11.7"
  }
 },
 "nbformat": 4,
 "nbformat_minor": 5
}
