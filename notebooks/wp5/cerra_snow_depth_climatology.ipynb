{
 "cells": [
  {
   "attachments": {},
   "cell_type": "markdown",
   "id": "280a11fb",
   "metadata": {},
   "source": [
    "# CERRA snow-depth climatology"
   ]
  },
  {
   "attachments": {},
   "cell_type": "markdown",
   "id": "e7acd446",
   "metadata": {},
   "source": [
    "## Import packages"
   ]
  },
  {
   "cell_type": "code",
   "execution_count": null,
   "id": "72d7c509",
   "metadata": {},
   "outputs": [],
   "source": [
    "import calendar\n",
    "\n",
    "import cartopy.crs as ccrs\n",
    "import matplotlib.pyplot as plt\n",
    "import numpy as np\n",
    "import xarray as xr\n",
    "from c3s_eqc_automatic_quality_control import download, plot, utils\n",
    "\n",
    "plt.style.use(\"seaborn-v0_8-notebook\")"
   ]
  },
  {
   "attachments": {},
   "cell_type": "markdown",
   "id": "1ea0863e",
   "metadata": {},
   "source": [
    "## Define Parameters"
   ]
  },
  {
   "cell_type": "code",
   "execution_count": null,
   "id": "dfbd64f1-9088-4eb2-bc93-05eca574ba40",
   "metadata": {},
   "outputs": [],
   "source": [
    "# Select climatology periods\n",
    "years_start = [1986, 1990]\n",
    "years_stop = [2016, 2020]\n",
    "assert len(years_start) == len(years_stop)\n",
    "\n",
    "# Select month of interest\n",
    "month = 1\n",
    "assert month in range(1, 13), f\"{month=} is invalid\"\n",
    "\n",
    "# Select region of interest\n",
    "region = \"Alps\"\n",
    "region_slices = {\n",
    "    \"Alps\": {\"lon_slice\": slice(5, 15), \"lat_slice\": slice(48, 43)},\n",
    "    \"Scandinavia\": {\"lon_slice\": slice(10, 42), \"lat_slice\": slice(72, 62)},\n",
    "    \"Lazio\": {\"lon_slice\": slice(11, 14), \"lat_slice\": slice(43, 41)},\n",
    "    \"Italy\": {\"lon_slice\": slice(6, 19), \"lat_slice\": slice(48, 36)},\n",
    "}\n",
    "assert region in region_slices, f\"{region=} is invalid\""
   ]
  },
  {
   "attachments": {},
   "cell_type": "markdown",
   "id": "e637aca5",
   "metadata": {},
   "source": [
    "## Define request"
   ]
  },
  {
   "cell_type": "code",
   "execution_count": null,
   "id": "7c51f162-9045-4be9-b8f5-003562811dc8",
   "metadata": {},
   "outputs": [],
   "source": [
    "collection_id = \"reanalysis-cerra-single-levels\"\n",
    "request = {\n",
    "    \"variable\": \"snow_depth\",\n",
    "    \"level_type\": \"surface_or_atmosphere\",\n",
    "    \"data_type\": \"reanalysis\",\n",
    "    \"product_type\": \"analysis\",\n",
    "    \"time\": [f\"{i:02d}:00\" for i in range(0, 24, 3)],\n",
    "    \"format\": \"grib\",\n",
    "}"
   ]
  },
  {
   "attachments": {},
   "cell_type": "markdown",
   "id": "2124a3a1",
   "metadata": {},
   "source": [
    "## Functions to cache"
   ]
  },
  {
   "cell_type": "code",
   "execution_count": null,
   "id": "5d57b6b4-6f81-4340-9f00-2e849984fac5",
   "metadata": {},
   "outputs": [],
   "source": [
    "def regionalised_max(ds, lon_slice, lat_slice):\n",
    "    time = ds[\"forecast_reference_time\"].mean()\n",
    "    ds = utils.regionalise(ds, lon_slice=lon_slice, lat_slice=lat_slice)\n",
    "    ds = ds.max(\"forecast_reference_time\", keep_attrs=True)\n",
    "    return ds.expand_dims(time=[time.values])"
   ]
  },
  {
   "attachments": {},
   "cell_type": "markdown",
   "id": "efd61185",
   "metadata": {},
   "source": [
    "## Download and transform"
   ]
  },
  {
   "cell_type": "code",
   "execution_count": null,
   "id": "712f10b8-3c01-4994-b48b-ac73955007ad",
   "metadata": {},
   "outputs": [],
   "source": [
    "dataarrays = []\n",
    "for year_start, year_stop in zip(years_start, years_stop):\n",
    "    requests = []\n",
    "    for year in range(year_start, year_stop + 1):\n",
    "        time_request = {\n",
    "            \"year\": year,\n",
    "            \"month\": month,\n",
    "            \"day\": list(range(1, calendar.monthrange(year, month)[1] + 1)),\n",
    "        }\n",
    "        requests.append(request | time_request)\n",
    "    ds = download.download_and_transform(\n",
    "        collection_id,\n",
    "        requests,\n",
    "        transform_func=regionalised_max,\n",
    "        transform_func_kwargs=region_slices[region],\n",
    "    )\n",
    "    (varname,) = ds.data_vars\n",
    "    da = ds[varname].max(\"time\", keep_attrs=True)\n",
    "    dataarrays.append(da.expand_dims(period=[f\"{year_start}-{year_stop}\"]))\n",
    "da = xr.concat(dataarrays, \"period\")"
   ]
  },
  {
   "attachments": {},
   "cell_type": "markdown",
   "id": "bcf2e2f8",
   "metadata": {},
   "source": [
    "## Plot maps"
   ]
  },
  {
   "cell_type": "code",
   "execution_count": null,
   "id": "8c2d93fb-34b4-4b53-a918-78a133966097",
   "metadata": {},
   "outputs": [],
   "source": [
    "lon_slice = region_slices[region][\"lon_slice\"]\n",
    "lat_slice = region_slices[region][\"lat_slice\"]\n",
    "projection = ccrs.LambertConformal(\n",
    "    central_longitude=(lon_slice.start + lon_slice.stop) / 2,\n",
    "    central_latitude=(lat_slice.start + lat_slice.stop) / 2,\n",
    ")\n",
    "\n",
    "facet_obj = plot.projected_map(\n",
    "    da, projection=projection, col=\"period\", cmap=\"CMRmap_r\", robust=True\n",
    ")\n",
    "for i, ax in enumerate(facet_obj.axs.flatten()):\n",
    "    gl = ax.gridlines(x_inline=False)\n",
    "    gl.bottom_labels = True\n",
    "    gl.left_labels = False if i else True\n",
    "    gl.xlabel_style = {\"rotation\": 0}\n",
    "_ = plt.suptitle(calendar.month_name[month])"
   ]
  },
  {
   "attachments": {},
   "cell_type": "markdown",
   "id": "96941e66",
   "metadata": {},
   "source": [
    "## Plot pdf"
   ]
  },
  {
   "cell_type": "code",
   "execution_count": null,
   "id": "e24eb9bb-b4d6-4b63-99b4-e604763282e8",
   "metadata": {},
   "outputs": [],
   "source": [
    "bins = np.linspace(da.min(), da.max(), 30)\n",
    "hist_dataarrays = []\n",
    "for period, da_period in da.groupby(\"period\"):\n",
    "    hist, _ = np.histogram(da_period, bins=bins, density=True)\n",
    "    hist_dataarrays.append(xr.DataArray(hist, dims=\"bins\").expand_dims(period=[period]))\n",
    "da_hist = xr.concat(hist_dataarrays, \"period\")\n",
    "da_hist = da_hist.assign_coords(bins=(bins[1:] + bins[:-1]) / 2)\n",
    "da_hist[\"bins\"].attrs = da.attrs\n",
    "da_hist.attrs[\"long_name\"] = \"Probability Density\"\n",
    "\n",
    "fig, ax = plt.subplots()\n",
    "ax.set_prop_cycle(color=[\"darkorange\", \"red\"])\n",
    "da_hist.plot(hue=\"period\", yscale=\"log\")\n",
    "_ = plt.title(calendar.month_name[month])"
   ]
  }
 ],
 "metadata": {
  "kernelspec": {
   "display_name": "Python 3 (ipykernel)",
   "language": "python",
   "name": "python3"
  },
  "language_info": {
   "codemirror_mode": {
    "name": "ipython",
    "version": 3
   },
   "file_extension": ".py",
   "mimetype": "text/x-python",
   "name": "python",
   "nbconvert_exporter": "python",
   "pygments_lexer": "ipython3",
   "version": "3.10.12"
  }
 },
 "nbformat": 4,
 "nbformat_minor": 5
}
