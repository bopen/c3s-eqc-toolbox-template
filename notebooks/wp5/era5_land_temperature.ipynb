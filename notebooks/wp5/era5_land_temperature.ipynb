{
 "cells": [
  {
   "attachments": {},
   "cell_type": "markdown",
   "id": "80aaf555",
   "metadata": {},
   "source": [
    "# Trend analysis: Check significant increasing of summer temperature with ERA5-Land monthly aggregated data"
   ]
  },
  {
   "attachments": {},
   "cell_type": "markdown",
   "id": "71b9c47e",
   "metadata": {},
   "source": [
    "## Import packages"
   ]
  },
  {
   "cell_type": "code",
   "execution_count": null,
   "id": "66b9ede3",
   "metadata": {},
   "outputs": [],
   "source": [
    "import cartopy.crs as ccrs\n",
    "import matplotlib.pyplot as plt\n",
    "import pymannkendall as mk\n",
    "import xarray as xr\n",
    "from c3s_eqc_automatic_quality_control import diagnostics, download, plot\n",
    "\n",
    "plt.style.use(\"seaborn-v0_8-notebook\")"
   ]
  },
  {
   "attachments": {},
   "cell_type": "markdown",
   "id": "612b6f75",
   "metadata": {},
   "source": [
    "## Set variables for request"
   ]
  },
  {
   "cell_type": "code",
   "execution_count": null,
   "id": "9b3c720e",
   "metadata": {},
   "outputs": [],
   "source": [
    "# Time\n",
    "year_start = 1997\n",
    "year_stop = 2022"
   ]
  },
  {
   "attachments": {},
   "cell_type": "markdown",
   "id": "804914a6",
   "metadata": {},
   "source": [
    "## Set the data request"
   ]
  },
  {
   "cell_type": "code",
   "execution_count": null,
   "id": "bb8b57cc",
   "metadata": {},
   "outputs": [],
   "source": [
    "collection_id = \"reanalysis-era5-land-monthly-means\"\n",
    "request = {\n",
    "    \"product_type\": \"monthly_averaged_reanalysis\",\n",
    "    \"variable\": \"2m_temperature\",\n",
    "    \"year\": [str(year) for year in range(year_start, year_stop + 1)],\n",
    "    \"month\": [f\"{month:02d}\" for month in range(1, 12 + 1)],\n",
    "    \"time\": \"00:00\",\n",
    "    \"area\": [44, -10, 36, 0],\n",
    "}"
   ]
  },
  {
   "attachments": {},
   "cell_type": "markdown",
   "id": "45754af4",
   "metadata": {},
   "source": [
    "## Download data"
   ]
  },
  {
   "cell_type": "code",
   "execution_count": null,
   "id": "15b06b2d",
   "metadata": {},
   "outputs": [],
   "source": [
    "ds = download.download_and_transform(collection_id, request, chunks={\"year\": 1})\n",
    "da = ds[\"t2m\"]\n",
    "with xr.set_options(keep_attrs=True):\n",
    "    da -= 273.15\n",
    "da.attrs[\"units\"] = \"°C \""
   ]
  },
  {
   "attachments": {},
   "cell_type": "markdown",
   "id": "aefde7c7",
   "metadata": {},
   "source": [
    "## Plot time mean"
   ]
  },
  {
   "cell_type": "code",
   "execution_count": null,
   "id": "3a624f2b",
   "metadata": {},
   "outputs": [],
   "source": [
    "da_time_mean = diagnostics.time_weighted_mean(da)\n",
    "_ = plot.projected_map(da_time_mean.where(da_time_mean), projection=ccrs.PlateCarree())"
   ]
  },
  {
   "cell_type": "markdown",
   "id": "0d9aa95b-a2ed-46d3-97e6-2e158388d490",
   "metadata": {},
   "source": [
    "## Plot annual spatial mean"
   ]
  },
  {
   "cell_type": "code",
   "execution_count": null,
   "id": "6acef16f-4ba0-4099-b79f-b3a19f0910d1",
   "metadata": {},
   "outputs": [],
   "source": [
    "da_spatial_mean = diagnostics.spatial_weighted_mean(da)\n",
    "da_annual_mean = diagnostics.annual_weighted_mean(da_spatial_mean)\n",
    "ax = da_annual_mean.to_pandas().plot.bar(x=da_spatial_mean[\"time\"].dt.year)\n",
    "ax.set_ylabel(f\"{da_annual_mean.attrs['long_name']} [{da_annual_mean.attrs['units']}]\")\n",
    "ax.bar_label(ax.containers[0], rotation=90)\n",
    "\n",
    "trend, h, p, z, tau, s, var_s, slope, intercept = mk.original_test(da_annual_mean)\n",
    "is_significant = p < 0.05\n",
    "print(f\"The trend is{'' if is_significant else ' NOT'} significant.\")\n",
    "print(f\"Trend: {slope}\")"
   ]
  }
 ],
 "metadata": {
  "kernelspec": {
   "display_name": "Python 3 (ipykernel)",
   "language": "python",
   "name": "python3"
  },
  "language_info": {
   "codemirror_mode": {
    "name": "ipython",
    "version": 3
   },
   "file_extension": ".py",
   "mimetype": "text/x-python",
   "name": "python",
   "nbconvert_exporter": "python",
   "pygments_lexer": "ipython3",
   "version": "3.10.12"
  }
 },
 "nbformat": 4,
 "nbformat_minor": 5
}
