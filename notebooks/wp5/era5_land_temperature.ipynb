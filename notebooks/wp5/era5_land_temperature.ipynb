{
 "cells": [
  {
   "attachments": {},
   "cell_type": "markdown",
   "id": "80aaf555",
   "metadata": {},
   "source": [
    "# Trend analysis: Check significant increasing of summer temperature with ERA5-Land monthly aggregated data"
   ]
  },
  {
   "attachments": {},
   "cell_type": "markdown",
   "id": "71b9c47e",
   "metadata": {},
   "source": [
    "## Import packages"
   ]
  },
  {
   "cell_type": "code",
   "execution_count": null,
   "id": "66b9ede3",
   "metadata": {},
   "outputs": [],
   "source": [
    "import calendar\n",
    "\n",
    "import cartopy.crs as ccrs\n",
    "import matplotlib.pyplot as plt\n",
    "import pymannkendall as mk\n",
    "from c3s_eqc_automatic_quality_control import diagnostics, download, plot\n",
    "\n",
    "plt.style.use(\"seaborn-v0_8-notebook\")"
   ]
  },
  {
   "attachments": {},
   "cell_type": "markdown",
   "id": "612b6f75",
   "metadata": {},
   "source": [
    "## Set variables for request"
   ]
  },
  {
   "cell_type": "code",
   "execution_count": null,
   "id": "9b3c720e",
   "metadata": {},
   "outputs": [],
   "source": [
    "# Time\n",
    "year_start = 1997\n",
    "year_stop = 1998"
   ]
  },
  {
   "attachments": {},
   "cell_type": "markdown",
   "id": "804914a6",
   "metadata": {},
   "source": [
    "## Set the data request"
   ]
  },
  {
   "cell_type": "code",
   "execution_count": null,
   "id": "bb8b57cc",
   "metadata": {},
   "outputs": [],
   "source": [
    "collection_id = \"reanalysis-era5-land-monthly-means\"\n",
    "request = {\n",
    "    \"product_type\": \"monthly_averaged_reanalysis\",\n",
    "    \"variable\": \"2m_temperature\",\n",
    "    \"year\": [str(year) for year in range(year_start, year_stop + 1)],\n",
    "    \"month\": [f\"{month:02d}\" for month in range(1, 12 + 1)],\n",
    "    \"time\": \"00:00\",\n",
    "    \"area\": [44, -10, 36, 0],\n",
    "}"
   ]
  },
  {
   "attachments": {},
   "cell_type": "markdown",
   "id": "45754af4",
   "metadata": {},
   "source": [
    "## Download data"
   ]
  },
  {
   "cell_type": "code",
   "execution_count": null,
   "id": "15b06b2d",
   "metadata": {},
   "outputs": [],
   "source": [
    "ds = download.download_and_transform(collection_id, request, chunks={\"year\": 1})"
   ]
  },
  {
   "attachments": {},
   "cell_type": "markdown",
   "id": "aefde7c7",
   "metadata": {},
   "source": [
    "## Plot annual mean"
   ]
  },
  {
   "cell_type": "code",
   "execution_count": null,
   "id": "3a624f2b",
   "metadata": {},
   "outputs": [],
   "source": [
    "ds_annual = diagnostics.time_weighted_mean(ds)\n",
    "plot.projected_map(\n",
    "    ds_annual[\"t2m\"].where(ds_annual[\"t2m\"]), projection=ccrs.PlateCarree()\n",
    ")"
   ]
  },
  {
   "attachments": {},
   "cell_type": "markdown",
   "id": "1a20fe04",
   "metadata": {},
   "source": [
    "## Plot spatial mean in JAS"
   ]
  },
  {
   "cell_type": "code",
   "execution_count": null,
   "id": "3a7a2a89",
   "metadata": {},
   "outputs": [],
   "source": [
    "season_months = [7, 8, 9]\n",
    "ds_spatial = diagnostics.spatial_weighted_mean(ds)\n",
    "da = ds_spatial[\"t2m\"].where(\n",
    "    ds_spatial[\"forecast_reference_time\"].dt.month.isin(season_months), drop=True\n",
    ")\n",
    "da.plot()\n",
    "plt.title(\", \".join([calendar.month_name[month] for month in season_months]))\n",
    "\n",
    "trend, h, p, z, tau, s, var_s, slope, intercept = mk.original_test(da)\n",
    "is_significant = p < 0.05\n",
    "print(f\"The trend is{'' if is_significant else ' NOT'} significant.\")\n",
    "print(f\"Trend: {slope}\")"
   ]
  }
 ],
 "metadata": {
  "kernelspec": {
   "display_name": "Python 3 (ipykernel)",
   "language": "python",
   "name": "python3"
  },
  "language_info": {
   "codemirror_mode": {
    "name": "ipython",
    "version": 3
   },
   "file_extension": ".py",
   "mimetype": "text/x-python",
   "name": "python",
   "nbconvert_exporter": "python",
   "pygments_lexer": "ipython3",
   "version": "3.10.9"
  }
 },
 "nbformat": 4,
 "nbformat_minor": 5
}
