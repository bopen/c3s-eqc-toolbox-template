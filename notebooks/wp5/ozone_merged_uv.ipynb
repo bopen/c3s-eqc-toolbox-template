{
 "cells": [
  {
   "cell_type": "markdown",
   "metadata": {},
   "source": [
    "# Ozone: MERGED-UV"
   ]
  },
  {
   "cell_type": "markdown",
   "metadata": {},
   "source": [
    "# Import packages¶"
   ]
  },
  {
   "cell_type": "code",
   "execution_count": null,
   "metadata": {},
   "outputs": [],
   "source": [
    "import calendar\n",
    "\n",
    "import matplotlib.pyplot as plt\n",
    "import pandas as pd\n",
    "import xarray as xr\n",
    "from c3s_eqc_automatic_quality_control import diagnostics, download, plot, utils\n",
    "\n",
    "plt.style.use(\"seaborn-v0_8-notebook\")"
   ]
  },
  {
   "cell_type": "markdown",
   "metadata": {},
   "source": [
    "# Define parameters"
   ]
  },
  {
   "cell_type": "code",
   "execution_count": null,
   "metadata": {},
   "outputs": [],
   "source": [
    "# Time\n",
    "year_start = 1996\n",
    "year_stop = 2022\n",
    "\n",
    "# Regions\n",
    "region_slices = {\n",
    "    \"global\": {\n",
    "        \"lat_slice\": slice(-90, 90),\n",
    "        \"lon_slice\": slice(0, 360),\n",
    "    },\n",
    "    \"tropics\": {\n",
    "        \"lat_slice\": slice(-25, 25),\n",
    "        \"lon_slice\": slice(0, 360),\n",
    "    },\n",
    "    \"NH mid-latitudes\": {\n",
    "        \"lat_slice\": slice(30, 60),\n",
    "        \"lon_slice\": slice(0, 360),\n",
    "    },\n",
    "    \"SH mid-latitudes\": {\n",
    "        \"lat_slice\": slice(-30, -60),\n",
    "        \"lon_slice\": slice(0, 360),\n",
    "    },\n",
    "    \"NH polar\": {\n",
    "        \"lat_slice\": slice(60, 90),\n",
    "        \"lon_slice\": slice(0, 360),\n",
    "    },\n",
    "    \"SH polar\": {\n",
    "        \"lat_slice\": slice(-60, -90),\n",
    "        \"lon_slice\": slice(0, 360),\n",
    "    },\n",
    "}\n",
    "\n",
    "# Variable to show\n",
    "varname = \"total_ozone_column\""
   ]
  },
  {
   "attachments": {},
   "cell_type": "markdown",
   "metadata": {},
   "source": [
    "# Define request"
   ]
  },
  {
   "cell_type": "code",
   "execution_count": null,
   "metadata": {},
   "outputs": [],
   "source": [
    "collection_id = \"satellite-ozone-v1\"\n",
    "requests = {\n",
    "    \"format\": \"zip\",\n",
    "    \"processing_level\": \"level_3\",\n",
    "    \"variable\": \"atmosphere_mole_content_of_ozone\",\n",
    "    \"sensor\": \"merged_uv\",\n",
    "    \"vertical_aggregation\": \"total_column\",\n",
    "    \"year\": [str(year) for year in range(year_start, year_stop + 1)],\n",
    "    \"month\": [f\"{month:02d}\" for month in range(1, 12 + 1)],\n",
    "    \"version\": \"v2000\",\n",
    "}"
   ]
  },
  {
   "cell_type": "markdown",
   "metadata": {},
   "source": [
    "# Define transform function:"
   ]
  },
  {
   "cell_type": "code",
   "execution_count": null,
   "metadata": {},
   "outputs": [],
   "source": [
    "def convert_source_to_time(ds):\n",
    "    # Naming convention: YYYYMM-*.nc\n",
    "    ds[\"source\"] = pd.to_datetime(ds[\"source\"].str.slice(None, 6), format=\"%Y%m\")\n",
    "    return ds.rename(source=\"time\")\n",
    "\n",
    "\n",
    "def spatial_weighted_mean(ds, lon_slice, lat_slice):\n",
    "    ds = convert_source_to_time(ds)\n",
    "    ds = utils.regionalise(ds, lon_slice=lon_slice, lat_slice=lat_slice)\n",
    "    return diagnostics.spatial_weighted_mean(ds)\n",
    "\n",
    "\n",
    "def time_weighted_mean(ds):\n",
    "    ds = convert_source_to_time(ds)\n",
    "    return diagnostics.time_weighted_mean(ds)"
   ]
  },
  {
   "cell_type": "markdown",
   "metadata": {},
   "source": [
    "# Download and transform data"
   ]
  },
  {
   "cell_type": "code",
   "execution_count": null,
   "metadata": {},
   "outputs": [],
   "source": [
    "kwargs = {\"collection_id\": collection_id, \"requests\": requests, \"chunks\": {\"year\": 1}}\n",
    "\n",
    "# Timeseries\n",
    "datasets = []\n",
    "for region, transform_func_kwargs in region_slices.items():\n",
    "    print(f\"{region=}\")\n",
    "    ds = download.download_and_transform(\n",
    "        **kwargs,\n",
    "        transform_func=spatial_weighted_mean,\n",
    "        transform_func_kwargs=transform_func_kwargs,\n",
    "        drop_variables=\"time_bounds\",\n",
    "    )\n",
    "    datasets.append(ds.expand_dims(region=[region]))\n",
    "ds_timeseries = xr.concat(datasets, \"region\")\n",
    "\n",
    "# Original data\n",
    "ds = download.download_and_transform(\n",
    "    **kwargs,\n",
    "    transform_func=convert_source_to_time,\n",
    ")"
   ]
  },
  {
   "cell_type": "markdown",
   "metadata": {},
   "source": [
    "## Plot Data Coverage"
   ]
  },
  {
   "cell_type": "code",
   "execution_count": null,
   "metadata": {},
   "outputs": [],
   "source": [
    "da_obs = ds[f\"{varname}_number_of_observations\"]\n",
    "plot.projected_map(da_obs.sum(dim=\"time\", keep_attrs=True), show_stats=False)\n",
    "\n",
    "fig, axs = plt.subplots(2, 1)\n",
    "for ax, dim in zip(axs.flatten(), (\"longitude\", \"latitude\")):\n",
    "    plot_obj = da_obs.sum(dim, keep_attrs=True).plot.contourf(\n",
    "        x=\"time\",\n",
    "        ax=ax,\n",
    "        levels=range(0, 10_500 + 1, 1_500),\n",
    "        extend=\"max\",\n",
    "        add_colorbar=False,\n",
    "    )\n",
    "label = da_obs.attrs[\"long_name\"]\n",
    "isplit = len(label) // 2\n",
    "label = \"\\n\".join([label[:isplit], label[isplit:]])\n",
    "_ = fig.colorbar(plot_obj, ax=axs.flatten(), label=label)"
   ]
  },
  {
   "cell_type": "markdown",
   "metadata": {},
   "source": [
    "## Map of the Total Ozone column"
   ]
  },
  {
   "cell_type": "code",
   "execution_count": null,
   "metadata": {},
   "outputs": [],
   "source": [
    "da = ds[varname]\n",
    "with xr.set_options(keep_attrs=True):\n",
    "    da = da * da.attrs[\"multiplication_factor_to_convert_to_DU\"]\n",
    "da.attrs[\"units\"] = \"DU\"\n",
    "\n",
    "contour_kwargs = {\"levels\": range(160, 460, 10), \"extend\": \"both\", \"cmap\": \"RdGy_r\"}\n",
    "map = plot.projected_map(\n",
    "    da.mean(\"time\", keep_attrs=True),\n",
    "    plot_func=\"contourf\",\n",
    "    show_stats=False,\n",
    "    **contour_kwargs,\n",
    ")"
   ]
  },
  {
   "cell_type": "markdown",
   "metadata": {},
   "source": [
    "## Annual Cycle"
   ]
  },
  {
   "cell_type": "code",
   "execution_count": null,
   "metadata": {},
   "outputs": [],
   "source": [
    "da_annual_cycle = da.groupby(\"time.month\").mean([\"time\", \"longitude\"], keep_attrs=True)\n",
    "da_annual_cycle[\"month\"] = [\n",
    "    calendar.month_abbr[m] for m in da_annual_cycle[\"month\"].values\n",
    "]\n",
    "_ = da_annual_cycle.plot.contourf(x=\"month\", **contour_kwargs)"
   ]
  },
  {
   "cell_type": "markdown",
   "metadata": {},
   "source": [
    "## Time series"
   ]
  },
  {
   "cell_type": "code",
   "execution_count": null,
   "metadata": {},
   "outputs": [],
   "source": [
    "with xr.set_options(keep_attrs=True):\n",
    "    da_anomaly = (\n",
    "        ds_timeseries[varname].groupby(\"time.month\")\n",
    "        - ds_timeseries[varname].groupby(\"time.month\").mean()\n",
    "    )\n",
    "    da_anomaly *= da_anomaly.attrs[\"multiplication_factor_to_convert_to_DU\"]\n",
    "da_anomaly.attrs[\"units\"] = \"DU\"\n",
    "facet = da_anomaly.plot(row=\"region\", col_wrap=2)\n",
    "for ax in facet.axs.flatten():\n",
    "    ax.grid()\n",
    "facet.fig.autofmt_xdate(rotation=45)"
   ]
  }
 ],
 "metadata": {
  "kernelspec": {
   "display_name": "Python 3 (ipykernel)",
   "language": "python",
   "name": "python3"
  },
  "language_info": {
   "codemirror_mode": {
    "name": "ipython",
    "version": 3
   },
   "file_extension": ".py",
   "mimetype": "text/x-python",
   "name": "python",
   "nbconvert_exporter": "python",
   "pygments_lexer": "ipython3",
   "version": "3.11.7"
  },
  "vscode": {
   "interpreter": {
    "hash": "39a16a1176456aec0710d6d8dd097fdfd8eece03838aebbaaddfca0f16ac2477"
   }
  }
 },
 "nbformat": 4,
 "nbformat_minor": 4
}
