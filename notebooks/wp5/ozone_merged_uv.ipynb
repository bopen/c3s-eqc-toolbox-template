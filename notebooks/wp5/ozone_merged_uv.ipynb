{
 "cells": [
  {
   "cell_type": "markdown",
   "metadata": {},
   "source": [
    "# Ozone: MERGED-UV"
   ]
  },
  {
   "cell_type": "markdown",
   "metadata": {},
   "source": [
    "# Import packages¶"
   ]
  },
  {
   "cell_type": "code",
   "execution_count": null,
   "metadata": {},
   "outputs": [],
   "source": [
    "import warnings\n",
    "\n",
    "import matplotlib.pyplot as plt\n",
    "import pandas as pd\n",
    "import xarray as xr\n",
    "from c3s_eqc_automatic_quality_control import diagnostics, download, plot, utils\n",
    "\n",
    "warnings.filterwarnings(\"ignore\")\n",
    "\n",
    "plt.style.use(\"seaborn-v0_8-notebook\")"
   ]
  },
  {
   "cell_type": "markdown",
   "metadata": {},
   "source": [
    "# Define parameters"
   ]
  },
  {
   "cell_type": "code",
   "execution_count": null,
   "metadata": {},
   "outputs": [],
   "source": [
    "region_slices = {\n",
    "    \"global\": {\"lat_slice\": slice(-90, 90), \"lon_slice\": slice(0, 360)},\n",
    "    \"tropics\": {\"lat_slice\": slice(-25, 25), \"lon_slice\": slice(0, 360)},\n",
    "    \"northern hemisphere mid-latitudes\": {\n",
    "        \"lat_slice\": slice(30, 60),\n",
    "        \"lon_slice\": slice(0, 360),\n",
    "    },\n",
    "    \"southern hemisphere mid-latitudes\": {\n",
    "        \"lat_slice\": slice(-30, -60),\n",
    "        \"lon_slice\": slice(0, 360),\n",
    "    },\n",
    "    \"northern hemisphere polar\": {\n",
    "        \"lat_slice\": slice(60, 90),\n",
    "        \"lon_slice\": slice(0, 360),\n",
    "    },\n",
    "    \"southern hemisphere polar\": {\n",
    "        \"lat_slice\": slice(-60, -90),\n",
    "        \"lon_slice\": slice(0, 360),\n",
    "    },\n",
    "}"
   ]
  },
  {
   "attachments": {},
   "cell_type": "markdown",
   "metadata": {},
   "source": [
    "# Define request"
   ]
  },
  {
   "cell_type": "code",
   "execution_count": null,
   "metadata": {},
   "outputs": [],
   "source": [
    "collection_id = \"satellite-ozone-v1\"\n",
    "\n",
    "chunks = {\"year\": 1}\n",
    "\n",
    "year_start = 1996\n",
    "year_stop = 2022\n",
    "\n",
    "varname = \"total_ozone_column\"\n",
    "\n",
    "requests = {\n",
    "    \"format\": \"zip\",\n",
    "    \"processing_level\": \"level_3\",\n",
    "    \"variable\": \"atmosphere_mole_content_of_ozone\",\n",
    "    \"sensor\": \"merged_uv\",\n",
    "    \"vertical_aggregation\": \"total_column\",\n",
    "    \"year\": [str(year) for year in range(year_start, year_stop + 1)],\n",
    "    \"month\": [f\"{month:02d}\" for month in range(1, 12 + 1)],\n",
    "    \"version\": \"v2000\",\n",
    "}"
   ]
  },
  {
   "cell_type": "markdown",
   "metadata": {},
   "source": [
    "# Define transform function:"
   ]
  },
  {
   "cell_type": "code",
   "execution_count": null,
   "metadata": {},
   "outputs": [],
   "source": [
    "def spatial_weighted_mean(ds, lon_slice, lat_slice):\n",
    "    ds = convert_source_to_time(ds)\n",
    "    ds = utils.regionalise(ds, lon_slice=lon_slice, lat_slice=lat_slice)\n",
    "    return diagnostics.spatial_weighted_mean(ds)\n",
    "\n",
    "\n",
    "def time_weighted_mean(ds):\n",
    "    ds = convert_source_to_time(ds)\n",
    "    return diagnostics.time_weighted_mean(ds)\n",
    "\n",
    "\n",
    "def convert_source_to_time(ds):\n",
    "    # Naming convention: YYYYMM-*.nc\n",
    "    ds[\"source\"] = pd.to_datetime(ds[\"source\"].str.slice(None, 6), format=\"%Y%m\")\n",
    "    return ds.rename(source=\"time\")"
   ]
  },
  {
   "cell_type": "markdown",
   "metadata": {},
   "source": [
    "# Download and transform data"
   ]
  },
  {
   "cell_type": "code",
   "execution_count": null,
   "metadata": {},
   "outputs": [],
   "source": [
    "ds_map = download.download_and_transform(\n",
    "    collection_id,\n",
    "    requests,\n",
    "    transform_func=convert_source_to_time,\n",
    "    split_all=True,\n",
    ")\n",
    "\n",
    "dataarrays = []\n",
    "for region, slices in region_slices.items():\n",
    "    ds = download.download_and_transform(\n",
    "        collection_id,\n",
    "        requests,\n",
    "        transform_func=spatial_weighted_mean,\n",
    "        transform_func_kwargs=slices,\n",
    "        chunks=chunks,\n",
    "        drop_variables=\"time_bounds\",\n",
    "    )\n",
    "    dataarrays.append(ds[varname].expand_dims(region=[region]))\n",
    "da = xr.concat(dataarrays, \"region\")\n",
    "\n",
    "DU_factor = ds_map[\"total_ozone_column\"].attrs[\"multiplication_factor_to_convert_to_DU\"]"
   ]
  },
  {
   "cell_type": "markdown",
   "metadata": {},
   "source": [
    "# Results"
   ]
  },
  {
   "cell_type": "markdown",
   "metadata": {},
   "source": [
    "## Data Coverage"
   ]
  },
  {
   "cell_type": "code",
   "execution_count": null,
   "metadata": {},
   "outputs": [],
   "source": [
    "nobs_time = ds_map[\"total_ozone_column_number_of_observations\"].sum(dim=\"time\")\n",
    "nobs_lat = ds_map[\"total_ozone_column_number_of_observations\"].sum(dim=\"longitude\")\n",
    "nobs_lon = ds_map[\"total_ozone_column_number_of_observations\"].sum(dim=\"latitude\")\n",
    "\n",
    "plot.projected_map(nobs_time, show_stats=False)\n",
    "\n",
    "fig, axes = plt.subplots(2)\n",
    "ax1 = axes[0].contourf(\n",
    "    nobs_lat[\"time\"], nobs_lat[\"latitude\"], nobs_lat.transpose(), extend=\"max\"\n",
    ")\n",
    "axes[0].set_ylabel(\"Latitude\")\n",
    "axes[0].set_xlabel(\"Year\")\n",
    "\n",
    "ax2 = axes[1].contourf(\n",
    "    nobs_lon[\"time\"], nobs_lon[\"longitude\"], nobs_lon.transpose(), extend=\"max\"\n",
    ")\n",
    "axes[1].set_ylabel(\"Longitude\")\n",
    "axes[1].set_xlabel(\"Year\")\n",
    "\n",
    "# plt.contourf(ds_obs_lat[\"time\"],ds_obs_lat[\"latitude\"],\n",
    "#                         ds_obs_lat.transpose(),\n",
    "#                         extend='both')\n",
    "\n",
    "cbar = fig.colorbar(ax1, ax=axes.ravel().tolist(), shrink=0.95)\n",
    "cbar.set_label(\"Mean number of observations %\")"
   ]
  },
  {
   "cell_type": "markdown",
   "metadata": {},
   "source": [
    "## Map of the Total Ozone column"
   ]
  },
  {
   "cell_type": "code",
   "execution_count": null,
   "metadata": {},
   "outputs": [],
   "source": [
    "map = plot.projected_map(\n",
    "    ds_map[\"total_ozone_column\"].mean(\"time\") * DU_factor,\n",
    "    cmap=\"RdGy_r\",\n",
    "    levels=range(160, 460, 10),\n",
    "    robust=True,\n",
    "    extend=\"both\",\n",
    "    show_stats=False,\n",
    ")"
   ]
  },
  {
   "cell_type": "markdown",
   "metadata": {},
   "source": [
    "## Annual Cycle"
   ]
  },
  {
   "cell_type": "code",
   "execution_count": null,
   "metadata": {},
   "outputs": [],
   "source": [
    "climatology_lon = ds_map.groupby(\"time.month\").mean([\"time\", \"longitude\"])\n",
    "\n",
    "fig, ax = plt.subplots()\n",
    "im = ax.contourf(\n",
    "    climatology_lon[\"total_ozone_column\"][\"month\"],\n",
    "    climatology_lon[\"total_ozone_column\"][\"latitude\"],\n",
    "    climatology_lon[\"total_ozone_column\"].transpose(\"latitude\", \"month\") * DU_factor,\n",
    "    cmap=\"RdGy_r\",\n",
    "    extend=\"both\",\n",
    "    levels=range(160, 460, 10),\n",
    ")\n",
    "ax.set_title(\"TCO [DU]\")\n",
    "ax.set_ylabel(\"Latitude\")\n",
    "ax.set_xticks([1, 2, 3, 4, 5, 6, 7, 8, 9, 10, 11, 12])\n",
    "ax.set_xticklabels(\n",
    "    [\n",
    "        \"JAN\",\n",
    "        \"FEB\",\n",
    "        \"MAR\",\n",
    "        \"APR\",\n",
    "        \"MAY\",\n",
    "        \"JUN\",\n",
    "        \"JUL\",\n",
    "        \"AUG\",\n",
    "        \"SEP\",\n",
    "        \"OCT\",\n",
    "        \"NOV\",\n",
    "        \"DEC\",\n",
    "    ],\n",
    "    size=10,\n",
    ")\n",
    "fig.colorbar(im)"
   ]
  },
  {
   "cell_type": "markdown",
   "metadata": {},
   "source": [
    "## Time series"
   ]
  },
  {
   "cell_type": "code",
   "execution_count": null,
   "metadata": {},
   "outputs": [],
   "source": [
    "da_anomaly = DU_factor * (da.groupby(\"time.month\") - da.groupby(\"time.month\").mean())\n",
    "\n",
    "fig = da_anomaly.plot(row=\"region\", col_wrap=3)"
   ]
  }
 ],
 "metadata": {
  "kernelspec": {
   "display_name": "Python 3 (ipykernel)",
   "language": "python",
   "name": "python3"
  },
  "language_info": {
   "codemirror_mode": {
    "name": "ipython",
    "version": 3
   },
   "file_extension": ".py",
   "mimetype": "text/x-python",
   "name": "python",
   "nbconvert_exporter": "python",
   "pygments_lexer": "ipython3",
   "version": "3.11.7"
  },
  "vscode": {
   "interpreter": {
    "hash": "39a16a1176456aec0710d6d8dd097fdfd8eece03838aebbaaddfca0f16ac2477"
   }
  }
 },
 "nbformat": 4,
 "nbformat_minor": 4
}
