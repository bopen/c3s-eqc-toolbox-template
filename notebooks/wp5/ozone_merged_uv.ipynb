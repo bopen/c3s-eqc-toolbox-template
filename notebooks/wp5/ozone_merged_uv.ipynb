{
 "cells": [
  {
   "cell_type": "markdown",
   "metadata": {},
   "source": [
    "# Ozone: MERGED-UV"
   ]
  },
  {
   "cell_type": "markdown",
   "metadata": {},
   "source": [
    "# Import packages¶"
   ]
  },
  {
   "cell_type": "code",
   "execution_count": null,
   "metadata": {},
   "outputs": [],
   "source": [
    "import calendar\n",
    "\n",
    "import matplotlib.pyplot as plt\n",
    "import pandas as pd\n",
    "import xarray as xr\n",
    "from c3s_eqc_automatic_quality_control import diagnostics, download, plot, utils\n",
    "\n",
    "plt.style.use(\"seaborn-v0_8-notebook\")"
   ]
  },
  {
   "cell_type": "markdown",
   "metadata": {},
   "source": [
    "# Define parameters"
   ]
  },
  {
   "cell_type": "code",
   "execution_count": null,
   "metadata": {},
   "outputs": [],
   "source": [
    "# Time\n",
    "year_start = 1996\n",
    "year_stop = 2022\n",
    "\n",
    "# Regions\n",
    "region_slices = {\n",
    "    \"global\": {\"lat_slice\": slice(-90, 90), \"lon_slice\": slice(0, 360)},\n",
    "    \"tropics\": {\"lat_slice\": slice(-25, 25), \"lon_slice\": slice(0, 360)},\n",
    "    \"NH mid-latitudes\": {\"lat_slice\": slice(30, 60), \"lon_slice\": slice(0, 360)},\n",
    "    \"SH mid-latitudes\": {\"lat_slice\": slice(-30, -60), \"lon_slice\": slice(0, 360)},\n",
    "    \"NH polar\": {\"lat_slice\": slice(60, 90), \"lon_slice\": slice(0, 360)},\n",
    "    \"SH polar\": {\"lat_slice\": slice(-60, -90), \"lon_slice\": slice(0, 360)},\n",
    "}\n",
    "\n",
    "# Variable to show\n",
    "varname = \"total_ozone_column\""
   ]
  },
  {
   "attachments": {},
   "cell_type": "markdown",
   "metadata": {},
   "source": [
    "# Define request"
   ]
  },
  {
   "cell_type": "code",
   "execution_count": null,
   "metadata": {},
   "outputs": [],
   "source": [
    "collection_id = \"satellite-ozone-v1\"\n",
    "requests = {\n",
    "    \"format\": \"zip\",\n",
    "    \"processing_level\": \"level_3\",\n",
    "    \"variable\": \"atmosphere_mole_content_of_ozone\",\n",
    "    \"sensor\": \"merged_uv\",\n",
    "    \"vertical_aggregation\": \"total_column\",\n",
    "    \"year\": [str(year) for year in range(year_start, year_stop + 1)],\n",
    "    \"month\": [f\"{month:02d}\" for month in range(1, 12 + 1)],\n",
    "    \"version\": \"v2000\",\n",
    "}"
   ]
  },
  {
   "cell_type": "markdown",
   "metadata": {},
   "source": [
    "# Define transform function:"
   ]
  },
  {
   "cell_type": "code",
   "execution_count": null,
   "metadata": {},
   "outputs": [],
   "source": [
    "def add_time_dim(ds):\n",
    "    time = pd.to_datetime(ds.attrs[\"time_coverage_start\"][:6], format=\"%Y%m\")\n",
    "    return ds.expand_dims(time=[time])\n",
    "\n",
    "\n",
    "def spatial_weighted_mean(ds, lon_slice, lat_slice):\n",
    "    ds = utils.regionalise(ds, lon_slice=lon_slice, lat_slice=lat_slice)\n",
    "    return diagnostics.spatial_weighted_mean(ds)"
   ]
  },
  {
   "cell_type": "markdown",
   "metadata": {},
   "source": [
    "# Download and transform data"
   ]
  },
  {
   "cell_type": "code",
   "execution_count": null,
   "metadata": {},
   "outputs": [],
   "source": [
    "kwargs = {\n",
    "    \"collection_id\": collection_id,\n",
    "    \"requests\": requests,\n",
    "    \"chunks\": {\"year\": 1},\n",
    "    \"preprocess\": add_time_dim,\n",
    "}\n",
    "\n",
    "# Timeseries\n",
    "datasets = []\n",
    "for region, transform_func_kwargs in region_slices.items():\n",
    "    print(f\"{region=}\")\n",
    "    ds = download.download_and_transform(\n",
    "        **kwargs,\n",
    "        transform_func=spatial_weighted_mean,\n",
    "        transform_func_kwargs=transform_func_kwargs,\n",
    "        drop_variables=\"time_bounds\",\n",
    "    )\n",
    "    datasets.append(ds.expand_dims(region=[region]))\n",
    "ds_timeseries = xr.concat(datasets, \"region\")\n",
    "\n",
    "# Original data\n",
    "ds = download.download_and_transform(**kwargs)"
   ]
  },
  {
   "cell_type": "markdown",
   "metadata": {},
   "source": [
    "## Plot Data Coverage"
   ]
  },
  {
   "cell_type": "code",
   "execution_count": null,
   "metadata": {},
   "outputs": [],
   "source": [
    "da_obs = ds[f\"{varname}_number_of_observations\"]\n",
    "plot.projected_map(da_obs.sum(dim=\"time\", keep_attrs=True), show_stats=False)\n",
    "plt.show()\n",
    "\n",
    "with xr.set_options(keep_attrs=True):\n",
    "    da_sum = da_obs.sum(\"longitude\", keep_attrs=True) / da_obs.sizes[\"longitude\"]\n",
    "_ = da_sum.plot(x=\"time\")"
   ]
  },
  {
   "cell_type": "markdown",
   "metadata": {},
   "source": [
    "## Map of the Total Ozone column"
   ]
  },
  {
   "cell_type": "code",
   "execution_count": null,
   "metadata": {},
   "outputs": [],
   "source": [
    "da = ds[varname]\n",
    "with xr.set_options(keep_attrs=True):\n",
    "    da = da * da.attrs[\"multiplication_factor_to_convert_to_DU\"]\n",
    "da.attrs[\"units\"] = \"DU\"\n",
    "\n",
    "contour_kwargs = {\"levels\": range(160, 460, 10), \"extend\": \"both\", \"cmap\": \"RdGy_r\"}\n",
    "map = plot.projected_map(\n",
    "    da.mean(\"time\", keep_attrs=True),\n",
    "    plot_func=\"contourf\",\n",
    "    show_stats=False,\n",
    "    **contour_kwargs,\n",
    ")"
   ]
  },
  {
   "cell_type": "markdown",
   "metadata": {},
   "source": [
    "## Annual Cycle"
   ]
  },
  {
   "cell_type": "code",
   "execution_count": null,
   "metadata": {},
   "outputs": [],
   "source": [
    "da_annual_cycle = da.groupby(\"time.month\").mean([\"time\", \"longitude\"], keep_attrs=True)\n",
    "da_annual_cycle[\"month\"] = [\n",
    "    calendar.month_abbr[m] for m in da_annual_cycle[\"month\"].values\n",
    "]\n",
    "_ = da_annual_cycle.plot.contourf(x=\"month\", **contour_kwargs)"
   ]
  },
  {
   "cell_type": "markdown",
   "metadata": {},
   "source": [
    "## Time series"
   ]
  },
  {
   "cell_type": "code",
   "execution_count": null,
   "metadata": {},
   "outputs": [],
   "source": [
    "with xr.set_options(keep_attrs=True):\n",
    "    da_anomaly = (\n",
    "        ds_timeseries[varname].groupby(\"time.month\")\n",
    "        - ds_timeseries[varname].groupby(\"time.month\").mean()\n",
    "    )\n",
    "    da_anomaly *= da_anomaly.attrs[\"multiplication_factor_to_convert_to_DU\"]\n",
    "da_anomaly.attrs[\"units\"] = \"DU\"\n",
    "facet = da_anomaly.plot(row=\"region\", col_wrap=2)\n",
    "for ax in facet.axs.flatten():\n",
    "    ax.grid()\n",
    "facet.fig.autofmt_xdate(rotation=45)"
   ]
  }
 ],
 "metadata": {
  "kernelspec": {
   "display_name": "Python 3 (ipykernel)",
   "language": "python",
   "name": "python3"
  },
  "language_info": {
   "codemirror_mode": {
    "name": "ipython",
    "version": 3
   },
   "file_extension": ".py",
   "mimetype": "text/x-python",
   "name": "python",
   "nbconvert_exporter": "python",
   "pygments_lexer": "ipython3",
   "version": "3.11.7"
  },
  "vscode": {
   "interpreter": {
    "hash": "39a16a1176456aec0710d6d8dd097fdfd8eece03838aebbaaddfca0f16ac2477"
   }
  }
 },
 "nbformat": 4,
 "nbformat_minor": 4
}
