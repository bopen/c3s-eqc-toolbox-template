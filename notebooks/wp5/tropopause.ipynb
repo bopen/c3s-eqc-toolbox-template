{
 "cells": [
  {
   "attachments": {},
   "cell_type": "markdown",
   "metadata": {},
   "source": [
    "## Import packages"
   ]
  },
  {
   "cell_type": "code",
   "execution_count": null,
   "metadata": {},
   "outputs": [],
   "source": [
    "import matplotlib.pyplot as plt\n",
    "import numpy as np\n",
    "import pandas as pd\n",
    "import xarray as xr\n",
    "from c3s_eqc_automatic_quality_control import download\n",
    "\n",
    "plt.style.use(\"seaborn-v0_8-notebook\")"
   ]
  },
  {
   "attachments": {},
   "cell_type": "markdown",
   "metadata": {},
   "source": [
    "## Define Parameters"
   ]
  },
  {
   "cell_type": "code",
   "execution_count": null,
   "metadata": {},
   "outputs": [],
   "source": [
    "start = \"2016-02\"\n",
    "stop = \"2016-03\""
   ]
  },
  {
   "attachments": {},
   "cell_type": "markdown",
   "metadata": {},
   "source": [
    "## Define request"
   ]
  },
  {
   "cell_type": "code",
   "execution_count": null,
   "metadata": {},
   "outputs": [],
   "source": [
    "collection_id = \"insitu-observations-gruan-reference-network\"\n",
    "request = {\n",
    "    \"format\": \"csv-lev.zip\",\n",
    "    \"variable\": [\"air_temperature\", \"altitude\"],\n",
    "}\n",
    "requests = download.update_request_date(request, start=start, stop=stop)"
   ]
  },
  {
   "attachments": {},
   "cell_type": "markdown",
   "metadata": {},
   "source": [
    "## Functions to cache"
   ]
  },
  {
   "cell_type": "code",
   "execution_count": null,
   "metadata": {},
   "outputs": [],
   "source": [
    "def calculate_tropopause(ds):\n",
    "    attrs = {\"long_name\": \"WMO Lapse-Rate Tropopause\", \"units\": \"km\"}\n",
    "\n",
    "    # sort and drop\n",
    "    ds = ds.swap_dims(index=\"altitude\").drop(\"index\").sortby(\"altitude\")\n",
    "    ds = (\n",
    "        ds.where(ds[\"altitude\"].notnull())\n",
    "        .dropna(\"altitude\", how=\"any\")\n",
    "        .drop_duplicates(\"altitude\")\n",
    "    )\n",
    "    if not ds.sizes[\"altitude\"]:\n",
    "        return xr.DataArray(None, attrs=attrs)\n",
    "    \n",
    "    # convert units\n",
    "    ds[\"altitude\"] = ds[\"altitude\"] * 1.0e-3\n",
    "    ds[\"air_pressure\"] = ds[\"air_pressure\"] * 1.0e-2\n",
    "\n",
    "\n",
    "    # interpolate\n",
    "    interp_altitude = np.arange(0.1, 40.1, 0.1)\n",
    "    temp = ds[\"air_temperature\"].interp(altitude=interp_altitude, method=\"cubic\")\n",
    "    temp = temp.assign_coords(\n",
    "        air_pressure=10 ** np.log10(ds[\"air_pressure\"]).interp(altitude=interp_altitude)\n",
    "    )\n",
    "    temp = temp.dropna(\"altitude\")\n",
    "\n",
    "    # compute lapse rate\n",
    "    diff_kwargs = {\"dim\": \"altitude\", \"label\": \"lower\"}\n",
    "    lapse_rate = -temp.diff(**diff_kwargs) / temp[\"altitude\"].diff(**diff_kwargs)\n",
    "    lapse_rate = lapse_rate.sel(altitude=slice(None, lapse_rate[\"altitude\"].max() - 2))\n",
    "\n",
    "    # mask and loop over valid lapse rates\n",
    "    mask = (lapse_rate <= 2) & (lapse_rate[\"air_pressure\"] <= 500)\n",
    "    valid_altitude = lapse_rate[\"altitude\"].where(mask.compute(), drop=True)\n",
    "    for bottom in valid_altitude:\n",
    "        temp_bottom = temp.sel(altitude=bottom)\n",
    "        temp_above = temp.sel(altitude=slice(bottom, bottom + 2)).drop_sel(\n",
    "            altitude=bottom\n",
    "        )\n",
    "        lapse_rate = (temp_bottom - temp_above) / (\n",
    "            temp_above[\"altitude\"] - temp_bottom[\"altitude\"]\n",
    "        )\n",
    "        if (lapse_rate <= 2).all():\n",
    "            return xr.DataArray(float(bottom.values), attrs=attrs)\n",
    "    return xr.DataArray(None, attrs=attrs)\n",
    "\n",
    "\n",
    "def compute_tropopause_altitude(ds):\n",
    "    dataarrays = []\n",
    "    for report_id, ds_id in ds.groupby(ds[\"report_id\"]):\n",
    "        coords = {\"report_id\": (\"time\", [report_id])}\n",
    "        for var, da_coord in ds_id.data_vars.items():\n",
    "            unique = set(da_coord.values)\n",
    "            if len(unique) == 1:\n",
    "                coords[var] = (\"time\", list(unique))\n",
    "        da = calculate_tropopause(ds_id)\n",
    "        dataarrays.append(da.expand_dims(\"time\").assign_coords(coords))\n",
    "    da = xr.concat(dataarrays, \"time\")\n",
    "    da = da.assign_coords(time=pd.to_datetime(da[\"report_timestamp\"]).tz_localize(None))\n",
    "    return da.sortby(\"time\").to_dataset(name=\"tropopause\")"
   ]
  },
  {
   "attachments": {},
   "cell_type": "markdown",
   "metadata": {},
   "source": [
    "## Download and compute tropopause"
   ]
  },
  {
   "cell_type": "code",
   "execution_count": null,
   "metadata": {},
   "outputs": [],
   "source": [
    "ds = download.download_and_transform(\n",
    "    collection_id,\n",
    "    requests,\n",
    "    chunks={\"year\": 1, \"month\": 1},\n",
    "    transform_func=compute_tropopause_altitude,\n",
    ")"
   ]
  },
  {
   "attachments": {},
   "cell_type": "markdown",
   "metadata": {},
   "source": [
    "## Plot tropopause for each station"
   ]
  },
  {
   "cell_type": "code",
   "execution_count": null,
   "metadata": {},
   "outputs": [],
   "source": [
    "for station, da in ds[\"tropopause\"].groupby(\"station_name\"):\n",
    "    da.plot(label=station)\n",
    "plt.grid()\n",
    "plt.legend()"
   ]
  }
 ],
 "metadata": {
  "kernelspec": {
   "display_name": "Python 3",
   "language": "python",
   "name": "python3"
  },
  "language_info": {
   "codemirror_mode": {
    "name": "ipython",
    "version": 3
   },
   "file_extension": ".py",
   "mimetype": "text/x-python",
   "name": "python",
   "nbconvert_exporter": "python",
   "pygments_lexer": "ipython3",
   "version": "3.10.11"
  }
 },
 "nbformat": 4,
 "nbformat_minor": 2
}
