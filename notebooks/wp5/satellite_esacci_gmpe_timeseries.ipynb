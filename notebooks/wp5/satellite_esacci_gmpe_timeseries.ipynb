{
 "cells": [
  {
   "attachments": {},
   "cell_type": "markdown",
   "id": "0",
   "metadata": {},
   "source": [
    "# Assessment of the SST timeseries"
   ]
  },
  {
   "attachments": {},
   "cell_type": "markdown",
   "id": "1",
   "metadata": {},
   "source": [
    "## Import packages"
   ]
  },
  {
   "cell_type": "code",
   "execution_count": null,
   "id": "2",
   "metadata": {},
   "outputs": [],
   "source": [
    "import matplotlib.pyplot as plt\n",
    "import numpy as np\n",
    "import pymannkendall as mk\n",
    "import tqdm\n",
    "import xarray as xr\n",
    "from c3s_eqc_automatic_quality_control import diagnostics, download, utils\n",
    "\n",
    "plt.style.use(\"seaborn-v0_8-notebook\")"
   ]
  },
  {
   "attachments": {},
   "cell_type": "markdown",
   "id": "3",
   "metadata": {},
   "source": [
    "## Define Parameters"
   ]
  },
  {
   "cell_type": "code",
   "execution_count": null,
   "id": "4",
   "metadata": {},
   "outputs": [],
   "source": [
    "# Time\n",
    "# Note: Time period from December year_start-1 to November year_stop\n",
    "year_start = 1982\n",
    "year_stop = 2011\n",
    "\n",
    "# Regions\n",
    "regions = {\n",
    "    \"northern hemisphere\": {\"lon_slice\": slice(-180, 180), \"lat_slice\": slice(0, 90)},\n",
    "    \"southern hemisphere\": {\"lon_slice\": slice(-180, 180), \"lat_slice\": slice(-90, 0)},\n",
    "}"
   ]
  },
  {
   "attachments": {},
   "cell_type": "markdown",
   "id": "5",
   "metadata": {},
   "source": [
    "## Define Parameters"
   ]
  },
  {
   "cell_type": "code",
   "execution_count": null,
   "id": "6",
   "metadata": {},
   "outputs": [],
   "source": [
    "# Requests\n",
    "request_dicts = {\n",
    "    \"ESACCI\": {\n",
    "        \"collection_id\": \"satellite-sea-surface-temperature\",\n",
    "        \"request\": {\n",
    "            \"processinglevel\": \"level_4\",\n",
    "            \"format\": \"zip\",\n",
    "            \"variable\": \"all\",\n",
    "            \"sensor_on_satellite\": \"combined_product\",\n",
    "            \"version\": \"2_1\",\n",
    "        },\n",
    "        \"chunks\": {\"year\": 1, \"month\": 1},\n",
    "    },\n",
    "    \"GMPE\": {\n",
    "        \"collection_id\": \"satellite-sea-surface-temperature-ensemble-product\",\n",
    "        \"request\": {\n",
    "            \"format\": \"zip\",\n",
    "            \"variable\": \"all\",\n",
    "        },\n",
    "        \"chunks\": {\"year\": 1, \"month\": 1, \"day\": 12},  # CDS limit is 12\n",
    "    },\n",
    "}\n",
    "\n",
    "# Parameters to speed up I/O\n",
    "open_mfdataset_kwargs = {\n",
    "    \"concat_dim\": \"time\",\n",
    "    \"combine\": \"nested\",\n",
    "    \"data_vars\": \"minimal\",\n",
    "    \"coords\": \"minimal\",\n",
    "    \"compat\": \"override\",\n",
    "    \"parallel\": True,\n",
    "}"
   ]
  },
  {
   "attachments": {},
   "cell_type": "markdown",
   "id": "7",
   "metadata": {},
   "source": [
    "## Functions to cache"
   ]
  },
  {
   "cell_type": "code",
   "execution_count": null,
   "id": "8",
   "metadata": {},
   "outputs": [],
   "source": [
    "def get_masked_sst(ds):\n",
    "    da = ds[\"analysed_sst\"]\n",
    "    if \"mask\" in ds:\n",
    "        da = da.where(ds[\"mask\"] == 1)\n",
    "    with xr.set_options(keep_attrs=True):\n",
    "        da -= 273.15\n",
    "    da.attrs[\"units\"] = \"°C\"\n",
    "    return da\n",
    "\n",
    "\n",
    "def add_chunksizes(da):\n",
    "    da.encoding[\"chunksizes\"] = tuple(map(max, da.chunks))\n",
    "    return da\n",
    "\n",
    "\n",
    "def rechunk(obj):\n",
    "    \"\"\"Use NetCDF chunks.\"\"\"\n",
    "    chunks = {\"time\": 1, \"year\": 1, \"season\": 1, \"latitude\": 1_200, \"longitude\": 2_400}\n",
    "    obj = obj.chunk(\n",
    "        **{dim: chunksize for dim, chunksize in chunks.items() if dim in obj.dims}\n",
    "    )\n",
    "    if isinstance(obj, xr.DataArray):\n",
    "        return add_chunksizes(obj)\n",
    "    for da in obj.data_vars.values():\n",
    "        add_chunksizes(da)\n",
    "    return obj\n",
    "\n",
    "\n",
    "def compute_regionalised_spatial_weighted_mean(ds, lon_slice, lat_slice):\n",
    "    ds = rechunk(ds)\n",
    "    ds = utils.regionalise(ds, lon_slice=lon_slice, lat_slice=lat_slice)\n",
    "    da = get_masked_sst(ds)\n",
    "    return diagnostics.spatial_weighted_mean(da, weights=True).to_dataset()"
   ]
  },
  {
   "cell_type": "markdown",
   "id": "9",
   "metadata": {},
   "source": [
    "## Download and transform"
   ]
  },
  {
   "cell_type": "code",
   "execution_count": null,
   "id": "10",
   "metadata": {},
   "outputs": [],
   "source": [
    "datasets = []\n",
    "for product, request_dict in request_dicts.items():\n",
    "    for region, slices in regions.items():\n",
    "        print(f\"{product=} {region=}\")\n",
    "        for year in tqdm.tqdm(range(year_start, year_stop + 1), desc=\"year\"):\n",
    "            requests = download.update_request_date(\n",
    "                request_dict[\"request\"],\n",
    "                start=f\"{year-1}-12\",\n",
    "                stop=f\"{year}-11\",\n",
    "                stringify_dates=True,\n",
    "            )\n",
    "            ds = download.download_and_transform(\n",
    "                collection_id=request_dict[\"collection_id\"],\n",
    "                requests=requests,\n",
    "                chunks=request_dict[\"chunks\"],\n",
    "                transform_chunks=False,\n",
    "                transform_func=compute_regionalised_spatial_weighted_mean,\n",
    "                transform_func_kwargs=slices,\n",
    "                **open_mfdataset_kwargs,\n",
    "            )\n",
    "            datasets.append(ds.expand_dims(product=[product], region=[region]))\n",
    "da = xr.merge(datasets)[\"analysed_sst\"].compute()\n",
    "del datasets"
   ]
  },
  {
   "cell_type": "markdown",
   "id": "11",
   "metadata": {},
   "source": [
    "## Plot timeseries and trend"
   ]
  },
  {
   "cell_type": "code",
   "execution_count": null,
   "id": "12",
   "metadata": {},
   "outputs": [],
   "source": [
    "colors_list = [\"green\", \"blue\"]\n",
    "for region, da_region in da.groupby(\"region\"):\n",
    "    fig, ax = plt.subplots()\n",
    "    for color, (product, da_product) in zip(colors_list, da_region.groupby(\"product\")):\n",
    "        da_product.plot(ax=ax, label=product, color=color)\n",
    "        trend, h, p, z, tau, s, var_s, slope, intercept = mk.original_test(da_product)\n",
    "        ax.plot(\n",
    "            da_product[\"time\"],\n",
    "            np.arange(da_product.sizes[\"time\"]) * slope + intercept,\n",
    "            label=f\"{product} trend {p=:.1e}\",\n",
    "            color=color,\n",
    "            ls=\"--\",\n",
    "        )\n",
    "        ax.set_title(f\"{region.title()} ({year_start}-{year_stop})\")\n",
    "    ax.legend(bbox_to_anchor=(1, 1))\n",
    "    ax.grid()\n",
    "    plt.show()"
   ]
  },
  {
   "cell_type": "markdown",
   "id": "13",
   "metadata": {},
   "source": [
    "## Plot annual cycle"
   ]
  },
  {
   "cell_type": "code",
   "execution_count": null,
   "id": "14",
   "metadata": {},
   "outputs": [],
   "source": [
    "for region, da_region in da.groupby(\"region\"):\n",
    "    fig, ax = plt.subplots()\n",
    "    for color, (product, da_product) in zip(colors_list, da_region.groupby(\"product\")):\n",
    "        grouped = da_product.groupby(\"time.dayofyear\")\n",
    "        mean = grouped.mean()\n",
    "        std = grouped.std()\n",
    "        mean.plot(ax=ax, label=product, color=color)\n",
    "        ax.fill_between(\n",
    "            mean[\"dayofyear\"],\n",
    "            mean - std,\n",
    "            mean + std,\n",
    "            alpha=0.5,\n",
    "            label=f\"{product.upper()} ± std\",\n",
    "            color=color,\n",
    "        )\n",
    "        ax.set_title(f\"{region.title()} ({year_start}-{year_stop})\")\n",
    "    ax.legend()\n",
    "    ax.grid()\n",
    "    plt.show()"
   ]
  }
 ],
 "metadata": {
  "kernelspec": {
   "display_name": "Python 3 (ipykernel)",
   "language": "python",
   "name": "python3"
  },
  "language_info": {
   "codemirror_mode": {
    "name": "ipython",
    "version": 3
   },
   "file_extension": ".py",
   "mimetype": "text/x-python",
   "name": "python",
   "nbconvert_exporter": "python",
   "pygments_lexer": "ipython3",
   "version": "3.10.12"
  }
 },
 "nbformat": 4,
 "nbformat_minor": 5
}
