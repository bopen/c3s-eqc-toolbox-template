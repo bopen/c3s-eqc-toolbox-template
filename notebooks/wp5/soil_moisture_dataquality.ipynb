{
 "cells": [
  {
   "attachments": {},
   "cell_type": "markdown",
   "id": "80aaf555",
   "metadata": {},
   "source": [
    "# Data completeness: Check the spatial coverage of satellite soil moisture data"
   ]
  },
  {
   "attachments": {},
   "cell_type": "markdown",
   "id": "71b9c47e",
   "metadata": {},
   "source": [
    "## Import packages"
   ]
  },
  {
   "cell_type": "code",
   "execution_count": null,
   "id": "66b9ede3",
   "metadata": {},
   "outputs": [],
   "source": [
    "import warnings\n",
    "\n",
    "import geopandas\n",
    "import matplotlib.pyplot as plt\n",
    "import shapely.geometry\n",
    "from c3s_eqc_automatic_quality_control import download\n",
    "\n",
    "warnings.filterwarnings(\"ignore\")\n",
    "plt.style.use(\"seaborn-v0_8-notebook\")"
   ]
  },
  {
   "attachments": {},
   "cell_type": "markdown",
   "id": "619e9824",
   "metadata": {},
   "source": [
    "## Define variables"
   ]
  },
  {
   "cell_type": "code",
   "execution_count": null,
   "id": "ab558801",
   "metadata": {},
   "outputs": [],
   "source": [
    "year_start = 1997\n",
    "year_stop = 1998\n",
    "\n",
    "shapefile_url = \"https://figshare.com/ndownloader/files/23392280\""
   ]
  },
  {
   "attachments": {},
   "cell_type": "markdown",
   "id": "804914a6",
   "metadata": {},
   "source": [
    "## Set the data request"
   ]
  },
  {
   "cell_type": "code",
   "execution_count": null,
   "id": "bb8b57cc",
   "metadata": {},
   "outputs": [],
   "source": [
    "collection_id = \"satellite-soil-moisture\"\n",
    "request = {\n",
    "    \"variable\": \"surface_soil_moisture\",\n",
    "    \"type_of_sensor\": \"active\",\n",
    "    \"time_aggregation\": \"month_average\",\n",
    "    \"year\": [str(year) for year in range(year_start, year_stop + 1)],\n",
    "    \"month\": [f\"{month:02d}\" for month in range(1, 12 + 1)],\n",
    "    \"day\": \"01\",\n",
    "    \"type_of_record\": \"cdr\",\n",
    "    \"version\": \"v201706\",\n",
    "}"
   ]
  },
  {
   "attachments": {},
   "cell_type": "markdown",
   "id": "a15296c1",
   "metadata": {},
   "source": [
    "## Define function to compute missing values count"
   ]
  },
  {
   "cell_type": "code",
   "execution_count": null,
   "id": "ca862248",
   "metadata": {},
   "outputs": [],
   "source": [
    "def compute_missing_values_count(ds):\n",
    "    ds.rio.set_spatial_dims(x_dim=\"longitude\", y_dim=\"latitude\", inplace=True)\n",
    "    ds.rio.write_crs(\"epsg:4326\", inplace=True)\n",
    "\n",
    "    da_mvc = ds[\"sm\"].isnull().sum(\"time\") / ds.sizes[\"time\"] * 100\n",
    "    da_mvc.attrs[\"long_name\"] = \"Missing values\"\n",
    "    da_mvc.attrs[\"units\"] = \"%\"\n",
    "\n",
    "    return da_mvc.to_dataset(name=\"mvc\")"
   ]
  },
  {
   "attachments": {},
   "cell_type": "markdown",
   "id": "ecdcb7b6",
   "metadata": {},
   "source": [
    "## Download and preprocess data"
   ]
  },
  {
   "cell_type": "code",
   "execution_count": null,
   "id": "f4eff4dc",
   "metadata": {},
   "outputs": [],
   "source": [
    "# Dataset\n",
    "ds = download.download_and_transform(\n",
    "    collection_id,\n",
    "    request,\n",
    "    chunks={\"year\": 1},\n",
    "    transform_func=compute_missing_values_count,\n",
    "    transform_chunks=False,\n",
    ")\n",
    "\n",
    "# Shapefile\n",
    "world_shape = geopandas.read_file(shapefile_url)"
   ]
  },
  {
   "attachments": {},
   "cell_type": "markdown",
   "id": "d9c54a1d",
   "metadata": {},
   "source": [
    "## Define plotting function"
   ]
  },
  {
   "cell_type": "code",
   "execution_count": null,
   "id": "db331d5b",
   "metadata": {},
   "outputs": [],
   "source": [
    "def imshow_and_hist(da, shape):\n",
    "    \"\"\"Plot map and histogram side-by-side.\n",
    "\n",
    "    Parameters\n",
    "    ----------\n",
    "    da: DataArray\n",
    "        DataArray to plot\n",
    "    shape: GeoDataFrame\n",
    "        Geopandas object with polygons\n",
    "\n",
    "    Returns\n",
    "    -------\n",
    "    figure, axes\n",
    "    \"\"\"\n",
    "    fig, (ax_imshow, ax_hist) = plt.subplots(\n",
    "        1, 2, figsize=[10, 5], gridspec_kw={\"width_ratios\": [3, 2]}\n",
    "    )\n",
    "\n",
    "    da = da.rio.clip(\n",
    "        shape.geometry.apply(shapely.geometry.mapping),\n",
    "        shape.crs,\n",
    "        drop=True,\n",
    "    )\n",
    "    da.plot.imshow(ax=ax_imshow)\n",
    "    ax_imshow.set_title(\"Map\")\n",
    "\n",
    "    da.plot.hist(bins=50, ax=ax_hist)\n",
    "    ax_hist.set_ylabel(\"Frequency\")\n",
    "    ax_hist.yaxis.set_label_position(\"right\")\n",
    "    ax_hist.yaxis.tick_right()\n",
    "\n",
    "    # Compute and show no data percentage\n",
    "    missing_data_perc = (da == 100).sum() / da.notnull().sum() * 100\n",
    "    ax_hist.set_title(\n",
    "        f\"Percentage of area with missing data: {float(missing_data_perc):f} %\"\n",
    "    )\n",
    "\n",
    "    fig.suptitle(\", \".join(list(shape.CONTINENT)))\n",
    "    return fig, (ax_imshow, ax_hist)"
   ]
  },
  {
   "attachments": {},
   "cell_type": "markdown",
   "id": "3a471f16",
   "metadata": {},
   "source": [
    "## Plot world"
   ]
  },
  {
   "cell_type": "code",
   "execution_count": null,
   "id": "15b06b2d",
   "metadata": {},
   "outputs": [],
   "source": [
    "fig, axes = imshow_and_hist(ds[\"mvc\"], world_shape)"
   ]
  },
  {
   "attachments": {},
   "cell_type": "markdown",
   "id": "ef2bc41a",
   "metadata": {},
   "source": [
    "## Plot continents"
   ]
  },
  {
   "cell_type": "code",
   "execution_count": null,
   "id": "d52d77c8",
   "metadata": {},
   "outputs": [],
   "source": [
    "for continent in world_shape.CONTINENT:\n",
    "    imshow_and_hist(ds[\"mvc\"], world_shape[world_shape.CONTINENT == continent])"
   ]
  }
 ],
 "metadata": {
  "kernelspec": {
   "display_name": "Python 3 (ipykernel)",
   "language": "python",
   "name": "python3"
  },
  "language_info": {
   "codemirror_mode": {
    "name": "ipython",
    "version": 3
   },
   "file_extension": ".py",
   "mimetype": "text/x-python",
   "name": "python",
   "nbconvert_exporter": "python",
   "pygments_lexer": "ipython3",
   "version": "3.10.10"
  }
 },
 "nbformat": 4,
 "nbformat_minor": 5
}
