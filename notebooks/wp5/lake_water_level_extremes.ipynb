{
 "cells": [
  {
   "attachments": {},
   "cell_type": "markdown",
   "id": "0",
   "metadata": {},
   "source": [
    "# Lake Victoria Extremes"
   ]
  },
  {
   "attachments": {},
   "cell_type": "markdown",
   "id": "1",
   "metadata": {},
   "source": [
    "## Import packages"
   ]
  },
  {
   "cell_type": "code",
   "execution_count": null,
   "id": "2",
   "metadata": {},
   "outputs": [],
   "source": [
    "import warnings\n",
    "\n",
    "import matplotlib.pyplot as plt\n",
    "from c3s_eqc_automatic_quality_control import download\n",
    "\n",
    "warnings.filterwarnings(\"ignore\")\n",
    "plt.style.use(\"seaborn-v0_8-notebook\")"
   ]
  },
  {
   "attachments": {},
   "cell_type": "markdown",
   "id": "3",
   "metadata": {},
   "source": [
    "## Set the data request"
   ]
  },
  {
   "cell_type": "code",
   "execution_count": null,
   "id": "4",
   "metadata": {},
   "outputs": [],
   "source": [
    "collection_id = \"satellite-lake-water-level\"\n",
    "request = {\n",
    "    \"variable\": \"all\",\n",
    "    \"region\": \"southern_africa\",\n",
    "    \"lake\": \"victoria\",\n",
    "    \"version\": \"version_4_0\",\n",
    "    \"format\": \"zip\",\n",
    "}\n",
    "varname = \"water_surface_height_above_reference_datum\""
   ]
  },
  {
   "attachments": {},
   "cell_type": "markdown",
   "id": "5",
   "metadata": {},
   "source": [
    "## Download data and compute quantiles"
   ]
  },
  {
   "cell_type": "code",
   "execution_count": null,
   "id": "6",
   "metadata": {},
   "outputs": [],
   "source": [
    "da = download.download_and_transform(collection_id, request)[varname].load()\n",
    "da_qiles = da.quantile([0.01, 0.99])"
   ]
  },
  {
   "attachments": {},
   "cell_type": "markdown",
   "id": "7",
   "metadata": {},
   "source": [
    "## Plot time series"
   ]
  },
  {
   "cell_type": "code",
   "execution_count": null,
   "id": "8",
   "metadata": {},
   "outputs": [],
   "source": [
    "da.plot()\n",
    "for qile in da_qiles:\n",
    "    plt.axhline(qile, color=\"k\", ls=\"--\")\n",
    "plt.title(f\"Lake {request['lake'].title()} water level\")"
   ]
  },
  {
   "attachments": {},
   "cell_type": "markdown",
   "id": "9",
   "metadata": {},
   "source": [
    "## Show extremes"
   ]
  },
  {
   "cell_type": "code",
   "execution_count": null,
   "id": "10",
   "metadata": {},
   "outputs": [],
   "source": [
    "name = f\"{da.attrs['long_name'].title()} [{da.attrs['units']}]\"\n",
    "df99 = da.where(da > da_qiles.sel(quantile=0.99), drop=True).to_dataframe(name)\n",
    "df01 = da.where(da < da_qiles.sel(quantile=0.01), drop=True).to_dataframe(name)\n",
    "df99, df01"
   ]
  }
 ],
 "metadata": {
  "kernelspec": {
   "display_name": "Python 3 (ipykernel)",
   "language": "python",
   "name": "python3"
  },
  "language_info": {
   "codemirror_mode": {
    "name": "ipython",
    "version": 3
   },
   "file_extension": ".py",
   "mimetype": "text/x-python",
   "name": "python",
   "nbconvert_exporter": "python",
   "pygments_lexer": "ipython3",
   "version": "3.11.7"
  }
 },
 "nbformat": 4,
 "nbformat_minor": 5
}
