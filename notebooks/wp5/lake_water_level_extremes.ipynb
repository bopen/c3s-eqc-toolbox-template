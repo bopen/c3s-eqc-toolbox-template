{
 "cells": [
  {
   "attachments": {},
   "cell_type": "markdown",
   "id": "6c2ad815",
   "metadata": {},
   "source": [
    "# Lake Victoria Extremes"
   ]
  },
  {
   "attachments": {},
   "cell_type": "markdown",
   "id": "71b9c47e",
   "metadata": {},
   "source": [
    "## Import packages"
   ]
  },
  {
   "cell_type": "code",
   "execution_count": null,
   "id": "5f55f6f6",
   "metadata": {},
   "outputs": [],
   "source": [
    "import warnings\n",
    "\n",
    "import matplotlib.pyplot as plt\n",
    "from c3s_eqc_automatic_quality_control import download\n",
    "\n",
    "warnings.filterwarnings(\"ignore\")\n",
    "plt.style.use(\"seaborn-v0_8-notebook\")"
   ]
  },
  {
   "attachments": {},
   "cell_type": "markdown",
   "id": "37aa739f",
   "metadata": {},
   "source": [
    "## Set the data request"
   ]
  },
  {
   "cell_type": "code",
   "execution_count": null,
   "id": "e283c216",
   "metadata": {},
   "outputs": [],
   "source": [
    "collection_id = \"satellite-lake-water-level\"\n",
    "request = {\n",
    "    \"lake\": \"victoria\",\n",
    "    \"variable\": \"all\",\n",
    "}\n",
    "varname = \"water_surface_height_above_reference_datum\""
   ]
  },
  {
   "attachments": {},
   "cell_type": "markdown",
   "id": "caaf9768",
   "metadata": {},
   "source": [
    "## Download data and compute quantiles"
   ]
  },
  {
   "cell_type": "code",
   "execution_count": null,
   "id": "8edccd27",
   "metadata": {},
   "outputs": [],
   "source": [
    "da = download.download_and_transform(collection_id, request)[varname].load()\n",
    "da_qiles = da.quantile([0.01, 0.99])"
   ]
  },
  {
   "attachments": {},
   "cell_type": "markdown",
   "id": "ffe59b0b",
   "metadata": {},
   "source": [
    "## Plot time series"
   ]
  },
  {
   "cell_type": "code",
   "execution_count": null,
   "id": "edc1b767",
   "metadata": {},
   "outputs": [],
   "source": [
    "da.plot()\n",
    "for qile in da_qiles:\n",
    "    plt.axhline(qile, color=\"k\", ls=\"--\")\n",
    "plt.title(f\"Lake {request['lake'].title()} water level\")"
   ]
  },
  {
   "attachments": {},
   "cell_type": "markdown",
   "id": "709a3a51",
   "metadata": {},
   "source": [
    "## Show extremes"
   ]
  },
  {
   "cell_type": "code",
   "execution_count": null,
   "id": "ee161768",
   "metadata": {},
   "outputs": [],
   "source": [
    "name = f\"{da.attrs['long_name'].title()} [{da.attrs['units']}]\"\n",
    "df99 = da.where(da > da_qiles.sel(quantile=0.99), drop=True).to_dataframe(name)\n",
    "df01 = da.where(da < da_qiles.sel(quantile=0.01), drop=True).to_dataframe(name)\n",
    "df99, df01"
   ]
  },
  {
   "cell_type": "code",
   "execution_count": null,
   "id": "830ad006",
   "metadata": {},
   "outputs": [],
   "source": []
  }
 ],
 "metadata": {
  "kernelspec": {
   "display_name": "Python 3 (ipykernel)",
   "language": "python",
   "name": "python3"
  },
  "language_info": {
   "codemirror_mode": {
    "name": "ipython",
    "version": 3
   },
   "file_extension": ".py",
   "mimetype": "text/x-python",
   "name": "python",
   "nbconvert_exporter": "python",
   "pygments_lexer": "ipython3",
   "version": "3.10.9"
  }
 },
 "nbformat": 4,
 "nbformat_minor": 5
}
