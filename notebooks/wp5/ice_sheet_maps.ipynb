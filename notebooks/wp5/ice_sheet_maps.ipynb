{
 "cells": [
  {
   "cell_type": "markdown",
   "id": "b101e87a",
   "metadata": {},
   "source": [
    "# Variability of the surface elevation change: Maps"
   ]
  },
  {
   "cell_type": "markdown",
   "id": "6fd156f9",
   "metadata": {},
   "source": [
    "## Import packages"
   ]
  },
  {
   "cell_type": "code",
   "execution_count": null,
   "id": "be2b4871-bdb0-4d41-80f7-e16eb54380fe",
   "metadata": {},
   "outputs": [],
   "source": [
    "import matplotlib.pyplot as plt\n",
    "import xarray as xr\n",
    "from c3s_eqc_automatic_quality_control import download\n",
    "from matplotlib import colors\n",
    "\n",
    "plt.style.use(\"seaborn-v0_8-notebook\")"
   ]
  },
  {
   "cell_type": "markdown",
   "id": "f78381dc",
   "metadata": {},
   "source": [
    "## Define parameters"
   ]
  },
  {
   "cell_type": "code",
   "execution_count": null,
   "id": "175cc482-e2a8-48c1-a0e1-0900ff992d52",
   "metadata": {},
   "outputs": [],
   "source": [
    "domains = [\"greenland\", \"antarctica\"]"
   ]
  },
  {
   "cell_type": "markdown",
   "id": "51cca609",
   "metadata": {},
   "source": [
    "## Define request"
   ]
  },
  {
   "cell_type": "code",
   "execution_count": null,
   "id": "a5e13542-e657-4daa-b32c-9dfe24504b52",
   "metadata": {},
   "outputs": [],
   "source": [
    "collection_id = \"satellite-ice-sheet-elevation-change\"\n",
    "request = {\n",
    "    \"variable\": \"all\",\n",
    "    \"format\": \"zip\",\n",
    "    \"climate_data_record_type\": \"icdr\",\n",
    "    \"version\": \"3_0\",\n",
    "}"
   ]
  },
  {
   "cell_type": "markdown",
   "id": "24e90637",
   "metadata": {},
   "source": [
    "## Function to cache"
   ]
  },
  {
   "cell_type": "code",
   "execution_count": null,
   "id": "b12fdbf9-8586-4475-b319-21ffeb3fe072",
   "metadata": {},
   "outputs": [],
   "source": [
    "def get_maps(ds):\n",
    "    (sec_name,) = set(ds.data_vars) & {\"sec\", \"dhdt\"}\n",
    "    da = ds[sec_name]\n",
    "    da.attrs[\"long_name\"] = \"Surface elevation change\"\n",
    "\n",
    "    da_err = ds[f\"{sec_name}_uncert\"]\n",
    "    da_err.attrs[\"long_name\"] = \"Surface elevation change standard error\"\n",
    "\n",
    "    (mask_name,) = set(ds.data_vars) & {\"land_mask\", \"surface_type\"}\n",
    "    mask = ds[mask_name] > 0\n",
    "    missing = 100 * (da.sizes[\"time\"] - da.notnull().sum(\"time\")) / da.sizes[\"time\"]\n",
    "    missing.attrs = {\"long_name\": \"Missing data\", \"units\": \"%\"}\n",
    "\n",
    "    year_to_ns = 1.0e9 * 60 * 60 * 24 * 365\n",
    "    coeffs = []\n",
    "    da_cumsum = da.cumsum(\"time\") / 12\n",
    "    for degree, name in enumerate((\"linear_trend\", \"acceleration\"), start=1):\n",
    "        coeff = da_cumsum.polyfit(\"time\", degree)[\"polyfit_coefficients\"].sel(\n",
    "            degree=degree, drop=True\n",
    "        )\n",
    "        coeff = degree * coeff * (year_to_ns**degree)\n",
    "        coeff.attrs = {\n",
    "            \"units\": f\"{da.attrs['units'].split('/', 1)[0]} yr$^{{-{degree}}}$\",\n",
    "            \"long_name\": f\"{da.attrs['long_name']} {name}\".replace(\"_\", \" \"),\n",
    "        }\n",
    "        coeffs.append(coeff.rename(name))\n",
    "\n",
    "    ds = xr.merge(\n",
    "        [\n",
    "            da.rename(\"sec\"),\n",
    "            da_err.rename(\"sec_err\"),\n",
    "            mask.rename(\"mask\"),\n",
    "            missing.rename(\"missing\"),\n",
    "            ds[\"high_slope\"],\n",
    "        ]\n",
    "        + coeffs\n",
    "    )\n",
    "    return ds.mean(\"time\", keep_attrs=True)"
   ]
  },
  {
   "cell_type": "markdown",
   "id": "8f92e0ac",
   "metadata": {},
   "source": [
    "## Download and transform data"
   ]
  },
  {
   "cell_type": "code",
   "execution_count": null,
   "id": "3770997f-875c-49b9-afbc-5ffe42313016",
   "metadata": {},
   "outputs": [],
   "source": [
    "datasets = {}\n",
    "for domain in domains:\n",
    "    print(f\"{domain=}\")\n",
    "    datasets[domain] = download.download_and_transform(\n",
    "        collection_id,\n",
    "        request | {\"domain\": domain},\n",
    "        transform_func=get_maps,\n",
    "        invalidate_cache=True,\n",
    "    ).compute()"
   ]
  },
  {
   "cell_type": "markdown",
   "id": "e08e544e",
   "metadata": {},
   "source": [
    "## Define plotting functions"
   ]
  },
  {
   "cell_type": "code",
   "execution_count": null,
   "id": "ae0cc22e-84a3-43c1-bf1e-5c76551e6652",
   "metadata": {},
   "outputs": [],
   "source": [
    "def plot_maps(\n",
    "    datasets, varname, suptitle=None, vmins=None, vmaxs=None, norms=None, **kwargs\n",
    "):\n",
    "    vmins = iter([None] * len(datasets)) if vmins is None else iter(vmins)\n",
    "    vmaxs = iter([None] * len(datasets)) if vmaxs is None else iter(vmaxs)\n",
    "    norms = iter([None] * len(datasets)) if norms is None else iter(norms)\n",
    "    fig, axs = plt.subplots(1, len(datasets), width_ratios=[1, 2], layout=\"constrained\")\n",
    "    for ax, (domain, ds) in zip(axs, datasets.items()):\n",
    "        ds[varname].plot.imshow(\n",
    "            ax=ax, vmin=next(vmins), vmax=next(vmaxs), norm=next(norms), **kwargs\n",
    "        )\n",
    "        ds[\"mask\"].plot.contour(ax=ax, colors=\"k\", linewidths=0.5)\n",
    "        ax.axis(\"equal\")\n",
    "        ax.axis(\"off\")\n",
    "        ax.set_title(f\"{domain} ice sheet\".title())\n",
    "    if suptitle is not None:\n",
    "        fig.suptitle(suptitle, y=0, va=\"top\")\n",
    "    return fig, axs"
   ]
  },
  {
   "cell_type": "markdown",
   "id": "df6c6054",
   "metadata": {},
   "source": [
    "## Plot maps"
   ]
  },
  {
   "cell_type": "code",
   "execution_count": null,
   "id": "678651e1-9fd8-4b4e-923f-599747409199",
   "metadata": {},
   "outputs": [],
   "source": [
    "varname_kwargs = {\n",
    "    \"sec\": {\n",
    "        \"cmap\": \"RdBu\",\n",
    "        \"robust\": True,\n",
    "        \"suptitle\": \"Multiyear mean surface elevation changes of the ice sheets.\",\n",
    "    },\n",
    "    \"sec_err\": {\n",
    "        \"cmap\": \"Reds\",\n",
    "        \"norms\": (colors.LogNorm(1.0e-2, 1.0e-1), colors.LogNorm(1.0e-1, 1.0e1)),\n",
    "        \"suptitle\": \"Multiyear mean surface elevation change standard error of the ice sheets.\",\n",
    "    },\n",
    "    \"missing\": {\n",
    "        \"cmap\": \"Reds\",\n",
    "        \"suptitle\": \"Percentage of missing data of the surface elevation changes of the ice sheets.\",\n",
    "    },\n",
    "    \"linear_trend\": {\n",
    "        \"cmap\": \"RdBu\",\n",
    "        \"robust\": True,\n",
    "        \"suptitle\": \"Linear trends (slopes) of the surface elevation changes of the ice sheets.\",\n",
    "    },\n",
    "    \"acceleration\": {\n",
    "        \"cmap\": \"RdBu\",\n",
    "        \"robust\": True,\n",
    "        \"suptitle\": \"Quadratic trends (accelerations) of the surface elevation changes of the ice sheets.\",\n",
    "    },\n",
    "}\n",
    "for varname, kwargs in varname_kwargs.items():\n",
    "    fig, axs = plot_maps(datasets, varname=varname, **kwargs)"
   ]
  },
  {
   "cell_type": "markdown",
   "id": "aff69e6f",
   "metadata": {},
   "source": [
    "## Plot boxplot"
   ]
  },
  {
   "cell_type": "code",
   "execution_count": null,
   "id": "585cad61-ac94-4b93-91e9-cfb7bc7afec7",
   "metadata": {},
   "outputs": [],
   "source": [
    "fig, axs = plt.subplots(1, 2, layout=\"constrained\")\n",
    "for ax, (domain, ds) in zip(axs, datasets.items()):\n",
    "    da = ds.set_coords(\"high_slope\")[\"sec_err\"]\n",
    "    df = da.to_dataframe()\n",
    "    df.boxplot(\n",
    "        by=\"high_slope\",\n",
    "        ax=ax,\n",
    "        ylabel=f\"{da.attrs['long_name']} [{da.attrs['units']}]\",\n",
    "        xlabel=\"Slope class\",\n",
    "    )\n",
    "    if domain.lower() == \"antarctica\":\n",
    "        ax.set_ylim([0, 5])\n",
    "    ax.set_xticklabels([\"S<2°\", \"2°<S<5°\", \"S>5°\"])\n",
    "    ax.set_title(f\"{domain} ice sheet\".title())\n",
    "_ = fig.suptitle(\n",
    "    \"Comparison of the slope class with the surface elevation change standard error.\"\n",
    ")"
   ]
  }
 ],
 "metadata": {
  "kernelspec": {
   "display_name": "Python 3 (ipykernel)",
   "language": "python",
   "name": "python3"
  },
  "language_info": {
   "codemirror_mode": {
    "name": "ipython",
    "version": 3
   },
   "file_extension": ".py",
   "mimetype": "text/x-python",
   "name": "python",
   "nbconvert_exporter": "python",
   "pygments_lexer": "ipython3",
   "version": "3.10.13"
  }
 },
 "nbformat": 4,
 "nbformat_minor": 5
}
