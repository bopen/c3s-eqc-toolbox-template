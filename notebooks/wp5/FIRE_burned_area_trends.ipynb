{
 "cells": [
  {
   "cell_type": "markdown",
   "id": "0",
   "metadata": {},
   "source": [
    "# Use Case: Assessment of trends in wildfire events in the Iberian Peninsula"
   ]
  },
  {
   "cell_type": "markdown",
   "id": "1",
   "metadata": {},
   "source": [
    "## Import packages"
   ]
  },
  {
   "cell_type": "code",
   "execution_count": null,
   "id": "2",
   "metadata": {},
   "outputs": [],
   "source": [
    "import geopandas as gpd\n",
    "import matplotlib.pyplot as plt\n",
    "import pandas as pd\n",
    "import regionmask\n",
    "import scipy.stats\n",
    "import shapely\n",
    "import xarray as xr\n",
    "from c3s_eqc_automatic_quality_control import download, utils\n",
    "\n",
    "plt.style.use(\"seaborn-v0_8-notebook\")"
   ]
  },
  {
   "cell_type": "markdown",
   "id": "3",
   "metadata": {},
   "source": [
    "## Define Parameters"
   ]
  },
  {
   "cell_type": "code",
   "execution_count": null,
   "id": "4",
   "metadata": {},
   "outputs": [],
   "source": [
    "# Time period\n",
    "year_start = 2001\n",
    "year_stop = 2019\n",
    "\n",
    "# Region of interest\n",
    "lon_slice = slice(-10, 4)\n",
    "lat_slice = slice(45, 35)\n",
    "\n",
    "# Shapefile with regions\n",
    "shapefile_url = \"https://gisco-services.ec.europa.eu/distribution/v2/nuts/shp/NUTS_RG_20M_2021_4326.shp.zip\""
   ]
  },
  {
   "cell_type": "markdown",
   "id": "5",
   "metadata": {},
   "source": [
    "## Define request"
   ]
  },
  {
   "cell_type": "code",
   "execution_count": null,
   "id": "6",
   "metadata": {},
   "outputs": [],
   "source": [
    "request = (\n",
    "    \"satellite-fire-burned-area\",\n",
    "    {\n",
    "        \"format\": \"zip\",\n",
    "        \"origin\": \"esa_cci\",\n",
    "        \"sensor\": \"modis\",\n",
    "        \"version\": \"5_1_1cds\",\n",
    "        \"year\": [str(year) for year in range(year_start, year_stop + 1)],\n",
    "        \"variable\": \"grid_variables\",\n",
    "        \"month\": [\"06\", \"07\", \"08\"],\n",
    "        \"nominal_day\": \"01\",\n",
    "    },\n",
    ")"
   ]
  },
  {
   "cell_type": "markdown",
   "id": "7",
   "metadata": {},
   "source": [
    "## Download and regionalise"
   ]
  },
  {
   "cell_type": "code",
   "execution_count": null,
   "id": "8",
   "metadata": {},
   "outputs": [],
   "source": [
    "# Download and regionalize\n",
    "ds = download.download_and_transform(\n",
    "    *request,\n",
    "    transform_func=utils.regionalise,\n",
    "    transform_func_kwargs={\"lon_slice\": lon_slice, \"lat_slice\": lat_slice},\n",
    "    chunks={\"year\": 1},\n",
    ")\n",
    "\n",
    "# Reindex using year/month (shift months + 1)\n",
    "ds = ds.assign_coords(\n",
    "    year=(\"time\", ds[\"time\"].dt.year.astype(int).values),\n",
    "    month=(\"time\", ds[\"time\"].dt.month.astype(int).values + 1),\n",
    ")\n",
    "ds = ds.set_index(time=(\"year\", \"month\")).unstack(\"time\")\n",
    "\n",
    "# Convert units\n",
    "da = ds[\"burned_area\"]\n",
    "with xr.set_options(keep_attrs=True):\n",
    "    da *= 1.0e-6\n",
    "da.attrs[\"units\"] = \"km$^2$\"\n",
    "da.attrs[\"long_name\"] = \"Fire Burned Area\""
   ]
  },
  {
   "cell_type": "markdown",
   "id": "9",
   "metadata": {},
   "source": [
    "## Mask regions"
   ]
  },
  {
   "cell_type": "code",
   "execution_count": null,
   "id": "10",
   "metadata": {},
   "outputs": [],
   "source": [
    "lon_bounds = [-10.18, 1]\n",
    "lat_bounds = [36.5, 43]\n",
    "crs = \"epsg:4326\"\n",
    "\n",
    "lon_bounds += sorted(lon_bounds, reverse=True)\n",
    "lat_bounds = [lat for lat in lat_bounds for _ in range(2)]\n",
    "bbox = shapely.Polygon(zip(lon_bounds, lat_bounds))\n",
    "\n",
    "gdf = gpd.read_file(shapefile_url)\n",
    "gdf = gdf[gdf[\"LEVL_CODE\"] == 2]\n",
    "gdf = gdf[gdf.intersects(bbox)]\n",
    "gdf = gdf[gdf[\"NUTS_ID\"].str.startswith((\"ES\", \"PT\"))]\n",
    "gdf = gdf.to_crs(crs)\n",
    "\n",
    "ds.rio.write_crs(crs, inplace=True)\n",
    "\n",
    "regions = regionmask.from_geopandas(gdf, names=\"NUTS_NAME\")\n",
    "mask = regions.mask_3D(ds[\"longitude\"], ds[\"latitude\"])"
   ]
  },
  {
   "cell_type": "markdown",
   "id": "11",
   "metadata": {},
   "source": [
    "## Compute and add stats"
   ]
  },
  {
   "cell_type": "code",
   "execution_count": null,
   "id": "12",
   "metadata": {},
   "outputs": [],
   "source": [
    "da_grouped = da.where(mask).sum((\"latitude\", \"longitude\", \"month\"))\n",
    "da_grouped = da_grouped.assign_coords(region=mask[\"names\"]).compute()\n",
    "\n",
    "df_dict = {\"slope\": [], \"intercept\": [], \"tau\": [], \"p-value\": []}\n",
    "for region in gdf[\"NUTS_NAME\"]:\n",
    "    da_region = da_grouped.sel(region=region).squeeze()\n",
    "    slope, intercept, *_ = scipy.stats.theilslopes(da_region, da_region[\"year\"])\n",
    "    tau, p_value = scipy.stats.kendalltau(da_region[\"year\"], da_region)\n",
    "    df_dict[\"slope\"].append(slope)\n",
    "    df_dict[\"intercept\"].append(intercept)\n",
    "    df_dict[\"tau\"].append(tau)\n",
    "    df_dict[\"p-value\"].append(p_value)\n",
    "gdf[list(df_dict)] = pd.DataFrame(df_dict, index=gdf.index)"
   ]
  },
  {
   "cell_type": "markdown",
   "id": "13",
   "metadata": {},
   "source": [
    "## Define plotting function"
   ]
  },
  {
   "cell_type": "code",
   "execution_count": null,
   "id": "14",
   "metadata": {},
   "outputs": [],
   "source": [
    "def plot_trend(da, df, **kwargs):\n",
    "    facet = da.plot(col=\"region\", marker=\"o\", sharex=False, **kwargs)\n",
    "    for ax, sel_dict in zip(facet.axs.flatten(), facet.name_dicts.flatten()):\n",
    "        if not sel_dict:\n",
    "            continue\n",
    "        da_sel = da.sel(sel_dict)\n",
    "        df_region = df[df[\"NUTS_NAME\"] == sel_dict[\"region\"]].squeeze()\n",
    "        ax.plot(\n",
    "            da_sel[\"year\"],\n",
    "            da_sel[\"year\"] * df_region[\"slope\"] + df_region[\"intercept\"],\n",
    "            label=\"\\n\".join(\n",
    "                [\n",
    "                    f\"slope = {df_region['slope']:.3f} km$^2$/year\",\n",
    "                    f\"p-value = {df_region['p-value']:.3f}\",\n",
    "                    f\"tau = {df_region['tau']:.3f}\",\n",
    "                    f\"intercept = {df_region['intercept']:.3f} km$^2$\",\n",
    "                ]\n",
    "            ),\n",
    "            color=\"k\",\n",
    "            ls=\"--\",\n",
    "        )\n",
    "        ax.set_xticks(da_sel[\"year\"][::2])\n",
    "        ax.set_title(sel_dict[\"region\"])\n",
    "        ax.legend()\n",
    "        ax.grid()\n",
    "    return facet"
   ]
  },
  {
   "cell_type": "markdown",
   "id": "15",
   "metadata": {},
   "source": [
    "## Plot all regions - timeseries"
   ]
  },
  {
   "cell_type": "code",
   "execution_count": null,
   "id": "16",
   "metadata": {},
   "outputs": [],
   "source": [
    "facet = plot_trend(da_grouped, gdf, col_wrap=3, aspect=1.5)"
   ]
  },
  {
   "cell_type": "markdown",
   "id": "17",
   "metadata": {},
   "source": [
    "## Plot regions of interest - timeseries"
   ]
  },
  {
   "cell_type": "code",
   "execution_count": null,
   "id": "18",
   "metadata": {},
   "outputs": [],
   "source": [
    "regions_of_interest = [\"Galicia\", \"Andalucía\", \"Norte\", \"Centro (PT)\"]\n",
    "_ = plot_trend(da_grouped.sel(region=regions_of_interest), gdf, col_wrap=1, aspect=2)"
   ]
  },
  {
   "cell_type": "markdown",
   "id": "19",
   "metadata": {},
   "source": [
    "## Plot trends map"
   ]
  },
  {
   "cell_type": "code",
   "execution_count": null,
   "id": "20",
   "metadata": {},
   "outputs": [],
   "source": [
    "vmax = gdf[\"slope\"].abs().max()\n",
    "ax = gdf.plot(\n",
    "    gdf[\"slope\"],\n",
    "    cmap=\"coolwarm\",\n",
    "    vmax=vmax,\n",
    "    vmin=-vmax,\n",
    "    edgecolor=\"k\",\n",
    "    legend=True,\n",
    "    legend_kwds={\"label\": \"Trend Value [km$^2$/year]\"},\n",
    ")\n",
    "ax = gdf.loc[~(gdf[\"p-value\"] < 0.05)].plot(facecolor=\"none\", hatch=\"///\", ax=ax)\n",
    "_ = ax.axis(\"off\")"
   ]
  }
 ],
 "metadata": {
  "kernelspec": {
   "display_name": "Python 3 (ipykernel)",
   "language": "python",
   "name": "python3"
  },
  "language_info": {
   "codemirror_mode": {
    "name": "ipython",
    "version": 3
   },
   "file_extension": ".py",
   "mimetype": "text/x-python",
   "name": "python",
   "nbconvert_exporter": "python",
   "pygments_lexer": "ipython3",
   "version": "3.11.9"
  }
 },
 "nbformat": 4,
 "nbformat_minor": 5
}
