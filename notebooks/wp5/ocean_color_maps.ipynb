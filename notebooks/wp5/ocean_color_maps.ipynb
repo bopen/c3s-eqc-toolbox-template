{
 "cells": [
  {
   "cell_type": "markdown",
   "id": "d2078cb1",
   "metadata": {},
   "source": [
    "# Ocean color reflectance"
   ]
  },
  {
   "cell_type": "markdown",
   "id": "25f9797c",
   "metadata": {},
   "source": [
    "## Import packages"
   ]
  },
  {
   "cell_type": "code",
   "execution_count": null,
   "id": "7b0ba8de-66d3-4280-b486-ea3bafa4ae28",
   "metadata": {},
   "outputs": [],
   "source": [
    "import cacholote\n",
    "import matplotlib.pyplot as plt\n",
    "import numpy as np\n",
    "import tqdm\n",
    "import xarray as xr\n",
    "from c3s_eqc_automatic_quality_control import diagnostics, download, plot, utils\n",
    "\n",
    "plt.style.use(\"seaborn-v0_8-notebook\")"
   ]
  },
  {
   "cell_type": "markdown",
   "id": "20d3c6af",
   "metadata": {},
   "source": [
    "## Define Parameters"
   ]
  },
  {
   "cell_type": "code",
   "execution_count": null,
   "id": "a0061522-8772-42d4-8f1a-f6bbdb03ad25",
   "metadata": {},
   "outputs": [],
   "source": [
    "# Time period\n",
    "year_start = 1998\n",
    "year_stop = 2022\n",
    "\n",
    "# Variable to analyse\n",
    "variable = \"Rrs_443\"\n",
    "assert variable in (\n",
    "    \"chlor_a\",\n",
    "    \"Rrs_412\",\n",
    "    \"Rrs_443\",\n",
    "    \"Rrs_490\",\n",
    "    \"Rrs_510\",\n",
    "    \"Rrs_560\",\n",
    "    \"Rrs_665\",\n",
    ")\n",
    "\n",
    "# Regions to plot\n",
    "regions = {\n",
    "    \"Global\": {\"lon_slice\": slice(-180, 180), \"lat_slice\": slice(90, -90)},\n",
    "    \"50S-50N\": {\"lon_slice\": slice(-180, 180), \"lat_slice\": slice(50, -50)},\n",
    "    \"15-30N 40-55W\": {\"lon_slice\": slice(-55, -40), \"lat_slice\": slice(30, 15)},\n",
    "    \"NASTG\": {\"lon_slice\": slice(-80, 0), \"lat_slice\": slice(50, 0)},\n",
    "}\n",
    "for region, slices in regions.items():\n",
    "    # Enforce sorting as original data\n",
    "    for k, v in slices.items():\n",
    "        assert v.start >= v.stop if k == \"lat_slice\" else v.start <= v.stop, (region, k)\n",
    "\n",
    "# Save figures\n",
    "savefig = False\n",
    "assert isinstance(savefig, bool)"
   ]
  },
  {
   "cell_type": "markdown",
   "id": "42726c21",
   "metadata": {},
   "source": [
    "## Define request"
   ]
  },
  {
   "cell_type": "code",
   "execution_count": null,
   "id": "382c1767-9a60-4db1-8791-fc5f65887d10",
   "metadata": {},
   "outputs": [],
   "source": [
    "collection_id = \"satellite-ocean-colour\"\n",
    "\n",
    "request = {\n",
    "    \"variable\": \"remote_sensing_reflectance\"\n",
    "    if variable.startswith(\"Rrs\")\n",
    "    else \"mass_concentration_of_chlorophyll_a\",\n",
    "    \"projection\": \"regular_latitude_longitude_grid\",\n",
    "    \"version\": \"6_0\",\n",
    "    \"format\": \"zip\",\n",
    "}\n",
    "\n",
    "# Parameters to speed up I/O\n",
    "open_mfdataset_kwargs = {\n",
    "    \"concat_dim\": \"time\",\n",
    "    \"combine\": \"nested\",\n",
    "    \"data_vars\": \"minimal\",\n",
    "    \"coords\": \"minimal\",\n",
    "    \"compat\": \"override\",\n",
    "    \"parallel\": True,\n",
    "}"
   ]
  },
  {
   "cell_type": "markdown",
   "id": "1dce537a-7786-4472-9e99-11c25236f5b3",
   "metadata": {},
   "source": [
    "## Functions to cache"
   ]
  },
  {
   "cell_type": "code",
   "execution_count": null,
   "id": "5e9c43b1-48ef-4a00-90cf-d062cb59c9af",
   "metadata": {},
   "outputs": [],
   "source": [
    "def rechunk(obj):\n",
    "    chunks = {\"year\": 1, \"time\": -1, \"longitude\": 270, \"latitude\": 270}\n",
    "    return obj.chunk(**{k: v for k, v in chunks.items() if k in obj.dims})\n",
    "\n",
    "\n",
    "def rrs_monthly_weighted_log_reductions(ds, variable):\n",
    "    da = rechunk(ds[variable])\n",
    "    if variable == \"chlor_a\":\n",
    "        da = da.where((da > 1.0e-3) & (da < 1.0e2))\n",
    "    weights = np.abs(np.cos(np.deg2rad(da[\"latitude\"])))\n",
    "    with xr.set_options(keep_attrs=True):\n",
    "        da = np.log10(da)\n",
    "        da = da.groupby(\"time.year\").map(\n",
    "            diagnostics.monthly_weighted_mean, weights=False\n",
    "        )\n",
    "        da = 10 ** (da + np.log10(weights))\n",
    "        da = da.persist()\n",
    "        da_mean = da.mean(\"month\").expand_dims(reduction=[\"mean\"])\n",
    "        da_std = (10 ** np.log10(da).std(\"month\")).expand_dims(reduction=[\"std\"])\n",
    "    da = xr.concat([da_mean, da_std], \"reduction\")\n",
    "    da.attrs[\"long_name\"] = da.attrs[\"long_name\"].replace(\" (not log-transformed)\", \"\")\n",
    "    da.encoding[\"chunksizes\"] = tuple(map(max, da.chunks))\n",
    "    return da.to_dataset(name=variable)\n",
    "\n",
    "\n",
    "def get_yearly_mean_and_std(\n",
    "    collection_id, request, year_start, year_stop, variable, **open_mfdataset_kwargs\n",
    "):\n",
    "    datasets = []\n",
    "    for year in tqdm.tqdm(range(year_start, year_stop + 1), desc=\"year\"):\n",
    "        requests = download.update_request_date(\n",
    "            request, start=f\"{year}-01\", stop=f\"{year}-12\", stringify_dates=True\n",
    "        )\n",
    "        ds = download.download_and_transform(\n",
    "            collection_id,\n",
    "            requests,\n",
    "            transform_chunks=False,\n",
    "            transform_func=rrs_monthly_weighted_log_reductions,\n",
    "            transform_func_kwargs={\"variable\": variable},\n",
    "            chunks={\"year\": 1, \"month\": 1},\n",
    "            **open_mfdataset_kwargs,\n",
    "        )\n",
    "        datasets.append(rechunk(ds))\n",
    "    return xr.concat(datasets, \"year\")\n",
    "\n",
    "\n",
    "@cacholote.cacheable\n",
    "def get_overall_mean_and_std(\n",
    "    collection_id, request, year_start, year_stop, variable, **open_mfdataset_kwargs\n",
    "):\n",
    "    da = get_yearly_mean_and_std(\n",
    "        collection_id=collection_id,\n",
    "        request=request,\n",
    "        year_start=year_start,\n",
    "        year_stop=year_stop,\n",
    "        variable=variable,\n",
    "        **open_mfdataset_kwargs,\n",
    "    )[variable]\n",
    "    with xr.set_options(keep_attrs=True):\n",
    "        da_mean = da.sel(reduction=[\"mean\"]).mean(\"year\")\n",
    "        da_std = (da.sel(reduction=[\"std\"]) ** 2).mean(\"year\") ** 0.5\n",
    "    da = rechunk(xr.concat([da_mean, da_std], \"reduction\"))\n",
    "    return da.to_dataset(name=variable)"
   ]
  },
  {
   "cell_type": "markdown",
   "id": "3d8a7b28",
   "metadata": {},
   "source": [
    "## Download and transform data"
   ]
  },
  {
   "cell_type": "code",
   "execution_count": null,
   "id": "8cb75234-f402-4ce7-9585-4192ea1b2fb5",
   "metadata": {},
   "outputs": [],
   "source": [
    "kwargs = {\n",
    "    \"collection_id\": collection_id,\n",
    "    \"request\": request,\n",
    "    \"year_start\": year_start,\n",
    "    \"year_stop\": year_stop,\n",
    "    \"variable\": variable,\n",
    "} | open_mfdataset_kwargs\n",
    "\n",
    "da = rechunk(get_overall_mean_and_std(**kwargs)[variable])\n",
    "da_year = rechunk(get_yearly_mean_and_std(**kwargs)[variable])\n",
    "da_year_low_res = da_year.coarsen({\"latitude\": 5, \"longitude\": 5}).mean()"
   ]
  },
  {
   "cell_type": "markdown",
   "id": "7aaf7e33-a440-4c6a-a3dd-0e08010e3eb1",
   "metadata": {},
   "source": [
    "## Plot maps"
   ]
  },
  {
   "cell_type": "code",
   "execution_count": null,
   "id": "032853a4-e6fb-4d89-8593-76f5163da3f4",
   "metadata": {},
   "outputs": [],
   "source": [
    "plot_kwargs = {}\n",
    "for region, regionalise_kwargs in regions.items():\n",
    "    # Compute all plot kwargs once based on overall stats\n",
    "    da_region = utils.regionalise(da, **regionalise_kwargs)\n",
    "    kwargs_reductions = {}\n",
    "    for reduction, da_reduction in da_region.groupby(\"reduction\"):\n",
    "        kwargs_reductions[reduction] = xr.plot.utils._determine_cmap_params(\n",
    "            da_reduction.values, robust=True\n",
    "        )\n",
    "    plot_kwargs[region] = kwargs_reductions\n",
    "\n",
    "for da_to_plot in [da, da_year_low_res]:\n",
    "    for region, regionalise_kwargs in regions.items():\n",
    "        da_region = utils.regionalise(da_to_plot, **regionalise_kwargs)\n",
    "        for reduction, da_reduction in da_region.groupby(\"reduction\"):\n",
    "            plot.projected_map(\n",
    "                da_reduction,\n",
    "                col=\"year\" if \"year\" in da_to_plot.dims else None,\n",
    "                col_wrap=5,\n",
    "                show_stats=False,\n",
    "                **plot_kwargs[region][reduction],\n",
    "            )\n",
    "            title = [reduction.capitalize(), region, f\"{year_start}-{year_stop}\"]\n",
    "            if \"year\" in da_to_plot.dims:\n",
    "                title.append(\"Yearly\")\n",
    "            title = \" \".join(title)\n",
    "            plt.suptitle(title) if \"year\" in da_to_plot.dims else plt.title(title)\n",
    "            if savefig:\n",
    "                plt.savefig(title.replace(\" \", \"_\").lower() + \".png\")\n",
    "            plt.show()"
   ]
  }
 ],
 "metadata": {
  "kernelspec": {
   "display_name": "Python 3 (ipykernel)",
   "language": "python",
   "name": "python3"
  },
  "language_info": {
   "codemirror_mode": {
    "name": "ipython",
    "version": 3
   },
   "file_extension": ".py",
   "mimetype": "text/x-python",
   "name": "python",
   "nbconvert_exporter": "python",
   "pygments_lexer": "ipython3",
   "version": "3.10.12"
  }
 },
 "nbformat": 4,
 "nbformat_minor": 5
}
