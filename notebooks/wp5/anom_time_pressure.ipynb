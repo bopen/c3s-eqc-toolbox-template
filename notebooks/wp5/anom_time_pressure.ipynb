{
 "cells": [
  {
   "attachments": {},
   "cell_type": "markdown",
   "metadata": {},
   "source": [
    "# ERA5 temperature anomaly on pressure levels"
   ]
  },
  {
   "cell_type": "markdown",
   "metadata": {},
   "source": [
    "## Import libraries"
   ]
  },
  {
   "cell_type": "code",
   "execution_count": null,
   "metadata": {},
   "outputs": [],
   "source": [
    "import matplotlib.pyplot as plt\n",
    "import xarray as xr\n",
    "from c3s_eqc_automatic_quality_control import diagnostics, download\n",
    "\n",
    "plt.style.use(\"seaborn-v0_8-notebook\")"
   ]
  },
  {
   "cell_type": "markdown",
   "metadata": {},
   "source": [
    "## Select time range"
   ]
  },
  {
   "cell_type": "code",
   "execution_count": null,
   "metadata": {},
   "outputs": [],
   "source": [
    "start = \"2022-01\"\n",
    "stop = None"
   ]
  },
  {
   "cell_type": "markdown",
   "metadata": {},
   "source": [
    "## Define request"
   ]
  },
  {
   "cell_type": "code",
   "execution_count": null,
   "metadata": {},
   "outputs": [],
   "source": [
    "collection_id = \"reanalysis-era5-pressure-levels-monthly-means\"\n",
    "request = {\n",
    "    \"format\": \"grib\",\n",
    "    \"product_type\": \"monthly_averaged_reanalysis\",\n",
    "    \"variable\": \"temperature\",\n",
    "    \"pressure_level\": [\n",
    "        \"1\",\n",
    "        \"2\",\n",
    "        \"3\",\n",
    "        \"5\",\n",
    "        \"7\",\n",
    "        \"10\",\n",
    "        \"20\",\n",
    "        \"30\",\n",
    "        \"50\",\n",
    "        \"70\",\n",
    "        \"100\",\n",
    "        \"125\",\n",
    "        \"150\",\n",
    "        \"175\",\n",
    "        \"200\",\n",
    "        \"225\",\n",
    "        \"250\",\n",
    "        \"300\",\n",
    "        \"350\",\n",
    "        \"400\",\n",
    "        \"450\",\n",
    "        \"500\",\n",
    "        \"550\",\n",
    "        \"600\",\n",
    "        \"650\",\n",
    "        \"700\",\n",
    "        \"750\",\n",
    "        \"775\",\n",
    "        \"800\",\n",
    "        \"825\",\n",
    "        \"850\",\n",
    "        \"875\",\n",
    "        \"900\",\n",
    "        \"925\",\n",
    "        \"950\",\n",
    "        \"975\",\n",
    "        \"1000\",\n",
    "    ],\n",
    "    \"time\": \"00:00\",\n",
    "}\n",
    "requests = download.update_request_date(request, start=start, stop=stop)"
   ]
  },
  {
   "attachments": {},
   "cell_type": "markdown",
   "metadata": {},
   "source": [
    "## Define function"
   ]
  },
  {
   "cell_type": "code",
   "execution_count": null,
   "metadata": {},
   "outputs": [],
   "source": [
    "def zonal_mean(ds):\n",
    "    return ds.mean(\"longitude\", keep_attrs=True)"
   ]
  },
  {
   "cell_type": "markdown",
   "metadata": {},
   "source": [
    "## Download data"
   ]
  },
  {
   "cell_type": "code",
   "execution_count": null,
   "metadata": {},
   "outputs": [],
   "source": [
    "ds_zonal = download.download_and_transform(\n",
    "    collection_id,\n",
    "    requests,\n",
    "    transform_func=zonal_mean,\n",
    "    chunks={\"year\": 1},\n",
    ")"
   ]
  },
  {
   "cell_type": "markdown",
   "metadata": {},
   "source": [
    "## Compute anomalies"
   ]
  },
  {
   "cell_type": "code",
   "execution_count": null,
   "metadata": {},
   "outputs": [],
   "source": [
    "ds_mean = diagnostics.spatial_weighted_mean(ds_zonal, dim=(\"latitude\"))\n",
    "ds_grouped = ds_mean.groupby(\"forecast_reference_time.month\")\n",
    "with xr.set_options(keep_attrs=True):\n",
    "    ds_anoma = ds_grouped - ds_grouped.mean(\"forecast_reference_time\")\n",
    "ds_anoma[\"t\"].attrs[\"long_name\"] = ds_mean[\"t\"].attrs[\"long_name\"] + \" Anomaly\""
   ]
  },
  {
   "attachments": {},
   "cell_type": "markdown",
   "metadata": {},
   "source": [
    "## Hovmöller Diagram"
   ]
  },
  {
   "cell_type": "code",
   "execution_count": null,
   "metadata": {},
   "outputs": [],
   "source": [
    "ds_anoma[\"t\"].plot.contourf(\n",
    "    x=\"time\",\n",
    "    yscale=\"log\",\n",
    "    robust=True,\n",
    "    levels=15,\n",
    "    yincrease=False,\n",
    "    figsize=(15, 5),\n",
    "    cbar_kwargs={\"orientation\": \"horizontal\"},\n",
    ")\n",
    "_ = plt.title(\"ERA5 temperature on pressure levels\")"
   ]
  },
  {
   "cell_type": "code",
   "execution_count": null,
   "metadata": {},
   "outputs": [],
   "source": []
  }
 ],
 "metadata": {
  "kernelspec": {
   "display_name": "Python 3 (ipykernel)",
   "language": "python",
   "name": "python3"
  },
  "language_info": {
   "codemirror_mode": {
    "name": "ipython",
    "version": 3
   },
   "file_extension": ".py",
   "mimetype": "text/x-python",
   "name": "python",
   "nbconvert_exporter": "python",
   "pygments_lexer": "ipython3",
   "version": "3.10.10"
  }
 },
 "nbformat": 4,
 "nbformat_minor": 2
}
