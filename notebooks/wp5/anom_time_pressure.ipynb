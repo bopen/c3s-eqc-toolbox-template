{
 "cells": [
  {
   "attachments": {},
   "cell_type": "markdown",
   "metadata": {},
   "source": [
    "# ERA5 hourly data on pressure levels"
   ]
  },
  {
   "attachments": {},
   "cell_type": "markdown",
   "metadata": {},
   "source": [
    "## Import libraries"
   ]
  },
  {
   "cell_type": "code",
   "execution_count": null,
   "metadata": {},
   "outputs": [],
   "source": [
    "import matplotlib.pyplot as plt\n",
    "import xarray as xr\n",
    "from c3s_eqc_automatic_quality_control import diagnostics, download\n",
    "\n",
    "plt.style.use(\"seaborn-v0_8-notebook\")"
   ]
  },
  {
   "attachments": {},
   "cell_type": "markdown",
   "metadata": {},
   "source": [
    "## Select time range"
   ]
  },
  {
   "cell_type": "code",
   "execution_count": null,
   "metadata": {},
   "outputs": [],
   "source": [
    "start = \"2022-01\"\n",
    "stop = None  # None: present"
   ]
  },
  {
   "attachments": {},
   "cell_type": "markdown",
   "metadata": {},
   "source": [
    "## Define request"
   ]
  },
  {
   "cell_type": "code",
   "execution_count": null,
   "metadata": {},
   "outputs": [],
   "source": [
    "collection_id = \"reanalysis-era5-pressure-levels-monthly-means\"\n",
    "request = {\n",
    "    \"format\": \"netcdf\",\n",
    "    \"product_type\": \"monthly_averaged_reanalysis\",\n",
    "    \"variable\": \"temperature\",\n",
    "    \"pressure_level\": [\n",
    "        \"1\",\n",
    "        \"5\",\n",
    "        \"20\",\n",
    "        \"70\",\n",
    "        \"150\",\n",
    "        \"225\",\n",
    "        \"350\",\n",
    "        \"500\",\n",
    "        \"650\",\n",
    "        \"775\",\n",
    "        \"850\",\n",
    "        \"925\",\n",
    "        \"1000\",\n",
    "    ],\n",
    "    \"time\": \"00:00\",\n",
    "}\n",
    "requests = download.update_request_date(request, start=start, stop=stop)"
   ]
  },
  {
   "attachments": {},
   "cell_type": "markdown",
   "metadata": {},
   "source": [
    "## Download data"
   ]
  },
  {
   "cell_type": "code",
   "execution_count": null,
   "metadata": {},
   "outputs": [],
   "source": [
    "ds = download.download_and_transform(\n",
    "    collection_id,\n",
    "    requests,\n",
    "    transform_func=diagnostics.spatial_weighted_mean,\n",
    "    chunks={\"year\": 1},\n",
    ")"
   ]
  },
  {
   "attachments": {},
   "cell_type": "markdown",
   "metadata": {},
   "source": [
    "## Compute anomalies"
   ]
  },
  {
   "cell_type": "code",
   "execution_count": null,
   "metadata": {},
   "outputs": [],
   "source": [
    "with xr.set_options(keep_attrs=True):\n",
    "    ds_anoma = ds - ds.mean(\"time\")\n",
    "ds_anoma[\"t\"].attrs[\"long_name\"] = ds[\"t\"].attrs[\"long_name\"] + \" Anomaly\""
   ]
  },
  {
   "attachments": {},
   "cell_type": "markdown",
   "metadata": {},
   "source": [
    "## Plot"
   ]
  },
  {
   "cell_type": "code",
   "execution_count": null,
   "metadata": {},
   "outputs": [],
   "source": [
    "lines = ds_anoma[\"t\"].plot(hue=\"level\")\n",
    "level = ds_anoma[\"level\"]\n",
    "plt.legend(\n",
    "    lines,\n",
    "    level.values,\n",
    "    bbox_to_anchor=(1, 1),\n",
    "    loc=\"upper left\",\n",
    "    title=f\"{level.attrs['long_name']} [{level.attrs['units']}]\",\n",
    ")"
   ]
  }
 ],
 "metadata": {
  "kernelspec": {
   "display_name": "eqc",
   "language": "python",
   "name": "python3"
  },
  "language_info": {
   "codemirror_mode": {
    "name": "ipython",
    "version": 3
   },
   "file_extension": ".py",
   "mimetype": "text/x-python",
   "name": "python",
   "nbconvert_exporter": "python",
   "pygments_lexer": "ipython3",
   "version": "3.10.10"
  }
 },
 "nbformat": 4,
 "nbformat_minor": 2
}
