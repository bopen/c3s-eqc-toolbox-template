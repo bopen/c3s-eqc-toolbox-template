{
 "cells": [
  {
   "cell_type": "markdown",
   "id": "0",
   "metadata": {},
   "source": [
    "# Ocean Color"
   ]
  },
  {
   "cell_type": "markdown",
   "id": "1",
   "metadata": {},
   "source": [
    "## Import packages"
   ]
  },
  {
   "cell_type": "code",
   "execution_count": null,
   "id": "2",
   "metadata": {},
   "outputs": [],
   "source": [
    "import matplotlib.colors\n",
    "import matplotlib.patheffects as pe\n",
    "import matplotlib.pyplot as plt\n",
    "import numpy as np\n",
    "import pandas as pd\n",
    "import pymannkendall as mk\n",
    "import xarray as xr\n",
    "from c3s_eqc_automatic_quality_control import diagnostics, download, utils\n",
    "\n",
    "plt.style.use(\"seaborn-v0_8-notebook\")"
   ]
  },
  {
   "cell_type": "markdown",
   "id": "3",
   "metadata": {},
   "source": [
    "## Define Parameters"
   ]
  },
  {
   "cell_type": "code",
   "execution_count": null,
   "id": "4",
   "metadata": {},
   "outputs": [],
   "source": [
    "# Time period\n",
    "start = \"1997-09\"\n",
    "stop = \"2023-03\"\n",
    "\n",
    "# Variable to analyse\n",
    "variables = [\n",
    "    \"chlor_a\",\n",
    "    \"Rrs_412\",\n",
    "    \"Rrs_443\",\n",
    "    \"Rrs_490\",\n",
    "    \"Rrs_510\",\n",
    "    \"Rrs_560\",\n",
    "    \"Rrs_665\",\n",
    "]\n",
    "assert set(variables) <= {\"chlor_a\"} | {\n",
    "    f\"Rrs_{wl}\" for wl in (412, 443, 490, 510, 560, 665)\n",
    "}\n",
    "\n",
    "# Regions to plot\n",
    "regions = {\n",
    "    \"Global\": {\"lon_slice\": slice(-180, 180), \"lat_slice\": slice(90, -90)},\n",
    "    \"50S-50N\": {\"lon_slice\": slice(-180, 180), \"lat_slice\": slice(50, -50)},\n",
    "    \"NASTG\": {\"lon_slice\": slice(-80, 0), \"lat_slice\": slice(50, 0)},\n",
    "}\n",
    "for region, slices in regions.items():\n",
    "    # Enforce sorting as original data\n",
    "    for k, v in slices.items():\n",
    "        assert v.start >= v.stop if k == \"lat_slice\" else v.start <= v.stop, (region, k)"
   ]
  },
  {
   "cell_type": "markdown",
   "id": "5",
   "metadata": {},
   "source": [
    "## Define request"
   ]
  },
  {
   "cell_type": "code",
   "execution_count": null,
   "id": "6",
   "metadata": {},
   "outputs": [],
   "source": [
    "collection_id = \"satellite-ocean-colour\"\n",
    "\n",
    "request = {\n",
    "    \"projection\": \"regular_latitude_longitude_grid\",\n",
    "    \"version\": \"6_0\",\n",
    "    \"format\": \"zip\",\n",
    "}"
   ]
  },
  {
   "cell_type": "markdown",
   "id": "7",
   "metadata": {},
   "source": [
    "## Functions to cache"
   ]
  },
  {
   "cell_type": "code",
   "execution_count": null,
   "id": "8",
   "metadata": {},
   "outputs": [],
   "source": [
    "def regionalised_spatial_weighted_mean(ds, variable, lon_slice, lat_slice):\n",
    "    da = ds[variable]\n",
    "    da = utils.regionalise(da, lon_slice=lon_slice, lat_slice=lat_slice)\n",
    "    if variable == \"chlor_a\":\n",
    "        da = da.where((da > 1.0e-3) & (da < 1.0e2))\n",
    "    with xr.set_options(keep_attrs=True):\n",
    "        da = 10 ** diagnostics.spatial_weighted_mean(np.log10(da))\n",
    "    da.attrs[\"long_name\"] = da.attrs[\"long_name\"].replace(\" (not log-transformed)\", \"\")\n",
    "    return da.to_dataset(name=variable)"
   ]
  },
  {
   "cell_type": "markdown",
   "id": "9",
   "metadata": {},
   "source": [
    "## Download and transform data"
   ]
  },
  {
   "cell_type": "code",
   "execution_count": null,
   "id": "10",
   "metadata": {},
   "outputs": [],
   "source": [
    "datasets = []\n",
    "for variable in variables:\n",
    "    for region, slices in regions.items():\n",
    "        print(f\"{variable=} {region=}\")\n",
    "        requests = download.update_request_date(\n",
    "            request\n",
    "            | {\n",
    "                \"variable\": \"remote_sensing_reflectance\"\n",
    "                if variable.startswith(\"Rrs\")\n",
    "                else \"mass_concentration_of_chlorophyll_a\"\n",
    "            },\n",
    "            start=start,\n",
    "            stop=stop,\n",
    "            stringify_dates=True,\n",
    "        )\n",
    "        ds = download.download_and_transform(\n",
    "            collection_id,\n",
    "            requests,\n",
    "            transform_func=regionalised_spatial_weighted_mean,\n",
    "            transform_func_kwargs={\"variable\": variable} | slices,\n",
    "            chunks={\"year\": 1, \"month\": 1, \"variable\": 1},\n",
    "        )\n",
    "        datasets.append(ds.expand_dims(region=[region]))\n",
    "ds = xr.merge(datasets).compute()"
   ]
  },
  {
   "cell_type": "markdown",
   "id": "11",
   "metadata": {},
   "source": [
    "## Define plotting functions"
   ]
  },
  {
   "cell_type": "code",
   "execution_count": null,
   "id": "12",
   "metadata": {},
   "outputs": [],
   "source": [
    "def plot_timeseries(da):\n",
    "    fig, ax = plt.subplots(1, 1)\n",
    "\n",
    "    # Compute variables\n",
    "    da_daily = da.resample(time=\"D\").mean()\n",
    "    da_yearly = da.resample(time=\"Y\").mean()\n",
    "    da_running = (\n",
    "        da.resample(time=\"MS\")\n",
    "        .mean()\n",
    "        .rolling(time=48, center=True, min_periods=1)\n",
    "        .mean()\n",
    "    )\n",
    "    trend, h, p, z, tau, s, var_s, slope, intercept = mk.original_test(\n",
    "        da_yearly.squeeze()\n",
    "    )\n",
    "\n",
    "    # Plots lines\n",
    "    da_daily.plot(\n",
    "        label=\"daily\", ms=4, color=\"tab:grey\", ls=\" \", marker=\".\", ax=ax, zorder=1\n",
    "    )\n",
    "    da_running.plot(\n",
    "        add_legend=False,\n",
    "        label=\"48-month running\",\n",
    "        color=\"r\",\n",
    "        ls=\"-\",\n",
    "        marker=\" \",\n",
    "        ax=ax,\n",
    "        path_effects=[pe.Stroke(linewidth=4, foreground=\"w\"), pe.Normal()],\n",
    "        zorder=3,\n",
    "    )\n",
    "    ax.plot(\n",
    "        da_yearly[\"time\"],\n",
    "        np.arange(da_yearly.sizes[\"time\"]) * slope + intercept,\n",
    "        label=f\"yearly slope {p=:.1e}\",\n",
    "        color=\"k\",\n",
    "        ls=\"--\",\n",
    "        marker=\" \",\n",
    "        path_effects=[pe.Stroke(linewidth=4, foreground=\"w\"), pe.Normal()],\n",
    "        zorder=3,\n",
    "    )\n",
    "\n",
    "    # Plot shades\n",
    "    missions = {\n",
    "        \"SeaWiFS\": [\"1998-01-01\", \"2010-12-31\"],\n",
    "        \"MERIS\": [\"2002-03-01\", \"2012-04-30\"],\n",
    "        \"MODIS-Aqua\": [\"2002-05-01\", \"2019-12-31\"],\n",
    "        \"VIIRS\": [\"2011-11-01\", \"2019-12-31\"],\n",
    "        \"OLCI-3A\": [\"2016-05-01\", \"2022-12-31\"],\n",
    "        \"OLCI-3B\": [\"2008-05-01\", \"2022-12-31\"],\n",
    "    }\n",
    "    for i, (mission, xlims) in enumerate(missions.items()):\n",
    "        plt.axvspan(\n",
    "            *pd.to_datetime(xlims).tolist(),\n",
    "            facecolor=matplotlib.colors.colorConverter.to_rgba(f\"C{i}\", alpha=0.2),\n",
    "            edgecolor=matplotlib.colors.colorConverter.to_rgba(f\"C{i}\", alpha=1),\n",
    "            lw=2,\n",
    "            ls=\"--\",\n",
    "            label=mission,\n",
    "            zorder=2,\n",
    "        )\n",
    "\n",
    "    # Final settings\n",
    "    ax.set_ylim(da.quantile([0.01, 0.99]).values.tolist())\n",
    "    plt.legend(loc=\"upper left\", bbox_to_anchor=(1, 1))\n",
    "    plt.grid()\n",
    "    return fig, ax"
   ]
  },
  {
   "cell_type": "markdown",
   "id": "13",
   "metadata": {},
   "source": [
    "## Plot timeseries"
   ]
  },
  {
   "cell_type": "code",
   "execution_count": null,
   "id": "14",
   "metadata": {},
   "outputs": [],
   "source": [
    "for variable in variables:\n",
    "    for region in regions:\n",
    "        fig, ax = plot_timeseries(ds[variable].sel(region=[region]))\n",
    "        ax.set_title(f\"{variable=:s} {region=:s}\")\n",
    "        plt.show()"
   ]
  }
 ],
 "metadata": {
  "kernelspec": {
   "display_name": "Python 3 (ipykernel)",
   "language": "python",
   "name": "python3"
  },
  "language_info": {
   "codemirror_mode": {
    "name": "ipython",
    "version": 3
   },
   "file_extension": ".py",
   "mimetype": "text/x-python",
   "name": "python",
   "nbconvert_exporter": "python",
   "pygments_lexer": "ipython3",
   "version": "3.10.12"
  }
 },
 "nbformat": 4,
 "nbformat_minor": 5
}
