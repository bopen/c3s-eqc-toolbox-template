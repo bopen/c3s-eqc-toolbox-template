{
 "cells": [
  {
   "cell_type": "markdown",
   "id": "d2078cb1",
   "metadata": {},
   "source": [
    "# Ocean Color"
   ]
  },
  {
   "cell_type": "markdown",
   "id": "25f9797c",
   "metadata": {},
   "source": [
    "## Import packages"
   ]
  },
  {
   "cell_type": "code",
   "execution_count": null,
   "id": "7b0ba8de-66d3-4280-b486-ea3bafa4ae28",
   "metadata": {},
   "outputs": [],
   "source": [
    "import matplotlib.pyplot as plt\n",
    "import numpy as np\n",
    "import pymannkendall as mk\n",
    "import xarray as xr\n",
    "from c3s_eqc_automatic_quality_control import diagnostics, download, utils\n",
    "\n",
    "plt.style.use(\"seaborn-v0_8-notebook\")"
   ]
  },
  {
   "cell_type": "markdown",
   "id": "20d3c6af",
   "metadata": {},
   "source": [
    "## Define Parameters"
   ]
  },
  {
   "cell_type": "code",
   "execution_count": null,
   "id": "a0061522-8772-42d4-8f1a-f6bbdb03ad25",
   "metadata": {},
   "outputs": [],
   "source": [
    "# Time period\n",
    "start = \"1997-09\"\n",
    "stop = \"2023-03\"\n",
    "\n",
    "# Variable to analyse\n",
    "variables = [\"chlor_a\", \"Rrs_443\", \"Rrs_560\"]\n",
    "assert set(variables) <= {\n",
    "    \"chlor_a\",\n",
    "    \"Rrs_412\",\n",
    "    \"Rrs_443\",\n",
    "    \"Rrs_490\",\n",
    "    \"Rrs_510\",\n",
    "    \"Rrs_560\",\n",
    "    \"Rrs_665\",\n",
    "}\n",
    "\n",
    "# Regions to plot\n",
    "regions = {\n",
    "    \"Global\": {\"lon_slice\": slice(-180, 180), \"lat_slice\": slice(90, -90)},\n",
    "    \"50S-50N\": {\"lon_slice\": slice(-180, 180), \"lat_slice\": slice(50, -50)},\n",
    "    \"NASTG\": {\"lon_slice\": slice(-80, 0), \"lat_slice\": slice(50, 0)},\n",
    "}\n",
    "for region, slices in regions.items():\n",
    "    # Enforce sorting as original data\n",
    "    for k, v in slices.items():\n",
    "        assert v.start >= v.stop if k == \"lat_slice\" else v.start <= v.stop, (region, k)"
   ]
  },
  {
   "cell_type": "markdown",
   "id": "42726c21",
   "metadata": {},
   "source": [
    "## Define request"
   ]
  },
  {
   "cell_type": "code",
   "execution_count": null,
   "id": "382c1767-9a60-4db1-8791-fc5f65887d10",
   "metadata": {},
   "outputs": [],
   "source": [
    "collection_id = \"satellite-ocean-colour\"\n",
    "\n",
    "request = {\n",
    "    \"projection\": \"regular_latitude_longitude_grid\",\n",
    "    \"version\": \"6_0\",\n",
    "    \"format\": \"zip\",\n",
    "}"
   ]
  },
  {
   "cell_type": "markdown",
   "id": "2596ac5f",
   "metadata": {},
   "source": [
    "## Functions to cache"
   ]
  },
  {
   "cell_type": "code",
   "execution_count": null,
   "id": "a7b67519-1187-4294-803f-4b540f54615c",
   "metadata": {},
   "outputs": [],
   "source": [
    "def regionalised_spatial_weighted_mean(ds, variable, lon_slice, lat_slice):\n",
    "    da = ds[variable]\n",
    "    da = utils.regionalise(da, lon_slice=lon_slice, lat_slice=lat_slice)\n",
    "    if variable == \"chlor_a\":\n",
    "        da = da.where((da > 1.0e-3) & (da < 1.0e2))\n",
    "    with xr.set_options(keep_attrs=True):\n",
    "        da = 10 ** diagnostics.spatial_weighted_mean(np.log10(da))\n",
    "    da.attrs[\"long_name\"] = da.attrs[\"long_name\"].replace(\" (not log-transformed)\", \"\")\n",
    "    return da.to_dataset(name=variable)"
   ]
  },
  {
   "cell_type": "markdown",
   "id": "3d8a7b28",
   "metadata": {},
   "source": [
    "## Download and transform data"
   ]
  },
  {
   "cell_type": "code",
   "execution_count": null,
   "id": "8cb75234-f402-4ce7-9585-4192ea1b2fb5",
   "metadata": {},
   "outputs": [],
   "source": [
    "datasets = []\n",
    "for variable in variables:\n",
    "    for region, slices in regions.items():\n",
    "        requests = download.update_request_date(\n",
    "            request\n",
    "            | {\n",
    "                \"variable\": \"remote_sensing_reflectance\"\n",
    "                if variable.startswith(\"Rrs\")\n",
    "                else \"mass_concentration_of_chlorophyll_a\"\n",
    "            },\n",
    "            start=start,\n",
    "            stop=stop,\n",
    "            stringify_dates=True,\n",
    "        )\n",
    "        ds = download.download_and_transform(\n",
    "            collection_id,\n",
    "            requests,\n",
    "            transform_func=regionalised_spatial_weighted_mean,\n",
    "            transform_func_kwargs={\"variable\": variable} | slices,\n",
    "            chunks={\"year\": 1, \"month\": 1, \"variable\": 1},\n",
    "        )\n",
    "        datasets.append(ds.expand_dims(latitudes=[region]))\n",
    "ds = xr.merge(datasets).compute()\n",
    "\n",
    "# Extract global and regional\n",
    "ds_global = ds.sel(latitudes=[\"Global\"])\n",
    "ds_regional = ds.drop_sel(latitudes=\"Global\")"
   ]
  },
  {
   "cell_type": "markdown",
   "id": "ebcdfe33-c39b-4007-9032-96a1a11dcdc2",
   "metadata": {},
   "source": [
    "## Define plotting functions"
   ]
  },
  {
   "cell_type": "code",
   "execution_count": null,
   "id": "a714489c-6cf7-4959-9590-1111c24be39c",
   "metadata": {},
   "outputs": [],
   "source": [
    "def plot_timeseries(da):\n",
    "    kwargs_daily = {\n",
    "        \"label\": \"daily\",\n",
    "        \"color\": \"tab:grey\",\n",
    "        \"ls\": \" \",\n",
    "        \"marker\": \".\",\n",
    "    }\n",
    "    kwargs_running = {\n",
    "        \"label\": \"48-month running\",\n",
    "        \"color\": \"tab:red\",\n",
    "        \"ls\": \"--\",\n",
    "        \"marker\": \" \",\n",
    "    }\n",
    "    kwargs_slope = {\n",
    "        \"label\": \"yearly slope\",\n",
    "        \"color\": \"tab:blue\",\n",
    "        \"ls\": \"-\",\n",
    "        \"marker\": \" \",\n",
    "    }\n",
    "\n",
    "    da_daily = da.resample(time=\"D\").mean()\n",
    "    da_yearly = da.resample(time=\"Y\").mean()\n",
    "    da_running = (\n",
    "        da.resample(time=\"MS\")\n",
    "        .mean()\n",
    "        .rolling(time=48, center=True, min_periods=1)\n",
    "        .mean()\n",
    "    )\n",
    "\n",
    "    col = \"latitudes\" if da.sizes[\"latitudes\"] > 1 else None\n",
    "    plt_obj = da_daily.plot(col=col, **kwargs_daily)\n",
    "\n",
    "    if not col:\n",
    "        *_, slope, intercept = mk.original_test(da_yearly.squeeze())\n",
    "\n",
    "        da_running.plot(add_legend=False, **kwargs_running)\n",
    "        plt.plot(\n",
    "            da_yearly[\"time\"],\n",
    "            np.arange(da_yearly.sizes[\"time\"]) * slope + intercept,\n",
    "            **kwargs_slope,\n",
    "        )\n",
    "        plt.legend()\n",
    "        plt.grid()\n",
    "        return plt_obj\n",
    "\n",
    "    for i, (ax, sel_dict) in enumerate(\n",
    "        zip(plt_obj.axs.flatten(), plt_obj.name_dicts.flatten())\n",
    "    ):\n",
    "        da_running.sel(sel_dict).plot(ax=ax, add_legend=False, **kwargs_running)\n",
    "\n",
    "        *_, slope, intercept = mk.original_test(da_yearly.sel(sel_dict))\n",
    "        ax.plot(\n",
    "            da_yearly[\"time\"],\n",
    "            np.arange(da_yearly.sizes[\"time\"]) * slope + intercept,\n",
    "            **kwargs_slope,\n",
    "        )\n",
    "\n",
    "        ax.grid()\n",
    "        if i:\n",
    "            ax.set_ylabel(\"\")\n",
    "\n",
    "    ax.legend(bbox_to_anchor=(1, 1), loc=\"upper left\")\n",
    "    return plt_obj"
   ]
  },
  {
   "cell_type": "markdown",
   "id": "0faf83d4-ca28-409c-a4da-2fbe6297d93a",
   "metadata": {},
   "source": [
    "## Plot timeseries"
   ]
  },
  {
   "cell_type": "code",
   "execution_count": null,
   "id": "317e68c5-26af-44b8-9578-cc840d7b2117",
   "metadata": {},
   "outputs": [],
   "source": [
    "for variable in variables:\n",
    "    for ds in [ds_global, ds_regional]:\n",
    "        da = ds[variable]\n",
    "        plot_timeseries(da)\n",
    "        plt.show()"
   ]
  }
 ],
 "metadata": {
  "kernelspec": {
   "display_name": "Python 3 (ipykernel)",
   "language": "python",
   "name": "python3"
  },
  "language_info": {
   "codemirror_mode": {
    "name": "ipython",
    "version": 3
   },
   "file_extension": ".py",
   "mimetype": "text/x-python",
   "name": "python",
   "nbconvert_exporter": "python",
   "pygments_lexer": "ipython3",
   "version": "3.10.12"
  }
 },
 "nbformat": 4,
 "nbformat_minor": 5
}
