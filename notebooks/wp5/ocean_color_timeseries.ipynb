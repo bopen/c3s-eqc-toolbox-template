{
 "cells": [
  {
   "cell_type": "markdown",
   "id": "d2078cb1",
   "metadata": {},
   "source": [
    "# Ocean Color"
   ]
  },
  {
   "cell_type": "markdown",
   "id": "25f9797c",
   "metadata": {},
   "source": [
    "## Import packages"
   ]
  },
  {
   "cell_type": "code",
   "execution_count": null,
   "id": "7b0ba8de-66d3-4280-b486-ea3bafa4ae28",
   "metadata": {},
   "outputs": [],
   "source": [
    "import matplotlib.pyplot as plt\n",
    "import numpy as np\n",
    "import xarray as xr\n",
    "from c3s_eqc_automatic_quality_control import diagnostics, download, utils\n",
    "\n",
    "plt.style.use(\"seaborn-v0_8-notebook\")\n",
    "plt.rcParams[\"axes.prop_cycle\"] = plt.cycler(\n",
    "    color=[\"tab:blue\", \"tab:red\"], ls=[\"-\", \"--\"]\n",
    ")"
   ]
  },
  {
   "cell_type": "markdown",
   "id": "20d3c6af",
   "metadata": {},
   "source": [
    "## Define Parameters"
   ]
  },
  {
   "cell_type": "code",
   "execution_count": null,
   "id": "a0061522-8772-42d4-8f1a-f6bbdb03ad25",
   "metadata": {},
   "outputs": [],
   "source": [
    "# Time period\n",
    "start = \"1997-09\"\n",
    "stop = \"2023-03\"\n",
    "\n",
    "# Variable to analyse\n",
    "variable = \"chlor_a\"\n",
    "assert variable in (\n",
    "    \"chlor_a\",\n",
    "    \"Rrs_412\",\n",
    "    \"Rrs_443\",\n",
    "    \"Rrs_490\",\n",
    "    \"Rrs_510\",\n",
    "    \"Rrs_560\",\n",
    "    \"Rrs_665\",\n",
    ")\n",
    "\n",
    "# Regions to plot\n",
    "regions = {\n",
    "    \"Global\": {\"lon_slice\": slice(-180, 180), \"lat_slice\": slice(90, -90)},\n",
    "    \"50S-50N\": {\"lon_slice\": slice(-180, 180), \"lat_slice\": slice(50, -50)},\n",
    "    \"15-30N 40-55W\": {\"lon_slice\": slice(-55, -40), \"lat_slice\": slice(30, 15)},\n",
    "    \"NASTG\": {\"lon_slice\": slice(-80, 0), \"lat_slice\": slice(50, 0)},\n",
    "}\n",
    "for region, slices in regions.items():\n",
    "    # Enforce sorting as original data\n",
    "    for k, v in slices.items():\n",
    "        assert v.start >= v.stop if k == \"lat_slice\" else v.start <= v.stop, (region, k)"
   ]
  },
  {
   "cell_type": "markdown",
   "id": "42726c21",
   "metadata": {},
   "source": [
    "## Define request"
   ]
  },
  {
   "cell_type": "code",
   "execution_count": null,
   "id": "382c1767-9a60-4db1-8791-fc5f65887d10",
   "metadata": {},
   "outputs": [],
   "source": [
    "collection_id = \"satellite-ocean-colour\"\n",
    "\n",
    "request = {\n",
    "    \"variable\": \"remote_sensing_reflectance\"\n",
    "    if variable.startswith(\"Rrs\")\n",
    "    else \"mass_concentration_of_chlorophyll_a\",\n",
    "    \"projection\": \"regular_latitude_longitude_grid\",\n",
    "    \"version\": \"6_0\",\n",
    "    \"format\": \"zip\",\n",
    "}\n",
    "\n",
    "requests = download.update_request_date(\n",
    "    request, start=start, stop=stop, stringify_dates=True\n",
    ")"
   ]
  },
  {
   "cell_type": "markdown",
   "id": "2596ac5f",
   "metadata": {},
   "source": [
    "## Functions to cache"
   ]
  },
  {
   "cell_type": "code",
   "execution_count": null,
   "id": "a7b67519-1187-4294-803f-4b540f54615c",
   "metadata": {},
   "outputs": [],
   "source": [
    "def regionalised_spatial_weighted_mean(ds, variable, lon_slice, lat_slice):\n",
    "    da = ds[variable]\n",
    "    da = utils.regionalise(da, lon_slice=lon_slice, lat_slice=lat_slice)\n",
    "    if variable == \"chlor_a\":\n",
    "        da = da.where((da > 1.0e-3) & (da < 1.0e2))\n",
    "    with xr.set_options(keep_attrs=True):\n",
    "        da = 10 ** diagnostics.spatial_weighted_mean(np.log10(da))\n",
    "    da.attrs[\"long_name\"] = da.attrs[\"long_name\"].replace(\" (not log-transformed)\", \"\")\n",
    "    return da.to_dataset(name=variable)"
   ]
  },
  {
   "cell_type": "markdown",
   "id": "3d8a7b28",
   "metadata": {},
   "source": [
    "## Download and transform data"
   ]
  },
  {
   "cell_type": "code",
   "execution_count": null,
   "id": "8cb75234-f402-4ce7-9585-4192ea1b2fb5",
   "metadata": {},
   "outputs": [],
   "source": [
    "datasets = []\n",
    "for region, slices in regions.items():\n",
    "    ds = download.download_and_transform(\n",
    "        collection_id,\n",
    "        requests,\n",
    "        transform_func=regionalised_spatial_weighted_mean,\n",
    "        transform_func_kwargs={\"variable\": variable} | slices,\n",
    "        chunks={\"year\": 1, \"month\": 1},\n",
    "    )\n",
    "    datasets.append(ds.expand_dims(latitudes=[region]))\n",
    "ds = xr.concat(datasets, \"latitudes\")\n",
    "\n",
    "# Extract DataArray\n",
    "da = ds[variable]\n",
    "da_global = da.sel(latitudes=[\"Global\"])\n",
    "da_regional = da.drop_sel(latitudes=\"Global\")"
   ]
  },
  {
   "cell_type": "markdown",
   "id": "ebcdfe33-c39b-4007-9032-96a1a11dcdc2",
   "metadata": {},
   "source": [
    "## Define plotting functions"
   ]
  },
  {
   "cell_type": "code",
   "execution_count": null,
   "id": "a714489c-6cf7-4959-9590-1111c24be39c",
   "metadata": {},
   "outputs": [],
   "source": [
    "def plot_timeseries(da, freq, window, labels, **kwargs):\n",
    "    # Create DataArray\n",
    "    da = da.resample(time=freq).mean()\n",
    "    dataarrays = [da.expand_dims(timeseries=[labels[0]])]\n",
    "    dataarrays.append(\n",
    "        da.rolling(time=window, center=True, min_periods=1)\n",
    "        .mean()\n",
    "        .expand_dims(timeseries=[labels[1]])\n",
    "    )\n",
    "    da = xr.concat(dataarrays, \"timeseries\")\n",
    "\n",
    "    # Plot\n",
    "    default_kwargs = {\"hue\": \"timeseries\"}\n",
    "    if da.sizes.get(\"latitudes\") > 1:\n",
    "        default_kwargs |= {\"col\": \"latitudes\"}\n",
    "    kwargs = default_kwargs | kwargs\n",
    "    plot_obj = da.plot(**kwargs)\n",
    "    if kwargs.get(\"col\") or kwargs.get(\"row\"):\n",
    "        for ax in plot_obj.axs.flatten():\n",
    "            ax.grid()\n",
    "    else:\n",
    "        plt.grid()\n",
    "    return plot_obj\n",
    "\n",
    "\n",
    "def plot_daily(da, window=180, **plot_kwargs):\n",
    "    freq = \"D\"\n",
    "    labels = [\"daily\", f\"{window}-day running\"]\n",
    "    return plot_timeseries(da, freq, window, labels, **plot_kwargs)\n",
    "\n",
    "\n",
    "def plot_monthly(da, window=3, **plot_kwargs):\n",
    "    freq = \"MS\"\n",
    "    labels = [\"monthly\", f\"{window}-month running\"]\n",
    "    return plot_timeseries(da, freq, window, labels, **plot_kwargs)"
   ]
  },
  {
   "cell_type": "markdown",
   "id": "0faf83d4-ca28-409c-a4da-2fbe6297d93a",
   "metadata": {},
   "source": [
    "## Plot timeseries"
   ]
  },
  {
   "cell_type": "code",
   "execution_count": null,
   "id": "317e68c5-26af-44b8-9578-cc840d7b2117",
   "metadata": {},
   "outputs": [],
   "source": [
    "for da_to_plot in [da_global, da_regional]:\n",
    "    for plot_func in plot_daily, plot_monthly:\n",
    "        plot_func(da_to_plot)\n",
    "        plt.show()"
   ]
  }
 ],
 "metadata": {
  "kernelspec": {
   "display_name": "Python 3 (ipykernel)",
   "language": "python",
   "name": "python3"
  },
  "language_info": {
   "codemirror_mode": {
    "name": "ipython",
    "version": 3
   },
   "file_extension": ".py",
   "mimetype": "text/x-python",
   "name": "python",
   "nbconvert_exporter": "python",
   "pygments_lexer": "ipython3",
   "version": "3.10.12"
  }
 },
 "nbformat": 4,
 "nbformat_minor": 5
}
