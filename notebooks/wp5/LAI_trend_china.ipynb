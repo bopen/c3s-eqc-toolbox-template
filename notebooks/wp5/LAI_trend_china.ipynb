{
 "cells": [
  {
   "cell_type": "markdown",
   "id": "0",
   "metadata": {},
   "source": [
    "# LAI trend over China"
   ]
  },
  {
   "cell_type": "markdown",
   "id": "1",
   "metadata": {},
   "source": [
    "## Import libraries"
   ]
  },
  {
   "cell_type": "code",
   "execution_count": null,
   "id": "2",
   "metadata": {},
   "outputs": [],
   "source": [
    "import matplotlib.pyplot as plt\n",
    "import pandas as pd\n",
    "import regionmask\n",
    "import xarray as xr\n",
    "from c3s_eqc_automatic_quality_control import diagnostics, download\n",
    "\n",
    "plt.style.use(\"seaborn-v0_8-notebook\")"
   ]
  },
  {
   "cell_type": "markdown",
   "id": "3",
   "metadata": {},
   "source": [
    "## Set parameters"
   ]
  },
  {
   "cell_type": "code",
   "execution_count": null,
   "id": "4",
   "metadata": {},
   "outputs": [],
   "source": [
    "year_start = 2001\n",
    "year_stop = 2019"
   ]
  },
  {
   "cell_type": "markdown",
   "id": "5",
   "metadata": {},
   "source": [
    "## Define requests"
   ]
  },
  {
   "cell_type": "code",
   "execution_count": null,
   "id": "6",
   "metadata": {},
   "outputs": [],
   "source": [
    "collection_id = \"satellite-lai-fapar\"\n",
    "base_request = {\n",
    "    \"variable\": \"lai\",\n",
    "    \"sensor\": \"vgt\",\n",
    "    \"horizontal_resolution\": \"1km\",\n",
    "    \"product_version\": \"v3\",\n",
    "    \"area\": [53, 73, 18, 135],\n",
    "}\n",
    "\n",
    "requests = []\n",
    "for time in pd.date_range(str(year_start), str(year_stop + 1), freq=\"ME\"):\n",
    "    requests.append(\n",
    "        base_request\n",
    "        | {\n",
    "            \"satellite\": \"spot\" if time.year <= 2013 else \"proba\",\n",
    "            \"year\": str(time.year),\n",
    "            \"month\": f\"{time.month:02d}\",\n",
    "            \"nominal_day\": [\"10\", \"20\", str(time.day)],\n",
    "        }\n",
    "    )"
   ]
  },
  {
   "cell_type": "markdown",
   "id": "7",
   "metadata": {},
   "source": [
    "## Define functions to cache"
   ]
  },
  {
   "cell_type": "code",
   "execution_count": null,
   "id": "8",
   "metadata": {},
   "outputs": [],
   "source": [
    "def spatial_weighted_mean_over_china(ds):\n",
    "    regions = regionmask.defined_regions.natural_earth_v5_0_0.countries_110\n",
    "\n",
    "    spatial_mask = regions[regions.map_keys([\"China\"])].mask(ds).notnull()\n",
    "    flag_mask = (ds[\"retrieval_flag\"].astype(\"int\") & 0xFC1) == 0\n",
    "    lai_mask = ds[\"LAI\"] < 65_535\n",
    "\n",
    "    ds = ds[[\"LAI\"]].where(spatial_mask & flag_mask & lai_mask)\n",
    "    return diagnostics.spatial_weighted_mean(ds)"
   ]
  },
  {
   "cell_type": "markdown",
   "id": "9",
   "metadata": {},
   "source": [
    "## Download and transform"
   ]
  },
  {
   "cell_type": "code",
   "execution_count": null,
   "id": "10",
   "metadata": {},
   "outputs": [],
   "source": [
    "ds = download.download_and_transform(\n",
    "    collection_id,\n",
    "    requests,\n",
    "    transform_func=spatial_weighted_mean_over_china,\n",
    ")\n",
    "da = ds[\"LAI\"].groupby(\"time.year\").mean()"
   ]
  },
  {
   "cell_type": "markdown",
   "id": "11",
   "metadata": {},
   "source": [
    "## Plot timeseries"
   ]
  },
  {
   "cell_type": "code",
   "execution_count": null,
   "id": "12",
   "metadata": {},
   "outputs": [],
   "source": [
    "coeffs = da.polyfit(dim=\"year\", deg=1)\n",
    "da_fit = xr.polyval(da[\"year\"], coeffs)[\"polyfit_coefficients\"]\n",
    "da_fit.attrs = da.attrs\n",
    "equation = (\n",
    "    \"y =\"\n",
    "    f\" {coeffs.polyfit_coefficients.sel(degree=1).values:.2f}x\"\n",
    "    f\" {coeffs.polyfit_coefficients.sel(degree=0).values:+.2f}\"\n",
    ")\n",
    "da.plot(ls=\"--\", marker=\"o\", label=\"LAI\")\n",
    "da_fit.plot(label=equation)\n",
    "plt.grid()\n",
    "plt.legend()\n",
    "_ = plt.title(\"LAI Trend Over Selected Years\")"
   ]
  }
 ],
 "metadata": {
  "kernelspec": {
   "display_name": "Python 3 (ipykernel)",
   "language": "python",
   "name": "python3"
  },
  "language_info": {
   "codemirror_mode": {
    "name": "ipython",
    "version": 3
   },
   "file_extension": ".py",
   "mimetype": "text/x-python",
   "name": "python",
   "nbconvert_exporter": "python",
   "pygments_lexer": "ipython3",
   "version": "3.11.10"
  }
 },
 "nbformat": 4,
 "nbformat_minor": 5
}
