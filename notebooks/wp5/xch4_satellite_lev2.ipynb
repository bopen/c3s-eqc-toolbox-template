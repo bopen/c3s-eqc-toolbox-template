{
 "cells": [
  {
   "cell_type": "markdown",
   "id": "d8c8d5e5",
   "metadata": {},
   "source": [
    "# XCH4 dataset satellite lev2"
   ]
  },
  {
   "cell_type": "markdown",
   "id": "a4ccf616",
   "metadata": {},
   "source": [
    "## Import libraries"
   ]
  },
  {
   "cell_type": "code",
   "execution_count": null,
   "id": "7df81c67",
   "metadata": {},
   "outputs": [],
   "source": [
    "import cartopy.crs as ccrs\n",
    "import matplotlib.pyplot as plt\n",
    "import xarray as xr\n",
    "import xesmf as xe\n",
    "from c3s_eqc_automatic_quality_control import diagnostics, download, plot\n",
    "\n",
    "plt.style.use(\"seaborn-v0_8-notebook\")"
   ]
  },
  {
   "cell_type": "markdown",
   "id": "6432721f",
   "metadata": {},
   "source": [
    "## Define request"
   ]
  },
  {
   "cell_type": "code",
   "execution_count": null,
   "id": "8f672476",
   "metadata": {},
   "outputs": [],
   "source": [
    "# Time parameters\n",
    "year_start = 2005\n",
    "year_stop = 2006\n",
    "\n",
    "collection_id = \"satellite-methane\"\n",
    "request = {\n",
    "    \"processing_level\": \"level_2\",\n",
    "    \"variable\": \"xch4\",\n",
    "    \"sensor_and_algorithm\": \"merged_emma\",\n",
    "    \"version\": \"4.4\",\n",
    "    \"year\": [str(year) for year in range(year_start, year_stop + 1)],\n",
    "    \"month\": [f\"{i:02d}\" for i in range(1, 13)],\n",
    "    \"day\": [f\"{i:02d}\" for i in range(1, 32)],\n",
    "}"
   ]
  },
  {
   "cell_type": "markdown",
   "id": "e5dc73b8",
   "metadata": {},
   "source": [
    "## Define function to cache"
   ]
  },
  {
   "cell_type": "code",
   "execution_count": null,
   "id": "404bfba1",
   "metadata": {},
   "outputs": [],
   "source": [
    "def monthly_regrid(ds, d_lon, d_lat, method, **kwargs):\n",
    "    \"\"\"Resample to monthly regular grid.\n",
    "\n",
    "    Parameters\n",
    "    ----------\n",
    "    ds: Dataset\n",
    "        Dataset to resample\n",
    "    d_lon, d_lat: int\n",
    "        Longitude/latitude step size\n",
    "    method: str\n",
    "        xesmf method\n",
    "    **kwargs: Any\n",
    "        Keyword arguments for xesmf\n",
    "\n",
    "    Returns\n",
    "    -------\n",
    "    Dataset\n",
    "    \"\"\"\n",
    "    kwargs.setdefault(\"locstream_in\", True)\n",
    "    ds = ds.chunk(time=-1).set_coords([\"longitude\", \"latitude\"])\n",
    "    grid_out = xe.util.grid_global(d_lon=d_lon, d_lat=d_lat, cf=True)\n",
    "    ds_out = ds.resample(time=\"1MS\").map(\n",
    "        diagnostics.regrid, grid_out=grid_out, method=method, **kwargs\n",
    "    )\n",
    "    ds_out[\"time\"].attrs[\"standard_name\"] = \"time\"\n",
    "    return ds_out.where(ds_out[\"contributing_algorithms\"] > 0)"
   ]
  },
  {
   "cell_type": "markdown",
   "id": "614f4de7",
   "metadata": {},
   "source": [
    "## Download and transform data"
   ]
  },
  {
   "cell_type": "code",
   "execution_count": null,
   "id": "bf7774eb",
   "metadata": {},
   "outputs": [],
   "source": [
    "ds = download.download_and_transform(\n",
    "    collection_id,\n",
    "    request,\n",
    "    chunks={\"year\": 1},\n",
    "    transform_func=monthly_regrid,\n",
    "    transform_func_kwargs={\"d_lon\": 1, \"d_lat\": 1, \"method\": \"nearest_d2s\"},\n",
    ")"
   ]
  },
  {
   "cell_type": "markdown",
   "id": "4b761cbb",
   "metadata": {},
   "source": [
    "## Compute seasonal anomalies"
   ]
  },
  {
   "cell_type": "code",
   "execution_count": null,
   "id": "bc5069d6",
   "metadata": {},
   "outputs": [],
   "source": [
    "climatology = diagnostics.seasonal_weighted_mean(ds)\n",
    "with xr.set_options(keep_attrs=True):\n",
    "    anomaly = (\n",
    "        ds.groupby(\"time.year\").map(diagnostics.seasonal_weighted_mean) - climatology\n",
    "    )\n",
    "for da in anomaly.data_vars.values():\n",
    "    if \"long_name\" in da.attrs:\n",
    "        da.attrs[\"long_name\"] += \" Anomaly\""
   ]
  },
  {
   "cell_type": "markdown",
   "id": "3974784f",
   "metadata": {},
   "source": [
    "## Plot seasonal anomalies"
   ]
  },
  {
   "cell_type": "code",
   "execution_count": null,
   "id": "e6fd6d74",
   "metadata": {},
   "outputs": [],
   "source": [
    "plot.projected_map(\n",
    "    anomaly[\"xch4\"], projection=ccrs.Robinson(), col=\"season\", row=\"year\"\n",
    ")"
   ]
  },
  {
   "cell_type": "code",
   "execution_count": null,
   "id": "ceb4302c",
   "metadata": {},
   "outputs": [],
   "source": []
  }
 ],
 "metadata": {
  "kernelspec": {
   "display_name": "Python 3 (ipykernel)",
   "language": "python",
   "name": "python3"
  },
  "language_info": {
   "codemirror_mode": {
    "name": "ipython",
    "version": 3
   },
   "file_extension": ".py",
   "mimetype": "text/x-python",
   "name": "python",
   "nbconvert_exporter": "python",
   "pygments_lexer": "ipython3",
   "version": "3.10.10"
  }
 },
 "nbformat": 4,
 "nbformat_minor": 5
}
