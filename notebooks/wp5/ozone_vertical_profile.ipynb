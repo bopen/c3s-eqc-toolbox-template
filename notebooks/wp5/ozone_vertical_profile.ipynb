{
 "cells": [
  {
   "cell_type": "markdown",
   "id": "0",
   "metadata": {},
   "source": [
    "# Ozone mixing ratio"
   ]
  },
  {
   "cell_type": "markdown",
   "id": "1",
   "metadata": {},
   "source": [
    "## Import libraries"
   ]
  },
  {
   "cell_type": "code",
   "execution_count": null,
   "id": "2",
   "metadata": {},
   "outputs": [],
   "source": [
    "import os\n",
    "\n",
    "import cdsapi\n",
    "import matplotlib.pyplot as plt\n",
    "import pandas as pd\n",
    "import xarray as xr\n",
    "from c3s_eqc_automatic_quality_control import download\n",
    "\n",
    "plt.style.use(\"seaborn-v0_8-notebook\")"
   ]
  },
  {
   "cell_type": "markdown",
   "id": "3",
   "metadata": {},
   "source": [
    "## Set parameters"
   ]
  },
  {
   "cell_type": "code",
   "execution_count": null,
   "id": "4",
   "metadata": {},
   "outputs": [],
   "source": [
    "os.environ[\"CDSAPI_RC\"] = os.path.expanduser(\"~/calmanti_sandro/.cdsapirc\")"
   ]
  },
  {
   "cell_type": "markdown",
   "id": "5",
   "metadata": {},
   "source": [
    "## Set requests"
   ]
  },
  {
   "cell_type": "code",
   "execution_count": null,
   "id": "6",
   "metadata": {},
   "outputs": [],
   "source": [
    "collection_id = \"satellite-ozone-v1\"\n",
    "requests = {\n",
    "    \"limb\": {\n",
    "        \"processing_level\": \"level_3\",\n",
    "        \"variable\": \"mole_concentration_of_ozone_in_air\",\n",
    "        \"vertical_aggregation\": \"vertical_profiles_from_limb_sensors\",\n",
    "    },\n",
    "    \"nadir\": {\n",
    "        \"processing_level\": \"level_3\",\n",
    "        \"variable\": \"mole_content_of_ozone_in_atmosphere_layer\",\n",
    "        \"vertical_aggregation\": \"vertical_profiles_from_nadir_sensors\",\n",
    "    },\n",
    "}"
   ]
  },
  {
   "cell_type": "markdown",
   "id": "7",
   "metadata": {},
   "source": [
    "## Functions to cache"
   ]
  },
  {
   "cell_type": "code",
   "execution_count": null,
   "id": "8",
   "metadata": {},
   "outputs": [],
   "source": [
    "def preprocess(ds):\n",
    "    if \"time\" in ds.dims:\n",
    "        return ds\n",
    "    time_str = ds.attrs[\"time_coverage_start\"][:6]\n",
    "    time = pd.to_datetime(time_str, format=\"%Y%m\")\n",
    "    return ds.expand_dims(time=[time])\n",
    "\n",
    "\n",
    "def compute_ozone_mixing_ratio(ds, rconst=8.314):\n",
    "    indexers = {\"latitude\": slice(50, 70)}\n",
    "    if \"altitude\" in ds.dims:\n",
    "        indexers[\"altitude\"] = 50_000\n",
    "    else:\n",
    "        indexers[\"pressure\"] = 50\n",
    "    ds = ds.sel(**indexers, drop=True)\n",
    "\n",
    "    ds = ds.mean(set(ds.dims) - {\"time\", \"latitude\"}, keep_attrs=True)\n",
    "    if (coarsen := ds.sizes[\"latitude\"] // 2) > 1:\n",
    "        ds = ds.coarsen(latitude=coarsen).mean(keep_attrs=True)\n",
    "\n",
    "    if \"ozone_mixing_ratio\" in ds:\n",
    "        da = ds[\"ozone_mixing_ratio\"]\n",
    "    else:\n",
    "        da = ds[\"ozone_concentration\"]\n",
    "        da = ((da * rconst * ds[\"temperature\"]) / ds[\"pressure\"]) * 1e4\n",
    "        da.attrs = {\"long_name\": \"O3 mixing ratio\", \"units\": \"ppm\"}\n",
    "    return da.to_dataset(name=\"ozone_mixing_ratio\")\n",
    "\n",
    "\n",
    "def download_combined_dataset(collection_id, request):\n",
    "    collection = cdsapi.Client(quiet=True).client.get_collection(collection_id)\n",
    "\n",
    "    datasets = []\n",
    "    for sensor in collection.apply_constraints(request)[\"sensor\"]:\n",
    "        if sensor in [\"cllg\", \"cmzm\", \"merged_np\"]:\n",
    "            continue  # no merged products\n",
    "        sensor_r = request | {\"sensor\": sensor}\n",
    "        for algo in collection.apply_constraints(sensor_r)[\"algorithm\"] or [None]:\n",
    "            algo_r = sensor_r | {\"algorithm\": algo or []}\n",
    "            for version in collection.apply_constraints(algo_r)[\"version\"]:\n",
    "                version_r = algo_r | {\"version\": version}\n",
    "                requests = []\n",
    "                for year in collection.apply_constraints(version_r)[\"year\"]:\n",
    "                    year_r = version_r | {\"year\": year}\n",
    "                    months = collection.apply_constraints(year_r)[\"month\"]\n",
    "                    requests.append(year_r | {\"month\": months})\n",
    "\n",
    "                product = \"-\".join([sensor, version] + ([algo] if algo else []))\n",
    "                if product == \"omps-v0002-usask\":\n",
    "                    continue  # time_coverage_start attribute is missing\n",
    "                print(f\"{product=}\")\n",
    "\n",
    "                ds = download.download_and_transform(\n",
    "                    collection_id,\n",
    "                    requests,\n",
    "                    preprocess=preprocess,\n",
    "                    transform_func=compute_ozone_mixing_ratio,\n",
    "                )\n",
    "                datasets.append(ds.expand_dims(product=[product]))\n",
    "    return xr.concat(datasets, \"product\")"
   ]
  },
  {
   "cell_type": "markdown",
   "id": "9",
   "metadata": {},
   "source": [
    "## Download and tranform"
   ]
  },
  {
   "cell_type": "code",
   "execution_count": null,
   "id": "10",
   "metadata": {},
   "outputs": [],
   "source": [
    "datasets = {}\n",
    "for sensor, request in requests.items():\n",
    "    print(f\"{sensor=}\")\n",
    "    datasets[sensor] = download_combined_dataset(collection_id, request)"
   ]
  },
  {
   "cell_type": "markdown",
   "id": "11",
   "metadata": {},
   "source": [
    "## Quick and dirty plots"
   ]
  },
  {
   "cell_type": "code",
   "execution_count": null,
   "id": "12",
   "metadata": {},
   "outputs": [],
   "source": [
    "for sensor, ds in datasets.items():\n",
    "    (da,) = ds.data_vars.values()\n",
    "    da = da.dropna(\"product\", how=\"all\")\n",
    "    cmap = plt.get_cmap(\"viridis\", da.sizes[\"product\"])\n",
    "    colors = [cmap(i) for i in range(da.sizes[\"product\"])]\n",
    "    with plt.rc_context({\"axes.prop_cycle\": plt.cycler(color=colors)}):\n",
    "        facet = da.plot(row=\"latitude\", hue=\"product\", figsize=(10, 6))\n",
    "    for ax in facet.axs.flatten():\n",
    "        ax.grid()\n",
    "    plt.show()"
   ]
  }
 ],
 "metadata": {
  "kernelspec": {
   "display_name": "Python 3 (ipykernel)",
   "language": "python",
   "name": "python3"
  },
  "language_info": {
   "codemirror_mode": {
    "name": "ipython",
    "version": 3
   },
   "file_extension": ".py",
   "mimetype": "text/x-python",
   "name": "python",
   "nbconvert_exporter": "python",
   "pygments_lexer": "ipython3",
   "version": "3.11.12"
  }
 },
 "nbformat": 4,
 "nbformat_minor": 5
}
