{
 "cells": [
  {
   "cell_type": "markdown",
   "metadata": {},
   "source": [
    "# Ozone vertical profile"
   ]
  },
  {
   "cell_type": "markdown",
   "metadata": {},
   "source": [
    "## Import libraries"
   ]
  },
  {
   "cell_type": "code",
   "execution_count": null,
   "metadata": {},
   "outputs": [],
   "source": [
    "import pandas as pd\n",
    "import xarray as xr\n",
    "from c3s_eqc_automatic_quality_control import download"
   ]
  },
  {
   "cell_type": "markdown",
   "metadata": {},
   "source": [
    "## Define request"
   ]
  },
  {
   "cell_type": "code",
   "execution_count": null,
   "metadata": {},
   "outputs": [],
   "source": [
    "collection_id = \"satellite-ozone-v1\"\n",
    "common_request = {\n",
    "    \"processing_level\": \"level_3\",\n",
    "    \"variable\": \"mole_concentration_of_ozone_in_air\",\n",
    "    \"vertical_aggregation\": \"vertical_profiles_from_limb_sensors\",\n",
    "}\n",
    "sensor_keys = [\"sensor\", \"version\"]\n",
    "limb_requests = [\n",
    "    {\n",
    "        \"sensor\": \"gomos\",\n",
    "        \"version\": \"v0001\",\n",
    "        \"start\": \"2002-08\",\n",
    "        \"stop\": \"2011-12\",\n",
    "    },\n",
    "    {\n",
    "        \"sensor\": \"mipas\",\n",
    "        \"version\": \"v0001\",\n",
    "        \"start\": \"2002-07\",\n",
    "        \"stop\": \"2012-04\",\n",
    "    },\n",
    "    {\n",
    "        \"sensor\": \"sage_2\",\n",
    "        \"version\": \"v0001\",\n",
    "        \"start\": \"1984-10\",\n",
    "        \"stop\": \"2005-08\",\n",
    "    },\n",
    "    {\n",
    "        \"sensor\": \"sciamachy\",\n",
    "        \"version\": \"v0001\",\n",
    "        \"start\": \"2002-08\",\n",
    "        \"stop\": \"2012-03\",\n",
    "    },\n",
    "    {\n",
    "        \"sensor\": \"smr\",\n",
    "        \"version\": \"v0001\",\n",
    "        \"start\": \"2001-07\",\n",
    "        \"stop\": \"2014-08\",\n",
    "    },\n",
    "    {\n",
    "        \"sensor\": \"cmzm\",\n",
    "        \"version\": \"v0008\",\n",
    "        \"start\": \"1984-10\",\n",
    "        \"stop\": \"2022-12\",\n",
    "        \"rename\": {\n",
    "            \"merged_ozone_concentration\": \"ozone_concentration\",\n",
    "            \"uncertainty_of_merged_ozone_concentration\": \"mean_uncertainty_estimate\",\n",
    "        },\n",
    "    },\n",
    "]\n",
    "assert all(\n",
    "    set(sensor_keys) | {\"start\", \"stop\"} <= set(request) for request in limb_requests\n",
    ")"
   ]
  },
  {
   "cell_type": "markdown",
   "metadata": {},
   "source": [
    "## Transform function"
   ]
  },
  {
   "cell_type": "code",
   "execution_count": null,
   "metadata": {},
   "outputs": [],
   "source": [
    "def add_time_dim(ds):\n",
    "    time_str = ds.attrs[\"time_coverage_start\"][:6]\n",
    "    time = pd.to_datetime(time_str, format=\"%Y%m\")\n",
    "    return ds.expand_dims(time=[time])"
   ]
  },
  {
   "cell_type": "markdown",
   "metadata": {},
   "source": [
    "## Download"
   ]
  },
  {
   "cell_type": "code",
   "execution_count": null,
   "metadata": {},
   "outputs": [],
   "source": [
    "datasets = []\n",
    "for limb_request in limb_requests:\n",
    "    request = common_request | {key: limb_request[key] for key in sensor_keys}\n",
    "    requests = download.update_request_date(\n",
    "        request, limb_request[\"start\"], limb_request[\"stop\"], stringify_dates=True\n",
    "    )\n",
    "    sensor = \"-\".join([request[sensor_key] for sensor_key in sensor_keys])\n",
    "    print(f\"{sensor = }\")\n",
    "    ds = download.download_and_transform(\n",
    "        collection_id,\n",
    "        requests,\n",
    "        chunks={\"year\": 1},\n",
    "        preprocess=add_time_dim,\n",
    "    )\n",
    "    ds = ds.rename(limb_request.get(\"rename\", {})).expand_dims(sensor=[sensor])\n",
    "    datasets.append(ds)\n",
    "ds = xr.concat(datasets, \"sensor\")"
   ]
  },
  {
   "cell_type": "markdown",
   "metadata": {},
   "source": [
    "## Quick and dirty plot"
   ]
  },
  {
   "cell_type": "code",
   "execution_count": null,
   "metadata": {},
   "outputs": [],
   "source": [
    "time = \"2005-08\"\n",
    "ds[\"ozone_concentration\"].sel(time=time).plot(col=\"sensor\", col_wrap=3)"
   ]
  }
 ],
 "metadata": {
  "kernelspec": {
   "display_name": "Python 3 (ipykernel)",
   "language": "python",
   "name": "python3"
  },
  "language_info": {
   "codemirror_mode": {
    "name": "ipython",
    "version": 3
   },
   "file_extension": ".py",
   "mimetype": "text/x-python",
   "name": "python",
   "nbconvert_exporter": "python",
   "pygments_lexer": "ipython3",
   "version": "3.11.11"
  },
  "vscode": {
   "interpreter": {
    "hash": "39a16a1176456aec0710d6d8dd097fdfd8eece03838aebbaaddfca0f16ac2477"
   }
  }
 },
 "nbformat": 4,
 "nbformat_minor": 4
}
