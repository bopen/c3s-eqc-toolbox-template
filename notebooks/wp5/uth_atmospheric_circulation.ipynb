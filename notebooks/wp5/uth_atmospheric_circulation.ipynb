{
 "cells": [
  {
   "cell_type": "markdown",
   "id": "0",
   "metadata": {},
   "source": [
    "# Studying the influence of atmospheric circulation on upper tropospheric humidity"
   ]
  },
  {
   "cell_type": "markdown",
   "id": "1",
   "metadata": {},
   "source": [
    "## Import libraries"
   ]
  },
  {
   "cell_type": "code",
   "execution_count": null,
   "id": "2",
   "metadata": {},
   "outputs": [],
   "source": [
    "import matplotlib.pyplot as plt\n",
    "import pandas as pd\n",
    "import xarray as xr\n",
    "from c3s_eqc_automatic_quality_control import download\n",
    "\n",
    "plt.style.use(\"seaborn-v0_8-notebook\")"
   ]
  },
  {
   "cell_type": "markdown",
   "id": "3",
   "metadata": {},
   "source": [
    "## Define parameters"
   ]
  },
  {
   "cell_type": "code",
   "execution_count": null,
   "id": "4",
   "metadata": {},
   "outputs": [],
   "source": [
    "# Time\n",
    "start = \"2007-01\"\n",
    "stop = \"2007-01\"\n",
    "\n",
    "# Region: Degree range has to be integers because UTH has a resolution of 1x1\n",
    "lat_min = -30\n",
    "lat_max = 30\n",
    "lon_min = 0\n",
    "lon_max = 360\n",
    "assert (isinstance(coord, int) for coord in (lat_min, lat_max, lon_min, lon_max))\n",
    "assert 0 <= lon_min <= lon_max <= 360"
   ]
  },
  {
   "cell_type": "markdown",
   "id": "5",
   "metadata": {},
   "source": [
    "## Set the data request"
   ]
  },
  {
   "cell_type": "code",
   "execution_count": null,
   "id": "6",
   "metadata": {},
   "outputs": [],
   "source": [
    "chunks = {\"year\": 1, \"month\": 1}\n",
    "\n",
    "collection_id_uth = \"satellite-upper-troposphere-humidity\"\n",
    "request_uth = {\n",
    "    \"variable\": \"all\",\n",
    "    \"sensor_on_satellite\": \"mhs_on_metop_a\",\n",
    "    \"area\": [lat_max, lon_min, lat_min, lon_max],\n",
    "}\n",
    "\n",
    "\n",
    "collection_id_omega500 = \"reanalysis-era5-pressure-levels\"\n",
    "request_omega500 = {\n",
    "    \"product_type\": \"reanalysis\",\n",
    "    \"variable\": \"vertical_velocity\",\n",
    "    \"pressure_level\": \"500\",\n",
    "}"
   ]
  },
  {
   "cell_type": "markdown",
   "id": "7",
   "metadata": {},
   "source": [
    "## Download UTH"
   ]
  },
  {
   "cell_type": "code",
   "execution_count": null,
   "id": "8",
   "metadata": {},
   "outputs": [],
   "source": [
    "ds_uth = download.download_and_transform(\n",
    "    collection_id_uth,\n",
    "    download.update_request_date(request_uth, start, stop, stringify_dates=True),\n",
    "    chunks=chunks,\n",
    ")"
   ]
  },
  {
   "cell_type": "markdown",
   "id": "9",
   "metadata": {},
   "source": [
    "## Download OMEGA 500"
   ]
  },
  {
   "cell_type": "code",
   "execution_count": null,
   "id": "10",
   "metadata": {},
   "outputs": [],
   "source": [
    "datasets = []\n",
    "for hh in range(int(lon_min / 15), int((lon_max - 0.02) / 15) + 1):\n",
    "    print(f\"{hh=}\")\n",
    "\n",
    "    # Define time and area\n",
    "    time = f\"{int(9-hh) if 9-hh>=0 else int(9-hh)+24}:00\"\n",
    "    area = [\n",
    "        lat_min,\n",
    "        max(lon_min, hh * 15) + 0.01,\n",
    "        lat_max - 0.01,\n",
    "        min(lon_max, (hh + 1) * 15),\n",
    "    ]\n",
    "    area = [coord - 360 if coord > 180 else coord for coord in area]\n",
    "\n",
    "    # Download\n",
    "    ds = download.download_and_transform(\n",
    "        collection_id_omega500,\n",
    "        download.update_request_date(\n",
    "            request_omega500 | {\"area\": area, \"time\": time},\n",
    "            start,\n",
    "            stop,\n",
    "            stringify_dates=True,\n",
    "        ),\n",
    "        chunks=chunks,\n",
    "    )\n",
    "\n",
    "    # Process coordinates\n",
    "    ds = ds.drop_vars(\"time\").rename(forecast_reference_time=\"time\")\n",
    "    ds[\"time\"] = ds[\"time\"].dt.floor(\"D\")\n",
    "    ds[\"longitude\"] = ds[\"longitude\"].where(ds[\"longitude\"] >= 0, ds[\"longitude\"] + 360)\n",
    "\n",
    "    datasets.append(ds)\n",
    "ds_omega500 = xr.concat(datasets, \"longitude\")"
   ]
  },
  {
   "cell_type": "markdown",
   "id": "11",
   "metadata": {},
   "source": [
    "## Process OMEGA500"
   ]
  },
  {
   "cell_type": "code",
   "execution_count": null,
   "id": "12",
   "metadata": {},
   "outputs": [],
   "source": [
    "ds_omega500 = ds_omega500.coarsen(latitude=4, longitude=4).mean()\n",
    "\n",
    "# Longitudes between 150 and 180 are not well colocated in time\n",
    "# Local day does not correspond to UTC day\n",
    "# We are rolling the values of w in order to fix the colocation.\n",
    "# The records for the first day will be set to NAN\n",
    "ds_omega500 = ds_omega500.where(\n",
    "    (ds_omega500[\"longitude\"] < 150) | (ds_omega500[\"longitude\"] > 180),\n",
    "    ds_omega500.roll(time=1).where(ds[\"time\"] != ds[\"time\"].min()),\n",
    ")\n",
    "\n",
    "# Units\n",
    "with xr.set_options(keep_attrs=True):\n",
    "    ds_omega500[\"w\"] *= 24 * 3.6  # from Pa/s to hPa / day\n",
    "ds_omega500.attrs[\"units\"] = \"hPa / day\""
   ]
  },
  {
   "cell_type": "markdown",
   "id": "13",
   "metadata": {},
   "source": [
    "## Make 1D dataframe"
   ]
  },
  {
   "cell_type": "code",
   "execution_count": null,
   "id": "14",
   "metadata": {},
   "outputs": [],
   "source": [
    "series = {}\n",
    "for da in [ds_uth[\"uth_mean_ascend\"], ds_omega500[\"w\"]]:\n",
    "    series[da.name] = (\n",
    "        da.sortby(list(da.dims))\n",
    "        .stack(index=sorted(da.dims))\n",
    "        .to_series()\n",
    "        .reset_index(drop=True)\n",
    "    )\n",
    "df = pd.DataFrame(series)"
   ]
  },
  {
   "cell_type": "markdown",
   "id": "15",
   "metadata": {},
   "source": [
    "## Plot"
   ]
  },
  {
   "cell_type": "code",
   "execution_count": null,
   "id": "16",
   "metadata": {},
   "outputs": [],
   "source": [
    "bin_edges = range(-105, 66, 10)\n",
    "bin_labels = pd.Series(bin_edges).rolling(2).mean()[1:]\n",
    "grouper = pd.cut(df[\"w\"], bin_edges)\n",
    "ax = df.groupby(grouper, observed=False).boxplot(\n",
    "    subplots=False,\n",
    "    column=\"uth_mean_ascend\",\n",
    "    showfliers=False,\n",
    "    patch_artist=True,\n",
    "    showmeans=True,\n",
    "    medianprops={\"linewidth\": 2.5, \"color\": \"k\"},\n",
    "    meanprops={\n",
    "        \"marker\": \"D\",\n",
    "        \"markeredgecolor\": \"black\",\n",
    "        \"markerfacecolor\": \"green\",\n",
    "        \"markersize\": 8,\n",
    "    },\n",
    "    boxprops={\"color\": \"k\", \"facecolor\": \"silver\"},\n",
    "    xlabel=\"omega 500 [hPa/day]\",\n",
    "    ylabel=\"UTH [%]\",\n",
    "    grid=True,\n",
    ")\n",
    "ax.set_title(\"UTH as a function of vertical velocity\")\n",
    "_ = ax.set_xticklabels(bin_labels.astype(int))"
   ]
  }
 ],
 "metadata": {
  "kernelspec": {
   "display_name": "Python 3 (ipykernel)",
   "language": "python",
   "name": "python3"
  },
  "language_info": {
   "codemirror_mode": {
    "name": "ipython",
    "version": 3
   },
   "file_extension": ".py",
   "mimetype": "text/x-python",
   "name": "python",
   "nbconvert_exporter": "python",
   "pygments_lexer": "ipython3",
   "version": "3.11.9"
  }
 },
 "nbformat": 4,
 "nbformat_minor": 5
}
