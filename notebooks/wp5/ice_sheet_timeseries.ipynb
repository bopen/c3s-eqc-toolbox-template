{
 "cells": [
  {
   "cell_type": "markdown",
   "id": "36ad0b04",
   "metadata": {},
   "source": [
    "# Variability of the surface elevation change: Timeseries"
   ]
  },
  {
   "cell_type": "markdown",
   "id": "17df087d",
   "metadata": {},
   "source": [
    "## Import packages"
   ]
  },
  {
   "cell_type": "code",
   "execution_count": null,
   "id": "7753a7b5-45e6-4132-8caf-d87ed88f80e6",
   "metadata": {},
   "outputs": [],
   "source": [
    "import matplotlib.pyplot as plt\n",
    "import scipy.stats\n",
    "import xarray as xr\n",
    "from c3s_eqc_automatic_quality_control import download\n",
    "\n",
    "plt.style.use(\"seaborn-v0_8-notebook\")"
   ]
  },
  {
   "cell_type": "markdown",
   "id": "b94f2e64",
   "metadata": {},
   "source": [
    "## Define parameters"
   ]
  },
  {
   "cell_type": "code",
   "execution_count": null,
   "id": "2de92f35-b607-4e66-8cc2-5b472263ea4b",
   "metadata": {},
   "outputs": [],
   "source": [
    "regions = {\n",
    "    \"Greenland\": {\n",
    "        \"domain\": \"greenland\",\n",
    "        \"x_slice\": slice(None, None),\n",
    "        \"y_slice\": slice(None, None),\n",
    "    },\n",
    "    \"Antarctica\": {\n",
    "        \"domain\": \"antarctica\",\n",
    "        \"x_slice\": slice(None, None),\n",
    "        \"y_slice\": slice(None, None),\n",
    "    },\n",
    "    \"Jakobshavn Glacier\": {\n",
    "        \"domain\": \"greenland\",\n",
    "        \"x_slice\": slice(26, 27),\n",
    "        \"y_slice\": slice(48, 49),\n",
    "    },\n",
    "}"
   ]
  },
  {
   "cell_type": "markdown",
   "id": "c418271c",
   "metadata": {},
   "source": [
    "## Define request"
   ]
  },
  {
   "cell_type": "code",
   "execution_count": null,
   "id": "7b108268-ec6f-4460-8f0c-4d4ba9b9a9da",
   "metadata": {},
   "outputs": [],
   "source": [
    "collection_id = \"satellite-ice-sheet-elevation-change\"\n",
    "request = {\n",
    "    \"variable\": \"all\",\n",
    "    \"format\": \"zip\",\n",
    "    \"climate_data_record_type\": \"icdr\",\n",
    "    \"version\": \"3_0\",\n",
    "}"
   ]
  },
  {
   "cell_type": "markdown",
   "id": "758eb406",
   "metadata": {},
   "source": [
    "## Function to cache"
   ]
  },
  {
   "cell_type": "code",
   "execution_count": null,
   "id": "70e71aa0-59ac-4a72-a3b9-20bb938bda8e",
   "metadata": {},
   "outputs": [],
   "source": [
    "def get_surface_elevation_change_and_missing_data(ds, x_slice, y_slice):\n",
    "    ds = ds.isel(x=x_slice, y=y_slice)\n",
    "    ds[\"time\"].attrs[\"long_name\"] = \"Time\"\n",
    "\n",
    "    (sec_name,) = set(ds.data_vars) & {\"sec\", \"dhdt\"}\n",
    "    da = ds[sec_name]\n",
    "    da.attrs[\"long_name\"] = \"Surface elevation change\"\n",
    "\n",
    "    da_err = ds[f\"{sec_name}_uncert\"]\n",
    "    da_err.attrs[\"long_name\"] = \"Surface elevation change standard error\"\n",
    "\n",
    "    (mask_name,) = set(ds.data_vars) & {\"land_mask\", \"surface_type\"}\n",
    "    mask = ds[mask_name] > 0\n",
    "    missing = 100 * (mask.sum() - da.notnull().sum((\"x\", \"y\"))) / mask.sum()\n",
    "    missing.attrs = {\"long_name\": \"Missing data\", \"units\": \"%\"}\n",
    "\n",
    "    ds = xr.merge(\n",
    "        [da.rename(\"sec\"), da_err.rename(\"sec_err\"), missing.rename(\"missing\")]\n",
    "    )\n",
    "    return ds.mean((\"x\", \"y\"), keep_attrs=True)"
   ]
  },
  {
   "cell_type": "markdown",
   "id": "968fc781",
   "metadata": {},
   "source": [
    "## Download and transform data"
   ]
  },
  {
   "cell_type": "code",
   "execution_count": null,
   "id": "8db1baef-4aa7-4385-ab03-d677bcc8bb15",
   "metadata": {},
   "outputs": [],
   "source": [
    "datasets = {}\n",
    "for region, kwargs in regions.items():\n",
    "    print(f\"{region=}\")\n",
    "    datasets[region] = download.download_and_transform(\n",
    "        collection_id,\n",
    "        request | {\"domain\": kwargs[\"domain\"]},\n",
    "        transform_func=get_surface_elevation_change_and_missing_data,\n",
    "        transform_func_kwargs={k: v for k, v in kwargs.items() if k != \"domain\"},\n",
    "    ).compute()\n",
    "\n",
    "\n",
    "pixel_datasets = {\n",
    "    k: v for k, v in datasets.items() if k not in (\"Greenland\", \"Antarctica\")\n",
    "}\n",
    "datasets = {k: v for k, v in datasets.items() if k not in pixel_datasets}"
   ]
  },
  {
   "cell_type": "markdown",
   "id": "09963097",
   "metadata": {},
   "source": [
    "## Define plotting functions"
   ]
  },
  {
   "cell_type": "code",
   "execution_count": null,
   "id": "e038ec51-a0a9-4fdb-be30-a3871099099d",
   "metadata": {},
   "outputs": [],
   "source": [
    "def plot_timeseries(datasets, varname):\n",
    "    fig, axs = plt.subplots(len(datasets), 1, layout=\"constrained\", squeeze=False)\n",
    "    for ax, (region, ds) in zip(axs.flatten(), datasets.items()):\n",
    "        da = ds[varname]\n",
    "        da[\"time\"].attrs[\"units\"] = \"yr\"\n",
    "        title = f\"{region} Ice Sheet\"\n",
    "        print(\n",
    "            f\"Average {title} {da.attrs['long_name'].lower()}: \"\n",
    "            f\"{da.mean().values:.4f} {da.attrs['units']}\"\n",
    "        )\n",
    "        da.plot(ax=ax)\n",
    "        ax.set_title(title)\n",
    "        ax.grid()\n",
    "    print()\n",
    "    return fig, axs\n",
    "\n",
    "\n",
    "def plot_trends(datasets, varname):\n",
    "    year_to_ns = 1.0e9 * 60 * 60 * 24 * 365\n",
    "\n",
    "    fig, axs = plt.subplots(len(datasets), 1, layout=\"constrained\", squeeze=False)\n",
    "    for ax, (region, ds) in zip(axs.flatten(), datasets.items()):\n",
    "        ds[\"time\"].attrs[\"units\"] = \"yr\"\n",
    "        with xr.set_options(keep_attrs=True):\n",
    "            da = ds[varname].cumsum(\"time\") / 12\n",
    "        da.attrs[\"units\"] = da.attrs[\"units\"].split(\"/\", 1)[0]\n",
    "        print(f\"{region}:\")\n",
    "        for label, degree in zip(\n",
    "            (\n",
    "                \"Linear\",\n",
    "                \"Quadratic\",\n",
    "            ),\n",
    "            (1, 2),\n",
    "        ):\n",
    "            # Compute coefficients\n",
    "            coeffs = da.polyfit(\"time\", degree)[\"polyfit_coefficients\"]\n",
    "\n",
    "            # Plot trends and print stats\n",
    "            equation = []\n",
    "            for deg, coeff in coeffs.groupby(\"degree\"):\n",
    "                coeff = coeff.squeeze() * (year_to_ns**deg)\n",
    "                if deg == degree:\n",
    "                    if deg == 1:\n",
    "                        quantity = \"slope\"\n",
    "                        units = f\"{da.attrs['units']}/yr\"\n",
    "                    elif deg == 2:\n",
    "                        quantity = \"acceleration\"\n",
    "                        units = f\"{da.attrs['units']}/yr^2\"\n",
    "                    else:\n",
    "                        raise ValueError(f\"{deg=}\")\n",
    "                    print(\n",
    "                        f\"\\tThe {quantity} of the Ice Sheet {da.attrs['long_name']} \"\n",
    "                        f\"is {degree*coeff:.3f} {units}.\"\n",
    "                    )\n",
    "                    if deg == 1:\n",
    "                        _, p_value = scipy.stats.kendalltau(da[\"time\"], da)\n",
    "                        s_lev = 0.05\n",
    "                        is_significant = p_value < s_lev\n",
    "                        print(\n",
    "                            \" \".join(\n",
    "                                [\n",
    "                                    \"\\tThe trend\",\n",
    "                                    \"is significant\"\n",
    "                                    if is_significant\n",
    "                                    else \"is not significant\",\n",
    "                                    f\"at an alpha level of {s_lev}, i.e. a monotonic trend\",\n",
    "                                    \"is present.\"\n",
    "                                    if is_significant\n",
    "                                    else \"is not present.\",\n",
    "                                ]\n",
    "                            )\n",
    "                        )\n",
    "                equation.append(\n",
    "                    f\"{float(coeff):+.3f}{'x' if deg else ''}{f'$^{deg}$' if deg>1 else ''}\"\n",
    "                )\n",
    "            label = f\"{label}: {' '.join(equation[::-1])}\"\n",
    "            fit = xr.polyval(da[\"time\"], coeffs)\n",
    "            fit.plot(label=label, ax=ax)\n",
    "        da.plot(label=\"Data\", ax=ax)\n",
    "        ax.set_title(f\"{region} Ice Sheet\")\n",
    "        ax.grid()\n",
    "        ax.legend()\n",
    "\n",
    "    return fig, axs"
   ]
  },
  {
   "cell_type": "markdown",
   "id": "e7b25015",
   "metadata": {},
   "source": [
    "## Plot timeseries"
   ]
  },
  {
   "cell_type": "code",
   "execution_count": null,
   "id": "adfd5dc3-a48c-47be-b512-1397e880dfba",
   "metadata": {},
   "outputs": [],
   "source": [
    "varname_title = {\n",
    "    \"sec\": \"Surface elevation change of the ice sheets from radar altimetry\",\n",
    "    \"sec_err\": \"Mean standard error of the surface elevation change of the ice sheets from radar altimetry\",\n",
    "    \"missing\": \"Time series of the percentage missing data of the surface elevation change of the ice sheets\",\n",
    "}\n",
    "\n",
    "for varname, title in varname_title.items():\n",
    "    fig, axs = plot_timeseries(datasets, varname)\n",
    "    fig.suptitle(title)"
   ]
  },
  {
   "cell_type": "markdown",
   "id": "bd3641bb",
   "metadata": {},
   "source": [
    "## Plot trends"
   ]
  },
  {
   "cell_type": "code",
   "execution_count": null,
   "id": "809d3f8a-0ff8-462e-864e-a64871c9605a",
   "metadata": {},
   "outputs": [],
   "source": [
    "fig, axs = plot_trends(pixel_datasets, \"sec\")\n",
    "_ = fig.suptitle(\n",
    "    \"Cumulative surface elevation change of the Jakobshavn Glacier and its trends\"\n",
    ")"
   ]
  }
 ],
 "metadata": {
  "kernelspec": {
   "display_name": "Python 3 (ipykernel)",
   "language": "python",
   "name": "python3"
  },
  "language_info": {
   "codemirror_mode": {
    "name": "ipython",
    "version": 3
   },
   "file_extension": ".py",
   "mimetype": "text/x-python",
   "name": "python",
   "nbconvert_exporter": "python",
   "pygments_lexer": "ipython3",
   "version": "3.10.13"
  }
 },
 "nbformat": 4,
 "nbformat_minor": 5
}
