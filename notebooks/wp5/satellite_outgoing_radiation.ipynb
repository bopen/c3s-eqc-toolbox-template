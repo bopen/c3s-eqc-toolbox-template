{
 "cells": [
  {
   "cell_type": "markdown",
   "id": "0",
   "metadata": {},
   "source": [
    "# Satellite outgoing radiation"
   ]
  },
  {
   "cell_type": "markdown",
   "id": "1",
   "metadata": {},
   "source": [
    "## Import packages"
   ]
  },
  {
   "cell_type": "code",
   "execution_count": null,
   "id": "2",
   "metadata": {},
   "outputs": [],
   "source": [
    "import cartopy.crs as ccrs\n",
    "import matplotlib.pyplot as plt\n",
    "import pandas as pd\n",
    "import xarray as xr\n",
    "from c3s_eqc_automatic_quality_control import diagnostics, download, plot, utils\n",
    "\n",
    "plt.style.use(\"seaborn-v0_8-notebook\")"
   ]
  },
  {
   "cell_type": "markdown",
   "id": "3",
   "metadata": {},
   "source": [
    "## Define Parameters"
   ]
  },
  {
   "cell_type": "code",
   "execution_count": null,
   "id": "4",
   "metadata": {},
   "outputs": [],
   "source": [
    "# Variable to analyse\n",
    "variable = \"shortwave\"\n",
    "assert variable in (\"longwave\", \"shortwave\")\n",
    "\n",
    "# Region for timeseries\n",
    "region_slices = {\n",
    "    \"global\": {\"lat_slice\": slice(-90, 90), \"lon_slice\": slice(0, 360)},\n",
    "    \"northern hemisphere\": {\"lat_slice\": slice(0, 90), \"lon_slice\": slice(0, 360)},\n",
    "    \"southern hemisphere\": {\"lat_slice\": slice(-90, 0), \"lon_slice\": slice(0, 360)},\n",
    "}"
   ]
  },
  {
   "cell_type": "markdown",
   "id": "5",
   "metadata": {},
   "source": [
    "## Define requests"
   ]
  },
  {
   "cell_type": "code",
   "execution_count": null,
   "id": "6",
   "metadata": {},
   "outputs": [],
   "source": [
    "collection_id = \"satellite-earth-radiation-budget\"\n",
    "chunks = {\"year\": 1}\n",
    "varnames = (\n",
    "    {\"olr\", \"toa_lw_all_mon\", \"LW_flux\"}\n",
    "    if variable == \"longwave\"\n",
    "    else {\"rsf\", \"toa_sw_all_mon\", \"SW_flux\"}\n",
    ")\n",
    "\n",
    "request_dict = {\n",
    "    \"CERES\": {\n",
    "        \"start\": \"2000-03\",\n",
    "        \"stop\": \"2024-02\",\n",
    "        \"product_family\": \"ceres_ebaf\",\n",
    "        \"climate_data_record_type\": \"thematic_climate_data_record\",\n",
    "        \"time_aggregation\": \"monthly_mean\",\n",
    "        \"format\": \"zip\",\n",
    "        \"origin\": \"nasa\",\n",
    "        \"variable\": f\"outgoing_{variable}_radiation\",\n",
    "    },\n",
    "    \"Sentinel 3A\": {\n",
    "        \"start\": \"2017-01\",\n",
    "        \"stop\": \"2022-06\",\n",
    "        \"format\": \"zip\",\n",
    "        \"origin\": \"c3s\",\n",
    "        \"sensor_on_satellite\": \"slstr_on_sentinel_3a\",\n",
    "        \"variable\": \"all_variables\",\n",
    "        \"product_family\": \"cci\",\n",
    "        \"time_aggregation\": \"monthly_mean\",\n",
    "        \"climate_data_record_type\": \"interim_climate_data_record\",\n",
    "    },\n",
    "    \"Sentinel 3B\": {\n",
    "        \"start\": \"2018-10\",\n",
    "        \"stop\": \"2022-06\",\n",
    "        \"format\": \"zip\",\n",
    "        \"origin\": \"c3s\",\n",
    "        \"sensor_on_satellite\": \"slstr_on_sentinel_3b\",\n",
    "        \"variable\": \"all_variables\",\n",
    "        \"product_family\": \"cci\",\n",
    "        \"time_aggregation\": \"monthly_mean\",\n",
    "        \"climate_data_record_type\": \"interim_climate_data_record\",\n",
    "    },\n",
    "    \"Sentinel 3A_3B\": {\n",
    "        \"start\": \"2018-10\",\n",
    "        \"stop\": \"2022-06\",\n",
    "        \"format\": \"zip\",\n",
    "        \"origin\": \"c3s\",\n",
    "        \"sensor_on_satellite\": \"slstr_on_sentinel_3a_3b\",\n",
    "        \"variable\": \"all_variables\",\n",
    "        \"product_family\": \"cci\",\n",
    "        \"time_aggregation\": \"monthly_mean\",\n",
    "        \"climate_data_record_type\": \"interim_climate_data_record\",\n",
    "    },\n",
    "    \"ESA ENVISAT\": {\n",
    "        \"start\": \"2002-05\",\n",
    "        \"stop\": \"2012-04\",\n",
    "        \"format\": \"zip\",\n",
    "        \"origin\": \"esa\",\n",
    "        \"product_family\": \"cci\",\n",
    "        \"climate_data_record_type\": \"thematic_climate_data_record\",\n",
    "        \"time_aggregation\": \"monthly_mean\",\n",
    "        \"sensor_on_satellite\": \"aatsr\",\n",
    "        \"variable\": \"all_variables\",\n",
    "    },\n",
    "    \"ESA ERS2\": {\n",
    "        \"start\": \"1995-06\",\n",
    "        \"stop\": \"2002-12\",\n",
    "        \"format\": \"zip\",\n",
    "        \"origin\": \"esa\",\n",
    "        \"product_family\": \"cci\",\n",
    "        \"climate_data_record_type\": \"thematic_climate_data_record\",\n",
    "        \"time_aggregation\": \"monthly_mean\",\n",
    "        \"sensor_on_satellite\": \"atsr2\",\n",
    "        \"variable\": \"all_variables\",\n",
    "    },\n",
    "    \"HIRS\": {\n",
    "        \"start\": \"1979-01\",\n",
    "        \"stop\": \"2024-04\",\n",
    "        \"format\": \"zip\",\n",
    "        \"origin\": \"noaa_ncei\",\n",
    "        \"product_family\": \"hirs\",\n",
    "        \"climate_data_record_type\": \"thematic_climate_data_record\",\n",
    "        \"time_aggregation\": \"monthly_mean\",\n",
    "        \"version\": \"2_7_reprocessed\",\n",
    "        \"variable\": f\"outgoing_{variable}_radiation\",\n",
    "    },\n",
    "    \"CLARA_A3\": {\n",
    "        \"start\": \"1979-01\",\n",
    "        \"stop\": \"2020-12\",\n",
    "        \"product_family\": \"clara_a3\",\n",
    "        \"origin\": \"eumetsat\",\n",
    "        \"variable\": f\"outgoing_{variable}_radiation\",\n",
    "        \"climate_data_record_type\": \"thematic_climate_data_record\",\n",
    "        \"time_aggregation\": \"monthly_mean\",\n",
    "    },\n",
    "}"
   ]
  },
  {
   "cell_type": "markdown",
   "id": "7",
   "metadata": {},
   "source": [
    "## Functions to cache"
   ]
  },
  {
   "cell_type": "code",
   "execution_count": null,
   "id": "8",
   "metadata": {},
   "outputs": [],
   "source": [
    "def preprocess_time(ds):\n",
    "    if \"time\" in ds and \"units\" in ds[\"time\"].attrs:\n",
    "        # Could not decode\n",
    "        ds = ds.squeeze(\"time\", drop=True)\n",
    "    if \"time\" not in ds:\n",
    "        time = pd.to_datetime(ds.attrs[\"time_coverage_start\"])\n",
    "        ds = ds.assign_coords(time=time)\n",
    "    return ds\n",
    "\n",
    "\n",
    "def spatial_weighted_mean(ds, lon_slice, lat_slice):\n",
    "    ds = utils.regionalise(ds, lon_slice=lon_slice, lat_slice=lat_slice)\n",
    "    return diagnostics.spatial_weighted_mean(ds)"
   ]
  },
  {
   "cell_type": "markdown",
   "id": "9",
   "metadata": {},
   "source": [
    "## Download and transform"
   ]
  },
  {
   "cell_type": "code",
   "execution_count": null,
   "id": "10",
   "metadata": {},
   "outputs": [],
   "source": [
    "xarray_kwargs = {\n",
    "    \"drop_variables\": [\"time_bounds\", \"record_status\"],\n",
    "    \"preprocess\": preprocess_time,\n",
    "}\n",
    "\n",
    "da_maps = {}\n",
    "da_timeseries = {}\n",
    "for product, request in request_dict.items():\n",
    "    if product == \"HIRS\" and variable == \"shortwave\":\n",
    "        print(f\"{product=} skip\")\n",
    "        continue\n",
    "    print(f\"{product=}\")\n",
    "\n",
    "    start = request.pop(\"start\")\n",
    "    stop = request.pop(\"stop\")\n",
    "    requests = download.update_request_date(\n",
    "        request, start=start, stop=stop, stringify_dates=True\n",
    "    )\n",
    "\n",
    "    ds = download.download_and_transform(\n",
    "        collection_id,\n",
    "        requests,\n",
    "        transform_func=diagnostics.time_weighted_mean,\n",
    "        chunks=chunks,\n",
    "        transform_chunks=False,\n",
    "        **xarray_kwargs,\n",
    "    )\n",
    "    (varname,) = set(ds.data_vars) & varnames\n",
    "    da = ds[varname]\n",
    "    da.attrs.update({\"start\": start, \"stop\": stop})\n",
    "    da_maps[product] = da\n",
    "\n",
    "    dataarrays = []\n",
    "    for region, slices in region_slices.items():\n",
    "        ds = download.download_and_transform(\n",
    "            collection_id,\n",
    "            requests,\n",
    "            transform_func=spatial_weighted_mean,\n",
    "            transform_func_kwargs=slices,\n",
    "            chunks=chunks,\n",
    "            **xarray_kwargs,\n",
    "        )\n",
    "        dataarrays.append(ds[varname].expand_dims(region=[region]))\n",
    "    da = xr.concat(dataarrays, \"region\")\n",
    "    da_timeseries[product] = da"
   ]
  },
  {
   "cell_type": "markdown",
   "id": "11",
   "metadata": {},
   "source": [
    "## Plot spatial weighted timeseries"
   ]
  },
  {
   "cell_type": "code",
   "execution_count": null,
   "id": "12",
   "metadata": {},
   "outputs": [],
   "source": [
    "for region in region_slices:\n",
    "    for product, da in da_timeseries.items():\n",
    "        da.sel(region=region).plot(label=product)\n",
    "    plt.legend(bbox_to_anchor=(1, 1))\n",
    "    plt.title(region.title())\n",
    "    plt.grid()\n",
    "    plt.show()"
   ]
  },
  {
   "cell_type": "markdown",
   "id": "13",
   "metadata": {},
   "source": [
    "## Plot time weighted means"
   ]
  },
  {
   "cell_type": "code",
   "execution_count": null,
   "id": "14",
   "metadata": {},
   "outputs": [],
   "source": [
    "for product, da in da_maps.items():\n",
    "    plot.projected_map(\n",
    "        da,\n",
    "        projection=ccrs.Robinson(),\n",
    "        levels=range(150, 315, 15) if variable == \"longwave\" else range(100, 210, 10),\n",
    "        extend=\"both\",\n",
    "        cmap=\"RdBu_r\",\n",
    "    )\n",
    "    plt.title(f\"{product} ({da.attrs['start']}, {da.attrs['stop']})\")\n",
    "    plt.show()"
   ]
  },
  {
   "cell_type": "markdown",
   "id": "15",
   "metadata": {},
   "source": [
    "## Plot spatial weighted zonal means"
   ]
  },
  {
   "cell_type": "code",
   "execution_count": null,
   "id": "16",
   "metadata": {},
   "outputs": [],
   "source": [
    "for product, da in da_maps.items():\n",
    "    da = diagnostics.spatial_weighted_mean(da, dim=\"longitude\")\n",
    "    da.plot(y=\"latitude\", label=product)\n",
    "plt.legend(bbox_to_anchor=(1, 1))\n",
    "plt.grid()"
   ]
  }
 ],
 "metadata": {
  "kernelspec": {
   "display_name": "Python 3 (ipykernel)",
   "language": "python",
   "name": "python3"
  },
  "language_info": {
   "codemirror_mode": {
    "name": "ipython",
    "version": 3
   },
   "file_extension": ".py",
   "mimetype": "text/x-python",
   "name": "python",
   "nbconvert_exporter": "python",
   "pygments_lexer": "ipython3",
   "version": "3.11.9"
  }
 },
 "nbformat": 4,
 "nbformat_minor": 5
}
