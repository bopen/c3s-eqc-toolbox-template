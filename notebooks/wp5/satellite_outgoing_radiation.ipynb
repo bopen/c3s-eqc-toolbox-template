{
 "cells": [
  {
   "cell_type": "markdown",
   "id": "4f41b1c2",
   "metadata": {},
   "source": [
    "# Satellite outgoing radiation"
   ]
  },
  {
   "cell_type": "markdown",
   "id": "08bd35b2",
   "metadata": {},
   "source": [
    "## Import packages"
   ]
  },
  {
   "cell_type": "code",
   "execution_count": null,
   "id": "9a0e78ae",
   "metadata": {},
   "outputs": [],
   "source": [
    "import cartopy.crs as ccrs\n",
    "import matplotlib.pyplot as plt\n",
    "import pandas as pd\n",
    "import xarray as xr\n",
    "from c3s_eqc_automatic_quality_control import diagnostics, download, plot, utils\n",
    "\n",
    "plt.style.use(\"seaborn-v0_8-notebook\")"
   ]
  },
  {
   "cell_type": "markdown",
   "id": "61da867e",
   "metadata": {},
   "source": [
    "## Define Parameters"
   ]
  },
  {
   "cell_type": "code",
   "execution_count": null,
   "id": "e7f7b97d-bf66-4670-a8ff-1c7d50d19165",
   "metadata": {},
   "outputs": [],
   "source": [
    "# Variable to analyse\n",
    "variable = \"shortwave\"\n",
    "assert variable in (\"longwave\", \"shortwave\")\n",
    "\n",
    "# Time range\n",
    "year_ranges = {\n",
    "    \"CERES\": (2000, 2022),\n",
    "    \"HIRS\": (1979, 2022),\n",
    "    \"Sentinel 3A\": (2017, 2021),\n",
    "    \"Sentinel 3B\": (2018, 2021),\n",
    "    \"ESA ENVISAT\": (2002, 2012),\n",
    "    \"ESA ERS2\": (1995, 2003),\n",
    "}\n",
    "\n",
    "# Region for timeseries\n",
    "region_slices = {\n",
    "    \"global\": {\"lat_slice\": slice(-90, 90), \"lon_slice\": slice(0, 360)},\n",
    "    \"northern hemisphere\": {\"lat_slice\": slice(0, 90), \"lon_slice\": slice(0, 360)},\n",
    "    \"southern hemisphere\": {\"lat_slice\": slice(-90, 0), \"lon_slice\": slice(0, 360)},\n",
    "}"
   ]
  },
  {
   "cell_type": "markdown",
   "id": "d8cb7622",
   "metadata": {},
   "source": [
    "## Define request"
   ]
  },
  {
   "cell_type": "code",
   "execution_count": null,
   "id": "37281372-9a55-4ee1-b614-7e8ab4e83a72",
   "metadata": {},
   "outputs": [],
   "source": [
    "collection_id = \"satellite-earth-radiation-budget\"\n",
    "chunks = {\"year\": 1}\n",
    "varnames = (\n",
    "    {\"olr\", \"toa_lw_all_mon\"} if variable == \"longwave\" else {\"rsf\", \"toa_sw_all_mon\"}\n",
    ")\n",
    "\n",
    "requests = {\n",
    "    \"CERES\": {\n",
    "        \"format\": \"zip\",\n",
    "        \"origin\": \"nasa_ceres_ebaf\",\n",
    "        \"variable\": f\"outgoing_{variable}_radiation\",\n",
    "    },\n",
    "    \"HIRS\": {\n",
    "        \"format\": \"zip\",\n",
    "        \"origin\": \"noaa_ncei_hirs\",\n",
    "        \"variable\": f\"outgoing_{variable}_radiation\",\n",
    "    },\n",
    "    \"Sentinel 3A\": {\n",
    "        \"format\": \"zip\",\n",
    "        \"origin\": \"c3s_cci\",\n",
    "        \"sensor\": \"slstr_on_sentinel_3a\",\n",
    "        \"variable\": \"all_available_variables\",\n",
    "    },\n",
    "    \"Sentinel 3B\": {\n",
    "        \"format\": \"zip\",\n",
    "        \"origin\": \"c3s_cci\",\n",
    "        \"sensor\": \"slstr_on_sentinel_3b\",\n",
    "        \"variable\": \"all_available_variables\",\n",
    "    },\n",
    "    \"ESA ENVISAT\": {\n",
    "        \"format\": \"zip\",\n",
    "        \"origin\": \"esa_cloud_cci\",\n",
    "        \"sensor\": \"aatsr\",\n",
    "        \"variable\": \"all_available_variables\",\n",
    "    },\n",
    "    \"ESA ERS2\": {\n",
    "        \"format\": \"zip\",\n",
    "        \"origin\": \"esa_cloud_cci\",\n",
    "        \"sensor\": \"atsr2\",\n",
    "        \"variable\": \"all_available_variables\",\n",
    "    },\n",
    "}\n",
    "assert not (invalid := set(year_ranges) - set(requests)), f\"{invalid} are invalid\""
   ]
  },
  {
   "cell_type": "markdown",
   "id": "3449fa18",
   "metadata": {},
   "source": [
    "## Define request"
   ]
  },
  {
   "cell_type": "code",
   "execution_count": null,
   "id": "821f81b3-66db-41d1-bf31-86dc70b49d66",
   "metadata": {},
   "outputs": [],
   "source": [
    "def convert_source_to_time(ds):\n",
    "    if \"source\" in ds.dims:\n",
    "        ds[\"time\"] = (\n",
    "            \"source\",\n",
    "            pd.to_datetime(\n",
    "                [source.split(\"_\")[-2] + \"15\" for source in ds[\"source\"].values],\n",
    "                format=\"%Y%m%d\",\n",
    "            ),\n",
    "        )\n",
    "        ds[\"time\"].attrs[\"standard_name\"] = \"time\"\n",
    "        ds = ds.swap_dims(source=\"time\").drop(\"source\")\n",
    "    return ds\n",
    "\n",
    "\n",
    "def spatial_weighted_mean(ds, lon_slice, lat_slice):\n",
    "    ds = convert_source_to_time(ds)\n",
    "    ds = utils.regionalise(ds, lon_slice=lon_slice, lat_slice=lat_slice)\n",
    "    return diagnostics.spatial_weighted_mean(ds)\n",
    "\n",
    "\n",
    "def time_weighted_mean(ds):\n",
    "    ds = convert_source_to_time(ds)\n",
    "    return diagnostics.time_weighted_mean(ds)"
   ]
  },
  {
   "cell_type": "markdown",
   "id": "9390c973",
   "metadata": {},
   "source": [
    "## Download and transform"
   ]
  },
  {
   "cell_type": "code",
   "execution_count": null,
   "id": "d544b572-a95f-4e2a-bc6a-ee64d129f1df",
   "metadata": {},
   "outputs": [],
   "source": [
    "da_maps = {}\n",
    "da_timeseries = {}\n",
    "for product, (year_start, year_stop) in year_ranges.items():\n",
    "    if product == \"HIRS\" and variable == \"shortwave\":\n",
    "        print(f\"{product=} skip\")\n",
    "        continue\n",
    "\n",
    "    print(f\"{product=}\")\n",
    "    request = requests[product]\n",
    "    request[\"year\"] = [f\"{year}\" for year in range(year_start, year_stop + 1)]\n",
    "    request[\"month\"] = [f\"{month:02d}\" for month in range(1, 13)]\n",
    "\n",
    "    ds = download.download_and_transform(\n",
    "        collection_id,\n",
    "        request,\n",
    "        transform_func=time_weighted_mean,\n",
    "        chunks=chunks,\n",
    "        transform_chunks=False,\n",
    "    )\n",
    "    (varname,) = set(ds.data_vars) & varnames\n",
    "    da_maps[product] = ds[varname]\n",
    "\n",
    "    dataarrays = []\n",
    "    for region, slices in region_slices.items():\n",
    "        ds = download.download_and_transform(\n",
    "            collection_id,\n",
    "            request,\n",
    "            transform_func=spatial_weighted_mean,\n",
    "            transform_func_kwargs=slices,\n",
    "            chunks=chunks,\n",
    "        )\n",
    "        dataarrays.append(ds[varname].expand_dims(region=[region]))\n",
    "    da_timeseries[product] = xr.concat(dataarrays, \"region\")"
   ]
  },
  {
   "cell_type": "markdown",
   "id": "162da976",
   "metadata": {},
   "source": [
    "## Plot spatial weighted timeseries"
   ]
  },
  {
   "cell_type": "code",
   "execution_count": null,
   "id": "cac0539c-f145-4cdf-a09c-4df896f8d9ea",
   "metadata": {},
   "outputs": [],
   "source": [
    "for region in region_slices:\n",
    "    for product, da in da_timeseries.items():\n",
    "        da.sel(region=region).plot(label=product)\n",
    "    plt.legend(bbox_to_anchor=(1, 1))\n",
    "    plt.title(region.title())\n",
    "    plt.grid()\n",
    "    plt.show()"
   ]
  },
  {
   "cell_type": "markdown",
   "id": "fbcaab5d",
   "metadata": {},
   "source": [
    "## Plot time weighted means"
   ]
  },
  {
   "cell_type": "code",
   "execution_count": null,
   "id": "e455c817-5fd7-44fa-be5c-d096b16c0c53",
   "metadata": {},
   "outputs": [],
   "source": [
    "for product, da in da_maps.items():\n",
    "    plot.projected_map(\n",
    "        da,\n",
    "        projection=ccrs.Robinson(),\n",
    "        levels=range(150, 315, 15) if variable == \"longwave\" else range(100, 210, 10),\n",
    "        extend=\"both\",\n",
    "        cmap=\"RdBu_r\",\n",
    "    )\n",
    "    plt.title(product)\n",
    "    plt.show()"
   ]
  },
  {
   "cell_type": "markdown",
   "id": "58d3cfa1",
   "metadata": {},
   "source": [
    "## Plot spatial weighted zonal means"
   ]
  },
  {
   "cell_type": "code",
   "execution_count": null,
   "id": "48d8e734-01d1-49fc-af67-558459491b2b",
   "metadata": {},
   "outputs": [],
   "source": [
    "for product, da in da_maps.items():\n",
    "    da = diagnostics.spatial_weighted_mean(da, dim=\"longitude\")\n",
    "    da.plot(y=\"latitude\", label=product)\n",
    "plt.legend(bbox_to_anchor=(1, 1))\n",
    "plt.grid()"
   ]
  }
 ],
 "metadata": {
  "kernelspec": {
   "display_name": "Python 3 (ipykernel)",
   "language": "python",
   "name": "python3"
  },
  "language_info": {
   "codemirror_mode": {
    "name": "ipython",
    "version": 3
   },
   "file_extension": ".py",
   "mimetype": "text/x-python",
   "name": "python",
   "nbconvert_exporter": "python",
   "pygments_lexer": "ipython3",
   "version": "3.10.12"
  }
 },
 "nbformat": 4,
 "nbformat_minor": 5
}
