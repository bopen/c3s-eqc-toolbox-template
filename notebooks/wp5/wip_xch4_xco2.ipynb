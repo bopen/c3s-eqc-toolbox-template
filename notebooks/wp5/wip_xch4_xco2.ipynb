{
 "cells": [
  {
   "attachments": {},
   "cell_type": "markdown",
   "metadata": {},
   "source": [
    "# Spatial trends and anomalies of xco2 and xch4 from satellite"
   ]
  },
  {
   "attachments": {},
   "cell_type": "markdown",
   "metadata": {},
   "source": [
    "## Import packages"
   ]
  },
  {
   "cell_type": "code",
   "execution_count": null,
   "metadata": {},
   "outputs": [],
   "source": [
    "import cartopy.crs as ccrs\n",
    "import matplotlib.pyplot as plt\n",
    "import xarray as xr\n",
    "from c3s_eqc_automatic_quality_control import diagnostics, download, plot\n",
    "from xarrayMannKendall import Mann_Kendall_test\n",
    "\n",
    "plt.style.use(\"seaborn-v0_8-notebook\")\n",
    "plt.rcParams[\"hatch.linewidth\"] = 0.5"
   ]
  },
  {
   "attachments": {},
   "cell_type": "markdown",
   "metadata": {},
   "source": [
    "## Define Parameters"
   ]
  },
  {
   "cell_type": "code",
   "execution_count": null,
   "metadata": {},
   "outputs": [],
   "source": [
    "# Choose variable (xch4 or xco2)\n",
    "variable = \"xco2\"\n",
    "assert variable in (\"xch4\", \"xco2\")"
   ]
  },
  {
   "attachments": {},
   "cell_type": "markdown",
   "metadata": {},
   "source": [
    "## Define request"
   ]
  },
  {
   "cell_type": "code",
   "execution_count": null,
   "metadata": {},
   "outputs": [],
   "source": [
    "request = (\n",
    "    \"satellite-carbon-dioxide\" if variable == \"xco2\" else \"satellite-methane\",\n",
    "    {\n",
    "        \"processing_level\": \"level_3\",\n",
    "        \"variable\": variable,\n",
    "        \"sensor_and_algorithm\": \"merged_obs4mips\",\n",
    "        \"version\": \"4.4\",\n",
    "        \"format\": \"zip\",\n",
    "    },\n",
    ")"
   ]
  },
  {
   "attachments": {},
   "cell_type": "markdown",
   "metadata": {},
   "source": [
    "## Define request"
   ]
  },
  {
   "cell_type": "code",
   "execution_count": null,
   "metadata": {},
   "outputs": [],
   "source": [
    "def get_da(ds):\n",
    "    (varname,) = set(ds.data_vars) & {\"xch4\", \"xco2\"}\n",
    "    return ds[varname]\n",
    "\n",
    "\n",
    "def convert_units(da):\n",
    "    with xr.set_options(keep_attrs=True):\n",
    "        if da.name == \"xch4\" and da.attrs[\"units\"] != \"ppb\":\n",
    "            da *= 1.0e9\n",
    "            da.attrs[\"units\"] = \"ppb\"\n",
    "        elif da.name == \"xco2\" and da.attrs[\"units\"] != \"ppm\":\n",
    "            da *= 1.0e6\n",
    "            da.attrs[\"units\"] = \"ppm\"\n",
    "    return da\n",
    "\n",
    "\n",
    "def compute_seasonal_timeseries(ds):\n",
    "    # Shift years (shift -1 to get D(year-1)J(year)F(year))\n",
    "    da = get_da(ds)\n",
    "    da = da.assign_coords(year=ds[\"time\"].dt.year.shift(time=-1).astype(int))\n",
    "    # Get rid of 1st JF and last D, so it become [MAM, JJA, SON, DJF, ..., SON]\n",
    "    da = da.isel(time=slice(2, -1))\n",
    "    da = da.groupby(\"year\").map(diagnostics.seasonal_weighted_mean)\n",
    "    return convert_units(da).to_dataset()\n",
    "\n",
    "\n",
    "def compute_statistics(ds):\n",
    "    da = get_da(ds)\n",
    "    da = diagnostics.spatial_weighted_statistics(da)\n",
    "    return convert_units(da).to_dataset()\n",
    "\n",
    "\n",
    "def compute_monthly_anomalies(ds):\n",
    "    da = get_da(ds)\n",
    "    with xr.set_options(keep_attrs=True):\n",
    "        da = da.groupby(\"time.month\") - da.groupby(\"time.month\").mean()\n",
    "    return convert_units(da)\n",
    "\n",
    "\n",
    "def compute_mann_kendall_trend(da, **kwargs):\n",
    "    coords_name = {\"time\": \"time\", \"x\": \"longitude\", \"y\": \"latitude\"}\n",
    "    ds_trend = Mann_Kendall_test(da, coords_name=coords_name, **kwargs).compute()\n",
    "    return ds_trend.rename({k: v for k, v in coords_name.items() if k != \"time\"})\n",
    "\n",
    "\n",
    "def compute_seasonal_detrended_anomaly(da, **kwargs):\n",
    "    da_trend = xr.polyval(da[\"time\"], da.polyfit(\"time\", **kwargs).polyfit_coefficients)\n",
    "    da_detrended = da - da_trend\n",
    "    return da_detrended.groupby(\"time.year\").map(diagnostics.seasonal_weighted_mean)\n",
    "\n",
    "\n",
    "def compute_trends(ds):\n",
    "    da_anomaly = compute_monthly_anomalies(ds)\n",
    "\n",
    "    # Mann-Kendall\n",
    "    ds_mann_kendall = compute_mann_kendall_trend(\n",
    "        da_anomaly, alpha=0.05, method=\"theilslopes\"\n",
    "    )\n",
    "    ds_mann_kendall[\"trend\"].attrs = {\n",
    "        \"long_name\": f\"Trend of anomalies of {da_anomaly.attrs['long_name']}\",\n",
    "        \"units\": f\"{da_anomaly.attrs['units']}/month\",\n",
    "    }\n",
    "\n",
    "    # Detrended anomalies\n",
    "    da_detrended = compute_seasonal_detrended_anomaly(da_anomaly, deg=1)\n",
    "    da_detrended.attrs = {\n",
    "        \"long_name\": f\"Detrended anomalies of {da_anomaly.attrs['long_name']}\",\n",
    "        \"units\": f\"{da_anomaly.attrs['units']}\",\n",
    "    }\n",
    "\n",
    "    ds_mann_kendall[\"detrended_anomaly\"] = da_detrended\n",
    "    return ds_mann_kendall"
   ]
  },
  {
   "attachments": {},
   "cell_type": "markdown",
   "metadata": {},
   "source": [
    "## Global annual variability"
   ]
  },
  {
   "cell_type": "code",
   "execution_count": null,
   "metadata": {},
   "outputs": [],
   "source": [
    "ds_seasonal = download.download_and_transform(\n",
    "    *request, transform_func=compute_seasonal_timeseries\n",
    ")\n",
    "_ = plot.projected_map(\n",
    "    ds_seasonal[variable],\n",
    "    projection=ccrs.Robinson(),\n",
    "    col=\"season\",\n",
    "    row=\"year\",\n",
    "    robust=True,\n",
    ")"
   ]
  },
  {
   "attachments": {},
   "cell_type": "markdown",
   "metadata": {},
   "source": [
    "## Global mean values"
   ]
  },
  {
   "cell_type": "code",
   "execution_count": null,
   "metadata": {},
   "outputs": [],
   "source": [
    "ds_stats = download.download_and_transform(*request, transform_func=compute_statistics)\n",
    "fig, ax = plt.subplots(1, 1)\n",
    "ds_stats[variable].drop_sel(diagnostic=\"std\").plot(hue=\"diagnostic\", ax=ax)\n",
    "mean = ds_stats[variable].sel(diagnostic=\"mean\")\n",
    "std = ds_stats[variable].sel(diagnostic=\"std\")\n",
    "ax.fill_between(ds_stats[\"time\"], mean + std, mean - std, color=\"k\", alpha=0.25)\n",
    "plt.grid()"
   ]
  },
  {
   "attachments": {},
   "cell_type": "markdown",
   "metadata": {},
   "source": [
    "## Global trends"
   ]
  },
  {
   "cell_type": "code",
   "execution_count": null,
   "metadata": {},
   "outputs": [],
   "source": [
    "ds_trend = download.download_and_transform(*request, transform_func=compute_trends)\n",
    "\n",
    "shading_kwargs = dict(robust=True, projection=ccrs.Robinson())\n",
    "hatches_kwargs = {\n",
    "    \"plot_func\": \"contourf\",\n",
    "    \"show_stats\": False,\n",
    "    \"cmap\": \"none\",\n",
    "    \"add_colorbar\": False,\n",
    "}\n",
    "\n",
    "plot.projected_map(ds_trend[\"trend\"], robust=True, projection=ccrs.Robinson())\n",
    "plot.projected_map(\n",
    "    ds_trend[\"p\"],\n",
    "    plot_func=\"contourf\",\n",
    "    show_stats=False,\n",
    "    cmap=\"none\",\n",
    "    add_colorbar=False,\n",
    "    levels=[0, 0.05, 1],\n",
    "    hatches=[\"\", \"/\" * 5],\n",
    ")"
   ]
  },
  {
   "attachments": {},
   "cell_type": "markdown",
   "metadata": {},
   "source": [
    "## Detrended seasonal anomalies"
   ]
  },
  {
   "cell_type": "code",
   "execution_count": null,
   "metadata": {},
   "outputs": [],
   "source": [
    "_ = plot.projected_map(\n",
    "    ds_trend[\"detrended_anomaly\"],\n",
    "    projection=ccrs.Robinson(),\n",
    "    col=\"season\",\n",
    "    row=\"year\",\n",
    "    robust=True,\n",
    ")"
   ]
  }
 ],
 "metadata": {
  "kernelspec": {
   "display_name": "Python 3 (ipykernel)",
   "language": "python",
   "name": "python3"
  },
  "language_info": {
   "codemirror_mode": {
    "name": "ipython",
    "version": 3
   },
   "file_extension": ".py",
   "mimetype": "text/x-python",
   "name": "python",
   "nbconvert_exporter": "python",
   "pygments_lexer": "ipython3",
   "version": "3.10.11"
  }
 },
 "nbformat": 4,
 "nbformat_minor": 4
}
