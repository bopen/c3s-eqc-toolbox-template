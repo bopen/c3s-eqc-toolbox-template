{
 "cells": [
  {
   "cell_type": "markdown",
   "id": "0",
   "metadata": {},
   "source": [
    "# Glaciers Distribution"
   ]
  },
  {
   "cell_type": "markdown",
   "id": "1",
   "metadata": {},
   "source": [
    "## Import packages"
   ]
  },
  {
   "cell_type": "code",
   "execution_count": null,
   "id": "2",
   "metadata": {},
   "outputs": [],
   "source": [
    "import fsspec\n",
    "import geopandas as gpd\n",
    "import matplotlib as mpl\n",
    "import matplotlib.pyplot as plt\n",
    "import pandas as pd\n",
    "from c3s_eqc_automatic_quality_control import download\n",
    "\n",
    "plt.style.use(\"seaborn-v0_8-notebook\")"
   ]
  },
  {
   "cell_type": "markdown",
   "id": "3",
   "metadata": {},
   "source": [
    "## Define request"
   ]
  },
  {
   "cell_type": "code",
   "execution_count": null,
   "id": "4",
   "metadata": {},
   "outputs": [],
   "source": [
    "collection_id = \"insitu-glaciers-extent\"\n",
    "request = {\n",
    "    \"variable\": \"all\",\n",
    "    \"format\": \"zip\",\n",
    "    \"version\": \"6_0\",\n",
    "}"
   ]
  },
  {
   "cell_type": "markdown",
   "id": "5",
   "metadata": {},
   "source": [
    "## Download and open data"
   ]
  },
  {
   "cell_type": "code",
   "execution_count": null,
   "id": "6",
   "metadata": {},
   "outputs": [],
   "source": [
    "# Takes a couple of minutes\n",
    "ds = download.download_and_transform(collection_id, request)\n",
    "gdf = gpd.GeoDataFrame(\n",
    "    ds.to_pandas(),\n",
    "    geometry=gpd.points_from_xy(ds[\"CENLON\"], ds[\"CENLAT\"]),\n",
    "    crs=\"EPSG:4326\",\n",
    ")\n",
    "\n",
    "# Convert dates from string to datetime, and add digitalization year\n",
    "columns = []\n",
    "for column in (\"BGNDATE\", \"ENDDATE\"):\n",
    "    years = gdf[column].str[:4]\n",
    "    months = gdf[column].str[4:6].replace(\"99\", \"01\")\n",
    "    days = gdf[column].str[6:8].replace(\"99\", \"01\")\n",
    "    series = years + months + days\n",
    "    series = series.where(~series.str.startswith(\"-\"))\n",
    "    columns.append(pd.to_datetime(series))\n",
    "gdf[\"year\"] = pd.DataFrame(columns).mean().dt.year.astype(\"Int64\")"
   ]
  },
  {
   "cell_type": "markdown",
   "id": "7",
   "metadata": {},
   "source": [
    "## Print some statistics"
   ]
  },
  {
   "cell_type": "code",
   "execution_count": null,
   "id": "8",
   "metadata": {},
   "outputs": [],
   "source": [
    "n_glaciers = len(gdf)\n",
    "total_area = gdf[\"AREA\"].sum()\n",
    "print(\n",
    "    \" \".join(\n",
    "        [\n",
    "            f\"A total number of {n_glaciers} glaciers is present in the dataset,\",\n",
    "            f\"covering a total area of {total_area:.2f} km^2.\",\n",
    "        ]\n",
    "    )\n",
    ")"
   ]
  },
  {
   "cell_type": "markdown",
   "id": "9",
   "metadata": {},
   "source": [
    "## Plotting function"
   ]
  },
  {
   "cell_type": "code",
   "execution_count": null,
   "id": "10",
   "metadata": {},
   "outputs": [],
   "source": [
    "def plot_map(gdf, var_name=None, label=None, title=None, **kwargs):\n",
    "    kwargs = {\"markersize\": 5, \"legend\": var_name is not None} | kwargs\n",
    "    if var_name:\n",
    "        kwargs = {\"c\": var_name, \"column\": var_name} | kwargs\n",
    "        kwargs.setdefault(\"legend_kwds\", {\"shrink\": 0.49, \"extend\": \"both\"})\n",
    "        if label is not None:\n",
    "            kwargs[\"legend_kwds\"].setdefault(\"label\", label)\n",
    "    shapefile_url = \"https://naturalearth.s3.amazonaws.com/110m_cultural/ne_110m_admin_0_countries.zip\"\n",
    "    with fsspec.open(f\"simplecache::{shapefile_url}\") as f:\n",
    "        gdf_countries = gpd.read_file(f)\n",
    "\n",
    "    ax = gdf_countries.boundary.plot(\n",
    "        figsize=(20, 16), facecolor=\"none\", edgecolor=\"black\", linewidth=0.25\n",
    "    )\n",
    "    gdf.plot(ax=ax, **kwargs)\n",
    "    ax.axis(\"off\")\n",
    "    if title:\n",
    "        ax.set_title(title, fontsize=25)\n",
    "    return ax"
   ]
  },
  {
   "cell_type": "markdown",
   "id": "11",
   "metadata": {},
   "source": [
    "## Plot glaciers location"
   ]
  },
  {
   "cell_type": "code",
   "execution_count": null,
   "id": "12",
   "metadata": {},
   "outputs": [],
   "source": [
    "ax = plot_map(\n",
    "    gdf,\n",
    "    color=\"red\",\n",
    "    title=\"Glacier distribution around the year 2000 according to the RGI v6.0\",\n",
    ")"
   ]
  },
  {
   "cell_type": "markdown",
   "id": "13",
   "metadata": {},
   "source": [
    "## Plot glaciers distribution over years: Bars"
   ]
  },
  {
   "cell_type": "code",
   "execution_count": null,
   "id": "14",
   "metadata": {},
   "outputs": [],
   "source": [
    "size = gdf.set_index(\"year\").groupby(\"year\").size()\n",
    "size = size.reindex(range(gdf[\"year\"].min(), gdf[\"year\"].max() + 1), fill_value=0)\n",
    "missing = gdf[\"year\"].isnull().sum()\n",
    "missing_perc = 100 * (missing / len(gdf[\"year\"]))\n",
    "ax = size.plot.bar(\n",
    "    figsize=(15, 5),\n",
    "    grid=True,\n",
    "    ylabel=\"Number of glaciers\",\n",
    ")\n",
    "_ = ax.text(\n",
    "    0,\n",
    "    1,\n",
    "    f\"Date of digitization data are missing for {missing} glaciers or {missing_perc:.2f}% of the dataset.\",\n",
    "    transform=ax.transAxes,\n",
    "    bbox={\"facecolor\": \"white\", \"edgecolor\": \"black\"},\n",
    ")"
   ]
  },
  {
   "cell_type": "markdown",
   "id": "15",
   "metadata": {},
   "source": [
    "## Plot glaciers distribution over years: Map"
   ]
  },
  {
   "cell_type": "code",
   "execution_count": null,
   "id": "16",
   "metadata": {},
   "outputs": [],
   "source": [
    "cmap = mpl.cm.turbo\n",
    "norm = mpl.colors.BoundaryNorm(range(1940, 2021, 10), cmap.N)\n",
    "ax = plot_map(\n",
    "    gdf,\n",
    "    var_name=\"year\",\n",
    "    cmap=cmap,\n",
    "    norm=norm,\n",
    "    label=\"year\",\n",
    "    title=\"Glacier distribution around the year 2000 according to the RGI v6.0\",\n",
    ")"
   ]
  },
  {
   "cell_type": "markdown",
   "id": "17",
   "metadata": {},
   "source": [
    "# Plot year VS region"
   ]
  },
  {
   "cell_type": "code",
   "execution_count": null,
   "id": "18",
   "metadata": {},
   "outputs": [],
   "source": [
    "def weighted_average(df, field_name, weights_name):\n",
    "    df = df[df[field_name].notnull() & df[weights_name].notnull()]\n",
    "    weights = df[weights_name]\n",
    "    return (df[field_name] * weights).sum() / weights.sum()\n",
    "\n",
    "\n",
    "gdf[\"region\"] = gdf[\"RGIID\"].str[6:8].astype(int)\n",
    "grouped = gdf[[\"year\", \"AREA\", \"region\"]].groupby(\"region\")\n",
    "arithmetic_year = grouped[\"year\"].mean()\n",
    "weighted_year = grouped.apply(weighted_average, \"year\", \"AREA\", include_groups=False)\n",
    "\n",
    "ax = arithmetic_year.plot(label=\"arithmetic\")\n",
    "ax = weighted_year.plot(label=\"weighted\")\n",
    "ax.set_xlabel(\"RGI region number\")\n",
    "ax.set_ylabel(\"Year of digitalization\")\n",
    "ax.grid()\n",
    "_ = ax.legend()"
   ]
  }
 ],
 "metadata": {
  "kernelspec": {
   "display_name": "Python 3 (ipykernel)",
   "language": "python",
   "name": "python3"
  },
  "language_info": {
   "codemirror_mode": {
    "name": "ipython",
    "version": 3
   },
   "file_extension": ".py",
   "mimetype": "text/x-python",
   "name": "python",
   "nbconvert_exporter": "python",
   "pygments_lexer": "ipython3",
   "version": "3.11.7"
  }
 },
 "nbformat": 4,
 "nbformat_minor": 5
}
