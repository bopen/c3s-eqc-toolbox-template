{
 "cells": [
  {
   "cell_type": "markdown",
   "id": "5d4da78d",
   "metadata": {},
   "source": [
    "# Glaciers Distribution"
   ]
  },
  {
   "cell_type": "markdown",
   "id": "8cb6da8e",
   "metadata": {},
   "source": [
    "## Import packages"
   ]
  },
  {
   "cell_type": "code",
   "execution_count": null,
   "id": "30ed6da7-7a25-4673-9a66-d42348a7e49e",
   "metadata": {},
   "outputs": [],
   "source": [
    "import fsspec\n",
    "import geopandas as gpd\n",
    "import matplotlib.pyplot as plt\n",
    "import pandas as pd\n",
    "from c3s_eqc_automatic_quality_control import download\n",
    "\n",
    "plt.style.use(\"seaborn-v0_8-notebook\")"
   ]
  },
  {
   "cell_type": "markdown",
   "id": "667a5dd9",
   "metadata": {},
   "source": [
    "## Define request"
   ]
  },
  {
   "cell_type": "code",
   "execution_count": null,
   "id": "eabede92-b635-4393-a311-1e3678a2fec6",
   "metadata": {},
   "outputs": [],
   "source": [
    "collection_id = \"insitu-glaciers-extent\"\n",
    "request = {\n",
    "    \"variable\": \"all\",\n",
    "    \"format\": \"zip\",\n",
    "    \"version\": \"6_0\",\n",
    "}"
   ]
  },
  {
   "cell_type": "markdown",
   "id": "34a47c3a",
   "metadata": {},
   "source": [
    "## Download and open data"
   ]
  },
  {
   "cell_type": "code",
   "execution_count": null,
   "id": "276c7cbe-a461-4f5b-82e4-ea6356f7ae39",
   "metadata": {},
   "outputs": [],
   "source": [
    "# Takes a couple of minutes\n",
    "ds = download.download_and_transform(collection_id, request)\n",
    "gdf = gpd.GeoDataFrame(\n",
    "    ds.to_pandas(),\n",
    "    geometry=gpd.points_from_xy(ds[\"CENLON\"], ds[\"CENLAT\"]),\n",
    "    crs=\"EPSG:4326\",\n",
    ")"
   ]
  },
  {
   "cell_type": "markdown",
   "id": "d04604bb",
   "metadata": {},
   "source": [
    "## Print some statistics"
   ]
  },
  {
   "cell_type": "code",
   "execution_count": null,
   "id": "6b25a17a-bf29-4ea8-81c3-7191ae782851",
   "metadata": {},
   "outputs": [],
   "source": [
    "n_glaciers = len(gdf)\n",
    "total_area = gdf[\"AREA\"].sum()\n",
    "print(\n",
    "    \" \".join(\n",
    "        [\n",
    "            f\"A total number of {n_glaciers} glaciers is present in the dataset,\",\n",
    "            f\"covering a total area of {total_area:.2f} km^2.\",\n",
    "        ]\n",
    "    )\n",
    ")"
   ]
  },
  {
   "cell_type": "markdown",
   "id": "a843dff2",
   "metadata": {},
   "source": [
    "## Plotting function"
   ]
  },
  {
   "cell_type": "code",
   "execution_count": null,
   "id": "0e74e542-f5e6-4d2d-a5f0-d4bad09b56a3",
   "metadata": {},
   "outputs": [],
   "source": [
    "def plot_map(gdf, var_name=None, label=None, title=None, **kwargs):\n",
    "    kwargs = {\"markersize\": 5, \"legend\": var_name is not None} | kwargs\n",
    "    if var_name:\n",
    "        kwargs = {\"c\": var_name, \"column\": var_name} | kwargs\n",
    "        kwargs.setdefault(\"legend_kwds\", {\"shrink\": 0.49, \"extend\": \"both\"})\n",
    "        if label is not None:\n",
    "            kwargs[\"legend_kwds\"].setdefault(\"label\", label)\n",
    "\n",
    "    shapefile_url = \"https://www.naturalearthdata.com/http//www.naturalearthdata.com/download/110m/cultural/ne_110m_admin_0_countries.zip\"\n",
    "    with fsspec.open(f\"simplecache::{shapefile_url}\") as f:\n",
    "        gdf_countries = gpd.read_file(f)\n",
    "\n",
    "    ax = gdf_countries.boundary.plot(\n",
    "        figsize=(20, 16), facecolor=\"none\", edgecolor=\"black\", linewidth=0.25\n",
    "    )\n",
    "    gdf.plot(ax=ax, **kwargs)\n",
    "    ax.axis(\"off\")\n",
    "    if title:\n",
    "        ax.set_title(title, fontsize=25)\n",
    "    return ax"
   ]
  },
  {
   "cell_type": "markdown",
   "id": "ca5f0b72",
   "metadata": {},
   "source": [
    "## Plot glaciers location"
   ]
  },
  {
   "cell_type": "code",
   "execution_count": null,
   "id": "4438f2a7-daed-4ee2-acf0-0771661c3d14",
   "metadata": {},
   "outputs": [],
   "source": [
    "ax = plot_map(\n",
    "    gdf,\n",
    "    color=\"red\",\n",
    "    title=\"Glacier distribution around the year 2000 according to the RGI v6.0\",\n",
    ")"
   ]
  },
  {
   "cell_type": "markdown",
   "id": "698fca9d",
   "metadata": {},
   "source": [
    "## Plot glaciers distribution over years: Bars"
   ]
  },
  {
   "cell_type": "code",
   "execution_count": null,
   "id": "91d0ae81-22d7-4f4f-a475-4d5d711c4488",
   "metadata": {},
   "outputs": [],
   "source": [
    "year = pd.DataFrame(\n",
    "    [gdf[\"BGNDATE\"].str[:4].astype(int), gdf[\"ENDDATE\"].str[:4].astype(int)]\n",
    ")\n",
    "gdf[\"year\"] = year.where(year > 0).mean().round().astype(\"Int64\")\n",
    "size = gdf.set_index(\"year\").groupby(\"year\").size()\n",
    "ax = size.plot.bar(figsize=(15, 5), grid=True, ylabel=\"Number of glaciers\")"
   ]
  },
  {
   "cell_type": "markdown",
   "id": "e85c1619",
   "metadata": {},
   "source": [
    "## Plot glaciers distribution over years: Map"
   ]
  },
  {
   "cell_type": "code",
   "execution_count": null,
   "id": "714c2acf-ba5b-4edd-b42a-344c57976917",
   "metadata": {},
   "outputs": [],
   "source": [
    "ax = plot_map(\n",
    "    gdf,\n",
    "    var_name=\"year\",\n",
    "    cmap=\"turbo\",\n",
    "    label=\"year\",\n",
    "    title=\"Glacier distribution around the year 2000 according to the RGI v6.0\",\n",
    ")"
   ]
  }
 ],
 "metadata": {
  "kernelspec": {
   "display_name": "Python 3 (ipykernel)",
   "language": "python",
   "name": "python3"
  },
  "language_info": {
   "codemirror_mode": {
    "name": "ipython",
    "version": 3
   },
   "file_extension": ".py",
   "mimetype": "text/x-python",
   "name": "python",
   "nbconvert_exporter": "python",
   "pygments_lexer": "ipython3",
   "version": "3.10.13"
  }
 },
 "nbformat": 4,
 "nbformat_minor": 5
}
