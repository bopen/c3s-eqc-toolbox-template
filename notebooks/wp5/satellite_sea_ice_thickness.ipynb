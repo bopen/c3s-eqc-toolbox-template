{
 "cells": [
  {
   "cell_type": "markdown",
   "metadata": {},
   "source": [
    "# Quality assessment of satellite sea ice thickness"
   ]
  },
  {
   "cell_type": "markdown",
   "metadata": {},
   "source": [
    "## Import libraries"
   ]
  },
  {
   "cell_type": "code",
   "execution_count": null,
   "metadata": {},
   "outputs": [],
   "source": [
    "import cartopy.crs as ccrs\n",
    "import matplotlib.pyplot as plt\n",
    "import xarray as xr\n",
    "from c3s_eqc_automatic_quality_control import diagnostics, download, plot\n",
    "\n",
    "plt.style.use(\"seaborn-v0_8-notebook\")"
   ]
  },
  {
   "cell_type": "markdown",
   "metadata": {},
   "source": [
    "## Set parameters"
   ]
  },
  {
   "cell_type": "code",
   "execution_count": null,
   "metadata": {},
   "outputs": [],
   "source": [
    "year_start_envisat = 2002\n",
    "year_stop_envisat = 2010\n",
    "\n",
    "year_start_cryosat = 2010\n",
    "year_stop_cryosat = 2020"
   ]
  },
  {
   "cell_type": "markdown",
   "metadata": {},
   "source": [
    "## Define request"
   ]
  },
  {
   "cell_type": "code",
   "execution_count": null,
   "metadata": {},
   "outputs": [],
   "source": [
    "collection_id = \"satellite-sea-ice-thickness\"\n",
    "\n",
    "year_ranges = {\n",
    "    \"envisat\": range(year_start_envisat, year_stop_envisat + 1),\n",
    "    \"cryosat_2\": range(year_start_cryosat, year_stop_cryosat + 1),\n",
    "}\n",
    "\n",
    "requests = {}\n",
    "for satellite, year_range in year_ranges.items():\n",
    "    requests[satellite] = {\n",
    "        \"satellite\": satellite,\n",
    "        \"version\": \"2_0\",\n",
    "        \"cdr_type\": \"cdr\",\n",
    "        \"variable\": \"all\",\n",
    "        \"year\": list(map(str, year_range)),\n",
    "        \"month\": [f\"{month:02d}\" for month in [1, 2, 3, 4, 10, 11, 12]],\n",
    "    }\n",
    "\n",
    "chunks = {\"year\": 1}"
   ]
  },
  {
   "cell_type": "markdown",
   "metadata": {},
   "source": [
    "## Define function to cache"
   ]
  },
  {
   "cell_type": "code",
   "execution_count": null,
   "metadata": {},
   "outputs": [],
   "source": [
    "def sea_ice_thickness_linear_trend(ds, **kwargs):\n",
    "    da = ds[\"sea_ice_thickness\"]\n",
    "    if not kwargs.get(\"p_value\") and not kwargs.get(\"rmse\"):\n",
    "        return diagnostics.time_weighted_linear_trend(da, **kwargs)\n",
    "    return xr.Dataset(\n",
    "        diagnostics.time_weighted_linear_trend(\n",
    "            da.chunk(time=-1),\n",
    "            **kwargs,\n",
    "        )\n",
    "    )\n",
    "\n",
    "\n",
    "def monthly_weighted_linear_trend(ds, **kwargs):\n",
    "    return ds.groupby(\"time.month\").apply(sea_ice_thickness_linear_trend, **kwargs)"
   ]
  },
  {
   "cell_type": "markdown",
   "metadata": {},
   "source": [
    "## Download and transform"
   ]
  },
  {
   "cell_type": "code",
   "execution_count": null,
   "metadata": {},
   "outputs": [],
   "source": [
    "funcs = (diagnostics.monthly_weighted_mean, diagnostics.monthly_weighted_std)\n",
    "objects = []\n",
    "for satellite, request in requests.items():\n",
    "    print(f\"{satellite=}\")\n",
    "    for func in funcs:\n",
    "        _, name = func.__name__.rsplit(\"_\", 1)\n",
    "        ds = download.download_and_transform(\n",
    "            collection_id,\n",
    "            request,\n",
    "            chunks=chunks,\n",
    "            transform_chunks=False,\n",
    "            transform_func=func,\n",
    "            transform_func_kwargs={\"weights\": False},\n",
    "        )\n",
    "        da = ds[\"sea_ice_thickness\"].rename(name)\n",
    "        da.attrs[\"long_name\"] = f\"{name.title()} of \" + da.attrs[\"long_name\"]\n",
    "        objects.append(da.expand_dims(satellite=[satellite]))\n",
    "\n",
    "    ds = download.download_and_transform(\n",
    "        collection_id,\n",
    "        request,\n",
    "        chunks=chunks,\n",
    "        transform_chunks=False,\n",
    "        transform_func=monthly_weighted_linear_trend,\n",
    "        transform_func_kwargs={\"weights\": False, \"p_value\": True, \"r2\": True},\n",
    "    )\n",
    "    objects.append(ds.expand_dims(satellite=[satellite]))\n",
    "ds = xr.merge(objects)"
   ]
  },
  {
   "cell_type": "markdown",
   "metadata": {},
   "source": [
    "## Plot maps"
   ]
  },
  {
   "cell_type": "code",
   "execution_count": null,
   "metadata": {},
   "outputs": [],
   "source": [
    "ds = ds.where(ds[\"mean\"].notnull().compute(), drop=True)\n",
    "for var, da in ds.data_vars.items():\n",
    "    facet = plot.projected_map(\n",
    "        da,\n",
    "        projection=ccrs.Stereographic(central_latitude=90),\n",
    "        robust=True,\n",
    "        col=\"satellite\",\n",
    "        row=\"month\",\n",
    "    )\n",
    "    plt.show()"
   ]
  }
 ],
 "metadata": {
  "kernelspec": {
   "display_name": "Python 3 (ipykernel)",
   "language": "python",
   "name": "python3"
  },
  "language_info": {
   "codemirror_mode": {
    "name": "ipython",
    "version": 3
   },
   "file_extension": ".py",
   "mimetype": "text/x-python",
   "name": "python",
   "nbconvert_exporter": "python",
   "pygments_lexer": "ipython3",
   "version": "3.11.7"
  }
 },
 "nbformat": 4,
 "nbformat_minor": 4
}
