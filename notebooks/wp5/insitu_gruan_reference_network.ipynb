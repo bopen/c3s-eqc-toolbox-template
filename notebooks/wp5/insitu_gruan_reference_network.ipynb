{
 "cells": [
  {
   "cell_type": "markdown",
   "id": "0",
   "metadata": {},
   "source": [
    "# Reference Upper-Air Network for trend analysis"
   ]
  },
  {
   "cell_type": "markdown",
   "id": "1",
   "metadata": {},
   "source": [
    "## Import libraries"
   ]
  },
  {
   "cell_type": "code",
   "execution_count": null,
   "id": "2",
   "metadata": {},
   "outputs": [],
   "source": [
    "import earthkit.data\n",
    "import matplotlib.pyplot as plt\n",
    "import numpy as np\n",
    "import pandas as pd\n",
    "import xarray as xr\n",
    "\n",
    "plt.style.use(\"seaborn-v0_8-notebook\")"
   ]
  },
  {
   "cell_type": "markdown",
   "id": "3",
   "metadata": {},
   "source": [
    "## Set parameters"
   ]
  },
  {
   "cell_type": "code",
   "execution_count": null,
   "id": "4",
   "metadata": {},
   "outputs": [],
   "source": [
    "# TODO: Temporary workaround as the CDS download form is disabled\n",
    "filename = \"GRUAN_20160201_20160229_subset_cdm-lev_nya.csv\""
   ]
  },
  {
   "cell_type": "markdown",
   "id": "5",
   "metadata": {},
   "source": [
    "## Open data and add attributes"
   ]
  },
  {
   "cell_type": "code",
   "execution_count": null,
   "id": "6",
   "metadata": {},
   "outputs": [],
   "source": [
    "ds = earthkit.data.from_source(\n",
    "    \"file\", filename, pandas_read_csv_kwargs={\"header\": 17}\n",
    ").to_xarray()\n",
    "ds[\"time\"] = (\"index\", pd.to_datetime(ds[\"report_timestamp\"]).values)\n",
    "ds = ds.where(ds[\"station_name\"] == \"NYA\", drop=True)\n",
    "variable_attrs = {\n",
    "    \"air_pressure\": {\"long_name\": \"Pressure\", \"units\": \"Pa\"},\n",
    "    \"air_temperature\": {\"long_name\": \"Temperature\", \"units\": \"K\"},\n",
    "    \"altitude\": {\"long_name\": \"Altitude\", \"units\": \"m\"},\n",
    "    \"relative_humidity\": {\"long_name\": \"Relative Humidity\", \"units\": \"%\"},\n",
    "}\n",
    "for variable, attrs in variable_attrs.items():\n",
    "    ds[variable].attrs.update(attrs)"
   ]
  },
  {
   "cell_type": "markdown",
   "id": "7",
   "metadata": {},
   "source": [
    "## Define transform functions"
   ]
  },
  {
   "cell_type": "code",
   "execution_count": null,
   "id": "8",
   "metadata": {},
   "outputs": [],
   "source": [
    "def compute_specific_humidity(ds):\n",
    "    pressure_hpa = ds[\"air_pressure\"] * 0.01\n",
    "    temperature_celsius = ds[\"air_temperature\"] - 273.15\n",
    "    sat_vap_p = 6.112 * np.exp(\n",
    "        (17.67 * temperature_celsius) / (temperature_celsius + 243.5)\n",
    "    )\n",
    "    da = 622 * ds[\"relative_humidity\"] * sat_vap_p / (100 * pressure_hpa)\n",
    "    da.attrs = {\"long_name\": \"Specific Humidity\", \"units\": \"g/kg\"}\n",
    "    return da\n",
    "\n",
    "\n",
    "def compute_saturation_vapor_pressure(ds):\n",
    "    temperature = ds[\"air_temperature\"] - 273.15\n",
    "    return 6.112 * np.exp((17.67 * temperature) / (temperature + 243.5))\n",
    "\n",
    "\n",
    "def compute_integrated_water_vapour(ds):\n",
    "    e_s = compute_saturation_vapor_pressure(ds)\n",
    "    e = e_s * (ds[\"relative_humidity\"]) / 100\n",
    "    rho_v = (e * 18.015) / (10 * 8.3145 * ds[\"air_temperature\"])\n",
    "    iwv_value = rho_v * ds[\"altitude\"].diff(\"altitude\")\n",
    "    da = iwv_value.sum(\"altitude\")\n",
    "    da.attrs = {\"long_name\": \"Integrated Water Vapour\", \"units\": \"kg/m²\"}\n",
    "    return da"
   ]
  },
  {
   "cell_type": "markdown",
   "id": "9",
   "metadata": {},
   "source": [
    "## Transform data"
   ]
  },
  {
   "cell_type": "code",
   "execution_count": null,
   "id": "10",
   "metadata": {},
   "outputs": [],
   "source": [
    "# Add specific humidity\n",
    "ds[\"specific_humidity\"] = compute_specific_humidity(ds)\n",
    "\n",
    "# Compute profiles\n",
    "subset = [\"air_temperature\", \"relative_humidity\", \"specific_humidity\", \"time\"]\n",
    "profiles = []\n",
    "for time, profile in ds.groupby(\"time\"):\n",
    "    profile = profile.swap_dims(index=\"altitude\")[subset]\n",
    "    profile = profile.sortby(\"altitude\").dropna(\"altitude\", how=\"any\", subset=subset)\n",
    "    if (profile[\"altitude\"].diff(\"altitude\") > 2_000).any():\n",
    "        continue\n",
    "\n",
    "    profile = profile.interp(altitude=range(50, 30001, 50))\n",
    "    profiles.append(profile.expand_dims(time=[time]))\n",
    "ds_profiles = xr.concat(profiles, \"time\")\n",
    "\n",
    "# Compute integrated water vapour\n",
    "da_iwv = compute_integrated_water_vapour(ds_profiles)"
   ]
  },
  {
   "cell_type": "markdown",
   "id": "11",
   "metadata": {},
   "source": [
    "## Plot profiles"
   ]
  },
  {
   "cell_type": "code",
   "execution_count": null,
   "id": "12",
   "metadata": {},
   "outputs": [],
   "source": [
    "plot_kwargs = {\"y\": \"altitude\", \"ylim\": [ds[\"altitude\"].min(), ds[\"altitude\"].max()]}\n",
    "for var, da in ds_profiles.data_vars.items():\n",
    "    da.plot(hue=\"time\", add_legend=False, **plot_kwargs)\n",
    "    mean = da.mean(\"time\", keep_attrs=True)\n",
    "    std = da.std(\"time\", keep_attrs=True)\n",
    "    for sign in (-1, +1):\n",
    "        (mean + std * sign).plot(\n",
    "            color=\"k\",\n",
    "            linestyle=\"--\",\n",
    "            label=\"mean ± std\" if sign > 0 else None,\n",
    "            **plot_kwargs,\n",
    "        )\n",
    "    mean.plot(color=\"k\", linestyle=\"-\", label=\"mean\", **plot_kwargs)\n",
    "    plt.legend()\n",
    "    plt.grid()\n",
    "    plt.show()"
   ]
  },
  {
   "cell_type": "markdown",
   "id": "13",
   "metadata": {},
   "source": [
    "## Plot timeseries"
   ]
  },
  {
   "cell_type": "code",
   "execution_count": null,
   "id": "14",
   "metadata": {},
   "outputs": [],
   "source": [
    "da_iwv.plot(marker=\"o\")\n",
    "plt.grid()"
   ]
  }
 ],
 "metadata": {
  "kernelspec": {
   "display_name": "Python 3 (ipykernel)",
   "language": "python",
   "name": "python3"
  },
  "language_info": {
   "codemirror_mode": {
    "name": "ipython",
    "version": 3
   },
   "file_extension": ".py",
   "mimetype": "text/x-python",
   "name": "python",
   "nbconvert_exporter": "python",
   "pygments_lexer": "ipython3",
   "version": "3.11.10"
  },
  "papermill": {
   "default_parameters": {},
   "duration": 968.520731,
   "end_time": "2024-03-08T17:40:03.783430",
   "environment_variables": {},
   "exception": null,
   "input_path": "D520.3.2.3b.SEASONAL_multimodel-bias_v5.ipynb",
   "output_path": "output.ipynb",
   "parameters": {},
   "start_time": "2024-03-08T17:23:55.262699",
   "version": "2.4.0"
  }
 },
 "nbformat": 4,
 "nbformat_minor": 5
}
