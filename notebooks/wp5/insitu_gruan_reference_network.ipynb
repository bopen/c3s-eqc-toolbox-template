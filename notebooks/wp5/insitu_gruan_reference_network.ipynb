{
 "cells": [
  {
   "cell_type": "markdown",
   "id": "0",
   "metadata": {},
   "source": [
    "# Reference Upper-Air Network for trend analysis"
   ]
  },
  {
   "cell_type": "markdown",
   "id": "1",
   "metadata": {},
   "source": [
    "## Import libraries"
   ]
  },
  {
   "cell_type": "code",
   "execution_count": null,
   "id": "2",
   "metadata": {},
   "outputs": [],
   "source": [
    "import os\n",
    "\n",
    "import cdsapi\n",
    "import matplotlib.pyplot as plt\n",
    "import numpy as np\n",
    "import pandas as pd\n",
    "import xarray as xr\n",
    "from c3s_eqc_automatic_quality_control import download\n",
    "\n",
    "plt.style.use(\"seaborn-v0_8-notebook\")"
   ]
  },
  {
   "cell_type": "markdown",
   "id": "3",
   "metadata": {},
   "source": [
    "## Set parameters"
   ]
  },
  {
   "cell_type": "code",
   "execution_count": null,
   "id": "4",
   "metadata": {},
   "outputs": [],
   "source": [
    "# Time\n",
    "start = \"2016-02\"  # \"2006-05\"\n",
    "stop = \"2016-02\"  # \"2020-04\"\n",
    "\n",
    "# Station\n",
    "station = \"NYA\"\n",
    "\n",
    "# CDS credential\n",
    "os.environ[\"CDSAPI_RC\"] = os.path.expanduser(\"~/ciardini_virginia/.cdsapirc\")"
   ]
  },
  {
   "cell_type": "markdown",
   "id": "5",
   "metadata": {},
   "source": [
    "## Define requests"
   ]
  },
  {
   "cell_type": "code",
   "execution_count": null,
   "id": "6",
   "metadata": {},
   "outputs": [],
   "source": [
    "collection_id = \"insitu-observations-gruan-reference-network\"\n",
    "request = {\n",
    "    \"variable\": [\"air_temperature\", \"relative_humidity\", \"air_pressure\", \"altitude\"],\n",
    "    \"format\": \"netcdf\",\n",
    "}\n",
    "\n",
    "client = cdsapi.Client(sleep_max=1)\n",
    "requests = []\n",
    "for date in pd.date_range(start, stop, freq=\"1MS\"):\n",
    "    time_request = {\"year\": date.strftime(\"%Y\"), \"month\": date.strftime(\"%m\")}\n",
    "    time_request[\"day\"] = client.client.apply_constraints(\n",
    "        collection_id, request | time_request\n",
    "    )[\"day\"]\n",
    "    if time_request[\"day\"]:\n",
    "        requests.append(request | time_request)"
   ]
  },
  {
   "cell_type": "markdown",
   "id": "7",
   "metadata": {},
   "source": [
    "## Define transform functions"
   ]
  },
  {
   "cell_type": "code",
   "execution_count": null,
   "id": "8",
   "metadata": {},
   "outputs": [],
   "source": [
    "def compute_specific_humidity(ds):\n",
    "    pressure_hpa = ds[\"pressure\"] * 0.01\n",
    "    temperature_celsius = ds[\"air_temperature\"] - 273.15\n",
    "    sat_vap_p = 6.112 * np.exp(\n",
    "        (17.67 * temperature_celsius) / (temperature_celsius + 243.5)\n",
    "    )\n",
    "    da = 622 * ds[\"relative_humidity\"] * sat_vap_p / (100 * pressure_hpa)\n",
    "    da.attrs = {\"long_name\": \"Specific Humidity\", \"units\": \"g/kg\"}\n",
    "    return da\n",
    "\n",
    "\n",
    "def compute_saturation_vapor_pressure(ds):\n",
    "    temperature = ds[\"air_temperature\"] - 273.15\n",
    "    return 6.112 * np.exp((17.67 * temperature) / (temperature + 243.5))\n",
    "\n",
    "\n",
    "def compute_integrated_water_vapour(ds):\n",
    "    e_s = compute_saturation_vapor_pressure(ds)\n",
    "    e = e_s * (ds[\"relative_humidity\"]) / 100\n",
    "    rho_v = (e * 18.015) / (10 * 8.3145 * ds[\"air_temperature\"])\n",
    "    iwv_value = rho_v * ds[\"altitude\"].diff(\"altitude\")\n",
    "    da = iwv_value.sum(\"altitude\")\n",
    "    da.attrs = {\"long_name\": \"Integrated Water Vapour\", \"units\": \"kg/m²\"}\n",
    "    return da\n",
    "\n",
    "\n",
    "def reorganize_dataset(ds):\n",
    "    # Rename\n",
    "    (varname,) = set(ds[\"observed_variable\"].values)\n",
    "    ds = ds.rename(observation_value=str(varname)).drop_vars(\"observed_variable\")\n",
    "    ds = ds.rename(\n",
    "        {\n",
    "            var: \"_\".join([varname, var.replace(\"_value\", \"\")])\n",
    "            for var in ds.data_vars\n",
    "            if var.startswith(\"uncertainty\")\n",
    "        }\n",
    "    )\n",
    "    # Update attrs\n",
    "    for var, da in ds.data_vars.items():\n",
    "        match var:\n",
    "            case \"pressure\":\n",
    "                da.attrs[\"standard_name\"] = \"Pressure\"\n",
    "            case \"air_temperature\":\n",
    "                da.attrs[\"standard_name\"] = \"Temperature\"\n",
    "            case \"altitude\":\n",
    "                da.attrs[\"standard_name\"] = \"Altitude\"\n",
    "            case \"relative_humidity\":\n",
    "                da.attrs[\"standard_name\"] = \"Relative\"\n",
    "        for string in (\"units\", \"type\"):\n",
    "            if string in var:\n",
    "                ds = ds.drop_vars(var)\n",
    "                (value,) = set(da.values)\n",
    "                attrs_var = varname if var == string else var.replace(\"_\" + string, \"\")\n",
    "                ds[attrs_var].attrs[string] = value\n",
    "    return ds\n",
    "\n",
    "\n",
    "def test(ds, station):\n",
    "    for var, da in ds.data_vars.items():\n",
    "        if np.issubdtype(da.dtype, np.bytes_):\n",
    "            ds[var].values = np.char.decode(da.values, \"utf-8\")\n",
    "    ds = ds.where(ds[\"primary_station_id\"] == station, drop=True)\n",
    "    if not ds.sizes[\"index\"]:\n",
    "        return xr.Dataset()\n",
    "\n",
    "    datasets = []\n",
    "    for var, ds in ds.groupby(\"observed_variable\"):\n",
    "        datasets.append(reorganize_dataset(ds))\n",
    "    ds = xr.merge(datasets)\n",
    "\n",
    "    # Global attrs\n",
    "    for var, da in ds.data_vars.items():\n",
    "        if len(set(da.values)) == 1:\n",
    "            ds = ds.drop_vars(var)\n",
    "            ds.attrs[var] = da[0].values.tolist()\n",
    "\n",
    "    # Add variables\n",
    "    ds[\"specific_humidity\"] = compute_specific_humidity(ds)\n",
    "    ds[\"time\"] = (\"index\", pd.to_datetime(ds[\"report_timestamp\"]).values)\n",
    "\n",
    "    # Compute profiles\n",
    "    subset = [\"air_temperature\", \"relative_humidity\", \"specific_humidity\", \"time\"]\n",
    "    profiles = []\n",
    "    for time, profile in ds.groupby(\"time\"):\n",
    "        profile = profile.swap_dims(index=\"altitude\")[subset]\n",
    "        profile = profile.sortby(\"altitude\").dropna(\n",
    "            \"altitude\", how=\"any\", subset=subset\n",
    "        )\n",
    "        if (profile[\"altitude\"].diff(\"altitude\") > 2_000).any():\n",
    "            continue\n",
    "\n",
    "        profile = profile.interp(altitude=range(50, 30_001, 50))\n",
    "        profiles.append(profile.expand_dims(time=[time]))\n",
    "    ds_profiles = xr.concat(profiles, \"time\")\n",
    "    ds_profiles[\"integrated_water_vapour\"] = compute_integrated_water_vapour(\n",
    "        ds_profiles\n",
    "    )\n",
    "    return ds_profiles"
   ]
  },
  {
   "cell_type": "markdown",
   "id": "9",
   "metadata": {},
   "source": [
    "## Download and transform"
   ]
  },
  {
   "cell_type": "code",
   "execution_count": null,
   "id": "10",
   "metadata": {},
   "outputs": [],
   "source": [
    "ds = download.download_and_transform(\n",
    "    collection_id,\n",
    "    requests,\n",
    "    transform_func=test,\n",
    "    transform_func_kwargs={\"station\": station},\n",
    ")"
   ]
  },
  {
   "cell_type": "markdown",
   "id": "11",
   "metadata": {},
   "source": [
    "## Plot profiles"
   ]
  },
  {
   "cell_type": "code",
   "execution_count": null,
   "id": "12",
   "metadata": {},
   "outputs": [],
   "source": [
    "plot_kwargs = {\"y\": \"altitude\"}\n",
    "for var, da in ds.data_vars.items():\n",
    "    if \"altitude\" not in da.dims:\n",
    "        continue\n",
    "    da.plot(hue=\"time\", add_legend=False, **plot_kwargs)\n",
    "    mean = da.mean(\"time\", keep_attrs=True)\n",
    "    std = da.std(\"time\", keep_attrs=True)\n",
    "    for sign in (-1, +1):\n",
    "        (mean + std * sign).plot(\n",
    "            color=\"k\",\n",
    "            linestyle=\"--\",\n",
    "            label=\"mean ± std\" if sign > 0 else None,\n",
    "            **plot_kwargs,\n",
    "        )\n",
    "    mean.plot(color=\"k\", linestyle=\"-\", label=\"mean\", **plot_kwargs)\n",
    "    plt.legend()\n",
    "    plt.grid()\n",
    "    plt.show()"
   ]
  },
  {
   "cell_type": "markdown",
   "id": "13",
   "metadata": {},
   "source": [
    "## Plot timeseries"
   ]
  },
  {
   "cell_type": "code",
   "execution_count": null,
   "id": "14",
   "metadata": {},
   "outputs": [],
   "source": [
    "for var, da in ds.drop_dims(\"altitude\").data_vars.items():\n",
    "    da.plot(marker=\"o\")\n",
    "    plt.grid()"
   ]
  }
 ],
 "metadata": {
  "kernelspec": {
   "display_name": "Python 3 (ipykernel)",
   "language": "python",
   "name": "python3"
  },
  "language_info": {
   "codemirror_mode": {
    "name": "ipython",
    "version": 3
   },
   "file_extension": ".py",
   "mimetype": "text/x-python",
   "name": "python",
   "nbconvert_exporter": "python",
   "pygments_lexer": "ipython3",
   "version": "3.11.11"
  },
  "papermill": {
   "default_parameters": {},
   "duration": 968.520731,
   "end_time": "2024-03-08T17:40:03.783430",
   "environment_variables": {},
   "exception": null,
   "input_path": "D520.3.2.3b.SEASONAL_multimodel-bias_v5.ipynb",
   "output_path": "output.ipynb",
   "parameters": {},
   "start_time": "2024-03-08T17:23:55.262699",
   "version": "2.4.0"
  }
 },
 "nbformat": 4,
 "nbformat_minor": 5
}
