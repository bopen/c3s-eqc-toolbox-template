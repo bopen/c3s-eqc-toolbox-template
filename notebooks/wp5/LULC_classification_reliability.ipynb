{
 "cells": [
  {
   "attachments": {},
   "cell_type": "markdown",
   "id": "0e645afe",
   "metadata": {},
   "source": [
    "# Use Case: Reliability of the LULC classification"
   ]
  },
  {
   "cell_type": "markdown",
   "id": "cf9b19df",
   "metadata": {},
   "source": [
    "## Import libraries"
   ]
  },
  {
   "cell_type": "code",
   "execution_count": null,
   "id": "d4b79df5",
   "metadata": {},
   "outputs": [],
   "source": [
    "import matplotlib.pyplot as plt\n",
    "from c3s_eqc_automatic_quality_control import download, plot, utils\n",
    "\n",
    "plt.style.use(\"seaborn-v0_8-notebook\")"
   ]
  },
  {
   "attachments": {},
   "cell_type": "markdown",
   "id": "aa8eaed5",
   "metadata": {},
   "source": [
    "## Define settings"
   ]
  },
  {
   "cell_type": "code",
   "execution_count": null,
   "id": "439d2b27",
   "metadata": {},
   "outputs": [],
   "source": [
    "# Time\n",
    "year_start = 2019\n",
    "year_stop = 2020\n",
    "\n",
    "# Region of interest\n",
    "lon_slice = slice(-10, 0)\n",
    "lat_slice = slice(45, 35)\n",
    "\n",
    "# Define IPCC dict\n",
    "ipcc_dict = {\n",
    "    \"No Data\": (\"#000000\", [0]),\n",
    "    \"Agriculture\": (\"#ffffcc\", [10, 11, 12, 20, 30, 40]),\n",
    "    \"Forest\": (\"#4c9900\", [50, 60, 61, 62, 70, 71, 72, 80, 81, 82, 90, 100, 160, 170]),\n",
    "    \"Grassland\": (\"#ccff99\", [110, 130]),\n",
    "    \"Settlement\": (\"#ff0000\", [190]),\n",
    "    \"Wetland\": (\"#99ffff\", [180]),\n",
    "    \"Other\": (\"#0000ff\", [120, 121, 122, 140, 150, 151, 152, 153, 200, 201, 202, 210]),\n",
    "}"
   ]
  },
  {
   "attachments": {},
   "cell_type": "markdown",
   "id": "f202911c",
   "metadata": {},
   "source": [
    "## Download data"
   ]
  },
  {
   "cell_type": "code",
   "execution_count": null,
   "id": "bdcc2616",
   "metadata": {},
   "outputs": [],
   "source": [
    "# Download and transform (cached)\n",
    "request = (\n",
    "    \"satellite-land-cover\",\n",
    "    {\n",
    "        \"variable\": \"all\",\n",
    "        \"format\": \"zip\",\n",
    "        \"version\": \"v2.1.1\",\n",
    "        \"year\": [str(year) for year in range(year_start, year_stop + 1)],\n",
    "    },\n",
    ")\n",
    "ds = download.download_and_transform(\n",
    "    *request,\n",
    "    chunks={\"year\": 1},\n",
    "    transform_func=utils.regionalise,\n",
    "    transform_func_kwargs={\"lon_slice\": lon_slice, \"lat_slice\": lat_slice},\n",
    ")\n",
    "\n",
    "# Rename time dimension\n",
    "ds[\"time\"] = ds[\"time\"].dt.year\n",
    "ds = ds.rename(time=\"year\")"
   ]
  },
  {
   "attachments": {},
   "cell_type": "markdown",
   "id": "9bb3a65b",
   "metadata": {},
   "source": [
    "# Maps"
   ]
  },
  {
   "cell_type": "code",
   "execution_count": null,
   "id": "4931a0fe",
   "metadata": {},
   "outputs": [],
   "source": [
    "# Plot multiple years, auto infer colors and legend\n",
    "plot.lccs_map(ds[\"lccs_class\"], row=\"year\", interpolation=\"antialiased\")"
   ]
  },
  {
   "cell_type": "code",
   "execution_count": null,
   "id": "433c9cad",
   "metadata": {},
   "outputs": [],
   "source": [
    "# Plot single year, specifying color and legend\n",
    "plot.lccs_map(\n",
    "    ds[\"lccs_class\"].sel(year=2020).squeeze(),\n",
    "    legend_dict=ipcc_dict,\n",
    "    interpolation=\"antialiased\",\n",
    ")"
   ]
  },
  {
   "attachments": {},
   "cell_type": "markdown",
   "id": "02d7397f",
   "metadata": {},
   "source": [
    "## Bars"
   ]
  },
  {
   "cell_type": "code",
   "execution_count": null,
   "id": "ae9121f9",
   "metadata": {},
   "outputs": [],
   "source": [
    "# Plot multiple years, auto infer colors and labels\n",
    "plot.lccs_bar(\n",
    "    ds[\"observation_count\"],\n",
    "    ds[\"lccs_class\"],\n",
    "    title=f\"years: {ds['year'].values.tolist()}\",\n",
    ")"
   ]
  },
  {
   "cell_type": "code",
   "execution_count": null,
   "id": "efba6391",
   "metadata": {},
   "outputs": [],
   "source": [
    "# Plot single year, specifying color and legend\n",
    "year = 2020\n",
    "ds_year = ds.sel(year=year)\n",
    "plot.lccs_bar(\n",
    "    ds_year[\"observation_count\"],\n",
    "    ds_year[\"lccs_class\"],\n",
    "    ipcc_dict,\n",
    "    xlabel=\"IPCC Groups\",\n",
    "    title=f\"years: {ds_year['year'].values.tolist()}\",\n",
    ")"
   ]
  },
  {
   "attachments": {},
   "cell_type": "markdown",
   "id": "3956acf9",
   "metadata": {},
   "source": [
    "## Binned bars"
   ]
  },
  {
   "cell_type": "code",
   "execution_count": null,
   "id": "175d1644",
   "metadata": {},
   "outputs": [],
   "source": [
    "# Plot sum grouped by latitude\n",
    "groupby_dim = \"latitude\"\n",
    "groupby_bins = range(\n",
    "    int(ds_year[groupby_dim].min() // 1), int(ds_year[groupby_dim].max() // 1) + 2\n",
    ")\n",
    "plot.lccs_bar(\n",
    "    ds_year[\"observation_count\"],\n",
    "    ds_year[\"lccs_class\"],\n",
    "    ipcc_dict,\n",
    "    reduction=\"sum\",\n",
    "    groupby_bins_dims={groupby_dim: groupby_bins},\n",
    "    title=f\"years: {ds_year['year'].values.tolist()}\",\n",
    "    stacked=True,\n",
    ")"
   ]
  },
  {
   "cell_type": "code",
   "execution_count": null,
   "id": "596b061d",
   "metadata": {},
   "outputs": [],
   "source": [
    "# Plot sum grouped by longitude, focus on water bodies\n",
    "groupby_dim = \"longitude\"\n",
    "groupby_bins = range(\n",
    "    int(ds_year[groupby_dim].min() // 1), int(ds_year[groupby_dim].max() // 1) + 2\n",
    ")\n",
    "\n",
    "water_flag = 210\n",
    "all_flags = list(\n",
    "    range(\n",
    "        ds_year[\"lccs_class\"].attrs[\"valid_min\"],\n",
    "        ds_year[\"lccs_class\"].attrs[\"valid_max\"] + 1,\n",
    "    )\n",
    ")\n",
    "all_flags.remove(water_flag)\n",
    "\n",
    "labels_dict = {\"Water bodies\": (\"b\", water_flag), \"All Others\": (\"g\", all_flags)}\n",
    "plot.lccs_bar(\n",
    "    ds_year[\"observation_count\"],\n",
    "    ds_year[\"lccs_class\"],\n",
    "    labels_dict,\n",
    "    reduction=\"sum\",\n",
    "    groupby_bins_dims={groupby_dim: groupby_bins},\n",
    "    title=f\"years: {ds_year['year'].values.tolist()}\",\n",
    "    stacked=True,\n",
    ")"
   ]
  }
 ],
 "metadata": {
  "kernelspec": {
   "display_name": "Python 3 (ipykernel)",
   "language": "python",
   "name": "python3"
  },
  "language_info": {
   "codemirror_mode": {
    "name": "ipython",
    "version": 3
   },
   "file_extension": ".py",
   "mimetype": "text/x-python",
   "name": "python",
   "nbconvert_exporter": "python",
   "pygments_lexer": "ipython3",
   "version": "3.10.9"
  }
 },
 "nbformat": 4,
 "nbformat_minor": 5
}
