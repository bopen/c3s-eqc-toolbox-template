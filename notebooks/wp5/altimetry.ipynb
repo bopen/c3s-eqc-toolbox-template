{
 "cells": [
  {
   "attachments": {},
   "cell_type": "markdown",
   "id": "d0790591",
   "metadata": {},
   "source": [
    "# Altimetry"
   ]
  },
  {
   "attachments": {},
   "cell_type": "markdown",
   "id": "0b04577f",
   "metadata": {},
   "source": [
    "## Import packages"
   ]
  },
  {
   "cell_type": "code",
   "execution_count": null,
   "id": "9b71deaf",
   "metadata": {},
   "outputs": [],
   "source": [
    "import cartopy.crs as ccrs\n",
    "import matplotlib.pyplot as plt\n",
    "import xarray as xr\n",
    "from c3s_eqc_automatic_quality_control import diagnostics, download, plot\n",
    "\n",
    "plt.style.use(\"seaborn-v0_8-notebook\")"
   ]
  },
  {
   "attachments": {},
   "cell_type": "markdown",
   "id": "db14663e",
   "metadata": {},
   "source": [
    "## Define Parameters"
   ]
  },
  {
   "cell_type": "code",
   "execution_count": null,
   "id": "c1805994",
   "metadata": {},
   "outputs": [],
   "source": [
    "# Time period\n",
    "start = \"1993-01\"\n",
    "stop = \"2019-12\""
   ]
  },
  {
   "attachments": {},
   "cell_type": "markdown",
   "id": "f674a953",
   "metadata": {},
   "source": [
    "## Define request"
   ]
  },
  {
   "cell_type": "code",
   "execution_count": null,
   "id": "b091734f",
   "metadata": {},
   "outputs": [],
   "source": [
    "collection_id = \"satellite-sea-level-global\"\n",
    "request = {\n",
    "    \"version\": \"vDT2021\",\n",
    "    \"variable\": \"daily\",\n",
    "    \"format\": \"zip\",\n",
    "}\n",
    "requests = download.update_request_date(\n",
    "    request, start=start, stop=stop, stringify_dates=True\n",
    ")"
   ]
  },
  {
   "attachments": {},
   "cell_type": "markdown",
   "id": "3f12b872",
   "metadata": {},
   "source": [
    "## Functions to cache"
   ]
  },
  {
   "cell_type": "code",
   "execution_count": null,
   "id": "9582d714",
   "metadata": {},
   "outputs": [],
   "source": [
    "def compute_extreme(da):\n",
    "    da_95 = da.chunk({\"time\": -1}).quantile(q=0.95, dim=\"time\").drop_vars(\"quantile\")\n",
    "    da_extreme = da.where(da > da_95).mean(\"time\")\n",
    "    da_extreme.attrs[\"long_name\"] = f\"Mean extreme values of {da.attrs['long_name']}\"\n",
    "    da_extreme.attrs[\"units\"] = da.attrs[\"units\"]\n",
    "    return da_extreme.rename(\"extreme\")\n",
    "\n",
    "\n",
    "def compute_time_statistics(ds, reduction):\n",
    "    da = ds[\"sla\"]\n",
    "    if reduction == \"extreme\":\n",
    "        da_reduced = compute_extreme(da)\n",
    "    else:\n",
    "        da_reduced = getattr(diagnostics, f\"time_weighted_{reduction}\")(\n",
    "            da, weights=False\n",
    "        )\n",
    "        da_reduced.attrs = {\n",
    "            \"units\": da_reduced.attrs[\"units\"],\n",
    "            \"long_name\": f\"{reduction.capitalize().replace('_', ' ')} of {da.attrs['long_name']}\",\n",
    "        }\n",
    "    return da_reduced.to_dataset(name=reduction)\n",
    "\n",
    "\n",
    "def compute_spatial_weighted_statistics(ds):\n",
    "    da = ds[\"sla\"]\n",
    "    ds_diag = diagnostics.spatial_weighted_statistics(da).to_dataset(dim=\"diagnostic\")\n",
    "    for reduction, da_reduced in ds_diag.data_vars.items():\n",
    "        da_reduced.attrs = {\n",
    "            \"units\": da.attrs[\"units\"],\n",
    "            \"long_name\": f\"Spatial weighted {reduction} of {da.attrs['long_name']}\",\n",
    "        }\n",
    "    return ds_diag"
   ]
  },
  {
   "cell_type": "code",
   "execution_count": null,
   "id": "6b52b62d",
   "metadata": {},
   "outputs": [],
   "source": [
    "chunks = {\"year\": 1}\n",
    "xarray_kwargs = {\n",
    "    # Speedup IO\n",
    "    \"concat_dim\": \"time\",\n",
    "    \"combine\": \"nested\",\n",
    "    \"data_vars\": \"minimal\",\n",
    "    \"coords\": \"minimal\",\n",
    "    \"compat\": \"override\",\n",
    "    \"parallel\": True,\n",
    "}\n",
    "download_and_transform_kwargs = {\"chunks\": chunks} | xarray_kwargs"
   ]
  },
  {
   "attachments": {},
   "cell_type": "markdown",
   "id": "b627ee88",
   "metadata": {},
   "source": [
    "## Compute time reductions"
   ]
  },
  {
   "cell_type": "code",
   "execution_count": null,
   "id": "a5f6d397",
   "metadata": {},
   "outputs": [],
   "source": [
    "datasets = []\n",
    "for reduction in (\"mean\", \"std\", \"coverage\", \"extreme\", \"linear_trend\"):\n",
    "    if reduction in [\"extreme\", \"linear_trend\"]:\n",
    "        # TODO: Work in progress\n",
    "        # Do not compute extreme and linear trend, it crashes on the VM.\n",
    "        continue\n",
    "    print(f\"Computing {reduction=}\")\n",
    "    ds = download.download_and_transform(\n",
    "        collection_id,\n",
    "        requests,\n",
    "        transform_func=compute_time_statistics,\n",
    "        transform_func_kwargs={\"reduction\": reduction},\n",
    "        transform_chunks=False,\n",
    "        **download_and_transform_kwargs,\n",
    "    )\n",
    "    datasets.append(ds)\n",
    "ds_maps = xr.merge(datasets)"
   ]
  },
  {
   "attachments": {},
   "cell_type": "markdown",
   "id": "d8d6dfee",
   "metadata": {},
   "source": [
    "## Compute spatial weighted reductions"
   ]
  },
  {
   "cell_type": "code",
   "execution_count": null,
   "id": "0bb711f6",
   "metadata": {},
   "outputs": [],
   "source": [
    "ds_timeseries = download.download_and_transform(\n",
    "    collection_id,\n",
    "    requests,\n",
    "    transform_func=compute_spatial_weighted_statistics,\n",
    "    cached_open_mfdataset_kwargs=True,\n",
    "    **download_and_transform_kwargs,\n",
    ").sortby(\"time\")"
   ]
  },
  {
   "attachments": {},
   "cell_type": "markdown",
   "id": "2ec504cd",
   "metadata": {},
   "source": [
    "## Plot maps"
   ]
  },
  {
   "cell_type": "code",
   "execution_count": null,
   "id": "b56f1ba2",
   "metadata": {},
   "outputs": [],
   "source": [
    "for var, da in ds_maps.data_vars.items():\n",
    "    center = 0 if var == \"mean\" else None\n",
    "    plot.projected_map(da, projection=ccrs.Robinson(), robust=True, center=center)\n",
    "    plt.title(f\"{da.attrs['long_name']} ({start}, {stop})\")\n",
    "    plt.show()"
   ]
  },
  {
   "attachments": {},
   "cell_type": "markdown",
   "id": "d11b155b",
   "metadata": {},
   "source": [
    "## Plot timeseries"
   ]
  },
  {
   "cell_type": "code",
   "execution_count": null,
   "id": "36bfc5ce",
   "metadata": {},
   "outputs": [],
   "source": [
    "window = 365\n",
    "ds_to_plot = {\n",
    "    \"Daily\": ds_timeseries,\n",
    "    f\"{window}-day rolling mean\": ds_timeseries.rolling(time=window).mean(\n",
    "        keep_attrs=True\n",
    "    ),\n",
    "}\n",
    "\n",
    "for title, ds in ds_to_plot.items():\n",
    "    fig, ax = plt.subplots(1, 1)\n",
    "    for var, da in ds.data_vars.items():\n",
    "        da.plot(label=var, ax=ax)\n",
    "    ax.grid()\n",
    "    ax.set_title(\"\\n\".join([da.attrs[\"long_name\"].split(\" of \")[-1], title]))\n",
    "    ax.set_ylabel(f\"[{da.attrs['units']}]\")\n",
    "    ax.legend(title=\"Spatial weighted\")"
   ]
  }
 ],
 "metadata": {
  "kernelspec": {
   "display_name": "Python 3 (ipykernel)",
   "language": "python",
   "name": "python3"
  },
  "language_info": {
   "codemirror_mode": {
    "name": "ipython",
    "version": 3
   },
   "file_extension": ".py",
   "mimetype": "text/x-python",
   "name": "python",
   "nbconvert_exporter": "python",
   "pygments_lexer": "ipython3",
   "version": "3.10.11"
  }
 },
 "nbformat": 4,
 "nbformat_minor": 5
}
