{
 "cells": [
  {
   "cell_type": "markdown",
   "id": "e2cc23fd",
   "metadata": {},
   "source": [
    "# Completeness of data series and outliers detection"
   ]
  },
  {
   "cell_type": "markdown",
   "id": "fa78226f",
   "metadata": {},
   "source": [
    "## Import packages"
   ]
  },
  {
   "cell_type": "code",
   "execution_count": null,
   "id": "03edb3b4",
   "metadata": {},
   "outputs": [],
   "source": [
    "import cartopy.crs as ccrs\n",
    "import matplotlib.cbook\n",
    "import matplotlib.pyplot as plt\n",
    "import pandas as pd\n",
    "import xarray as xr\n",
    "from c3s_eqc_automatic_quality_control import diagnostics, download, plot, utils\n",
    "\n",
    "plt.style.use(\"seaborn-v0_8-notebook\")"
   ]
  },
  {
   "cell_type": "markdown",
   "id": "d1c09570",
   "metadata": {},
   "source": [
    "## Set variables"
   ]
  },
  {
   "cell_type": "code",
   "execution_count": null,
   "id": "48ccc673",
   "metadata": {},
   "outputs": [],
   "source": [
    "# Time\n",
    "start = \"1997-01\"\n",
    "stop = \"1997-02\"\n",
    "\n",
    "# Region\n",
    "lon_slice = slice(28, 41)\n",
    "lat_slice = slice(-16, 4)\n",
    "\n",
    "# Variable\n",
    "varname = \"lake_surface_water_temperature\""
   ]
  },
  {
   "cell_type": "markdown",
   "id": "d68487d5",
   "metadata": {},
   "source": [
    "## Set the data request"
   ]
  },
  {
   "cell_type": "code",
   "execution_count": null,
   "id": "94ce314c",
   "metadata": {},
   "outputs": [],
   "source": [
    "collection_id = \"satellite-lake-water-temperature\"\n",
    "request = {\n",
    "    \"version\": \"4.0\",\n",
    "    \"variable\": \"all\",\n",
    "    \"format\": \"zip\",\n",
    "}"
   ]
  },
  {
   "cell_type": "markdown",
   "id": "66ec6d6f",
   "metadata": {},
   "source": [
    "## Define function to extract region and compute spatial weighted mean"
   ]
  },
  {
   "cell_type": "code",
   "execution_count": null,
   "id": "a8ce6bd0",
   "metadata": {},
   "outputs": [],
   "source": [
    "def spatial_weighted_mean_of_region(ds, lon_slice, lat_slice, varname, lakeids):\n",
    "    ds = ds[[varname, \"lakeid\"]]\n",
    "    ds = ds.chunk({\"time\": 1, \"latitude\": 1_200, \"longitude\": 2_400})\n",
    "    ds = utils.regionalise(ds, lon_slice=lon_slice, lat_slice=lat_slice)\n",
    "    dataarrays = []\n",
    "    for lakeid in lakeids:\n",
    "        da = ds[varname].where(ds[\"lakeid\"] == lakeid)\n",
    "        da = diagnostics.spatial_weighted_mean(da)\n",
    "        dataarrays.append(da.expand_dims(lakeid=[lakeid]))\n",
    "    return xr.concat(dataarrays, \"lakeid\").to_dataset()\n",
    "\n",
    "\n",
    "def get_lakeid(ds, lon_slice, lat_slice):\n",
    "    da = ds[\"lakeid\"].isel(time=0)\n",
    "    da = da.chunk({\"latitude\": 1_200, \"longitude\": 2_400})\n",
    "    da = utils.regionalise(da, lon_slice=lon_slice, lat_slice=lat_slice)\n",
    "    return da.to_dataset()"
   ]
  },
  {
   "cell_type": "markdown",
   "id": "b23db65f",
   "metadata": {},
   "source": [
    "## Download data"
   ]
  },
  {
   "cell_type": "code",
   "execution_count": null,
   "id": "85db9f36",
   "metadata": {},
   "outputs": [],
   "source": [
    "chunks = {\"year\": 1, \"month\": 1}\n",
    "requests = download.update_request_date(\n",
    "    request, start=start, stop=stop, stringify_dates=True\n",
    ")\n",
    "ds = download.download_and_transform(\n",
    "    collection_id,\n",
    "    requests,\n",
    "    chunks=chunks,\n",
    "    transform_func=spatial_weighted_mean_of_region,\n",
    "    transform_func_kwargs={\n",
    "        \"lon_slice\": lon_slice,\n",
    "        \"lat_slice\": lat_slice,\n",
    "        \"varname\": varname,\n",
    "        \"lakeids\": [3, 7, 10],\n",
    "    },\n",
    ")\n",
    "da = ds[varname].compute()"
   ]
  },
  {
   "cell_type": "markdown",
   "id": "328f352f",
   "metadata": {
    "editable": true,
    "slideshow": {
     "slide_type": ""
    },
    "tags": []
   },
   "source": [
    "## Extract lake IDs to plot a map of the region"
   ]
  },
  {
   "cell_type": "code",
   "execution_count": null,
   "id": "1b8b8817",
   "metadata": {},
   "outputs": [],
   "source": [
    "# We use one of the request previously cached\n",
    "single_request = requests[0]\n",
    "single_request[\"month\"] = single_request[\"month\"][0]\n",
    "da_lakeid = download.download_and_transform(\n",
    "    collection_id,\n",
    "    single_request,\n",
    "    chunks=chunks,\n",
    "    transform_func=get_lakeid,\n",
    "    transform_func_kwargs={\n",
    "        \"lon_slice\": lon_slice,\n",
    "        \"lat_slice\": lat_slice,\n",
    "    },\n",
    ")[\"lakeid\"]"
   ]
  },
  {
   "cell_type": "markdown",
   "id": "674c3e27",
   "metadata": {},
   "source": [
    "## Plot projected map of lake IDs"
   ]
  },
  {
   "cell_type": "code",
   "execution_count": null,
   "id": "6595ccc7",
   "metadata": {},
   "outputs": [],
   "source": [
    "_ = plot.projected_map(da_lakeid, projection=ccrs.PlateCarree(), show_stats=False)"
   ]
  },
  {
   "cell_type": "markdown",
   "id": "39d214a7",
   "metadata": {},
   "source": [
    "## Plot spatial weighted mean"
   ]
  },
  {
   "cell_type": "code",
   "execution_count": null,
   "id": "5e6f32f9",
   "metadata": {},
   "outputs": [],
   "source": [
    "for lakeid, da_lakeid in da.groupby(\"lakeid\"):\n",
    "    da_lakeid.dropna(\"time\").plot(label=lakeid)\n",
    "plt.legend(title=\"lake ID\")\n",
    "plt.grid()\n",
    "plt.title(\"Spatial weighted mean\")\n",
    "plt.show()\n",
    "\n",
    "# Print missing values\n",
    "missings = da.isnull().sum(\"time\") / da.sizes[\"time\"] * 100\n",
    "id_digits = max(map(len, da[\"lakeid\"].astype(str).values))\n",
    "for lakeid, missing in missings.groupby(\"lakeid\"):\n",
    "    print(f\"Missing values of lake ID {lakeid:<{id_digits}}: {missing.values:.2f} %\")"
   ]
  },
  {
   "cell_type": "markdown",
   "id": "c46bdda8-fdd2-44fb-afc2-f3a4af6e98b6",
   "metadata": {},
   "source": [
    "## Boxplot"
   ]
  },
  {
   "cell_type": "code",
   "execution_count": null,
   "id": "4050019d-151d-4933-91af-38265578ae7b",
   "metadata": {},
   "outputs": [],
   "source": [
    "df = da.to_dataframe()\n",
    "df.boxplot(by=\"lakeid\")\n",
    "plt.ylabel(f\"{da.attrs['standard_name']} [{da.attrs['units']}]\")\n",
    "plt.show()\n",
    "\n",
    "# Print statistics\n",
    "boxplot_stats = {}\n",
    "for lakeid, df_lakeid in df.groupby(\"lakeid\"):\n",
    "    values = df_lakeid.dropna().values.squeeze()\n",
    "    (boxplot_stats[lakeid],) = matplotlib.cbook.boxplot_stats(values)\n",
    "boxplot_stats = pd.DataFrame(boxplot_stats)\n",
    "boxplot_stats"
   ]
  }
 ],
 "metadata": {
  "kernelspec": {
   "display_name": "Python 3 (ipykernel)",
   "language": "python",
   "name": "python3"
  },
  "language_info": {
   "codemirror_mode": {
    "name": "ipython",
    "version": 3
   },
   "file_extension": ".py",
   "mimetype": "text/x-python",
   "name": "python",
   "nbconvert_exporter": "python",
   "pygments_lexer": "ipython3",
   "version": "3.10.12"
  }
 },
 "nbformat": 4,
 "nbformat_minor": 5
}
