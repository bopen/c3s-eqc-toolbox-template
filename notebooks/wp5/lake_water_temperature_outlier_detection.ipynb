{
 "cells": [
  {
   "cell_type": "markdown",
   "id": "48a773cc",
   "metadata": {},
   "source": [
    "# Statistical analysis"
   ]
  },
  {
   "cell_type": "markdown",
   "id": "e2cc23fd",
   "metadata": {},
   "source": [
    "# Completeness of data series and outliers detection"
   ]
  },
  {
   "cell_type": "markdown",
   "id": "098c163c",
   "metadata": {},
   "source": [
    "Use Case: Check completeness of lake water temperature time series for Great African Lakes and outliers detection.\n",
    "\n",
    "User Question: The satellite lakes water temperature dataset for Great African Lakes is complete in time? Are there some outliers?\n",
    "\n",
    "Methods:\n",
    "\n",
    "```\n",
    "    - Select Great African Lakes area and extract the mean water lakes temperature\n",
    "    - Plot the time series\n",
    "    - Calculate percentage of missing values\n",
    "    - Boxplot of the values and outliers detection\n",
    "```\n",
    "\n",
    "Short answer:\n",
    "\n",
    "Considering the mean water lake temperature over the Great African Lakes we have a not complete dataseries. The percentage of missing value is of 44.73 %. From Boxplot analysis emerges the presence of outliers both in the upper and lower part."
   ]
  },
  {
   "cell_type": "markdown",
   "id": "fa78226f",
   "metadata": {},
   "source": [
    "## Import packages"
   ]
  },
  {
   "cell_type": "code",
   "execution_count": null,
   "id": "03edb3b4",
   "metadata": {},
   "outputs": [],
   "source": [
    "import cartopy.crs as ccrs\n",
    "import matplotlib.pyplot as plt\n",
    "import numpy as np\n",
    "from c3s_eqc_automatic_quality_control import diagnostics, download, plot, utils\n",
    "\n",
    "plt.style.use(\"seaborn-v0_8-notebook\")"
   ]
  },
  {
   "cell_type": "markdown",
   "id": "d1c09570",
   "metadata": {},
   "source": [
    "## Set variables"
   ]
  },
  {
   "cell_type": "code",
   "execution_count": null,
   "id": "48ccc673",
   "metadata": {},
   "outputs": [],
   "source": [
    "# Time\n",
    "start = \"1997-01\"\n",
    "stop = \"1999-12\"\n",
    "\n",
    "# Region\n",
    "lon_slice = slice(28, 41)\n",
    "lat_slice = slice(-16, 4)\n",
    "\n",
    "# Variable\n",
    "varname = \"lake_surface_water_temperature\""
   ]
  },
  {
   "cell_type": "markdown",
   "id": "d68487d5",
   "metadata": {},
   "source": [
    "## Set the data request"
   ]
  },
  {
   "cell_type": "code",
   "execution_count": null,
   "id": "94ce314c",
   "metadata": {},
   "outputs": [],
   "source": [
    "collection_id = \"satellite-lake-water-temperature\"\n",
    "request = {\n",
    "    \"version\": \"4.0\",\n",
    "    \"variable\": \"all\",\n",
    "    \"format\": \"zip\",\n",
    "}"
   ]
  },
  {
   "cell_type": "markdown",
   "id": "66ec6d6f",
   "metadata": {},
   "source": [
    "## Define function to extract region and compute spatial weighted mean"
   ]
  },
  {
   "cell_type": "code",
   "execution_count": null,
   "id": "a8ce6bd0",
   "metadata": {},
   "outputs": [],
   "source": [
    "def spatial_weighted_mean_of_region(ds, lon_slice, lat_slice, varname):\n",
    "    ds = ds[[varname]]\n",
    "    ds = utils.regionalise(ds, lon_slice=lon_slice, lat_slice=lat_slice)\n",
    "    ds = diagnostics.spatial_weighted_mean(ds)\n",
    "    return ds"
   ]
  },
  {
   "cell_type": "markdown",
   "id": "b23db65f",
   "metadata": {},
   "source": [
    "## Download data"
   ]
  },
  {
   "cell_type": "code",
   "execution_count": null,
   "id": "85db9f36",
   "metadata": {},
   "outputs": [],
   "source": [
    "chunks = {\"year\": 1, \"month\": 1}\n",
    "requests = download.update_request_date(\n",
    "    request, start=start, stop=stop, stringify_dates=True\n",
    ")\n",
    "ds = download.download_and_transform(\n",
    "    collection_id,\n",
    "    requests,\n",
    "    chunks=chunks,\n",
    "    transform_func=spatial_weighted_mean_of_region,\n",
    "    transform_func_kwargs={\n",
    "        \"lon_slice\": lon_slice,\n",
    "        \"lat_slice\": lat_slice,\n",
    "        \"varname\": varname,\n",
    "    },\n",
    ")\n",
    "da = ds[varname]"
   ]
  },
  {
   "cell_type": "markdown",
   "id": "328f352f",
   "metadata": {},
   "source": [
    "## Extract lake id to plot a map of the region"
   ]
  },
  {
   "cell_type": "code",
   "execution_count": null,
   "id": "1b8b8817",
   "metadata": {},
   "outputs": [],
   "source": [
    "# We use one of the request previously cached\n",
    "single_request = requests[0]\n",
    "single_request[\"month\"] = single_request[\"month\"][0]\n",
    "ds_raw = download.download_and_transform(\n",
    "    collection_id,\n",
    "    single_request,\n",
    "    chunks=chunks,\n",
    ")\n",
    "\n",
    "da_lakeid = utils.regionalise(\n",
    "    ds_raw[\"lakeid\"].isel(time=0), lon_slice=lon_slice, lat_slice=lat_slice\n",
    ")"
   ]
  },
  {
   "cell_type": "markdown",
   "id": "674c3e27",
   "metadata": {},
   "source": [
    "## Plot projected map"
   ]
  },
  {
   "cell_type": "code",
   "execution_count": null,
   "id": "6595ccc7",
   "metadata": {},
   "outputs": [],
   "source": [
    "plot.projected_map(da_lakeid, projection=ccrs.PlateCarree())"
   ]
  },
  {
   "cell_type": "markdown",
   "id": "39d214a7",
   "metadata": {},
   "source": [
    "## Plot spatial weighted mean"
   ]
  },
  {
   "cell_type": "code",
   "execution_count": null,
   "id": "5e6f32f9",
   "metadata": {},
   "outputs": [],
   "source": [
    "da.plot()\n",
    "plt.title(\"Spatial weighted mean\")"
   ]
  },
  {
   "cell_type": "markdown",
   "id": "e753ff96",
   "metadata": {},
   "source": [
    "## Percentage of missing values"
   ]
  },
  {
   "cell_type": "code",
   "execution_count": null,
   "id": "fec2d02c",
   "metadata": {},
   "outputs": [],
   "source": [
    "num_missing = np.count_nonzero(np.isnan(da)) / da.size * 100\n",
    "# Print the result\n",
    "print(f\"Number of missing values: {round(num_missing,2)} %.\")"
   ]
  },
  {
   "cell_type": "markdown",
   "id": "055c8c64",
   "metadata": {},
   "source": [
    "## Boxplot"
   ]
  },
  {
   "cell_type": "code",
   "execution_count": null,
   "id": "b1656320",
   "metadata": {},
   "outputs": [],
   "source": [
    "# Create a boxplot\n",
    "plt.boxplot(da.values[~np.isnan(da.values)])\n",
    "\n",
    "# Add title and labels\n",
    "# plt.title(\"Boxplot of array with missing values\")\n",
    "plt.xlabel(\"Array\")\n",
    "plt.ylabel(\"lake surface skin temperature\")\n",
    "\n",
    "\n",
    "# Show the plot\n",
    "plt.show()\n",
    "\n",
    "arr1 = da.values[~np.isnan(da.values)]\n",
    "# finding the 1st quartile\n",
    "q1 = np.quantile(arr1, 0.25)\n",
    "\n",
    "# finding the 3rd quartile\n",
    "q3 = np.quantile(arr1, 0.75)\n",
    "med = np.median(arr1)\n",
    "\n",
    "\n",
    "# finding the iqr region\n",
    "iqr = q3 - q1\n",
    "\n",
    "# finding upper and lower whiskers\n",
    "upper_bound = q3 + (1.5 * iqr)\n",
    "lower_bound = q1 - (1.5 * iqr)\n",
    "print(\n",
    "    \"The median value is\",\n",
    "    round(med, 2),\n",
    "    \"K , the IQR upper bound:\",\n",
    "    round(upper_bound, 2),\n",
    "    \"K , the IQR lower bound is:\",\n",
    "    round(lower_bound, 2),\n",
    "    \"K\",\n",
    ")\n",
    "\n",
    "\n",
    "# Test for significance\n",
    "if min(arr1) < lower_bound or max(arr1) > upper_bound:\n",
    "    print(\n",
    "        \"In the series there are some outliers: the minimum values is\",\n",
    "        round(min(arr1), 2),\n",
    "        \"K , the maximum value is\",\n",
    "        round(max(arr1), 2),\n",
    "        \"K.\",\n",
    "    )\n",
    "else:\n",
    "    print(\"In the series there are not outliers.\")"
   ]
  }
 ],
 "metadata": {
  "kernelspec": {
   "display_name": "Python 3 (ipykernel)",
   "language": "python",
   "name": "python3"
  },
  "language_info": {
   "codemirror_mode": {
    "name": "ipython",
    "version": 3
   },
   "file_extension": ".py",
   "mimetype": "text/x-python",
   "name": "python",
   "nbconvert_exporter": "python",
   "pygments_lexer": "ipython3",
   "version": "3.10.10"
  }
 },
 "nbformat": 4,
 "nbformat_minor": 5
}
