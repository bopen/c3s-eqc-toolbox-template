{
 "cells": [
  {
   "cell_type": "markdown",
   "id": "0",
   "metadata": {},
   "source": [
    "# Completeness of data series and outliers detection"
   ]
  },
  {
   "cell_type": "markdown",
   "id": "1",
   "metadata": {},
   "source": [
    "## Import packages"
   ]
  },
  {
   "cell_type": "code",
   "execution_count": null,
   "id": "2",
   "metadata": {},
   "outputs": [],
   "source": [
    "import cartopy.crs as ccrs\n",
    "import matplotlib.cbook\n",
    "import matplotlib.pyplot as plt\n",
    "import numpy as np\n",
    "import pandas as pd\n",
    "import xarray as xr\n",
    "from c3s_eqc_automatic_quality_control import diagnostics, download, plot, utils\n",
    "\n",
    "plt.style.use(\"seaborn-v0_8-notebook\")"
   ]
  },
  {
   "cell_type": "markdown",
   "id": "3",
   "metadata": {},
   "source": [
    "## Set variables"
   ]
  },
  {
   "cell_type": "code",
   "execution_count": null,
   "id": "4",
   "metadata": {},
   "outputs": [],
   "source": [
    "# Time\n",
    "start = \"1997-01\"\n",
    "stop = \"2000-01\"\n",
    "\n",
    "# Region\n",
    "lon_slice = slice(-92.10, -84.80)\n",
    "lat_slice = slice(46.30, 49.00)\n",
    "\n",
    "# Variable\n",
    "varname = \"lake_surface_water_temperature\""
   ]
  },
  {
   "cell_type": "markdown",
   "id": "5",
   "metadata": {},
   "source": [
    "## Set the data request"
   ]
  },
  {
   "cell_type": "code",
   "execution_count": null,
   "id": "6",
   "metadata": {},
   "outputs": [],
   "source": [
    "collection_id = \"satellite-lake-water-temperature\"\n",
    "request = {\n",
    "    \"version\": \"4.0\",\n",
    "    \"variable\": \"all\",\n",
    "    \"format\": \"zip\",\n",
    "}"
   ]
  },
  {
   "cell_type": "markdown",
   "id": "7",
   "metadata": {},
   "source": [
    "## Download data"
   ]
  },
  {
   "cell_type": "code",
   "execution_count": null,
   "id": "8",
   "metadata": {},
   "outputs": [],
   "source": [
    "requests = download.update_request_date(\n",
    "    request, start=start, stop=stop, stringify_dates=True\n",
    ")\n",
    "ds = download.download_and_transform(\n",
    "    collection_id,\n",
    "    requests,\n",
    "    chunks={\"year\": 1, \"month\": 1},\n",
    "    transform_func=utils.regionalise,\n",
    "    transform_func_kwargs={\"lon_slice\": lon_slice, \"lat_slice\": lat_slice},\n",
    ")"
   ]
  },
  {
   "cell_type": "markdown",
   "id": "9",
   "metadata": {},
   "source": [
    "## Plot lakeid"
   ]
  },
  {
   "cell_type": "code",
   "execution_count": null,
   "id": "10",
   "metadata": {},
   "outputs": [],
   "source": [
    "_ = plot.projected_map(\n",
    "    ds[\"lakeid\"].isel(time=0),\n",
    "    projection=ccrs.PlateCarree(),\n",
    "    show_stats=False,\n",
    ")"
   ]
  },
  {
   "cell_type": "markdown",
   "id": "11",
   "metadata": {},
   "source": [
    "## Reindex"
   ]
  },
  {
   "cell_type": "code",
   "execution_count": null,
   "id": "12",
   "metadata": {},
   "outputs": [],
   "source": [
    "# Reindex using lakeids and min_quality_level\n",
    "lakeid = (\n",
    "    xr.DataArray(np.unique(ds[\"lakeid\"].values), dims=(\"lakeid\"))\n",
    "    .dropna(\"lakeid\")\n",
    "    .astype(int)\n",
    ")\n",
    "min_quality_level = xr.DataArray([0, 4], dims=(\"min_quality_level\"))\n",
    "ds = ds.drop_vars(\"lakeid\").where(ds[\"lakeid\"] == lakeid)\n",
    "ds = ds.where(ds[\"quality_level\"] >= min_quality_level)\n",
    "ds = ds.assign_coords(lakeid=lakeid, min_quality_level=min_quality_level)\n",
    "\n",
    "# Spatial weighted mean\n",
    "da = diagnostics.spatial_weighted_mean(ds[varname])"
   ]
  },
  {
   "cell_type": "markdown",
   "id": "13",
   "metadata": {},
   "source": [
    "## Plot spatial weighted mean"
   ]
  },
  {
   "cell_type": "code",
   "execution_count": null,
   "id": "14",
   "metadata": {},
   "outputs": [],
   "source": [
    "da.dropna(\"time\").plot(hue=\"min_quality_level\", col=\"lakeid\", figsize=(10, 6))\n",
    "plt.grid()\n",
    "plt.title(\"Spatial weighted mean\")\n",
    "plt.show()\n",
    "\n",
    "# Print missing values\n",
    "missings = da.sel(min_quality_level=0).isnull().sum(\"time\") / da.sizes[\"time\"] * 100\n",
    "for lakeid, missing in missings.groupby(\"lakeid\", squeeze=False):\n",
    "    print(f\"Missing values of lake ID {lakeid}: {float(missing.squeeze()):.2f} %\")"
   ]
  },
  {
   "cell_type": "markdown",
   "id": "15",
   "metadata": {},
   "source": [
    "## Boxplot"
   ]
  },
  {
   "cell_type": "code",
   "execution_count": null,
   "id": "16",
   "metadata": {},
   "outputs": [],
   "source": [
    "df = da.to_dataframe()\n",
    "df.boxplot(by=([\"lakeid\", \"min_quality_level\"]))\n",
    "plt.ylabel(f\"{da.attrs['long_name']} [{da.attrs['units']}]\")\n",
    "plt.show()\n",
    "\n",
    "# Show stats\n",
    "stats = {}\n",
    "for label, grouped_df in df.groupby([\"lakeid\", \"min_quality_level\"]):\n",
    "    (stats[label],) = matplotlib.cbook.boxplot_stats(\n",
    "        grouped_df.dropna().values.squeeze()\n",
    "    )\n",
    "pd.DataFrame(stats)"
   ]
  }
 ],
 "metadata": {
  "kernelspec": {
   "display_name": "Python 3",
   "language": "python",
   "name": "python3"
  },
  "language_info": {
   "codemirror_mode": {
    "name": "ipython",
    "version": 3
   },
   "file_extension": ".py",
   "mimetype": "text/x-python",
   "name": "python",
   "nbconvert_exporter": "python",
   "pygments_lexer": "ipython3",
   "version": "3.11.9"
  }
 },
 "nbformat": 4,
 "nbformat_minor": 5
}
