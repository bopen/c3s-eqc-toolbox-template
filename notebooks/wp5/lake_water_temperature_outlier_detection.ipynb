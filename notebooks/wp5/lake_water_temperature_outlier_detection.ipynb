{
 "cells": [
  {
   "cell_type": "markdown",
   "id": "48a773cc",
   "metadata": {},
   "source": [
    "# Statistical analysis"
   ]
  },
  {
   "cell_type": "markdown",
   "id": "e2cc23fd",
   "metadata": {},
   "source": [
    "# Completeness of data series and outliers detection"
   ]
  },
  {
   "cell_type": "markdown",
   "id": "098c163c",
   "metadata": {},
   "source": [
    "Use Case: Check completeness of lake water temperature time series for Great African Lakes and outliers detection.\n",
    "\n",
    "User Question: The satellite lakes water temperature dataset for Great African Lakes is complete in time? Are there some outliers?\n",
    "\n",
    "Methods:\n",
    "\n",
    "```\n",
    "    - Select Great African Lakes area and extract the mean water lakes temperature\n",
    "    - Plot the time series\n",
    "    - Calculate percentage of missing values\n",
    "    - Boxplot of the values and outliers detection\n",
    "```"
   ]
  },
  {
   "cell_type": "markdown",
   "id": "fa78226f",
   "metadata": {},
   "source": [
    "## Import packages"
   ]
  },
  {
   "cell_type": "code",
   "execution_count": null,
   "id": "03edb3b4",
   "metadata": {},
   "outputs": [],
   "source": [
    "import cartopy.crs as ccrs\n",
    "import matplotlib.pyplot as plt\n",
    "from c3s_eqc_automatic_quality_control import diagnostics, download, plot, utils\n",
    "\n",
    "plt.style.use(\"seaborn-v0_8-notebook\")"
   ]
  },
  {
   "cell_type": "markdown",
   "id": "d1c09570",
   "metadata": {},
   "source": [
    "## Set variables"
   ]
  },
  {
   "cell_type": "code",
   "execution_count": null,
   "id": "48ccc673",
   "metadata": {},
   "outputs": [],
   "source": [
    "# Time\n",
    "start = \"1997-01\"\n",
    "stop = \"1997-02\"\n",
    "\n",
    "# Region\n",
    "lon_slice = slice(28, 41)\n",
    "lat_slice = slice(-16, 4)\n",
    "\n",
    "# Variable\n",
    "varname = \"lake_surface_water_temperature\""
   ]
  },
  {
   "cell_type": "markdown",
   "id": "d68487d5",
   "metadata": {},
   "source": [
    "## Set the data request"
   ]
  },
  {
   "cell_type": "code",
   "execution_count": null,
   "id": "94ce314c",
   "metadata": {},
   "outputs": [],
   "source": [
    "collection_id = \"satellite-lake-water-temperature\"\n",
    "request = {\n",
    "    \"version\": \"4.0\",\n",
    "    \"variable\": \"all\",\n",
    "    \"format\": \"zip\",\n",
    "}"
   ]
  },
  {
   "cell_type": "markdown",
   "id": "66ec6d6f",
   "metadata": {},
   "source": [
    "## Define function to extract region and compute spatial weighted mean"
   ]
  },
  {
   "cell_type": "code",
   "execution_count": null,
   "id": "a8ce6bd0",
   "metadata": {},
   "outputs": [],
   "source": [
    "def spatial_weighted_mean_of_region(ds, lon_slice, lat_slice, varname):\n",
    "    ds = ds[[varname]]\n",
    "    ds = utils.regionalise(ds, lon_slice=lon_slice, lat_slice=lat_slice)\n",
    "    ds = diagnostics.spatial_weighted_mean(ds)\n",
    "    return ds"
   ]
  },
  {
   "cell_type": "markdown",
   "id": "b23db65f",
   "metadata": {},
   "source": [
    "## Download data"
   ]
  },
  {
   "cell_type": "code",
   "execution_count": null,
   "id": "85db9f36",
   "metadata": {},
   "outputs": [],
   "source": [
    "chunks = {\"year\": 1, \"month\": 1}\n",
    "requests = download.update_request_date(\n",
    "    request, start=start, stop=stop, stringify_dates=True\n",
    ")\n",
    "ds = download.download_and_transform(\n",
    "    collection_id,\n",
    "    requests,\n",
    "    chunks=chunks,\n",
    "    transform_func=spatial_weighted_mean_of_region,\n",
    "    transform_func_kwargs={\n",
    "        \"lon_slice\": lon_slice,\n",
    "        \"lat_slice\": lat_slice,\n",
    "        \"varname\": varname,\n",
    "    },\n",
    ")\n",
    "da = ds[varname]"
   ]
  },
  {
   "cell_type": "markdown",
   "id": "328f352f",
   "metadata": {},
   "source": [
    "## Extract lake id to plot a map of the region"
   ]
  },
  {
   "cell_type": "code",
   "execution_count": null,
   "id": "1b8b8817",
   "metadata": {},
   "outputs": [],
   "source": [
    "# We use one of the request previously cached\n",
    "single_request = requests[0]\n",
    "single_request[\"month\"] = single_request[\"month\"][0]\n",
    "ds_raw = download.download_and_transform(\n",
    "    collection_id,\n",
    "    single_request,\n",
    "    chunks=chunks,\n",
    ")\n",
    "\n",
    "da_lakeid = utils.regionalise(\n",
    "    ds_raw[\"lakeid\"].isel(time=0), lon_slice=lon_slice, lat_slice=lat_slice\n",
    ")"
   ]
  },
  {
   "cell_type": "markdown",
   "id": "674c3e27",
   "metadata": {},
   "source": [
    "## Plot projected map"
   ]
  },
  {
   "cell_type": "code",
   "execution_count": null,
   "id": "6595ccc7",
   "metadata": {},
   "outputs": [],
   "source": [
    "_ = plot.projected_map(da_lakeid, projection=ccrs.PlateCarree())"
   ]
  },
  {
   "cell_type": "markdown",
   "id": "39d214a7",
   "metadata": {},
   "source": [
    "## Plot spatial weighted mean"
   ]
  },
  {
   "cell_type": "code",
   "execution_count": null,
   "id": "5e6f32f9",
   "metadata": {},
   "outputs": [],
   "source": [
    "da.plot()\n",
    "_ = plt.title(\"Spatial weighted mean\")"
   ]
  },
  {
   "cell_type": "markdown",
   "id": "e753ff96",
   "metadata": {},
   "source": [
    "## Percentage of missing values"
   ]
  },
  {
   "cell_type": "code",
   "execution_count": null,
   "id": "fec2d02c",
   "metadata": {},
   "outputs": [],
   "source": [
    "num_missing = float(da.isnull().sum() / da.size * 100)\n",
    "print(f\"Number of missing values: {num_missing:.2f} %.\")"
   ]
  },
  {
   "cell_type": "markdown",
   "id": "055c8c64",
   "metadata": {},
   "source": [
    "## Boxplot"
   ]
  },
  {
   "cell_type": "code",
   "execution_count": null,
   "id": "b1656320",
   "metadata": {},
   "outputs": [],
   "source": [
    "# Create a boxplot\n",
    "valid_da = da.where(da.notnull().compute(), drop=True).chunk(-1)\n",
    "plt.boxplot(valid_da)\n",
    "\n",
    "# Add title and labels\n",
    "# plt.title(\"Boxplot of array with missing values\")\n",
    "plt.xlabel(\"Array\")\n",
    "plt.ylabel(\"lake surface skin temperature\")\n",
    "\n",
    "# Find 1st and 3rd quantile and median\n",
    "da_qiles = valid_da.quantile([0.25, 0.5, 0.75])\n",
    "\n",
    "# Finding the IQR region\n",
    "iqr = da_qiles.sel(quantile=0.75) - da_qiles.sel(quantile=0.25)\n",
    "\n",
    "# Finding upper and lower whiskers\n",
    "stats = {\n",
    "    \"median\": float(da_qiles.sel(quantile=0.5)),\n",
    "    \"IQR upper bound\": float(da_qiles.sel(quantile=0.75) + (1.5 * iqr)),\n",
    "    \"IQR lower bound\": float(da_qiles.sel(quantile=0.25) - (1.5 * iqr)),\n",
    "    \"minimum\": float(da.min()),\n",
    "    \"maximum\": float(da.max()),\n",
    "}\n",
    "\n",
    "# Print stats\n",
    "for key, value in stats.items():\n",
    "    print(f\"The {key} value is {value:.2f} {valid_da.units}\")\n",
    "\n",
    "# Check outliers\n",
    "no_outliers = (\n",
    "    stats[\"minimum\"] >= stats[\"IQR lower bound\"]\n",
    "    and stats[\"maximum\"] <= stats[\"IQR upper bound\"]\n",
    ")\n",
    "print(f\"\\nThere are {'NO' if no_outliers else 'SOME'} outliers in the series.\")"
   ]
  }
 ],
 "metadata": {
  "kernelspec": {
   "display_name": "Python 3 (ipykernel)",
   "language": "python",
   "name": "python3"
  },
  "language_info": {
   "codemirror_mode": {
    "name": "ipython",
    "version": 3
   },
   "file_extension": ".py",
   "mimetype": "text/x-python",
   "name": "python",
   "nbconvert_exporter": "python",
   "pygments_lexer": "ipython3",
   "version": "3.10.10"
  }
 },
 "nbformat": 4,
 "nbformat_minor": 5
}
