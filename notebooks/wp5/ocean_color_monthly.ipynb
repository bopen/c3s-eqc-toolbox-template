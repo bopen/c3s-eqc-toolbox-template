{
 "cells": [
  {
   "cell_type": "markdown",
   "id": "0",
   "metadata": {},
   "source": [
    "# Ocean Colour"
   ]
  },
  {
   "cell_type": "markdown",
   "id": "1",
   "metadata": {},
   "source": [
    "## Import libraries"
   ]
  },
  {
   "cell_type": "code",
   "execution_count": null,
   "id": "2",
   "metadata": {
    "tags": [
     "hide-input"
    ]
   },
   "outputs": [],
   "source": [
    "import cartopy.crs as ccrs\n",
    "import matplotlib.pyplot as plt\n",
    "import numpy as np\n",
    "import xarray as xr\n",
    "from c3s_eqc_automatic_quality_control import diagnostics, download, plot, utils\n",
    "\n",
    "plt.style.use(\"seaborn-v0_8-notebook\")"
   ]
  },
  {
   "cell_type": "markdown",
   "id": "3",
   "metadata": {},
   "source": [
    "## Set parameters"
   ]
  },
  {
   "cell_type": "code",
   "execution_count": null,
   "id": "4",
   "metadata": {
    "tags": [
     "hide-input"
    ]
   },
   "outputs": [],
   "source": [
    "# Time period\n",
    "start = \"1998-01\"\n",
    "stop = \"2023-12\"\n",
    "\n",
    "# Variable\n",
    "variable = \"chlor_a\"\n",
    "assert variable in {\"chlor_a\"} | {f\"Rrs_{wl}\" for wl in (443, 560)}\n",
    "\n",
    "# Regions\n",
    "regions_monthly = {\n",
    "    \"IO_POOZ\": {\n",
    "        \"lon_slice\": slice(20, 150),\n",
    "        \"lat_slice\": slice(-47.5, -63.5),\n",
    "    },\n",
    "    \"PO_POOZ\": {\n",
    "        \"lon_slice\": slice(150, 290),\n",
    "        \"lat_slice\": slice(-47.5, -63.5),\n",
    "    },\n",
    "    \"AO_POOZ\": {\n",
    "        \"lon_slice\": slice(-70, 20),\n",
    "        \"lat_slice\": slice(-47.5, -63.5),\n",
    "    },\n",
    "}\n",
    "regions_map = {\n",
    "    \"SO\": {\n",
    "        \"lon_slice\": slice(-180, 180),\n",
    "        \"lat_slice\": slice(-47.5, -63.5),\n",
    "    }\n",
    "}\n",
    "\n",
    "# Define data request\n",
    "collection_id = \"satellite-ocean-colour\"\n",
    "request = {\n",
    "    \"projection\": \"regular_latitude_longitude_grid\",\n",
    "    \"version\": \"6_0\",\n",
    "    \"format\": \"zip\",\n",
    "}\n",
    "chunks = {\"year\": 1, \"month\": 1, \"variable\": 1}"
   ]
  },
  {
   "cell_type": "markdown",
   "id": "5",
   "metadata": {},
   "source": [
    "## Define transform functions"
   ]
  },
  {
   "cell_type": "code",
   "execution_count": null,
   "id": "6",
   "metadata": {
    "tags": [
     "hide-input"
    ]
   },
   "outputs": [],
   "source": [
    "def monthly_weighted_log_mean(ds, variable, lon_slice, lat_slice):\n",
    "    da = ds[variable]\n",
    "    da = utils.regionalise(da, lon_slice=lon_slice, lat_slice=lat_slice)\n",
    "    if variable == \"chlor_a\":\n",
    "        da = da.where((da > 0.01) & (da < 1.0e2))\n",
    "\n",
    "    valid_pixels = 100 * da.notnull().groupby(\"time.year\").map(\n",
    "        diagnostics.monthly_weighted_mean, weights=False\n",
    "    )\n",
    "    valid_pixels.attrs = {\"long_name\": \"Valid Pixels\", \"units\": \"%\"}\n",
    "\n",
    "    with xr.set_options(keep_attrs=True):\n",
    "        da = np.log10(da * np.cos(da[\"latitude\"] * np.pi / 180))\n",
    "        da = 10 ** da.groupby(\"time.year\").map(\n",
    "            diagnostics.monthly_weighted_mean, weights=False\n",
    "        )\n",
    "\n",
    "    ds = xr.merge([da.rename(\"mean\"), valid_pixels.rename(\"valid_pixels\")])\n",
    "    return ds.mean([\"latitude\", \"longitude\"], keep_attrs=True)\n",
    "\n",
    "\n",
    "def weighted_log_map(ds, variable, lon_slice, lat_slice):\n",
    "    da = ds[variable]\n",
    "    da = utils.regionalise(da, lon_slice=lon_slice, lat_slice=lat_slice)\n",
    "    if variable == \"chlor_a\":\n",
    "        da = da.where((da > 0.01) & (da < 1.0e2))\n",
    "\n",
    "    valid_pixels = 100 * da.notnull().mean(\"time\")\n",
    "    valid_pixels.attrs = {\"long_name\": \"Valid Pixels\", \"units\": \"%\"}\n",
    "\n",
    "    with xr.set_options(keep_attrs=True):\n",
    "        da = np.log10(da * np.cos(da[\"latitude\"] * np.pi / 180))\n",
    "        da = 10 ** da.mean(\"time\")\n",
    "    return xr.merge([da.rename(\"mean\"), valid_pixels.rename(\"valid_pixels\")])"
   ]
  },
  {
   "cell_type": "markdown",
   "id": "7",
   "metadata": {},
   "source": [
    "## Download and transform"
   ]
  },
  {
   "cell_type": "code",
   "execution_count": null,
   "id": "8",
   "metadata": {},
   "outputs": [],
   "source": [
    "maps = {}\n",
    "for region, slices in regions_map.items():\n",
    "    print(f\"{region =}\")\n",
    "    requests = download.update_request_date(\n",
    "        request\n",
    "        | {\n",
    "            \"variable\": \"remote_sensing_reflectance\"\n",
    "            if variable.startswith(\"Rrs\")\n",
    "            else \"mass_concentration_of_chlorophyll_a\"\n",
    "        },\n",
    "        start=start,\n",
    "        stop=stop,\n",
    "        stringify_dates=True,\n",
    "    )\n",
    "    maps[region] = download.download_and_transform(\n",
    "        collection_id,\n",
    "        requests,\n",
    "        transform_func=weighted_log_map,\n",
    "        transform_func_kwargs=slices | {\"variable\": variable},\n",
    "        chunks=chunks,\n",
    "        transform_chunks=False,\n",
    "    )\n",
    "\n",
    "datasets = []\n",
    "for region, slices in regions_monthly.items():\n",
    "    print(f\"{region =}\")\n",
    "    requests = download.update_request_date(\n",
    "        request\n",
    "        | {\n",
    "            \"variable\": \"remote_sensing_reflectance\"\n",
    "            if variable.startswith(\"Rrs\")\n",
    "            else \"mass_concentration_of_chlorophyll_a\"\n",
    "        },\n",
    "        start=start,\n",
    "        stop=stop,\n",
    "        stringify_dates=True,\n",
    "    )\n",
    "    ds = download.download_and_transform(\n",
    "        collection_id,\n",
    "        requests,\n",
    "        transform_func=monthly_weighted_log_mean,\n",
    "        transform_func_kwargs=slices | {\"variable\": variable},\n",
    "        chunks=chunks,\n",
    "    )\n",
    "    datasets.append(ds.expand_dims(region=[region]))\n",
    "ds_monthly = xr.concat(datasets, \"region\")"
   ]
  },
  {
   "cell_type": "markdown",
   "id": "9",
   "metadata": {},
   "source": [
    "## Plot maps"
   ]
  },
  {
   "cell_type": "code",
   "execution_count": null,
   "id": "10",
   "metadata": {},
   "outputs": [],
   "source": [
    "for region, ds in maps.items():\n",
    "    for var, da in ds.data_vars.items():\n",
    "        plot.projected_map(\n",
    "            da,\n",
    "            robust=True,\n",
    "            projection=ccrs.SouthPolarStereo(),\n",
    "            show_stats=False,\n",
    "        )\n",
    "        plt.title(f\"{region=}\")\n",
    "        plt.show()"
   ]
  },
  {
   "cell_type": "markdown",
   "id": "11",
   "metadata": {},
   "source": [
    "## Plot monthly data"
   ]
  },
  {
   "cell_type": "code",
   "execution_count": null,
   "id": "12",
   "metadata": {},
   "outputs": [],
   "source": [
    "for var, da in ds_monthly.data_vars.items():\n",
    "    da.plot(col=\"region\", x=\"year\", y=\"month\", yincrease=False, robust=True)\n",
    "    plt.show()"
   ]
  }
 ],
 "metadata": {
  "kernelspec": {
   "display_name": "Python 3 (ipykernel)",
   "language": "python",
   "name": "python3"
  },
  "language_info": {
   "codemirror_mode": {
    "name": "ipython",
    "version": 3
   },
   "file_extension": ".py",
   "mimetype": "text/x-python",
   "name": "python",
   "nbconvert_exporter": "python",
   "pygments_lexer": "ipython3",
   "version": "3.11.10"
  }
 },
 "nbformat": 4,
 "nbformat_minor": 5
}
