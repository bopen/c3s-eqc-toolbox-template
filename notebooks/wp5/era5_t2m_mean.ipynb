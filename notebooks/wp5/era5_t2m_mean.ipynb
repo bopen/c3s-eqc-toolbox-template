{
 "cells": [
  {
   "cell_type": "markdown",
   "id": "5b865281",
   "metadata": {},
   "source": [
    "# ERA5 mean 2m temperature"
   ]
  },
  {
   "cell_type": "markdown",
   "id": "5deae8cc",
   "metadata": {},
   "source": [
    "## Import packages"
   ]
  },
  {
   "cell_type": "code",
   "execution_count": null,
   "id": "9a0e78ae",
   "metadata": {},
   "outputs": [],
   "source": [
    "import cartopy.crs as ccrs\n",
    "import matplotlib.pyplot as plt\n",
    "import xarray as xr\n",
    "from c3s_eqc_automatic_quality_control import diagnostics, download, plot\n",
    "\n",
    "plt.style.use(\"seaborn-v0_8-notebook\")"
   ]
  },
  {
   "cell_type": "markdown",
   "id": "122047a0",
   "metadata": {},
   "source": [
    "## Define Parameters"
   ]
  },
  {
   "cell_type": "code",
   "execution_count": null,
   "id": "a9df60b1-bb48-4270-ad0d-d8c42429b7f2",
   "metadata": {},
   "outputs": [],
   "source": [
    "# Time period\n",
    "year_start = 1940\n",
    "year_stop = 2022\n",
    "\n",
    "# Climatology periods\n",
    "climatologies = (slice(\"1941\", \"1980\"), slice(\"1981\", \"2020\"))\n",
    "assert len(climatologies) == 2"
   ]
  },
  {
   "cell_type": "markdown",
   "id": "f20ac43b",
   "metadata": {},
   "source": [
    "## Define request"
   ]
  },
  {
   "cell_type": "code",
   "execution_count": null,
   "id": "37fb2b60",
   "metadata": {},
   "outputs": [],
   "source": [
    "collection_id = \"reanalysis-era5-single-levels-monthly-means\"\n",
    "request = {\n",
    "    \"product_type\": \"monthly_averaged_reanalysis\",\n",
    "    \"variable\": \"2m_temperature\",\n",
    "    \"year\": [str(year) for year in range(year_start, year_stop + 1)],\n",
    "    \"month\": [f\"{month:02d}\" for month in range(1, 12 + 1)],\n",
    "    \"time\": \"00:00\",\n",
    "    \"format\": \"grib\",\n",
    "}"
   ]
  },
  {
   "cell_type": "markdown",
   "id": "5b5fe50b-1523-461d-8a8e-d155533e7c6d",
   "metadata": {},
   "source": [
    "## Functions to cache"
   ]
  },
  {
   "cell_type": "code",
   "execution_count": null,
   "id": "c534d620-beda-43d2-ba16-598b26af2e3c",
   "metadata": {},
   "outputs": [],
   "source": [
    "def time_sliced_reduction(ds, time_slice, func, **kwargs):\n",
    "    ds = ds.sel(forecast_reference_time=time_slice)\n",
    "    return func(ds, **kwargs)"
   ]
  },
  {
   "cell_type": "markdown",
   "id": "e3baa41b",
   "metadata": {},
   "source": [
    "## Download and transform"
   ]
  },
  {
   "cell_type": "code",
   "execution_count": null,
   "id": "65b9d01d",
   "metadata": {},
   "outputs": [],
   "source": [
    "clima_dataarrays = []\n",
    "month_dataarrays = []\n",
    "season_dataarrays = []\n",
    "for clima_slice in [slice(str(year_start), str(year_stop))] + list(climatologies):\n",
    "    for func, da_list in zip(\n",
    "        (\n",
    "            diagnostics.time_weighted_mean,\n",
    "            diagnostics.monthly_weighted_mean,\n",
    "            diagnostics.seasonal_weighted_mean,\n",
    "        ),\n",
    "        (clima_dataarrays, month_dataarrays, season_dataarrays),\n",
    "    ):\n",
    "        print(f\"{clima_slice=} {func.__name__=}\")\n",
    "        ds = download.download_and_transform(\n",
    "            collection_id,\n",
    "            request,\n",
    "            chunks={\"year\": 1},\n",
    "            transform_chunks=False,\n",
    "            transform_func=time_sliced_reduction,\n",
    "            transform_func_kwargs={\n",
    "                \"time_slice\": clima_slice,\n",
    "                \"func\": func,\n",
    "                \"weights\": False,\n",
    "            },\n",
    "        )\n",
    "        da = ds[\"t2m\"].reset_coords(drop=True)\n",
    "        da_list.append(\n",
    "            da.expand_dims(period=[f\"({clima_slice.start}-{clima_slice.stop})\"])\n",
    "        )\n",
    "clima_da = xr.concat(clima_dataarrays, \"period\")\n",
    "month_da = xr.concat(month_dataarrays, \"period\")\n",
    "season_da = xr.concat(season_dataarrays, \"period\")"
   ]
  },
  {
   "cell_type": "markdown",
   "id": "31cd3e82",
   "metadata": {},
   "source": [
    "## Plot climatology maps"
   ]
  },
  {
   "cell_type": "code",
   "execution_count": null,
   "id": "bafc860b-f0d9-4285-9938-e4c0ad2f5e52",
   "metadata": {},
   "outputs": [],
   "source": [
    "for da_to_plot in (clima_da, season_da):\n",
    "    da_to_plot = da_to_plot.isel(period=0)\n",
    "    plot.projected_map(\n",
    "        da_to_plot,\n",
    "        projection=ccrs.Robinson(),\n",
    "        cmap=\"YlOrRd\",\n",
    "        levels=9,\n",
    "        robust=True,\n",
    "        extend=\"both\",\n",
    "        col=\"season\" if \"season\" in da_to_plot.dims else None,\n",
    "        col_wrap=2,\n",
    "    )\n",
    "    plt.show()"
   ]
  },
  {
   "cell_type": "markdown",
   "id": "cf1de8d9",
   "metadata": {},
   "source": [
    "## Plot anomaly maps"
   ]
  },
  {
   "cell_type": "code",
   "execution_count": null,
   "id": "f5242166-528e-4a7f-b667-1cc85dd24f13",
   "metadata": {},
   "outputs": [],
   "source": [
    "for da_to_plot in (clima_da, season_da):\n",
    "    da_to_plot = da_to_plot.drop_isel(period=0)\n",
    "    label = \" — \".join(da_to_plot[\"period\"].values.tolist()[::-1][:2])\n",
    "    with xr.set_options(keep_attrs=True):\n",
    "        da_to_plot = da_to_plot.diff(\"period\")\n",
    "    da_to_plot.attrs[\"long_name\"] += \" anomaly\"\n",
    "    da_to_plot[\"period\"] = [label]\n",
    "    plot.projected_map(\n",
    "        da_to_plot,\n",
    "        projection=ccrs.Robinson(),\n",
    "        cmap=\"RdBu_r\",\n",
    "        levels=9,\n",
    "        center=0,\n",
    "        robust=True,\n",
    "        extend=\"both\",\n",
    "        col=\"season\" if \"season\" in da_to_plot.dims else None,\n",
    "        col_wrap=2,\n",
    "    )\n",
    "    plt.show()"
   ]
  },
  {
   "cell_type": "markdown",
   "id": "afa29a8f",
   "metadata": {},
   "source": [
    "## Plot seasonal cycle"
   ]
  },
  {
   "cell_type": "code",
   "execution_count": null,
   "id": "623c7e55-bef3-440a-bc45-72c604b4d7f6",
   "metadata": {},
   "outputs": [],
   "source": [
    "da_to_plot = diagnostics.spatial_weighted_mean(month_da)\n",
    "da_to_plot.plot(hue=\"period\")\n",
    "plt.grid()\n",
    "\n",
    "# Show table with values in Celsius\n",
    "(da_to_plot - 273.15).round(1).to_pandas()"
   ]
  }
 ],
 "metadata": {
  "celltoolbar": "Raw Cell Format",
  "kernelspec": {
   "display_name": "Python 3 (ipykernel)",
   "language": "python",
   "name": "python3"
  },
  "language_info": {
   "codemirror_mode": {
    "name": "ipython",
    "version": 3
   },
   "file_extension": ".py",
   "mimetype": "text/x-python",
   "name": "python",
   "nbconvert_exporter": "python",
   "pygments_lexer": "ipython3",
   "version": "3.10.12"
  }
 },
 "nbformat": 4,
 "nbformat_minor": 5
}
