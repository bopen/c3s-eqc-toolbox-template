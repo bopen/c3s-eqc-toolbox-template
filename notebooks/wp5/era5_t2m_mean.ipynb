{
 "cells": [
  {
   "cell_type": "markdown",
   "id": "5b865281",
   "metadata": {},
   "source": [
    "# ERA5 mean 2m temperature"
   ]
  },
  {
   "cell_type": "markdown",
   "id": "5deae8cc",
   "metadata": {},
   "source": [
    "## Import packages"
   ]
  },
  {
   "cell_type": "code",
   "execution_count": null,
   "id": "9a0e78ae",
   "metadata": {},
   "outputs": [],
   "source": [
    "import cartopy.crs as ccrs\n",
    "import matplotlib.pyplot as plt\n",
    "import xarray as xr\n",
    "from c3s_eqc_automatic_quality_control import diagnostics, download, plot\n",
    "\n",
    "plt.style.use(\"seaborn-v0_8-notebook\")"
   ]
  },
  {
   "cell_type": "markdown",
   "id": "122047a0",
   "metadata": {},
   "source": [
    "## Define Parameters"
   ]
  },
  {
   "cell_type": "code",
   "execution_count": null,
   "id": "a9df60b1-bb48-4270-ad0d-d8c42429b7f2",
   "metadata": {},
   "outputs": [],
   "source": [
    "# Climatology periods\n",
    "clima_start = [\"1940-01\", \"1941-01\", \"1981-01\"]\n",
    "clima_stop = [\"2022-12\", \"1980-12\", \"2020-12\"]\n",
    "assert len(clima_start) == len(clima_stop) == 3"
   ]
  },
  {
   "cell_type": "markdown",
   "id": "f20ac43b",
   "metadata": {},
   "source": [
    "## Define request"
   ]
  },
  {
   "cell_type": "code",
   "execution_count": null,
   "id": "37fb2b60",
   "metadata": {},
   "outputs": [],
   "source": [
    "collection_id = \"reanalysis-era5-single-levels-monthly-means\"\n",
    "request = {\n",
    "    \"product_type\": \"monthly_averaged_reanalysis\",\n",
    "    \"variable\": \"2m_temperature\",\n",
    "    \"time\": \"00:00\",\n",
    "    \"format\": \"grib\",\n",
    "}\n",
    "\n",
    "# Parameters to speed up I/O\n",
    "open_mfdataset_kwargs = {\n",
    "    \"concat_dim\": \"forecast_reference_time\",\n",
    "    \"combine\": \"nested\",\n",
    "    \"data_vars\": \"minimal\",\n",
    "    \"coords\": \"minimal\",\n",
    "    \"compat\": \"override\",\n",
    "    \"parallel\": True,\n",
    "}"
   ]
  },
  {
   "cell_type": "markdown",
   "id": "e3baa41b",
   "metadata": {},
   "source": [
    "## Download and transform"
   ]
  },
  {
   "cell_type": "code",
   "execution_count": null,
   "id": "65b9d01d",
   "metadata": {},
   "outputs": [],
   "source": [
    "clima_datasets = []\n",
    "month_datasets = []\n",
    "season_datasets = []\n",
    "for start, stop in zip(clima_start, clima_stop):\n",
    "    requests = download.update_request_date(\n",
    "        request, start=start, stop=stop, stringify_dates=True\n",
    "    )\n",
    "    for transform_func, ds_list in zip(\n",
    "        (\n",
    "            diagnostics.time_weighted_mean,\n",
    "            diagnostics.monthly_weighted_mean,\n",
    "            diagnostics.seasonal_weighted_mean,\n",
    "        ),\n",
    "        (clima_datasets, month_datasets, season_datasets),\n",
    "    ):\n",
    "        print(f\"{start=} {stop=} {transform_func.__name__}\")\n",
    "        ds = download.download_and_transform(\n",
    "            collection_id,\n",
    "            requests,\n",
    "            chunks={\"year\": 1, \"month\": 1},\n",
    "            transform_chunks=False,\n",
    "            transform_func=transform_func,\n",
    "            transform_func_kwargs={\"weights\": False},\n",
    "            **open_mfdataset_kwargs,\n",
    "        )\n",
    "        ds = ds.drop([\"realization\", \"leadtime\", \"surface\", \"time\"])\n",
    "        ds_list.append(ds.expand_dims(period=[f\"({start}, {stop})\"]))\n",
    "clima_ds = xr.concat(clima_datasets, \"period\")\n",
    "month_ds = xr.concat(month_datasets, \"period\")\n",
    "season_ds = xr.concat(season_datasets, \"period\")"
   ]
  },
  {
   "cell_type": "markdown",
   "id": "31cd3e82",
   "metadata": {},
   "source": [
    "## Plot climatology maps"
   ]
  },
  {
   "cell_type": "code",
   "execution_count": null,
   "id": "bafc860b-f0d9-4285-9938-e4c0ad2f5e52",
   "metadata": {},
   "outputs": [],
   "source": [
    "for ds in (clima_ds, season_ds):\n",
    "    da = ds[\"t2m\"].isel(period=0)\n",
    "    plot.projected_map(\n",
    "        da,\n",
    "        projection=ccrs.Robinson(),\n",
    "        cmap=\"YlOrRd\",\n",
    "        levels=9,\n",
    "        robust=True,\n",
    "        extend=\"both\",\n",
    "        col=\"season\" if \"season\" in da.dims else None,\n",
    "        col_wrap=2,\n",
    "    )\n",
    "    plt.show()"
   ]
  },
  {
   "cell_type": "markdown",
   "id": "cf1de8d9",
   "metadata": {},
   "source": [
    "## Plot anomaly maps"
   ]
  },
  {
   "cell_type": "code",
   "execution_count": null,
   "id": "f5242166-528e-4a7f-b667-1cc85dd24f13",
   "metadata": {},
   "outputs": [],
   "source": [
    "for ds in (clima_ds, season_ds):\n",
    "    with xr.set_options(keep_attrs=True):\n",
    "        da = ds[\"t2m\"].drop_isel(period=0).diff(\"period\")\n",
    "    da.attrs[\"long_name\"] += \" anomaly\"\n",
    "    da[\"period\"] = [\" — \".join(ds[\"period\"].values.tolist()[::-1][:2])]\n",
    "    plot.projected_map(\n",
    "        da,\n",
    "        projection=ccrs.Robinson(),\n",
    "        cmap=\"RdBu_r\",\n",
    "        levels=9,\n",
    "        center=0,\n",
    "        robust=True,\n",
    "        extend=\"both\",\n",
    "        col=\"season\" if \"season\" in da.dims else None,\n",
    "        col_wrap=2,\n",
    "    )\n",
    "    plt.show()"
   ]
  },
  {
   "cell_type": "markdown",
   "id": "afa29a8f",
   "metadata": {},
   "source": [
    "## Plot seasonal cycle"
   ]
  },
  {
   "cell_type": "code",
   "execution_count": null,
   "id": "623c7e55-bef3-440a-bc45-72c604b4d7f6",
   "metadata": {},
   "outputs": [],
   "source": [
    "da = diagnostics.spatial_weighted_mean(month_ds[\"t2m\"])\n",
    "da.plot(hue=\"period\")\n",
    "plt.grid()\n",
    "\n",
    "# Show table with values in Celsius\n",
    "(da - 273.15).round(1).to_pandas()"
   ]
  },
  {
   "cell_type": "code",
   "execution_count": null,
   "id": "49febc05-922c-4304-8fd2-3bda1d090cc7",
   "metadata": {},
   "outputs": [],
   "source": []
  }
 ],
 "metadata": {
  "celltoolbar": "Raw Cell Format",
  "kernelspec": {
   "display_name": "Python 3 (ipykernel)",
   "language": "python",
   "name": "python3"
  },
  "language_info": {
   "codemirror_mode": {
    "name": "ipython",
    "version": 3
   },
   "file_extension": ".py",
   "mimetype": "text/x-python",
   "name": "python",
   "nbconvert_exporter": "python",
   "pygments_lexer": "ipython3",
   "version": "3.10.12"
  }
 },
 "nbformat": 4,
 "nbformat_minor": 5
}
