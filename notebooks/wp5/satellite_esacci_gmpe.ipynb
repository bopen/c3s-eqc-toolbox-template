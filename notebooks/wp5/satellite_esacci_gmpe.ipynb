{
 "cells": [
  {
   "attachments": {},
   "cell_type": "markdown",
   "id": "ad16ba25",
   "metadata": {},
   "source": [
    "# Assessment of the SST climatology and variability"
   ]
  },
  {
   "attachments": {},
   "cell_type": "markdown",
   "id": "73106113",
   "metadata": {},
   "source": [
    "## Import packages"
   ]
  },
  {
   "cell_type": "code",
   "execution_count": null,
   "id": "157d88d6-d5a1-4c4c-a879-6584e89dd1b7",
   "metadata": {},
   "outputs": [],
   "source": [
    "import cartopy.crs as ccrs\n",
    "import matplotlib.pyplot as plt\n",
    "import xarray as xr\n",
    "from c3s_eqc_automatic_quality_control import diagnostics, download, plot, utils\n",
    "\n",
    "plt.style.use(\"seaborn-v0_8-notebook\")"
   ]
  },
  {
   "attachments": {},
   "cell_type": "markdown",
   "id": "b6e64735",
   "metadata": {},
   "source": [
    "## Define Parameters"
   ]
  },
  {
   "cell_type": "code",
   "execution_count": null,
   "id": "81c4e187-558a-4b76-ad18-7d00a5a69d3a",
   "metadata": {},
   "outputs": [],
   "source": [
    "# Time\n",
    "start = \"1982-01\"\n",
    "stop = \"1991-12\"\n",
    "\n",
    "# Regions\n",
    "regions = {\n",
    "    \"northern hemisphere\": {\"lon_slice\": slice(-180, 180), \"lat_slice\": slice(0, 90)},\n",
    "    \"southern hemisphere\": {\"lon_slice\": slice(-180, 180), \"lat_slice\": slice(-90, 0)},\n",
    "}"
   ]
  },
  {
   "attachments": {},
   "cell_type": "markdown",
   "id": "56a16b25",
   "metadata": {},
   "source": [
    "## Define Parameters"
   ]
  },
  {
   "cell_type": "code",
   "execution_count": null,
   "id": "326a98d3-884f-4c54-abb0-f543a2aa11f4",
   "metadata": {},
   "outputs": [],
   "source": [
    "# Requests\n",
    "request_dicts = {\n",
    "    \"esacci\": {\n",
    "        \"collection_id\": \"satellite-sea-surface-temperature\",\n",
    "        \"request\": {\n",
    "            \"processinglevel\": \"level_4\",\n",
    "            \"format\": \"zip\",\n",
    "            \"variable\": \"all\",\n",
    "            \"sensor_on_satellite\": \"combined_product\",\n",
    "            \"version\": \"2_1\",\n",
    "        },\n",
    "        \"chunks\": {\"year\": 1, \"month\": 1},\n",
    "    },\n",
    "    \"gmpe\": {\n",
    "        \"collection_id\": \"satellite-sea-surface-temperature-ensemble-product\",\n",
    "        \"request\": {\n",
    "            \"format\": \"zip\",\n",
    "            \"variable\": \"all\",\n",
    "        },\n",
    "        \"chunks\": {\"year\": 1, \"month\": 1, \"day\": 12},  # CDS limit is 12\n",
    "    },\n",
    "}\n",
    "\n",
    "# Parameters to speed up I/O\n",
    "open_mfdataset_kwargs = {\n",
    "    \"concat_dim\": \"time\",\n",
    "    \"combine\": \"nested\",\n",
    "    \"data_vars\": \"minimal\",\n",
    "    \"coords\": \"minimal\",\n",
    "    \"compat\": \"override\",\n",
    "    \"parallel\": True,\n",
    "}"
   ]
  },
  {
   "attachments": {},
   "cell_type": "markdown",
   "id": "5ef55fea",
   "metadata": {},
   "source": [
    "## Functions to cache"
   ]
  },
  {
   "cell_type": "code",
   "execution_count": null,
   "id": "e319a354-d6b2-40fa-83e6-e9c70a631af3",
   "metadata": {},
   "outputs": [],
   "source": [
    "def get_masked_sst(ds):\n",
    "    da = ds[\"analysed_sst\"]\n",
    "    if \"mask\" in ds:\n",
    "        da = da.where(ds[\"mask\"] == 1)\n",
    "    return da\n",
    "\n",
    "\n",
    "def rechunk(obj):\n",
    "    \"\"\"Use NetCDF chunks.\"\"\"\n",
    "    chunks = {\"season\": 1, \"latitude\": 1_200, \"longitude\": 2_400}\n",
    "    return obj.chunk(\n",
    "        **{dim: chunksize for dim, chunksize in chunks.items() if dim in obj.dims}\n",
    "    )\n",
    "\n",
    "\n",
    "\n",
    "def compute_time_reductions(ds, reductions, groups):\n",
    "    ds = rechunk(ds)\n",
    "    da = get_masked_sst(ds)\n",
    "    dataarrays = []\n",
    "    for group in groups:\n",
    "        for reduction in reductions:\n",
    "            name = \"_\".join([group, reduction])\n",
    "            long_name = f\"{reduction.title()} of {da.attrs['long_name']}\"\n",
    "            func = getattr(diagnostics, f\"{group}_weighted_{reduction}\")\n",
    "            da_reduced = rechunk(func(da, weights=False))\n",
    "            da_reduced.attrs[\"long_name\"] = long_name\n",
    "            da_reduced.encoding[\"chunksizes\"] = tuple(map(max, da_reduced.chunks))\n",
    "            dataarrays.append(da_reduced.rename(name))\n",
    "    return xr.merge(dataarrays)\n",
    "\n",
    "\n",
    "def compute_spatial_weighted_reductions(ds, reductions, lon_slice, lat_slice):\n",
    "    ds = rechunk(ds)\n",
    "    ds = utils.regionalise(ds, lon_slice=lon_slice, lat_slice=lat_slice)\n",
    "    da = get_masked_sst(ds)\n",
    "    da = diagnostics.spatial_weighted_mean(da, weights=True)\n",
    "    grouped = da.groupby(\"time.dayofyear\")\n",
    "    dataarrays = []\n",
    "    for reduction in reductions:\n",
    "        long_name = f\"{reduction.title()} of {da.attrs['long_name']}\"\n",
    "        func = getattr(grouped, reduction)\n",
    "        da_reduced = rechunk(func(da, keep_attrs=True))\n",
    "        da_reduced.attrs[\"long_name\"] = long_name\n",
    "        dataarrays.append(da_reduced.rename(reduction))\n",
    "    return xr.merge(dataarrays)"
   ]
  },
  {
   "attachments": {},
   "cell_type": "markdown",
   "id": "93ad0c07",
   "metadata": {},
   "source": [
    "## Download and transform"
   ]
  },
  {
   "cell_type": "code",
   "execution_count": null,
   "id": "2e1742e5-88f7-465b-84c2-6b8e770847e8",
   "metadata": {},
   "outputs": [],
   "source": [
    "datasets_maps = {}\n",
    "datasets_timeseries = []\n",
    "\n",
    "reductions = (\"mean\", \"std\")\n",
    "groups = (\"time\", \"seasonal\")\n",
    "for product, request_dict in request_dicts.items():\n",
    "    # Common kwargs\n",
    "    kwargs = {\n",
    "        \"collection_id\": request_dict[\"collection_id\"],\n",
    "        \"requests\": download.update_request_date(\n",
    "            request_dict[\"request\"], start=start, stop=stop, stringify_dates=True\n",
    "        ),\n",
    "        \"transform_chunks\": False,\n",
    "        \"chunks\": request_dict[\"chunks\"],\n",
    "        **open_mfdataset_kwargs,\n",
    "    }\n",
    "\n",
    "    # Time reductions\n",
    "    ds = download.download_and_transform(\n",
    "        **kwargs,\n",
    "        transform_func=compute_time_reductions,\n",
    "        transform_func_kwargs={\"reductions\": reductions, \"groups\": groups},\n",
    "    )\n",
    "    datasets_maps[product] = rechunk(ds)\n",
    "\n",
    "    # Spatial weighted reductions\n",
    "    for region, slices in regions.items():\n",
    "        ds = download.download_and_transform(\n",
    "            **kwargs,\n",
    "            transform_func=compute_spatial_weighted_reductions,\n",
    "            transform_func_kwargs={\"reductions\": reductions} | slices,\n",
    "        )\n",
    "        datasets_timeseries.append(ds.expand_dims(region=[region], product=[product]))\n",
    "ds_timeseries = xr.merge(datasets_timeseries)"
   ]
  },
  {
   "attachments": {},
   "cell_type": "markdown",
   "id": "460d3bc2",
   "metadata": {},
   "source": [
    "## Plot mean and std maps"
   ]
  },
  {
   "cell_type": "code",
   "execution_count": null,
   "id": "2d756796-1075-44bf-aadf-d837d369ca89",
   "metadata": {},
   "outputs": [],
   "source": [
    "maps_kwargs = {\"projection\": ccrs.Robinson(), \"plot_func\": \"contourf\", \"col_wrap\": 2}\n",
    "\n",
    "for product, ds in datasets_maps.items():\n",
    "    for var, da in ds.data_vars.items():\n",
    "        plot.projected_map(\n",
    "            da if \"season\" in da.dims else da.compute(),\n",
    "            cmap=\"Spectral_r\" if var.endswith(\"mean\") else \"tab20b\",\n",
    "            col=\"season\" if \"season\" in da.dims else None,\n",
    "            **maps_kwargs,\n",
    "        )\n",
    "        plt.suptitle(f\"{product.upper()} ({start}, {stop})\")\n",
    "        plt.show()"
   ]
  },
  {
   "attachments": {},
   "cell_type": "markdown",
   "id": "48d79eb9",
   "metadata": {},
   "source": [
    "## Plot bias"
   ]
  },
  {
   "cell_type": "code",
   "execution_count": null,
   "id": "503829f6-0758-4026-ae66-850b66d5143c",
   "metadata": {},
   "outputs": [],
   "source": [
    "for var in (\"time_mean\", \"seasonal_mean\"):\n",
    "    da = datasets_maps[list(datasets_maps)[0]][var]\n",
    "    with xr.set_options(keep_attrs=True):\n",
    "        da = da - datasets_maps[list(datasets_maps)[1]][var].interp_like(da)\n",
    "    da.attrs[\"long_name\"] = da.attrs[\"long_name\"].replace(\"Mean\", \"Mean bias\")\n",
    "    plot.projected_map(\n",
    "        da if \"season\" in da.dims else da.compute(),\n",
    "        cmap=\"PRGn\",\n",
    "        col=\"season\" if \"season\" in da.dims else None,\n",
    "        **maps_kwargs,\n",
    "    )\n",
    "    plt.suptitle(f\"{' - '.join(list(datasets_maps)).upper()} ({start}, {stop})\")\n",
    "    plt.show()"
   ]
  },
  {
   "attachments": {},
   "cell_type": "markdown",
   "id": "b1a309a7",
   "metadata": {},
   "source": [
    "## Plot timeseries"
   ]
  },
  {
   "cell_type": "code",
   "execution_count": null,
   "id": "626e80e5-f301-4a11-9ff4-52dbe5c71815",
   "metadata": {},
   "outputs": [],
   "source": [
    "for region, ds_region in ds_timeseries.groupby(\"region\"):\n",
    "    fig, ax = plt.subplots()\n",
    "    ax.set_prop_cycle(color=[\"green\", \"blue\"])\n",
    "    for product, ds_product in ds_region.groupby(\"product\"):\n",
    "        ds_product[\"mean\"].plot(\n",
    "            hue=\"product\", ax=ax, label=product.upper(), add_legend=False\n",
    "        )\n",
    "        ax.fill_between(\n",
    "            ds_product[\"dayofyear\"],\n",
    "            ds_product[\"mean\"] - ds_product[\"std\"],\n",
    "            ds_product[\"mean\"] + ds_product[\"std\"],\n",
    "            alpha=0.5,\n",
    "            label=f\"{product.upper()} ± std\",\n",
    "        )\n",
    "        ax.set_title(f\"{region.title()} ({start}, {stop})\")\n",
    "    ax.legend()\n",
    "    ax.grid()\n",
    "    plt.show()"
   ]
  }
 ],
 "metadata": {
  "kernelspec": {
   "display_name": "Python 3 (ipykernel)",
   "language": "python",
   "name": "python3"
  },
  "language_info": {
   "codemirror_mode": {
    "name": "ipython",
    "version": 3
   },
   "file_extension": ".py",
   "mimetype": "text/x-python",
   "name": "python",
   "nbconvert_exporter": "python",
   "pygments_lexer": "ipython3",
   "version": "3.10.12"
  }
 },
 "nbformat": 4,
 "nbformat_minor": 5
}
