{
 "cells": [
  {
   "cell_type": "markdown",
   "id": "d2078cb1",
   "metadata": {},
   "source": [
    "# Ocean Color"
   ]
  },
  {
   "cell_type": "markdown",
   "id": "25f9797c",
   "metadata": {},
   "source": [
    "## Import packages"
   ]
  },
  {
   "cell_type": "code",
   "execution_count": null,
   "id": "7b0ba8de-66d3-4280-b486-ea3bafa4ae28",
   "metadata": {},
   "outputs": [],
   "source": [
    "import matplotlib.pyplot as plt\n",
    "import numpy as np\n",
    "import xarray as xr\n",
    "from c3s_eqc_automatic_quality_control import diagnostics, download, utils\n",
    "\n",
    "plt.style.use(\"seaborn-v0_8-notebook\")"
   ]
  },
  {
   "cell_type": "markdown",
   "id": "20d3c6af",
   "metadata": {},
   "source": [
    "## Define Parameters"
   ]
  },
  {
   "cell_type": "code",
   "execution_count": null,
   "id": "a0061522-8772-42d4-8f1a-f6bbdb03ad25",
   "metadata": {},
   "outputs": [],
   "source": [
    "# Time period\n",
    "start = \"1997-09\"\n",
    "stop = \"1998-08\""
   ]
  },
  {
   "cell_type": "markdown",
   "id": "42726c21",
   "metadata": {},
   "source": [
    "## Define request"
   ]
  },
  {
   "cell_type": "code",
   "execution_count": null,
   "id": "382c1767-9a60-4db1-8791-fc5f65887d10",
   "metadata": {},
   "outputs": [],
   "source": [
    "collection_id = \"satellite-ocean-colour\"\n",
    "\n",
    "request = {\n",
    "    \"variable\": \"mass_concentration_of_chlorophyll_a\",\n",
    "    \"projection\": \"regular_latitude_longitude_grid\",\n",
    "    \"version\": \"6_0\",\n",
    "    \"format\": \"zip\",\n",
    "}\n",
    "\n",
    "\n",
    "requests = download.update_request_date(\n",
    "    request, start=start, stop=stop, stringify_dates=True\n",
    ")"
   ]
  },
  {
   "cell_type": "markdown",
   "id": "2596ac5f",
   "metadata": {},
   "source": [
    "## Functions to cache"
   ]
  },
  {
   "cell_type": "code",
   "execution_count": null,
   "id": "a7b67519-1187-4294-803f-4b540f54615c",
   "metadata": {},
   "outputs": [],
   "source": [
    "def regionalised_spatial_weighted_mean(ds, lon_slice, lat_slice):\n",
    "    da = ds[\"chlor_a\"]\n",
    "    da = utils.regionalise(da, lon_slice=lon_slice, lat_slice=lat_slice)\n",
    "    da = da.where((da > 1.0e-3) & (da < 1.0e2))\n",
    "    with xr.set_options(keep_attrs=True):\n",
    "        da = 10 ** diagnostics.spatial_weighted_mean(np.log10(da))\n",
    "    da.attrs[\"long_name\"] = da.attrs[\"long_name\"].replace(\" (not log-transformed)\", \"\")\n",
    "    return da.to_dataset()"
   ]
  },
  {
   "cell_type": "markdown",
   "id": "3d8a7b28",
   "metadata": {},
   "source": [
    "## Download and transform data"
   ]
  },
  {
   "cell_type": "code",
   "execution_count": null,
   "id": "8cb75234-f402-4ce7-9585-4192ea1b2fb5",
   "metadata": {},
   "outputs": [],
   "source": [
    "lon_slice = slice(-180, 180)\n",
    "datasets = []\n",
    "for lats in zip(range(90, -90, -30), range(60, -120, -30)):\n",
    "    print(f\"{lats=}\")\n",
    "    ds = download.download_and_transform(\n",
    "        collection_id,\n",
    "        requests,\n",
    "        transform_func=regionalised_spatial_weighted_mean,\n",
    "        transform_func_kwargs={\"lon_slice\": lon_slice, \"lat_slice\": slice(*lats)},\n",
    "        chunks={\"year\": 1, \"month\": 1},\n",
    "    )\n",
    "    datasets.append(ds.expand_dims(latitudes=[str(lats)]))\n",
    "ds = xr.concat(datasets, \"latitudes\")\n",
    "da_daily = ds[\"chlor_a\"]\n",
    "da_monthly = da_daily.resample(time=\"M\").mean()\n",
    "da_seasonality = da_daily.groupby(\"time.month\").mean()"
   ]
  },
  {
   "cell_type": "markdown",
   "id": "05b5cd50",
   "metadata": {},
   "source": [
    "## Daily timeseries"
   ]
  },
  {
   "cell_type": "code",
   "execution_count": null,
   "id": "f2afd3b8-db89-44b2-87a3-3b8b2fe3b252",
   "metadata": {},
   "outputs": [],
   "source": [
    "window = 60\n",
    "for i, (lats, da) in enumerate(da_daily.groupby(\"latitudes\")):\n",
    "    da.plot(color=f\"C{i}\", ls=\"-\", label=f\"{lats}: daily\")\n",
    "    da.rolling(time=window, min_periods=1).mean().plot(\n",
    "        color=f\"C{i}\", ls=\"--\", label=f\"{lats}: {window}-day running\"\n",
    "    )\n",
    "plt.grid()\n",
    "_ = plt.legend(bbox_to_anchor=(1, 1))"
   ]
  },
  {
   "cell_type": "markdown",
   "id": "d175c784",
   "metadata": {},
   "source": [
    "## Monthly timeseries"
   ]
  },
  {
   "cell_type": "code",
   "execution_count": null,
   "id": "f1e8e6e2-1bba-4dc6-89c6-769b89f54e97",
   "metadata": {},
   "outputs": [],
   "source": [
    "window = 6\n",
    "for i, (lats, da) in enumerate(da_monthly.groupby(\"latitudes\")):\n",
    "    da.plot(color=f\"C{i}\", ls=\"-\", label=f\"{lats}: monthly\")\n",
    "    da.rolling(time=window, min_periods=1).mean().plot(\n",
    "        color=f\"C{i}\", ls=\"--\", label=f\"{lats}: {window}-month running\"\n",
    "    )\n",
    "plt.grid()\n",
    "_ = plt.legend(bbox_to_anchor=(1, 1))"
   ]
  },
  {
   "cell_type": "markdown",
   "id": "ce3369cb",
   "metadata": {},
   "source": [
    "## Seasonality"
   ]
  },
  {
   "cell_type": "code",
   "execution_count": null,
   "id": "8295a09b-e926-41b5-836c-a927082cb27f",
   "metadata": {},
   "outputs": [],
   "source": [
    "window = 6\n",
    "for i, (lats, da) in enumerate(da_seasonality.groupby(\"latitudes\")):\n",
    "    da.plot(color=f\"C{i}\", ls=\"-\", label=f\"{lats}: seasonality\", marker=\"o\")\n",
    "    da.rolling(month=window, min_periods=1).mean().plot(\n",
    "        color=f\"C{i}\", ls=\"--\", label=f\"{lats}: {window}-month running\", marker=\"o\"\n",
    "    )\n",
    "plt.title(f\"From {start} to {stop}\")\n",
    "plt.grid()\n",
    "_ = plt.legend(bbox_to_anchor=(1, 1))"
   ]
  }
 ],
 "metadata": {
  "kernelspec": {
   "display_name": "Python 3 (ipykernel)",
   "language": "python",
   "name": "python3"
  },
  "language_info": {
   "codemirror_mode": {
    "name": "ipython",
    "version": 3
   },
   "file_extension": ".py",
   "mimetype": "text/x-python",
   "name": "python",
   "nbconvert_exporter": "python",
   "pygments_lexer": "ipython3",
   "version": "3.10.12"
  }
 },
 "nbformat": 4,
 "nbformat_minor": 5
}
