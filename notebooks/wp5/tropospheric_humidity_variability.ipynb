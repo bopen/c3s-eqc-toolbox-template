{
 "cells": [
  {
   "cell_type": "markdown",
   "id": "0",
   "metadata": {},
   "source": [
    "# Satellite Humidity Profiles: Variability of vertically resolved Tropospheric Humidity"
   ]
  },
  {
   "cell_type": "markdown",
   "id": "1",
   "metadata": {},
   "source": [
    "## Import packages"
   ]
  },
  {
   "cell_type": "code",
   "execution_count": null,
   "id": "2",
   "metadata": {},
   "outputs": [],
   "source": [
    "import calendar\n",
    "\n",
    "import matplotlib.pyplot as plt\n",
    "import xarray as xr\n",
    "from c3s_eqc_automatic_quality_control import download\n",
    "\n",
    "plt.style.use(\"seaborn-v0_8-notebook\")"
   ]
  },
  {
   "cell_type": "markdown",
   "id": "3",
   "metadata": {},
   "source": [
    "## Define Parameters"
   ]
  },
  {
   "cell_type": "code",
   "execution_count": null,
   "id": "4",
   "metadata": {},
   "outputs": [],
   "source": [
    "# Time period\n",
    "start = \"2006-01\"\n",
    "stop = \"2023-02\"\n",
    "\n",
    "# Product type\n",
    "product_type = \"reanalysis_data\"\n",
    "assert product_type in (\"reanalysis_data\", \"radio_occultation_data\")\n",
    "\n",
    "# Altitude bins\n",
    "bins = (0, 1_000, 2_000, 4_000, 6_000, 12_000)"
   ]
  },
  {
   "cell_type": "markdown",
   "id": "5",
   "metadata": {},
   "source": [
    "## Define Request"
   ]
  },
  {
   "cell_type": "code",
   "execution_count": null,
   "id": "6",
   "metadata": {},
   "outputs": [],
   "source": [
    "collection_id = \"satellite-humidity-profiles\"\n",
    "request = {\n",
    "    \"variable\": \"all\",\n",
    "    \"product_type\": product_type,\n",
    "}\n",
    "request = download.update_request_date(\n",
    "    request, start=start, stop=stop, stringify_dates=True\n",
    ")"
   ]
  },
  {
   "cell_type": "markdown",
   "id": "7",
   "metadata": {},
   "source": [
    "## Download Data"
   ]
  },
  {
   "cell_type": "code",
   "execution_count": null,
   "id": "8",
   "metadata": {},
   "outputs": [],
   "source": [
    "ds = download.download_and_transform(collection_id, request, chunks={\"year\": 1})\n",
    "ds = (\n",
    "    ds.squeeze(drop=True)\n",
    "    .set_coords([var for var, da in ds.data_vars.items() if set(da.dims) == {\"time\"}])\n",
    "    .compute()\n",
    ")\n",
    "ds_monthly = ds.groupby(\"month\").mean()"
   ]
  },
  {
   "cell_type": "markdown",
   "id": "9",
   "metadata": {},
   "source": [
    "## Plot seasonal cycle"
   ]
  },
  {
   "cell_type": "code",
   "execution_count": null,
   "id": "10",
   "metadata": {},
   "outputs": [],
   "source": [
    "da = ds_monthly[\"Q\"].assign_coords(\n",
    "    month=[calendar.month_abbr[month] for month in ds_monthly[\"month\"].values]\n",
    ")\n",
    "\n",
    "plot_kwargs = {\"x\": \"month\", \"levels\": 9}\n",
    "for alt_start, alt_stop in zip(bins[:-1], bins[1:]):\n",
    "    title = f\"{da['alt'].attrs['long_name']}: {alt_start}-{alt_stop} {da['alt'].attrs['units']}\"\n",
    "    da_slice = da.sel(alt=slice(alt_start, alt_stop)).mean(\"alt\", keep_attrs=True)\n",
    "    da_slice.plot.contourf(cmap=\"Blues\", **plot_kwargs)\n",
    "    da_slice.plot.contour(colors=\"k\", linewidths=0.5, **plot_kwargs)\n",
    "    plt.title(title)\n",
    "    plt.show()"
   ]
  },
  {
   "cell_type": "markdown",
   "id": "11",
   "metadata": {},
   "source": [
    "## Plot interannual anomaly"
   ]
  },
  {
   "cell_type": "code",
   "execution_count": null,
   "id": "12",
   "metadata": {},
   "outputs": [],
   "source": [
    "with xr.set_options(keep_attrs=True):\n",
    "    da = ds[\"Q\"].groupby(\"month\") - ds_monthly[\"Q\"]\n",
    "da.attrs[\"long_name\"] = f\"Deseasonalized anomaly of {da.attrs['long_name']}\"\n",
    "for alt_start, alt_stop in zip(bins[:-1], bins[1:]):\n",
    "    title = f\"{da['alt'].attrs['long_name']}: {alt_start}-{alt_stop} {da['alt'].attrs['units']}\"\n",
    "    if alt_start < 4_000:\n",
    "        vmax = 1.5\n",
    "    elif alt_start > 4_000:\n",
    "        vmax = 0.4\n",
    "    else:\n",
    "        vmax = 0.9\n",
    "    da_slice = da.sel(alt=slice(alt_start, alt_stop)).mean(\"alt\", keep_attrs=True)\n",
    "    da_slice.plot.contourf(x=\"time\", cmap=\"seismic\", center=0, vmax=vmax, levels=101)\n",
    "    plt.title(title)\n",
    "    plt.show()"
   ]
  },
  {
   "cell_type": "markdown",
   "id": "13",
   "metadata": {},
   "source": [
    "## Plot interannual anomaly %"
   ]
  },
  {
   "cell_type": "code",
   "execution_count": null,
   "id": "14",
   "metadata": {},
   "outputs": [],
   "source": [
    "with xr.set_options(keep_attrs=True):\n",
    "    da = 100 * (ds[\"Q\"].groupby(\"time.month\") / ds_monthly[\"Q\"] - 1)\n",
    "da.attrs |= {\n",
    "    \"long_name\": f\"Deseasonalized anomaly of {da.attrs['long_name']}\",\n",
    "    \"units\": \"%\",\n",
    "}\n",
    "for alt_start, alt_stop in zip(bins[:-1], bins[1:]):\n",
    "    title = f\"{da['alt'].attrs['long_name']}: {alt_start}-{alt_stop} {da['alt'].attrs['units']}\"\n",
    "    da_slice = da.sel(alt=slice(alt_start, alt_stop)).mean(\"alt\", keep_attrs=True)\n",
    "    da_slice.plot.contourf(\n",
    "        x=\"time\", cmap=\"seismic\", center=0, vmax=50, levels=101, extend=\"both\"\n",
    "    )\n",
    "    plt.title(title)\n",
    "    plt.show()"
   ]
  }
 ],
 "metadata": {
  "kernelspec": {
   "display_name": "Python 3 (ipykernel)",
   "language": "python",
   "name": "python3"
  },
  "language_info": {
   "codemirror_mode": {
    "name": "ipython",
    "version": 3
   },
   "file_extension": ".py",
   "mimetype": "text/x-python",
   "name": "python",
   "nbconvert_exporter": "python",
   "pygments_lexer": "ipython3",
   "version": "3.10.12"
  }
 },
 "nbformat": 4,
 "nbformat_minor": 5
}
