{
 "cells": [
  {
   "attachments": {},
   "cell_type": "markdown",
   "id": "0",
   "metadata": {},
   "source": [
    "# SST trends"
   ]
  },
  {
   "attachments": {},
   "cell_type": "markdown",
   "id": "1",
   "metadata": {},
   "source": [
    "## Import packages"
   ]
  },
  {
   "cell_type": "code",
   "execution_count": null,
   "id": "2",
   "metadata": {},
   "outputs": [],
   "source": [
    "import tempfile\n",
    "\n",
    "import cacholote\n",
    "import cartopy.crs as ccrs\n",
    "import matplotlib.pyplot as plt\n",
    "import tqdm\n",
    "import xarray as xr\n",
    "from c3s_eqc_automatic_quality_control import download, plot\n",
    "from xarrayMannKendall import Mann_Kendall_test\n",
    "\n",
    "plt.style.use(\"seaborn-v0_8-notebook\")"
   ]
  },
  {
   "attachments": {},
   "cell_type": "markdown",
   "id": "3",
   "metadata": {},
   "source": [
    "## Define Parameters"
   ]
  },
  {
   "cell_type": "code",
   "execution_count": null,
   "id": "4",
   "metadata": {
    "editable": true,
    "slideshow": {
     "slide_type": ""
    },
    "tags": [
     "parameters"
    ]
   },
   "outputs": [],
   "source": [
    "# Time\n",
    "# Note: Time period from December year_start-1 to November year_stop\n",
    "year_start = 1982\n",
    "year_stop = 2011"
   ]
  },
  {
   "attachments": {},
   "cell_type": "markdown",
   "id": "5",
   "metadata": {},
   "source": [
    "## Define Parameters"
   ]
  },
  {
   "cell_type": "code",
   "execution_count": null,
   "id": "6",
   "metadata": {},
   "outputs": [],
   "source": [
    "# Requests\n",
    "request_dicts = {\n",
    "    \"ESACCI\": {\n",
    "        \"collection_id\": \"satellite-sea-surface-temperature\",\n",
    "        \"request\": {\n",
    "            \"processinglevel\": \"level_4\",\n",
    "            \"format\": \"zip\",\n",
    "            \"variable\": \"all\",\n",
    "            \"sensor_on_satellite\": \"combined_product\",\n",
    "            \"version\": \"2_1\",\n",
    "        },\n",
    "        \"chunks\": {\"year\": 1, \"month\": 1},\n",
    "    },\n",
    "    \"GMPE\": {\n",
    "        \"collection_id\": \"satellite-sea-surface-temperature-ensemble-product\",\n",
    "        \"request\": {\n",
    "            \"format\": \"zip\",\n",
    "            \"variable\": \"all\",\n",
    "        },\n",
    "        \"chunks\": {\"year\": 1, \"month\": 1, \"day\": 12},  # CDS limit is 12\n",
    "    },\n",
    "}\n",
    "\n",
    "# Parameters to speed up I/O\n",
    "open_mfdataset_kwargs = {\n",
    "    \"concat_dim\": \"time\",\n",
    "    \"combine\": \"nested\",\n",
    "    \"data_vars\": \"minimal\",\n",
    "    \"coords\": \"minimal\",\n",
    "    \"compat\": \"override\",\n",
    "    \"parallel\": True,\n",
    "}"
   ]
  },
  {
   "attachments": {},
   "cell_type": "markdown",
   "id": "7",
   "metadata": {},
   "source": [
    "## Functions to cache"
   ]
  },
  {
   "cell_type": "code",
   "execution_count": null,
   "id": "8",
   "metadata": {},
   "outputs": [],
   "source": [
    "def get_masked_sst(ds):\n",
    "    da = ds[\"analysed_sst\"]\n",
    "    if \"mask\" in ds:\n",
    "        da = da.where(ds[\"mask\"] == 1)\n",
    "    with xr.set_options(keep_attrs=True):\n",
    "        da -= 273.15\n",
    "    da.attrs[\"units\"] = \"°C\"\n",
    "    return da\n",
    "\n",
    "\n",
    "def add_chunksizes(da):\n",
    "    da.encoding[\"chunksizes\"] = tuple(map(max, da.chunks))\n",
    "    return da\n",
    "\n",
    "\n",
    "def rechunk(obj):\n",
    "    \"\"\"Use NetCDF chunks.\"\"\"\n",
    "    chunks = {\"time\": 1, \"year\": 1, \"season\": 1, \"latitude\": 1_200, \"longitude\": 2_400}\n",
    "    obj = obj.chunk(\n",
    "        **{dim: chunksize for dim, chunksize in chunks.items() if dim in obj.dims}\n",
    "    )\n",
    "    if isinstance(obj, xr.DataArray):\n",
    "        return add_chunksizes(obj)\n",
    "    for da in obj.data_vars.values():\n",
    "        add_chunksizes(da)\n",
    "    return obj\n",
    "\n",
    "\n",
    "def compute_low_resolution(ds, freq):\n",
    "    ds = rechunk(ds)\n",
    "    da = get_masked_sst(ds)\n",
    "    target_sizes = {\"latitude\": 720, \"longitude\": 1440}\n",
    "    coarsen_dims = {\n",
    "        dim: ratio\n",
    "        for dim, target_size in target_sizes.items()\n",
    "        if (ratio := da.sizes[dim] // target_size) > 1\n",
    "    }\n",
    "    with xr.set_options(keep_attrs=True):\n",
    "        if coarsen_dims:\n",
    "            da = da.coarsen(coarsen_dims).mean()\n",
    "        da = da.sortby(\"time\").resample(time=freq).mean()\n",
    "    for coord in da.coords:\n",
    "        da[coord].attrs = ds[coord].attrs\n",
    "    return rechunk(da).to_dataset()\n",
    "\n",
    "\n",
    "def _mann_kendall(da, **kwargs):\n",
    "    da = da.chunk({dim: -1 if dim == \"time\" else \"auto\" for dim in da.dims})\n",
    "    coords_name = {\"time\": \"time\", \"x\": \"longitude\", \"y\": \"latitude\"}\n",
    "    with tempfile.TemporaryDirectory() as tmpdir:\n",
    "        da.to_zarr(tmpdir)\n",
    "        da = xr.open_dataarray(tmpdir, engine=\"zarr\", chunks=dict(da.chunksizes))\n",
    "        ds_trend = Mann_Kendall_test(da, coords_name=coords_name, **kwargs).compute()\n",
    "\n",
    "    ds_trend = ds_trend.rename({k: v for k, v in coords_name.items() if k != \"time\"})\n",
    "    for coord in ds_trend.coords:\n",
    "        ds_trend[coord].attrs = da[coord].attrs\n",
    "    ds_trend[\"trend\"].attrs[\"long_name\"] = f\"Trend of {da.attrs['long_name']}\"\n",
    "    return ds_trend\n",
    "\n",
    "\n",
    "@cacholote.cacheable\n",
    "def compute_mann_kendall_trend(\n",
    "    collection_id,\n",
    "    request,\n",
    "    chunks,\n",
    "    year_start,\n",
    "    year_stop,\n",
    "    seasonal,\n",
    "    open_mfdataset_kwargs,\n",
    "    **mann_kendall_kwargs,\n",
    "):\n",
    "    dataarrays = []\n",
    "    for year in tqdm.tqdm(range(year_start, year_stop + 1), desc=\"annual\"):\n",
    "        requests = download.update_request_date(\n",
    "            request, start=f\"{year-1}-12\", stop=f\"{year}-11\", stringify_dates=True\n",
    "        )\n",
    "        ds = download.download_and_transform(\n",
    "            collection_id=collection_id,\n",
    "            requests=requests,\n",
    "            chunks=chunks,\n",
    "            transform_chunks=False,\n",
    "            transform_func=compute_low_resolution,\n",
    "            transform_func_kwargs={\"freq\": \"QE-DEC\" if seasonal else \"MS\"},\n",
    "            **open_mfdataset_kwargs,\n",
    "        )\n",
    "        dataarrays.append(rechunk(ds[\"analysed_sst\"]))\n",
    "    da = xr.concat(dataarrays, \"time\")\n",
    "\n",
    "    if seasonal:\n",
    "        ds = da.groupby(\"time.season\").map(_mann_kendall, **mann_kendall_kwargs)\n",
    "        ds[\"trend\"].attrs[\"units\"] = f\"{da.attrs['units']}/year\"\n",
    "    else:\n",
    "        ds = da.groupby(\"time.year\").map(_mann_kendall, **mann_kendall_kwargs)\n",
    "        ds[\"trend\"].attrs[\"units\"] = f\"{da.attrs['units']}/year\"\n",
    "    return rechunk(ds)"
   ]
  },
  {
   "cell_type": "markdown",
   "id": "9",
   "metadata": {},
   "source": [
    "## Download and transform"
   ]
  },
  {
   "cell_type": "code",
   "execution_count": null,
   "id": "10",
   "metadata": {},
   "outputs": [],
   "source": [
    "maps_datasets = {}\n",
    "for seasonal in (True, False):\n",
    "    datasets = []\n",
    "    for product, request_dict in request_dicts.items():\n",
    "        print(f\"{seasonal=} {product=}\")\n",
    "        ds = compute_mann_kendall_trend(\n",
    "            **request_dict,\n",
    "            year_start=year_start,\n",
    "            year_stop=year_stop,\n",
    "            seasonal=seasonal,\n",
    "            open_mfdataset_kwargs=open_mfdataset_kwargs,\n",
    "            # Mann Kendall settings\n",
    "            alpha=0.05,\n",
    "            method=\"theilslopes\",\n",
    "        )\n",
    "        for coord in (\"longitude\", \"latitude\"):\n",
    "            ds[coord] = ds[coord].round(3)\n",
    "        if not seasonal:\n",
    "            ds = ds.mean(\"year\", keep_attrs=True)\n",
    "        ds = ds.expand_dims(product=[product])\n",
    "        datasets.append(rechunk(ds))\n",
    "    maps_datasets[f\"{seasonal=}\"] = xr.concat(datasets, \"product\")\n",
    "del datasets"
   ]
  },
  {
   "cell_type": "markdown",
   "id": "11",
   "metadata": {},
   "source": [
    "## Plot Maps"
   ]
  },
  {
   "cell_type": "code",
   "execution_count": null,
   "id": "12",
   "metadata": {},
   "outputs": [],
   "source": [
    "projection = ccrs.Robinson()\n",
    "for ds in maps_datasets.values():\n",
    "    facet = plot.projected_map(\n",
    "        ds[\"trend\"],\n",
    "        projection=projection,\n",
    "        row=\"season\" if \"season\" in ds.dims else None,\n",
    "        col=\"product\",\n",
    "        robust=True,\n",
    "        center=0,\n",
    "    )\n",
    "    for ax, sel_dict in zip(facet.axs.flatten(), facet.name_dicts.flatten()):\n",
    "        title = ax.get_title()\n",
    "        p_value = ds[\"p\"].sel(**sel_dict).reset_coords(drop=True)\n",
    "        plot.projected_map(\n",
    "            p_value,\n",
    "            projection=projection,\n",
    "            show_stats=False,\n",
    "            ax=ax,\n",
    "            cmap=\"none\",\n",
    "            add_colorbar=False,\n",
    "            plot_func=\"contourf\",\n",
    "            levels=[0, 0.05, 1],\n",
    "            hatches=[\"\", \"/\" * 5],\n",
    "        )\n",
    "        ax.set_title(title)\n",
    "    plt.show()"
   ]
  }
 ],
 "metadata": {
  "kernelspec": {
   "display_name": "Python 3 (ipykernel)",
   "language": "python",
   "name": "python3"
  },
  "language_info": {
   "codemirror_mode": {
    "name": "ipython",
    "version": 3
   },
   "file_extension": ".py",
   "mimetype": "text/x-python",
   "name": "python",
   "nbconvert_exporter": "python",
   "pygments_lexer": "ipython3",
   "version": "3.11.9"
  }
 },
 "nbformat": 4,
 "nbformat_minor": 5
}
