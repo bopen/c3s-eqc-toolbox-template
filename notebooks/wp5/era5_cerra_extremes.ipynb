{
 "cells": [
  {
   "attachments": {},
   "cell_type": "markdown",
   "id": "fd44013f",
   "metadata": {},
   "source": [
    "# ERA5 vs CERRA Extremes"
   ]
  },
  {
   "attachments": {},
   "cell_type": "markdown",
   "id": "166a52f6",
   "metadata": {},
   "source": [
    "## Import packages"
   ]
  },
  {
   "cell_type": "code",
   "execution_count": null,
   "id": "72d7c509",
   "metadata": {},
   "outputs": [],
   "source": [
    "import calendar\n",
    "\n",
    "import cartopy.crs as ccrs\n",
    "import matplotlib.pyplot as plt\n",
    "import xarray as xr\n",
    "from c3s_eqc_automatic_quality_control import download, plot, utils\n",
    "\n",
    "plt.style.use(\"seaborn-v0_8-notebook\")"
   ]
  },
  {
   "attachments": {},
   "cell_type": "markdown",
   "id": "0fdec8c0",
   "metadata": {},
   "source": [
    "## Define Parameters"
   ]
  },
  {
   "cell_type": "code",
   "execution_count": null,
   "id": "ff02c001-030a-467a-aa40-b0f9f39803da",
   "metadata": {},
   "outputs": [],
   "source": [
    "# Select time range\n",
    "year_start = 1985\n",
    "year_stop = 1985\n",
    "\n",
    "# Select month of interest\n",
    "month = 8\n",
    "assert month in range(1, 13), f\"{month=} is invalid\"\n",
    "\n",
    "# Select region of interest\n",
    "region = \"Lazio\"\n",
    "region_slices = {\n",
    "    \"Alps\": {\"lon_slice\": slice(5, 15), \"lat_slice\": slice(48, 43)},\n",
    "    \"Scandinavia\": {\"lon_slice\": slice(10, 42), \"lat_slice\": slice(72, 62)},\n",
    "    \"Lazio\": {\"lon_slice\": slice(11, 14), \"lat_slice\": slice(43, 41)},\n",
    "    \"Italy\": {\"lon_slice\": slice(6, 19), \"lat_slice\": slice(48, 36)},\n",
    "}\n",
    "assert region in region_slices, f\"{region=} is invalid\""
   ]
  },
  {
   "attachments": {},
   "cell_type": "markdown",
   "id": "6ed1f579",
   "metadata": {},
   "source": [
    "## Define request"
   ]
  },
  {
   "cell_type": "code",
   "execution_count": null,
   "id": "8b37a1e7-48c7-4c92-8d59-2cbcc972ff82",
   "metadata": {},
   "outputs": [],
   "source": [
    "requests_dict = {\n",
    "    \"reanalysis-era5-single-levels\": {\n",
    "        \"product_type\": \"reanalysis\",\n",
    "        \"format\": \"grib\",\n",
    "        \"variable\": \"2m_temperature\",\n",
    "        \"time\": [f\"{i:02d}:00\" for i in range(24)],\n",
    "    },\n",
    "    \"reanalysis-cerra-single-levels\": {\n",
    "        \"variable\": \"2m_temperature\",\n",
    "        \"level_type\": \"surface_or_atmosphere\",\n",
    "        \"data_type\": \"reanalysis\",\n",
    "        \"product_type\": \"analysis\",\n",
    "        \"time\": [f\"{i:02d}:00\" for i in range(0, 24, 3)],\n",
    "        \"format\": \"grib\",\n",
    "    },\n",
    "}"
   ]
  },
  {
   "attachments": {},
   "cell_type": "markdown",
   "id": "7be2de55",
   "metadata": {},
   "source": [
    "## Functions to cache"
   ]
  },
  {
   "cell_type": "code",
   "execution_count": null,
   "id": "3e0799a7-cd9d-4973-af20-5e47a494f856",
   "metadata": {},
   "outputs": [],
   "source": [
    "def regionalised_max(ds, lon_slice, lat_slice):\n",
    "    time = ds[\"forecast_reference_time\"].mean()\n",
    "    ds = utils.regionalise(ds, lon_slice=lon_slice, lat_slice=lat_slice)\n",
    "    ds = ds.max(\"forecast_reference_time\", keep_attrs=True)\n",
    "    return ds.expand_dims(time=[time.values])"
   ]
  },
  {
   "attachments": {},
   "cell_type": "markdown",
   "id": "a2fcaf72",
   "metadata": {},
   "source": [
    "## Download and transform"
   ]
  },
  {
   "cell_type": "code",
   "execution_count": null,
   "id": "07d2bcb5-38e6-4485-86b4-40ee2940f80a",
   "metadata": {},
   "outputs": [],
   "source": [
    "dataarrays = {}\n",
    "for collection_id, request in requests_dict.items():\n",
    "    requests = []\n",
    "    for year in range(year_start, year_stop + 1):\n",
    "        time_request = {\n",
    "            \"year\": year,\n",
    "            \"month\": month,\n",
    "            \"day\": list(range(1, calendar.monthrange(year, month)[1] + 1)),\n",
    "        }\n",
    "        requests.append(request | time_request)\n",
    "    ds = download.download_and_transform(\n",
    "        collection_id,\n",
    "        requests,\n",
    "        transform_func=regionalised_max,\n",
    "        transform_func_kwargs=region_slices[region],\n",
    "    )\n",
    "    da = ds[\"t2m\"].max(\"time\", keep_attrs=True)\n",
    "    with xr.set_options(keep_attrs=True):\n",
    "        da -= 273.15\n",
    "    da.attrs[\"units\"] = \"°C\"\n",
    "    dataarrays[collection_id] = da"
   ]
  },
  {
   "attachments": {},
   "cell_type": "markdown",
   "id": "6013d53b",
   "metadata": {},
   "source": [
    "## Plot maps"
   ]
  },
  {
   "cell_type": "code",
   "execution_count": null,
   "id": "68bb8feb-9bba-4b5c-9f2b-04a24c46d135",
   "metadata": {},
   "outputs": [],
   "source": [
    "# Set common cbar and projection\n",
    "vmin = min([da.min().values for da in dataarrays.values()])\n",
    "vmax = max([da.max().values for da in dataarrays.values()])\n",
    "lon_slice = region_slices[region][\"lon_slice\"]\n",
    "lat_slice = region_slices[region][\"lat_slice\"]\n",
    "projection = ccrs.LambertConformal(\n",
    "    central_longitude=(lon_slice.start + lon_slice.stop) / 2,\n",
    "    central_latitude=(lat_slice.start + lat_slice.stop) / 2,\n",
    ")\n",
    "extent = [\n",
    "    min(lon_slice.start, lon_slice.stop),\n",
    "    max(lon_slice.start, lon_slice.stop),\n",
    "    min(lat_slice.start, lat_slice.stop),\n",
    "    max(lat_slice.start, lat_slice.stop),\n",
    "]\n",
    "\n",
    "# Plot maps\n",
    "for collection_id, da in dataarrays.items():\n",
    "    plot.projected_map(da, projection=projection, vmin=vmin, vmax=vmax, cmap=\"turbo\")\n",
    "    plot_obj = plt.title(\n",
    "        f\"{collection_id.split('-')[1].upper()} Extrema \"\n",
    "        f\"- {calendar.month_name[month]} ({year_start}, {year_stop})\"\n",
    "    )\n",
    "    plot_obj.axes.set_extent(extent)\n",
    "    gl = plot_obj.axes._gridliners[0]\n",
    "    gl.x_inline = False\n",
    "    gl.xlabel_style = {\"rotation\": 0}\n",
    "    plt.show()"
   ]
  },
  {
   "attachments": {},
   "cell_type": "markdown",
   "id": "d4c8eaaa",
   "metadata": {},
   "source": [
    "## Plot historgram"
   ]
  },
  {
   "cell_type": "code",
   "execution_count": null,
   "id": "9441b252-da55-4dbe-a348-bf41cc993ede",
   "metadata": {},
   "outputs": [],
   "source": [
    "stacked_data = {\n",
    "    collection_id: da.stack(dim=da.dims).values\n",
    "    for collection_id, da in dataarrays.items()\n",
    "}\n",
    "fig, ax = plt.subplots()\n",
    "ax.hist(\n",
    "    stacked_data.values(),\n",
    "    bins=30,\n",
    "    density=True,\n",
    "    color=[\"#155084\", \"#fd3c06\"],\n",
    "    label=[label.split(\"-\")[1].upper() for label in dataarrays],\n",
    ")\n",
    "ax.set_yscale(\"log\")\n",
    "ax.set_xlabel(f\"{da.attrs['long_name']} [{da.attrs['units']}]\")\n",
    "ax.set_ylabel(\"Probability density\")\n",
    "ax.legend()\n",
    "_ = ax.set_title(f\"Extrema - {calendar.month_name[month]} ({year_start}, {year_stop})\")"
   ]
  }
 ],
 "metadata": {
  "kernelspec": {
   "display_name": "Python 3 (ipykernel)",
   "language": "python",
   "name": "python3"
  },
  "language_info": {
   "codemirror_mode": {
    "name": "ipython",
    "version": 3
   },
   "file_extension": ".py",
   "mimetype": "text/x-python",
   "name": "python",
   "nbconvert_exporter": "python",
   "pygments_lexer": "ipython3",
   "version": "3.10.12"
  }
 },
 "nbformat": 4,
 "nbformat_minor": 5
}
