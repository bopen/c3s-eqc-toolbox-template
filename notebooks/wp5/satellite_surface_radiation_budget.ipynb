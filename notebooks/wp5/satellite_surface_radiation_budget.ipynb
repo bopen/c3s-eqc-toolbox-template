{
 "cells": [
  {
   "cell_type": "markdown",
   "id": "17152bfd",
   "metadata": {},
   "source": [
    "# Satellite surface radiation budget"
   ]
  },
  {
   "cell_type": "markdown",
   "id": "dda03740",
   "metadata": {},
   "source": [
    "## Import packages"
   ]
  },
  {
   "cell_type": "code",
   "execution_count": null,
   "id": "e18c33d2-db62-437e-8091-dceffb7c3020",
   "metadata": {},
   "outputs": [],
   "source": [
    "import cartopy.crs as ccrs\n",
    "import matplotlib.pyplot as plt\n",
    "import numpy as np\n",
    "import pandas as pd\n",
    "from c3s_eqc_automatic_quality_control import diagnostics, download, plot, utils\n",
    "\n",
    "plt.style.use(\"seaborn-v0_8-notebook\")"
   ]
  },
  {
   "cell_type": "markdown",
   "id": "46eaa120",
   "metadata": {},
   "source": [
    "## Define Parameters"
   ]
  },
  {
   "cell_type": "code",
   "execution_count": null,
   "id": "25aeaa90-3bf9-4fa6-8e8d-4851decba0e8",
   "metadata": {},
   "outputs": [],
   "source": [
    "# Variables to analyse\n",
    "variables = (\"srs\", \"sis\", \"sdl\", \"sol\")"
   ]
  },
  {
   "cell_type": "markdown",
   "id": "c16601d9",
   "metadata": {},
   "source": [
    "## Define requests"
   ]
  },
  {
   "cell_type": "code",
   "execution_count": null,
   "id": "654dad4f-c705-4422-b809-3b1d26912c43",
   "metadata": {},
   "outputs": [],
   "source": [
    "collection_id = \"satellite-surface-radiation-budget\"\n",
    "chunks = {\"year\": 1}\n",
    "request_dict = {\n",
    "    \"CLARA C3S\": {\n",
    "        \"start\": \"2016-01\",\n",
    "        \"stop\": \"2017-12\",\n",
    "        \"climate_data_record_type\": \"thematic_climate_data_record\",\n",
    "        \"format\": \"zip\",\n",
    "        \"origin\": \"c3s\",\n",
    "        \"product_family\": \"clara\",\n",
    "        \"sensor_on_satellite\": \"avhrr_on_multiple_satellites\",\n",
    "        \"time_aggregation\": \"monthly_mean\",\n",
    "        \"variable\": \"surface_upwelling_shortwave_flux\",\n",
    "        \"version\": \"v2_0_1\",\n",
    "    },\n",
    "    \"CLARA EUMETSAT\": {\n",
    "        \"start\": \"2014-01\",\n",
    "        \"stop\": \"2017-12\",\n",
    "        \"climate_data_record_type\": \"thematic_climate_data_record\",\n",
    "        \"format\": \"zip\",\n",
    "        \"origin\": \"eumetsat\",\n",
    "        \"product_family\": \"clara\",\n",
    "        \"sensor_on_satellite\": \"avhrr_on_multiple_satellites\",\n",
    "        \"time_aggregation\": \"monthly_mean\",\n",
    "        \"variable\": [\n",
    "            \"surface_downwelling_longwave_flux\",\n",
    "            \"surface_downwelling_shortwave_flux\",\n",
    "            \"surface_upwelling_longwave_flux\",\n",
    "        ],\n",
    "        \"version\": \"v2_0\",\n",
    "    },\n",
    "    \"ESA ENVISAT\": {\n",
    "        \"start\": \"2007-01\",\n",
    "        \"stop\": \"2010-12\",\n",
    "        \"climate_data_record_type\": \"thematic_climate_data_record\",\n",
    "        \"format\": \"zip\",\n",
    "        \"origin\": \"esa\",\n",
    "        \"product_family\": \"cci\",\n",
    "        \"sensor_on_satellite\": \"aatsr_on_envisat\",\n",
    "        \"time_aggregation\": \"monthly_mean\",\n",
    "        \"variable\": \"all_variables\",\n",
    "    },\n",
    "    \"ESA ERS2\": {\n",
    "        \"start\": \"2000-01\",\n",
    "        \"stop\": \"2002-12\",\n",
    "        \"climate_data_record_type\": \"thematic_climate_data_record\",\n",
    "        \"format\": \"zip\",\n",
    "        \"origin\": \"esa\",\n",
    "        \"product_family\": \"cci\",\n",
    "        \"sensor_on_satellite\": \"atsr2_on_ers2\",\n",
    "        \"time_aggregation\": \"monthly_mean\",\n",
    "        \"variable\": \"all_variables\",\n",
    "    },\n",
    "    \"Sentinel 3A\": {\n",
    "        \"start\": \"2019-01\",\n",
    "        \"stop\": \"2020-12\",\n",
    "        \"climate_data_record_type\": \"interim_climate_data_record\",\n",
    "        \"format\": \"zip\",\n",
    "        \"origin\": \"c3s\",\n",
    "        \"product_family\": \"cci\",\n",
    "        \"sensor_on_satellite\": \"slstr_on_sentinel_3a_is_under_investigation\",\n",
    "        \"time_aggregation\": \"monthly_mean\",\n",
    "        \"variable\": \"all_variables\",\n",
    "    },\n",
    "    \"Sentinel 3B\": {\n",
    "        \"start\": \"2019-01\",\n",
    "        \"stop\": \"2020-12\",\n",
    "        \"climate_data_record_type\": \"interim_climate_data_record\",\n",
    "        \"format\": \"zip\",\n",
    "        \"origin\": \"c3s\",\n",
    "        \"product_family\": \"cci\",\n",
    "        \"sensor_on_satellite\": \"slstr_on_sentinel_3b_is_under_investigation\",\n",
    "        \"time_aggregation\": \"monthly_mean\",\n",
    "        \"variable\": \"all_variables\",\n",
    "    },\n",
    "}"
   ]
  },
  {
   "cell_type": "markdown",
   "id": "ad18818a",
   "metadata": {},
   "source": [
    "## Functions to cache"
   ]
  },
  {
   "cell_type": "code",
   "execution_count": null,
   "id": "fccefd52-7245-47c5-9707-f5051a1c37fd",
   "metadata": {},
   "outputs": [],
   "source": [
    "def convert_source_to_time(ds):\n",
    "    if \"source\" in ds.dims:\n",
    "        ds[\"time\"] = (\n",
    "            \"source\",\n",
    "            pd.to_datetime(\n",
    "                [source.split(\"_\")[-2] + \"15\" for source in ds[\"source\"].values],\n",
    "                format=\"%Y%m%d\",\n",
    "            ),\n",
    "        )\n",
    "        ds[\"time\"].attrs[\"standard_name\"] = \"time\"\n",
    "        ds = ds.swap_dims(source=\"time\").drop(\"source\")\n",
    "    return ds\n",
    "\n",
    "\n",
    "def spatial_weighted_mean(ds, lon_slice, lat_slice):\n",
    "    ds = convert_source_to_time(ds)\n",
    "    ds = utils.regionalise(ds, lon_slice=lon_slice, lat_slice=lat_slice)\n",
    "    return diagnostics.spatial_weighted_mean(ds)\n",
    "\n",
    "\n",
    "def time_weighted_mean(ds):\n",
    "    ds = convert_source_to_time(ds)\n",
    "    return diagnostics.time_weighted_mean(ds)"
   ]
  },
  {
   "cell_type": "markdown",
   "id": "f6351e7d",
   "metadata": {},
   "source": [
    "## Download and transform"
   ]
  },
  {
   "cell_type": "code",
   "execution_count": null,
   "id": "00483f3d-cb7b-4625-9c09-0333daebf6ef",
   "metadata": {},
   "outputs": [],
   "source": [
    "ds_maps = {}\n",
    "ds_timeseries = {}\n",
    "for product, request in request_dict.items():\n",
    "    print(f\"{product}\")\n",
    "    start = request.pop(\"start\")\n",
    "    stop = request.pop(\"stop\")\n",
    "    requests = download.update_request_date(\n",
    "        request, start=start, stop=stop, stringify_dates=True\n",
    "    )\n",
    "\n",
    "    # Maps\n",
    "    ds = download.download_and_transform(\n",
    "        collection_id,\n",
    "        requests,\n",
    "        transform_func=time_weighted_mean,\n",
    "        chunks=chunks,\n",
    "        transform_chunks=False,\n",
    "        drop_variables=\"time_bounds\",\n",
    "    )\n",
    "    ds.attrs.update({\"start\": start, \"stop\": stop})\n",
    "    ds_maps[product] = ds.rename({var: var.lower() for var in ds.data_vars})\n",
    "\n",
    "    # Timeseries\n",
    "    ds = download.download_and_transform(\n",
    "        collection_id,\n",
    "        requests,\n",
    "        transform_func=spatial_weighted_mean,\n",
    "        transform_func_kwargs={\n",
    "            \"lon_slice\": slice(-180, 180),\n",
    "            \"lat_slice\": slice(-90, 90),\n",
    "        },\n",
    "        chunks=chunks,\n",
    "        drop_variables=\"time_bounds\",\n",
    "    )\n",
    "    ds_timeseries[product] = ds.rename({var: var.lower() for var in ds.data_vars})"
   ]
  },
  {
   "cell_type": "markdown",
   "id": "0f0a9880",
   "metadata": {},
   "source": [
    "## Plot spatial weighted timeseries"
   ]
  },
  {
   "cell_type": "code",
   "execution_count": null,
   "id": "0fca4955-9a1a-4b4b-b4e5-298f47af03a8",
   "metadata": {},
   "outputs": [],
   "source": [
    "for var in variables:\n",
    "    for i, (product, ds) in enumerate(ds_timeseries.items()):\n",
    "        if var not in ds.data_vars:\n",
    "            continue\n",
    "        ds[var].plot(label=product, color=f\"C{i}\")\n",
    "    plt.legend(bbox_to_anchor=(1, 1))\n",
    "    plt.grid()\n",
    "    plt.show()"
   ]
  },
  {
   "cell_type": "markdown",
   "id": "15a61ce9",
   "metadata": {},
   "source": [
    "## Plot time weighted means"
   ]
  },
  {
   "cell_type": "code",
   "execution_count": null,
   "id": "3182a9ac-decd-4acd-8168-1d327d5cf977",
   "metadata": {},
   "outputs": [],
   "source": [
    "for var in variables:\n",
    "    vmin = min([ds[var].min().values for ds in ds_maps.values() if var in ds.data_vars])\n",
    "    vmax = max([ds[var].max().values for ds in ds_maps.values() if var in ds.data_vars])\n",
    "    for product, ds in ds_maps.items():\n",
    "        if var not in ds.data_vars:\n",
    "            continue\n",
    "        plot.projected_map(\n",
    "            ds[var],\n",
    "            projection=ccrs.Robinson(),\n",
    "            levels=11,\n",
    "            vmin=np.floor(vmin),\n",
    "            vmax=np.ceil(vmax),\n",
    "            cmap=\"RdBu_r\",\n",
    "        )\n",
    "        plt.title(f\"{product} ({ds.attrs['start']}, {ds.attrs['stop']})\")\n",
    "        plt.show()"
   ]
  },
  {
   "cell_type": "markdown",
   "id": "0b54b796",
   "metadata": {},
   "source": [
    "## Plot spatial weighted zonal means"
   ]
  },
  {
   "cell_type": "code",
   "execution_count": null,
   "id": "8a68f427-25e8-4938-8886-76f2253d13a6",
   "metadata": {},
   "outputs": [],
   "source": [
    "for var in variables:\n",
    "    for i, (product, ds) in enumerate(ds_maps.items()):\n",
    "        if var not in ds.data_vars:\n",
    "            continue\n",
    "        da = diagnostics.spatial_weighted_mean(ds[var], dim=\"longitude\")\n",
    "        da.plot(y=\"latitude\", color=f\"C{i}\", label=product)\n",
    "    plt.legend(bbox_to_anchor=(1, 1))\n",
    "    plt.grid()\n",
    "    plt.show()"
   ]
  }
 ],
 "metadata": {
  "kernelspec": {
   "display_name": "Python 3 (ipykernel)",
   "language": "python",
   "name": "python3"
  },
  "language_info": {
   "codemirror_mode": {
    "name": "ipython",
    "version": 3
   },
   "file_extension": ".py",
   "mimetype": "text/x-python",
   "name": "python",
   "nbconvert_exporter": "python",
   "pygments_lexer": "ipython3",
   "version": "3.10.12"
  }
 },
 "nbformat": 4,
 "nbformat_minor": 5
}
