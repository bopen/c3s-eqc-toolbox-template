{
 "cells": [
  {
   "cell_type": "markdown",
   "id": "ac59558e-882e-4273-ac79-f484d43bad61",
   "metadata": {},
   "source": [
    "# Upper tropospheric humidity: Climatology of global the upper tropospheric humidity and uncertainty"
   ]
  },
  {
   "cell_type": "markdown",
   "id": "965cfa78",
   "metadata": {},
   "source": [
    "## Import packages"
   ]
  },
  {
   "cell_type": "code",
   "execution_count": null,
   "id": "106e07d6-8465-4d2a-b915-5ab13931b688",
   "metadata": {},
   "outputs": [],
   "source": [
    "import cartopy.crs as ccrs\n",
    "import matplotlib.pyplot as plt\n",
    "import pandas as pd\n",
    "import xarray as xr\n",
    "from c3s_eqc_automatic_quality_control import diagnostics, download, plot"
   ]
  },
  {
   "cell_type": "markdown",
   "id": "b3188d29",
   "metadata": {},
   "source": [
    "## Define Parameters"
   ]
  },
  {
   "cell_type": "code",
   "execution_count": null,
   "id": "0fc2f40b-c9d0-4996-9ddf-e4e9d7a3e996",
   "metadata": {},
   "outputs": [],
   "source": [
    "# Variables\n",
    "variables = [\"uth_mean_ascend_descend\"]\n",
    "assert set(variables) <= {\n",
    "    \"n_obs_all_ascend\",\n",
    "    \"n_obs_all_ascend_descend\",\n",
    "    \"n_obs_all_descend\",\n",
    "    \"n_obs_valid_ascend\",\n",
    "    \"n_obs_valid_ascend_descend\",\n",
    "    \"n_obs_valid_descend\",\n",
    "    \"tb18_mean_ascend\",\n",
    "    \"tb18_mean_descend\",\n",
    "    \"tb18_std_ascend\",\n",
    "    \"tb18_std_descend\",\n",
    "    \"uth_mean_ascend\",\n",
    "    \"uth_mean_ascend_descend\",\n",
    "    \"uth_mean_descend\",\n",
    "    \"uth_median_ascend\",\n",
    "    \"uth_median_ascend_descend\",\n",
    "    \"uth_median_descend\",\n",
    "    \"uth_std_ascend\",\n",
    "    \"uth_std_ascend_descend\",\n",
    "    \"uth_std_descend\",\n",
    "}\n",
    "\n",
    "# Sensors\n",
    "sensors = [\n",
    "    \"amsu_b_on_noaa_15\",\n",
    "    \"amsu_b_on_noaa_16\",\n",
    "    \"amsu_b_on_noaa_17\",\n",
    "    \"mhs_on_metop_a\",\n",
    "    \"mhs_on_metop_b\",\n",
    "    \"mhs_on_metop_c\",\n",
    "    \"mhs_on_noaa_18\",\n",
    "    \"mhs_on_noaa_19\",\n",
    "]\n",
    "assert set(sensors) <= {\n",
    "    \"amsu_b_on_noaa_15\",\n",
    "    \"amsu_b_on_noaa_16\",\n",
    "    \"amsu_b_on_noaa_17\",\n",
    "    \"mhs_on_metop_a\",\n",
    "    \"mhs_on_metop_b\",\n",
    "    \"mhs_on_metop_c\",\n",
    "    \"mhs_on_noaa_18\",\n",
    "    \"mhs_on_noaa_19\",\n",
    "}"
   ]
  },
  {
   "cell_type": "markdown",
   "id": "2d8f7642",
   "metadata": {},
   "source": [
    "## Define Request"
   ]
  },
  {
   "cell_type": "code",
   "execution_count": null,
   "id": "844cfc15-9675-4bba-afda-674d80c1122c",
   "metadata": {},
   "outputs": [],
   "source": [
    "collection_id = \"satellite-upper-troposphere-humidity\"\n",
    "request = {\n",
    "    \"variable\": \"all\",\n",
    "    \"format\": \"zip\",\n",
    "}\n",
    "time_dict = {\n",
    "    \"amsu_b_on_noaa_15\": {\"start\": \"1999-01\", \"end\": \"2002-12\"},\n",
    "    \"amsu_b_on_noaa_16\": {\"start\": \"2001-01\", \"end\": \"2006-12\"},\n",
    "    \"amsu_b_on_noaa_17\": {\"start\": \"2003-01\", \"end\": \"2008-12\"},\n",
    "    \"mhs_on_metop_a\": {\"start\": \"2007-01\", \"end\": \"2021-02\", \"skip\": [\"2014-04\"]},\n",
    "    \"mhs_on_metop_b\": {\"start\": \"2013-01\", \"end\": \"2021-02\"},\n",
    "    \"mhs_on_metop_c\": {\"start\": \"2019-12\", \"end\": \"2021-02\"},\n",
    "    \"mhs_on_noaa_18\": {\"start\": \"2006-01\", \"end\": \"2018-10\"},\n",
    "    \"mhs_on_noaa_19\": {\"start\": \"2016-01\", \"end\": \"2021-02\"},\n",
    "}"
   ]
  },
  {
   "cell_type": "markdown",
   "id": "41a15474",
   "metadata": {},
   "source": [
    "## Download and transform"
   ]
  },
  {
   "cell_type": "code",
   "execution_count": null,
   "id": "194bbfe9-b307-4dd1-96f6-4c47a13cc790",
   "metadata": {},
   "outputs": [],
   "source": [
    "kwargs = {\n",
    "    \"chunks\": {\"year\": 1, \"month\": 1},\n",
    "    \"transform_chunks\": False,\n",
    "    \"transform_func_kwargs\": {\"weights\": False},\n",
    "    # Parameters to speed up I/O\n",
    "    \"concat_dim\": \"time\",\n",
    "    \"combine\": \"nested\",\n",
    "    \"data_vars\": \"minimal\",\n",
    "    \"coords\": \"minimal\",\n",
    "    \"compat\": \"override\",\n",
    "    \"parallel\": True,\n",
    "}\n",
    "\n",
    "frequencies = (\"time\", \"seasonal\")\n",
    "datasets_dict = {freq: [] for freq in frequencies}\n",
    "for sensor in sensors:\n",
    "    months = pd.date_range(\n",
    "        time_dict[sensor][\"start\"], time_dict[sensor][\"end\"], freq=\"1MS\"\n",
    "    ).strftime(\"%Y-%m\")\n",
    "    requests = []\n",
    "    for month in months:\n",
    "        if month not in time_dict[sensor].get(\"skip\", []):\n",
    "            requests.extend(\n",
    "                download.update_request_date(\n",
    "                    request | {\"sensor_on_satellite\": sensor},\n",
    "                    month,\n",
    "                    month,\n",
    "                    stringify_dates=True,\n",
    "                )\n",
    "            )\n",
    "    sensor = sensor.upper().replace(\"_ON_\", \" on \").replace(\"_\", \"-\")\n",
    "    for freq in frequencies:\n",
    "        for reduction in (\"mean\", \"std\"):\n",
    "            print(f\"{sensor=} {freq=} {reduction=}\")\n",
    "            transform_func = getattr(diagnostics, f\"{freq}_weighted_{reduction}\")\n",
    "            ds = download.download_and_transform(\n",
    "                collection_id, requests, transform_func=transform_func, **kwargs\n",
    "            )\n",
    "            datasets_dict[freq].append(\n",
    "                ds.expand_dims(\n",
    "                    sensor=[sensor],\n",
    "                    reduction=[reduction],\n",
    "                )\n",
    "            )\n",
    "datasets_dict = {k: xr.merge(v) for k, v in datasets_dict.items()}"
   ]
  },
  {
   "cell_type": "markdown",
   "id": "307d400e",
   "metadata": {},
   "source": [
    "## Plot maps"
   ]
  },
  {
   "cell_type": "code",
   "execution_count": null,
   "id": "2d88e4aa-4f8c-414c-9285-35d15ebe6dda",
   "metadata": {},
   "outputs": [],
   "source": [
    "for freq, ds in datasets_dict.items():\n",
    "    for variable in variables:\n",
    "        da = ds[variable]\n",
    "        for sensor, da_sensor in da.groupby(\"sensor\"):\n",
    "            for reduction, da_reduction in da_sensor.groupby(\"reduction\"):\n",
    "                plot.projected_map(\n",
    "                    da_reduction,\n",
    "                    projection=ccrs.Robinson(),\n",
    "                    cmap=\"YlGnBu\" if reduction == \"mean\" else \"Purples\",\n",
    "                    robust=True,\n",
    "                    center=False,\n",
    "                    levels=9,\n",
    "                    extend=\"both\",\n",
    "                    col=\"season\" if freq == \"seasonal\" else None,\n",
    "                    col_wrap=2,\n",
    "                )\n",
    "                title = f\"{reduction=} {sensor=}\"\n",
    "                plt.suptitle(title) if freq == \"seasonal\" else plt.title(title)\n",
    "                plt.show()"
   ]
  }
 ],
 "metadata": {
  "kernelspec": {
   "display_name": "Python 3 (ipykernel)",
   "language": "python",
   "name": "python3"
  },
  "language_info": {
   "codemirror_mode": {
    "name": "ipython",
    "version": 3
   },
   "file_extension": ".py",
   "mimetype": "text/x-python",
   "name": "python",
   "nbconvert_exporter": "python",
   "pygments_lexer": "ipython3",
   "version": "3.10.12"
  }
 },
 "nbformat": 4,
 "nbformat_minor": 5
}
