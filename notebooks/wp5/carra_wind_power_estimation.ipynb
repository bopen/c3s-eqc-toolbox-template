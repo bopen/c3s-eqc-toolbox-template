{
 "cells": [
  {
   "cell_type": "markdown",
   "id": "0",
   "metadata": {},
   "source": [
    "# Wind power estimation"
   ]
  },
  {
   "cell_type": "markdown",
   "id": "1",
   "metadata": {},
   "source": [
    "## Import libraries"
   ]
  },
  {
   "cell_type": "code",
   "execution_count": null,
   "id": "2",
   "metadata": {},
   "outputs": [],
   "source": [
    "import matplotlib.pyplot as plt\n",
    "import xarray as xr\n",
    "from c3s_eqc_automatic_quality_control import diagnostics, download\n",
    "\n",
    "plt.style.use(\"seaborn-v0_8-notebook\")"
   ]
  },
  {
   "cell_type": "markdown",
   "id": "3",
   "metadata": {},
   "source": [
    "## Set parameters"
   ]
  },
  {
   "cell_type": "code",
   "execution_count": null,
   "id": "4",
   "metadata": {},
   "outputs": [],
   "source": [
    "# Time\n",
    "start = \"1990-09\"\n",
    "stop = \"2024-11\"\n",
    "\n",
    "# Locations\n",
    "latitudes = [70.63]\n",
    "longitudes = [22.46]\n",
    "assert len(latitudes) == len(longitudes)\n",
    "\n",
    "# Domains\n",
    "carra_domains = [\"east\", \"west\"]"
   ]
  },
  {
   "cell_type": "markdown",
   "id": "5",
   "metadata": {},
   "source": [
    "## Define request"
   ]
  },
  {
   "cell_type": "code",
   "execution_count": null,
   "id": "6",
   "metadata": {},
   "outputs": [],
   "source": [
    "carra_id = \"reanalysis-carra-height-levels\"\n",
    "carra_request = {\n",
    "    \"variable\": [\"wind_speed\"],\n",
    "    \"height_level\": [\"75_m\", \"100_m\"],\n",
    "    \"product_type\": \"analysis\",\n",
    "    \"time\": [f\"{hour:02d}:00\" for hour in range(0, 24, 3)],\n",
    "    \"data_format\": \"grib\",\n",
    "}\n",
    "\n",
    "era5_id = \"reanalysis-era5-single-levels\"\n",
    "era5_request = {\n",
    "    \"product_type\": [\"reanalysis\"],\n",
    "    \"variable\": [\"100m_u_component_of_wind\", \"100m_v_component_of_wind\"],\n",
    "    \"time\": [f\"{hour:02d}:00\" for hour in range(24)],\n",
    "    \"area\": [72, 20, 68, 24],\n",
    "    \"data_format\": \"grib\",\n",
    "    \"download_format\": \"unarchived\",\n",
    "}"
   ]
  },
  {
   "cell_type": "markdown",
   "id": "7",
   "metadata": {},
   "source": [
    "## Define functions to cache"
   ]
  },
  {
   "cell_type": "code",
   "execution_count": null,
   "id": "8",
   "metadata": {},
   "outputs": [],
   "source": [
    "def find_nearest_locations(ds, latitudes, longitudes):\n",
    "    (varname,) = set(ds.data_vars)\n",
    "    ds = ds.rename({varname: \"ws\"}).expand_dims(\"height\")\n",
    "    for coord in (\"longitude\", \"latitude\"):\n",
    "        ds[f\"nearest_{coord}\"] = ds[coord]\n",
    "        ds[f\"nearest_{coord}\"].attrs = {}\n",
    "    grid = xr.Dataset(\n",
    "        coords={\n",
    "            \"longitude\": (\"location\", latitudes, {\"standard_name\": \"longitude\"}),\n",
    "            \"latitude\": (\"location\", longitudes, {\"standard_name\": \"latitude\"}),\n",
    "        }\n",
    "    )\n",
    "    return diagnostics.regrid(ds, grid, \"nearest_s2d\", locstream_out=True)"
   ]
  },
  {
   "cell_type": "markdown",
   "id": "9",
   "metadata": {},
   "source": [
    "## Download and transform"
   ]
  },
  {
   "cell_type": "code",
   "execution_count": null,
   "id": "10",
   "metadata": {},
   "outputs": [],
   "source": [
    "datasets = []\n",
    "for domain in carra_domains:\n",
    "    print(f\"{domain = }\")\n",
    "    request = download.update_request_date(\n",
    "        carra_request | {\"domain\": f\"{domain}_domain\"},\n",
    "        start,\n",
    "        stop,\n",
    "        stringify_dates=True,\n",
    "    )\n",
    "    ds = download.download_and_transform(\n",
    "        carra_id,\n",
    "        request,\n",
    "        chunks={\"year\": 1, \"height_level\": 1},\n",
    "        transform_func=find_nearest_locations,\n",
    "        transform_func_kwargs={\"latitudes\": latitudes, \"longitudes\": longitudes},\n",
    "        drop_variables=[\"step\"],\n",
    "    )\n",
    "    datasets.append(ds.expand_dims(domain=[domain]))\n",
    "ds = xr.concat(datasets, \"domain\")"
   ]
  },
  {
   "cell_type": "markdown",
   "id": "11",
   "metadata": {},
   "source": [
    "## Quick and dirty plot"
   ]
  },
  {
   "cell_type": "code",
   "execution_count": null,
   "id": "12",
   "metadata": {},
   "outputs": [],
   "source": [
    "ds[\"ws\"].squeeze(\"location\").plot(col=\"domain\", row=\"height\")"
   ]
  }
 ],
 "metadata": {
  "kernelspec": {
   "display_name": "Python 3 (ipykernel)",
   "language": "python",
   "name": "python3"
  },
  "language_info": {
   "codemirror_mode": {
    "name": "ipython",
    "version": 3
   },
   "file_extension": ".py",
   "mimetype": "text/x-python",
   "name": "python",
   "nbconvert_exporter": "python",
   "pygments_lexer": "ipython3",
   "version": "3.11.11"
  }
 },
 "nbformat": 4,
 "nbformat_minor": 5
}
