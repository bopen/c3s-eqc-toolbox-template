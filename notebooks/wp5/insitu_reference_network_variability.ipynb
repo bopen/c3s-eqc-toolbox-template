{
 "cells": [
  {
   "cell_type": "markdown",
   "id": "0",
   "metadata": {},
   "source": [
    "# Insitu reference network"
   ]
  },
  {
   "cell_type": "markdown",
   "id": "1",
   "metadata": {},
   "source": [
    "## Import packages"
   ]
  },
  {
   "cell_type": "code",
   "execution_count": null,
   "id": "2",
   "metadata": {},
   "outputs": [],
   "source": [
    "import os\n",
    "\n",
    "import cdsapi\n",
    "import matplotlib.dates as mdates\n",
    "import matplotlib.pyplot as plt\n",
    "import numpy as np\n",
    "import pandas as pd\n",
    "import scipy.stats\n",
    "import xarray as xr\n",
    "from c3s_eqc_automatic_quality_control import download\n",
    "\n",
    "plt.style.use(\"seaborn-v0_8-notebook\")"
   ]
  },
  {
   "cell_type": "markdown",
   "id": "3",
   "metadata": {},
   "source": [
    "## Define Parameters"
   ]
  },
  {
   "cell_type": "code",
   "execution_count": null,
   "id": "4",
   "metadata": {},
   "outputs": [],
   "source": [
    "# Time period\n",
    "start = \"2006-05\"\n",
    "stop = \"2020-03\"\n",
    "\n",
    "# Stations\n",
    "stations = [\"BAR\", \"SOD\", \"NYA\"]  # Use None to analyse all stations\n",
    "assert isinstance(stations, list | None)\n",
    "\n",
    "# Directory for csv files\n",
    "csv_dir = \"./csv_files\"\n",
    "\n",
    "# CDS credentials\n",
    "os.environ[\"CDSAPI_RC\"] = os.path.expanduser(\"~/ciardini_virginia/.cdsapirc\")"
   ]
  },
  {
   "cell_type": "markdown",
   "id": "5",
   "metadata": {},
   "source": [
    "## Define request"
   ]
  },
  {
   "cell_type": "code",
   "execution_count": null,
   "id": "6",
   "metadata": {},
   "outputs": [],
   "source": [
    "collection_id = \"insitu-observations-gruan-reference-network\"\n",
    "request = {\n",
    "    \"version\": \"1_0_0\",\n",
    "    \"variable\": [\n",
    "        \"air_temperature\",\n",
    "        \"relative_humidity\",\n",
    "        \"air_pressure\",\n",
    "        \"altitude\",\n",
    "        \"water_vapour_volume_mixing_ratio\",\n",
    "    ],\n",
    "    \"data_format\": \"netcdf\",\n",
    "}\n",
    "\n",
    "client = cdsapi.Client()\n",
    "requests = []\n",
    "for date in pd.date_range(start, stop, freq=\"1MS\"):\n",
    "    time_request = {\"year\": date.strftime(\"%Y\"), \"month\": date.strftime(\"%m\")}\n",
    "    time_request[\"day\"] = client.client.apply_constraints(\n",
    "        collection_id, request | time_request\n",
    "    )[\"day\"]\n",
    "    if time_request[\"day\"]:\n",
    "        requests.append(request | time_request)"
   ]
  },
  {
   "cell_type": "markdown",
   "id": "7",
   "metadata": {},
   "source": [
    "## Functions to cache"
   ]
  },
  {
   "cell_type": "code",
   "execution_count": null,
   "id": "8",
   "metadata": {},
   "outputs": [],
   "source": [
    "def _reorganize_dataset(ds):\n",
    "    # Rename\n",
    "    (varname,) = set(ds[\"observed_variable\"].values)\n",
    "    ds = ds.rename(observation_value=str(varname)).drop_vars(\"observed_variable\")\n",
    "    ds = ds.rename(\n",
    "        {\n",
    "            var: \"_\".join([varname, var.replace(\"_value\", \"\")])\n",
    "            for var in ds.data_vars\n",
    "            if var.startswith(\"uncertainty\")\n",
    "        }\n",
    "    )\n",
    "    # Update attrs\n",
    "    for var, da in ds.data_vars.items():\n",
    "        match var:\n",
    "            case \"pressure\":\n",
    "                da.attrs[\"long_name\"] = \"Pressure\"\n",
    "            case \"air_temperature\":\n",
    "                da.attrs[\"long_name\"] = \"Temperature\"\n",
    "            case \"altitude\":\n",
    "                da.attrs[\"long_name\"] = \"Altitude\"\n",
    "            case \"relative_humidity\":\n",
    "                da.attrs[\"long_name\"] = \"Relative\"\n",
    "            case \"water_vapour_mixing_ratio\":\n",
    "                da.attrs[\"long_name\"] = \"Mixing\"\n",
    "        for string in (\"units\", \"type\"):\n",
    "            if string in var:\n",
    "                ds = ds.drop_vars(var)\n",
    "                (value,) = set(da.values)\n",
    "                attrs_var = varname if var == string else var.replace(\"_\" + string, \"\")\n",
    "                ds[attrs_var].attrs[string] = value\n",
    "    return ds\n",
    "\n",
    "\n",
    "def reorganize_dataset(ds):\n",
    "    for var, da in ds.data_vars.items():\n",
    "        if np.issubdtype(da.dtype, np.bytes_):\n",
    "            ds[var].values = np.char.decode(da.values, \"utf-8\")\n",
    "\n",
    "    if not ds.sizes[\"index\"]:\n",
    "        return ds\n",
    "\n",
    "    datasets = []\n",
    "    for var, ds in ds.groupby(\"observed_variable\"):\n",
    "        datasets.append(_reorganize_dataset(ds))\n",
    "    with xr.set_options(use_new_combine_kwarg_defaults=True):\n",
    "        return xr.merge(datasets)\n",
    "\n",
    "\n",
    "def compute_specific_humidity_from_water_vapour_mixing_ratio(\n",
    "    water_vapour_mixing_ratio,\n",
    "    molar_mass_water=18.01528,\n",
    "    molar_mass_dry_air=28.9647,\n",
    "):\n",
    "    specific_humidity = (\n",
    "        (molar_mass_water * water_vapour_mixing_ratio)\n",
    "        / (molar_mass_dry_air + molar_mass_water * water_vapour_mixing_ratio)\n",
    "        * 1000\n",
    "    )\n",
    "    specific_humidity.attrs = {\"long_name\": \"Specific Humidity\", \"units\": \"g/kg\"}\n",
    "    return specific_humidity\n",
    "\n",
    "\n",
    "def compute_integrated_water_vapour(specific_humidity):\n",
    "    specific_humidity = specific_humidity / 1.0e3  # g/kg → kg/kg\n",
    "    delta_altitude = specific_humidity[\"altitude\"].diff(\"altitude\").fillna(0)  # m\n",
    "\n",
    "    integrated_water_vapour = (specific_humidity * delta_altitude).sum(\"altitude\")\n",
    "    integrated_water_vapour.attrs = {\n",
    "        \"long_name\": \"Integrated Water Vapour\",\n",
    "        \"units\": \"kg/m²\",\n",
    "    }\n",
    "    return integrated_water_vapour\n",
    "\n",
    "\n",
    "def compute_insitu_profiles(ds):\n",
    "    ds = reorganize_dataset(ds)\n",
    "\n",
    "    # Add variables\n",
    "    ds[\"specific_humidity\"] = compute_specific_humidity_from_water_vapour_mixing_ratio(\n",
    "        ds[\"water_vapour_mixing_ratio\"]\n",
    "    )\n",
    "    ds[\"time\"] = (\"index\", pd.to_datetime(ds[\"report_timestamp\"]).values)\n",
    "\n",
    "    # Compute profiles\n",
    "    subset = [\"air_temperature\", \"relative_humidity\", \"specific_humidity\", \"altitude\"]\n",
    "    profiles = []\n",
    "    for station, ds_station in ds.groupby(\"primary_station_id\"):\n",
    "        for time, profile in ds_station.groupby(\"time\"):\n",
    "            profile = profile.swap_dims(index=\"altitude\")[subset]\n",
    "            profile = profile.sortby(\"altitude\")\n",
    "            profile = profile.dropna(\"altitude\", how=\"any\", subset=subset)\n",
    "            profile = profile.drop_duplicates(\"altitude\")\n",
    "            if (profile[\"altitude\"].diff(\"altitude\") > 2_000).any():\n",
    "                continue\n",
    "            profile = profile.interp(altitude=range(50, 30_001, 50))\n",
    "            profile = profile.expand_dims(time=[time])\n",
    "            profile = profile.assign_coords(station=(\"time\", [station]))\n",
    "            profiles.append(profile)\n",
    "    ds = xr.concat(profiles, \"time\")\n",
    "\n",
    "    # Add integrated water vapour\n",
    "    ds[\"integrated_water_vapour\"] = compute_integrated_water_vapour(\n",
    "        ds[\"specific_humidity\"]\n",
    "    )\n",
    "    return ds"
   ]
  },
  {
   "cell_type": "markdown",
   "id": "9",
   "metadata": {},
   "source": [
    "## Download and transform"
   ]
  },
  {
   "cell_type": "code",
   "execution_count": null,
   "id": "10",
   "metadata": {},
   "outputs": [],
   "source": [
    "ds = download.download_and_transform(\n",
    "    collection_id,\n",
    "    requests,\n",
    "    chunks={\"year\": 1, \"month\": 1},\n",
    "    transform_func=compute_insitu_profiles,\n",
    "    cached_open_mfdataset_kwargs={\"concat_dim\": \"time\", \"combine\": \"nested\"},\n",
    ")\n",
    "if stations is not None:\n",
    "    ds = ds.where(ds[\"station\"].isin(stations).compute(), drop=True)\n",
    "ds = ds.compute()"
   ]
  },
  {
   "cell_type": "markdown",
   "id": "11",
   "metadata": {},
   "source": [
    "## Seasonal profiles"
   ]
  },
  {
   "cell_type": "code",
   "execution_count": null,
   "id": "12",
   "metadata": {},
   "outputs": [],
   "source": [
    "season_colors = {\n",
    "    \"DJF\": \"tab:blue\",\n",
    "    \"MAM\": \"tab:green\",\n",
    "    \"JJA\": \"tab:orange\",\n",
    "    \"SON\": \"tab:red\",\n",
    "}\n",
    "\n",
    "# Setup figure\n",
    "fig, axs = plt.subplots(1, len(set(ds[\"station\"].values)), sharey=True, figsize=(18, 6))\n",
    "for ax, (station, ds_station) in zip(axs, ds.groupby(\"station\")):\n",
    "    # Compute seasonal mean\n",
    "    da = ds_station[\"air_temperature\"] - 273.15  # °C\n",
    "    grouped = da.groupby(\"time.season\")\n",
    "    ds_seasonal = xr.merge([grouped.mean().rename(\"mean\"), grouped.std().rename(\"std\")])\n",
    "    for season, color in season_colors.items():\n",
    "        # Plot\n",
    "        ds_season = ds_seasonal.sel(season=season)\n",
    "        ax.plot(\n",
    "            ds_season[\"mean\"], ds_season[\"altitude\"], label=f\"{season}\", color=color\n",
    "        )\n",
    "        ax.fill_betweenx(\n",
    "            ds_season[\"altitude\"],\n",
    "            ds_season[\"mean\"] - ds_season[\"std\"],\n",
    "            ds_season[\"mean\"] + ds_season[\"std\"],\n",
    "            color=color,\n",
    "            alpha=0.3,\n",
    "        )\n",
    "    # Ax settings\n",
    "    ax.set_title(f\"Station: {station}\")\n",
    "    ax.set_xlabel(\"Temperature [°C]\")\n",
    "    ax.grid()\n",
    "    ax.legend(title=\"Season\")\n",
    "# Figure settings\n",
    "axs[0].set_ylabel(\"Altitude [m]\")\n",
    "_ = fig.suptitle(\"Seasonal profiles ±1σ\")"
   ]
  },
  {
   "cell_type": "markdown",
   "id": "13",
   "metadata": {},
   "source": [
    "## Monthly mean temperature"
   ]
  },
  {
   "cell_type": "code",
   "execution_count": null,
   "id": "14",
   "metadata": {},
   "outputs": [],
   "source": [
    "fig, axs = plt.subplots(1, len(set(ds[\"station\"].values)), sharey=True, figsize=(18, 6))\n",
    "dataarrays = {\n",
    "    station: da.resample(time=\"1MS\").mean()\n",
    "    for station, da in ds[\"air_temperature\"].groupby(\"station\")\n",
    "}\n",
    "vmin = min(da.min().values for da in dataarrays.values())\n",
    "vmax = max(da.max().values for da in dataarrays.values())\n",
    "for ax, (station, da_station) in zip(axs, dataarrays.items()):\n",
    "    da_station = da_station.dropna(\"time\", how=\"all\")\n",
    "    pcm = da_station.plot(\n",
    "        x=\"time\", cmap=\"coolwarm\", vmin=vmin, vmax=vmax, ax=ax, add_colorbar=False\n",
    "    )\n",
    "    ax.set_title(f\"Station: {station}\")\n",
    "    ax.xaxis.set_major_formatter(mdates.DateFormatter(\"%Y-%m\"))\n",
    "    ax.tick_params(axis=\"x\", rotation=45)\n",
    "fig.colorbar(pcm, ax=axs, orientation=\"vertical\", label=\"Temperature [K]\")\n",
    "_ = fig.suptitle(\"Monthly Mean Temperature\")"
   ]
  },
  {
   "cell_type": "markdown",
   "id": "15",
   "metadata": {},
   "source": [
    "## Temperature monthly trend"
   ]
  },
  {
   "cell_type": "code",
   "execution_count": null,
   "id": "16",
   "metadata": {},
   "outputs": [],
   "source": [
    "def linregress_slope_significant(x, y):\n",
    "    mask = np.isfinite(x) & np.isfinite(y)\n",
    "    if mask.sum() < 2:\n",
    "        return np.nan, np.nan\n",
    "    res = scipy.stats.linregress(x[mask], y[mask])\n",
    "    return res.slope, np.abs(res.slope) > res.stderr\n",
    "\n",
    "\n",
    "datasets = []\n",
    "for station, da_station in ds[\"air_temperature\"].groupby(\"station\"):\n",
    "    da = da_station.resample(time=\"1MS\").mean(\"time\") - 273.15\n",
    "    for month, da_month in da.groupby(\"time.month\"):\n",
    "        slope, significant = xr.apply_ufunc(\n",
    "            linregress_slope_significant,\n",
    "            da_month[\"time\"].dt.year,\n",
    "            da_month,\n",
    "            input_core_dims=[[\"time\"], [\"time\"]],\n",
    "            output_core_dims=[[], []],\n",
    "            vectorize=True,\n",
    "            dask=\"parallelized\",\n",
    "            output_dtypes=[float, float],\n",
    "        )\n",
    "        ds_slope = xr.Dataset({\"slope\": slope, \"significant\": significant})\n",
    "        datasets.append(ds_slope.expand_dims(month=[month], station=[station]))\n",
    "ds_slope = xr.combine_by_coords(datasets)\n",
    "ds_slope[\"altitude\"].attrs = ds[\"altitude\"].attrs\n",
    "ds_slope[\"slope\"].attrs = {\"long_name\": \"Temperature trend\", \"units\": \"°C/year\"}"
   ]
  },
  {
   "cell_type": "code",
   "execution_count": null,
   "id": "17",
   "metadata": {},
   "outputs": [],
   "source": [
    "facet = ds_slope[\"slope\"].plot(\n",
    "    col=\"station\",\n",
    "    x=\"month\",\n",
    "    robust=True,\n",
    "    figsize=(18, 6),\n",
    "    cmap=\"coolwarm\",\n",
    ")\n",
    "for ax, sel_dict in zip(facet.axs.flatten(), facet.name_dicts.flatten()):\n",
    "    ds_station = ds_slope.sel(sel_dict)\n",
    "    x = ds_station[\"month\"]\n",
    "    y = ds_station[\"altitude\"]\n",
    "    z = np.ma.masked_array(\n",
    "        ds_station[\"slope\"].transpose(),\n",
    "        mask=(ds_station[\"significant\"] != 1).transpose(),\n",
    "    )\n",
    "    ax.pcolor(x, y, z, hatch=\"///\", alpha=0)\n",
    "_ = fig.suptitle(\"Temperature Monthly Trend\", fontsize=16)"
   ]
  },
  {
   "cell_type": "markdown",
   "id": "18",
   "metadata": {},
   "source": [
    "## Integrated water vapour"
   ]
  },
  {
   "cell_type": "code",
   "execution_count": null,
   "id": "19",
   "metadata": {},
   "outputs": [],
   "source": [
    "fig, axs = plt.subplots(\n",
    "    len(set(ds[\"station\"].values)), 1, sharex=True, figsize=(10, 10)\n",
    ")\n",
    "for ax, (station, ds_station) in zip(axs, ds.groupby(\"station\")):\n",
    "    da = ds_station[\"integrated_water_vapour\"].resample(time=\"1MS\").mean()\n",
    "    da_no_nan = da.assign_coords(idx=(\"time\", range(da.sizes[\"time\"]))).dropna(\"time\")\n",
    "    res = scipy.stats.linregress(da_no_nan[\"idx\"], da_no_nan)\n",
    "    print(f\"{station}: Trend = {res.slope:.3f} kg/m²/month, p = {res.pvalue:.3f}\")\n",
    "    da.plot(ax=ax, label=\"IWV\")\n",
    "    ax.plot(\n",
    "        da[\"time\"],\n",
    "        np.arange(da.sizes[\"time\"]) * res.slope + res.intercept,\n",
    "        \"r--\",\n",
    "        label=\"Trend\",\n",
    "    )\n",
    "    ax.grid()\n",
    "    ax.legend()\n",
    "    ax.set_xlabel(\"\")\n",
    "    ax.set_title(f\"IWV – {station}\")\n",
    "_ = ax.set_xlabel(\"Time\")"
   ]
  },
  {
   "cell_type": "markdown",
   "id": "20",
   "metadata": {},
   "source": [
    "## Specific humidity and integrate water vapour"
   ]
  },
  {
   "cell_type": "code",
   "execution_count": null,
   "id": "21",
   "metadata": {},
   "outputs": [],
   "source": [
    "fig, axs = plt.subplots(nrows=3, ncols=2, figsize=(16, 12), constrained_layout=True)\n",
    "for i, (station, ds_station) in enumerate(ds.groupby(\"station\")):\n",
    "    ds_station = ds_station.resample(time=\"1MS\").mean()\n",
    "    ds_station[\"specific_humidity\"].plot(ax=axs[i, 0], x=\"time\")\n",
    "    axs[i, 0].set_title(f\"{station} – WVMR\")\n",
    "\n",
    "    ds_station[\"integrated_water_vapour\"].plot(ax=axs[i, 1], x=\"time\", marker=\"o\")\n",
    "    axs[i, 0].set_title(f\"{station} – IWV\")\n",
    "    axs[i, 1].grid()\n",
    "_ = fig.suptitle(\"Spec hum e IWV\")"
   ]
  }
 ],
 "metadata": {
  "kernelspec": {
   "display_name": "Python 3 (ipykernel)",
   "language": "python",
   "name": "python3"
  },
  "language_info": {
   "codemirror_mode": {
    "name": "ipython",
    "version": 3
   },
   "file_extension": ".py",
   "mimetype": "text/x-python",
   "name": "python",
   "nbconvert_exporter": "python",
   "pygments_lexer": "ipython3",
   "version": "3.11.13"
  }
 },
 "nbformat": 4,
 "nbformat_minor": 5
}
