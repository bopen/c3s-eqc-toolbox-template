{
 "cells": [
  {
   "cell_type": "markdown",
   "id": "0",
   "metadata": {},
   "source": [
    "# Regional plots of XCO2 level 3 satellite data"
   ]
  },
  {
   "cell_type": "markdown",
   "id": "1",
   "metadata": {},
   "source": [
    "## Import libraries"
   ]
  },
  {
   "cell_type": "code",
   "execution_count": null,
   "id": "2",
   "metadata": {},
   "outputs": [],
   "source": [
    "import cartopy.crs as ccrs\n",
    "import matplotlib.pyplot as plt\n",
    "import xarray as xr\n",
    "from c3s_eqc_automatic_quality_control import diagnostics, download, plot, utils\n",
    "\n",
    "plt.style.use(\"seaborn-v0_8-notebook\")"
   ]
  },
  {
   "cell_type": "markdown",
   "id": "3",
   "metadata": {},
   "source": [
    "## Set parameters"
   ]
  },
  {
   "cell_type": "code",
   "execution_count": null,
   "id": "4",
   "metadata": {},
   "outputs": [],
   "source": [
    "# Single time to display\n",
    "time = \"2015-02\"\n",
    "\n",
    "# Range for annual mean\n",
    "time_range = slice(\"2015\", \"2020\")\n",
    "\n",
    "# Variables to plot\n",
    "variables = [\"xco2\", \"xco2_stderr\", \"xco2_stddev\", \"xco2_nobs\"]\n",
    "\n",
    "# Mask\n",
    "min_land_fraction = 0.5  # Use None to switch off\n",
    "\n",
    "# Regions\n",
    "regions = {\n",
    "    \"north_america\": {\"lon_slice\": slice(-160, -60), \"lat_slice\": slice(10, 90)},\n",
    "    \"europe_africa\": {\"lon_slice\": slice(-20, 80), \"lat_slice\": slice(-5, 60)},\n",
    "    \"asia\": {\"lon_slice\": slice(70, 165), \"lat_slice\": slice(-15, 80)},\n",
    "}"
   ]
  },
  {
   "cell_type": "markdown",
   "id": "5",
   "metadata": {},
   "source": [
    "## Define request"
   ]
  },
  {
   "cell_type": "code",
   "execution_count": null,
   "id": "6",
   "metadata": {},
   "outputs": [],
   "source": [
    "collection_id = \"satellite-carbon-dioxide\"\n",
    "request = {\n",
    "    \"processing_level\": [\"level_3\"],\n",
    "    \"variable\": \"xco2\",\n",
    "    \"sensor_and_algorithm\": \"merged_obs4mips\",\n",
    "    \"version\": [\"4_5\"],\n",
    "}"
   ]
  },
  {
   "cell_type": "markdown",
   "id": "7",
   "metadata": {},
   "source": [
    "## Define functions to cache"
   ]
  },
  {
   "cell_type": "code",
   "execution_count": null,
   "id": "8",
   "metadata": {},
   "outputs": [],
   "source": [
    "def convert_units(da):\n",
    "    if da.name.endswith(\"_nobs\"):\n",
    "        return da\n",
    "\n",
    "    with xr.set_options(keep_attrs=True):\n",
    "        if da.name.startswith(\"xch4\") and da.attrs[\"units\"] != \"ppb\":\n",
    "            da = da * 1.0e9\n",
    "            da.attrs[\"units\"] = \"ppb\"\n",
    "        elif da.name.startswith(\"xco2\") and da.attrs[\"units\"] != \"ppm\":\n",
    "            da = da * 1.0e6\n",
    "            da.attrs[\"units\"] = \"ppm\"\n",
    "    return da\n",
    "\n",
    "\n",
    "def mask_and_scale(ds, min_land_fraction):\n",
    "    if min_land_fraction is not None:\n",
    "        ds = ds.where(ds[\"land_fraction\"] >= min_land_fraction)\n",
    "    for var, da in ds.data_vars.items():\n",
    "        if (fill_value := da.attrs.pop(\"fill_value\", None)) is not None:\n",
    "            da = da.where(da != fill_value.astype(da.dtype))\n",
    "        ds[var] = convert_units(da)\n",
    "    return ds"
   ]
  },
  {
   "cell_type": "markdown",
   "id": "9",
   "metadata": {},
   "source": [
    "## Download and transform"
   ]
  },
  {
   "cell_type": "code",
   "execution_count": null,
   "id": "10",
   "metadata": {},
   "outputs": [],
   "source": [
    "ds = download.download_and_transform(\n",
    "    collection_id,\n",
    "    request,\n",
    "    transform_func=mask_and_scale,\n",
    "    transform_func_kwargs={\"min_land_fraction\": min_land_fraction},\n",
    ")\n",
    "ds_time = ds.sel(time=time)\n",
    "ds_annual = diagnostics.annual_weighted_mean(ds.sel(time=time_range))\n",
    "with xr.set_options(keep_attrs=True):\n",
    "    ds_annual_anomaly = ds_annual - diagnostics.time_weighted_mean(\n",
    "        ds.sel(time=time_range)\n",
    "    )"
   ]
  },
  {
   "cell_type": "markdown",
   "id": "11",
   "metadata": {},
   "source": [
    "## Plot single-time maps"
   ]
  },
  {
   "cell_type": "code",
   "execution_count": null,
   "id": "12",
   "metadata": {},
   "outputs": [],
   "source": [
    "for var in variables:\n",
    "    da = ds_time[var]\n",
    "    plot.projected_map(da, show_stats=False)\n",
    "    plt.show()\n",
    "\n",
    "    fig, axs = plt.subplots(\n",
    "        1, len(regions), subplot_kw={\"projection\": ccrs.PlateCarree()}, figsize=(20, 5)\n",
    "    )\n",
    "    for ax, (region, kwargs) in zip(axs.flatten(), regions.items()):\n",
    "        da_region = utils.regionalise(da, **kwargs)\n",
    "        plot.projected_map(da_region, ax=ax, show_stats=False)\n",
    "        ax.set_title(region)\n",
    "    plt.show()"
   ]
  },
  {
   "cell_type": "markdown",
   "id": "13",
   "metadata": {},
   "source": [
    "## Plot annual mean maps"
   ]
  },
  {
   "cell_type": "code",
   "execution_count": null,
   "id": "14",
   "metadata": {},
   "outputs": [],
   "source": [
    "plot_kwargs = {\"col\": \"year\", \"col_wrap\": 3}\n",
    "for var in variables:\n",
    "    da = ds_annual[var]\n",
    "    plot.projected_map(da, **plot_kwargs)\n",
    "    plt.show()\n",
    "\n",
    "    for region, kwargs in regions.items():\n",
    "        da_region = utils.regionalise(da, **kwargs)\n",
    "        facet = plot.projected_map(da_region, **plot_kwargs)\n",
    "        facet.fig.suptitle(region)\n",
    "        plt.show()"
   ]
  },
  {
   "cell_type": "markdown",
   "id": "15",
   "metadata": {},
   "source": [
    "## Plot annual anomalies"
   ]
  },
  {
   "cell_type": "code",
   "execution_count": null,
   "id": "16",
   "metadata": {},
   "outputs": [],
   "source": [
    "plot_kwargs = {\"col\": \"year\", \"col_wrap\": 3}\n",
    "for var in variables:\n",
    "    da = ds_annual_anomaly[var]\n",
    "    plot.projected_map(da, **plot_kwargs)\n",
    "    plt.show()\n",
    "\n",
    "    for region, kwargs in regions.items():\n",
    "        da_region = utils.regionalise(da, **kwargs)\n",
    "        facet = plot.projected_map(da_region, **plot_kwargs)\n",
    "        facet.fig.suptitle(region)\n",
    "        plt.show()"
   ]
  }
 ],
 "metadata": {
  "kernelspec": {
   "display_name": "Python 3 (ipykernel)",
   "language": "python",
   "name": "python3"
  },
  "language_info": {
   "codemirror_mode": {
    "name": "ipython",
    "version": 3
   },
   "file_extension": ".py",
   "mimetype": "text/x-python",
   "name": "python",
   "nbconvert_exporter": "python",
   "pygments_lexer": "ipython3",
   "version": "3.11.11"
  }
 },
 "nbformat": 4,
 "nbformat_minor": 5
}
