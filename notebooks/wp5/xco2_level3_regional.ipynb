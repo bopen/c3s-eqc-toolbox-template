{
 "cells": [
  {
   "cell_type": "markdown",
   "id": "0",
   "metadata": {},
   "source": [
    "# Regional plots of XCO2 level 3 satellite data"
   ]
  },
  {
   "cell_type": "markdown",
   "id": "1",
   "metadata": {},
   "source": [
    "## Import libraries"
   ]
  },
  {
   "cell_type": "code",
   "execution_count": null,
   "id": "2",
   "metadata": {},
   "outputs": [],
   "source": [
    "import math\n",
    "\n",
    "import cartopy.crs as ccrs\n",
    "import matplotlib.pyplot as plt\n",
    "import xarray as xr\n",
    "from c3s_eqc_automatic_quality_control import diagnostics, download, plot, utils\n",
    "\n",
    "plt.style.use(\"seaborn-v0_8-notebook\")"
   ]
  },
  {
   "cell_type": "markdown",
   "id": "3",
   "metadata": {},
   "source": [
    "## Set parameters"
   ]
  },
  {
   "cell_type": "code",
   "execution_count": null,
   "id": "4",
   "metadata": {},
   "outputs": [],
   "source": [
    "# Single time to display\n",
    "time = \"2016-01\"\n",
    "\n",
    "# Range for annual mean\n",
    "time_range = slice(\"2015\", \"2020\")\n",
    "\n",
    "# Mask\n",
    "min_land_fraction = 0.5  # Use None to switch off\n",
    "\n",
    "# Regions\n",
    "regions = {\n",
    "    \"global\": {\"lon_slice\": slice(-180, 180), \"lat_slice\": slice(-90, 90)},\n",
    "    \"north_america\": {\"lon_slice\": slice(-160, -60), \"lat_slice\": slice(10, 90)},\n",
    "    \"europe_africa\": {\"lon_slice\": slice(-20, 80), \"lat_slice\": slice(-5, 60)},\n",
    "    \"asia\": {\"lon_slice\": slice(70, 165), \"lat_slice\": slice(-15, 80)},\n",
    "}"
   ]
  },
  {
   "cell_type": "markdown",
   "id": "5",
   "metadata": {},
   "source": [
    "## Define request"
   ]
  },
  {
   "cell_type": "code",
   "execution_count": null,
   "id": "6",
   "metadata": {},
   "outputs": [],
   "source": [
    "collection_id = \"satellite-carbon-dioxide\"\n",
    "request = {\n",
    "    \"processing_level\": [\"level_3\"],\n",
    "    \"variable\": \"xco2\",\n",
    "    \"sensor_and_algorithm\": \"merged_obs4mips\",\n",
    "    \"version\": [\"4_5\"],\n",
    "}"
   ]
  },
  {
   "cell_type": "markdown",
   "id": "7",
   "metadata": {},
   "source": [
    "## Define functions to cache"
   ]
  },
  {
   "cell_type": "code",
   "execution_count": null,
   "id": "8",
   "metadata": {},
   "outputs": [],
   "source": [
    "def convert_units(da):\n",
    "    if da.name.endswith(\"_nobs\"):\n",
    "        return da\n",
    "\n",
    "    with xr.set_options(keep_attrs=True):\n",
    "        if da.name.startswith(\"xch4\") and da.attrs[\"units\"] != \"ppb\":\n",
    "            da = da * 1.0e9\n",
    "            da.attrs[\"units\"] = \"ppb\"\n",
    "        elif da.name.startswith(\"xco2\") and da.attrs[\"units\"] != \"ppm\":\n",
    "            da = da * 1.0e6\n",
    "            da.attrs[\"units\"] = \"ppm\"\n",
    "    return da\n",
    "\n",
    "\n",
    "def mask_scale_and_regionalise(ds, min_land_fraction, lon_slice, lat_slice):\n",
    "    if min_land_fraction is not None:\n",
    "        ds = ds.where(ds[\"land_fraction\"] >= min_land_fraction)\n",
    "    for var, da in ds.data_vars.items():\n",
    "        if (fill_value := da.attrs.pop(\"fill_value\", None)) is not None:\n",
    "            da = da.where(da != fill_value.astype(da.dtype))\n",
    "        ds[var] = convert_units(da)\n",
    "    return utils.regionalise(ds, lon_slice=lon_slice, lat_slice=lat_slice)"
   ]
  },
  {
   "cell_type": "markdown",
   "id": "9",
   "metadata": {},
   "source": [
    "## Download and transform"
   ]
  },
  {
   "cell_type": "code",
   "execution_count": null,
   "id": "10",
   "metadata": {},
   "outputs": [],
   "source": [
    "datasets = {}\n",
    "for region, kwargs in regions.items():\n",
    "    print(f\"{region=}\")\n",
    "    ds = download.download_and_transform(\n",
    "        collection_id,\n",
    "        request,\n",
    "        transform_func=mask_scale_and_regionalise,\n",
    "        transform_func_kwargs={\"min_land_fraction\": min_land_fraction} | kwargs,\n",
    "    ).sel(time=time_range)\n",
    "    for da in ds.data_vars.values():\n",
    "        if da.attrs.get(\"units\") in [\"1\", 1]:\n",
    "            da.attrs.pop(\"units\")\n",
    "    datasets[region] = ds"
   ]
  },
  {
   "cell_type": "markdown",
   "id": "11",
   "metadata": {},
   "source": [
    "## Plot detrended anomalies"
   ]
  },
  {
   "cell_type": "code",
   "execution_count": null,
   "id": "12",
   "metadata": {},
   "outputs": [],
   "source": [
    "for region in [\"global\"]:\n",
    "    ds = datasets[region]\n",
    "    for variable in [\"xco2\"]:\n",
    "        da = diagnostics.annual_weighted_mean(ds[variable])\n",
    "        da_mean = diagnostics.time_weighted_mean(ds[variable])\n",
    "        with xr.set_options(keep_attrs=True):\n",
    "            da = da - da_mean\n",
    "            da_trend = xr.polyval(\n",
    "                da[\"year\"],\n",
    "                da.polyfit(\"year\", deg=1).polyfit_coefficients,\n",
    "            )\n",
    "            da = da - da_trend\n",
    "        facet = plot.projected_map(da, col=\"year\", col_wrap=3)\n",
    "        facet.fig.suptitle(f\"{region =} {variable =}\")"
   ]
  },
  {
   "cell_type": "markdown",
   "id": "13",
   "metadata": {},
   "source": [
    "## Plot averages"
   ]
  },
  {
   "cell_type": "code",
   "execution_count": null,
   "id": "14",
   "metadata": {},
   "outputs": [],
   "source": [
    "for region in [\"global\"]:\n",
    "    ds = datasets[region]\n",
    "    for variable in [\"xco2_stderr\"]:\n",
    "        da = diagnostics.annual_weighted_mean(ds[variable])\n",
    "        facet = plot.projected_map(da, col=\"year\", col_wrap=3)\n",
    "        facet.fig.suptitle(f\"{region =} {variable =}\")"
   ]
  },
  {
   "cell_type": "markdown",
   "id": "15",
   "metadata": {},
   "source": [
    "## Plot single-time maps"
   ]
  },
  {
   "cell_type": "code",
   "execution_count": null,
   "id": "16",
   "metadata": {},
   "outputs": [],
   "source": [
    "for variable in [\"xco2\"]:\n",
    "    fig, axs = plt.subplots(\n",
    "        2,\n",
    "        math.ceil(len(regions) / 2),\n",
    "        subplot_kw={\"projection\": ccrs.PlateCarree()},\n",
    "        figsize=(11, 6),\n",
    "    )\n",
    "    for ax, (region, ds) in zip(axs.flatten(), datasets.items()):\n",
    "        da = ds[variable].sel(time=time)\n",
    "        plot.projected_map(da, ax=ax, show_stats=False)\n",
    "        ax.set_title(region)\n",
    "    fig.suptitle(f\"{variable =} {time = }\")\n",
    "    plt.show()"
   ]
  },
  {
   "cell_type": "markdown",
   "id": "17",
   "metadata": {},
   "source": [
    "## Plot timeseries"
   ]
  },
  {
   "cell_type": "code",
   "execution_count": null,
   "id": "18",
   "metadata": {},
   "outputs": [],
   "source": [
    "for variable in [\"xco2\", \"xco2_stderr\", \"xco2_stddev\", \"xco2_nobs\"]:\n",
    "    means = []\n",
    "    stds = []\n",
    "    for region, ds in datasets.items():\n",
    "        da = ds[variable]\n",
    "        means.append(diagnostics.spatial_weighted_mean(da).expand_dims(region=[region]))\n",
    "        stds.append(diagnostics.spatial_weighted_std(da).expand_dims(region=[region]))\n",
    "    da_mean = xr.concat(means, \"region\")\n",
    "    da_std = xr.concat(stds, \"region\")\n",
    "\n",
    "    facet = da_mean.plot(col=\"region\", col_wrap=2)\n",
    "    for ax, sel_dict in zip(facet.axs.flatten(), facet.name_dicts.flatten()):\n",
    "        lower = da_mean.sel(sel_dict) - da_std.sel(sel_dict)\n",
    "        ax.fill_between(\n",
    "            da[\"time\"],\n",
    "            lower.where(lower > 0, 0),\n",
    "            da_mean.sel(sel_dict) + da_std.sel(sel_dict),\n",
    "            alpha=0.5,\n",
    "        )\n",
    "        ax.grid()\n",
    "    facet.fig.suptitle(f\"{variable = }\")"
   ]
  }
 ],
 "metadata": {
  "kernelspec": {
   "display_name": "Python 3 (ipykernel)",
   "language": "python",
   "name": "python3"
  },
  "language_info": {
   "codemirror_mode": {
    "name": "ipython",
    "version": 3
   },
   "file_extension": ".py",
   "mimetype": "text/x-python",
   "name": "python",
   "nbconvert_exporter": "python",
   "pygments_lexer": "ipython3",
   "version": "3.11.11"
  }
 },
 "nbformat": 4,
 "nbformat_minor": 5
}
