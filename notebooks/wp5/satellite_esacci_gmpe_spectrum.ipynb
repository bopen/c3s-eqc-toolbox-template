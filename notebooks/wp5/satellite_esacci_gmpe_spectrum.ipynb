{
 "cells": [
  {
   "cell_type": "markdown",
   "id": "0",
   "metadata": {},
   "source": [
    "# Satellite SST spectrum"
   ]
  },
  {
   "cell_type": "markdown",
   "id": "1",
   "metadata": {},
   "source": [
    "## Import libraries"
   ]
  },
  {
   "cell_type": "code",
   "execution_count": null,
   "id": "2",
   "metadata": {},
   "outputs": [],
   "source": [
    "import collections\n",
    "\n",
    "import matplotlib.pyplot as plt\n",
    "import scipy.signal\n",
    "import xarray as xr\n",
    "from c3s_eqc_automatic_quality_control import download, utils\n",
    "\n",
    "plt.style.use(\"seaborn-v0_8-notebook\")"
   ]
  },
  {
   "cell_type": "markdown",
   "id": "3",
   "metadata": {},
   "source": [
    "## Define parameters"
   ]
  },
  {
   "cell_type": "code",
   "execution_count": null,
   "id": "4",
   "metadata": {},
   "outputs": [],
   "source": [
    "# Time\n",
    "year_start = 1982\n",
    "year_stop = 1982\n",
    "\n",
    "# Space\n",
    "regions = {\n",
    "    \"Gulf Stream\": {\"lon_slice\": slice(-64, -34), \"lat_slice\": slice(34, 42)},\n",
    "    \"Kuroshio\": {\"lon_slice\": slice(150, 180), \"lat_slice\": slice(34, 44)},\n",
    "    \"Agulhas\": {\"lon_slice\": slice(5, 35), \"lat_slice\": slice(-45, -35)},\n",
    "    \"Brazilian-Malvinas\": {\"lon_slice\": slice(-56, -26), \"lat_slice\": slice(-47, -37)},\n",
    "}"
   ]
  },
  {
   "cell_type": "markdown",
   "id": "5",
   "metadata": {},
   "source": [
    "## Define request"
   ]
  },
  {
   "cell_type": "code",
   "execution_count": null,
   "id": "6",
   "metadata": {},
   "outputs": [],
   "source": [
    "request_dicts = {\n",
    "    \"ESACCI\": {\n",
    "        \"collection_id\": \"satellite-sea-surface-temperature\",\n",
    "        \"request\": {\n",
    "            \"processinglevel\": \"level_4\",\n",
    "            \"format\": \"zip\",\n",
    "            \"variable\": \"all\",\n",
    "            \"sensor_on_satellite\": \"combined_product\",\n",
    "            \"version\": \"2_1\",\n",
    "        },\n",
    "        \"chunks\": {\"year\": 1, \"month\": 1, \"day\": 7},\n",
    "    },\n",
    "    \"GMPE\": {\n",
    "        \"collection_id\": \"satellite-sea-surface-temperature-ensemble-product\",\n",
    "        \"request\": {\n",
    "            \"format\": \"zip\",\n",
    "            \"variable\": \"all\",\n",
    "        },\n",
    "        \"chunks\": {\"year\": 1, \"month\": 1, \"day\": 12},\n",
    "    },\n",
    "}"
   ]
  },
  {
   "cell_type": "markdown",
   "id": "7",
   "metadata": {},
   "source": [
    "## Define functions to cache"
   ]
  },
  {
   "cell_type": "code",
   "execution_count": null,
   "id": "8",
   "metadata": {},
   "outputs": [],
   "source": [
    "def _welch(x, **kwargs):\n",
    "    freqs, psd = scipy.signal.welch(x, **kwargs)\n",
    "    return xr.DataArray(psd, coords={\"wavenumber\": freqs}, dims=[\"wavenumber\"])\n",
    "\n",
    "\n",
    "def welch(da, dim, **kwargs):\n",
    "    return xr.apply_ufunc(\n",
    "        _welch,\n",
    "        da.compute(),\n",
    "        input_core_dims=[[dim]],\n",
    "        output_core_dims=[[\"wavenumber\"]],\n",
    "        vectorize=True,\n",
    "        kwargs=kwargs,\n",
    "    )\n",
    "\n",
    "\n",
    "def compute_spectrum(ds, lon_slice, lat_slice):\n",
    "    dim = \"longitude\"\n",
    "    da = utils.regionalise(ds[\"analysed_sst\"], lon_slice, lat_slice)\n",
    "    nperseg = 1 << (da.sizes[dim].bit_length() - 1)  # lower power of 2\n",
    "    da = welch(\n",
    "        da,\n",
    "        dim,\n",
    "        window=\"blackmanharris\",\n",
    "        detrend=\"linear\",\n",
    "        fs=1 / da[dim].diff(dim).mean().item(),\n",
    "        nperseg=nperseg,\n",
    "        nfft=2 * nperseg,\n",
    "    )\n",
    "    return da.to_dataset(name=\"spectrum\")"
   ]
  },
  {
   "cell_type": "markdown",
   "id": "9",
   "metadata": {},
   "source": [
    "## Download and transform data"
   ]
  },
  {
   "cell_type": "code",
   "execution_count": null,
   "id": "10",
   "metadata": {},
   "outputs": [],
   "source": [
    "datasets = collections.defaultdict(dict)\n",
    "for product, request_kwargs in request_dicts.items():\n",
    "    requests = []\n",
    "    for year in range(year_start, year_stop + 1):\n",
    "        requests.extend(\n",
    "            download.update_request_date(\n",
    "                request_kwargs[\"request\"],\n",
    "                start=f\"{year - 1}-12\",\n",
    "                stop=f\"{year}-11\",\n",
    "                stringify_dates=True,\n",
    "            )\n",
    "        )\n",
    "    for region, region_kwargs in regions.items():\n",
    "        print(f\"{product=} {region=}\")\n",
    "        datasets[product][region] = download.download_and_transform(\n",
    "            request_kwargs[\"collection_id\"],\n",
    "            requests,\n",
    "            chunks=request_kwargs[\"chunks\"],\n",
    "            transform_func=compute_spectrum,\n",
    "            transform_func_kwargs=region_kwargs,\n",
    "        )\n",
    "datasets = dict(datasets)"
   ]
  },
  {
   "cell_type": "markdown",
   "id": "11",
   "metadata": {},
   "source": [
    "## Quick and dirty plot"
   ]
  },
  {
   "cell_type": "code",
   "execution_count": null,
   "id": "12",
   "metadata": {},
   "outputs": [],
   "source": [
    "for product, values in datasets.items():\n",
    "    ds_mean = xr.combine_by_coords(\n",
    "        [\n",
    "            ds.mean(\"latitude\").expand_dims(region=[region])\n",
    "            for region, ds in values.items()\n",
    "        ]\n",
    "    )\n",
    "    ds_mean[\"spectrum\"].plot(col=\"region\", x=\"time\", robust=True)\n",
    "    plt.suptitle(f\"{product=}\", y=1.05)\n",
    "    plt.show()"
   ]
  }
 ],
 "metadata": {
  "kernelspec": {
   "display_name": "Python 3 (ipykernel)",
   "language": "python",
   "name": "python3"
  },
  "language_info": {
   "codemirror_mode": {
    "name": "ipython",
    "version": 3
   },
   "file_extension": ".py",
   "mimetype": "text/x-python",
   "name": "python",
   "nbconvert_exporter": "python",
   "pygments_lexer": "ipython3",
   "version": "3.11.11"
  }
 },
 "nbformat": 4,
 "nbformat_minor": 5
}
