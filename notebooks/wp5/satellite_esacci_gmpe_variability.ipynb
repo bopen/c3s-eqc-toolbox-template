{
 "cells": [
  {
   "attachments": {},
   "cell_type": "markdown",
   "id": "ad16ba25",
   "metadata": {
    "editable": true,
    "slideshow": {
     "slide_type": ""
    },
    "tags": []
   },
   "source": [
    "# Assessment of the SST climatology and variability"
   ]
  },
  {
   "attachments": {},
   "cell_type": "markdown",
   "id": "73106113",
   "metadata": {},
   "source": [
    "## Import packages"
   ]
  },
  {
   "cell_type": "code",
   "execution_count": null,
   "id": "157d88d6-d5a1-4c4c-a879-6584e89dd1b7",
   "metadata": {},
   "outputs": [],
   "source": [
    "import cartopy.crs as ccrs\n",
    "import matplotlib.pyplot as plt\n",
    "import tqdm\n",
    "import xarray as xr\n",
    "from c3s_eqc_automatic_quality_control import diagnostics, download, plot\n",
    "\n",
    "plt.style.use(\"seaborn-v0_8-notebook\")"
   ]
  },
  {
   "attachments": {},
   "cell_type": "markdown",
   "id": "b6e64735",
   "metadata": {},
   "source": [
    "## Define Parameters"
   ]
  },
  {
   "cell_type": "code",
   "execution_count": null,
   "id": "81c4e187-558a-4b76-ad18-7d00a5a69d3a",
   "metadata": {},
   "outputs": [],
   "source": [
    "# Time\n",
    "# Note: Time period from December year_start-1 to November year_stop\n",
    "year_start = 1982\n",
    "year_stop = 2011"
   ]
  },
  {
   "attachments": {},
   "cell_type": "markdown",
   "id": "56a16b25",
   "metadata": {},
   "source": [
    "## Define Parameters"
   ]
  },
  {
   "cell_type": "code",
   "execution_count": null,
   "id": "326a98d3-884f-4c54-abb0-f543a2aa11f4",
   "metadata": {},
   "outputs": [],
   "source": [
    "# Requests\n",
    "request_dicts = {\n",
    "    \"ESACCI\": {\n",
    "        \"collection_id\": \"satellite-sea-surface-temperature\",\n",
    "        \"request\": {\n",
    "            \"processinglevel\": \"level_4\",\n",
    "            \"format\": \"zip\",\n",
    "            \"variable\": \"all\",\n",
    "            \"sensor_on_satellite\": \"combined_product\",\n",
    "            \"version\": \"2_1\",\n",
    "        },\n",
    "        \"chunks\": {\"year\": 1, \"month\": 1},\n",
    "    },\n",
    "    \"GMPE\": {\n",
    "        \"collection_id\": \"satellite-sea-surface-temperature-ensemble-product\",\n",
    "        \"request\": {\n",
    "            \"format\": \"zip\",\n",
    "            \"variable\": \"all\",\n",
    "        },\n",
    "        \"chunks\": {\"year\": 1, \"month\": 1, \"day\": 12},  # CDS limit is 12\n",
    "    },\n",
    "}\n",
    "\n",
    "# Parameters to speed up I/O\n",
    "open_mfdataset_kwargs = {\n",
    "    \"concat_dim\": \"time\",\n",
    "    \"combine\": \"nested\",\n",
    "    \"data_vars\": \"minimal\",\n",
    "    \"coords\": \"minimal\",\n",
    "    \"compat\": \"override\",\n",
    "    \"parallel\": True,\n",
    "}"
   ]
  },
  {
   "attachments": {},
   "cell_type": "markdown",
   "id": "5ef55fea",
   "metadata": {},
   "source": [
    "## Functions to cache"
   ]
  },
  {
   "cell_type": "code",
   "execution_count": null,
   "id": "e319a354-d6b2-40fa-83e6-e9c70a631af3",
   "metadata": {},
   "outputs": [],
   "source": [
    "def get_masked_sst(ds):\n",
    "    da = ds[\"analysed_sst\"]\n",
    "    if \"mask\" in ds:\n",
    "        da = da.where(ds[\"mask\"] == 1)\n",
    "    with xr.set_options(keep_attrs=True):\n",
    "        da -= 273.15\n",
    "    da.attrs[\"units\"] = \"°C\"\n",
    "    return da\n",
    "\n",
    "\n",
    "def add_chunksizes(da):\n",
    "    da.encoding[\"chunksizes\"] = tuple(map(max, da.chunks))\n",
    "    return da\n",
    "\n",
    "\n",
    "def rechunk(obj):\n",
    "    \"\"\"Use NetCDF chunks.\"\"\"\n",
    "    chunks = {\"time\": 1, \"year\": 1, \"season\": 1, \"latitude\": 1_200, \"longitude\": 2_400}\n",
    "    obj = obj.chunk(\n",
    "        **{dim: chunksize for dim, chunksize in chunks.items() if dim in obj.dims}\n",
    "    )\n",
    "    if isinstance(obj, xr.DataArray):\n",
    "        return add_chunksizes(obj)\n",
    "    for da in obj.data_vars.values():\n",
    "        add_chunksizes(da)\n",
    "    return obj\n",
    "\n",
    "\n",
    "def compute_time_reductions(ds, func, **kwargs):\n",
    "    ds = rechunk(ds)\n",
    "    da = get_masked_sst(ds)\n",
    "    da_reduced = rechunk(func(da, **kwargs))\n",
    "    if \"season\" in da_reduced.dims:\n",
    "        da_reduced = da_reduced.sel(season=sorted(set(da[\"time\"].dt.season.values)))\n",
    "    return rechunk(da_reduced).to_dataset()"
   ]
  },
  {
   "cell_type": "markdown",
   "id": "59ddd578-1703-47f3-bc84-6d4d8b877a11",
   "metadata": {},
   "source": [
    "## Download and transform"
   ]
  },
  {
   "cell_type": "code",
   "execution_count": null,
   "id": "6c2a4c0a-b185-44cb-9eca-26cde95da101",
   "metadata": {},
   "outputs": [],
   "source": [
    "# Settings\n",
    "reductions = (\"mean\", \"std\")\n",
    "season_month_dict = {\n",
    "    \"DJF\": {\"12\", \"01\", \"02\"},\n",
    "    \"MAM\": {\"03\", \"04\", \"05\"},\n",
    "    \"JJA\": {\"06\", \"07\", \"08\"},\n",
    "    \"SON\": {\"09\", \"10\", \"11\"},\n",
    "}\n",
    "start = f\"{year_start-1}-12\"\n",
    "stop = f\"{year_stop}-11\"\n",
    "\n",
    "# Initialize variables\n",
    "datasets_annual = {}\n",
    "datasets_seasonal = {}\n",
    "for product, request_dict in request_dicts.items():\n",
    "    kwargs = {\n",
    "        \"collection_id\": request_dict[\"collection_id\"],\n",
    "        \"transform_chunks\": False,\n",
    "        \"chunks\": request_dict[\"chunks\"],\n",
    "        **open_mfdataset_kwargs,\n",
    "    }\n",
    "\n",
    "    # Annual\n",
    "    print(f\"{product=}\")\n",
    "    annual_ds_list = []\n",
    "    for year in tqdm.tqdm(range(year_start, year_stop + 1), desc=\"annual\"):\n",
    "        # Note: year from December year-1 to November year\n",
    "        annual_requests = download.update_request_date(\n",
    "            request_dict[\"request\"],\n",
    "            start=f\"{year-1}-12\",\n",
    "            stop=f\"{year}-11\",\n",
    "            stringify_dates=True,\n",
    "        )\n",
    "        tmp_ds_list = []\n",
    "        for reduction in reductions:\n",
    "            func = getattr(diagnostics, f\"time_weighted_{reduction}\")\n",
    "            ds = download.download_and_transform(\n",
    "                **kwargs,\n",
    "                requests=annual_requests,\n",
    "                transform_func=compute_time_reductions,\n",
    "                transform_func_kwargs={\"func\": func, \"weights\": False},\n",
    "            )\n",
    "            tmp_ds_list.append(rechunk(ds).expand_dims(reduction=[reduction]))\n",
    "        annual_ds_list.append(\n",
    "            xr.concat(tmp_ds_list, \"reduction\").expand_dims(year=[year])\n",
    "        )\n",
    "    datasets_annual[product] = xr.concat(annual_ds_list, \"year\")\n",
    "\n",
    "    # Seasonal\n",
    "    requests = download.update_request_date(\n",
    "        request_dict[\"request\"],\n",
    "        start=start,\n",
    "        stop=stop,\n",
    "        stringify_dates=True,\n",
    "    )\n",
    "    seasonal_ds_list = []\n",
    "    for season, months in tqdm.tqdm(season_month_dict.items(), desc=\"season\"):\n",
    "        season_requests = [\n",
    "            {\n",
    "                k: v\n",
    "                if k != \"month\"\n",
    "                else sorted(set({v} if isinstance(v, str) else v) & months)\n",
    "                for k, v in r.items()\n",
    "            }\n",
    "            for r in requests\n",
    "        ]\n",
    "        tmp_ds_list = []\n",
    "        for reduction in reductions:\n",
    "            # Seasonal\n",
    "            func = getattr(diagnostics, f\"seasonal_weighted_{reduction}\")\n",
    "            ds = download.download_and_transform(\n",
    "                **kwargs,\n",
    "                requests=season_requests,\n",
    "                transform_func=compute_time_reductions,\n",
    "                transform_func_kwargs={\"func\": func, \"weights\": False},\n",
    "            )\n",
    "            tmp_ds_list.append(rechunk(ds).expand_dims(reduction=[reduction]))\n",
    "        seasonal_ds_list.append(xr.concat(tmp_ds_list, \"reduction\"))\n",
    "    datasets_seasonal[product] = xr.concat(seasonal_ds_list, \"season\")\n",
    "\n",
    "del tmp_ds_list, annual_ds_list, seasonal_ds_list"
   ]
  },
  {
   "cell_type": "markdown",
   "id": "ed77ac70-113b-4a32-953f-05f8bd1de16c",
   "metadata": {},
   "source": [
    "## Plot low resolution seasonal maps"
   ]
  },
  {
   "cell_type": "code",
   "execution_count": null,
   "id": "7e91c57c-a05d-4f21-9184-47ee2085c151",
   "metadata": {
    "editable": true,
    "slideshow": {
     "slide_type": ""
    },
    "tags": []
   },
   "outputs": [],
   "source": [
    "datasets = []\n",
    "for product, ds in datasets_seasonal.items():\n",
    "    if product == \"ESACCI\":\n",
    "        ds = ds.coarsen(latitude=5, longitude=5).mean()\n",
    "        ds[\"latitude\"] = ds[\"latitude\"].round(3)\n",
    "        ds[\"longitude\"] = ds[\"longitude\"].round(3)\n",
    "    datasets.append(ds.expand_dims(product=[product]))\n",
    "ds = xr.concat(datasets, \"product\")\n",
    "\n",
    "for reduction, da in ds[\"analysed_sst\"].groupby(\"reduction\"):\n",
    "    title = f\"{reduction.title()} ({start}, {stop})\"\n",
    "    kwargs = {\"projection\": ccrs.Robinson(), \"plot_func\": \"contourf\"}\n",
    "\n",
    "    # Reduction\n",
    "    plot.projected_map(\n",
    "        da,\n",
    "        cmap=\"Spectral_r\" if reduction == \"mean\" else \"tab20b\",\n",
    "        center=False,\n",
    "        col=\"product\",\n",
    "        row=\"season\",\n",
    "        **kwargs,\n",
    "    )\n",
    "    plt.suptitle(title)\n",
    "    plt.show()\n",
    "\n",
    "    # Bias\n",
    "    with xr.set_options(keep_attrs=True):\n",
    "        bias = da.diff(\"product\").squeeze()\n",
    "    plot.projected_map(\n",
    "        bias, cmap=\"PRGn\", center=True, col=\"season\", col_wrap=2, **kwargs\n",
    "    )\n",
    "    plt.suptitle(\"Bias of \" + title + \"\\n\" + \" - \".join(da[\"product\"][::-1].values))\n",
    "    plt.show()"
   ]
  }
 ],
 "metadata": {
  "kernelspec": {
   "display_name": "Python 3 (ipykernel)",
   "language": "python",
   "name": "python3"
  },
  "language_info": {
   "codemirror_mode": {
    "name": "ipython",
    "version": 3
   },
   "file_extension": ".py",
   "mimetype": "text/x-python",
   "name": "python",
   "nbconvert_exporter": "python",
   "pygments_lexer": "ipython3",
   "version": "3.10.12"
  }
 },
 "nbformat": 4,
 "nbformat_minor": 5
}
