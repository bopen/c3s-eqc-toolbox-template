{
 "cells": [
  {
   "attachments": {},
   "cell_type": "markdown",
   "metadata": {},
   "source": [
    "# Use Case: Climatology - Air temperature over Europe"
   ]
  },
  {
   "attachments": {},
   "cell_type": "markdown",
   "metadata": {},
   "source": [
    "## Import packages"
   ]
  },
  {
   "cell_type": "code",
   "execution_count": null,
   "metadata": {},
   "outputs": [],
   "source": [
    "import cartopy.crs as ccrs\n",
    "import matplotlib.pyplot as plt\n",
    "import numpy as np\n",
    "import pandas as pd\n",
    "import xarray as xr\n",
    "from c3s_eqc_automatic_quality_control import download, utils\n",
    "\n",
    "plt.style.use(\"seaborn-v0_8-notebook\")"
   ]
  },
  {
   "attachments": {},
   "cell_type": "markdown",
   "metadata": {},
   "source": [
    "## Define parameters"
   ]
  },
  {
   "cell_type": "code",
   "execution_count": null,
   "metadata": {},
   "outputs": [],
   "source": [
    "# Define region\n",
    "lon_slice = slice(-11, -5)\n",
    "lat_slice = slice(36, 45)\n",
    "\n",
    "# Define climatology periods\n",
    "years_start = [1951, 1961, 1971, 1981, 1991]\n",
    "years_stop = [1980, 1990, 2000, 2010, 2020]\n",
    "colors = [\"deepskyblue\", \"green\", \"gold\", \"darkorange\", \"red\"]\n",
    "\n",
    "# Variable name\n",
    "varname = \"tg\""
   ]
  },
  {
   "attachments": {},
   "cell_type": "markdown",
   "metadata": {},
   "source": [
    "## Define function to cache"
   ]
  },
  {
   "cell_type": "code",
   "execution_count": null,
   "metadata": {},
   "outputs": [],
   "source": [
    "def regionalise_and_dayofyear_reindex(ds, lon_slice, lat_slice):\n",
    "    # Select region\n",
    "    ds = utils.regionalise(ds, lon_slice=lon_slice, lat_slice=lat_slice)\n",
    "\n",
    "    # 15-day rolling mean\n",
    "    ds_rolled = ds.rolling(time=15, center=True).mean()\n",
    "\n",
    "    # Extract periods\n",
    "    datasets = []\n",
    "    for year_start, year_stop in zip(years_start, years_stop):\n",
    "        period = f\"{year_start}-{year_stop}\"\n",
    "        ds_masked = ds_rolled.where(\n",
    "            (ds_rolled[\"time\"].dt.year >= year_start)\n",
    "            & (ds_rolled[\"time\"].dt.year <= year_stop),\n",
    "            drop=True,\n",
    "        )\n",
    "        datasets.append(\n",
    "            ds_masked.groupby(\"time.dayofyear\").mean().expand_dims(period=[period])\n",
    "        )\n",
    "    ds_dayofyear = xr.merge(datasets)\n",
    "\n",
    "    # Add season (pick any leap year)\n",
    "    season = xr.DataArray(\n",
    "        pd.to_datetime(ds_dayofyear[\"dayofyear\"].values - 1, unit=\"D\", origin=\"2000\"),\n",
    "    ).dt.season\n",
    "    return ds_dayofyear.assign_coords(season=(\"dayofyear\", season.values))"
   ]
  },
  {
   "attachments": {},
   "cell_type": "markdown",
   "metadata": {},
   "source": [
    "## Download and cache data"
   ]
  },
  {
   "cell_type": "code",
   "execution_count": null,
   "metadata": {},
   "outputs": [],
   "source": [
    "request = (\n",
    "    \"insitu-gridded-observations-europe\",\n",
    "    {\n",
    "        \"format\": \"zip\",\n",
    "        \"product_type\": \"ensemble_mean\",\n",
    "        \"variable\": \"mean_temperature\",\n",
    "        \"grid_resolution\": \"0.25deg\",\n",
    "        \"period\": \"full_period\",\n",
    "        \"version\": \"25.0e\",\n",
    "    },\n",
    ")\n",
    "ds = download.download_and_transform(\n",
    "    *request,\n",
    "    transform_func=regionalise_and_dayofyear_reindex,\n",
    "    transform_func_kwargs={\"lon_slice\": lon_slice, \"lat_slice\": lat_slice},\n",
    ")"
   ]
  },
  {
   "attachments": {},
   "cell_type": "markdown",
   "metadata": {},
   "source": [
    "## Define plotting functions"
   ]
  },
  {
   "cell_type": "code",
   "execution_count": null,
   "metadata": {},
   "outputs": [],
   "source": [
    "def plot_maps(da, **kwargs):\n",
    "    facet = da.plot.pcolormesh(subplot_kws={\"projection\": ccrs.PlateCarree()}, **kwargs)\n",
    "    for ax in facet.axs.flatten():\n",
    "        ax.set_extent(\n",
    "            [lon_slice.start, lon_slice.stop, lat_slice.start, lat_slice.stop],\n",
    "            crs=ccrs.PlateCarree(),\n",
    "        )\n",
    "        ax.coastlines(lw=1)\n",
    "        gl = ax.gridlines(draw_labels=True)\n",
    "        gl.top_labels = gl.right_labels = False\n",
    "    return facet\n",
    "\n",
    "\n",
    "def plot_pdf(da, colors=None, **kwargs):\n",
    "    lines = []\n",
    "    for i, (period, da) in enumerate(da.groupby(\"period\")):\n",
    "        hist, bin_edges = np.histogram(\n",
    "            da, bins=np.linspace(da.min(), da.max(), 50), density=True\n",
    "        )\n",
    "        da_hist = xr.DataArray(\n",
    "            hist, coords={\"bins\": (bin_edges[1:] + bin_edges[:-1]) / 2}\n",
    "        )\n",
    "        da_hist[\"bins\"].attrs = da.attrs\n",
    "        da_hist.attrs[\"long_name\"] = \"Probability Density\"\n",
    "        if colors is not None:\n",
    "            kwargs[\"color\"] = colors[i]\n",
    "        lines.append(da_hist.plot.line(x=\"bins\", label=period, **kwargs))\n",
    "    return lines"
   ]
  },
  {
   "attachments": {},
   "cell_type": "markdown",
   "metadata": {},
   "source": [
    "## Plot yearly climatology"
   ]
  },
  {
   "cell_type": "code",
   "execution_count": null,
   "metadata": {},
   "outputs": [],
   "source": [
    "facet = plot_maps(\n",
    "    ds[varname].mean(\"dayofyear\"), col=\"period\", cmap=\"RdBu_r\", robust=True\n",
    ")\n",
    "facet.fig.suptitle(\"Yearly mean\", y=1, va=\"bottom\")"
   ]
  },
  {
   "attachments": {},
   "cell_type": "markdown",
   "metadata": {},
   "source": [
    "## Plot overall PDF"
   ]
  },
  {
   "cell_type": "code",
   "execution_count": null,
   "metadata": {},
   "outputs": [],
   "source": [
    "fig, ax = plt.subplots(1, 1)\n",
    "lines = plot_pdf(ds[varname], colors=colors, ax=ax, add_legend=False)\n",
    "plt.legend()"
   ]
  },
  {
   "attachments": {},
   "cell_type": "markdown",
   "metadata": {},
   "source": [
    "## Plot seasonal climatology and PDF"
   ]
  },
  {
   "cell_type": "code",
   "execution_count": null,
   "metadata": {},
   "outputs": [],
   "source": [
    "fig, axes = plt.subplots(2, 1, sharey=True)\n",
    "for season, ax in zip([\"DJF\", \"JJA\"], axes):\n",
    "    facet = plot_maps(\n",
    "        ds[varname].where(ds[\"season\"] == season).mean(\"dayofyear\"),\n",
    "        col=\"period\",\n",
    "        cmap=\"RdBu_r\",\n",
    "        robust=True,\n",
    "    )\n",
    "    facet.fig.suptitle(season)\n",
    "\n",
    "    plot_pdf(\n",
    "        ds[varname].where(ds[\"season\"] == season),\n",
    "        colors=colors,\n",
    "        ax=ax,\n",
    "        add_legend=False,\n",
    "    )\n",
    "    if ax in axes[:-1]:\n",
    "        ax.set_xlabel(\"\")\n",
    "    ax.set_title(season)\n",
    "    ax.legend()"
   ]
  },
  {
   "cell_type": "code",
   "execution_count": null,
   "metadata": {},
   "outputs": [],
   "source": []
  }
 ],
 "metadata": {
  "kernelspec": {
   "display_name": "eqc",
   "language": "python",
   "name": "python3"
  },
  "language_info": {
   "codemirror_mode": {
    "name": "ipython",
    "version": 3
   },
   "file_extension": ".py",
   "mimetype": "text/x-python",
   "name": "python",
   "nbconvert_exporter": "python",
   "pygments_lexer": "ipython3",
   "version": "3.10.9"
  }
 },
 "nbformat": 4,
 "nbformat_minor": 2
}
