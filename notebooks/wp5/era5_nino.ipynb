{
 "cells": [
  {
   "cell_type": "markdown",
   "id": "1f383303",
   "metadata": {},
   "source": [
    "# El Niño in ERA5"
   ]
  },
  {
   "cell_type": "markdown",
   "id": "117979d7",
   "metadata": {},
   "source": [
    "## Import packages"
   ]
  },
  {
   "cell_type": "code",
   "execution_count": null,
   "id": "036bb7f5-46d3-45f9-a2c8-cc97ee8e9755",
   "metadata": {},
   "outputs": [],
   "source": [
    "import matplotlib.pyplot as plt\n",
    "import numpy as np\n",
    "import pandas as pd\n",
    "import xarray as xr\n",
    "from c3s_eqc_automatic_quality_control import diagnostics, download\n",
    "\n",
    "plt.style.use(\"seaborn-v0_8-notebook\")"
   ]
  },
  {
   "cell_type": "markdown",
   "id": "f271ebf8",
   "metadata": {},
   "source": [
    "## Import packages"
   ]
  },
  {
   "cell_type": "code",
   "execution_count": null,
   "id": "a3f8458d-1546-4578-9104-b27d82f0cc23",
   "metadata": {},
   "outputs": [],
   "source": [
    "# Time period\n",
    "start = \"1940-01\"\n",
    "stop = None  # None: present"
   ]
  },
  {
   "cell_type": "markdown",
   "id": "f454c567",
   "metadata": {},
   "source": [
    "## Define request"
   ]
  },
  {
   "cell_type": "code",
   "execution_count": null,
   "id": "b18f5c2b-f9bc-4ea7-a7ee-7b5d04291308",
   "metadata": {},
   "outputs": [],
   "source": [
    "collection_id = \"reanalysis-era5-pressure-levels-monthly-means\"\n",
    "\n",
    "request = {\n",
    "    \"format\": \"grib\",\n",
    "    \"product_type\": \"monthly_averaged_reanalysis\",\n",
    "    \"variable\": [\n",
    "        \"temperature\",\n",
    "        \"u_component_of_wind\",\n",
    "        \"relative_humidity\",\n",
    "        \"fraction_of_cloud_cover\",\n",
    "        \"vertical_velocity\",\n",
    "    ],\n",
    "    \"pressure_level\": [\n",
    "        \"100\",\n",
    "        \"125\",\n",
    "        \"150\",\n",
    "        \"175\",\n",
    "        \"200\",\n",
    "        \"225\",\n",
    "        \"250\",\n",
    "        \"300\",\n",
    "        \"350\",\n",
    "        \"400\",\n",
    "        \"450\",\n",
    "        \"500\",\n",
    "        \"550\",\n",
    "        \"600\",\n",
    "        \"650\",\n",
    "        \"700\",\n",
    "        \"750\",\n",
    "        \"775\",\n",
    "        \"800\",\n",
    "        \"825\",\n",
    "        \"850\",\n",
    "        \"875\",\n",
    "        \"900\",\n",
    "        \"925\",\n",
    "        \"950\",\n",
    "        \"975\",\n",
    "        \"1000\",\n",
    "    ],\n",
    "    \"time\": \"00:00\",\n",
    "    \"area\": [5, -170, -5, -120],\n",
    "}\n",
    "requests = download.update_request_date(request, start=start, stop=stop)"
   ]
  },
  {
   "cell_type": "markdown",
   "id": "fe714de0",
   "metadata": {},
   "source": [
    "## Download and transform"
   ]
  },
  {
   "cell_type": "code",
   "execution_count": null,
   "id": "16d5b925-5ecb-4b08-a610-a2b1ce11d25a",
   "metadata": {},
   "outputs": [],
   "source": [
    "ds = download.download_and_transform(\n",
    "    collection_id,\n",
    "    requests,\n",
    "    transform_func=diagnostics.spatial_weighted_mean,\n",
    "    chunks={\"year\": 1, \"variable\": 1},\n",
    ")\n",
    "with xr.set_options(keep_attrs=True):\n",
    "    ds[\"plev\"] = ds[\"plev\"] / 100\n",
    "ds[\"plev\"].attrs[\"units\"] = \"hPa\""
   ]
  },
  {
   "cell_type": "markdown",
   "id": "07927196",
   "metadata": {},
   "source": [
    "## Compute anomaly"
   ]
  },
  {
   "cell_type": "code",
   "execution_count": null,
   "id": "834f5ba7-2a2c-4231-835e-b405ae83c74b",
   "metadata": {},
   "outputs": [],
   "source": [
    "group = \"forecast_reference_time.month\"\n",
    "with xr.set_options(keep_attrs=True):\n",
    "    ds_anoma = ds.groupby(group) - ds.groupby(group).mean()\n",
    "for varname, da in ds_anoma.data_vars.items():\n",
    "    da.attrs[\"long_name\"] += \" anomaly\""
   ]
  },
  {
   "cell_type": "markdown",
   "id": "ae05a235",
   "metadata": {},
   "source": [
    "## Show min and max values"
   ]
  },
  {
   "cell_type": "code",
   "execution_count": null,
   "id": "c80b80a0-c2b9-42f2-b549-90e95c0120d0",
   "metadata": {},
   "outputs": [],
   "source": [
    "datasets = []\n",
    "for reduction in (\"min\", \"max\"):\n",
    "    datasets.append(\n",
    "        getattr(ds_anoma.sel(plev=slice(1000, 10)), reduction)().expand_dims(\n",
    "            reduction=[reduction]\n",
    "        )\n",
    "    )\n",
    "df = xr.concat(datasets, \"reduction\").to_pandas()\n",
    "df"
   ]
  },
  {
   "cell_type": "markdown",
   "id": "98d20b43",
   "metadata": {},
   "source": [
    "## Plot Hovmöller diagrams"
   ]
  },
  {
   "cell_type": "code",
   "execution_count": null,
   "id": "8571e356-dabc-4fe7-b734-155ceb3e67b6",
   "metadata": {},
   "outputs": [],
   "source": [
    "plot_dict = {\n",
    "    \"t\": {\"levels\": np.arange(-4, 4 + 0.5, 0.5), \"cmap\": \"RdBu_r\"},\n",
    "    \"u\": {\"levels\": np.arange(-20, 20 + 1, 1), \"cmap\": \"PuOr\"},\n",
    "    \"w\": {\"levels\": np.arange(-0.1, 0.1 + 0.01, 0.01), \"cmap\": \"PuOr\"},\n",
    "    \"r\": {\"levels\": np.arange(-40, 40 + 4, 4), \"cmap\": \"BrBG\"},\n",
    "    \"cc\": {\"levels\": np.arange(-0.5, 0.5 + 0.05, 0.05), \"cmap\": \"PRGn\"},\n",
    "}\n",
    "nino_dates = [\n",
    "    \"1951-10-01\",\n",
    "    \"1958-01-01\",\n",
    "    \"1963-11-01\",\n",
    "    \"1965-10-01\",\n",
    "    \"1969-01-01\",\n",
    "    \"1972-10-01\",\n",
    "    \"1982-11-01\",\n",
    "    \"1987-08-01\",\n",
    "    \"1992-01-01\",\n",
    "    \"1997-10-01\",\n",
    "    \"2002-11-01\",\n",
    "    \"2009-12-01\",\n",
    "    \"2015-11-01\",\n",
    "]\n",
    "nino_dates = xr.DataArray(pd.to_datetime(sorted(nino_dates)))\n",
    "nino_dates = nino_dates.sel(\n",
    "    dim_0=slice(\n",
    "        ds_anoma[\"forecast_reference_time\"].min(),\n",
    "        ds_anoma[\"forecast_reference_time\"].max(),\n",
    "    )\n",
    ")\n",
    "\n",
    "for time_sel, title in zip(\n",
    "    [slice(None, None), slice(\"1995-10-01\", \"2000-10-01\")],\n",
    "    [\"Major El Nino events in the Nino3.4 area\", \"El Nino 1997-1998\"],\n",
    "):\n",
    "    fig, axs = plt.subplots(len(ds_anoma.data_vars), figsize=(15, 16))\n",
    "    ds_to_plot = ds_anoma.sel(forecast_reference_time=time_sel)\n",
    "    for (varname, kwargs), ax in zip(plot_dict.items(), axs):\n",
    "        ds_to_plot[varname].plot.contourf(\n",
    "            y=\"plev\", yincrease=False, extend=\"both\", ax=ax, **kwargs\n",
    "        )\n",
    "        for nino_date in nino_dates.sel(dim_0=time_sel).values:\n",
    "            ax.axvline(nino_date, color=\"black\", linestyle=\"-\", lw=0.5)\n",
    "    fig.suptitle(title, fontsize=16, x=0.45, y=0.92)"
   ]
  }
 ],
 "metadata": {
  "kernelspec": {
   "display_name": "Python 3 (ipykernel)",
   "language": "python",
   "name": "python3"
  },
  "language_info": {
   "codemirror_mode": {
    "name": "ipython",
    "version": 3
   },
   "file_extension": ".py",
   "mimetype": "text/x-python",
   "name": "python",
   "nbconvert_exporter": "python",
   "pygments_lexer": "ipython3",
   "version": "3.10.12"
  }
 },
 "nbformat": 4,
 "nbformat_minor": 5
}
