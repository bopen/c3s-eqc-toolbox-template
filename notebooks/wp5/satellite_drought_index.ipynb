{
 "cells": [
  {
   "cell_type": "markdown",
   "id": "0",
   "metadata": {},
   "source": [
    "# Drought index"
   ]
  },
  {
   "cell_type": "markdown",
   "id": "1",
   "metadata": {},
   "source": [
    "## Import libraries"
   ]
  },
  {
   "cell_type": "code",
   "execution_count": null,
   "id": "2",
   "metadata": {},
   "outputs": [],
   "source": [
    "import matplotlib.colors as mcolors\n",
    "import matplotlib.pyplot as plt\n",
    "import xarray as xr\n",
    "from c3s_eqc_automatic_quality_control import download, plot, utils\n",
    "\n",
    "plt.style.use(\"seaborn-v0_8-notebook\")"
   ]
  },
  {
   "cell_type": "markdown",
   "id": "3",
   "metadata": {},
   "source": [
    "## Set parameters"
   ]
  },
  {
   "cell_type": "code",
   "execution_count": null,
   "id": "4",
   "metadata": {},
   "outputs": [],
   "source": [
    "# Time\n",
    "start = \"2000-01\"\n",
    "stop = \"2022-12\"\n",
    "index_slice = slice(\"2022-06-01\", \"2022-09-30\")\n",
    "\n",
    "# Max value allowed\n",
    "threshold = -1.5\n",
    "\n",
    "# Space\n",
    "area = [58, -10, 36, 30]"
   ]
  },
  {
   "cell_type": "markdown",
   "id": "5",
   "metadata": {},
   "source": [
    "## Define requests"
   ]
  },
  {
   "cell_type": "code",
   "execution_count": null,
   "id": "6",
   "metadata": {},
   "outputs": [],
   "source": [
    "requests = {\n",
    "    \"Reanalysis\": [\n",
    "        \"derived-era5-single-levels-daily-statistics\",\n",
    "        {\n",
    "            \"product_type\": \"reanalysis\",\n",
    "            \"variable\": [\"volumetric_soil_water_layer_1\", \"land_sea_mask\"],\n",
    "            \"daily_statistic\": \"daily_mean\",\n",
    "            \"time_zone\": \"utc+00:00\",\n",
    "            \"frequency\": \"1_hourly\",\n",
    "            \"area\": area,\n",
    "        },\n",
    "    ],\n",
    "    \"Satellite\": [\n",
    "        \"satellite-soil-moisture\",\n",
    "        {\n",
    "            \"variable\": [\"volumetric_surface_soil_moisture\"],\n",
    "            \"type_of_sensor\": [\"combined_passive_and_active\"],\n",
    "            \"time_aggregation\": [\"day_average\"],\n",
    "            \"type_of_record\": [\"cdr\"],\n",
    "            \"version\": [\"v202312\"],\n",
    "        },\n",
    "    ],\n",
    "}"
   ]
  },
  {
   "cell_type": "markdown",
   "id": "7",
   "metadata": {},
   "source": [
    "## Define functions to cache"
   ]
  },
  {
   "cell_type": "code",
   "execution_count": null,
   "id": "8",
   "metadata": {},
   "outputs": [],
   "source": [
    "def smooth(obj, window):\n",
    "    return obj.interpolate_na(\"time\").rolling(time=window, min_periods=1).mean()\n",
    "\n",
    "\n",
    "def compute_drought_index(ds, index_slice, lon_slice, lat_slice, threshold):\n",
    "    # Get raw data\n",
    "    (var_name,) = set(ds.data_vars) & {\"sm\", \"swvl1\"}\n",
    "    raw_data = utils.regionalise(ds[var_name], lon_slice=lon_slice, lat_slice=lat_slice)\n",
    "    if (lsm := ds.get(\"lsm\")) is not None:\n",
    "        raw_data = raw_data.where((lsm > 0.5).all(\"time\"))\n",
    "    raw_data = raw_data.chunk(time=-1)\n",
    "\n",
    "    # Get time-varying index\n",
    "    group_dim = \"time.dayofyear\"\n",
    "    smooth_data_grouped = smooth(raw_data, 11).groupby(group_dim)\n",
    "    index = raw_data.groupby(group_dim) - smooth_data_grouped.mean()\n",
    "    index = index.groupby(group_dim) / smooth_data_grouped.std()\n",
    "    index = index.sel(time=index_slice)\n",
    "    index = smooth(index, 3)\n",
    "    index = index.where(index < threshold)\n",
    "\n",
    "    # Compute severity and anomaly drought index\n",
    "    severity = index.sum(\"time\")\n",
    "    severity = severity.where(severity)\n",
    "    severity.attrs = {\"long_name\": \"Severity\", \"units\": \"1\"}\n",
    "    index = index.min(\"time\")\n",
    "    index.attrs = {\"long_name\": \"Anomaly drought index\", \"units\": \"1\"}\n",
    "    return xr.Dataset({\"sma\": index, \"severity\": severity})"
   ]
  },
  {
   "cell_type": "markdown",
   "id": "9",
   "metadata": {},
   "source": [
    "## Download and transform"
   ]
  },
  {
   "cell_type": "code",
   "execution_count": null,
   "id": "10",
   "metadata": {},
   "outputs": [],
   "source": [
    "datasets = {}\n",
    "for product, (collection_id, request) in requests.items():\n",
    "    datasets[product] = download.download_and_transform(\n",
    "        collection_id,\n",
    "        download.update_request_date(request, start, stop, stringify_dates=True),\n",
    "        chunks={\"year\": 1, \"month\": 1},\n",
    "        transform_func=compute_drought_index,\n",
    "        transform_func_kwargs={\n",
    "            \"index_slice\": index_slice,\n",
    "            \"lon_slice\": slice(area[1], area[3]),\n",
    "            \"lat_slice\": slice(area[0], area[2]),\n",
    "            \"threshold\": threshold,\n",
    "        },\n",
    "        transform_chunks=False,\n",
    "    )"
   ]
  },
  {
   "cell_type": "markdown",
   "id": "11",
   "metadata": {},
   "source": [
    "## Plot maps"
   ]
  },
  {
   "cell_type": "code",
   "execution_count": null,
   "id": "12",
   "metadata": {},
   "outputs": [],
   "source": [
    "def plot_map(da, colors, levels, **kwargs):\n",
    "    cmap = mcolors.ListedColormap(colors)\n",
    "    norm = mcolors.BoundaryNorm(levels, cmap.N)\n",
    "    return plot.projected_map(da, levels=levels, cmap=cmap, norm=norm, **kwargs)\n",
    "\n",
    "\n",
    "plot_kwargs = {\n",
    "    \"sma\": {\n",
    "        \"colors\": [\"#fe0000\", \"#fc7f01\", \"#ff9f00\", \"#febd01\", \"#fee819\", \"#e4ff7a\"],\n",
    "        \"levels\": [-8.0, -6.0, -5.0, -4.0, -3.0, -2.0, -1.5],\n",
    "    },\n",
    "    \"severity\": {\n",
    "        \"colors\": [\"#fe0000\", \"#fc7f01\", \"#ff9f00\", \"#febd01\", \"#fee819\", \"#e4ff7a\"],\n",
    "        \"levels\": [-300, -250, -200, -150, -100, -50, 0],\n",
    "    },\n",
    "}\n",
    "\n",
    "for product, ds in datasets.items():\n",
    "    for variable, kwargs in plot_kwargs.items():\n",
    "        plot_map(ds[variable], **kwargs)\n",
    "        plt.suptitle(f\"{variable = }\\n{product = }\")\n",
    "        plt.show()"
   ]
  }
 ],
 "metadata": {
  "kernelspec": {
   "display_name": "Python 3 (ipykernel)",
   "language": "python",
   "name": "python3"
  },
  "language_info": {
   "codemirror_mode": {
    "name": "ipython",
    "version": 3
   },
   "file_extension": ".py",
   "mimetype": "text/x-python",
   "name": "python",
   "nbconvert_exporter": "python",
   "pygments_lexer": "ipython3",
   "version": "3.11.11"
  }
 },
 "nbformat": 4,
 "nbformat_minor": 5
}
