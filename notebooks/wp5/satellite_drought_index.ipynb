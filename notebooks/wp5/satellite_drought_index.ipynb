{
 "cells": [
  {
   "cell_type": "markdown",
   "id": "0",
   "metadata": {},
   "source": [
    "# Drought index"
   ]
  },
  {
   "cell_type": "markdown",
   "id": "1",
   "metadata": {},
   "source": [
    "## Import libraries"
   ]
  },
  {
   "cell_type": "code",
   "execution_count": null,
   "id": "2",
   "metadata": {},
   "outputs": [],
   "source": [
    "import matplotlib.pyplot as plt\n",
    "import xarray as xr\n",
    "from c3s_eqc_automatic_quality_control import diagnostics, download, plot, utils\n",
    "\n",
    "plt.style.use(\"seaborn-v0_8-notebook\")"
   ]
  },
  {
   "cell_type": "markdown",
   "id": "3",
   "metadata": {},
   "source": [
    "## Set parameters"
   ]
  },
  {
   "cell_type": "code",
   "execution_count": null,
   "id": "4",
   "metadata": {},
   "outputs": [],
   "source": [
    "# Time\n",
    "start = \"2000-01\"\n",
    "stop = \"2022-12\"\n",
    "index_slice = slice(\"2022-06-01\", \"2022-09-30\")\n",
    "\n",
    "# Space\n",
    "area = [58, -10, 36, 30]"
   ]
  },
  {
   "cell_type": "markdown",
   "id": "5",
   "metadata": {},
   "source": [
    "## Define requests"
   ]
  },
  {
   "cell_type": "code",
   "execution_count": null,
   "id": "6",
   "metadata": {},
   "outputs": [],
   "source": [
    "requests = {\n",
    "    \"Reanalysis\": [\n",
    "        \"derived-era5-single-levels-daily-statistics\",\n",
    "        {\n",
    "            \"product_type\": \"reanalysis\",\n",
    "            \"variable\": [\"volumetric_soil_water_layer_1\"],\n",
    "            \"daily_statistic\": \"daily_mean\",\n",
    "            \"time_zone\": \"utc+00:00\",\n",
    "            \"frequency\": \"1_hourly\",\n",
    "            \"area\": area,\n",
    "        },\n",
    "    ],\n",
    "    \"Satellite\": [\n",
    "        \"satellite-soil-moisture\",\n",
    "        {\n",
    "            \"variable\": [\"volumetric_surface_soil_moisture\"],\n",
    "            \"type_of_sensor\": [\"combined_passive_and_active\"],\n",
    "            \"time_aggregation\": [\"day_average\"],\n",
    "            \"type_of_record\": [\"cdr\"],\n",
    "            \"version\": [\"v202312\"],\n",
    "        },\n",
    "    ],\n",
    "}"
   ]
  },
  {
   "cell_type": "markdown",
   "id": "7",
   "metadata": {},
   "source": [
    "## Define functions to cache"
   ]
  },
  {
   "cell_type": "code",
   "execution_count": null,
   "id": "8",
   "metadata": {},
   "outputs": [],
   "source": [
    "def smooth(obj, window):\n",
    "    return obj.interpolate_na(\"time\").rolling(time=window, min_periods=1).mean()\n",
    "\n",
    "\n",
    "def compute_drought_index(ds, index_slice, lon_slice, lat_slice):\n",
    "    # Get raw data\n",
    "    (var_name,) = set(ds.data_vars) & {\"sm\", \"swvl1\"}\n",
    "    raw_data = utils.regionalise(ds[var_name], lon_slice=lon_slice, lat_slice=lat_slice)\n",
    "    raw_data = raw_data.chunk(time=-1)\n",
    "\n",
    "    # Compute index\n",
    "    group_dim = \"time.dayofyear\"\n",
    "    smooth_data_grouped = smooth(raw_data, 11).groupby(group_dim)\n",
    "    index = raw_data.groupby(group_dim) - smooth_data_grouped.mean()\n",
    "    index = index.groupby(group_dim) / smooth_data_grouped.std()\n",
    "    index = smooth(index.sel(time=index_slice), 3)\n",
    "\n",
    "    # Attributes\n",
    "    index.attrs = {\"long_name\": \"Drought index\"}\n",
    "    return index.to_dataset(name=\"drought_index\")"
   ]
  },
  {
   "cell_type": "markdown",
   "id": "9",
   "metadata": {},
   "source": [
    "## Download and transform"
   ]
  },
  {
   "cell_type": "code",
   "execution_count": null,
   "id": "10",
   "metadata": {},
   "outputs": [],
   "source": [
    "datasets = {}\n",
    "for product, (collection_id, request) in requests.items():\n",
    "    datasets[product] = download.download_and_transform(\n",
    "        collection_id,\n",
    "        download.update_request_date(request, start, stop, stringify_dates=True),\n",
    "        chunks={\"year\": 1, \"month\": 1},\n",
    "        transform_func=compute_drought_index,\n",
    "        transform_func_kwargs={\n",
    "            \"index_slice\": index_slice,\n",
    "            \"lon_slice\": slice(area[1], area[3]),\n",
    "            \"lat_slice\": slice(area[0], area[2]),\n",
    "        },\n",
    "        transform_chunks=False,\n",
    "    )\n",
    "ds_timeseries = xr.combine_by_coords(\n",
    "    [\n",
    "        diagnostics.spatial_weighted_mean(ds).expand_dims(product=[product])\n",
    "        for product, ds in datasets.items()\n",
    "    ]\n",
    ")"
   ]
  },
  {
   "cell_type": "markdown",
   "id": "11",
   "metadata": {},
   "source": [
    "## Quick and dirty plot: Timeseries"
   ]
  },
  {
   "cell_type": "code",
   "execution_count": null,
   "id": "12",
   "metadata": {},
   "outputs": [],
   "source": [
    "ds_timeseries[\"drought_index\"].plot(hue=\"product\")\n",
    "plt.grid()"
   ]
  },
  {
   "cell_type": "markdown",
   "id": "13",
   "metadata": {},
   "source": [
    "## Quick and dirty plot: Maps"
   ]
  },
  {
   "cell_type": "code",
   "execution_count": null,
   "id": "14",
   "metadata": {},
   "outputs": [],
   "source": [
    "for product, ds in datasets.items():\n",
    "    plot.projected_map(ds[\"drought_index\"].mean(\"time\", keep_attrs=True))\n",
    "    plt.suptitle(f\"{product = }\")\n",
    "    plt.show()"
   ]
  }
 ],
 "metadata": {
  "kernelspec": {
   "display_name": "Python 3 (ipykernel)",
   "language": "python",
   "name": "python3"
  },
  "language_info": {
   "codemirror_mode": {
    "name": "ipython",
    "version": 3
   },
   "file_extension": ".py",
   "mimetype": "text/x-python",
   "name": "python",
   "nbconvert_exporter": "python",
   "pygments_lexer": "ipython3",
   "version": "3.11.11"
  }
 },
 "nbformat": 4,
 "nbformat_minor": 5
}
