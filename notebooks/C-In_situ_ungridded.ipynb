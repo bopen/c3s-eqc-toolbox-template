{
 "cells": [
  {
   "cell_type": "code",
   "execution_count": null,
   "metadata": {},
   "outputs": [],
   "source": [
    "import warnings\n",
    "\n",
    "import cacholote\n",
    "import cads_toolbox\n",
    "import pandas as pd\n",
    "import xarray as xr\n",
    "from c3s_eqc_automatic_quality_control import download, plot\n",
    "\n",
    "warnings.filterwarnings(\"ignore\")\n",
    "cads_toolbox.config.USE_CACHE = True\n",
    "cacholote.config.set(raise_all_encoding_errors=True)"
   ]
  },
  {
   "cell_type": "code",
   "execution_count": null,
   "metadata": {},
   "outputs": [],
   "source": [
    "collection_id = \"insitu-observations-gruan-reference-network\"\n",
    "request = {\n",
    "    \"format\": \"csv-lev.zip\",\n",
    "    \"variable\": \"air_temperature\",\n",
    "}\n",
    "start = \"2018-01\"\n",
    "stop = \"2020-01\""
   ]
  },
  {
   "cell_type": "code",
   "execution_count": null,
   "metadata": {},
   "outputs": [],
   "source": [
    "requests = download.update_request_date(request, start=start, stop=stop)"
   ]
  },
  {
   "cell_type": "code",
   "execution_count": null,
   "metadata": {},
   "outputs": [],
   "source": [
    "def transform_func(ds):\n",
    "    ds[\"datetime\"] = pd.to_datetime(ds[\"report_timestamp\"])\n",
    "    datetime = pd.to_datetime(ds[\"report_timestamp\"])\n",
    "    time = pd.to_datetime(f\"{datetime.mean().year}-{datetime.mean().month}\")\n",
    "    dataarrays = []\n",
    "    for station, dataset in ds.groupby(\"station_name\"):\n",
    "        da = ds[\"air_temperature\"]\n",
    "        for method in (\"mean\", \"std\"):\n",
    "            reduced = (\n",
    "                getattr(da, method)()\n",
    "                .rename(station)\n",
    "                .expand_dims(time=[time], reduction=[method])\n",
    "            )\n",
    "            dataarrays.append(reduced)\n",
    "    return xr.merge(dataarrays)"
   ]
  },
  {
   "cell_type": "code",
   "execution_count": null,
   "metadata": {},
   "outputs": [],
   "source": [
    "ds = download.download_and_transform(\n",
    "    collection_id,\n",
    "    requests,\n",
    "    chunks={\"year\": 1, \"month\": 1},\n",
    "    transform_func=transform_func,\n",
    ")"
   ]
  },
  {
   "cell_type": "code",
   "execution_count": null,
   "metadata": {},
   "outputs": [],
   "source": [
    "filename = \"_\".join([\"global-timeseries\", collection_id])\n",
    "title = filename.replace(\"-\", \" \").replace(\"_\", \" \").title()\n",
    "fig = plot.shaded_std(\n",
    "    list(ds.data_vars),\n",
    "    ds.sel(reduction=\"mean\"),\n",
    "    title=title,\n",
    ")\n",
    "fig.show()\n",
    "fig.write_image(filename + \".png\")"
   ]
  },
  {
   "cell_type": "code",
   "execution_count": null,
   "metadata": {},
   "outputs": [],
   "source": []
  }
 ],
 "metadata": {
  "kernelspec": {
   "display_name": "eqc",
   "language": "python",
   "name": "python3"
  },
  "language_info": {
   "codemirror_mode": {
    "name": "ipython",
    "version": 3
   },
   "file_extension": ".py",
   "mimetype": "text/x-python",
   "name": "python",
   "nbconvert_exporter": "python",
   "pygments_lexer": "ipython3",
   "version": "3.10.8 | packaged by conda-forge | (main, Nov 22 2022, 08:27:35) [Clang 14.0.6 ]"
  },
  "vscode": {
   "interpreter": {
    "hash": "39a16a1176456aec0710d6d8dd097fdfd8eece03838aebbaaddfca0f16ac2477"
   }
  }
 },
 "nbformat": 4,
 "nbformat_minor": 2
}
