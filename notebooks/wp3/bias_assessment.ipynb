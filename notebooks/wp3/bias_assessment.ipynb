{
 "cells": [
  {
   "cell_type": "markdown",
   "id": "89eb274f-bb3f-48e2-8f5f-b4c7ebc7eb14",
   "metadata": {},
   "source": [
    "# Bias of seasonal forecast"
   ]
  },
  {
   "cell_type": "markdown",
   "id": "bd42242f-ddef-4170-91e9-9e6378574690",
   "metadata": {},
   "source": [
    "## Import packages"
   ]
  },
  {
   "cell_type": "code",
   "execution_count": null,
   "id": "38cde48c-ad22-4cf6-ade4-39ba51f40641",
   "metadata": {},
   "outputs": [],
   "source": [
    "import cartopy.crs as ccrs\n",
    "import matplotlib.pyplot as plt\n",
    "import regionmask\n",
    "import xarray as xr\n",
    "from c3s_eqc_automatic_quality_control import diagnostics, download, plot\n",
    "\n",
    "plt.style.use(\"seaborn-v0_8-notebook\")"
   ]
  },
  {
   "cell_type": "markdown",
   "id": "88eaa6f6-9a37-4050-b01f-8c03656c3327",
   "metadata": {},
   "source": [
    "## Define Parameters"
   ]
  },
  {
   "cell_type": "code",
   "execution_count": null,
   "id": "348d6273-3e42-4dce-90bb-5b0f5628d356",
   "metadata": {},
   "outputs": [],
   "source": [
    "# Time\n",
    "year_forecast = 2023\n",
    "year_start_hindcast = 1993\n",
    "year_stop_hindcast = 2016\n",
    "\n",
    "# Variable\n",
    "variables = [\n",
    "    \"2m_temperature\",\n",
    "    \"total_precipitation\",\n",
    "    \"surface_solar_radiation_downwards\",\n",
    "    \"10m_wind_speed\",\n",
    "    \"2m_dewpoint_temperature\",\n",
    "]\n",
    "\n",
    "# Define centres with missing variables\n",
    "missing_variables = {\"eccc\": [\"2m_dewpoint_temperature\"]}\n",
    "\n",
    "# Centres\n",
    "centres = {\n",
    "    \"cmcc\": {\"system\": \"35\"},\n",
    "    \"dwd\": {\"system\": \"21\"},\n",
    "    \"eccc\": {\"system\": \"3\"},\n",
    "    \"ecmwf\": {\"system\": \"51\"},\n",
    "    \"jma\": {\"system\": \"3\"},\n",
    "    \"meteo_france\": {\"system\": \"8\"},\n",
    "    \"ncep\": {\"system\": \"2\"},\n",
    "    \"ukmo\": {\"system\": \"601\"},\n",
    "}\n",
    "assert all(\"system\" in v for v in centres.values())\n",
    "assert set(centres) <= {\n",
    "    \"cmcc\",\n",
    "    \"dwd\",\n",
    "    \"eccc\",\n",
    "    \"ecmwf\",\n",
    "    \"jma\",\n",
    "    \"meteo_france\",\n",
    "    \"ncep\",\n",
    "    \"ukmo\",\n",
    "}\n",
    "\n",
    "# Regions\n",
    "regions = [\n",
    "    \"EAF\",\n",
    "    \"ENA\",\n",
    "    \"MED\",\n",
    "    \"NEB\",\n",
    "    \"SAS\",\n",
    "    \"SEA\",\n",
    "    \"WNA\",\n",
    "    \"WSA\",\n",
    "]\n",
    "assert set(regions) <= set(regionmask.defined_regions.srex.abbrevs)\n",
    "\n",
    "# Ploting settings\n",
    "plot_kwargs = {\n",
    "    \"total_precipitation\": {\"cmap\": \"BrBG\"},\n",
    "}"
   ]
  },
  {
   "cell_type": "markdown",
   "id": "79ad5137-f62e-4bde-b1c8-d6f7394f3d81",
   "metadata": {},
   "source": [
    "## Plot selected regions"
   ]
  },
  {
   "cell_type": "code",
   "execution_count": null,
   "id": "c2ccee3f-2b88-4a7b-be83-63645cc2ecb3",
   "metadata": {},
   "outputs": [],
   "source": [
    "ax = regionmask.defined_regions.srex[regions].plot(\n",
    "    projection=ccrs.Robinson(),\n",
    "    label=\"abbrev\",\n",
    "    add_ocean=True,\n",
    ")\n",
    "ax.set_global()"
   ]
  },
  {
   "cell_type": "markdown",
   "id": "ccbe38ee-2514-4f10-81ef-00d1a8633293",
   "metadata": {},
   "source": [
    "## Define requests"
   ]
  },
  {
   "cell_type": "code",
   "execution_count": null,
   "id": "9ca06bda",
   "metadata": {},
   "outputs": [],
   "source": [
    "chunks = {\"year\": 1, \"variable\": 1}\n",
    "common_request = {\n",
    "    \"format\": \"grib\",\n",
    "    \"area\": [89.5, -179.5, -89.5, 179.5],\n",
    "    \"year\": [str(year) for year in range(year_start_hindcast, year_stop_hindcast + 1)],\n",
    "}\n",
    "\n",
    "collection_id_reanalysis = \"reanalysis-era5-single-levels-monthly-means\"\n",
    "request_reanalysis = common_request | {\n",
    "    \"product_type\": \"monthly_averaged_reanalysis\",\n",
    "    \"month\": [f\"{month:02d}\" for month in range(1, 13)],\n",
    "    \"time\": \"00:00\",\n",
    "}\n",
    "\n",
    "collection_id_seasonal = \"seasonal-monthly-single-levels\"\n",
    "request_seasonal = common_request | {\n",
    "    \"product_type\": \"monthly_mean\",\n",
    "    \"leadtime_month\": list(map(str, range(1, 7))),\n",
    "    \"month\": [f\"{month:02d}\" for month in range(1, 13)],\n",
    "    \"grid\": \"1/1\",\n",
    "}"
   ]
  },
  {
   "cell_type": "markdown",
   "id": "1b2e2257-6315-46bd-b0d3-a50bb2d468ed",
   "metadata": {},
   "source": [
    "## Functions to cache"
   ]
  },
  {
   "cell_type": "code",
   "execution_count": null,
   "id": "a3aa1b96-f0fc-4cd2-810c-6a32a4eae0ea",
   "metadata": {},
   "outputs": [],
   "source": [
    "def regionalised_spatial_weighted_mean(ds, region, weights, mean_dims=None):\n",
    "    mask = regionmask.defined_regions.srex.mask(ds)\n",
    "    index = regionmask.defined_regions.srex.map_keys(region)\n",
    "    ds = ds.where((mask == index).compute(), drop=True)\n",
    "    ds = diagnostics.spatial_weighted_mean(ds, weights=weights)\n",
    "    if mean_dims:\n",
    "        return ds.mean(mean_dims, keep_attrs=True)\n",
    "    return ds\n",
    "\n",
    "\n",
    "def postprocess_dataarray(da):\n",
    "    time_dims = {dim for dim in da.dims if \"time\" in dim}\n",
    "    if time_dims:\n",
    "        if len(time_dims) == 1:\n",
    "            (valid_time,) = time_dims\n",
    "        else:\n",
    "            starting_time = \"forecast_reference_time\"\n",
    "            (valid_time,) = time_dims - {starting_time}\n",
    "            da = da.rename({starting_time: \"starting_time\"})\n",
    "        da = da.rename({valid_time: \"valid_time\"})\n",
    "\n",
    "    if \"leadtime\" in da.coords:\n",
    "        da = da.drop_vars(\"leadtime\")\n",
    "\n",
    "    # Convert units\n",
    "    m_to_mm = 1.0e3\n",
    "    day_to_s = 60 * 60 * 24\n",
    "    if da.name == \"total_precipitation\" and da.attrs[\"units\"] != \"mm/month\":\n",
    "        if da.attrs[\"units\"] == \"m\":\n",
    "            factor = m_to_mm\n",
    "        elif da.attrs[\"units\"] == \"m s**-1\":\n",
    "            factor = m_to_mm * day_to_s\n",
    "        else:\n",
    "            raise ValueError(f\"{da.attrs['units']=}\")\n",
    "\n",
    "        if \"valid_time\" in da.variables:\n",
    "            factor *= da[\"valid_time\"].dt.days_in_month\n",
    "            units = \"mm/month\"\n",
    "        else:\n",
    "            units = \"mm/day\"\n",
    "        with xr.set_options(keep_attrs=True):\n",
    "            da *= factor\n",
    "        da.attrs[\"units\"] = units\n",
    "    return da\n",
    "\n",
    "\n",
    "def get_seasonal_map(ds, starting_month, valid_month, grid_out, **kwargs):\n",
    "    starting_time = \"forecast_reference_time\"\n",
    "    (valid_dim,) = {dim for dim in ds.dims if \"time\" in dim} - {starting_time}\n",
    "    (year,) = set(ds[starting_time].dt.year.values)\n",
    "\n",
    "    for dim, prefix in {starting_time: \"starting\", valid_dim: \"valid\"}.items():\n",
    "        ds = (\n",
    "            ds.groupby(f\"{dim}.month\")\n",
    "            .mean(keep_attrs=True)\n",
    "            .rename(month=f\"{prefix}_month\")\n",
    "        )\n",
    "    ds = ds.sel(starting_month=starting_month, valid_month=valid_month)\n",
    "    ds = ds.mean(\"realization\", keep_attrs=True)\n",
    "\n",
    "    ds = diagnostics.regrid(ds, grid_out, **kwargs)\n",
    "    return ds.expand_dims(year=[year])"
   ]
  },
  {
   "cell_type": "markdown",
   "id": "da2a9850-3235-4c11-9f0f-f4527f57ef06",
   "metadata": {},
   "source": [
    "## Single bias map"
   ]
  },
  {
   "cell_type": "code",
   "execution_count": null,
   "id": "abcab0d6-4df1-4b12-ba42-f401a132373c",
   "metadata": {},
   "outputs": [],
   "source": [
    "# Set parameters\n",
    "starting_month = 1\n",
    "valid_month = 1\n",
    "variable = \"2m_temperature\"\n",
    "centre = \"cmcc\"\n",
    "assert all(month in range(1, 13) for month in (starting_month, valid_month))\n",
    "assert variable in variables\n",
    "assert centre in centres\n",
    "\n",
    "# Get reanalysis map\n",
    "ds = download.download_and_transform(\n",
    "    collection_id_reanalysis,\n",
    "    request_reanalysis | {\"variable\": variable},\n",
    "    chunks=chunks,\n",
    "    transform_chunks=False,\n",
    "    transform_func=diagnostics.monthly_weighted_mean,\n",
    ")\n",
    "ds = ds.rename(month=\"valid_month\").sel(valid_month=valid_month)\n",
    "grid_out = ds[[\"latitude\", \"longitude\"]]\n",
    "(da,) = ds.data_vars.values()\n",
    "da_reanalysis = postprocess_dataarray(da.rename(variable))\n",
    "\n",
    "# Get seasonal map\n",
    "ds = download.download_and_transform(\n",
    "    collection_id_seasonal,\n",
    "    request_seasonal\n",
    "    | {\"originating_centre\": centre, \"variable\": variable}\n",
    "    | centres[centre],\n",
    "    chunks=chunks,\n",
    "    transform_func=get_seasonal_map,\n",
    "    transform_func_kwargs={\n",
    "        \"starting_month\": starting_month,\n",
    "        \"valid_month\": valid_month,\n",
    "        \"grid_out\": grid_out,\n",
    "        \"method\": \"bilinear\",\n",
    "    },\n",
    "    backend_kwargs={\n",
    "        \"time_dims\": (\n",
    "            \"verifying_time\",\n",
    "            (\"indexing_time\" if centre in [\"ukmo\", \"jma\", \"ncep\"] else \"time\"),\n",
    "        )\n",
    "    },\n",
    ")\n",
    "ds = ds.mean(\"year\", keep_attrs=True)\n",
    "(da,) = ds.data_vars.values()\n",
    "da_seasonal = postprocess_dataarray(da.rename(variable))\n",
    "\n",
    "# Compute bias\n",
    "with xr.set_options(keep_attrs=True):\n",
    "    bias = da_seasonal - da_reanalysis\n",
    "bias.attrs[\"long_name\"] = \"Bias of \" + bias.attrs[\"long_name\"]\n",
    "\n",
    "# Plot\n",
    "plot.projected_map(\n",
    "    bias, projection=ccrs.Robinson(), **plot_kwargs.get(variable, {}) | {\"robust\": True}\n",
    ")\n",
    "regionmask.defined_regions.srex[regions].plot(add_label=False)\n",
    "_ = plt.title(f\"{centre=}\\n{starting_month=} {valid_month=}\")"
   ]
  },
  {
   "cell_type": "markdown",
   "id": "4a46a64c-9a1f-48b1-9496-212e91cff74e",
   "metadata": {},
   "source": [
    "## Download and transform ERA5"
   ]
  },
  {
   "cell_type": "code",
   "execution_count": null,
   "id": "9e90f87d-8295-42a8-a361-b9cbb5112d9b",
   "metadata": {},
   "outputs": [],
   "source": [
    "# Get the reanalysis data\n",
    "datasets = []\n",
    "for region in regions:\n",
    "    dataarrays = []\n",
    "    for variable in variables:\n",
    "        print(f\"{region=} {variable=}\")\n",
    "        ds = download.download_and_transform(\n",
    "            collection_id_reanalysis,\n",
    "            request_reanalysis | {\"variable\": variable},\n",
    "            chunks=chunks,\n",
    "            transform_func=regionalised_spatial_weighted_mean,\n",
    "            transform_func_kwargs={\"region\": region, \"weights\": False},\n",
    "        )\n",
    "        (da,) = ds.data_vars.values()\n",
    "        dataarrays.append(postprocess_dataarray(da.rename(variable)))\n",
    "    ds = xr.merge(dataarrays)\n",
    "    datasets.append(ds.expand_dims(region=[region]).compute())\n",
    "ds_reanalysis = xr.concat(datasets, \"region\")\n",
    "del datasets"
   ]
  },
  {
   "cell_type": "markdown",
   "id": "a5140cd0-6a71-4bcf-a478-ec4a1635ac23",
   "metadata": {},
   "source": [
    "## Download and transform seasonal forecast"
   ]
  },
  {
   "cell_type": "code",
   "execution_count": null,
   "id": "15871fbd-0408-4c7b-9885-3f4e0e85c555",
   "metadata": {},
   "outputs": [],
   "source": [
    "# Get the seasonal forecast data\n",
    "datasets = []\n",
    "for centre, request_kwargs in centres.items():\n",
    "    for region in regions:\n",
    "        dataarrays = []\n",
    "        for variable in variables:\n",
    "            print(f\"{centre=} {region=} {variable=}\")\n",
    "            if variable in missing_variables.get(centre, []):\n",
    "                print(\"SKIP\")\n",
    "                continue\n",
    "\n",
    "            ds = download.download_and_transform(\n",
    "                collection_id_seasonal,\n",
    "                request_seasonal\n",
    "                | {\"originating_centre\": centre, \"variable\": variable}\n",
    "                | request_kwargs,\n",
    "                chunks=chunks,\n",
    "                transform_func=regionalised_spatial_weighted_mean,\n",
    "                transform_func_kwargs={\n",
    "                    \"region\": region,\n",
    "                    \"weights\": False,\n",
    "                    \"mean_dims\": (\"realization\",),\n",
    "                },\n",
    "                backend_kwargs={\n",
    "                    \"time_dims\": (\n",
    "                        \"verifying_time\",\n",
    "                        (\n",
    "                            \"indexing_time\"\n",
    "                            if centre in [\"ukmo\", \"jma\", \"ncep\"]\n",
    "                            else \"time\"\n",
    "                        ),\n",
    "                    )\n",
    "                },\n",
    "            )\n",
    "            (da,) = ds.data_vars.values()\n",
    "            dataarrays.append(postprocess_dataarray(da.rename(variable)))\n",
    "        ds = xr.merge(dataarrays)\n",
    "        datasets.append(ds.expand_dims(centre=[centre], region=[region]).compute())\n",
    "ds_seasonal = xr.merge(datasets)\n",
    "del datasets"
   ]
  },
  {
   "cell_type": "markdown",
   "id": "407e796f-84ec-4a0d-a6e5-c986667a3eb1",
   "metadata": {},
   "source": [
    "## Monthly data"
   ]
  },
  {
   "cell_type": "code",
   "execution_count": null,
   "id": "1cda0468-7ed3-492b-81a0-824af3fc6ef1",
   "metadata": {},
   "outputs": [],
   "source": [
    "def monthly_mean(ds):\n",
    "    for dim in ds.dims:\n",
    "        if \"time\" in dim:\n",
    "            ds = (\n",
    "                ds.groupby(f\"{dim}.month\")\n",
    "                .mean(keep_attrs=True)\n",
    "                .rename(month=dim.replace(\"time\", \"month\"))\n",
    "            )\n",
    "    return ds\n",
    "\n",
    "\n",
    "ds_reanalysis = monthly_mean(ds_reanalysis)\n",
    "ds_seasonal = monthly_mean(ds_seasonal)"
   ]
  },
  {
   "cell_type": "markdown",
   "id": "69d4b622-67d0-4a5f-8fa7-a412b2d281dd",
   "metadata": {},
   "source": [
    "## Compute bias"
   ]
  },
  {
   "cell_type": "code",
   "execution_count": null,
   "id": "7717cc98-edab-4147-8904-401244e8678f",
   "metadata": {},
   "outputs": [],
   "source": [
    "with xr.set_options(keep_attrs=True):\n",
    "    bias = ds_seasonal - ds_reanalysis\n",
    "for da in bias.data_vars.values():\n",
    "    da.attrs[\"long_name\"] = \"Bias of \" + da.attrs[\"long_name\"]\n",
    "# Avoid ticks interpolation\n",
    "bias = bias.assign_coords(\n",
    "    {name: coord.astype(str) for name, coord in bias.coords.items()}\n",
    ")"
   ]
  },
  {
   "cell_type": "markdown",
   "id": "47cb6670-2ed2-4fbe-94c6-e24a86d50891",
   "metadata": {},
   "source": [
    "## Plot all biases together"
   ]
  },
  {
   "cell_type": "code",
   "execution_count": null,
   "id": "36847d67-3eb7-4f21-a7e6-6e83e0d05a2f",
   "metadata": {},
   "outputs": [],
   "source": [
    "for varname, da in bias.data_vars.items():\n",
    "    facet = da.plot(\n",
    "        col=\"centre\", row=\"region\", x=\"valid_month\", **plot_kwargs.get(varname, {})\n",
    "    )\n",
    "    facet.fig.suptitle(f\"Seasonal forecast: {da.attrs['long_name']}\", y=1.01)\n",
    "    plt.show()"
   ]
  }
 ],
 "metadata": {
  "kernelspec": {
   "display_name": "Python 3 (ipykernel)",
   "language": "python",
   "name": "python3"
  },
  "language_info": {
   "codemirror_mode": {
    "name": "ipython",
    "version": 3
   },
   "file_extension": ".py",
   "mimetype": "text/x-python",
   "name": "python",
   "nbconvert_exporter": "python",
   "pygments_lexer": "ipython3",
   "version": "3.11.7"
  }
 },
 "nbformat": 4,
 "nbformat_minor": 5
}
