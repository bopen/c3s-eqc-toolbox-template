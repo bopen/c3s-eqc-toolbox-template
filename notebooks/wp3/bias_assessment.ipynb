{
 "cells": [
  {
   "cell_type": "markdown",
   "id": "89eb274f-bb3f-48e2-8f5f-b4c7ebc7eb14",
   "metadata": {},
   "source": [
    "# Bias of seasonal forecast"
   ]
  },
  {
   "cell_type": "markdown",
   "id": "bd42242f-ddef-4170-91e9-9e6378574690",
   "metadata": {},
   "source": [
    "## Import packages"
   ]
  },
  {
   "cell_type": "code",
   "execution_count": null,
   "id": "38cde48c-ad22-4cf6-ade4-39ba51f40641",
   "metadata": {},
   "outputs": [],
   "source": [
    "import matplotlib.pyplot as plt\n",
    "import xarray as xr\n",
    "from c3s_eqc_automatic_quality_control import diagnostics, download, utils\n",
    "\n",
    "plt.style.use(\"seaborn-v0_8-notebook\")"
   ]
  },
  {
   "cell_type": "markdown",
   "id": "88eaa6f6-9a37-4050-b01f-8c03656c3327",
   "metadata": {},
   "source": [
    "## Define Parameters"
   ]
  },
  {
   "cell_type": "code",
   "execution_count": null,
   "id": "348d6273-3e42-4dce-90bb-5b0f5628d356",
   "metadata": {},
   "outputs": [],
   "source": [
    "# Time\n",
    "year_forecast = 2023\n",
    "year_start_hindcast = 1993\n",
    "year_stop_hindcast = 2016\n",
    "\n",
    "# Variable\n",
    "variables = [\"2m_temperature\", \"total_precipitation\"]\n",
    "\n",
    "# Centres\n",
    "centres = {\n",
    "    \"cmcc\": {\"system\": \"35\"},\n",
    "    \"dwd\": {\"system\": \"21\"},\n",
    "    \"eccc\": {\"system\": \"3\"},\n",
    "    \"ecmwf\": {\"system\": \"51\"},\n",
    "    \"jma\": {\"system\": \"3\"},\n",
    "    \"meteo_france\": {\"system\": \"8\"},\n",
    "    \"ncep\": {\"system\": \"2\"},\n",
    "    \"ukmo\": {\"system\": \"601\"},\n",
    "}\n",
    "assert all(\"system\" in v for v in centres.values())\n",
    "assert set(centres) <= {\n",
    "    \"cmcc\",\n",
    "    \"dwd\",\n",
    "    \"eccc\",\n",
    "    \"ecmwf\",\n",
    "    \"jma\",\n",
    "    \"meteo_france\",\n",
    "    \"ncep\",\n",
    "    \"ukmo\",\n",
    "}\n",
    "\n",
    "# Regions\n",
    "regions = {\n",
    "    \"Australia\": {\"lon_slice\": slice(101, 179), \"lat_slice\": slice(5, -52)},\n",
    "    \"East Asia\": {\"lon_slice\": slice(67, 150), \"lat_slice\": slice(61, 5)},\n",
    "    \"Europe\": {\"lon_slice\": slice(-22, 44), \"lat_slice\": slice(72, 27)},\n",
    "    \"North America\": {\"lon_slice\": slice(-142, -53), \"lat_slice\": slice(76, 17)},\n",
    "    \"Sahel\": {\"lon_slice\": slice(-22, 54), \"lat_slice\": slice(27, 0)},\n",
    "    \"South America\": {\"lon_slice\": slice(-95, -27), \"lat_slice\": slice(17, -57)},\n",
    "    \"Southern Africa\": {\"lon_slice\": slice(0, 54), \"lat_slice\": slice(0, -45)},\n",
    "}\n",
    "assert all(\n",
    "    v[\"lon_slice\"].start <= v[\"lon_slice\"].stop  # slice(W, E) for best performance\n",
    "    and v[\"lat_slice\"].start >= v[\"lat_slice\"].stop  # slice(N, S) for best performance\n",
    "    for v in regions.values()\n",
    ")"
   ]
  },
  {
   "cell_type": "markdown",
   "id": "ccbe38ee-2514-4f10-81ef-00d1a8633293",
   "metadata": {},
   "source": [
    "## Define requests"
   ]
  },
  {
   "cell_type": "code",
   "execution_count": null,
   "id": "9ca06bda",
   "metadata": {},
   "outputs": [],
   "source": [
    "chunks = {\"year\": 1, \"variable\": 1}\n",
    "common_request = {\n",
    "    \"format\": \"grib\",\n",
    "    \"variable\": variables,\n",
    "    \"area\": [89.5, -179.5, -89.5, 179.5],\n",
    "    \"year\": [str(year) for year in range(year_start_hindcast, year_stop_hindcast + 1)],\n",
    "}\n",
    "\n",
    "collection_id_reanalysis = \"reanalysis-era5-single-levels-monthly-means\"\n",
    "request_reanalysis = common_request | {\n",
    "    \"product_type\": \"monthly_averaged_reanalysis\",\n",
    "    \"month\": [f\"{month:02d}\" for month in range(1, 13)],\n",
    "    \"time\": \"00:00\",\n",
    "}\n",
    "\n",
    "collection_id_seasonal = \"seasonal-monthly-single-levels\"\n",
    "request_seasonal = common_request | {\n",
    "    \"product_type\": \"monthly_mean\",\n",
    "    \"leadtime_month\": list(map(str, range(1, 7))),\n",
    "    \"month\": [f\"{month:02d}\" for month in range(1, 13)],\n",
    "    \"grid\": \"1/1\",\n",
    "}"
   ]
  },
  {
   "cell_type": "markdown",
   "id": "1b2e2257-6315-46bd-b0d3-a50bb2d468ed",
   "metadata": {},
   "source": [
    "## Functions to cache"
   ]
  },
  {
   "cell_type": "code",
   "execution_count": null,
   "id": "a3aa1b96-f0fc-4cd2-810c-6a32a4eae0ea",
   "metadata": {},
   "outputs": [],
   "source": [
    "def regionalised_spatial_weighted_mean(\n",
    "    ds, lon_slice, lat_slice, weights, mean_dims=None\n",
    "):\n",
    "    ds = utils.regionalise(ds, lon_slice=lon_slice, lat_slice=lat_slice)\n",
    "    ds = diagnostics.spatial_weighted_mean(ds, weights=weights)\n",
    "    if mean_dims:\n",
    "        return ds.mean(mean_dims, keep_attrs=True)\n",
    "    return ds"
   ]
  },
  {
   "cell_type": "markdown",
   "id": "4a46a64c-9a1f-48b1-9496-212e91cff74e",
   "metadata": {},
   "source": [
    "## Download and transform ERA5"
   ]
  },
  {
   "cell_type": "code",
   "execution_count": null,
   "id": "9e90f87d-8295-42a8-a361-b9cbb5112d9b",
   "metadata": {},
   "outputs": [],
   "source": [
    "def preprocess(ds):\n",
    "    return ds.expand_dims(\"leadtime\")\n",
    "\n",
    "\n",
    "# Get the reanalysis data\n",
    "datasets = []\n",
    "for region, transform_func_kwargs in regions.items():\n",
    "    print(f\"{region=}\")\n",
    "    ds = download.download_and_transform(\n",
    "        collection_id_reanalysis,\n",
    "        request_reanalysis,\n",
    "        chunks=chunks,\n",
    "        transform_func=regionalised_spatial_weighted_mean,\n",
    "        transform_func_kwargs=transform_func_kwargs | {\"weights\": False},\n",
    "        combine=\"nested\",\n",
    "        cached_open_mfdataset_kwargs={\"drop_variables\": [\"leadtime\"]},\n",
    "    )\n",
    "    datasets.append(ds.expand_dims(region=[region]).compute())\n",
    "ds_reanalysis = xr.concat(datasets, \"region\")"
   ]
  },
  {
   "cell_type": "markdown",
   "id": "a5140cd0-6a71-4bcf-a478-ec4a1635ac23",
   "metadata": {},
   "source": [
    "## Download and transform seasonal forecast"
   ]
  },
  {
   "cell_type": "code",
   "execution_count": null,
   "id": "15871fbd-0408-4c7b-9885-3f4e0e85c555",
   "metadata": {},
   "outputs": [],
   "source": [
    "# Get the reanalysis data\n",
    "datasets = []\n",
    "for centre, request_kwargs in centres.items():\n",
    "    for region, transform_func_kwargs in regions.items():\n",
    "        print(f\"{centre=} {region=}\")\n",
    "        ds = download.download_and_transform(\n",
    "            collection_id_seasonal,\n",
    "            request_seasonal | {\"originating_centre\": centre} | request_kwargs,\n",
    "            chunks=chunks,\n",
    "            transform_func=regionalised_spatial_weighted_mean,\n",
    "            transform_func_kwargs=transform_func_kwargs\n",
    "            | {\"weights\": False, \"mean_dims\": (\"realization\",)},\n",
    "            backend_kwargs={\n",
    "                \"time_dims\": (\n",
    "                    \"verifying_time\",\n",
    "                    \"indexing_time\" if centre in [\"ukmo\", \"jma\", \"ncep\"] else \"time\",\n",
    "                )\n",
    "            },\n",
    "        )\n",
    "        if \"time\" in ds.dims:\n",
    "            ds = ds.rename(time=\"verifying_time\")\n",
    "        datasets.append(ds.expand_dims(centre=[centre], region=[region]).compute())\n",
    "ds_seasonal = xr.merge(datasets)"
   ]
  },
  {
   "cell_type": "markdown",
   "id": "8dc21725-0b5b-4da6-a9d1-60af81b0f5fe",
   "metadata": {},
   "source": [
    "## Convert units"
   ]
  },
  {
   "cell_type": "code",
   "execution_count": null,
   "id": "78b0bb25-f9aa-43dd-b4aa-7a91606fe0c3",
   "metadata": {},
   "outputs": [],
   "source": [
    "m_to_mm = 1.0e3\n",
    "day_to_s = 60 * 60 * 24\n",
    "\n",
    "with xr.set_options(keep_attrs=True):\n",
    "    if \"tp\" in ds_reanalysis:\n",
    "        ds_reanalysis[\"tp\"] *= (\n",
    "            m_to_mm * ds_reanalysis[\"forecast_reference_time\"].dt.days_in_month\n",
    "        )\n",
    "        ds_reanalysis = ds_reanalysis.rename(tp=\"tp_month\")\n",
    "        ds_reanalysis[\"tp_month\"].attrs[\"units\"] = \"mm/month\"\n",
    "\n",
    "    if \"tprate\" in ds_seasonal:\n",
    "        ds_seasonal[\"tprate\"] *= (\n",
    "            m_to_mm * day_to_s * ds_seasonal[\"forecast_reference_time\"].dt.days_in_month\n",
    "        )\n",
    "        ds_seasonal = ds_seasonal.rename(tprate=\"tp_month\")\n",
    "        ds_seasonal[\"tp_month\"].attrs[\"units\"] = \"mm/month\""
   ]
  },
  {
   "cell_type": "markdown",
   "id": "407e796f-84ec-4a0d-a6e5-c986667a3eb1",
   "metadata": {},
   "source": [
    "## Monthly data"
   ]
  },
  {
   "cell_type": "code",
   "execution_count": null,
   "id": "95f18359-3ed7-4db9-97a5-c54ec95d0fa6",
   "metadata": {},
   "outputs": [],
   "source": [
    "ds_reanalysis = ds_reanalysis.groupby(\"forecast_reference_time.month\").mean(\n",
    "    keep_attrs=True\n",
    ")\n",
    "ds_reanalysis = ds_reanalysis.rename(month=\"valid_month\")\n",
    "\n",
    "for dim_in, dim_out in zip([\"forecast_reference\", \"verifying\"], [\"starting\", \"valid\"]):\n",
    "    ds_seasonal = (\n",
    "        ds_seasonal.groupby(f\"{dim_in}_time.month\")\n",
    "        .mean(keep_attrs=True)\n",
    "        .rename(month=f\"{dim_out}_month\")\n",
    "    )"
   ]
  },
  {
   "cell_type": "markdown",
   "id": "69d4b622-67d0-4a5f-8fa7-a412b2d281dd",
   "metadata": {},
   "source": [
    "## Compute bias"
   ]
  },
  {
   "cell_type": "code",
   "execution_count": null,
   "id": "7717cc98-edab-4147-8904-401244e8678f",
   "metadata": {},
   "outputs": [],
   "source": [
    "with xr.set_options(keep_attrs=True):\n",
    "    bias = ds_seasonal - ds_reanalysis\n",
    "for da in bias.data_vars.values():\n",
    "    da.attrs[\"long_name\"] = \"Bias of \" + da.attrs[\"long_name\"]\n",
    "# Avoid ticks interpolation\n",
    "bias = bias.assign_coords(\n",
    "    {name: coord.astype(str) for name, coord in bias.coords.items()}\n",
    ")"
   ]
  },
  {
   "cell_type": "markdown",
   "id": "47cb6670-2ed2-4fbe-94c6-e24a86d50891",
   "metadata": {},
   "source": [
    "## Plot all biases together"
   ]
  },
  {
   "cell_type": "code",
   "execution_count": null,
   "id": "36847d67-3eb7-4f21-a7e6-6e83e0d05a2f",
   "metadata": {},
   "outputs": [],
   "source": [
    "for varname, da in bias.data_vars.items():\n",
    "    kwargs = {}\n",
    "    match varname:\n",
    "        case \"t2m\":\n",
    "            kwargs[\"cmap\"] = \"RdBu_r\"\n",
    "            da.attrs[\"units\"] = \"°C\"\n",
    "        case \"tp_month\":\n",
    "            kwargs[\"cmap\"] = \"BrBG\"\n",
    "    facet = da.plot(col=\"centre\", row=\"region\", x=\"valid_month\", **kwargs)\n",
    "    _ = facet.fig.suptitle(f\"Seasonal forecast: {da.attrs['long_name']}\", y=1.01)"
   ]
  }
 ],
 "metadata": {
  "kernelspec": {
   "display_name": "Python 3 (ipykernel)",
   "language": "python",
   "name": "python3"
  },
  "language_info": {
   "codemirror_mode": {
    "name": "ipython",
    "version": 3
   },
   "file_extension": ".py",
   "mimetype": "text/x-python",
   "name": "python",
   "nbconvert_exporter": "python",
   "pygments_lexer": "ipython3",
   "version": "3.11.6"
  }
 },
 "nbformat": 4,
 "nbformat_minor": 5
}
