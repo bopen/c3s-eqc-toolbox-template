{
 "cells": [
  {
   "cell_type": "markdown",
   "id": "0",
   "metadata": {},
   "source": [
    "# Seasonal forecast monthly averages of ocean variables"
   ]
  },
  {
   "cell_type": "markdown",
   "id": "1",
   "metadata": {},
   "source": [
    "## Imports"
   ]
  },
  {
   "cell_type": "code",
   "execution_count": null,
   "id": "2",
   "metadata": {},
   "outputs": [],
   "source": [
    "import warnings\n",
    "\n",
    "import matplotlib.pyplot as plt\n",
    "import numpy as np\n",
    "import pandas as pd\n",
    "import xarray as xr\n",
    "from c3s_eqc_automatic_quality_control import diagnostics, download, plot\n",
    "\n",
    "plt.style.use(\"seaborn-v0_8-notebook\")"
   ]
  },
  {
   "cell_type": "code",
   "execution_count": null,
   "id": "3",
   "metadata": {},
   "outputs": [],
   "source": [
    "import os\n",
    "\n",
    "import cacholote\n",
    "import dask.distributed\n",
    "\n",
    "os.environ[\"CDSAPI_RC\"] = os.path.expanduser(\"~/almansi_mattia/.cdsapirc\")\n",
    "\n",
    "cacholote.config.set(create_engine_kwargs=dict(connect_args={\"timeout\": 30}))\n",
    "download.N_JOBS = 10\n",
    "\n",
    "n_workers = 2\n",
    "memory_limit = f\"{28 // n_workers}GiB\"\n",
    "dask.distributed.Client(n_workers=n_workers, memory_limit=memory_limit)"
   ]
  },
  {
   "cell_type": "markdown",
   "id": "4",
   "metadata": {},
   "source": [
    "## Define parameters"
   ]
  },
  {
   "cell_type": "code",
   "execution_count": null,
   "id": "5",
   "metadata": {},
   "outputs": [],
   "source": [
    "# Time\n",
    "start = \"2023-03\"\n",
    "stop = \"2025-01\""
   ]
  },
  {
   "cell_type": "markdown",
   "id": "6",
   "metadata": {},
   "source": [
    "## Define requests"
   ]
  },
  {
   "cell_type": "code",
   "execution_count": null,
   "id": "7",
   "metadata": {},
   "outputs": [],
   "source": [
    "collection_id_reanalysis = \"reanalysis-oras5\"\n",
    "\n",
    "requests_reanalysis = [\n",
    "    {\n",
    "        \"product_type\": [\"operational\"],\n",
    "        \"vertical_resolution\": \"single_level\",\n",
    "        \"variable\": [\"ocean_heat_content_for_the_upper_300m\"],\n",
    "    }\n",
    "    | {\"year\": date.strftime(\"%Y\"), \"month\": date.strftime(\"%m\")}\n",
    "    for date in pd.date_range(start, stop, freq=\"1MS\")\n",
    "]\n",
    "\n",
    "collection_id_seasonal = \"seasonal-monthly-ocean\"\n",
    "requests_seasonal = [\n",
    "    {\n",
    "        \"originating_centre\": \"cmcc\",\n",
    "        \"system\": \"35\",\n",
    "        \"variable\": [\"depth_average_potential_temperature_of_upper_300m\"],\n",
    "        \"forecast_type\": [\"forecast\"],\n",
    "    }\n",
    "    | {\"year\": date.strftime(\"%Y\"), \"month\": date.strftime(\"%m\")}\n",
    "    for date in pd.date_range(start, stop, freq=\"1MS\")\n",
    "]"
   ]
  },
  {
   "cell_type": "markdown",
   "id": "8",
   "metadata": {},
   "source": [
    "## Functions to cache"
   ]
  },
  {
   "cell_type": "code",
   "execution_count": null,
   "id": "9",
   "metadata": {},
   "outputs": [],
   "source": [
    "def add_bounds(ds):\n",
    "    # From https://github.com/COSIMA/ocean-regrid/blob/master/nemo_grid.py\n",
    "    dg = xr.open_dataset(\n",
    "        (\n",
    "            \"https://icdc.cen.uni-hamburg.de/thredds/dodsC/ftpthredds/\"\n",
    "            \"EASYInit/oras5/ORCA025/mesh/mesh_mask.nc\"\n",
    "        ),\n",
    "        chunks={},\n",
    "    ).isel(t=0, z=0)\n",
    "\n",
    "    # These are the top righ-hand corner of t cells.\n",
    "    glamf = dg.glamf\n",
    "    gphif = dg.gphif\n",
    "\n",
    "    # Extend south so that Southern most cells can have bottom corners.\n",
    "    gphif_new = np.ndarray((gphif.shape[0] + 1, gphif.shape[1] + 1))\n",
    "    gphif_new[1:, 1:] = gphif[:]\n",
    "    gphif_new[0, 1:] = gphif[0, :] - abs(gphif[1, :] - gphif[0, :])\n",
    "\n",
    "    glamf_new = np.ndarray((glamf.shape[0] + 1, glamf.shape[1] + 1))\n",
    "    glamf_new[1:, 1:] = glamf[:]\n",
    "    glamf_new[0, 1:] = glamf[0, :]\n",
    "\n",
    "    # Repeat first longitude so that Western most cells have left corners.\n",
    "    gphif_new[:, 0] = gphif_new[:, -1]\n",
    "    glamf_new[:, 0] = glamf_new[:, -1]\n",
    "\n",
    "    gphif = gphif_new\n",
    "    glamf = glamf_new\n",
    "\n",
    "    # Corners of t points. Index 0 is bottom left and then\n",
    "    # anti-clockwise.\n",
    "    clon = np.empty((dg.tmask.shape[0], dg.tmask.shape[1], 4))\n",
    "    clon[:] = np.nan\n",
    "    clon[:, :, 0] = glamf[0:-1, 0:-1]\n",
    "    clon[:, :, 1] = glamf[0:-1, 1:]\n",
    "    clon[:, :, 2] = glamf[1:, 1:]\n",
    "    clon[:, :, 3] = glamf[1:, 0:-1]\n",
    "    assert not np.isnan(np.sum(clon))\n",
    "\n",
    "    clat = np.empty((dg.tmask.shape[0], dg.tmask.shape[1], 4))\n",
    "    clat[:] = np.nan\n",
    "    clat[:, :, 0] = gphif[0:-1, 0:-1]\n",
    "    clat[:, :, 1] = gphif[0:-1, 1:]\n",
    "    clat[:, :, 2] = gphif[1:, 1:]\n",
    "    clat[:, :, 3] = gphif[1:, 0:-1]\n",
    "    assert not np.isnan(np.sum(clat))\n",
    "\n",
    "    ds[\"latitude\"].attrs[\"bounds\"] = \"latitude_bounds\"\n",
    "    ds[\"longitude\"].attrs[\"bounds\"] = \"longitude_bounds\"\n",
    "    return ds.assign_coords(\n",
    "        latitude_bounds=([\"y\", \"x\", \"bound\"], clat),\n",
    "        longitude_bounds=([\"y\", \"x\", \"bound\"], clon),\n",
    "    )\n",
    "\n",
    "\n",
    "# Seasonal\n",
    "def preprocess_seasonal(ds):\n",
    "    # TODO: How to combine? Use first leadtime only for now\n",
    "    ds = ds.set_coords([var for var, da in ds.data_vars.items() if \"bnds\" in da.dims])\n",
    "    ds = ds.isel(leadtime=[0]).swap_dims(leadtime=\"time\")\n",
    "    ds[\"realization\"] = ds[\"realization\"].str.replace(\" \", \"\").astype(str)\n",
    "    return ds.expand_dims(\"realization\")\n",
    "\n",
    "\n",
    "def regrid_reanalysis(ds, grid_request, **xesmf_kwargs):\n",
    "    with warnings.catch_warnings():\n",
    "        warnings.filterwarnings(  # Suppress decode_timedelta warning\n",
    "            \"ignore\", message=\".*decode_timedelta.*\"\n",
    "        )\n",
    "        ds_seasonal = download.download_and_transform(\n",
    "            *grid_request,\n",
    "            preprocess=preprocess_seasonal,\n",
    "        )\n",
    "    mask = ds_seasonal[\"thetaot300\"].isel(time=0, realization=0).reset_coords(drop=True)\n",
    "    grid_out = ds_seasonal.cf[[\"latitude\", \"longitude\"]].assign_coords(mask=mask)\n",
    "    return diagnostics.regrid(add_bounds(ds), grid_out, **xesmf_kwargs)"
   ]
  },
  {
   "cell_type": "markdown",
   "id": "10",
   "metadata": {},
   "source": [
    "## Download and transform"
   ]
  },
  {
   "cell_type": "code",
   "execution_count": null,
   "id": "11",
   "metadata": {},
   "outputs": [],
   "source": [
    "with warnings.catch_warnings():\n",
    "    warnings.filterwarnings(  # Suppress decode_timedelta warning\n",
    "        \"ignore\", message=\".*decode_timedelta.*\"\n",
    "    )\n",
    "    ds_seasonal = download.download_and_transform(\n",
    "        collection_id_seasonal,\n",
    "        requests_seasonal,\n",
    "        preprocess=preprocess_seasonal,\n",
    "        drop_variables=\"hcrs\",\n",
    "    )"
   ]
  },
  {
   "cell_type": "code",
   "execution_count": null,
   "id": "12",
   "metadata": {},
   "outputs": [],
   "source": [
    "# Reanalysis\n",
    "ds_reanalysis = download.download_and_transform(\n",
    "    collection_id_reanalysis,\n",
    "    requests_reanalysis,\n",
    "    transform_func=regrid_reanalysis,\n",
    "    transform_func_kwargs={\n",
    "        \"grid_request\": (collection_id_seasonal, requests_seasonal[0]),\n",
    "        \"method\": \"conservative_normed\",\n",
    "        \"periodic\": True,\n",
    "        \"ignore_degenerate\": True,\n",
    "    },\n",
    ")"
   ]
  },
  {
   "cell_type": "markdown",
   "id": "13",
   "metadata": {},
   "source": [
    "## Quick and dirty plot"
   ]
  },
  {
   "cell_type": "code",
   "execution_count": null,
   "id": "14",
   "metadata": {},
   "outputs": [],
   "source": [
    "for ds, title in zip((ds_reanalysis, ds_seasonal), (\"Reanalysis\", \"Seasonal Forecast\")):\n",
    "    (da,) = ds.sel(time=\"2023-03\").data_vars.values()\n",
    "    da = da.mean(set(da.dims) - {\"latitude\", \"longitude\"})\n",
    "    plot.projected_map(da, robust=True)\n",
    "    plt.title(title)\n",
    "    plt.show()"
   ]
  }
 ],
 "metadata": {
  "kernelspec": {
   "display_name": "Python 3 (ipykernel)",
   "language": "python",
   "name": "python3"
  },
  "language_info": {
   "codemirror_mode": {
    "name": "ipython",
    "version": 3
   },
   "file_extension": ".py",
   "mimetype": "text/x-python",
   "name": "python",
   "nbconvert_exporter": "python",
   "pygments_lexer": "ipython3",
   "version": "3.11.11"
  }
 },
 "nbformat": 4,
 "nbformat_minor": 5
}
