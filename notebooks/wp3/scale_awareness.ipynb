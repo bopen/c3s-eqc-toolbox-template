{
 "cells": [
  {
   "cell_type": "markdown",
   "id": "0",
   "metadata": {},
   "source": [
    "# Seasonal forecast/hindcast: Scale Awareness"
   ]
  },
  {
   "cell_type": "markdown",
   "id": "1",
   "metadata": {},
   "source": [
    "## Import libraries"
   ]
  },
  {
   "cell_type": "code",
   "execution_count": null,
   "id": "2",
   "metadata": {},
   "outputs": [],
   "source": [
    "import matplotlib.pyplot as plt\n",
    "import xarray as xr\n",
    "from c3s_eqc_automatic_quality_control import diagnostics, download\n",
    "\n",
    "plt.style.use(\"seaborn-v0_8-notebook\")"
   ]
  },
  {
   "cell_type": "markdown",
   "id": "3",
   "metadata": {},
   "source": [
    "## Set parameters"
   ]
  },
  {
   "cell_type": "code",
   "execution_count": null,
   "id": "4",
   "metadata": {},
   "outputs": [],
   "source": [
    "# Variable\n",
    "var_api = \"2m_temperature\"\n",
    "\n",
    "# Time range\n",
    "year_start = 1993\n",
    "year_stop = 2024"
   ]
  },
  {
   "cell_type": "markdown",
   "id": "5",
   "metadata": {},
   "source": [
    "## Define requests"
   ]
  },
  {
   "cell_type": "code",
   "execution_count": null,
   "id": "6",
   "metadata": {},
   "outputs": [],
   "source": [
    "collection_id_reanalysis = \"reanalysis-era5-single-levels-monthly-means\"\n",
    "collection_id_seasonal = \"seasonal-monthly-single-levels\"\n",
    "\n",
    "common_request = {\n",
    "    \"format\": \"grib\",\n",
    "    \"area\": [89.5, -179.5, -89.5, 179.5],\n",
    "    \"variable\": var_api,\n",
    "    \"grid\": \"1/1\",\n",
    "    \"year\": [f\"{year}\" for year in range(year_start, year_stop + 1)],\n",
    "    \"month\": [f\"{month:02d}\" for month in range(1, 13)],\n",
    "}\n",
    "\n",
    "request_reanalysis = common_request | {\n",
    "    \"product_type\": \"monthly_averaged_reanalysis\",\n",
    "    \"time\": \"00:00\",\n",
    "}\n",
    "\n",
    "request_seasonal = common_request | {\n",
    "    \"product_type\": \"monthly_mean\",\n",
    "    \"system\": 51,\n",
    "    \"originating_centre\": \"ecmwf\",\n",
    "}"
   ]
  },
  {
   "cell_type": "markdown",
   "id": "7",
   "metadata": {},
   "source": [
    "## Define functions to cache"
   ]
  },
  {
   "cell_type": "code",
   "execution_count": null,
   "id": "8",
   "metadata": {},
   "outputs": [],
   "source": [
    "def compute_anomaly(obj):\n",
    "    climatology = diagnostics.time_weighted_mean(obj, weights=False)\n",
    "    climatology = climatology.mean({\"realization\"} & set(obj.dims))\n",
    "    return obj - climatology\n",
    "\n",
    "\n",
    "def detrend(obj):\n",
    "    trend = xr.polyval(obj[\"time\"], obj.polyfit(\"time\", deg=1).polyfit_coefficients)\n",
    "    return obj - trend\n",
    "\n",
    "\n",
    "def compute_monthly_anomalies(ds):\n",
    "    (da,) = ds.data_vars.values()\n",
    "    with xr.set_options(keep_attrs=True):\n",
    "        da = da.groupby(\"time.month\").map(compute_anomaly)\n",
    "        da_detrend = da.groupby(\"time.year\").map(detrend)\n",
    "    da = xr.concat(\n",
    "        [da.expand_dims(detrend=[False]), da_detrend.expand_dims(detrend=[True])],\n",
    "        \"detrend\",\n",
    "    )\n",
    "    da.encoding[\"chunksizes\"] = tuple(\n",
    "        1 if dim in (\"realization\", \"detrend\") else size\n",
    "        for dim, size in da.sizes.items()\n",
    "    )\n",
    "    return da.to_dataset()"
   ]
  },
  {
   "cell_type": "markdown",
   "id": "9",
   "metadata": {},
   "source": [
    "## Download and transform"
   ]
  },
  {
   "cell_type": "code",
   "execution_count": null,
   "id": "10",
   "metadata": {},
   "outputs": [],
   "source": [
    "kwargs = {\n",
    "    \"chunks\": {\"year\": 1},\n",
    "    \"n_jobs\": 1,\n",
    "    \"backend_kwargs\": {\"time_dims\": [\"valid_time\"]},\n",
    "    \"transform_func\": compute_monthly_anomalies,\n",
    "    \"transform_chunks\": False,\n",
    "}\n",
    "\n",
    "# Reanalysis\n",
    "(da_reanalysis,) = download.download_and_transform(\n",
    "    collection_id_reanalysis,\n",
    "    request_reanalysis,\n",
    "    **kwargs,\n",
    ").data_vars.values()\n",
    "\n",
    "# Seasonal forecast\n",
    "dataarrays = []\n",
    "for leadtime_month in range(1, 7):\n",
    "    print(f\"{leadtime_month = }\")\n",
    "    (da,) = download.download_and_transform(\n",
    "        collection_id_seasonal,\n",
    "        request_seasonal | {\"leadtime_month\": leadtime_month},\n",
    "        **kwargs,\n",
    "    ).data_vars.values()\n",
    "    dataarrays.append(da.expand_dims(leadtime_month=[leadtime_month]))\n",
    "da_seasonal = xr.concat(dataarrays, \"leadtime_month\")"
   ]
  },
  {
   "cell_type": "markdown",
   "id": "11",
   "metadata": {},
   "source": [
    "## Plot ERA5"
   ]
  },
  {
   "cell_type": "code",
   "execution_count": null,
   "id": "12",
   "metadata": {},
   "outputs": [],
   "source": [
    "da_reanalysis_mean = diagnostics.spatial_weighted_mean(da_reanalysis)\n",
    "da_reanalysis_mean.plot(hue=\"detrend\")\n",
    "plt.title(\"ERA5\")\n",
    "plt.grid()"
   ]
  },
  {
   "cell_type": "markdown",
   "id": "13",
   "metadata": {},
   "source": [
    "## Plot seasonal forecast/hindcast"
   ]
  },
  {
   "cell_type": "code",
   "execution_count": null,
   "id": "14",
   "metadata": {},
   "outputs": [],
   "source": [
    "da_seasonal_mean = diagnostics.spatial_weighted_mean(\n",
    "    da_seasonal.mean(\"realization\", keep_attrs=True).compute()\n",
    ")\n",
    "facet = da_seasonal_mean.plot(col=\"leadtime_month\", col_wrap=3, hue=\"detrend\")\n",
    "for ax in facet.axs.flatten():\n",
    "    ax.grid()"
   ]
  }
 ],
 "metadata": {
  "kernelspec": {
   "display_name": "Python 3 (ipykernel)",
   "language": "python",
   "name": "python3"
  },
  "language_info": {
   "codemirror_mode": {
    "name": "ipython",
    "version": 3
   },
   "file_extension": ".py",
   "mimetype": "text/x-python",
   "name": "python",
   "nbconvert_exporter": "python",
   "pygments_lexer": "ipython3",
   "version": "3.11.11"
  }
 },
 "nbformat": 4,
 "nbformat_minor": 5
}
