{
 "cells": [
  {
   "cell_type": "markdown",
   "id": "0",
   "metadata": {},
   "source": [
    "# Hit-rate of seasonal forecasts"
   ]
  },
  {
   "cell_type": "markdown",
   "id": "1",
   "metadata": {},
   "source": [
    "## Import packages"
   ]
  },
  {
   "cell_type": "code",
   "execution_count": null,
   "id": "2",
   "metadata": {},
   "outputs": [],
   "source": [
    "import cartopy.crs as ccrs\n",
    "import matplotlib.pyplot as plt\n",
    "import regionmask\n",
    "import xarray as xr\n",
    "from c3s_eqc_automatic_quality_control import diagnostics, download\n",
    "\n",
    "plt.style.use(\"seaborn-v0_8-notebook\")"
   ]
  },
  {
   "cell_type": "markdown",
   "id": "3",
   "metadata": {},
   "source": [
    "## Define Parameters"
   ]
  },
  {
   "cell_type": "code",
   "execution_count": null,
   "id": "4",
   "metadata": {},
   "outputs": [],
   "source": [
    "# Time\n",
    "year_forecast = 2023\n",
    "year_start_hindcast = 1993\n",
    "year_stop_hindcast = 2016\n",
    "\n",
    "# Variable\n",
    "variables = [\n",
    "    \"2m_temperature\",\n",
    "    # \"total_precipitation\",\n",
    "    # \"surface_solar_radiation_downwards\",\n",
    "    # \"10m_wind_speed\",\n",
    "    # \"2m_dewpoint_temperature\",\n",
    "]\n",
    "\n",
    "# Define centres with missing variables\n",
    "missing_variables = {\"eccc\": [\"2m_dewpoint_temperature\"]}\n",
    "\n",
    "# Centres\n",
    "centres = {\n",
    "    \"cmcc\": {\"system\": \"35\"},\n",
    "    # \"dwd\": {\"system\": \"21\"},\n",
    "    # \"eccc\": {\"system\": \"3\"},\n",
    "    # \"ecmwf\": {\"system\": \"51\"},\n",
    "    # \"jma\": {\"system\": \"3\"},\n",
    "    # \"meteo_france\": {\"system\": \"8\"},\n",
    "    # \"ncep\": {\"system\": \"2\"},\n",
    "    # \"ukmo\": {\"system\": \"601\"},\n",
    "}\n",
    "assert all(\"system\" in v for v in centres.values())\n",
    "assert set(centres) <= {\n",
    "    \"cmcc\",\n",
    "    \"dwd\",\n",
    "    \"eccc\",\n",
    "    \"ecmwf\",\n",
    "    \"jma\",\n",
    "    \"meteo_france\",\n",
    "    \"ncep\",\n",
    "    \"ukmo\",\n",
    "}\n",
    "\n",
    "# Regions\n",
    "regions = [\n",
    "    \"EAF\",\n",
    "    # \"ENA\",\n",
    "    # \"MED\",\n",
    "    # \"NEB\",\n",
    "    # \"SAS\",\n",
    "    # \"SEA\",\n",
    "    # \"WNA\",\n",
    "    # \"WSA\",\n",
    "]\n",
    "assert set(regions) <= set(regionmask.defined_regions.srex.abbrevs)\n",
    "\n",
    "# Ploting settings\n",
    "plot_kwargs = {\n",
    "    \"total_precipitation\": {\"cmap\": \"BrBG\"},\n",
    "}"
   ]
  },
  {
   "cell_type": "markdown",
   "id": "5",
   "metadata": {},
   "source": [
    "## Plot selected regions"
   ]
  },
  {
   "cell_type": "code",
   "execution_count": null,
   "id": "6",
   "metadata": {},
   "outputs": [],
   "source": [
    "ax = regionmask.defined_regions.srex[regions].plot(\n",
    "    projection=ccrs.Robinson(),\n",
    "    label=\"abbrev\",\n",
    "    add_ocean=True,\n",
    ")\n",
    "ax.set_global()"
   ]
  },
  {
   "cell_type": "markdown",
   "id": "7",
   "metadata": {},
   "source": [
    "## Define requests"
   ]
  },
  {
   "cell_type": "code",
   "execution_count": null,
   "id": "8",
   "metadata": {},
   "outputs": [],
   "source": [
    "chunks = {\"year\": 1, \"variable\": 1}\n",
    "common_request = {\n",
    "    \"format\": \"grib\",\n",
    "    \"area\": [89.5, -179.5, -89.5, 179.5],\n",
    "    \"year\": [str(year) for year in range(year_start_hindcast, year_stop_hindcast + 1)],\n",
    "}\n",
    "\n",
    "collection_id_reanalysis = \"reanalysis-era5-single-levels-monthly-means\"\n",
    "request_reanalysis = common_request | {\n",
    "    \"product_type\": \"monthly_averaged_reanalysis\",\n",
    "    \"month\": [f\"{month:02d}\" for month in range(1, 13)],\n",
    "    \"time\": \"00:00\",\n",
    "}\n",
    "\n",
    "collection_id_seasonal = \"seasonal-monthly-single-levels\"\n",
    "request_seasonal = common_request | {\n",
    "    \"product_type\": \"monthly_mean\",\n",
    "    \"leadtime_month\": list(map(str, range(1, 7))),\n",
    "    \"month\": [f\"{month:02d}\" for month in range(1, 13)],\n",
    "    \"grid\": \"1/1\",\n",
    "}"
   ]
  },
  {
   "cell_type": "markdown",
   "id": "9",
   "metadata": {},
   "source": [
    "## Functions to cache"
   ]
  },
  {
   "cell_type": "code",
   "execution_count": null,
   "id": "10",
   "metadata": {},
   "outputs": [],
   "source": [
    "def compute_tercile_occupation(ds, region):\n",
    "    # Anomaly\n",
    "    ds = ds - diagnostics.time_weighted_mean(ds)\n",
    "\n",
    "    # Reindex using year/month\n",
    "    time = ds[\"forecast_reference_time\"]\n",
    "    ds = ds.assign_coords(\n",
    "        year=(time.name, time.dt.year.data),\n",
    "        month=(time.name, time.dt.month.data),\n",
    "    )\n",
    "    ds = ds.set_index({time.name: (\"year\", \"month\")}).unstack(time.name)\n",
    "\n",
    "    # Mask region\n",
    "    mask = regionmask.defined_regions.srex.mask(ds)\n",
    "    index = regionmask.defined_regions.srex.map_keys(region)\n",
    "    ds = ds.where((mask == index).compute(), drop=True)\n",
    "\n",
    "    # Spatial mean\n",
    "    ds = diagnostics.spatial_weighted_mean(ds, weights=False)\n",
    "\n",
    "    # Get quantiles\n",
    "    quantiles = ds.chunk(year=-1).quantile([1 / 3, 2 / 3], \"year\")\n",
    "    mask = xr.zeros_like(ds, None)\n",
    "    mask = xr.where(ds < quantiles.sel(quantile=1 / 3), -1, mask)\n",
    "    mask = xr.where(ds > quantiles.sel(quantile=2 / 3), 1, mask)\n",
    "\n",
    "    return mask"
   ]
  },
  {
   "cell_type": "markdown",
   "id": "11",
   "metadata": {},
   "source": [
    "## Download and transform ERA5"
   ]
  },
  {
   "cell_type": "code",
   "execution_count": null,
   "id": "12",
   "metadata": {},
   "outputs": [],
   "source": [
    "# Get the reanalysis data\n",
    "datasets = []\n",
    "for region in regions:\n",
    "    dataarrays = []\n",
    "    for variable in variables:\n",
    "        print(f\"{region=} {variable=}\")\n",
    "        ds = download.download_and_transform(\n",
    "            collection_id_reanalysis,\n",
    "            request_reanalysis | {\"variable\": variable},\n",
    "            chunks=chunks,\n",
    "            transform_chunks=False,\n",
    "            transform_func=compute_tercile_occupation,\n",
    "            transform_func_kwargs={\"region\": region},\n",
    "        )\n",
    "        (da,) = ds.data_vars.values()\n",
    "        dataarrays.append(da.rename(variable))\n",
    "    ds = xr.merge(dataarrays)\n",
    "    datasets.append(ds.expand_dims(region=[region]).compute())\n",
    "ds_reanalysis = xr.concat(datasets, \"region\")\n",
    "del datasets"
   ]
  },
  {
   "cell_type": "code",
   "execution_count": null,
   "id": "13",
   "metadata": {},
   "outputs": [],
   "source": [
    "ds_reanalysis.reset_coords(drop=True)[\"2m_temperature\"].plot()"
   ]
  }
 ],
 "metadata": {
  "kernelspec": {
   "display_name": "Python 3 (ipykernel)",
   "language": "python",
   "name": "python3"
  },
  "language_info": {
   "codemirror_mode": {
    "name": "ipython",
    "version": 3
   },
   "file_extension": ".py",
   "mimetype": "text/x-python",
   "name": "python",
   "nbconvert_exporter": "python",
   "pygments_lexer": "ipython3",
   "version": "3.11.7"
  }
 },
 "nbformat": 4,
 "nbformat_minor": 5
}
