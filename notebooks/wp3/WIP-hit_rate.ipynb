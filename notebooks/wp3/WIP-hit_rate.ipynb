{
 "cells": [
  {
   "cell_type": "markdown",
   "id": "0",
   "metadata": {},
   "source": [
    "# Hit-rate of seasonal forecasts"
   ]
  },
  {
   "cell_type": "markdown",
   "id": "1",
   "metadata": {},
   "source": [
    "## Import packages"
   ]
  },
  {
   "cell_type": "code",
   "execution_count": null,
   "id": "2",
   "metadata": {},
   "outputs": [],
   "source": [
    "import tempfile\n",
    "\n",
    "import cartopy.crs as ccrs\n",
    "import matplotlib.pyplot as plt\n",
    "import regionmask\n",
    "import scipy.stats\n",
    "import xarray as xr\n",
    "from c3s_eqc_automatic_quality_control import diagnostics, download\n",
    "\n",
    "plt.style.use(\"seaborn-v0_8-notebook\")"
   ]
  },
  {
   "cell_type": "markdown",
   "id": "3",
   "metadata": {},
   "source": [
    "## Define Parameters"
   ]
  },
  {
   "cell_type": "code",
   "execution_count": null,
   "id": "4",
   "metadata": {},
   "outputs": [],
   "source": [
    "# Time\n",
    "year_start_hindcast = 1993\n",
    "year_stop_hindcast = 2016\n",
    "\n",
    "# Variable\n",
    "variables = [\n",
    "    \"2m_temperature\",\n",
    "    # \"total_precipitation\",\n",
    "    # \"surface_solar_radiation_downwards\",\n",
    "    # \"10m_wind_speed\",\n",
    "    # \"2m_dewpoint_temperature\",\n",
    "]\n",
    "\n",
    "# Define centres with missing variables\n",
    "missing_variables = {\"eccc\": [\"2m_dewpoint_temperature\"]}\n",
    "\n",
    "# Centres\n",
    "centres = {\n",
    "    \"cmcc\": {\"system\": \"35\"},\n",
    "    # \"dwd\": {\"system\": \"21\"},\n",
    "    # \"eccc\": {\"system\": \"3\"},\n",
    "    # \"ecmwf\": {\"system\": \"51\"},\n",
    "    # \"jma\": {\"system\": \"3\"},\n",
    "    # \"meteo_france\": {\"system\": \"8\"},\n",
    "    # \"ncep\": {\"system\": \"2\"},\n",
    "    # \"ukmo\": {\"system\": \"601\"},\n",
    "}\n",
    "assert all(\"system\" in v for v in centres.values())\n",
    "assert set(centres) <= {\n",
    "    \"cmcc\",\n",
    "    \"dwd\",\n",
    "    \"eccc\",\n",
    "    \"ecmwf\",\n",
    "    \"jma\",\n",
    "    \"meteo_france\",\n",
    "    \"ncep\",\n",
    "    \"ukmo\",\n",
    "}\n",
    "\n",
    "# Regions\n",
    "regions = [\n",
    "    \"EAF\",\n",
    "    # \"ENA\",\n",
    "    # \"MED\",\n",
    "    # \"NEB\",\n",
    "    # \"SAS\",\n",
    "    # \"SEA\",\n",
    "    # \"WNA\",\n",
    "    # \"WSA\",\n",
    "]\n",
    "assert set(regions) <= set(regionmask.defined_regions.srex.abbrevs)\n",
    "\n",
    "# Ploting settings\n",
    "plot_kwargs = {\n",
    "    \"total_precipitation\": {\"cmap\": \"BrBG\"},\n",
    "}"
   ]
  },
  {
   "cell_type": "markdown",
   "id": "5",
   "metadata": {},
   "source": [
    "## Plot selected regions"
   ]
  },
  {
   "cell_type": "code",
   "execution_count": null,
   "id": "6",
   "metadata": {},
   "outputs": [],
   "source": [
    "ax = regionmask.defined_regions.srex[regions].plot(\n",
    "    projection=ccrs.Robinson(),\n",
    "    label=\"abbrev\",\n",
    "    add_ocean=True,\n",
    ")\n",
    "ax.set_global()"
   ]
  },
  {
   "cell_type": "markdown",
   "id": "7",
   "metadata": {},
   "source": [
    "## Define requests"
   ]
  },
  {
   "cell_type": "code",
   "execution_count": null,
   "id": "8",
   "metadata": {},
   "outputs": [],
   "source": [
    "chunks = {\"year\": 1, \"variable\": 1}\n",
    "common_request = {\n",
    "    \"format\": \"grib\",\n",
    "    \"area\": [89.5, -179.5, -89.5, 179.5],\n",
    "    \"year\": [str(year) for year in range(year_start_hindcast, year_stop_hindcast + 1)],\n",
    "}\n",
    "\n",
    "collection_id_reanalysis = \"reanalysis-era5-single-levels-monthly-means\"\n",
    "request_reanalysis = common_request | {\n",
    "    \"product_type\": \"monthly_averaged_reanalysis\",\n",
    "    \"month\": [f\"{month:02d}\" for month in range(1, 13)],\n",
    "    \"time\": \"00:00\",\n",
    "}\n",
    "\n",
    "collection_id_seasonal = \"seasonal-monthly-single-levels\"\n",
    "request_seasonal = common_request | {\n",
    "    \"product_type\": \"monthly_mean\",\n",
    "    \"leadtime_month\": list(map(str, range(1, 7))),\n",
    "    \"month\": [f\"{month:02d}\" for month in range(1, 13)],\n",
    "    \"grid\": \"1/1\",\n",
    "}"
   ]
  },
  {
   "cell_type": "markdown",
   "id": "9",
   "metadata": {},
   "source": [
    "## Functions to cache"
   ]
  },
  {
   "cell_type": "code",
   "execution_count": null,
   "id": "10",
   "metadata": {},
   "outputs": [],
   "source": [
    "def mode(*args, axis=None, **kwargs):\n",
    "    return scipy.stats.mode(*args, axis=axis, **kwargs).mode\n",
    "\n",
    "\n",
    "def reindex_seasonal_forecast(ds):\n",
    "    # Stack starting_time and leading_month\n",
    "    ds = ds.rename(forecast_reference_time=\"starting_time\")\n",
    "    ds = ds.stack(\n",
    "        time=(\"starting_time\", \"leadtime_month\"),\n",
    "        create_index=False,\n",
    "    )\n",
    "\n",
    "    # Shift valid_time\n",
    "    ds = ds.set_index(time=\"starting_time\")\n",
    "    valid_time = ds.indexes[\"time\"]\n",
    "    for shift in set(ds[\"leadtime_month\"].values):\n",
    "        shifted = ds.indexes[\"time\"].shift(shift - 1, \"MS\")\n",
    "        valid_time = valid_time.where(ds[\"leadtime_month\"] != shift, shifted)\n",
    "\n",
    "    # Reindex: valid_time and starting_month\n",
    "    coords = {\n",
    "        \"valid_time\": (\"time\", valid_time),\n",
    "        \"starting_month\": (\"time\", ds[\"time\"].dt.month.data),\n",
    "    }\n",
    "    ds = ds.assign_coords(coords)\n",
    "    ds = ds.set_index({\"time\": tuple(coords)}).unstack(\"time\")\n",
    "    return ds\n",
    "\n",
    "\n",
    "def compute_tercile_occupation(ds, region):\n",
    "    # Mask region\n",
    "    mask = regionmask.defined_regions.srex.mask(ds)\n",
    "    index = regionmask.defined_regions.srex.map_keys(region)\n",
    "    ds = ds.where((mask == index).compute(), drop=True)\n",
    "\n",
    "    if \"leadtime_month\" in ds.dims:\n",
    "        ds = reindex_seasonal_forecast(ds)\n",
    "    else:\n",
    "        ds = ds.rename(forecast_reference_time=\"valid_time\")\n",
    "\n",
    "    # Compute anomaly\n",
    "    climatology = diagnostics.time_weighted_mean(ds, time_name=\"valid_time\")\n",
    "    climatology = climatology.mean(set(climatology.dims) & {\"realization\"})\n",
    "    ds -= climatology\n",
    "\n",
    "    # Reindex using valid year/month month\n",
    "    time = ds[\"valid_time\"]\n",
    "    coords = {\n",
    "        \"valid_year\": (time.name, time.dt.year.data),\n",
    "        \"valid_month\": (time.name, time.dt.month.data),\n",
    "    }\n",
    "    ds = ds.assign_coords(coords)\n",
    "    ds = ds.set_index({time.name: tuple(coords)}).unstack(time.name)\n",
    "\n",
    "    # Spatial mean\n",
    "    ds = diagnostics.spatial_weighted_mean(ds, weights=False)\n",
    "\n",
    "    # Get quantiles\n",
    "    quantiles = ds.chunk(valid_year=-1).quantile([1 / 3, 2 / 3], \"valid_year\")\n",
    "    low = quantiles.sel(quantile=1 / 3)\n",
    "    high = quantiles.sel(quantile=2 / 3)\n",
    "    mask = xr.full_like(ds, None)\n",
    "    mask = xr.where(ds < low, -1, mask)\n",
    "    mask = xr.where((ds >= low) & (ds <= high), 0, mask)\n",
    "    mask = xr.where(ds > high, 1, mask)\n",
    "\n",
    "    if \"realization\" in mask.dims:\n",
    "        # Get mode\n",
    "        mask = mask.reduce(mode, dim=\"realization\")\n",
    "\n",
    "    return mask.reset_coords(drop=True)"
   ]
  },
  {
   "cell_type": "markdown",
   "id": "11",
   "metadata": {},
   "source": [
    "## Download and transform ERA5"
   ]
  },
  {
   "cell_type": "code",
   "execution_count": null,
   "id": "12",
   "metadata": {},
   "outputs": [],
   "source": [
    "# Get the reanalysis data\n",
    "datasets = []\n",
    "for region in regions:\n",
    "    dataarrays = []\n",
    "    for variable in variables:\n",
    "        print(f\"{region=} {variable=}\")\n",
    "        ds = download.download_and_transform(\n",
    "            collection_id_reanalysis,\n",
    "            request_reanalysis | {\"variable\": variable},\n",
    "            chunks=chunks,\n",
    "            transform_chunks=False,\n",
    "            transform_func=compute_tercile_occupation,\n",
    "            transform_func_kwargs={\"region\": region},\n",
    "        )\n",
    "        (da,) = ds.data_vars.values()\n",
    "        dataarrays.append(da.rename(variable))\n",
    "    ds = xr.merge(dataarrays)\n",
    "    datasets.append(ds.expand_dims(region=[region]).compute())\n",
    "ds_reanalysis = xr.concat(datasets, \"region\")\n",
    "del datasets"
   ]
  },
  {
   "cell_type": "markdown",
   "id": "13",
   "metadata": {},
   "source": [
    "## Download and transform seasonal forecast"
   ]
  },
  {
   "cell_type": "code",
   "execution_count": null,
   "id": "14",
   "metadata": {},
   "outputs": [],
   "source": [
    "# Get the seasonal forecast data\n",
    "datasets = []\n",
    "for centre, request_kwargs in centres.items():\n",
    "    for region in regions:\n",
    "        dataarrays = []\n",
    "        for variable in variables:\n",
    "            print(f\"{centre=} {region=} {variable=}\")\n",
    "            if variable in missing_variables.get(centre, []):\n",
    "                print(\"SKIP\")\n",
    "                continue\n",
    "\n",
    "            with tempfile.TemporaryDirectory() as TMPDIR:\n",
    "                ds = download.download_and_transform(\n",
    "                    collection_id_seasonal,\n",
    "                    request_seasonal\n",
    "                    | {\"originating_centre\": centre, \"variable\": variable}\n",
    "                    | request_kwargs,\n",
    "                    chunks=chunks,\n",
    "                    transform_chunks=False,\n",
    "                    transform_func=compute_tercile_occupation,\n",
    "                    transform_func_kwargs={\"region\": region},\n",
    "                    backend_kwargs={\n",
    "                        \"time_dims\": (\n",
    "                            \"forecastMonth\",\n",
    "                            (\n",
    "                                \"indexing_time\"\n",
    "                                if centre in [\"ukmo\", \"jma\", \"ncep\"]\n",
    "                                else \"time\"\n",
    "                            ),\n",
    "                        )\n",
    "                    },\n",
    "                )\n",
    "            (da,) = ds.data_vars.values()\n",
    "            dataarrays.append(da.rename(variable))\n",
    "        ds = xr.merge(dataarrays)\n",
    "        datasets.append(ds.expand_dims(centre=[centre], region=[region]).compute())\n",
    "ds_seasonal = xr.merge(datasets)\n",
    "del datasets"
   ]
  },
  {
   "cell_type": "markdown",
   "id": "15",
   "metadata": {},
   "source": [
    "## Compute and plot hit-rate"
   ]
  },
  {
   "cell_type": "code",
   "execution_count": null,
   "id": "16",
   "metadata": {},
   "outputs": [],
   "source": [
    "hit_rate = (ds_seasonal == ds_reanalysis).sum(\"valid_year\")\n",
    "hit_rate = hit_rate.where(ds_seasonal.notnull().any(\"valid_year\"))\n",
    "for var, da in hit_rate.data_vars.items():\n",
    "    da[\"valid_month\"] = da[\"valid_month\"].astype(str)\n",
    "    da.attrs[\"long_name\"] = \"Hit-Rate\"\n",
    "    facet = da.plot(col=\"centre\", row=\"region\", x=\"valid_month\")\n",
    "    facet.fig.suptitle(f\"{da.name.replace('_', ' ')}\", y=1.01)\n",
    "    plt.show()"
   ]
  },
  {
   "cell_type": "markdown",
   "id": "17",
   "metadata": {},
   "source": [
    "## Debug Plots"
   ]
  },
  {
   "cell_type": "code",
   "execution_count": null,
   "id": "18",
   "metadata": {},
   "outputs": [],
   "source": [
    "def plot_mask(da, **kwargs):\n",
    "    cmap = kwargs.pop(\"cmap\", \"RdYlBu_r\")\n",
    "    kwargs[\"cmap\"] = plt.get_cmap(cmap, 3)\n",
    "    cbar_kwargs = {\"ticks\": [-1, 0, 1]}\n",
    "\n",
    "    da[\"valid_month\"] = da[\"valid_month\"].astype(str)\n",
    "    plot_obj = da.plot(cbar_kwargs=cbar_kwargs, **kwargs)\n",
    "\n",
    "    cbar = (\n",
    "        plot_obj.cbar\n",
    "        if isinstance(plot_obj, xr.plot.facetgrid.FacetGrid)\n",
    "        else plot_obj.colorbar\n",
    "    )\n",
    "    cbar.ax.set_yticklabels([\"Low\", \"Medium\", \"High\"])\n",
    "    return plot_obj"
   ]
  },
  {
   "cell_type": "code",
   "execution_count": null,
   "id": "19",
   "metadata": {},
   "outputs": [],
   "source": [
    "plot_mask(ds_reanalysis[\"2m_temperature\"])"
   ]
  },
  {
   "cell_type": "code",
   "execution_count": null,
   "id": "20",
   "metadata": {},
   "outputs": [],
   "source": [
    "plot_mask(ds_seasonal[\"2m_temperature\"], col=\"valid_year\", col_wrap=5)"
   ]
  }
 ],
 "metadata": {
  "kernelspec": {
   "display_name": "Python 3 (ipykernel)",
   "language": "python",
   "name": "python3"
  },
  "language_info": {
   "codemirror_mode": {
    "name": "ipython",
    "version": 3
   },
   "file_extension": ".py",
   "mimetype": "text/x-python",
   "name": "python",
   "nbconvert_exporter": "python",
   "pygments_lexer": "ipython3",
   "version": "3.11.7"
  }
 },
 "nbformat": 4,
 "nbformat_minor": 5
}
