{
 "cells": [
  {
   "cell_type": "code",
   "execution_count": null,
   "id": "8ca4ee45",
   "metadata": {},
   "outputs": [],
   "source": [
    "import matplotlib.pyplot as plt\n",
    "from c3s_eqc_automatic_quality_control import download, plot, utils\n",
    "\n",
    "plt.style.use(\"seaborn-v0_8-notebook\")"
   ]
  },
  {
   "cell_type": "code",
   "execution_count": null,
   "id": "439d2b27",
   "metadata": {},
   "outputs": [],
   "source": [
    "# Time\n",
    "year_start = 2019\n",
    "year_stop = 2020\n",
    "\n",
    "# Region of interest\n",
    "lon_slice = slice(-10, 0)\n",
    "lat_slice = slice(45, 35)\n",
    "\n",
    "# Download and transform (cached)\n",
    "request = (\n",
    "    \"satellite-land-cover\",\n",
    "    {\n",
    "        \"variable\": \"all\",\n",
    "        \"format\": \"zip\",\n",
    "        \"version\": \"v2.1.1\",\n",
    "        \"year\": [str(year) for year in range(year_start, year_stop + 1)],\n",
    "    },\n",
    ")\n",
    "ds = download.download_and_transform(\n",
    "    *request,\n",
    "    chunks={\"year\": 1},\n",
    "    transform_func=utils.regionalise,\n",
    "    transform_func_kwargs={\"lon_slice\": lon_slice, \"lat_slice\": lat_slice},\n",
    ")\n",
    "\n",
    "# Rename time dimension\n",
    "ds[\"time\"] = ds[\"time\"].dt.year\n",
    "ds = ds.rename(time=\"year\")"
   ]
  },
  {
   "cell_type": "code",
   "execution_count": null,
   "id": "e22dbd2c",
   "metadata": {},
   "outputs": [],
   "source": [
    "help(plot.lccs_map)"
   ]
  },
  {
   "cell_type": "code",
   "execution_count": null,
   "id": "4931a0fe",
   "metadata": {},
   "outputs": [],
   "source": [
    "# Plot multiple years, auto infer colors and legend\n",
    "plot.lccs_map(ds[\"lccs_class\"], row=\"year\", interpolation=\"antialiased\")"
   ]
  },
  {
   "cell_type": "code",
   "execution_count": null,
   "id": "433c9cad",
   "metadata": {},
   "outputs": [],
   "source": [
    "# Plot a single year, specifying color and legend\n",
    "ipcc_dict = {\n",
    "    \"No Data\": ((0.0, 0.0, 0.0), [0]),\n",
    "    \"Agriculture\": ((1.0, 1.0, 0.8), [10, 11, 12, 20, 30, 40]),\n",
    "    \"Forest\": (\n",
    "        (0.2980392156862745, 0.6, 0.0),\n",
    "        [50, 60, 61, 62, 70, 71, 72, 80, 81, 82, 90, 100, 160, 170],\n",
    "    ),\n",
    "    \"Grassland\": ((0.8, 1.0, 0.6), [110, 130]),\n",
    "    \"Other\": (\n",
    "        (0.0, 0.0, 1.0),\n",
    "        [120, 121, 122, 140, 150, 151, 152, 153, 200, 201, 202, 210],\n",
    "    ),\n",
    "    \"Wetland\": ((0.6, 1.0, 1.0), [180]),\n",
    "    \"Settlement\": ((1.0, 0.0, 0.0), [190]),\n",
    "}\n",
    "plot.lccs_map(\n",
    "    ds[\"lccs_class\"].sel(year=2020).squeeze(),\n",
    "    legend_dict=ipcc_dict,\n",
    "    interpolation=\"antialiased\",\n",
    ")"
   ]
  }
 ],
 "metadata": {
  "kernelspec": {
   "display_name": "Python 3 (ipykernel)",
   "language": "python",
   "name": "python3"
  },
  "language_info": {
   "codemirror_mode": {
    "name": "ipython",
    "version": 3
   },
   "file_extension": ".py",
   "mimetype": "text/x-python",
   "name": "python",
   "nbconvert_exporter": "python",
   "pygments_lexer": "ipython3",
   "version": "3.10.9"
  }
 },
 "nbformat": 4,
 "nbformat_minor": 5
}
