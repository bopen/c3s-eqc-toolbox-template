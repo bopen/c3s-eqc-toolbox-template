{
 "cells": [
  {
   "attachments": {},
   "cell_type": "markdown",
   "metadata": {},
   "source": [
    "# APPLICATION TEMPLATE INSITU GRIDDED - SPATIALLY WEIGHTED STATISTICS"
   ]
  },
  {
   "attachments": {},
   "cell_type": "markdown",
   "metadata": {},
   "source": [
    "## Import libraries"
   ]
  },
  {
   "cell_type": "code",
   "execution_count": null,
   "metadata": {},
   "outputs": [],
   "source": [
    "import warnings\n",
    "\n",
    "import cads_toolbox\n",
    "from c3s_eqc_automatic_quality_control import diagnostics, download, plot"
   ]
  },
  {
   "attachments": {},
   "cell_type": "markdown",
   "metadata": {},
   "source": [
    "## Global settings"
   ]
  },
  {
   "cell_type": "code",
   "execution_count": null,
   "metadata": {},
   "outputs": [],
   "source": [
    "warnings.filterwarnings(\"ignore\")\n",
    "cads_toolbox.config.USE_CACHE = True"
   ]
  },
  {
   "attachments": {},
   "cell_type": "markdown",
   "metadata": {},
   "source": [
    "## Set year and statistics to download"
   ]
  },
  {
   "cell_type": "code",
   "execution_count": null,
   "metadata": {},
   "outputs": [],
   "source": [
    "years = list(range(2000, 2010 + 1))\n",
    "statistics = [\n",
    "    \"maximum\",\n",
    "    \"mean\",\n",
    "    \"minimum\",\n",
    "]"
   ]
  },
  {
   "attachments": {},
   "cell_type": "markdown",
   "metadata": {},
   "source": [
    "## Request dictionary"
   ]
  },
  {
   "cell_type": "code",
   "execution_count": null,
   "metadata": {},
   "outputs": [],
   "source": [
    "collection_id = \"insitu-gridded-observations-global-and-regional\"\n",
    "request = {\n",
    "    \"format\": \"zip\",  # Added support for single-file zip archives\n",
    "    \"variable\": \"temperature\",\n",
    "    \"statistic\": statistics,\n",
    "    \"horizontal_aggregation\": \"2_5_x_2_5\",\n",
    "    \"year\": years,\n",
    "    \"version\": \"v4.03\",\n",
    "    \"origin\": \"cru\",\n",
    "    \"region\": \"global\",\n",
    "    \"time_aggregation\": \"monthly\",\n",
    "}"
   ]
  },
  {
   "attachments": {},
   "cell_type": "markdown",
   "metadata": {},
   "source": [
    "## Download and compute spatially weighted mean"
   ]
  },
  {
   "cell_type": "code",
   "execution_count": null,
   "metadata": {},
   "outputs": [],
   "source": [
    "ds_mean = download.download_and_transform(\n",
    "    collection_id,\n",
    "    request,\n",
    "    split_all=True,  # Split in multiple single-file requests\n",
    "    open_with=\"xarray\",\n",
    "    func=diagnostics.spatial_weighted_mean,\n",
    ")"
   ]
  },
  {
   "attachments": {},
   "cell_type": "markdown",
   "metadata": {},
   "source": [
    "## Compute spatially weighted std using cached files"
   ]
  },
  {
   "cell_type": "code",
   "execution_count": null,
   "metadata": {},
   "outputs": [],
   "source": [
    "ds_std = download.download_and_transform(\n",
    "    collection_id,\n",
    "    request,\n",
    "    split_all=1,\n",
    "    open_with=\"xarray\",\n",
    "    func=diagnostics.spatial_weighted_std,  # Added another example of diagnostics\n",
    ")"
   ]
  },
  {
   "attachments": {},
   "cell_type": "markdown",
   "metadata": {},
   "source": [
    "## Plot statistics"
   ]
  },
  {
   "cell_type": "code",
   "execution_count": null,
   "metadata": {},
   "outputs": [],
   "source": [
    "fig = plot.shaded_std(\n",
    "    ds_mean, ds_std, [\"tasmin\", \"tasmax\", \"tas\"], \"Spatially-weighted fields\"\n",
    ")\n",
    "fig.show()\n",
    "fig.write_image(f\"{collection_id}_statistics_{years[0]}-{years[-1]}.png\")"
   ]
  },
  {
   "cell_type": "code",
   "execution_count": null,
   "metadata": {},
   "outputs": [],
   "source": []
  }
 ],
 "metadata": {
  "kernelspec": {
   "display_name": "eqc",
   "language": "python",
   "name": "python3"
  },
  "language_info": {
   "codemirror_mode": {
    "name": "ipython",
    "version": 3
   },
   "file_extension": ".py",
   "mimetype": "text/x-python",
   "name": "python",
   "nbconvert_exporter": "python",
   "pygments_lexer": "ipython3",
   "version": "3.10.8"
  },
  "vscode": {
   "interpreter": {
    "hash": "729d4203989e46368114bc0e0241f9687d8ba807583b0ce0814f678ddcc4eabd"
   }
  }
 },
 "nbformat": 4,
 "nbformat_minor": 2
}
