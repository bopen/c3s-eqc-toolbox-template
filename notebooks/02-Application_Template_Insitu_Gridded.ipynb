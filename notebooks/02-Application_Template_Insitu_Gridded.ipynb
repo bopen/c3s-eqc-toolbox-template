{
 "cells": [
  {
   "cell_type": "code",
   "execution_count": 1,
   "metadata": {},
   "outputs": [],
   "source": [
    "import warnings\n",
    "\n",
    "import cads_toolbox\n",
    "\n",
    "from c3s_eqc_automatic_quality_control import diagnostics, download, plot"
   ]
  },
  {
   "cell_type": "code",
   "execution_count": 2,
   "metadata": {},
   "outputs": [],
   "source": [
    "warnings.filterwarnings(\"ignore\")\n",
    "cads_toolbox.config.USE_CACHE = True"
   ]
  },
  {
   "cell_type": "code",
   "execution_count": 3,
   "metadata": {},
   "outputs": [],
   "source": [
    "years = list(range(2000, 2010 + 1))\n",
    "statistics = [\n",
    "    \"maximum\",\n",
    "    \"mean\",\n",
    "    \"minimum\",\n",
    "]"
   ]
  },
  {
   "cell_type": "code",
   "execution_count": 4,
   "metadata": {},
   "outputs": [],
   "source": [
    "collection_id = \"insitu-gridded-observations-global-and-regional\"\n",
    "request = {\n",
    "    \"format\": \"zip\",  # Added support for single-file zip archives\n",
    "    \"variable\": \"temperature\",\n",
    "    \"statistic\": statistics,\n",
    "    \"horizontal_aggregation\": \"2_5_x_2_5\",\n",
    "    \"year\": years,\n",
    "    \"version\": \"v4.03\",\n",
    "    \"origin\": \"cru\",\n",
    "    \"region\": \"global\",\n",
    "    \"time_aggregation\": \"monthly\",\n",
    "}"
   ]
  },
  {
   "cell_type": "code",
   "execution_count": 5,
   "metadata": {},
   "outputs": [
    {
     "name": "stderr",
     "output_type": "stream",
     "text": [
      "                                                    \r"
     ]
    },
    {
     "ename": "NotImplementedError",
     "evalue": "emohawk.readers.directory.DirectoryReader._to_xarray",
     "output_type": "error",
     "traceback": [
      "\u001b[0;31m---------------------------------------------------------------------------\u001b[0m",
      "\u001b[0;31mNotImplementedError\u001b[0m                       Traceback (most recent call last)",
      "Cell \u001b[0;32mIn[5], line 1\u001b[0m\n\u001b[0;32m----> 1\u001b[0m ds_mean \u001b[39m=\u001b[39m download\u001b[39m.\u001b[39;49mdownload_and_transform(\n\u001b[1;32m      2\u001b[0m     collection_id,\n\u001b[1;32m      3\u001b[0m     request,\n\u001b[1;32m      4\u001b[0m     split_all\u001b[39m=\u001b[39;49m\u001b[39m1\u001b[39;49m,  \u001b[39m# Split in multiple single-file requests\u001b[39;49;00m\n\u001b[1;32m      5\u001b[0m     open_with\u001b[39m=\u001b[39;49m\u001b[39m\"\u001b[39;49m\u001b[39mxarray\u001b[39;49m\u001b[39m\"\u001b[39;49m,\n\u001b[1;32m      6\u001b[0m     func\u001b[39m=\u001b[39;49mdiagnostics\u001b[39m.\u001b[39;49mspatial_weighted_mean,\n\u001b[1;32m      7\u001b[0m )\n",
      "File \u001b[0;32m~/MyGit/eqc/c3s-eqc-automatic-quality-control/c3s_eqc_automatic_quality_control/download.py:343\u001b[0m, in \u001b[0;36mdownload_and_transform\u001b[0;34m(collection_id, requests, chunks, split_all, func, open_with, **kwargs)\u001b[0m\n\u001b[1;32m    341\u001b[0m \u001b[39mfor\u001b[39;00m n, request_chunk \u001b[39min\u001b[39;00m \u001b[39menumerate\u001b[39m(request_list):\n\u001b[1;32m    342\u001b[0m     logging\u001b[39m.\u001b[39minfo(\u001b[39mf\u001b[39m\u001b[39m\"\u001b[39m\u001b[39mGathering file \u001b[39m\u001b[39m{\u001b[39;00mn\u001b[39m+\u001b[39m\u001b[39m1\u001b[39m\u001b[39m}\u001b[39;00m\u001b[39m out of \u001b[39m\u001b[39m{\u001b[39;00m\u001b[39mlen\u001b[39m(request_list)\u001b[39m}\u001b[39;00m\u001b[39m...\u001b[39m\u001b[39m\"\u001b[39m)\n\u001b[0;32m--> 343\u001b[0m     ds \u001b[39m=\u001b[39m download_and_transform_chunk(\n\u001b[1;32m    344\u001b[0m         collection_id, request\u001b[39m=\u001b[39;49mrequest_chunk, func\u001b[39m=\u001b[39;49mfunc, open_with\u001b[39m=\u001b[39;49mopen_with\n\u001b[1;32m    345\u001b[0m     )\n\u001b[1;32m    346\u001b[0m     datasets\u001b[39m.\u001b[39mappend(ds)\n\u001b[1;32m    347\u001b[0m logging\u001b[39m.\u001b[39minfo(\u001b[39m\"\u001b[39m\u001b[39mAggregating data...\u001b[39m\u001b[39m\"\u001b[39m)\n",
      "File \u001b[0;32m~/miniconda3/envs/eqc/lib/python3.10/site-packages/cacholote/cache.py:181\u001b[0m, in \u001b[0;36mcacheable.<locals>.wrapper\u001b[0;34m(__context__, *args, **kwargs)\u001b[0m\n\u001b[1;32m    178\u001b[0m     \u001b[39mreturn\u001b[39;00m _update_last_primary_keys_and_return(session, cache_entry, tag)\n\u001b[1;32m    179\u001b[0m \u001b[39melse\u001b[39;00m:\n\u001b[1;32m    180\u001b[0m     \u001b[39m# Compute result from scratch\u001b[39;00m\n\u001b[0;32m--> 181\u001b[0m     result \u001b[39m=\u001b[39m func(\u001b[39m*\u001b[39;49margs, \u001b[39m*\u001b[39;49m\u001b[39m*\u001b[39;49mkwargs)\n\u001b[1;32m    182\u001b[0m     \u001b[39mtry\u001b[39;00m:\n\u001b[1;32m    183\u001b[0m         \u001b[39m# Update cache\u001b[39;00m\n\u001b[1;32m    184\u001b[0m         cache_entry\u001b[39m.\u001b[39mresult \u001b[39m=\u001b[39m json\u001b[39m.\u001b[39mloads(encode\u001b[39m.\u001b[39mdumps(result))\n",
      "File \u001b[0;32m~/MyGit/eqc/c3s-eqc-automatic-quality-control/c3s_eqc_automatic_quality_control/download.py:291\u001b[0m, in \u001b[0;36mdownload_and_transform_chunk\u001b[0;34m(collection_id, request, func, open_with)\u001b[0m\n\u001b[1;32m    289\u001b[0m remote \u001b[39m=\u001b[39m cads_toolbox\u001b[39m.\u001b[39mcatalogue\u001b[39m.\u001b[39mretrieve(collection_id, request)\n\u001b[1;32m    290\u001b[0m \u001b[39mif\u001b[39;00m open_with \u001b[39m==\u001b[39m \u001b[39m\"\u001b[39m\u001b[39mxarray\u001b[39m\u001b[39m\"\u001b[39m:\n\u001b[0;32m--> 291\u001b[0m     ds \u001b[39m=\u001b[39m remote\u001b[39m.\u001b[39;49mto_xarray(harmonise\u001b[39m=\u001b[39;49m\u001b[39mTrue\u001b[39;49;00m)\n\u001b[1;32m    292\u001b[0m \u001b[39melif\u001b[39;00m open_with \u001b[39m==\u001b[39m \u001b[39m\"\u001b[39m\u001b[39mpandas\u001b[39m\u001b[39m\"\u001b[39m:\n\u001b[1;32m    293\u001b[0m     ds \u001b[39m=\u001b[39m remote\u001b[39m.\u001b[39mto_pandas()\n",
      "File \u001b[0;32m~/miniconda3/envs/eqc/lib/python3.10/site-packages/emohawk/__init__.py:49\u001b[0m, in \u001b[0;36mData.to_xarray\u001b[0;34m(self, harmonise, *args, **kwargs)\u001b[0m\n\u001b[1;32m     48\u001b[0m \u001b[39mdef\u001b[39;00m \u001b[39mto_xarray\u001b[39m(\u001b[39mself\u001b[39m, \u001b[39m*\u001b[39margs, harmonise\u001b[39m=\u001b[39m\u001b[39mFalse\u001b[39;00m, \u001b[39m*\u001b[39m\u001b[39m*\u001b[39mkwargs):\n\u001b[0;32m---> 49\u001b[0m     xarray_object \u001b[39m=\u001b[39m \u001b[39mself\u001b[39;49m\u001b[39m.\u001b[39;49m_to_xarray(\u001b[39mself\u001b[39;49m, \u001b[39m*\u001b[39;49margs, \u001b[39m*\u001b[39;49m\u001b[39m*\u001b[39;49mkwargs)\n\u001b[1;32m     50\u001b[0m     \u001b[39mif\u001b[39;00m harmonise:\n\u001b[1;32m     51\u001b[0m         \u001b[39mimport\u001b[39;00m \u001b[39mcgul\u001b[39;00m\n",
      "File \u001b[0;32m~/miniconda3/envs/eqc/lib/python3.10/site-packages/emohawk/__init__.py:46\u001b[0m, in \u001b[0;36mData._to_xarray\u001b[0;34m(self, *args, **kwargs)\u001b[0m\n\u001b[1;32m     45\u001b[0m \u001b[39mdef\u001b[39;00m \u001b[39m_to_xarray\u001b[39m(\u001b[39mself\u001b[39m, \u001b[39m*\u001b[39margs, \u001b[39m*\u001b[39m\u001b[39m*\u001b[39mkwargs):\n\u001b[0;32m---> 46\u001b[0m     \u001b[39mself\u001b[39;49m\u001b[39m.\u001b[39;49m_not_implemented()\n",
      "File \u001b[0;32m~/miniconda3/envs/eqc/lib/python3.10/site-packages/emohawk/__init__.py:116\u001b[0m, in \u001b[0;36mData._not_implemented\u001b[0;34m(self)\u001b[0m\n\u001b[1;32m    113\u001b[0m module \u001b[39m=\u001b[39m \u001b[39mself\u001b[39m\u001b[39m.\u001b[39m\u001b[39m__class__\u001b[39m\u001b[39m.\u001b[39m\u001b[39m__module__\u001b[39m\n\u001b[1;32m    114\u001b[0m name \u001b[39m=\u001b[39m \u001b[39mself\u001b[39m\u001b[39m.\u001b[39m\u001b[39m__class__\u001b[39m\u001b[39m.\u001b[39m\u001b[39m__name__\u001b[39m\n\u001b[0;32m--> 116\u001b[0m \u001b[39mraise\u001b[39;00m \u001b[39mNotImplementedError\u001b[39;00m(\u001b[39mf\u001b[39m\u001b[39m\"\u001b[39m\u001b[39m{\u001b[39;00mmodule\u001b[39m}\u001b[39;00m\u001b[39m.\u001b[39m\u001b[39m{\u001b[39;00mname\u001b[39m}\u001b[39;00m\u001b[39m.\u001b[39m\u001b[39m{\u001b[39;00mfunc\u001b[39m}\u001b[39;00m\u001b[39m\"\u001b[39m)\n",
      "\u001b[0;31mNotImplementedError\u001b[0m: emohawk.readers.directory.DirectoryReader._to_xarray"
     ]
    }
   ],
   "source": [
    "ds_mean = download.download_and_transform(\n",
    "    collection_id,\n",
    "    request,\n",
    "    split_all=True,  # Split in multiple single-file requests\n",
    "    open_with=\"xarray\",\n",
    "    func=diagnostics.spatial_weighted_mean,\n",
    ")"
   ]
  },
  {
   "cell_type": "code",
   "execution_count": null,
   "metadata": {},
   "outputs": [],
   "source": [
    "ds_std = download.download_and_transform(\n",
    "    collection_id,\n",
    "    request,\n",
    "    split_all=1,\n",
    "    open_with=\"xarray\",\n",
    "    func=diagnostics.spatial_weighted_std,  # Added another example of diagnostics\n",
    ")"
   ]
  },
  {
   "cell_type": "code",
   "execution_count": null,
   "metadata": {},
   "outputs": [],
   "source": [
    "fig = plot.shadowed_std(\n",
    "    ds_mean, ds_std, [\"tasmin\", \"tasmax\", \"tas\"], \"Spatially-weighted fields\"\n",
    ")\n",
    "fig.show()\n",
    "fig.write_image(f\"{collection_id}_statistics_{years[0]}-{years[-1]}.png\")"
   ]
  }
 ],
 "metadata": {
  "kernelspec": {
   "display_name": "eqc",
   "language": "python",
   "name": "python3"
  },
  "language_info": {
   "codemirror_mode": {
    "name": "ipython",
    "version": 3
   },
   "file_extension": ".py",
   "mimetype": "text/x-python",
   "name": "python",
   "nbconvert_exporter": "python",
   "pygments_lexer": "ipython3",
   "version": "3.10.8"
  },
  "vscode": {
   "interpreter": {
    "hash": "729d4203989e46368114bc0e0241f9687d8ba807583b0ce0814f678ddcc4eabd"
   }
  }
 },
 "nbformat": 4,
 "nbformat_minor": 2
}
