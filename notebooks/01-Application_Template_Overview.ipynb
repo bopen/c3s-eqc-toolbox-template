{
 "cells": [
  {
   "attachments": {},
   "cell_type": "markdown",
   "id": "0",
   "metadata": {},
   "source": [
    "## APPLICATION TEMPLATE OVERVIEW - GLOBAL DAILY MEAN TEMPERATURE\n",
    "\n",
    "Templates are built upon `c3s_eqc_automatic_quality_control` (https://github.com/bopen/c3s-eqc-automatic-quality-control)"
   ]
  },
  {
   "attachments": {},
   "cell_type": "markdown",
   "id": "1",
   "metadata": {},
   "source": [
    "`$HOME/.cdsapirc` is used by default.\\\n",
    "If you need to use different credentials, uncomment the lines in the following cell and edit the path to `.cdsapirc`.\\\n",
    "See: https://cds.climate.copernicus.eu/api-how-to"
   ]
  },
  {
   "cell_type": "code",
   "execution_count": null,
   "id": "2",
   "metadata": {},
   "outputs": [],
   "source": [
    "# import os\n",
    "# os.environ[\"CDSAPI_RC\"] = os.path.expanduser(\"~/lastname_firstname/.cdsapirc\")"
   ]
  },
  {
   "attachments": {},
   "cell_type": "markdown",
   "id": "3",
   "metadata": {},
   "source": [
    "Import libraries"
   ]
  },
  {
   "cell_type": "code",
   "execution_count": null,
   "id": "4",
   "metadata": {},
   "outputs": [],
   "source": [
    "import warnings\n",
    "\n",
    "import plotly.express as px\n",
    "import xarray as xr\n",
    "from c3s_eqc_automatic_quality_control import diagnostics, download\n",
    "\n",
    "warnings.filterwarnings(\"ignore\")"
   ]
  },
  {
   "cell_type": "markdown",
   "id": "5",
   "metadata": {},
   "source": [
    "### PROCESSING with Xarray: GLOBAL DAILY MEAN TEMPERATURE 2021-2022"
   ]
  },
  {
   "cell_type": "markdown",
   "id": "6",
   "metadata": {},
   "source": [
    "APPLICATION SUMMARY:\n",
    "\n",
    "- Data requests definition\n",
    "\n",
    "- Processing:\n",
    "\n",
    "  - chunked download\n",
    "  - apply transformation to each chunk\n",
    "  - cache the result on each chunk\n",
    "  - merge all the chunks\n",
    "\n",
    "- Plot the result"
   ]
  },
  {
   "cell_type": "markdown",
   "id": "7",
   "metadata": {},
   "source": [
    "#### REQUEST DEFINITION"
   ]
  },
  {
   "attachments": {},
   "cell_type": "markdown",
   "id": "8",
   "metadata": {},
   "source": [
    "For request definition we use **`download.update_request_date`**.\n",
    "\n",
    "It allows to generate the requests for a given period `[start, stop]` if stop is `None` then compute the stop month as follows:\n",
    "if `current day > switch_month_day`: then `stop_month = current_month - 1`\n",
    "else `stop_month = current_month - 2`\n",
    "\n",
    "Returns the request or the list of requests for the input period."
   ]
  },
  {
   "cell_type": "code",
   "execution_count": null,
   "id": "9",
   "metadata": {},
   "outputs": [],
   "source": [
    "collection_id = \"reanalysis-era5-single-levels\"\n",
    "\n",
    "request = {\n",
    "    \"product_type\": \"reanalysis\",\n",
    "    \"format\": \"grib\",\n",
    "    \"time\": [\"06\", \"18\"],\n",
    "    \"variable\": \"2m_temperature\",\n",
    "}\n",
    "start = \"2022-11\"\n",
    "stop = None"
   ]
  },
  {
   "cell_type": "code",
   "execution_count": null,
   "id": "10",
   "metadata": {},
   "outputs": [],
   "source": [
    "requests = download.update_request_date(\n",
    "    request, start=start, stop=stop, switch_month_day=9\n",
    ")\n",
    "requests"
   ]
  },
  {
   "cell_type": "markdown",
   "id": "11",
   "metadata": {},
   "source": [
    "#### DOWNLOAD and PROCESSING"
   ]
  },
  {
   "attachments": {},
   "cell_type": "markdown",
   "id": "12",
   "metadata": {},
   "source": [
    "The processing will be perform as follows:\n",
    "\n",
    "**Definition of the transformation function `transform_func`** to be applied to each single chunk\n",
    "\n",
    "**Chunk definition**: define how to chunk the request along time dimension (year, month, day):\n",
    "e.g. `chunks={\"year\": 1,\"month\": 1}`. Alternatively, use `split_all=True` to chunk as much as possible.\n",
    "\n",
    "**Download and processing**: for each chunk in time\n",
    "\n",
    "```\n",
    "- Download chunk\n",
    "- Cache the downloaded chunk (optional)\n",
    "- Apply the operation `transform_func` to the chunk\n",
    "- Cache transformed chunk, `transform_func(chunks)` (optional)\n",
    "```\n",
    "\n",
    "Merge all the transformed chunk"
   ]
  },
  {
   "cell_type": "markdown",
   "id": "13",
   "metadata": {},
   "source": [
    "#### Define `f`"
   ]
  },
  {
   "cell_type": "code",
   "execution_count": null,
   "id": "14",
   "metadata": {},
   "outputs": [],
   "source": [
    "def spatial_daily_mean(ds: xr.Dataset) -> xr.Dataset:\n",
    "    ds = diagnostics.spatial_weighted_mean(ds)\n",
    "    return ds.resample(forecast_reference_time=\"1D\").mean(\"forecast_reference_time\")"
   ]
  },
  {
   "cell_type": "markdown",
   "id": "15",
   "metadata": {},
   "source": [
    "#### Define `chunks`"
   ]
  },
  {
   "cell_type": "code",
   "execution_count": null,
   "id": "16",
   "metadata": {},
   "outputs": [],
   "source": [
    "chunks = {\"year\": 1, \"month\": 1}"
   ]
  },
  {
   "cell_type": "markdown",
   "id": "17",
   "metadata": {},
   "source": [
    "#### Perform the download and processing"
   ]
  },
  {
   "cell_type": "code",
   "execution_count": null,
   "id": "18",
   "metadata": {},
   "outputs": [],
   "source": [
    "daily_global_t2m = download.download_and_transform(\n",
    "    collection_id,\n",
    "    requests,\n",
    "    chunks=chunks,\n",
    "    transform_func=spatial_daily_mean,\n",
    ")\n",
    "\n",
    "daily_global_t2m"
   ]
  },
  {
   "cell_type": "markdown",
   "id": "19",
   "metadata": {},
   "source": [
    "#### Plot result"
   ]
  },
  {
   "cell_type": "code",
   "execution_count": null,
   "id": "20",
   "metadata": {},
   "outputs": [],
   "source": [
    "daily_global_t2m = daily_global_t2m.squeeze()\n",
    "fig = px.line(\n",
    "    x=daily_global_t2m[\"forecast_reference_time\"],\n",
    "    y=daily_global_t2m[\"t2m\"] - 273.15,\n",
    ")\n",
    "fig.update_layout(\n",
    "    xaxis_title=\"forecast_reference_time\",\n",
    "    yaxis_title=\"t2m\",\n",
    "    title=\"GLOBAL DAILY MEAN TEMPERATURE 2021-2022\",\n",
    ")\n",
    "fig.show()"
   ]
  },
  {
   "attachments": {},
   "cell_type": "markdown",
   "id": "21",
   "metadata": {},
   "source": [
    "#### Save figure"
   ]
  },
  {
   "cell_type": "code",
   "execution_count": null,
   "id": "22",
   "metadata": {},
   "outputs": [],
   "source": [
    "fig.write_image(\"ERA5_global_daily_mean_temperature_2021-2022.png\")"
   ]
  }
 ],
 "metadata": {
  "kernelspec": {
   "display_name": "eqc",
   "language": "python",
   "name": "python3"
  },
  "language_info": {
   "codemirror_mode": {
    "name": "ipython",
    "version": 3
   },
   "file_extension": ".py",
   "mimetype": "text/x-python",
   "name": "python",
   "nbconvert_exporter": "python",
   "pygments_lexer": "ipython3",
   "version": "3.10.9"
  },
  "vscode": {
   "interpreter": {
    "hash": "39a16a1176456aec0710d6d8dd097fdfd8eece03838aebbaaddfca0f16ac2477"
   }
  }
 },
 "nbformat": 4,
 "nbformat_minor": 5
}
