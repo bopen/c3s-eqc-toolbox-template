{
 "cells": [
  {
   "attachments": {},
   "cell_type": "markdown",
   "metadata": {},
   "source": [
    "# Pressure Levels Reanalysis: Global Timeseries"
   ]
  },
  {
   "attachments": {},
   "cell_type": "markdown",
   "metadata": {},
   "source": [
    "## Import libraries\n",
    "\n",
    "Switch warnings off for better readability."
   ]
  },
  {
   "cell_type": "code",
   "execution_count": null,
   "metadata": {},
   "outputs": [],
   "source": [
    "import warnings\n",
    "\n",
    "from c3s_eqc_automatic_quality_control import diagnostics, download, plot\n",
    "\n",
    "warnings.filterwarnings(\"ignore\")"
   ]
  },
  {
   "attachments": {},
   "cell_type": "markdown",
   "metadata": {},
   "source": [
    "## Define request"
   ]
  },
  {
   "cell_type": "code",
   "execution_count": null,
   "metadata": {},
   "outputs": [],
   "source": [
    "collection_id = \"reanalysis-era5-pressure-levels-monthly-means\"\n",
    "request = {\n",
    "    \"format\": \"grib\",\n",
    "    \"product_type\": \"monthly_averaged_reanalysis\",\n",
    "    \"variable\": \"temperature\",\n",
    "    \"pressure_level\": [\n",
    "        \"5\",\n",
    "        \"10\",\n",
    "        \"50\",\n",
    "        \"100\",\n",
    "        \"500\",\n",
    "        \"1000\",\n",
    "    ],\n",
    "    \"time\": \"00:00\",\n",
    "}\n",
    "start = \"2022-01\"\n",
    "stop = None"
   ]
  },
  {
   "attachments": {},
   "cell_type": "markdown",
   "metadata": {},
   "source": [
    "## Generate requests"
   ]
  },
  {
   "cell_type": "code",
   "execution_count": null,
   "metadata": {},
   "outputs": [],
   "source": [
    "requests = download.update_request_date(request, start=start, stop=stop)"
   ]
  },
  {
   "attachments": {},
   "cell_type": "markdown",
   "metadata": {},
   "source": [
    "## Compute spatially-weighted global mean timeseries"
   ]
  },
  {
   "cell_type": "code",
   "execution_count": null,
   "metadata": {},
   "outputs": [],
   "source": [
    "ds_mean = download.download_and_transform(\n",
    "    collection_id,\n",
    "    requests,\n",
    "    transform_func=diagnostics.spatial_weighted_mean,\n",
    "    chunks={\"year\": 1, \"month\": 1},\n",
    ")"
   ]
  },
  {
   "attachments": {},
   "cell_type": "markdown",
   "metadata": {},
   "source": [
    "## Compute spatially-weighted global std timeseries"
   ]
  },
  {
   "cell_type": "code",
   "execution_count": null,
   "metadata": {},
   "outputs": [],
   "source": [
    "ds_std = download.download_and_transform(\n",
    "    collection_id,\n",
    "    requests,\n",
    "    transform_func=diagnostics.spatial_weighted_std,\n",
    "    chunks={\"year\": 1, \"month\": 1},\n",
    ")"
   ]
  },
  {
   "attachments": {},
   "cell_type": "markdown",
   "metadata": {},
   "source": [
    "## Plot and save figure"
   ]
  },
  {
   "cell_type": "code",
   "execution_count": null,
   "metadata": {},
   "outputs": [],
   "source": [
    "filename = \"_\".join([\"global-timeseries\", collection_id])\n",
    "title = filename.replace(\"-\", \" \").replace(\"_\", \" \").title()\n",
    "fig = plot.shaded_std(\"t\", ds_mean, ds_std, hue_dim=\"plev\", title=title)\n",
    "fig.show()\n",
    "fig.write_image(filename + \".png\")"
   ]
  }
 ],
 "metadata": {
  "kernelspec": {
   "display_name": "eqc",
   "language": "python",
   "name": "python3"
  },
  "language_info": {
   "codemirror_mode": {
    "name": "ipython",
    "version": 3
   },
   "file_extension": ".py",
   "mimetype": "text/x-python",
   "name": "python",
   "nbconvert_exporter": "python",
   "pygments_lexer": "ipython3",
   "version": "3.10.8"
  },
  "vscode": {
   "interpreter": {
    "hash": "39a16a1176456aec0710d6d8dd097fdfd8eece03838aebbaaddfca0f16ac2477"
   }
  }
 },
 "nbformat": 4,
 "nbformat_minor": 2
}
