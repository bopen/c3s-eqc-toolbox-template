{
 "cells": [
  {
   "cell_type": "markdown",
   "id": "ae8bf7b2",
   "metadata": {},
   "source": [
    "## APPLICATION TEMPLATE ERA5 - GLOBAL DAILY MEAN TEMPERATURE\n",
    "\n",
    "package c3s-eqc-toolbox-template (https://github.com/bopen/c3s-eqc-toolbox-template)"
   ]
  },
  {
   "cell_type": "code",
   "execution_count": null,
   "id": "e2ad236a",
   "metadata": {},
   "outputs": [],
   "source": [
    "import plotly.express as px\n",
    "import pandas as pd\n",
    "import xarray as xr\n",
    "\n",
    "import cads_toolbox \n",
    "import c3s_eqc_toolbox_template\n",
    "\n",
    "import warnings\n",
    "warnings.filterwarnings('ignore')"
   ]
  },
  {
   "cell_type": "markdown",
   "id": "e5413ab8",
   "metadata": {},
   "source": [
    "### PROCESSING with Xarray: GLOBAL DAILY MEAN TEMPERATURE 2021-2022 "
   ]
  },
  {
   "cell_type": "markdown",
   "id": "e4c6c63a",
   "metadata": {},
   "source": [
    "APPLICATION SUMMARY:\n",
    "\n",
    "   - Data requests definition\n",
    "   \n",
    "   \n",
    "   - Processing: \n",
    "       - chunked download\n",
    "       - apply tranformation to each chunk\n",
    "       - chache the result on each chunk\n",
    "       - merge all the chunks\n",
    "\n",
    "\n",
    "   - Plot the result"
   ]
  },
  {
   "cell_type": "markdown",
   "id": "cda420f4",
   "metadata": {},
   "source": [
    "#### REQUEST DEFINITION"
   ]
  },
  {
   "cell_type": "markdown",
   "id": "29a64fdc",
   "metadata": {},
   "source": [
    "For request definition we use **`c3s_eqc_toolbox_template.update_request_date`**.\n",
    "\n",
    "It allows to generate the requests for a given period `[start, stop]` if stop is `None` then compute the stop month as follows: \n",
    "if `current day > switch_month_day`: then `stop_month = current_month - 1`\n",
    "else `stop_month = current_month - 2` \n",
    "\n",
    "Returns the request or the list of requests for the input period.  "
   ]
  },
  {
   "cell_type": "code",
   "execution_count": null,
   "id": "b85e649b",
   "metadata": {},
   "outputs": [],
   "source": [
    "collection_id = 'reanalysis-era5-single-levels'\n",
    "\n",
    "request = {\n",
    "    'product_type': 'reanalysis',\n",
    "    'format': 'grib',\n",
    "    'time': [\n",
    "        '06', '18' \n",
    "    ],\n",
    "    'variable': '2m_temperature',\n",
    "}\n",
    "start = \"2021-06\"\n",
    "stop = None # \"2022-06\""
   ]
  },
  {
   "cell_type": "code",
   "execution_count": null,
   "id": "9bac51ad",
   "metadata": {
    "scrolled": false
   },
   "outputs": [],
   "source": [
    "requests = c3s_eqc_toolbox_template.update_request_date(request, start=start, stop=stop, switch_month_day=9)\n",
    "requests"
   ]
  },
  {
   "cell_type": "markdown",
   "id": "a168702f",
   "metadata": {},
   "source": [
    "#### DOWNLOAD and PROCESSING"
   ]
  },
  {
   "cell_type": "markdown",
   "id": "df75d54b",
   "metadata": {},
   "source": [
    "The processing will be perform as follows:\n",
    "\n",
    "**Definition of the transformation `f`** to be applied to each single chunk\n",
    "\n",
    "**Chunk definition**: define how to chunk the request along time dimension (year, month, day): \n",
    "e.g. `chunks={\"year\": 1,\"month\": 1}`\n",
    "\n",
    "\n",
    "**Downlaod and processing**: for each chunk in time\n",
    "    \n",
    "    - Download chunk\n",
    "    - Cache the downloaded chunk (optional)\n",
    "    - Apply the operation `f` to the chunk\n",
    "    - Cache transformed chunk, `f(chunks)` (optional)\n",
    "\n",
    "Merge all the transformed chunk"
   ]
  },
  {
   "cell_type": "markdown",
   "id": "72a0d2f2",
   "metadata": {},
   "source": [
    "#### Define `f`"
   ]
  },
  {
   "cell_type": "code",
   "execution_count": null,
   "id": "231a6d2e",
   "metadata": {},
   "outputs": [],
   "source": [
    "def spatial_daily_mean(ds: xr.Dataset) ->  xr.Dataset:\n",
    "    ds = c3s_eqc_toolbox_template.statistics.spatial_mean(ds)\n",
    "    return ds.resample(time=\"1D\").mean(\"time\")"
   ]
  },
  {
   "cell_type": "markdown",
   "id": "72330a8c",
   "metadata": {},
   "source": [
    "#### Define `chunks`"
   ]
  },
  {
   "cell_type": "code",
   "execution_count": null,
   "id": "df6b9ee6",
   "metadata": {},
   "outputs": [],
   "source": [
    "chunks={\"year\": 1,\"month\": 1}"
   ]
  },
  {
   "cell_type": "markdown",
   "id": "dcf105d9",
   "metadata": {},
   "source": [
    "#### Perform the download and processing"
   ]
  },
  {
   "cell_type": "code",
   "execution_count": null,
   "id": "d5a60b98",
   "metadata": {},
   "outputs": [],
   "source": [
    "cads_toolbox.config.USE_CACHE = True"
   ]
  },
  {
   "cell_type": "code",
   "execution_count": null,
   "id": "fd4beb63",
   "metadata": {
    "scrolled": false
   },
   "outputs": [],
   "source": [
    "daily_global_t2m = c3s_eqc_toolbox_template.download_and_transform(\n",
    "    collection_id, requests, chunks=chunks, f=spatial_daily_mean, open_with=\"xarray\",\n",
    ")\n",
    "\n",
    "daily_global_t2m"
   ]
  },
  {
   "cell_type": "markdown",
   "id": "6e7df77a",
   "metadata": {},
   "source": [
    "#### Plot result "
   ]
  },
  {
   "cell_type": "code",
   "execution_count": null,
   "id": "93acfc6a",
   "metadata": {
    "scrolled": false
   },
   "outputs": [],
   "source": [
    "daily_global_t2m = daily_global_t2m.squeeze()\n",
    "fig = px.line(\n",
    "    x=daily_global_t2m[\"time\"],\n",
    "    y=daily_global_t2m[\"t2m\"] - 273.15, \n",
    ")\n",
    "fig.update_layout(\n",
    "    xaxis_title=\"time\", \n",
    "    yaxis_title=\"t2m\", \n",
    "    title=\"GLOBAL DAILY MEAN TEMPERATURE 2021-2022\"\n",
    ")\n",
    "fig.show()"
   ]
  },
  {
   "cell_type": "code",
   "execution_count": null,
   "id": "7744f417",
   "metadata": {},
   "outputs": [],
   "source": [
    "fig.write_image(\"ERA5_global_daily_mean_temperature_2021-2022.png\")"
   ]
  },
  {
   "cell_type": "markdown",
   "id": "1c22a70e",
   "metadata": {},
   "source": [
    "<hr style=\"border:2px solid gray\">\n",
    "\n",
    "## Example using pandas: DAILY MEAN TEMPERATURE ON ROME 2021-2022"
   ]
  },
  {
   "cell_type": "markdown",
   "id": "8e6a83c9",
   "metadata": {},
   "source": [
    "#### Define operation to be applied to each single chunk"
   ]
  },
  {
   "cell_type": "code",
   "execution_count": null,
   "id": "f0563c75",
   "metadata": {},
   "outputs": [],
   "source": [
    "def daily_mean_on_rome(df: pd.DataFrame)-> pd.DataFrame:\n",
    "    lat, lon = 42, 12.5\n",
    "    df = df.reset_index()\n",
    "    df = df[(df.latitude == 42) & (df.longitude == 12.5)]\n",
    "    return df.groupby(df.valid_time.dt.floor(\"d\")).mean()"
   ]
  },
  {
   "cell_type": "markdown",
   "id": "2843642d",
   "metadata": {},
   "source": [
    "#### Downaload and perform the processing"
   ]
  },
  {
   "cell_type": "code",
   "execution_count": null,
   "id": "5b29b730",
   "metadata": {
    "scrolled": false
   },
   "outputs": [],
   "source": [
    "daily_rome_t2m = c3s_eqc_toolbox_template.download_and_transform(\n",
    "    collection_id, requests, chunks={\"year\": 1,\"month\": 1}, f=daily_mean_on_rome, open_with=\"pandas\")\n",
    "\n",
    "daily_rome_t2m "
   ]
  },
  {
   "cell_type": "markdown",
   "id": "f0e983fb",
   "metadata": {},
   "source": [
    "#### Plot result "
   ]
  },
  {
   "cell_type": "code",
   "execution_count": null,
   "id": "ee442826",
   "metadata": {},
   "outputs": [],
   "source": [
    "daily_global_t2m = daily_rome_t2m.squeeze()\n",
    "fig = px.line(daily_rome_t2m  - 273.15, y=\"t2m\")\n",
    "\n",
    "fig.update_layout(\n",
    "    xaxis_title=\"time\", \n",
    "    yaxis_title=\"t2m\", \n",
    "    title=\"DAILY MEAN TEMPERATURE ON ROME 2021-2022\"\n",
    ")\n",
    "\n",
    "fig.show()"
   ]
  },
  {
   "cell_type": "code",
   "execution_count": null,
   "id": "ffb0075a",
   "metadata": {},
   "outputs": [],
   "source": [
    "fig.write_image(\"ERA5_daily_mean_temperature_on_rome_2021-2022.png\")"
   ]
  }
 ],
 "metadata": {
  "kernelspec": {
   "display_name": "Python 3 (ipykernel)",
   "language": "python",
   "name": "python3"
  },
  "language_info": {
   "codemirror_mode": {
    "name": "ipython",
    "version": 3
   },
   "file_extension": ".py",
   "mimetype": "text/x-python",
   "name": "python",
   "nbconvert_exporter": "python",
   "pygments_lexer": "ipython3",
   "version": "3.10.6"
  }
 },
 "nbformat": 4,
 "nbformat_minor": 5
}
