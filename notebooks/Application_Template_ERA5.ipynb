{
 "cells": [
  {
   "cell_type": "markdown",
   "id": "ae8bf7b2",
   "metadata": {},
   "source": [
    "## APPLICATION TEMPLATE ERA5 - DAILY MEAN TEMPERATURE"
   ]
  },
  {
   "cell_type": "code",
   "execution_count": null,
   "id": "e2ad236a",
   "metadata": {},
   "outputs": [],
   "source": [
    "import numpy as np\n",
    "import plotly.express as px\n",
    "import pandas as pd\n",
    "import xarray as xr\n",
    "\n",
    "import c3s_eqc_toolbox_template\n",
    "\n",
    "import warnings\n",
    "warnings.filterwarnings('ignore')\n"
   ]
  },
  {
   "cell_type": "markdown",
   "id": "cda420f4",
   "metadata": {},
   "source": [
    "### REQUEST DEFINITION"
   ]
  },
  {
   "cell_type": "markdown",
   "id": "80e06b2a",
   "metadata": {},
   "source": [
    "#### Define request"
   ]
  },
  {
   "cell_type": "code",
   "execution_count": null,
   "id": "3c23c51e",
   "metadata": {},
   "outputs": [],
   "source": [
    "collection_id = 'reanalysis-era5-single-levels'\n",
    "\n",
    "request = {\n",
    "    'product_type': 'reanalysis',\n",
    "    'format': 'grib',\n",
    "    'time': [\n",
    "        '06', '18' \n",
    "    ],\n",
    "    'variable': '2m_temperature',\n",
    "}\n",
    "start = \"2022-06\""
   ]
  },
  {
   "cell_type": "markdown",
   "id": "bcadae63",
   "metadata": {},
   "source": [
    "#### Update time request"
   ]
  },
  {
   "cell_type": "code",
   "execution_count": null,
   "id": "cfc71402",
   "metadata": {},
   "outputs": [],
   "source": [
    "requests = c3s_eqc_toolbox_template.update_request_date(request, start=start)\n",
    "requests"
   ]
  },
  {
   "cell_type": "markdown",
   "id": "9960dd23",
   "metadata": {},
   "source": [
    "### PROCESSING with Xarray: GLOBAL DAILY MEAN TEMPERATURE 2021-2022 "
   ]
  },
  {
   "cell_type": "markdown",
   "id": "72a0d2f2",
   "metadata": {},
   "source": [
    "#### Define operation to be applied to each single chunk"
   ]
  },
  {
   "cell_type": "code",
   "execution_count": null,
   "id": "231a6d2e",
   "metadata": {},
   "outputs": [],
   "source": [
    "def spatial_daily_mean(ds: xr.Dataset) ->  xr.Dataset:\n",
    "    ds = c3s_eqc_toolbox_template.statistics.spatial_mean(ds)\n",
    "    return ds.resample(time=\"1D\").mean(\"time\")"
   ]
  },
  {
   "cell_type": "markdown",
   "id": "dcf105d9",
   "metadata": {},
   "source": [
    "#### Perform the processing"
   ]
  },
  {
   "cell_type": "markdown",
   "id": "0abd743a",
   "metadata": {},
   "source": [
    "\n",
    "For each chunk:\n",
    "    \n",
    "- Download chunk\n",
    "- apply the operation `f` to the chunk\n",
    "- cache the transformed chunk\n",
    "\n",
    "Merge all the transformed chunk"
   ]
  },
  {
   "cell_type": "code",
   "execution_count": null,
   "id": "fd4beb63",
   "metadata": {
    "scrolled": false
   },
   "outputs": [],
   "source": [
    "daily_global_t2m = c3s_eqc_toolbox_template.download_and_transform(\n",
    "    collection_id, requests, chunks={\"year\": 1,\"month\": 1}, f=spatial_daily_mean, open_with=\"xarray\"\n",
    ")\n",
    "\n",
    "daily_global_t2m"
   ]
  },
  {
   "cell_type": "markdown",
   "id": "6e7df77a",
   "metadata": {},
   "source": [
    "#### Plot result "
   ]
  },
  {
   "cell_type": "code",
   "execution_count": null,
   "id": "93acfc6a",
   "metadata": {
    "scrolled": false
   },
   "outputs": [],
   "source": [
    "daily_global_t2m = daily_global_t2m.squeeze()\n",
    "fig = px.line(\n",
    "    x=daily_global_t2m[\"time\"],\n",
    "    y=daily_global_t2m[\"t2m\"] - 273.15, \n",
    ")\n",
    "fig.update_layout(\n",
    "    xaxis_title=\"time\", \n",
    "    yaxis_title=\"t2m\", \n",
    "    title=\"GLOBAL DAILY MEAN TEMPERATURE 2021-2022\"\n",
    ")\n",
    "fig.show()"
   ]
  },
  {
   "cell_type": "code",
   "execution_count": null,
   "id": "7744f417",
   "metadata": {},
   "outputs": [],
   "source": [
    "fig.write_image(\"ERA5_global_daily_mean_temperature_2021-2022.png\")"
   ]
  },
  {
   "cell_type": "markdown",
   "id": "1e5f9d63",
   "metadata": {},
   "source": [
    "### PROCESSING with pandas: DAILY MEAN TEMPERATURE ON ROME 2021-2022 "
   ]
  },
  {
   "cell_type": "markdown",
   "id": "cccfc124",
   "metadata": {},
   "source": [
    "#### Define operation to be applied to each single chunk"
   ]
  },
  {
   "cell_type": "code",
   "execution_count": null,
   "id": "d608fd33",
   "metadata": {},
   "outputs": [],
   "source": [
    "def daily_mean_on_rome(df: pd.DataFrame)-> pd.DataFrame:\n",
    "    lat, lon = 42, 12.5\n",
    "    df = df.reset_index()\n",
    "    df = df[(df.latitude == 42) & (df.longitude == 12.5)]\n",
    "    return df.groupby(df.valid_time.dt.floor(\"d\")).mean()"
   ]
  },
  {
   "cell_type": "markdown",
   "id": "4e005c77",
   "metadata": {},
   "source": [
    "#### Perform the processing"
   ]
  },
  {
   "cell_type": "code",
   "execution_count": null,
   "id": "730d794d",
   "metadata": {
    "scrolled": false
   },
   "outputs": [],
   "source": [
    "daily_rome_t2m = c3s_eqc_toolbox_template.download_and_transform(\n",
    "    collection_id, requests, chunks={\"year\": 1,\"month\": 1}, f=daily_mean_on_rome, open_with=\"pandas\")\n",
    "\n",
    "daily_rome_t2m "
   ]
  },
  {
   "cell_type": "markdown",
   "id": "e27114ed",
   "metadata": {},
   "source": [
    "#### Plot result "
   ]
  },
  {
   "cell_type": "code",
   "execution_count": null,
   "id": "6a9e2c24",
   "metadata": {},
   "outputs": [],
   "source": [
    "daily_global_t2m = daily_global_t2m.squeeze()\n",
    "fig = px.line(daily_rome_t2m  - 273.15, y=\"t2m\")\n",
    "\n",
    "fig.update_layout(\n",
    "    xaxis_title=\"time\", \n",
    "    yaxis_title=\"t2m\", \n",
    "    title=\"DAILY MEAN TEMPERATURE ON ROME 2021-2022\"\n",
    ")\n",
    "\n",
    "fig.show()"
   ]
  },
  {
   "cell_type": "code",
   "execution_count": null,
   "id": "89b212a5",
   "metadata": {},
   "outputs": [],
   "source": [
    "fig.write_image(\"ERA5_daily_mean_temperature_on_rome_2021-2022.png\")"
   ]
  }
 ],
 "metadata": {
  "kernelspec": {
   "display_name": "Python 3 (ipykernel)",
   "language": "python",
   "name": "python3"
  },
  "language_info": {
   "codemirror_mode": {
    "name": "ipython",
    "version": 3
   },
   "file_extension": ".py",
   "mimetype": "text/x-python",
   "name": "python",
   "nbconvert_exporter": "python",
   "pygments_lexer": "ipython3",
   "version": "3.10.6"
  }
 },
 "nbformat": 4,
 "nbformat_minor": 5
}
